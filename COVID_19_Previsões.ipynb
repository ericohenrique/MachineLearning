{
  "nbformat": 4,
  "nbformat_minor": 0,
  "metadata": {
    "colab": {
      "name": "COVID_19_Previsões.ipynb",
      "provenance": [],
      "collapsed_sections": [],
      "toc_visible": true,
      "include_colab_link": true
    },
    "kernelspec": {
      "name": "python3",
      "display_name": "Python 3"
    },
    "accelerator": "GPU"
  },
  "cells": [
    {
      "cell_type": "markdown",
      "metadata": {
        "id": "view-in-github",
        "colab_type": "text"
      },
      "source": [
        "<a href=\"https://colab.research.google.com/github/jvataidee/MachineLearning/blob/master/COVID_19_Previs%C3%B5es.ipynb\" target=\"_parent\"><img src=\"https://colab.research.google.com/assets/colab-badge.svg\" alt=\"Open In Colab\"/></a>"
      ]
    },
    {
      "cell_type": "markdown",
      "metadata": {
        "id": "RsGk8NgXIJ0V",
        "colab_type": "text"
      },
      "source": [
        "\n",
        "<p align=\"center\"><img src=\"https://static.wixstatic.com/media/bdd7cb_7cbf8aa255ec468a97ab036d55c121c3~mv2.png/v1/fill/w_408,h_86,al_c,q_85,usm_0.66_1.00_0.01/Ativo%2013%404x.webp\" height=\"75px\"></p>\n",
        "\n",
        "\n",
        "# COVID-19 - Previsões\n",
        "A Organização Mundial da Saúde - Em 31 de dezembro de 2019, a OMS foi alertada sobre vários casos de pneumonia na cidade de Wuhan, província de Hubei, na China. Sendo um vírus completamente novo, causou grande preocupação em todos os lugares do planeta, pois não sabemos como ele afeta as pessoas.\n",
        "\n",
        "<p align=\"center\"><img src=\"https://static.wixstatic.com/media/bdd7cb_c6f54872f8fc4e2599f9a4d6b45498da~mv2.gif\" height=\"200px\"></p>\n",
        "<p></p>\n",
        "\n",
        "Portanto, as informações diárias das pessoas afetadas podem fornecer algumas informações interessantes quando disponibilizadas para a comunidade mais ampla de ciência de dados.\n",
        "\n",
        "- Link para o desafio [Novos Casos](https://www.kaggle.com/sudalairajkumar/novel-corona-virus-2019-dataset)\n",
        "- Notebook Adaptado Jones - IA Expert \n",
        "- [*DataSet*](https://github.com/jvataidee/kangle_COVID19_previsao-de-casos/blob/master/covid_19_data.csv) de novos casos até o dia 01/22/2020\n",
        "\n",
        "Desta forma iremos utilizar de regreçõs lineares, para construir modelos preditivos de casos de mortes pela doença."
      ]
    },
    {
      "cell_type": "markdown",
      "metadata": {
        "id": "D7dSKTYu8Urg",
        "colab_type": "text"
      },
      "source": [
        "# Importação das bibliotecas"
      ]
    },
    {
      "cell_type": "code",
      "metadata": {
        "id": "14So8aVJkWuB",
        "colab_type": "code",
        "colab": {}
      },
      "source": [
        "# Importação das bibliotecas\n",
        "import numpy as np \n",
        "import matplotlib.pyplot as plt \n",
        "import pandas as pd \n",
        "from sklearn.model_selection import train_test_split\n",
        "from sklearn.metrics import mean_absolute_error, mean_squared_error\n",
        "import seaborn as sns\n",
        "\n",
        "# configurar a visualização\n",
        "%matplotlib inline\n",
        "%config InlineBackend.figure_format = 'svg'"
      ],
      "execution_count": null,
      "outputs": []
    },
    {
      "cell_type": "markdown",
      "metadata": {
        "id": "dx_OVgwqqy0p",
        "colab_type": "text"
      },
      "source": [
        "# Importação da bases de dados"
      ]
    },
    {
      "cell_type": "code",
      "metadata": {
        "id": "-BbtOIduJJV_",
        "colab_type": "code",
        "colab": {}
      },
      "source": [
        "df = \"https://raw.githubusercontent.com/jvataidee/kangle_COVID19_previsao-de-casos/master/covid_19_data.csv\"\n",
        "covid = pd.read_csv(df)\n",
        "covid = covid.drop(columns =[\"SNo\"])"
      ],
      "execution_count": null,
      "outputs": []
    },
    {
      "cell_type": "code",
      "metadata": {
        "id": "telECGMeJQNm",
        "colab_type": "code",
        "colab": {
          "base_uri": "https://localhost:8080/",
          "height": 34
        },
        "outputId": "0de94977-f3c3-4706-ef1a-60acf174689d"
      },
      "source": [
        "covid.shape"
      ],
      "execution_count": null,
      "outputs": [
        {
          "output_type": "execute_result",
          "data": {
            "text/plain": [
              "(29426, 7)"
            ]
          },
          "metadata": {
            "tags": []
          },
          "execution_count": 3
        }
      ]
    },
    {
      "cell_type": "code",
      "metadata": {
        "id": "GX89tYOIJTjj",
        "colab_type": "code",
        "colab": {
          "base_uri": "https://localhost:8080/",
          "height": 195
        },
        "outputId": "9f6dbfc8-1ae4-4d96-f585-3e5aeca259e4"
      },
      "source": [
        "covid.head()"
      ],
      "execution_count": null,
      "outputs": [
        {
          "output_type": "execute_result",
          "data": {
            "text/html": [
              "<div>\n",
              "<style scoped>\n",
              "    .dataframe tbody tr th:only-of-type {\n",
              "        vertical-align: middle;\n",
              "    }\n",
              "\n",
              "    .dataframe tbody tr th {\n",
              "        vertical-align: top;\n",
              "    }\n",
              "\n",
              "    .dataframe thead th {\n",
              "        text-align: right;\n",
              "    }\n",
              "</style>\n",
              "<table border=\"1\" class=\"dataframe\">\n",
              "  <thead>\n",
              "    <tr style=\"text-align: right;\">\n",
              "      <th></th>\n",
              "      <th>ObservationDate</th>\n",
              "      <th>Province/State</th>\n",
              "      <th>Country/Region</th>\n",
              "      <th>Last Update</th>\n",
              "      <th>Confirmed</th>\n",
              "      <th>Deaths</th>\n",
              "      <th>Recovered</th>\n",
              "    </tr>\n",
              "  </thead>\n",
              "  <tbody>\n",
              "    <tr>\n",
              "      <th>0</th>\n",
              "      <td>01/22/2020</td>\n",
              "      <td>Anhui</td>\n",
              "      <td>Mainland China</td>\n",
              "      <td>1/22/2020 17:00</td>\n",
              "      <td>1.0</td>\n",
              "      <td>0.0</td>\n",
              "      <td>0.0</td>\n",
              "    </tr>\n",
              "    <tr>\n",
              "      <th>1</th>\n",
              "      <td>01/22/2020</td>\n",
              "      <td>Beijing</td>\n",
              "      <td>Mainland China</td>\n",
              "      <td>1/22/2020 17:00</td>\n",
              "      <td>14.0</td>\n",
              "      <td>0.0</td>\n",
              "      <td>0.0</td>\n",
              "    </tr>\n",
              "    <tr>\n",
              "      <th>2</th>\n",
              "      <td>01/22/2020</td>\n",
              "      <td>Chongqing</td>\n",
              "      <td>Mainland China</td>\n",
              "      <td>1/22/2020 17:00</td>\n",
              "      <td>6.0</td>\n",
              "      <td>0.0</td>\n",
              "      <td>0.0</td>\n",
              "    </tr>\n",
              "    <tr>\n",
              "      <th>3</th>\n",
              "      <td>01/22/2020</td>\n",
              "      <td>Fujian</td>\n",
              "      <td>Mainland China</td>\n",
              "      <td>1/22/2020 17:00</td>\n",
              "      <td>1.0</td>\n",
              "      <td>0.0</td>\n",
              "      <td>0.0</td>\n",
              "    </tr>\n",
              "    <tr>\n",
              "      <th>4</th>\n",
              "      <td>01/22/2020</td>\n",
              "      <td>Gansu</td>\n",
              "      <td>Mainland China</td>\n",
              "      <td>1/22/2020 17:00</td>\n",
              "      <td>0.0</td>\n",
              "      <td>0.0</td>\n",
              "      <td>0.0</td>\n",
              "    </tr>\n",
              "  </tbody>\n",
              "</table>\n",
              "</div>"
            ],
            "text/plain": [
              "  ObservationDate Province/State  Country/Region  ... Confirmed  Deaths  Recovered\n",
              "0      01/22/2020          Anhui  Mainland China  ...       1.0     0.0        0.0\n",
              "1      01/22/2020        Beijing  Mainland China  ...      14.0     0.0        0.0\n",
              "2      01/22/2020      Chongqing  Mainland China  ...       6.0     0.0        0.0\n",
              "3      01/22/2020         Fujian  Mainland China  ...       1.0     0.0        0.0\n",
              "4      01/22/2020          Gansu  Mainland China  ...       0.0     0.0        0.0\n",
              "\n",
              "[5 rows x 7 columns]"
            ]
          },
          "metadata": {
            "tags": []
          },
          "execution_count": 4
        }
      ]
    },
    {
      "cell_type": "code",
      "metadata": {
        "id": "4phTomE3JnzK",
        "colab_type": "code",
        "colab": {
          "base_uri": "https://localhost:8080/",
          "height": 34
        },
        "outputId": "62b3cf5a-d94e-4742-8f95-fff3c50f538a"
      },
      "source": [
        "df_brasil = covid[covid['Country/Region'] == 'Brazil']\n",
        "df_brasil.shape"
      ],
      "execution_count": null,
      "outputs": [
        {
          "output_type": "execute_result",
          "data": {
            "text/plain": [
              "(253, 7)"
            ]
          },
          "metadata": {
            "tags": []
          },
          "execution_count": 5
        }
      ]
    },
    {
      "cell_type": "code",
      "metadata": {
        "id": "GwlfvpT9J7a7",
        "colab_type": "code",
        "colab": {
          "base_uri": "https://localhost:8080/",
          "height": 195
        },
        "outputId": "9b125c06-20bf-49e6-f893-679122ac9a6e"
      },
      "source": [
        "df_brasil.head()"
      ],
      "execution_count": null,
      "outputs": [
        {
          "output_type": "execute_result",
          "data": {
            "text/html": [
              "<div>\n",
              "<style scoped>\n",
              "    .dataframe tbody tr th:only-of-type {\n",
              "        vertical-align: middle;\n",
              "    }\n",
              "\n",
              "    .dataframe tbody tr th {\n",
              "        vertical-align: top;\n",
              "    }\n",
              "\n",
              "    .dataframe thead th {\n",
              "        text-align: right;\n",
              "    }\n",
              "</style>\n",
              "<table border=\"1\" class=\"dataframe\">\n",
              "  <thead>\n",
              "    <tr style=\"text-align: right;\">\n",
              "      <th></th>\n",
              "      <th>ObservationDate</th>\n",
              "      <th>Province/State</th>\n",
              "      <th>Country/Region</th>\n",
              "      <th>Last Update</th>\n",
              "      <th>Confirmed</th>\n",
              "      <th>Deaths</th>\n",
              "      <th>Recovered</th>\n",
              "    </tr>\n",
              "  </thead>\n",
              "  <tbody>\n",
              "    <tr>\n",
              "      <th>82</th>\n",
              "      <td>01/23/2020</td>\n",
              "      <td>NaN</td>\n",
              "      <td>Brazil</td>\n",
              "      <td>1/23/20 17:00</td>\n",
              "      <td>0.0</td>\n",
              "      <td>0.0</td>\n",
              "      <td>0.0</td>\n",
              "    </tr>\n",
              "    <tr>\n",
              "      <th>2455</th>\n",
              "      <td>02/26/2020</td>\n",
              "      <td>NaN</td>\n",
              "      <td>Brazil</td>\n",
              "      <td>2020-02-26T23:53:02</td>\n",
              "      <td>1.0</td>\n",
              "      <td>0.0</td>\n",
              "      <td>0.0</td>\n",
              "    </tr>\n",
              "    <tr>\n",
              "      <th>2559</th>\n",
              "      <td>02/27/2020</td>\n",
              "      <td>NaN</td>\n",
              "      <td>Brazil</td>\n",
              "      <td>2020-02-26T23:53:02</td>\n",
              "      <td>1.0</td>\n",
              "      <td>0.0</td>\n",
              "      <td>0.0</td>\n",
              "    </tr>\n",
              "    <tr>\n",
              "      <th>2668</th>\n",
              "      <td>02/28/2020</td>\n",
              "      <td>NaN</td>\n",
              "      <td>Brazil</td>\n",
              "      <td>2020-02-26T23:53:02</td>\n",
              "      <td>1.0</td>\n",
              "      <td>0.0</td>\n",
              "      <td>0.0</td>\n",
              "    </tr>\n",
              "    <tr>\n",
              "      <th>2776</th>\n",
              "      <td>02/29/2020</td>\n",
              "      <td>NaN</td>\n",
              "      <td>Brazil</td>\n",
              "      <td>2020-02-29T21:03:05</td>\n",
              "      <td>2.0</td>\n",
              "      <td>0.0</td>\n",
              "      <td>0.0</td>\n",
              "    </tr>\n",
              "  </tbody>\n",
              "</table>\n",
              "</div>"
            ],
            "text/plain": [
              "     ObservationDate Province/State  ... Deaths Recovered\n",
              "82        01/23/2020            NaN  ...    0.0       0.0\n",
              "2455      02/26/2020            NaN  ...    0.0       0.0\n",
              "2559      02/27/2020            NaN  ...    0.0       0.0\n",
              "2668      02/28/2020            NaN  ...    0.0       0.0\n",
              "2776      02/29/2020            NaN  ...    0.0       0.0\n",
              "\n",
              "[5 rows x 7 columns]"
            ]
          },
          "metadata": {
            "tags": []
          },
          "execution_count": 6
        }
      ]
    },
    {
      "cell_type": "code",
      "metadata": {
        "id": "qlk9FqTZKRIs",
        "colab_type": "code",
        "colab": {
          "base_uri": "https://localhost:8080/",
          "height": 395
        },
        "outputId": "52259230-25ab-4499-b087-70a67ccefa75"
      },
      "source": [
        "sns.lineplot(df_brasil['ObservationDate'], df_brasil['Confirmed'])\n",
        "plt.xticks(rotation = 20);"
      ],
      "execution_count": null,
      "outputs": [
        {
          "output_type": "display_data",
          "data": {
            "text/plain": [
              "<Figure size 432x288 with 1 Axes>"
            ],
            "image/svg+xml": "<?xml version=\"1.0\" encoding=\"utf-8\" standalone=\"no\"?>\n<!DOCTYPE svg PUBLIC \"-//W3C//DTD SVG 1.1//EN\"\n  \"http://www.w3.org/Graphics/SVG/1.1/DTD/svg11.dtd\">\n<!-- Created with matplotlib (https://matplotlib.org/) -->\n<svg height=\"281.325774pt\" version=\"1.1\" viewBox=\"0 0 421.570767 281.325774\" width=\"421.570767pt\" xmlns=\"http://www.w3.org/2000/svg\" xmlns:xlink=\"http://www.w3.org/1999/xlink\">\n <defs>\n  <style type=\"text/css\">\n*{stroke-linecap:butt;stroke-linejoin:round;}\n  </style>\n </defs>\n <g id=\"figure_1\">\n  <g id=\"patch_1\">\n   <path d=\"M 0 281.325774 \nL 421.570767 281.325774 \nL 421.570767 0 \nL 0 0 \nz\n\" style=\"fill:none;\"/>\n  </g>\n  <g id=\"axes_1\">\n   <g id=\"patch_2\">\n    <path d=\"M 66.053125 224.64 \nL 400.853125 224.64 \nL 400.853125 7.2 \nL 66.053125 7.2 \nz\n\" style=\"fill:#ffffff;\"/>\n   </g>\n   <g id=\"PolyCollection_1\">\n    <defs>\n     <path d=\"M 368.725852 -78.197172 \nL 368.725852 -70.745164 \nL 372.10767 -70.971153 \nL 375.489489 -71.33379 \nL 378.871307 -71.74953 \nL 382.253125 -72.054206 \nL 385.634943 -72.415058 \nL 385.634943 -81.460795 \nL 385.634943 -81.460795 \nL 382.253125 -81.006091 \nL 378.871307 -80.329064 \nL 375.489489 -79.996688 \nL 372.10767 -79.29172 \nL 368.725852 -78.197172 \nz\n\" id=\"m13daecfcee\" style=\"stroke:#1f77b4;stroke-opacity:0.2;\"/>\n    </defs>\n    <g clip-path=\"url(#pf80535d2b9)\">\n     <use style=\"fill:#1f77b4;fill-opacity:0.2;stroke:#1f77b4;stroke-opacity:0.2;\" x=\"0\" xlink:href=\"#m13daecfcee\" y=\"281.325774\"/>\n    </g>\n   </g>\n   <g id=\"matplotlib.axis_1\">\n    <g id=\"xtick_1\">\n     <g id=\"line2d_1\">\n      <defs>\n       <path d=\"M 0 0 \nL 0 3.5 \n\" id=\"m8f29530d53\" style=\"stroke:#000000;stroke-width:0.8;\"/>\n      </defs>\n      <g>\n       <use style=\"stroke:#000000;stroke-width:0.8;\" x=\"81.271307\" xlink:href=\"#m8f29530d53\" y=\"224.64\"/>\n      </g>\n     </g>\n     <g id=\"text_1\">\n      <!-- 01/23/2020 -->\n      <defs>\n       <path d=\"M 31.78125 66.40625 \nQ 24.171875 66.40625 20.328125 58.90625 \nQ 16.5 51.421875 16.5 36.375 \nQ 16.5 21.390625 20.328125 13.890625 \nQ 24.171875 6.390625 31.78125 6.390625 \nQ 39.453125 6.390625 43.28125 13.890625 \nQ 47.125 21.390625 47.125 36.375 \nQ 47.125 51.421875 43.28125 58.90625 \nQ 39.453125 66.40625 31.78125 66.40625 \nz\nM 31.78125 74.21875 \nQ 44.046875 74.21875 50.515625 64.515625 \nQ 56.984375 54.828125 56.984375 36.375 \nQ 56.984375 17.96875 50.515625 8.265625 \nQ 44.046875 -1.421875 31.78125 -1.421875 \nQ 19.53125 -1.421875 13.0625 8.265625 \nQ 6.59375 17.96875 6.59375 36.375 \nQ 6.59375 54.828125 13.0625 64.515625 \nQ 19.53125 74.21875 31.78125 74.21875 \nz\n\" id=\"DejaVuSans-48\"/>\n       <path d=\"M 12.40625 8.296875 \nL 28.515625 8.296875 \nL 28.515625 63.921875 \nL 10.984375 60.40625 \nL 10.984375 69.390625 \nL 28.421875 72.90625 \nL 38.28125 72.90625 \nL 38.28125 8.296875 \nL 54.390625 8.296875 \nL 54.390625 0 \nL 12.40625 0 \nz\n\" id=\"DejaVuSans-49\"/>\n       <path d=\"M 25.390625 72.90625 \nL 33.6875 72.90625 \nL 8.296875 -9.28125 \nL 0 -9.28125 \nz\n\" id=\"DejaVuSans-47\"/>\n       <path d=\"M 19.1875 8.296875 \nL 53.609375 8.296875 \nL 53.609375 0 \nL 7.328125 0 \nL 7.328125 8.296875 \nQ 12.9375 14.109375 22.625 23.890625 \nQ 32.328125 33.6875 34.8125 36.53125 \nQ 39.546875 41.84375 41.421875 45.53125 \nQ 43.3125 49.21875 43.3125 52.78125 \nQ 43.3125 58.59375 39.234375 62.25 \nQ 35.15625 65.921875 28.609375 65.921875 \nQ 23.96875 65.921875 18.8125 64.3125 \nQ 13.671875 62.703125 7.8125 59.421875 \nL 7.8125 69.390625 \nQ 13.765625 71.78125 18.9375 73 \nQ 24.125 74.21875 28.421875 74.21875 \nQ 39.75 74.21875 46.484375 68.546875 \nQ 53.21875 62.890625 53.21875 53.421875 \nQ 53.21875 48.921875 51.53125 44.890625 \nQ 49.859375 40.875 45.40625 35.40625 \nQ 44.1875 33.984375 37.640625 27.21875 \nQ 31.109375 20.453125 19.1875 8.296875 \nz\n\" id=\"DejaVuSans-50\"/>\n       <path d=\"M 40.578125 39.3125 \nQ 47.65625 37.796875 51.625 33 \nQ 55.609375 28.21875 55.609375 21.1875 \nQ 55.609375 10.40625 48.1875 4.484375 \nQ 40.765625 -1.421875 27.09375 -1.421875 \nQ 22.515625 -1.421875 17.65625 -0.515625 \nQ 12.796875 0.390625 7.625 2.203125 \nL 7.625 11.71875 \nQ 11.71875 9.328125 16.59375 8.109375 \nQ 21.484375 6.890625 26.8125 6.890625 \nQ 36.078125 6.890625 40.9375 10.546875 \nQ 45.796875 14.203125 45.796875 21.1875 \nQ 45.796875 27.640625 41.28125 31.265625 \nQ 36.765625 34.90625 28.71875 34.90625 \nL 20.21875 34.90625 \nL 20.21875 43.015625 \nL 29.109375 43.015625 \nQ 36.375 43.015625 40.234375 45.921875 \nQ 44.09375 48.828125 44.09375 54.296875 \nQ 44.09375 59.90625 40.109375 62.90625 \nQ 36.140625 65.921875 28.71875 65.921875 \nQ 24.65625 65.921875 20.015625 65.03125 \nQ 15.375 64.15625 9.8125 62.3125 \nL 9.8125 71.09375 \nQ 15.4375 72.65625 20.34375 73.4375 \nQ 25.25 74.21875 29.59375 74.21875 \nQ 40.828125 74.21875 47.359375 69.109375 \nQ 53.90625 64.015625 53.90625 55.328125 \nQ 53.90625 49.265625 50.4375 45.09375 \nQ 46.96875 40.921875 40.578125 39.3125 \nz\n\" id=\"DejaVuSans-51\"/>\n      </defs>\n      <g transform=\"translate(55.134302 258.493382)rotate(-20)scale(0.1 -0.1)\">\n       <use xlink:href=\"#DejaVuSans-48\"/>\n       <use x=\"63.623047\" xlink:href=\"#DejaVuSans-49\"/>\n       <use x=\"127.246094\" xlink:href=\"#DejaVuSans-47\"/>\n       <use x=\"160.9375\" xlink:href=\"#DejaVuSans-50\"/>\n       <use x=\"224.560547\" xlink:href=\"#DejaVuSans-51\"/>\n       <use x=\"288.183594\" xlink:href=\"#DejaVuSans-47\"/>\n       <use x=\"321.875\" xlink:href=\"#DejaVuSans-50\"/>\n       <use x=\"385.498047\" xlink:href=\"#DejaVuSans-48\"/>\n       <use x=\"449.121094\" xlink:href=\"#DejaVuSans-50\"/>\n       <use x=\"512.744141\" xlink:href=\"#DejaVuSans-48\"/>\n      </g>\n     </g>\n    </g>\n    <g id=\"xtick_2\">\n     <g id=\"line2d_2\">\n      <g>\n       <use style=\"stroke:#000000;stroke-width:0.8;\" x=\"84.653125\" xlink:href=\"#m8f29530d53\" y=\"224.64\"/>\n      </g>\n     </g>\n     <g id=\"text_2\">\n      <!-- 02/26/2020 -->\n      <defs>\n       <path d=\"M 33.015625 40.375 \nQ 26.375 40.375 22.484375 35.828125 \nQ 18.609375 31.296875 18.609375 23.390625 \nQ 18.609375 15.53125 22.484375 10.953125 \nQ 26.375 6.390625 33.015625 6.390625 \nQ 39.65625 6.390625 43.53125 10.953125 \nQ 47.40625 15.53125 47.40625 23.390625 \nQ 47.40625 31.296875 43.53125 35.828125 \nQ 39.65625 40.375 33.015625 40.375 \nz\nM 52.59375 71.296875 \nL 52.59375 62.3125 \nQ 48.875 64.0625 45.09375 64.984375 \nQ 41.3125 65.921875 37.59375 65.921875 \nQ 27.828125 65.921875 22.671875 59.328125 \nQ 17.53125 52.734375 16.796875 39.40625 \nQ 19.671875 43.65625 24.015625 45.921875 \nQ 28.375 48.1875 33.59375 48.1875 \nQ 44.578125 48.1875 50.953125 41.515625 \nQ 57.328125 34.859375 57.328125 23.390625 \nQ 57.328125 12.15625 50.6875 5.359375 \nQ 44.046875 -1.421875 33.015625 -1.421875 \nQ 20.359375 -1.421875 13.671875 8.265625 \nQ 6.984375 17.96875 6.984375 36.375 \nQ 6.984375 53.65625 15.1875 63.9375 \nQ 23.390625 74.21875 37.203125 74.21875 \nQ 40.921875 74.21875 44.703125 73.484375 \nQ 48.484375 72.75 52.59375 71.296875 \nz\n\" id=\"DejaVuSans-54\"/>\n      </defs>\n      <g transform=\"translate(58.51612 258.493382)rotate(-20)scale(0.1 -0.1)\">\n       <use xlink:href=\"#DejaVuSans-48\"/>\n       <use x=\"63.623047\" xlink:href=\"#DejaVuSans-50\"/>\n       <use x=\"127.246094\" xlink:href=\"#DejaVuSans-47\"/>\n       <use x=\"160.9375\" xlink:href=\"#DejaVuSans-50\"/>\n       <use x=\"224.560547\" xlink:href=\"#DejaVuSans-54\"/>\n       <use x=\"288.183594\" xlink:href=\"#DejaVuSans-47\"/>\n       <use x=\"321.875\" xlink:href=\"#DejaVuSans-50\"/>\n       <use x=\"385.498047\" xlink:href=\"#DejaVuSans-48\"/>\n       <use x=\"449.121094\" xlink:href=\"#DejaVuSans-50\"/>\n       <use x=\"512.744141\" xlink:href=\"#DejaVuSans-48\"/>\n      </g>\n     </g>\n    </g>\n    <g id=\"xtick_3\">\n     <g id=\"line2d_3\">\n      <g>\n       <use style=\"stroke:#000000;stroke-width:0.8;\" x=\"88.034943\" xlink:href=\"#m8f29530d53\" y=\"224.64\"/>\n      </g>\n     </g>\n     <g id=\"text_3\">\n      <!-- 02/27/2020 -->\n      <defs>\n       <path d=\"M 8.203125 72.90625 \nL 55.078125 72.90625 \nL 55.078125 68.703125 \nL 28.609375 0 \nL 18.3125 0 \nL 43.21875 64.59375 \nL 8.203125 64.59375 \nz\n\" id=\"DejaVuSans-55\"/>\n      </defs>\n      <g transform=\"translate(61.897938 258.493382)rotate(-20)scale(0.1 -0.1)\">\n       <use xlink:href=\"#DejaVuSans-48\"/>\n       <use x=\"63.623047\" xlink:href=\"#DejaVuSans-50\"/>\n       <use x=\"127.246094\" xlink:href=\"#DejaVuSans-47\"/>\n       <use x=\"160.9375\" xlink:href=\"#DejaVuSans-50\"/>\n       <use x=\"224.560547\" xlink:href=\"#DejaVuSans-55\"/>\n       <use x=\"288.183594\" xlink:href=\"#DejaVuSans-47\"/>\n       <use x=\"321.875\" xlink:href=\"#DejaVuSans-50\"/>\n       <use x=\"385.498047\" xlink:href=\"#DejaVuSans-48\"/>\n       <use x=\"449.121094\" xlink:href=\"#DejaVuSans-50\"/>\n       <use x=\"512.744141\" xlink:href=\"#DejaVuSans-48\"/>\n      </g>\n     </g>\n    </g>\n    <g id=\"xtick_4\">\n     <g id=\"line2d_4\">\n      <g>\n       <use style=\"stroke:#000000;stroke-width:0.8;\" x=\"91.416761\" xlink:href=\"#m8f29530d53\" y=\"224.64\"/>\n      </g>\n     </g>\n     <g id=\"text_4\">\n      <!-- 02/28/2020 -->\n      <defs>\n       <path d=\"M 31.78125 34.625 \nQ 24.75 34.625 20.71875 30.859375 \nQ 16.703125 27.09375 16.703125 20.515625 \nQ 16.703125 13.921875 20.71875 10.15625 \nQ 24.75 6.390625 31.78125 6.390625 \nQ 38.8125 6.390625 42.859375 10.171875 \nQ 46.921875 13.96875 46.921875 20.515625 \nQ 46.921875 27.09375 42.890625 30.859375 \nQ 38.875 34.625 31.78125 34.625 \nz\nM 21.921875 38.8125 \nQ 15.578125 40.375 12.03125 44.71875 \nQ 8.5 49.078125 8.5 55.328125 \nQ 8.5 64.0625 14.71875 69.140625 \nQ 20.953125 74.21875 31.78125 74.21875 \nQ 42.671875 74.21875 48.875 69.140625 \nQ 55.078125 64.0625 55.078125 55.328125 \nQ 55.078125 49.078125 51.53125 44.71875 \nQ 48 40.375 41.703125 38.8125 \nQ 48.828125 37.15625 52.796875 32.3125 \nQ 56.78125 27.484375 56.78125 20.515625 \nQ 56.78125 9.90625 50.3125 4.234375 \nQ 43.84375 -1.421875 31.78125 -1.421875 \nQ 19.734375 -1.421875 13.25 4.234375 \nQ 6.78125 9.90625 6.78125 20.515625 \nQ 6.78125 27.484375 10.78125 32.3125 \nQ 14.796875 37.15625 21.921875 38.8125 \nz\nM 18.3125 54.390625 \nQ 18.3125 48.734375 21.84375 45.5625 \nQ 25.390625 42.390625 31.78125 42.390625 \nQ 38.140625 42.390625 41.71875 45.5625 \nQ 45.3125 48.734375 45.3125 54.390625 \nQ 45.3125 60.0625 41.71875 63.234375 \nQ 38.140625 66.40625 31.78125 66.40625 \nQ 25.390625 66.40625 21.84375 63.234375 \nQ 18.3125 60.0625 18.3125 54.390625 \nz\n\" id=\"DejaVuSans-56\"/>\n      </defs>\n      <g transform=\"translate(65.279756 258.493382)rotate(-20)scale(0.1 -0.1)\">\n       <use xlink:href=\"#DejaVuSans-48\"/>\n       <use x=\"63.623047\" xlink:href=\"#DejaVuSans-50\"/>\n       <use x=\"127.246094\" xlink:href=\"#DejaVuSans-47\"/>\n       <use x=\"160.9375\" xlink:href=\"#DejaVuSans-50\"/>\n       <use x=\"224.560547\" xlink:href=\"#DejaVuSans-56\"/>\n       <use x=\"288.183594\" xlink:href=\"#DejaVuSans-47\"/>\n       <use x=\"321.875\" xlink:href=\"#DejaVuSans-50\"/>\n       <use x=\"385.498047\" xlink:href=\"#DejaVuSans-48\"/>\n       <use x=\"449.121094\" xlink:href=\"#DejaVuSans-50\"/>\n       <use x=\"512.744141\" xlink:href=\"#DejaVuSans-48\"/>\n      </g>\n     </g>\n    </g>\n    <g id=\"xtick_5\">\n     <g id=\"line2d_5\">\n      <g>\n       <use style=\"stroke:#000000;stroke-width:0.8;\" x=\"94.79858\" xlink:href=\"#m8f29530d53\" y=\"224.64\"/>\n      </g>\n     </g>\n     <g id=\"text_5\">\n      <!-- 02/29/2020 -->\n      <defs>\n       <path d=\"M 10.984375 1.515625 \nL 10.984375 10.5 \nQ 14.703125 8.734375 18.5 7.8125 \nQ 22.3125 6.890625 25.984375 6.890625 \nQ 35.75 6.890625 40.890625 13.453125 \nQ 46.046875 20.015625 46.78125 33.40625 \nQ 43.953125 29.203125 39.59375 26.953125 \nQ 35.25 24.703125 29.984375 24.703125 \nQ 19.046875 24.703125 12.671875 31.3125 \nQ 6.296875 37.9375 6.296875 49.421875 \nQ 6.296875 60.640625 12.9375 67.421875 \nQ 19.578125 74.21875 30.609375 74.21875 \nQ 43.265625 74.21875 49.921875 64.515625 \nQ 56.59375 54.828125 56.59375 36.375 \nQ 56.59375 19.140625 48.40625 8.859375 \nQ 40.234375 -1.421875 26.421875 -1.421875 \nQ 22.703125 -1.421875 18.890625 -0.6875 \nQ 15.09375 0.046875 10.984375 1.515625 \nz\nM 30.609375 32.421875 \nQ 37.25 32.421875 41.125 36.953125 \nQ 45.015625 41.5 45.015625 49.421875 \nQ 45.015625 57.28125 41.125 61.84375 \nQ 37.25 66.40625 30.609375 66.40625 \nQ 23.96875 66.40625 20.09375 61.84375 \nQ 16.21875 57.28125 16.21875 49.421875 \nQ 16.21875 41.5 20.09375 36.953125 \nQ 23.96875 32.421875 30.609375 32.421875 \nz\n\" id=\"DejaVuSans-57\"/>\n      </defs>\n      <g transform=\"translate(68.661575 258.493382)rotate(-20)scale(0.1 -0.1)\">\n       <use xlink:href=\"#DejaVuSans-48\"/>\n       <use x=\"63.623047\" xlink:href=\"#DejaVuSans-50\"/>\n       <use x=\"127.246094\" xlink:href=\"#DejaVuSans-47\"/>\n       <use x=\"160.9375\" xlink:href=\"#DejaVuSans-50\"/>\n       <use x=\"224.560547\" xlink:href=\"#DejaVuSans-57\"/>\n       <use x=\"288.183594\" xlink:href=\"#DejaVuSans-47\"/>\n       <use x=\"321.875\" xlink:href=\"#DejaVuSans-50\"/>\n       <use x=\"385.498047\" xlink:href=\"#DejaVuSans-48\"/>\n       <use x=\"449.121094\" xlink:href=\"#DejaVuSans-50\"/>\n       <use x=\"512.744141\" xlink:href=\"#DejaVuSans-48\"/>\n      </g>\n     </g>\n    </g>\n    <g id=\"xtick_6\">\n     <g id=\"line2d_6\">\n      <g>\n       <use style=\"stroke:#000000;stroke-width:0.8;\" x=\"98.180398\" xlink:href=\"#m8f29530d53\" y=\"224.64\"/>\n      </g>\n     </g>\n     <g id=\"text_6\">\n      <!-- 03/01/2020 -->\n      <g transform=\"translate(72.043393 258.493382)rotate(-20)scale(0.1 -0.1)\">\n       <use xlink:href=\"#DejaVuSans-48\"/>\n       <use x=\"63.623047\" xlink:href=\"#DejaVuSans-51\"/>\n       <use x=\"127.246094\" xlink:href=\"#DejaVuSans-47\"/>\n       <use x=\"160.9375\" xlink:href=\"#DejaVuSans-48\"/>\n       <use x=\"224.560547\" xlink:href=\"#DejaVuSans-49\"/>\n       <use x=\"288.183594\" xlink:href=\"#DejaVuSans-47\"/>\n       <use x=\"321.875\" xlink:href=\"#DejaVuSans-50\"/>\n       <use x=\"385.498047\" xlink:href=\"#DejaVuSans-48\"/>\n       <use x=\"449.121094\" xlink:href=\"#DejaVuSans-50\"/>\n       <use x=\"512.744141\" xlink:href=\"#DejaVuSans-48\"/>\n      </g>\n     </g>\n    </g>\n    <g id=\"xtick_7\">\n     <g id=\"line2d_7\">\n      <g>\n       <use style=\"stroke:#000000;stroke-width:0.8;\" x=\"101.562216\" xlink:href=\"#m8f29530d53\" y=\"224.64\"/>\n      </g>\n     </g>\n     <g id=\"text_7\">\n      <!-- 03/02/2020 -->\n      <g transform=\"translate(75.425211 258.493382)rotate(-20)scale(0.1 -0.1)\">\n       <use xlink:href=\"#DejaVuSans-48\"/>\n       <use x=\"63.623047\" xlink:href=\"#DejaVuSans-51\"/>\n       <use x=\"127.246094\" xlink:href=\"#DejaVuSans-47\"/>\n       <use x=\"160.9375\" xlink:href=\"#DejaVuSans-48\"/>\n       <use x=\"224.560547\" xlink:href=\"#DejaVuSans-50\"/>\n       <use x=\"288.183594\" xlink:href=\"#DejaVuSans-47\"/>\n       <use x=\"321.875\" xlink:href=\"#DejaVuSans-50\"/>\n       <use x=\"385.498047\" xlink:href=\"#DejaVuSans-48\"/>\n       <use x=\"449.121094\" xlink:href=\"#DejaVuSans-50\"/>\n       <use x=\"512.744141\" xlink:href=\"#DejaVuSans-48\"/>\n      </g>\n     </g>\n    </g>\n    <g id=\"xtick_8\">\n     <g id=\"line2d_8\">\n      <g>\n       <use style=\"stroke:#000000;stroke-width:0.8;\" x=\"104.944034\" xlink:href=\"#m8f29530d53\" y=\"224.64\"/>\n      </g>\n     </g>\n     <g id=\"text_8\">\n      <!-- 03/03/2020 -->\n      <g transform=\"translate(78.807029 258.493382)rotate(-20)scale(0.1 -0.1)\">\n       <use xlink:href=\"#DejaVuSans-48\"/>\n       <use x=\"63.623047\" xlink:href=\"#DejaVuSans-51\"/>\n       <use x=\"127.246094\" xlink:href=\"#DejaVuSans-47\"/>\n       <use x=\"160.9375\" xlink:href=\"#DejaVuSans-48\"/>\n       <use x=\"224.560547\" xlink:href=\"#DejaVuSans-51\"/>\n       <use x=\"288.183594\" xlink:href=\"#DejaVuSans-47\"/>\n       <use x=\"321.875\" xlink:href=\"#DejaVuSans-50\"/>\n       <use x=\"385.498047\" xlink:href=\"#DejaVuSans-48\"/>\n       <use x=\"449.121094\" xlink:href=\"#DejaVuSans-50\"/>\n       <use x=\"512.744141\" xlink:href=\"#DejaVuSans-48\"/>\n      </g>\n     </g>\n    </g>\n    <g id=\"xtick_9\">\n     <g id=\"line2d_9\">\n      <g>\n       <use style=\"stroke:#000000;stroke-width:0.8;\" x=\"108.325852\" xlink:href=\"#m8f29530d53\" y=\"224.64\"/>\n      </g>\n     </g>\n     <g id=\"text_9\">\n      <!-- 03/04/2020 -->\n      <defs>\n       <path d=\"M 37.796875 64.3125 \nL 12.890625 25.390625 \nL 37.796875 25.390625 \nz\nM 35.203125 72.90625 \nL 47.609375 72.90625 \nL 47.609375 25.390625 \nL 58.015625 25.390625 \nL 58.015625 17.1875 \nL 47.609375 17.1875 \nL 47.609375 0 \nL 37.796875 0 \nL 37.796875 17.1875 \nL 4.890625 17.1875 \nL 4.890625 26.703125 \nz\n\" id=\"DejaVuSans-52\"/>\n      </defs>\n      <g transform=\"translate(82.188847 258.493382)rotate(-20)scale(0.1 -0.1)\">\n       <use xlink:href=\"#DejaVuSans-48\"/>\n       <use x=\"63.623047\" xlink:href=\"#DejaVuSans-51\"/>\n       <use x=\"127.246094\" xlink:href=\"#DejaVuSans-47\"/>\n       <use x=\"160.9375\" xlink:href=\"#DejaVuSans-48\"/>\n       <use x=\"224.560547\" xlink:href=\"#DejaVuSans-52\"/>\n       <use x=\"288.183594\" xlink:href=\"#DejaVuSans-47\"/>\n       <use x=\"321.875\" xlink:href=\"#DejaVuSans-50\"/>\n       <use x=\"385.498047\" xlink:href=\"#DejaVuSans-48\"/>\n       <use x=\"449.121094\" xlink:href=\"#DejaVuSans-50\"/>\n       <use x=\"512.744141\" xlink:href=\"#DejaVuSans-48\"/>\n      </g>\n     </g>\n    </g>\n    <g id=\"xtick_10\">\n     <g id=\"line2d_10\">\n      <g>\n       <use style=\"stroke:#000000;stroke-width:0.8;\" x=\"111.70767\" xlink:href=\"#m8f29530d53\" y=\"224.64\"/>\n      </g>\n     </g>\n     <g id=\"text_10\">\n      <!-- 03/05/2020 -->\n      <defs>\n       <path d=\"M 10.796875 72.90625 \nL 49.515625 72.90625 \nL 49.515625 64.59375 \nL 19.828125 64.59375 \nL 19.828125 46.734375 \nQ 21.96875 47.46875 24.109375 47.828125 \nQ 26.265625 48.1875 28.421875 48.1875 \nQ 40.625 48.1875 47.75 41.5 \nQ 54.890625 34.8125 54.890625 23.390625 \nQ 54.890625 11.625 47.5625 5.09375 \nQ 40.234375 -1.421875 26.90625 -1.421875 \nQ 22.3125 -1.421875 17.546875 -0.640625 \nQ 12.796875 0.140625 7.71875 1.703125 \nL 7.71875 11.625 \nQ 12.109375 9.234375 16.796875 8.0625 \nQ 21.484375 6.890625 26.703125 6.890625 \nQ 35.15625 6.890625 40.078125 11.328125 \nQ 45.015625 15.765625 45.015625 23.390625 \nQ 45.015625 31 40.078125 35.4375 \nQ 35.15625 39.890625 26.703125 39.890625 \nQ 22.75 39.890625 18.8125 39.015625 \nQ 14.890625 38.140625 10.796875 36.28125 \nz\n\" id=\"DejaVuSans-53\"/>\n      </defs>\n      <g transform=\"translate(85.570666 258.493382)rotate(-20)scale(0.1 -0.1)\">\n       <use xlink:href=\"#DejaVuSans-48\"/>\n       <use x=\"63.623047\" xlink:href=\"#DejaVuSans-51\"/>\n       <use x=\"127.246094\" xlink:href=\"#DejaVuSans-47\"/>\n       <use x=\"160.9375\" xlink:href=\"#DejaVuSans-48\"/>\n       <use x=\"224.560547\" xlink:href=\"#DejaVuSans-53\"/>\n       <use x=\"288.183594\" xlink:href=\"#DejaVuSans-47\"/>\n       <use x=\"321.875\" xlink:href=\"#DejaVuSans-50\"/>\n       <use x=\"385.498047\" xlink:href=\"#DejaVuSans-48\"/>\n       <use x=\"449.121094\" xlink:href=\"#DejaVuSans-50\"/>\n       <use x=\"512.744141\" xlink:href=\"#DejaVuSans-48\"/>\n      </g>\n     </g>\n    </g>\n    <g id=\"xtick_11\">\n     <g id=\"line2d_11\">\n      <g>\n       <use style=\"stroke:#000000;stroke-width:0.8;\" x=\"115.089489\" xlink:href=\"#m8f29530d53\" y=\"224.64\"/>\n      </g>\n     </g>\n     <g id=\"text_11\">\n      <!-- 03/06/2020 -->\n      <g transform=\"translate(88.952484 258.493382)rotate(-20)scale(0.1 -0.1)\">\n       <use xlink:href=\"#DejaVuSans-48\"/>\n       <use x=\"63.623047\" xlink:href=\"#DejaVuSans-51\"/>\n       <use x=\"127.246094\" xlink:href=\"#DejaVuSans-47\"/>\n       <use x=\"160.9375\" xlink:href=\"#DejaVuSans-48\"/>\n       <use x=\"224.560547\" xlink:href=\"#DejaVuSans-54\"/>\n       <use x=\"288.183594\" xlink:href=\"#DejaVuSans-47\"/>\n       <use x=\"321.875\" xlink:href=\"#DejaVuSans-50\"/>\n       <use x=\"385.498047\" xlink:href=\"#DejaVuSans-48\"/>\n       <use x=\"449.121094\" xlink:href=\"#DejaVuSans-50\"/>\n       <use x=\"512.744141\" xlink:href=\"#DejaVuSans-48\"/>\n      </g>\n     </g>\n    </g>\n    <g id=\"xtick_12\">\n     <g id=\"line2d_12\">\n      <g>\n       <use style=\"stroke:#000000;stroke-width:0.8;\" x=\"118.471307\" xlink:href=\"#m8f29530d53\" y=\"224.64\"/>\n      </g>\n     </g>\n     <g id=\"text_12\">\n      <!-- 03/07/2020 -->\n      <g transform=\"translate(92.334302 258.493382)rotate(-20)scale(0.1 -0.1)\">\n       <use xlink:href=\"#DejaVuSans-48\"/>\n       <use x=\"63.623047\" xlink:href=\"#DejaVuSans-51\"/>\n       <use x=\"127.246094\" xlink:href=\"#DejaVuSans-47\"/>\n       <use x=\"160.9375\" xlink:href=\"#DejaVuSans-48\"/>\n       <use x=\"224.560547\" xlink:href=\"#DejaVuSans-55\"/>\n       <use x=\"288.183594\" xlink:href=\"#DejaVuSans-47\"/>\n       <use x=\"321.875\" xlink:href=\"#DejaVuSans-50\"/>\n       <use x=\"385.498047\" xlink:href=\"#DejaVuSans-48\"/>\n       <use x=\"449.121094\" xlink:href=\"#DejaVuSans-50\"/>\n       <use x=\"512.744141\" xlink:href=\"#DejaVuSans-48\"/>\n      </g>\n     </g>\n    </g>\n    <g id=\"xtick_13\">\n     <g id=\"line2d_13\">\n      <g>\n       <use style=\"stroke:#000000;stroke-width:0.8;\" x=\"121.853125\" xlink:href=\"#m8f29530d53\" y=\"224.64\"/>\n      </g>\n     </g>\n     <g id=\"text_13\">\n      <!-- 03/08/2020 -->\n      <g transform=\"translate(95.71612 258.493382)rotate(-20)scale(0.1 -0.1)\">\n       <use xlink:href=\"#DejaVuSans-48\"/>\n       <use x=\"63.623047\" xlink:href=\"#DejaVuSans-51\"/>\n       <use x=\"127.246094\" xlink:href=\"#DejaVuSans-47\"/>\n       <use x=\"160.9375\" xlink:href=\"#DejaVuSans-48\"/>\n       <use x=\"224.560547\" xlink:href=\"#DejaVuSans-56\"/>\n       <use x=\"288.183594\" xlink:href=\"#DejaVuSans-47\"/>\n       <use x=\"321.875\" xlink:href=\"#DejaVuSans-50\"/>\n       <use x=\"385.498047\" xlink:href=\"#DejaVuSans-48\"/>\n       <use x=\"449.121094\" xlink:href=\"#DejaVuSans-50\"/>\n       <use x=\"512.744141\" xlink:href=\"#DejaVuSans-48\"/>\n      </g>\n     </g>\n    </g>\n    <g id=\"xtick_14\">\n     <g id=\"line2d_14\">\n      <g>\n       <use style=\"stroke:#000000;stroke-width:0.8;\" x=\"125.234943\" xlink:href=\"#m8f29530d53\" y=\"224.64\"/>\n      </g>\n     </g>\n     <g id=\"text_14\">\n      <!-- 03/09/2020 -->\n      <g transform=\"translate(99.097938 258.493382)rotate(-20)scale(0.1 -0.1)\">\n       <use xlink:href=\"#DejaVuSans-48\"/>\n       <use x=\"63.623047\" xlink:href=\"#DejaVuSans-51\"/>\n       <use x=\"127.246094\" xlink:href=\"#DejaVuSans-47\"/>\n       <use x=\"160.9375\" xlink:href=\"#DejaVuSans-48\"/>\n       <use x=\"224.560547\" xlink:href=\"#DejaVuSans-57\"/>\n       <use x=\"288.183594\" xlink:href=\"#DejaVuSans-47\"/>\n       <use x=\"321.875\" xlink:href=\"#DejaVuSans-50\"/>\n       <use x=\"385.498047\" xlink:href=\"#DejaVuSans-48\"/>\n       <use x=\"449.121094\" xlink:href=\"#DejaVuSans-50\"/>\n       <use x=\"512.744141\" xlink:href=\"#DejaVuSans-48\"/>\n      </g>\n     </g>\n    </g>\n    <g id=\"xtick_15\">\n     <g id=\"line2d_15\">\n      <g>\n       <use style=\"stroke:#000000;stroke-width:0.8;\" x=\"128.616761\" xlink:href=\"#m8f29530d53\" y=\"224.64\"/>\n      </g>\n     </g>\n     <g id=\"text_15\">\n      <!-- 03/10/2020 -->\n      <g transform=\"translate(102.479756 258.493382)rotate(-20)scale(0.1 -0.1)\">\n       <use xlink:href=\"#DejaVuSans-48\"/>\n       <use x=\"63.623047\" xlink:href=\"#DejaVuSans-51\"/>\n       <use x=\"127.246094\" xlink:href=\"#DejaVuSans-47\"/>\n       <use x=\"160.9375\" xlink:href=\"#DejaVuSans-49\"/>\n       <use x=\"224.560547\" xlink:href=\"#DejaVuSans-48\"/>\n       <use x=\"288.183594\" xlink:href=\"#DejaVuSans-47\"/>\n       <use x=\"321.875\" xlink:href=\"#DejaVuSans-50\"/>\n       <use x=\"385.498047\" xlink:href=\"#DejaVuSans-48\"/>\n       <use x=\"449.121094\" xlink:href=\"#DejaVuSans-50\"/>\n       <use x=\"512.744141\" xlink:href=\"#DejaVuSans-48\"/>\n      </g>\n     </g>\n    </g>\n    <g id=\"xtick_16\">\n     <g id=\"line2d_16\">\n      <g>\n       <use style=\"stroke:#000000;stroke-width:0.8;\" x=\"131.99858\" xlink:href=\"#m8f29530d53\" y=\"224.64\"/>\n      </g>\n     </g>\n     <g id=\"text_16\">\n      <!-- 03/11/2020 -->\n      <g transform=\"translate(105.861575 258.493382)rotate(-20)scale(0.1 -0.1)\">\n       <use xlink:href=\"#DejaVuSans-48\"/>\n       <use x=\"63.623047\" xlink:href=\"#DejaVuSans-51\"/>\n       <use x=\"127.246094\" xlink:href=\"#DejaVuSans-47\"/>\n       <use x=\"160.9375\" xlink:href=\"#DejaVuSans-49\"/>\n       <use x=\"224.560547\" xlink:href=\"#DejaVuSans-49\"/>\n       <use x=\"288.183594\" xlink:href=\"#DejaVuSans-47\"/>\n       <use x=\"321.875\" xlink:href=\"#DejaVuSans-50\"/>\n       <use x=\"385.498047\" xlink:href=\"#DejaVuSans-48\"/>\n       <use x=\"449.121094\" xlink:href=\"#DejaVuSans-50\"/>\n       <use x=\"512.744141\" xlink:href=\"#DejaVuSans-48\"/>\n      </g>\n     </g>\n    </g>\n    <g id=\"xtick_17\">\n     <g id=\"line2d_17\">\n      <g>\n       <use style=\"stroke:#000000;stroke-width:0.8;\" x=\"135.380398\" xlink:href=\"#m8f29530d53\" y=\"224.64\"/>\n      </g>\n     </g>\n     <g id=\"text_17\">\n      <!-- 03/12/2020 -->\n      <g transform=\"translate(109.243393 258.493382)rotate(-20)scale(0.1 -0.1)\">\n       <use xlink:href=\"#DejaVuSans-48\"/>\n       <use x=\"63.623047\" xlink:href=\"#DejaVuSans-51\"/>\n       <use x=\"127.246094\" xlink:href=\"#DejaVuSans-47\"/>\n       <use x=\"160.9375\" xlink:href=\"#DejaVuSans-49\"/>\n       <use x=\"224.560547\" xlink:href=\"#DejaVuSans-50\"/>\n       <use x=\"288.183594\" xlink:href=\"#DejaVuSans-47\"/>\n       <use x=\"321.875\" xlink:href=\"#DejaVuSans-50\"/>\n       <use x=\"385.498047\" xlink:href=\"#DejaVuSans-48\"/>\n       <use x=\"449.121094\" xlink:href=\"#DejaVuSans-50\"/>\n       <use x=\"512.744141\" xlink:href=\"#DejaVuSans-48\"/>\n      </g>\n     </g>\n    </g>\n    <g id=\"xtick_18\">\n     <g id=\"line2d_18\">\n      <g>\n       <use style=\"stroke:#000000;stroke-width:0.8;\" x=\"138.762216\" xlink:href=\"#m8f29530d53\" y=\"224.64\"/>\n      </g>\n     </g>\n     <g id=\"text_18\">\n      <!-- 03/13/2020 -->\n      <g transform=\"translate(112.625211 258.493382)rotate(-20)scale(0.1 -0.1)\">\n       <use xlink:href=\"#DejaVuSans-48\"/>\n       <use x=\"63.623047\" xlink:href=\"#DejaVuSans-51\"/>\n       <use x=\"127.246094\" xlink:href=\"#DejaVuSans-47\"/>\n       <use x=\"160.9375\" xlink:href=\"#DejaVuSans-49\"/>\n       <use x=\"224.560547\" xlink:href=\"#DejaVuSans-51\"/>\n       <use x=\"288.183594\" xlink:href=\"#DejaVuSans-47\"/>\n       <use x=\"321.875\" xlink:href=\"#DejaVuSans-50\"/>\n       <use x=\"385.498047\" xlink:href=\"#DejaVuSans-48\"/>\n       <use x=\"449.121094\" xlink:href=\"#DejaVuSans-50\"/>\n       <use x=\"512.744141\" xlink:href=\"#DejaVuSans-48\"/>\n      </g>\n     </g>\n    </g>\n    <g id=\"xtick_19\">\n     <g id=\"line2d_19\">\n      <g>\n       <use style=\"stroke:#000000;stroke-width:0.8;\" x=\"142.144034\" xlink:href=\"#m8f29530d53\" y=\"224.64\"/>\n      </g>\n     </g>\n     <g id=\"text_19\">\n      <!-- 03/14/2020 -->\n      <g transform=\"translate(116.007029 258.493382)rotate(-20)scale(0.1 -0.1)\">\n       <use xlink:href=\"#DejaVuSans-48\"/>\n       <use x=\"63.623047\" xlink:href=\"#DejaVuSans-51\"/>\n       <use x=\"127.246094\" xlink:href=\"#DejaVuSans-47\"/>\n       <use x=\"160.9375\" xlink:href=\"#DejaVuSans-49\"/>\n       <use x=\"224.560547\" xlink:href=\"#DejaVuSans-52\"/>\n       <use x=\"288.183594\" xlink:href=\"#DejaVuSans-47\"/>\n       <use x=\"321.875\" xlink:href=\"#DejaVuSans-50\"/>\n       <use x=\"385.498047\" xlink:href=\"#DejaVuSans-48\"/>\n       <use x=\"449.121094\" xlink:href=\"#DejaVuSans-50\"/>\n       <use x=\"512.744141\" xlink:href=\"#DejaVuSans-48\"/>\n      </g>\n     </g>\n    </g>\n    <g id=\"xtick_20\">\n     <g id=\"line2d_20\">\n      <g>\n       <use style=\"stroke:#000000;stroke-width:0.8;\" x=\"145.525852\" xlink:href=\"#m8f29530d53\" y=\"224.64\"/>\n      </g>\n     </g>\n     <g id=\"text_20\">\n      <!-- 03/15/2020 -->\n      <g transform=\"translate(119.388847 258.493382)rotate(-20)scale(0.1 -0.1)\">\n       <use xlink:href=\"#DejaVuSans-48\"/>\n       <use x=\"63.623047\" xlink:href=\"#DejaVuSans-51\"/>\n       <use x=\"127.246094\" xlink:href=\"#DejaVuSans-47\"/>\n       <use x=\"160.9375\" xlink:href=\"#DejaVuSans-49\"/>\n       <use x=\"224.560547\" xlink:href=\"#DejaVuSans-53\"/>\n       <use x=\"288.183594\" xlink:href=\"#DejaVuSans-47\"/>\n       <use x=\"321.875\" xlink:href=\"#DejaVuSans-50\"/>\n       <use x=\"385.498047\" xlink:href=\"#DejaVuSans-48\"/>\n       <use x=\"449.121094\" xlink:href=\"#DejaVuSans-50\"/>\n       <use x=\"512.744141\" xlink:href=\"#DejaVuSans-48\"/>\n      </g>\n     </g>\n    </g>\n    <g id=\"xtick_21\">\n     <g id=\"line2d_21\">\n      <g>\n       <use style=\"stroke:#000000;stroke-width:0.8;\" x=\"148.90767\" xlink:href=\"#m8f29530d53\" y=\"224.64\"/>\n      </g>\n     </g>\n     <g id=\"text_21\">\n      <!-- 03/16/2020 -->\n      <g transform=\"translate(122.770666 258.493382)rotate(-20)scale(0.1 -0.1)\">\n       <use xlink:href=\"#DejaVuSans-48\"/>\n       <use x=\"63.623047\" xlink:href=\"#DejaVuSans-51\"/>\n       <use x=\"127.246094\" xlink:href=\"#DejaVuSans-47\"/>\n       <use x=\"160.9375\" xlink:href=\"#DejaVuSans-49\"/>\n       <use x=\"224.560547\" xlink:href=\"#DejaVuSans-54\"/>\n       <use x=\"288.183594\" xlink:href=\"#DejaVuSans-47\"/>\n       <use x=\"321.875\" xlink:href=\"#DejaVuSans-50\"/>\n       <use x=\"385.498047\" xlink:href=\"#DejaVuSans-48\"/>\n       <use x=\"449.121094\" xlink:href=\"#DejaVuSans-50\"/>\n       <use x=\"512.744141\" xlink:href=\"#DejaVuSans-48\"/>\n      </g>\n     </g>\n    </g>\n    <g id=\"xtick_22\">\n     <g id=\"line2d_22\">\n      <g>\n       <use style=\"stroke:#000000;stroke-width:0.8;\" x=\"152.289489\" xlink:href=\"#m8f29530d53\" y=\"224.64\"/>\n      </g>\n     </g>\n     <g id=\"text_22\">\n      <!-- 03/17/2020 -->\n      <g transform=\"translate(126.152484 258.493382)rotate(-20)scale(0.1 -0.1)\">\n       <use xlink:href=\"#DejaVuSans-48\"/>\n       <use x=\"63.623047\" xlink:href=\"#DejaVuSans-51\"/>\n       <use x=\"127.246094\" xlink:href=\"#DejaVuSans-47\"/>\n       <use x=\"160.9375\" xlink:href=\"#DejaVuSans-49\"/>\n       <use x=\"224.560547\" xlink:href=\"#DejaVuSans-55\"/>\n       <use x=\"288.183594\" xlink:href=\"#DejaVuSans-47\"/>\n       <use x=\"321.875\" xlink:href=\"#DejaVuSans-50\"/>\n       <use x=\"385.498047\" xlink:href=\"#DejaVuSans-48\"/>\n       <use x=\"449.121094\" xlink:href=\"#DejaVuSans-50\"/>\n       <use x=\"512.744141\" xlink:href=\"#DejaVuSans-48\"/>\n      </g>\n     </g>\n    </g>\n    <g id=\"xtick_23\">\n     <g id=\"line2d_23\">\n      <g>\n       <use style=\"stroke:#000000;stroke-width:0.8;\" x=\"155.671307\" xlink:href=\"#m8f29530d53\" y=\"224.64\"/>\n      </g>\n     </g>\n     <g id=\"text_23\">\n      <!-- 03/18/2020 -->\n      <g transform=\"translate(129.534302 258.493382)rotate(-20)scale(0.1 -0.1)\">\n       <use xlink:href=\"#DejaVuSans-48\"/>\n       <use x=\"63.623047\" xlink:href=\"#DejaVuSans-51\"/>\n       <use x=\"127.246094\" xlink:href=\"#DejaVuSans-47\"/>\n       <use x=\"160.9375\" xlink:href=\"#DejaVuSans-49\"/>\n       <use x=\"224.560547\" xlink:href=\"#DejaVuSans-56\"/>\n       <use x=\"288.183594\" xlink:href=\"#DejaVuSans-47\"/>\n       <use x=\"321.875\" xlink:href=\"#DejaVuSans-50\"/>\n       <use x=\"385.498047\" xlink:href=\"#DejaVuSans-48\"/>\n       <use x=\"449.121094\" xlink:href=\"#DejaVuSans-50\"/>\n       <use x=\"512.744141\" xlink:href=\"#DejaVuSans-48\"/>\n      </g>\n     </g>\n    </g>\n    <g id=\"xtick_24\">\n     <g id=\"line2d_24\">\n      <g>\n       <use style=\"stroke:#000000;stroke-width:0.8;\" x=\"159.053125\" xlink:href=\"#m8f29530d53\" y=\"224.64\"/>\n      </g>\n     </g>\n     <g id=\"text_24\">\n      <!-- 03/19/2020 -->\n      <g transform=\"translate(132.91612 258.493382)rotate(-20)scale(0.1 -0.1)\">\n       <use xlink:href=\"#DejaVuSans-48\"/>\n       <use x=\"63.623047\" xlink:href=\"#DejaVuSans-51\"/>\n       <use x=\"127.246094\" xlink:href=\"#DejaVuSans-47\"/>\n       <use x=\"160.9375\" xlink:href=\"#DejaVuSans-49\"/>\n       <use x=\"224.560547\" xlink:href=\"#DejaVuSans-57\"/>\n       <use x=\"288.183594\" xlink:href=\"#DejaVuSans-47\"/>\n       <use x=\"321.875\" xlink:href=\"#DejaVuSans-50\"/>\n       <use x=\"385.498047\" xlink:href=\"#DejaVuSans-48\"/>\n       <use x=\"449.121094\" xlink:href=\"#DejaVuSans-50\"/>\n       <use x=\"512.744141\" xlink:href=\"#DejaVuSans-48\"/>\n      </g>\n     </g>\n    </g>\n    <g id=\"xtick_25\">\n     <g id=\"line2d_25\">\n      <g>\n       <use style=\"stroke:#000000;stroke-width:0.8;\" x=\"162.434943\" xlink:href=\"#m8f29530d53\" y=\"224.64\"/>\n      </g>\n     </g>\n     <g id=\"text_25\">\n      <!-- 03/20/2020 -->\n      <g transform=\"translate(136.297938 258.493382)rotate(-20)scale(0.1 -0.1)\">\n       <use xlink:href=\"#DejaVuSans-48\"/>\n       <use x=\"63.623047\" xlink:href=\"#DejaVuSans-51\"/>\n       <use x=\"127.246094\" xlink:href=\"#DejaVuSans-47\"/>\n       <use x=\"160.9375\" xlink:href=\"#DejaVuSans-50\"/>\n       <use x=\"224.560547\" xlink:href=\"#DejaVuSans-48\"/>\n       <use x=\"288.183594\" xlink:href=\"#DejaVuSans-47\"/>\n       <use x=\"321.875\" xlink:href=\"#DejaVuSans-50\"/>\n       <use x=\"385.498047\" xlink:href=\"#DejaVuSans-48\"/>\n       <use x=\"449.121094\" xlink:href=\"#DejaVuSans-50\"/>\n       <use x=\"512.744141\" xlink:href=\"#DejaVuSans-48\"/>\n      </g>\n     </g>\n    </g>\n    <g id=\"xtick_26\">\n     <g id=\"line2d_26\">\n      <g>\n       <use style=\"stroke:#000000;stroke-width:0.8;\" x=\"165.816761\" xlink:href=\"#m8f29530d53\" y=\"224.64\"/>\n      </g>\n     </g>\n     <g id=\"text_26\">\n      <!-- 03/21/2020 -->\n      <g transform=\"translate(139.679756 258.493382)rotate(-20)scale(0.1 -0.1)\">\n       <use xlink:href=\"#DejaVuSans-48\"/>\n       <use x=\"63.623047\" xlink:href=\"#DejaVuSans-51\"/>\n       <use x=\"127.246094\" xlink:href=\"#DejaVuSans-47\"/>\n       <use x=\"160.9375\" xlink:href=\"#DejaVuSans-50\"/>\n       <use x=\"224.560547\" xlink:href=\"#DejaVuSans-49\"/>\n       <use x=\"288.183594\" xlink:href=\"#DejaVuSans-47\"/>\n       <use x=\"321.875\" xlink:href=\"#DejaVuSans-50\"/>\n       <use x=\"385.498047\" xlink:href=\"#DejaVuSans-48\"/>\n       <use x=\"449.121094\" xlink:href=\"#DejaVuSans-50\"/>\n       <use x=\"512.744141\" xlink:href=\"#DejaVuSans-48\"/>\n      </g>\n     </g>\n    </g>\n    <g id=\"xtick_27\">\n     <g id=\"line2d_27\">\n      <g>\n       <use style=\"stroke:#000000;stroke-width:0.8;\" x=\"169.19858\" xlink:href=\"#m8f29530d53\" y=\"224.64\"/>\n      </g>\n     </g>\n     <g id=\"text_27\">\n      <!-- 03/22/2020 -->\n      <g transform=\"translate(143.061575 258.493382)rotate(-20)scale(0.1 -0.1)\">\n       <use xlink:href=\"#DejaVuSans-48\"/>\n       <use x=\"63.623047\" xlink:href=\"#DejaVuSans-51\"/>\n       <use x=\"127.246094\" xlink:href=\"#DejaVuSans-47\"/>\n       <use x=\"160.9375\" xlink:href=\"#DejaVuSans-50\"/>\n       <use x=\"224.560547\" xlink:href=\"#DejaVuSans-50\"/>\n       <use x=\"288.183594\" xlink:href=\"#DejaVuSans-47\"/>\n       <use x=\"321.875\" xlink:href=\"#DejaVuSans-50\"/>\n       <use x=\"385.498047\" xlink:href=\"#DejaVuSans-48\"/>\n       <use x=\"449.121094\" xlink:href=\"#DejaVuSans-50\"/>\n       <use x=\"512.744141\" xlink:href=\"#DejaVuSans-48\"/>\n      </g>\n     </g>\n    </g>\n    <g id=\"xtick_28\">\n     <g id=\"line2d_28\">\n      <g>\n       <use style=\"stroke:#000000;stroke-width:0.8;\" x=\"172.580398\" xlink:href=\"#m8f29530d53\" y=\"224.64\"/>\n      </g>\n     </g>\n     <g id=\"text_28\">\n      <!-- 03/23/2020 -->\n      <g transform=\"translate(146.443393 258.493382)rotate(-20)scale(0.1 -0.1)\">\n       <use xlink:href=\"#DejaVuSans-48\"/>\n       <use x=\"63.623047\" xlink:href=\"#DejaVuSans-51\"/>\n       <use x=\"127.246094\" xlink:href=\"#DejaVuSans-47\"/>\n       <use x=\"160.9375\" xlink:href=\"#DejaVuSans-50\"/>\n       <use x=\"224.560547\" xlink:href=\"#DejaVuSans-51\"/>\n       <use x=\"288.183594\" xlink:href=\"#DejaVuSans-47\"/>\n       <use x=\"321.875\" xlink:href=\"#DejaVuSans-50\"/>\n       <use x=\"385.498047\" xlink:href=\"#DejaVuSans-48\"/>\n       <use x=\"449.121094\" xlink:href=\"#DejaVuSans-50\"/>\n       <use x=\"512.744141\" xlink:href=\"#DejaVuSans-48\"/>\n      </g>\n     </g>\n    </g>\n    <g id=\"xtick_29\">\n     <g id=\"line2d_29\">\n      <g>\n       <use style=\"stroke:#000000;stroke-width:0.8;\" x=\"175.962216\" xlink:href=\"#m8f29530d53\" y=\"224.64\"/>\n      </g>\n     </g>\n     <g id=\"text_29\">\n      <!-- 03/24/2020 -->\n      <g transform=\"translate(149.825211 258.493382)rotate(-20)scale(0.1 -0.1)\">\n       <use xlink:href=\"#DejaVuSans-48\"/>\n       <use x=\"63.623047\" xlink:href=\"#DejaVuSans-51\"/>\n       <use x=\"127.246094\" xlink:href=\"#DejaVuSans-47\"/>\n       <use x=\"160.9375\" xlink:href=\"#DejaVuSans-50\"/>\n       <use x=\"224.560547\" xlink:href=\"#DejaVuSans-52\"/>\n       <use x=\"288.183594\" xlink:href=\"#DejaVuSans-47\"/>\n       <use x=\"321.875\" xlink:href=\"#DejaVuSans-50\"/>\n       <use x=\"385.498047\" xlink:href=\"#DejaVuSans-48\"/>\n       <use x=\"449.121094\" xlink:href=\"#DejaVuSans-50\"/>\n       <use x=\"512.744141\" xlink:href=\"#DejaVuSans-48\"/>\n      </g>\n     </g>\n    </g>\n    <g id=\"xtick_30\">\n     <g id=\"line2d_30\">\n      <g>\n       <use style=\"stroke:#000000;stroke-width:0.8;\" x=\"179.344034\" xlink:href=\"#m8f29530d53\" y=\"224.64\"/>\n      </g>\n     </g>\n     <g id=\"text_30\">\n      <!-- 03/25/2020 -->\n      <g transform=\"translate(153.207029 258.493382)rotate(-20)scale(0.1 -0.1)\">\n       <use xlink:href=\"#DejaVuSans-48\"/>\n       <use x=\"63.623047\" xlink:href=\"#DejaVuSans-51\"/>\n       <use x=\"127.246094\" xlink:href=\"#DejaVuSans-47\"/>\n       <use x=\"160.9375\" xlink:href=\"#DejaVuSans-50\"/>\n       <use x=\"224.560547\" xlink:href=\"#DejaVuSans-53\"/>\n       <use x=\"288.183594\" xlink:href=\"#DejaVuSans-47\"/>\n       <use x=\"321.875\" xlink:href=\"#DejaVuSans-50\"/>\n       <use x=\"385.498047\" xlink:href=\"#DejaVuSans-48\"/>\n       <use x=\"449.121094\" xlink:href=\"#DejaVuSans-50\"/>\n       <use x=\"512.744141\" xlink:href=\"#DejaVuSans-48\"/>\n      </g>\n     </g>\n    </g>\n    <g id=\"xtick_31\">\n     <g id=\"line2d_31\">\n      <g>\n       <use style=\"stroke:#000000;stroke-width:0.8;\" x=\"182.725852\" xlink:href=\"#m8f29530d53\" y=\"224.64\"/>\n      </g>\n     </g>\n     <g id=\"text_31\">\n      <!-- 03/26/2020 -->\n      <g transform=\"translate(156.588847 258.493382)rotate(-20)scale(0.1 -0.1)\">\n       <use xlink:href=\"#DejaVuSans-48\"/>\n       <use x=\"63.623047\" xlink:href=\"#DejaVuSans-51\"/>\n       <use x=\"127.246094\" xlink:href=\"#DejaVuSans-47\"/>\n       <use x=\"160.9375\" xlink:href=\"#DejaVuSans-50\"/>\n       <use x=\"224.560547\" xlink:href=\"#DejaVuSans-54\"/>\n       <use x=\"288.183594\" xlink:href=\"#DejaVuSans-47\"/>\n       <use x=\"321.875\" xlink:href=\"#DejaVuSans-50\"/>\n       <use x=\"385.498047\" xlink:href=\"#DejaVuSans-48\"/>\n       <use x=\"449.121094\" xlink:href=\"#DejaVuSans-50\"/>\n       <use x=\"512.744141\" xlink:href=\"#DejaVuSans-48\"/>\n      </g>\n     </g>\n    </g>\n    <g id=\"xtick_32\">\n     <g id=\"line2d_32\">\n      <g>\n       <use style=\"stroke:#000000;stroke-width:0.8;\" x=\"186.10767\" xlink:href=\"#m8f29530d53\" y=\"224.64\"/>\n      </g>\n     </g>\n     <g id=\"text_32\">\n      <!-- 03/27/2020 -->\n      <g transform=\"translate(159.970666 258.493382)rotate(-20)scale(0.1 -0.1)\">\n       <use xlink:href=\"#DejaVuSans-48\"/>\n       <use x=\"63.623047\" xlink:href=\"#DejaVuSans-51\"/>\n       <use x=\"127.246094\" xlink:href=\"#DejaVuSans-47\"/>\n       <use x=\"160.9375\" xlink:href=\"#DejaVuSans-50\"/>\n       <use x=\"224.560547\" xlink:href=\"#DejaVuSans-55\"/>\n       <use x=\"288.183594\" xlink:href=\"#DejaVuSans-47\"/>\n       <use x=\"321.875\" xlink:href=\"#DejaVuSans-50\"/>\n       <use x=\"385.498047\" xlink:href=\"#DejaVuSans-48\"/>\n       <use x=\"449.121094\" xlink:href=\"#DejaVuSans-50\"/>\n       <use x=\"512.744141\" xlink:href=\"#DejaVuSans-48\"/>\n      </g>\n     </g>\n    </g>\n    <g id=\"xtick_33\">\n     <g id=\"line2d_33\">\n      <g>\n       <use style=\"stroke:#000000;stroke-width:0.8;\" x=\"189.489489\" xlink:href=\"#m8f29530d53\" y=\"224.64\"/>\n      </g>\n     </g>\n     <g id=\"text_33\">\n      <!-- 03/28/2020 -->\n      <g transform=\"translate(163.352484 258.493382)rotate(-20)scale(0.1 -0.1)\">\n       <use xlink:href=\"#DejaVuSans-48\"/>\n       <use x=\"63.623047\" xlink:href=\"#DejaVuSans-51\"/>\n       <use x=\"127.246094\" xlink:href=\"#DejaVuSans-47\"/>\n       <use x=\"160.9375\" xlink:href=\"#DejaVuSans-50\"/>\n       <use x=\"224.560547\" xlink:href=\"#DejaVuSans-56\"/>\n       <use x=\"288.183594\" xlink:href=\"#DejaVuSans-47\"/>\n       <use x=\"321.875\" xlink:href=\"#DejaVuSans-50\"/>\n       <use x=\"385.498047\" xlink:href=\"#DejaVuSans-48\"/>\n       <use x=\"449.121094\" xlink:href=\"#DejaVuSans-50\"/>\n       <use x=\"512.744141\" xlink:href=\"#DejaVuSans-48\"/>\n      </g>\n     </g>\n    </g>\n    <g id=\"xtick_34\">\n     <g id=\"line2d_34\">\n      <g>\n       <use style=\"stroke:#000000;stroke-width:0.8;\" x=\"192.871307\" xlink:href=\"#m8f29530d53\" y=\"224.64\"/>\n      </g>\n     </g>\n     <g id=\"text_34\">\n      <!-- 03/29/2020 -->\n      <g transform=\"translate(166.734302 258.493382)rotate(-20)scale(0.1 -0.1)\">\n       <use xlink:href=\"#DejaVuSans-48\"/>\n       <use x=\"63.623047\" xlink:href=\"#DejaVuSans-51\"/>\n       <use x=\"127.246094\" xlink:href=\"#DejaVuSans-47\"/>\n       <use x=\"160.9375\" xlink:href=\"#DejaVuSans-50\"/>\n       <use x=\"224.560547\" xlink:href=\"#DejaVuSans-57\"/>\n       <use x=\"288.183594\" xlink:href=\"#DejaVuSans-47\"/>\n       <use x=\"321.875\" xlink:href=\"#DejaVuSans-50\"/>\n       <use x=\"385.498047\" xlink:href=\"#DejaVuSans-48\"/>\n       <use x=\"449.121094\" xlink:href=\"#DejaVuSans-50\"/>\n       <use x=\"512.744141\" xlink:href=\"#DejaVuSans-48\"/>\n      </g>\n     </g>\n    </g>\n    <g id=\"xtick_35\">\n     <g id=\"line2d_35\">\n      <g>\n       <use style=\"stroke:#000000;stroke-width:0.8;\" x=\"196.253125\" xlink:href=\"#m8f29530d53\" y=\"224.64\"/>\n      </g>\n     </g>\n     <g id=\"text_35\">\n      <!-- 03/30/2020 -->\n      <g transform=\"translate(170.11612 258.493382)rotate(-20)scale(0.1 -0.1)\">\n       <use xlink:href=\"#DejaVuSans-48\"/>\n       <use x=\"63.623047\" xlink:href=\"#DejaVuSans-51\"/>\n       <use x=\"127.246094\" xlink:href=\"#DejaVuSans-47\"/>\n       <use x=\"160.9375\" xlink:href=\"#DejaVuSans-51\"/>\n       <use x=\"224.560547\" xlink:href=\"#DejaVuSans-48\"/>\n       <use x=\"288.183594\" xlink:href=\"#DejaVuSans-47\"/>\n       <use x=\"321.875\" xlink:href=\"#DejaVuSans-50\"/>\n       <use x=\"385.498047\" xlink:href=\"#DejaVuSans-48\"/>\n       <use x=\"449.121094\" xlink:href=\"#DejaVuSans-50\"/>\n       <use x=\"512.744141\" xlink:href=\"#DejaVuSans-48\"/>\n      </g>\n     </g>\n    </g>\n    <g id=\"xtick_36\">\n     <g id=\"line2d_36\">\n      <g>\n       <use style=\"stroke:#000000;stroke-width:0.8;\" x=\"199.634943\" xlink:href=\"#m8f29530d53\" y=\"224.64\"/>\n      </g>\n     </g>\n     <g id=\"text_36\">\n      <!-- 03/31/2020 -->\n      <g transform=\"translate(173.497938 258.493382)rotate(-20)scale(0.1 -0.1)\">\n       <use xlink:href=\"#DejaVuSans-48\"/>\n       <use x=\"63.623047\" xlink:href=\"#DejaVuSans-51\"/>\n       <use x=\"127.246094\" xlink:href=\"#DejaVuSans-47\"/>\n       <use x=\"160.9375\" xlink:href=\"#DejaVuSans-51\"/>\n       <use x=\"224.560547\" xlink:href=\"#DejaVuSans-49\"/>\n       <use x=\"288.183594\" xlink:href=\"#DejaVuSans-47\"/>\n       <use x=\"321.875\" xlink:href=\"#DejaVuSans-50\"/>\n       <use x=\"385.498047\" xlink:href=\"#DejaVuSans-48\"/>\n       <use x=\"449.121094\" xlink:href=\"#DejaVuSans-50\"/>\n       <use x=\"512.744141\" xlink:href=\"#DejaVuSans-48\"/>\n      </g>\n     </g>\n    </g>\n    <g id=\"xtick_37\">\n     <g id=\"line2d_37\">\n      <g>\n       <use style=\"stroke:#000000;stroke-width:0.8;\" x=\"203.016761\" xlink:href=\"#m8f29530d53\" y=\"224.64\"/>\n      </g>\n     </g>\n     <g id=\"text_37\">\n      <!-- 04/01/2020 -->\n      <g transform=\"translate(176.879756 258.493382)rotate(-20)scale(0.1 -0.1)\">\n       <use xlink:href=\"#DejaVuSans-48\"/>\n       <use x=\"63.623047\" xlink:href=\"#DejaVuSans-52\"/>\n       <use x=\"127.246094\" xlink:href=\"#DejaVuSans-47\"/>\n       <use x=\"160.9375\" xlink:href=\"#DejaVuSans-48\"/>\n       <use x=\"224.560547\" xlink:href=\"#DejaVuSans-49\"/>\n       <use x=\"288.183594\" xlink:href=\"#DejaVuSans-47\"/>\n       <use x=\"321.875\" xlink:href=\"#DejaVuSans-50\"/>\n       <use x=\"385.498047\" xlink:href=\"#DejaVuSans-48\"/>\n       <use x=\"449.121094\" xlink:href=\"#DejaVuSans-50\"/>\n       <use x=\"512.744141\" xlink:href=\"#DejaVuSans-48\"/>\n      </g>\n     </g>\n    </g>\n    <g id=\"xtick_38\">\n     <g id=\"line2d_38\">\n      <g>\n       <use style=\"stroke:#000000;stroke-width:0.8;\" x=\"206.39858\" xlink:href=\"#m8f29530d53\" y=\"224.64\"/>\n      </g>\n     </g>\n     <g id=\"text_38\">\n      <!-- 04/02/2020 -->\n      <g transform=\"translate(180.261575 258.493382)rotate(-20)scale(0.1 -0.1)\">\n       <use xlink:href=\"#DejaVuSans-48\"/>\n       <use x=\"63.623047\" xlink:href=\"#DejaVuSans-52\"/>\n       <use x=\"127.246094\" xlink:href=\"#DejaVuSans-47\"/>\n       <use x=\"160.9375\" xlink:href=\"#DejaVuSans-48\"/>\n       <use x=\"224.560547\" xlink:href=\"#DejaVuSans-50\"/>\n       <use x=\"288.183594\" xlink:href=\"#DejaVuSans-47\"/>\n       <use x=\"321.875\" xlink:href=\"#DejaVuSans-50\"/>\n       <use x=\"385.498047\" xlink:href=\"#DejaVuSans-48\"/>\n       <use x=\"449.121094\" xlink:href=\"#DejaVuSans-50\"/>\n       <use x=\"512.744141\" xlink:href=\"#DejaVuSans-48\"/>\n      </g>\n     </g>\n    </g>\n    <g id=\"xtick_39\">\n     <g id=\"line2d_39\">\n      <g>\n       <use style=\"stroke:#000000;stroke-width:0.8;\" x=\"209.780398\" xlink:href=\"#m8f29530d53\" y=\"224.64\"/>\n      </g>\n     </g>\n     <g id=\"text_39\">\n      <!-- 04/03/2020 -->\n      <g transform=\"translate(183.643393 258.493382)rotate(-20)scale(0.1 -0.1)\">\n       <use xlink:href=\"#DejaVuSans-48\"/>\n       <use x=\"63.623047\" xlink:href=\"#DejaVuSans-52\"/>\n       <use x=\"127.246094\" xlink:href=\"#DejaVuSans-47\"/>\n       <use x=\"160.9375\" xlink:href=\"#DejaVuSans-48\"/>\n       <use x=\"224.560547\" xlink:href=\"#DejaVuSans-51\"/>\n       <use x=\"288.183594\" xlink:href=\"#DejaVuSans-47\"/>\n       <use x=\"321.875\" xlink:href=\"#DejaVuSans-50\"/>\n       <use x=\"385.498047\" xlink:href=\"#DejaVuSans-48\"/>\n       <use x=\"449.121094\" xlink:href=\"#DejaVuSans-50\"/>\n       <use x=\"512.744141\" xlink:href=\"#DejaVuSans-48\"/>\n      </g>\n     </g>\n    </g>\n    <g id=\"xtick_40\">\n     <g id=\"line2d_40\">\n      <g>\n       <use style=\"stroke:#000000;stroke-width:0.8;\" x=\"213.162216\" xlink:href=\"#m8f29530d53\" y=\"224.64\"/>\n      </g>\n     </g>\n     <g id=\"text_40\">\n      <!-- 04/04/2020 -->\n      <g transform=\"translate(187.025211 258.493382)rotate(-20)scale(0.1 -0.1)\">\n       <use xlink:href=\"#DejaVuSans-48\"/>\n       <use x=\"63.623047\" xlink:href=\"#DejaVuSans-52\"/>\n       <use x=\"127.246094\" xlink:href=\"#DejaVuSans-47\"/>\n       <use x=\"160.9375\" xlink:href=\"#DejaVuSans-48\"/>\n       <use x=\"224.560547\" xlink:href=\"#DejaVuSans-52\"/>\n       <use x=\"288.183594\" xlink:href=\"#DejaVuSans-47\"/>\n       <use x=\"321.875\" xlink:href=\"#DejaVuSans-50\"/>\n       <use x=\"385.498047\" xlink:href=\"#DejaVuSans-48\"/>\n       <use x=\"449.121094\" xlink:href=\"#DejaVuSans-50\"/>\n       <use x=\"512.744141\" xlink:href=\"#DejaVuSans-48\"/>\n      </g>\n     </g>\n    </g>\n    <g id=\"xtick_41\">\n     <g id=\"line2d_41\">\n      <g>\n       <use style=\"stroke:#000000;stroke-width:0.8;\" x=\"216.544034\" xlink:href=\"#m8f29530d53\" y=\"224.64\"/>\n      </g>\n     </g>\n     <g id=\"text_41\">\n      <!-- 04/05/2020 -->\n      <g transform=\"translate(190.407029 258.493382)rotate(-20)scale(0.1 -0.1)\">\n       <use xlink:href=\"#DejaVuSans-48\"/>\n       <use x=\"63.623047\" xlink:href=\"#DejaVuSans-52\"/>\n       <use x=\"127.246094\" xlink:href=\"#DejaVuSans-47\"/>\n       <use x=\"160.9375\" xlink:href=\"#DejaVuSans-48\"/>\n       <use x=\"224.560547\" xlink:href=\"#DejaVuSans-53\"/>\n       <use x=\"288.183594\" xlink:href=\"#DejaVuSans-47\"/>\n       <use x=\"321.875\" xlink:href=\"#DejaVuSans-50\"/>\n       <use x=\"385.498047\" xlink:href=\"#DejaVuSans-48\"/>\n       <use x=\"449.121094\" xlink:href=\"#DejaVuSans-50\"/>\n       <use x=\"512.744141\" xlink:href=\"#DejaVuSans-48\"/>\n      </g>\n     </g>\n    </g>\n    <g id=\"xtick_42\">\n     <g id=\"line2d_42\">\n      <g>\n       <use style=\"stroke:#000000;stroke-width:0.8;\" x=\"219.925852\" xlink:href=\"#m8f29530d53\" y=\"224.64\"/>\n      </g>\n     </g>\n     <g id=\"text_42\">\n      <!-- 04/06/2020 -->\n      <g transform=\"translate(193.788847 258.493382)rotate(-20)scale(0.1 -0.1)\">\n       <use xlink:href=\"#DejaVuSans-48\"/>\n       <use x=\"63.623047\" xlink:href=\"#DejaVuSans-52\"/>\n       <use x=\"127.246094\" xlink:href=\"#DejaVuSans-47\"/>\n       <use x=\"160.9375\" xlink:href=\"#DejaVuSans-48\"/>\n       <use x=\"224.560547\" xlink:href=\"#DejaVuSans-54\"/>\n       <use x=\"288.183594\" xlink:href=\"#DejaVuSans-47\"/>\n       <use x=\"321.875\" xlink:href=\"#DejaVuSans-50\"/>\n       <use x=\"385.498047\" xlink:href=\"#DejaVuSans-48\"/>\n       <use x=\"449.121094\" xlink:href=\"#DejaVuSans-50\"/>\n       <use x=\"512.744141\" xlink:href=\"#DejaVuSans-48\"/>\n      </g>\n     </g>\n    </g>\n    <g id=\"xtick_43\">\n     <g id=\"line2d_43\">\n      <g>\n       <use style=\"stroke:#000000;stroke-width:0.8;\" x=\"223.30767\" xlink:href=\"#m8f29530d53\" y=\"224.64\"/>\n      </g>\n     </g>\n     <g id=\"text_43\">\n      <!-- 04/07/2020 -->\n      <g transform=\"translate(197.170666 258.493382)rotate(-20)scale(0.1 -0.1)\">\n       <use xlink:href=\"#DejaVuSans-48\"/>\n       <use x=\"63.623047\" xlink:href=\"#DejaVuSans-52\"/>\n       <use x=\"127.246094\" xlink:href=\"#DejaVuSans-47\"/>\n       <use x=\"160.9375\" xlink:href=\"#DejaVuSans-48\"/>\n       <use x=\"224.560547\" xlink:href=\"#DejaVuSans-55\"/>\n       <use x=\"288.183594\" xlink:href=\"#DejaVuSans-47\"/>\n       <use x=\"321.875\" xlink:href=\"#DejaVuSans-50\"/>\n       <use x=\"385.498047\" xlink:href=\"#DejaVuSans-48\"/>\n       <use x=\"449.121094\" xlink:href=\"#DejaVuSans-50\"/>\n       <use x=\"512.744141\" xlink:href=\"#DejaVuSans-48\"/>\n      </g>\n     </g>\n    </g>\n    <g id=\"xtick_44\">\n     <g id=\"line2d_44\">\n      <g>\n       <use style=\"stroke:#000000;stroke-width:0.8;\" x=\"226.689489\" xlink:href=\"#m8f29530d53\" y=\"224.64\"/>\n      </g>\n     </g>\n     <g id=\"text_44\">\n      <!-- 04/08/2020 -->\n      <g transform=\"translate(200.552484 258.493382)rotate(-20)scale(0.1 -0.1)\">\n       <use xlink:href=\"#DejaVuSans-48\"/>\n       <use x=\"63.623047\" xlink:href=\"#DejaVuSans-52\"/>\n       <use x=\"127.246094\" xlink:href=\"#DejaVuSans-47\"/>\n       <use x=\"160.9375\" xlink:href=\"#DejaVuSans-48\"/>\n       <use x=\"224.560547\" xlink:href=\"#DejaVuSans-56\"/>\n       <use x=\"288.183594\" xlink:href=\"#DejaVuSans-47\"/>\n       <use x=\"321.875\" xlink:href=\"#DejaVuSans-50\"/>\n       <use x=\"385.498047\" xlink:href=\"#DejaVuSans-48\"/>\n       <use x=\"449.121094\" xlink:href=\"#DejaVuSans-50\"/>\n       <use x=\"512.744141\" xlink:href=\"#DejaVuSans-48\"/>\n      </g>\n     </g>\n    </g>\n    <g id=\"xtick_45\">\n     <g id=\"line2d_45\">\n      <g>\n       <use style=\"stroke:#000000;stroke-width:0.8;\" x=\"230.071307\" xlink:href=\"#m8f29530d53\" y=\"224.64\"/>\n      </g>\n     </g>\n     <g id=\"text_45\">\n      <!-- 04/09/2020 -->\n      <g transform=\"translate(203.934302 258.493382)rotate(-20)scale(0.1 -0.1)\">\n       <use xlink:href=\"#DejaVuSans-48\"/>\n       <use x=\"63.623047\" xlink:href=\"#DejaVuSans-52\"/>\n       <use x=\"127.246094\" xlink:href=\"#DejaVuSans-47\"/>\n       <use x=\"160.9375\" xlink:href=\"#DejaVuSans-48\"/>\n       <use x=\"224.560547\" xlink:href=\"#DejaVuSans-57\"/>\n       <use x=\"288.183594\" xlink:href=\"#DejaVuSans-47\"/>\n       <use x=\"321.875\" xlink:href=\"#DejaVuSans-50\"/>\n       <use x=\"385.498047\" xlink:href=\"#DejaVuSans-48\"/>\n       <use x=\"449.121094\" xlink:href=\"#DejaVuSans-50\"/>\n       <use x=\"512.744141\" xlink:href=\"#DejaVuSans-48\"/>\n      </g>\n     </g>\n    </g>\n    <g id=\"xtick_46\">\n     <g id=\"line2d_46\">\n      <g>\n       <use style=\"stroke:#000000;stroke-width:0.8;\" x=\"233.453125\" xlink:href=\"#m8f29530d53\" y=\"224.64\"/>\n      </g>\n     </g>\n     <g id=\"text_46\">\n      <!-- 04/10/2020 -->\n      <g transform=\"translate(207.31612 258.493382)rotate(-20)scale(0.1 -0.1)\">\n       <use xlink:href=\"#DejaVuSans-48\"/>\n       <use x=\"63.623047\" xlink:href=\"#DejaVuSans-52\"/>\n       <use x=\"127.246094\" xlink:href=\"#DejaVuSans-47\"/>\n       <use x=\"160.9375\" xlink:href=\"#DejaVuSans-49\"/>\n       <use x=\"224.560547\" xlink:href=\"#DejaVuSans-48\"/>\n       <use x=\"288.183594\" xlink:href=\"#DejaVuSans-47\"/>\n       <use x=\"321.875\" xlink:href=\"#DejaVuSans-50\"/>\n       <use x=\"385.498047\" xlink:href=\"#DejaVuSans-48\"/>\n       <use x=\"449.121094\" xlink:href=\"#DejaVuSans-50\"/>\n       <use x=\"512.744141\" xlink:href=\"#DejaVuSans-48\"/>\n      </g>\n     </g>\n    </g>\n    <g id=\"xtick_47\">\n     <g id=\"line2d_47\">\n      <g>\n       <use style=\"stroke:#000000;stroke-width:0.8;\" x=\"236.834943\" xlink:href=\"#m8f29530d53\" y=\"224.64\"/>\n      </g>\n     </g>\n     <g id=\"text_47\">\n      <!-- 04/11/2020 -->\n      <g transform=\"translate(210.697938 258.493382)rotate(-20)scale(0.1 -0.1)\">\n       <use xlink:href=\"#DejaVuSans-48\"/>\n       <use x=\"63.623047\" xlink:href=\"#DejaVuSans-52\"/>\n       <use x=\"127.246094\" xlink:href=\"#DejaVuSans-47\"/>\n       <use x=\"160.9375\" xlink:href=\"#DejaVuSans-49\"/>\n       <use x=\"224.560547\" xlink:href=\"#DejaVuSans-49\"/>\n       <use x=\"288.183594\" xlink:href=\"#DejaVuSans-47\"/>\n       <use x=\"321.875\" xlink:href=\"#DejaVuSans-50\"/>\n       <use x=\"385.498047\" xlink:href=\"#DejaVuSans-48\"/>\n       <use x=\"449.121094\" xlink:href=\"#DejaVuSans-50\"/>\n       <use x=\"512.744141\" xlink:href=\"#DejaVuSans-48\"/>\n      </g>\n     </g>\n    </g>\n    <g id=\"xtick_48\">\n     <g id=\"line2d_48\">\n      <g>\n       <use style=\"stroke:#000000;stroke-width:0.8;\" x=\"240.216761\" xlink:href=\"#m8f29530d53\" y=\"224.64\"/>\n      </g>\n     </g>\n     <g id=\"text_48\">\n      <!-- 04/12/2020 -->\n      <g transform=\"translate(214.079756 258.493382)rotate(-20)scale(0.1 -0.1)\">\n       <use xlink:href=\"#DejaVuSans-48\"/>\n       <use x=\"63.623047\" xlink:href=\"#DejaVuSans-52\"/>\n       <use x=\"127.246094\" xlink:href=\"#DejaVuSans-47\"/>\n       <use x=\"160.9375\" xlink:href=\"#DejaVuSans-49\"/>\n       <use x=\"224.560547\" xlink:href=\"#DejaVuSans-50\"/>\n       <use x=\"288.183594\" xlink:href=\"#DejaVuSans-47\"/>\n       <use x=\"321.875\" xlink:href=\"#DejaVuSans-50\"/>\n       <use x=\"385.498047\" xlink:href=\"#DejaVuSans-48\"/>\n       <use x=\"449.121094\" xlink:href=\"#DejaVuSans-50\"/>\n       <use x=\"512.744141\" xlink:href=\"#DejaVuSans-48\"/>\n      </g>\n     </g>\n    </g>\n    <g id=\"xtick_49\">\n     <g id=\"line2d_49\">\n      <g>\n       <use style=\"stroke:#000000;stroke-width:0.8;\" x=\"243.59858\" xlink:href=\"#m8f29530d53\" y=\"224.64\"/>\n      </g>\n     </g>\n     <g id=\"text_49\">\n      <!-- 04/13/2020 -->\n      <g transform=\"translate(217.461575 258.493382)rotate(-20)scale(0.1 -0.1)\">\n       <use xlink:href=\"#DejaVuSans-48\"/>\n       <use x=\"63.623047\" xlink:href=\"#DejaVuSans-52\"/>\n       <use x=\"127.246094\" xlink:href=\"#DejaVuSans-47\"/>\n       <use x=\"160.9375\" xlink:href=\"#DejaVuSans-49\"/>\n       <use x=\"224.560547\" xlink:href=\"#DejaVuSans-51\"/>\n       <use x=\"288.183594\" xlink:href=\"#DejaVuSans-47\"/>\n       <use x=\"321.875\" xlink:href=\"#DejaVuSans-50\"/>\n       <use x=\"385.498047\" xlink:href=\"#DejaVuSans-48\"/>\n       <use x=\"449.121094\" xlink:href=\"#DejaVuSans-50\"/>\n       <use x=\"512.744141\" xlink:href=\"#DejaVuSans-48\"/>\n      </g>\n     </g>\n    </g>\n    <g id=\"xtick_50\">\n     <g id=\"line2d_50\">\n      <g>\n       <use style=\"stroke:#000000;stroke-width:0.8;\" x=\"246.980398\" xlink:href=\"#m8f29530d53\" y=\"224.64\"/>\n      </g>\n     </g>\n     <g id=\"text_50\">\n      <!-- 04/14/2020 -->\n      <g transform=\"translate(220.843393 258.493382)rotate(-20)scale(0.1 -0.1)\">\n       <use xlink:href=\"#DejaVuSans-48\"/>\n       <use x=\"63.623047\" xlink:href=\"#DejaVuSans-52\"/>\n       <use x=\"127.246094\" xlink:href=\"#DejaVuSans-47\"/>\n       <use x=\"160.9375\" xlink:href=\"#DejaVuSans-49\"/>\n       <use x=\"224.560547\" xlink:href=\"#DejaVuSans-52\"/>\n       <use x=\"288.183594\" xlink:href=\"#DejaVuSans-47\"/>\n       <use x=\"321.875\" xlink:href=\"#DejaVuSans-50\"/>\n       <use x=\"385.498047\" xlink:href=\"#DejaVuSans-48\"/>\n       <use x=\"449.121094\" xlink:href=\"#DejaVuSans-50\"/>\n       <use x=\"512.744141\" xlink:href=\"#DejaVuSans-48\"/>\n      </g>\n     </g>\n    </g>\n    <g id=\"xtick_51\">\n     <g id=\"line2d_51\">\n      <g>\n       <use style=\"stroke:#000000;stroke-width:0.8;\" x=\"250.362216\" xlink:href=\"#m8f29530d53\" y=\"224.64\"/>\n      </g>\n     </g>\n     <g id=\"text_51\">\n      <!-- 04/15/2020 -->\n      <g transform=\"translate(224.225211 258.493382)rotate(-20)scale(0.1 -0.1)\">\n       <use xlink:href=\"#DejaVuSans-48\"/>\n       <use x=\"63.623047\" xlink:href=\"#DejaVuSans-52\"/>\n       <use x=\"127.246094\" xlink:href=\"#DejaVuSans-47\"/>\n       <use x=\"160.9375\" xlink:href=\"#DejaVuSans-49\"/>\n       <use x=\"224.560547\" xlink:href=\"#DejaVuSans-53\"/>\n       <use x=\"288.183594\" xlink:href=\"#DejaVuSans-47\"/>\n       <use x=\"321.875\" xlink:href=\"#DejaVuSans-50\"/>\n       <use x=\"385.498047\" xlink:href=\"#DejaVuSans-48\"/>\n       <use x=\"449.121094\" xlink:href=\"#DejaVuSans-50\"/>\n       <use x=\"512.744141\" xlink:href=\"#DejaVuSans-48\"/>\n      </g>\n     </g>\n    </g>\n    <g id=\"xtick_52\">\n     <g id=\"line2d_52\">\n      <g>\n       <use style=\"stroke:#000000;stroke-width:0.8;\" x=\"253.744034\" xlink:href=\"#m8f29530d53\" y=\"224.64\"/>\n      </g>\n     </g>\n     <g id=\"text_52\">\n      <!-- 04/16/2020 -->\n      <g transform=\"translate(227.607029 258.493382)rotate(-20)scale(0.1 -0.1)\">\n       <use xlink:href=\"#DejaVuSans-48\"/>\n       <use x=\"63.623047\" xlink:href=\"#DejaVuSans-52\"/>\n       <use x=\"127.246094\" xlink:href=\"#DejaVuSans-47\"/>\n       <use x=\"160.9375\" xlink:href=\"#DejaVuSans-49\"/>\n       <use x=\"224.560547\" xlink:href=\"#DejaVuSans-54\"/>\n       <use x=\"288.183594\" xlink:href=\"#DejaVuSans-47\"/>\n       <use x=\"321.875\" xlink:href=\"#DejaVuSans-50\"/>\n       <use x=\"385.498047\" xlink:href=\"#DejaVuSans-48\"/>\n       <use x=\"449.121094\" xlink:href=\"#DejaVuSans-50\"/>\n       <use x=\"512.744141\" xlink:href=\"#DejaVuSans-48\"/>\n      </g>\n     </g>\n    </g>\n    <g id=\"xtick_53\">\n     <g id=\"line2d_53\">\n      <g>\n       <use style=\"stroke:#000000;stroke-width:0.8;\" x=\"257.125852\" xlink:href=\"#m8f29530d53\" y=\"224.64\"/>\n      </g>\n     </g>\n     <g id=\"text_53\">\n      <!-- 04/17/2020 -->\n      <g transform=\"translate(230.988847 258.493382)rotate(-20)scale(0.1 -0.1)\">\n       <use xlink:href=\"#DejaVuSans-48\"/>\n       <use x=\"63.623047\" xlink:href=\"#DejaVuSans-52\"/>\n       <use x=\"127.246094\" xlink:href=\"#DejaVuSans-47\"/>\n       <use x=\"160.9375\" xlink:href=\"#DejaVuSans-49\"/>\n       <use x=\"224.560547\" xlink:href=\"#DejaVuSans-55\"/>\n       <use x=\"288.183594\" xlink:href=\"#DejaVuSans-47\"/>\n       <use x=\"321.875\" xlink:href=\"#DejaVuSans-50\"/>\n       <use x=\"385.498047\" xlink:href=\"#DejaVuSans-48\"/>\n       <use x=\"449.121094\" xlink:href=\"#DejaVuSans-50\"/>\n       <use x=\"512.744141\" xlink:href=\"#DejaVuSans-48\"/>\n      </g>\n     </g>\n    </g>\n    <g id=\"xtick_54\">\n     <g id=\"line2d_54\">\n      <g>\n       <use style=\"stroke:#000000;stroke-width:0.8;\" x=\"260.50767\" xlink:href=\"#m8f29530d53\" y=\"224.64\"/>\n      </g>\n     </g>\n     <g id=\"text_54\">\n      <!-- 04/18/2020 -->\n      <g transform=\"translate(234.370666 258.493382)rotate(-20)scale(0.1 -0.1)\">\n       <use xlink:href=\"#DejaVuSans-48\"/>\n       <use x=\"63.623047\" xlink:href=\"#DejaVuSans-52\"/>\n       <use x=\"127.246094\" xlink:href=\"#DejaVuSans-47\"/>\n       <use x=\"160.9375\" xlink:href=\"#DejaVuSans-49\"/>\n       <use x=\"224.560547\" xlink:href=\"#DejaVuSans-56\"/>\n       <use x=\"288.183594\" xlink:href=\"#DejaVuSans-47\"/>\n       <use x=\"321.875\" xlink:href=\"#DejaVuSans-50\"/>\n       <use x=\"385.498047\" xlink:href=\"#DejaVuSans-48\"/>\n       <use x=\"449.121094\" xlink:href=\"#DejaVuSans-50\"/>\n       <use x=\"512.744141\" xlink:href=\"#DejaVuSans-48\"/>\n      </g>\n     </g>\n    </g>\n    <g id=\"xtick_55\">\n     <g id=\"line2d_55\">\n      <g>\n       <use style=\"stroke:#000000;stroke-width:0.8;\" x=\"263.889489\" xlink:href=\"#m8f29530d53\" y=\"224.64\"/>\n      </g>\n     </g>\n     <g id=\"text_55\">\n      <!-- 04/19/2020 -->\n      <g transform=\"translate(237.752484 258.493382)rotate(-20)scale(0.1 -0.1)\">\n       <use xlink:href=\"#DejaVuSans-48\"/>\n       <use x=\"63.623047\" xlink:href=\"#DejaVuSans-52\"/>\n       <use x=\"127.246094\" xlink:href=\"#DejaVuSans-47\"/>\n       <use x=\"160.9375\" xlink:href=\"#DejaVuSans-49\"/>\n       <use x=\"224.560547\" xlink:href=\"#DejaVuSans-57\"/>\n       <use x=\"288.183594\" xlink:href=\"#DejaVuSans-47\"/>\n       <use x=\"321.875\" xlink:href=\"#DejaVuSans-50\"/>\n       <use x=\"385.498047\" xlink:href=\"#DejaVuSans-48\"/>\n       <use x=\"449.121094\" xlink:href=\"#DejaVuSans-50\"/>\n       <use x=\"512.744141\" xlink:href=\"#DejaVuSans-48\"/>\n      </g>\n     </g>\n    </g>\n    <g id=\"xtick_56\">\n     <g id=\"line2d_56\">\n      <g>\n       <use style=\"stroke:#000000;stroke-width:0.8;\" x=\"267.271307\" xlink:href=\"#m8f29530d53\" y=\"224.64\"/>\n      </g>\n     </g>\n     <g id=\"text_56\">\n      <!-- 04/20/2020 -->\n      <g transform=\"translate(241.134302 258.493382)rotate(-20)scale(0.1 -0.1)\">\n       <use xlink:href=\"#DejaVuSans-48\"/>\n       <use x=\"63.623047\" xlink:href=\"#DejaVuSans-52\"/>\n       <use x=\"127.246094\" xlink:href=\"#DejaVuSans-47\"/>\n       <use x=\"160.9375\" xlink:href=\"#DejaVuSans-50\"/>\n       <use x=\"224.560547\" xlink:href=\"#DejaVuSans-48\"/>\n       <use x=\"288.183594\" xlink:href=\"#DejaVuSans-47\"/>\n       <use x=\"321.875\" xlink:href=\"#DejaVuSans-50\"/>\n       <use x=\"385.498047\" xlink:href=\"#DejaVuSans-48\"/>\n       <use x=\"449.121094\" xlink:href=\"#DejaVuSans-50\"/>\n       <use x=\"512.744141\" xlink:href=\"#DejaVuSans-48\"/>\n      </g>\n     </g>\n    </g>\n    <g id=\"xtick_57\">\n     <g id=\"line2d_57\">\n      <g>\n       <use style=\"stroke:#000000;stroke-width:0.8;\" x=\"270.653125\" xlink:href=\"#m8f29530d53\" y=\"224.64\"/>\n      </g>\n     </g>\n     <g id=\"text_57\">\n      <!-- 04/21/2020 -->\n      <g transform=\"translate(244.51612 258.493382)rotate(-20)scale(0.1 -0.1)\">\n       <use xlink:href=\"#DejaVuSans-48\"/>\n       <use x=\"63.623047\" xlink:href=\"#DejaVuSans-52\"/>\n       <use x=\"127.246094\" xlink:href=\"#DejaVuSans-47\"/>\n       <use x=\"160.9375\" xlink:href=\"#DejaVuSans-50\"/>\n       <use x=\"224.560547\" xlink:href=\"#DejaVuSans-49\"/>\n       <use x=\"288.183594\" xlink:href=\"#DejaVuSans-47\"/>\n       <use x=\"321.875\" xlink:href=\"#DejaVuSans-50\"/>\n       <use x=\"385.498047\" xlink:href=\"#DejaVuSans-48\"/>\n       <use x=\"449.121094\" xlink:href=\"#DejaVuSans-50\"/>\n       <use x=\"512.744141\" xlink:href=\"#DejaVuSans-48\"/>\n      </g>\n     </g>\n    </g>\n    <g id=\"xtick_58\">\n     <g id=\"line2d_58\">\n      <g>\n       <use style=\"stroke:#000000;stroke-width:0.8;\" x=\"274.034943\" xlink:href=\"#m8f29530d53\" y=\"224.64\"/>\n      </g>\n     </g>\n     <g id=\"text_58\">\n      <!-- 04/22/2020 -->\n      <g transform=\"translate(247.897938 258.493382)rotate(-20)scale(0.1 -0.1)\">\n       <use xlink:href=\"#DejaVuSans-48\"/>\n       <use x=\"63.623047\" xlink:href=\"#DejaVuSans-52\"/>\n       <use x=\"127.246094\" xlink:href=\"#DejaVuSans-47\"/>\n       <use x=\"160.9375\" xlink:href=\"#DejaVuSans-50\"/>\n       <use x=\"224.560547\" xlink:href=\"#DejaVuSans-50\"/>\n       <use x=\"288.183594\" xlink:href=\"#DejaVuSans-47\"/>\n       <use x=\"321.875\" xlink:href=\"#DejaVuSans-50\"/>\n       <use x=\"385.498047\" xlink:href=\"#DejaVuSans-48\"/>\n       <use x=\"449.121094\" xlink:href=\"#DejaVuSans-50\"/>\n       <use x=\"512.744141\" xlink:href=\"#DejaVuSans-48\"/>\n      </g>\n     </g>\n    </g>\n    <g id=\"xtick_59\">\n     <g id=\"line2d_59\">\n      <g>\n       <use style=\"stroke:#000000;stroke-width:0.8;\" x=\"277.416761\" xlink:href=\"#m8f29530d53\" y=\"224.64\"/>\n      </g>\n     </g>\n     <g id=\"text_59\">\n      <!-- 04/23/2020 -->\n      <g transform=\"translate(251.279756 258.493382)rotate(-20)scale(0.1 -0.1)\">\n       <use xlink:href=\"#DejaVuSans-48\"/>\n       <use x=\"63.623047\" xlink:href=\"#DejaVuSans-52\"/>\n       <use x=\"127.246094\" xlink:href=\"#DejaVuSans-47\"/>\n       <use x=\"160.9375\" xlink:href=\"#DejaVuSans-50\"/>\n       <use x=\"224.560547\" xlink:href=\"#DejaVuSans-51\"/>\n       <use x=\"288.183594\" xlink:href=\"#DejaVuSans-47\"/>\n       <use x=\"321.875\" xlink:href=\"#DejaVuSans-50\"/>\n       <use x=\"385.498047\" xlink:href=\"#DejaVuSans-48\"/>\n       <use x=\"449.121094\" xlink:href=\"#DejaVuSans-50\"/>\n       <use x=\"512.744141\" xlink:href=\"#DejaVuSans-48\"/>\n      </g>\n     </g>\n    </g>\n    <g id=\"xtick_60\">\n     <g id=\"line2d_60\">\n      <g>\n       <use style=\"stroke:#000000;stroke-width:0.8;\" x=\"280.79858\" xlink:href=\"#m8f29530d53\" y=\"224.64\"/>\n      </g>\n     </g>\n     <g id=\"text_60\">\n      <!-- 04/24/2020 -->\n      <g transform=\"translate(254.661575 258.493382)rotate(-20)scale(0.1 -0.1)\">\n       <use xlink:href=\"#DejaVuSans-48\"/>\n       <use x=\"63.623047\" xlink:href=\"#DejaVuSans-52\"/>\n       <use x=\"127.246094\" xlink:href=\"#DejaVuSans-47\"/>\n       <use x=\"160.9375\" xlink:href=\"#DejaVuSans-50\"/>\n       <use x=\"224.560547\" xlink:href=\"#DejaVuSans-52\"/>\n       <use x=\"288.183594\" xlink:href=\"#DejaVuSans-47\"/>\n       <use x=\"321.875\" xlink:href=\"#DejaVuSans-50\"/>\n       <use x=\"385.498047\" xlink:href=\"#DejaVuSans-48\"/>\n       <use x=\"449.121094\" xlink:href=\"#DejaVuSans-50\"/>\n       <use x=\"512.744141\" xlink:href=\"#DejaVuSans-48\"/>\n      </g>\n     </g>\n    </g>\n    <g id=\"xtick_61\">\n     <g id=\"line2d_61\">\n      <g>\n       <use style=\"stroke:#000000;stroke-width:0.8;\" x=\"284.180398\" xlink:href=\"#m8f29530d53\" y=\"224.64\"/>\n      </g>\n     </g>\n     <g id=\"text_61\">\n      <!-- 04/25/2020 -->\n      <g transform=\"translate(258.043393 258.493382)rotate(-20)scale(0.1 -0.1)\">\n       <use xlink:href=\"#DejaVuSans-48\"/>\n       <use x=\"63.623047\" xlink:href=\"#DejaVuSans-52\"/>\n       <use x=\"127.246094\" xlink:href=\"#DejaVuSans-47\"/>\n       <use x=\"160.9375\" xlink:href=\"#DejaVuSans-50\"/>\n       <use x=\"224.560547\" xlink:href=\"#DejaVuSans-53\"/>\n       <use x=\"288.183594\" xlink:href=\"#DejaVuSans-47\"/>\n       <use x=\"321.875\" xlink:href=\"#DejaVuSans-50\"/>\n       <use x=\"385.498047\" xlink:href=\"#DejaVuSans-48\"/>\n       <use x=\"449.121094\" xlink:href=\"#DejaVuSans-50\"/>\n       <use x=\"512.744141\" xlink:href=\"#DejaVuSans-48\"/>\n      </g>\n     </g>\n    </g>\n    <g id=\"xtick_62\">\n     <g id=\"line2d_62\">\n      <g>\n       <use style=\"stroke:#000000;stroke-width:0.8;\" x=\"287.562216\" xlink:href=\"#m8f29530d53\" y=\"224.64\"/>\n      </g>\n     </g>\n     <g id=\"text_62\">\n      <!-- 04/26/2020 -->\n      <g transform=\"translate(261.425211 258.493382)rotate(-20)scale(0.1 -0.1)\">\n       <use xlink:href=\"#DejaVuSans-48\"/>\n       <use x=\"63.623047\" xlink:href=\"#DejaVuSans-52\"/>\n       <use x=\"127.246094\" xlink:href=\"#DejaVuSans-47\"/>\n       <use x=\"160.9375\" xlink:href=\"#DejaVuSans-50\"/>\n       <use x=\"224.560547\" xlink:href=\"#DejaVuSans-54\"/>\n       <use x=\"288.183594\" xlink:href=\"#DejaVuSans-47\"/>\n       <use x=\"321.875\" xlink:href=\"#DejaVuSans-50\"/>\n       <use x=\"385.498047\" xlink:href=\"#DejaVuSans-48\"/>\n       <use x=\"449.121094\" xlink:href=\"#DejaVuSans-50\"/>\n       <use x=\"512.744141\" xlink:href=\"#DejaVuSans-48\"/>\n      </g>\n     </g>\n    </g>\n    <g id=\"xtick_63\">\n     <g id=\"line2d_63\">\n      <g>\n       <use style=\"stroke:#000000;stroke-width:0.8;\" x=\"290.944034\" xlink:href=\"#m8f29530d53\" y=\"224.64\"/>\n      </g>\n     </g>\n     <g id=\"text_63\">\n      <!-- 04/27/2020 -->\n      <g transform=\"translate(264.807029 258.493382)rotate(-20)scale(0.1 -0.1)\">\n       <use xlink:href=\"#DejaVuSans-48\"/>\n       <use x=\"63.623047\" xlink:href=\"#DejaVuSans-52\"/>\n       <use x=\"127.246094\" xlink:href=\"#DejaVuSans-47\"/>\n       <use x=\"160.9375\" xlink:href=\"#DejaVuSans-50\"/>\n       <use x=\"224.560547\" xlink:href=\"#DejaVuSans-55\"/>\n       <use x=\"288.183594\" xlink:href=\"#DejaVuSans-47\"/>\n       <use x=\"321.875\" xlink:href=\"#DejaVuSans-50\"/>\n       <use x=\"385.498047\" xlink:href=\"#DejaVuSans-48\"/>\n       <use x=\"449.121094\" xlink:href=\"#DejaVuSans-50\"/>\n       <use x=\"512.744141\" xlink:href=\"#DejaVuSans-48\"/>\n      </g>\n     </g>\n    </g>\n    <g id=\"xtick_64\">\n     <g id=\"line2d_64\">\n      <g>\n       <use style=\"stroke:#000000;stroke-width:0.8;\" x=\"294.325852\" xlink:href=\"#m8f29530d53\" y=\"224.64\"/>\n      </g>\n     </g>\n     <g id=\"text_64\">\n      <!-- 04/28/2020 -->\n      <g transform=\"translate(268.188847 258.493382)rotate(-20)scale(0.1 -0.1)\">\n       <use xlink:href=\"#DejaVuSans-48\"/>\n       <use x=\"63.623047\" xlink:href=\"#DejaVuSans-52\"/>\n       <use x=\"127.246094\" xlink:href=\"#DejaVuSans-47\"/>\n       <use x=\"160.9375\" xlink:href=\"#DejaVuSans-50\"/>\n       <use x=\"224.560547\" xlink:href=\"#DejaVuSans-56\"/>\n       <use x=\"288.183594\" xlink:href=\"#DejaVuSans-47\"/>\n       <use x=\"321.875\" xlink:href=\"#DejaVuSans-50\"/>\n       <use x=\"385.498047\" xlink:href=\"#DejaVuSans-48\"/>\n       <use x=\"449.121094\" xlink:href=\"#DejaVuSans-50\"/>\n       <use x=\"512.744141\" xlink:href=\"#DejaVuSans-48\"/>\n      </g>\n     </g>\n    </g>\n    <g id=\"xtick_65\">\n     <g id=\"line2d_65\">\n      <g>\n       <use style=\"stroke:#000000;stroke-width:0.8;\" x=\"297.70767\" xlink:href=\"#m8f29530d53\" y=\"224.64\"/>\n      </g>\n     </g>\n     <g id=\"text_65\">\n      <!-- 04/29/2020 -->\n      <g transform=\"translate(271.570666 258.493382)rotate(-20)scale(0.1 -0.1)\">\n       <use xlink:href=\"#DejaVuSans-48\"/>\n       <use x=\"63.623047\" xlink:href=\"#DejaVuSans-52\"/>\n       <use x=\"127.246094\" xlink:href=\"#DejaVuSans-47\"/>\n       <use x=\"160.9375\" xlink:href=\"#DejaVuSans-50\"/>\n       <use x=\"224.560547\" xlink:href=\"#DejaVuSans-57\"/>\n       <use x=\"288.183594\" xlink:href=\"#DejaVuSans-47\"/>\n       <use x=\"321.875\" xlink:href=\"#DejaVuSans-50\"/>\n       <use x=\"385.498047\" xlink:href=\"#DejaVuSans-48\"/>\n       <use x=\"449.121094\" xlink:href=\"#DejaVuSans-50\"/>\n       <use x=\"512.744141\" xlink:href=\"#DejaVuSans-48\"/>\n      </g>\n     </g>\n    </g>\n    <g id=\"xtick_66\">\n     <g id=\"line2d_66\">\n      <g>\n       <use style=\"stroke:#000000;stroke-width:0.8;\" x=\"301.089489\" xlink:href=\"#m8f29530d53\" y=\"224.64\"/>\n      </g>\n     </g>\n     <g id=\"text_66\">\n      <!-- 04/30/2020 -->\n      <g transform=\"translate(274.952484 258.493382)rotate(-20)scale(0.1 -0.1)\">\n       <use xlink:href=\"#DejaVuSans-48\"/>\n       <use x=\"63.623047\" xlink:href=\"#DejaVuSans-52\"/>\n       <use x=\"127.246094\" xlink:href=\"#DejaVuSans-47\"/>\n       <use x=\"160.9375\" xlink:href=\"#DejaVuSans-51\"/>\n       <use x=\"224.560547\" xlink:href=\"#DejaVuSans-48\"/>\n       <use x=\"288.183594\" xlink:href=\"#DejaVuSans-47\"/>\n       <use x=\"321.875\" xlink:href=\"#DejaVuSans-50\"/>\n       <use x=\"385.498047\" xlink:href=\"#DejaVuSans-48\"/>\n       <use x=\"449.121094\" xlink:href=\"#DejaVuSans-50\"/>\n       <use x=\"512.744141\" xlink:href=\"#DejaVuSans-48\"/>\n      </g>\n     </g>\n    </g>\n    <g id=\"xtick_67\">\n     <g id=\"line2d_67\">\n      <g>\n       <use style=\"stroke:#000000;stroke-width:0.8;\" x=\"304.471307\" xlink:href=\"#m8f29530d53\" y=\"224.64\"/>\n      </g>\n     </g>\n     <g id=\"text_67\">\n      <!-- 05/01/2020 -->\n      <g transform=\"translate(278.334302 258.493382)rotate(-20)scale(0.1 -0.1)\">\n       <use xlink:href=\"#DejaVuSans-48\"/>\n       <use x=\"63.623047\" xlink:href=\"#DejaVuSans-53\"/>\n       <use x=\"127.246094\" xlink:href=\"#DejaVuSans-47\"/>\n       <use x=\"160.9375\" xlink:href=\"#DejaVuSans-48\"/>\n       <use x=\"224.560547\" xlink:href=\"#DejaVuSans-49\"/>\n       <use x=\"288.183594\" xlink:href=\"#DejaVuSans-47\"/>\n       <use x=\"321.875\" xlink:href=\"#DejaVuSans-50\"/>\n       <use x=\"385.498047\" xlink:href=\"#DejaVuSans-48\"/>\n       <use x=\"449.121094\" xlink:href=\"#DejaVuSans-50\"/>\n       <use x=\"512.744141\" xlink:href=\"#DejaVuSans-48\"/>\n      </g>\n     </g>\n    </g>\n    <g id=\"xtick_68\">\n     <g id=\"line2d_68\">\n      <g>\n       <use style=\"stroke:#000000;stroke-width:0.8;\" x=\"307.853125\" xlink:href=\"#m8f29530d53\" y=\"224.64\"/>\n      </g>\n     </g>\n     <g id=\"text_68\">\n      <!-- 05/02/2020 -->\n      <g transform=\"translate(281.71612 258.493382)rotate(-20)scale(0.1 -0.1)\">\n       <use xlink:href=\"#DejaVuSans-48\"/>\n       <use x=\"63.623047\" xlink:href=\"#DejaVuSans-53\"/>\n       <use x=\"127.246094\" xlink:href=\"#DejaVuSans-47\"/>\n       <use x=\"160.9375\" xlink:href=\"#DejaVuSans-48\"/>\n       <use x=\"224.560547\" xlink:href=\"#DejaVuSans-50\"/>\n       <use x=\"288.183594\" xlink:href=\"#DejaVuSans-47\"/>\n       <use x=\"321.875\" xlink:href=\"#DejaVuSans-50\"/>\n       <use x=\"385.498047\" xlink:href=\"#DejaVuSans-48\"/>\n       <use x=\"449.121094\" xlink:href=\"#DejaVuSans-50\"/>\n       <use x=\"512.744141\" xlink:href=\"#DejaVuSans-48\"/>\n      </g>\n     </g>\n    </g>\n    <g id=\"xtick_69\">\n     <g id=\"line2d_69\">\n      <g>\n       <use style=\"stroke:#000000;stroke-width:0.8;\" x=\"311.234943\" xlink:href=\"#m8f29530d53\" y=\"224.64\"/>\n      </g>\n     </g>\n     <g id=\"text_69\">\n      <!-- 05/03/2020 -->\n      <g transform=\"translate(285.097938 258.493382)rotate(-20)scale(0.1 -0.1)\">\n       <use xlink:href=\"#DejaVuSans-48\"/>\n       <use x=\"63.623047\" xlink:href=\"#DejaVuSans-53\"/>\n       <use x=\"127.246094\" xlink:href=\"#DejaVuSans-47\"/>\n       <use x=\"160.9375\" xlink:href=\"#DejaVuSans-48\"/>\n       <use x=\"224.560547\" xlink:href=\"#DejaVuSans-51\"/>\n       <use x=\"288.183594\" xlink:href=\"#DejaVuSans-47\"/>\n       <use x=\"321.875\" xlink:href=\"#DejaVuSans-50\"/>\n       <use x=\"385.498047\" xlink:href=\"#DejaVuSans-48\"/>\n       <use x=\"449.121094\" xlink:href=\"#DejaVuSans-50\"/>\n       <use x=\"512.744141\" xlink:href=\"#DejaVuSans-48\"/>\n      </g>\n     </g>\n    </g>\n    <g id=\"xtick_70\">\n     <g id=\"line2d_70\">\n      <g>\n       <use style=\"stroke:#000000;stroke-width:0.8;\" x=\"314.616761\" xlink:href=\"#m8f29530d53\" y=\"224.64\"/>\n      </g>\n     </g>\n     <g id=\"text_70\">\n      <!-- 05/04/2020 -->\n      <g transform=\"translate(288.479756 258.493382)rotate(-20)scale(0.1 -0.1)\">\n       <use xlink:href=\"#DejaVuSans-48\"/>\n       <use x=\"63.623047\" xlink:href=\"#DejaVuSans-53\"/>\n       <use x=\"127.246094\" xlink:href=\"#DejaVuSans-47\"/>\n       <use x=\"160.9375\" xlink:href=\"#DejaVuSans-48\"/>\n       <use x=\"224.560547\" xlink:href=\"#DejaVuSans-52\"/>\n       <use x=\"288.183594\" xlink:href=\"#DejaVuSans-47\"/>\n       <use x=\"321.875\" xlink:href=\"#DejaVuSans-50\"/>\n       <use x=\"385.498047\" xlink:href=\"#DejaVuSans-48\"/>\n       <use x=\"449.121094\" xlink:href=\"#DejaVuSans-50\"/>\n       <use x=\"512.744141\" xlink:href=\"#DejaVuSans-48\"/>\n      </g>\n     </g>\n    </g>\n    <g id=\"xtick_71\">\n     <g id=\"line2d_71\">\n      <g>\n       <use style=\"stroke:#000000;stroke-width:0.8;\" x=\"317.99858\" xlink:href=\"#m8f29530d53\" y=\"224.64\"/>\n      </g>\n     </g>\n     <g id=\"text_71\">\n      <!-- 05/05/2020 -->\n      <g transform=\"translate(291.861575 258.493382)rotate(-20)scale(0.1 -0.1)\">\n       <use xlink:href=\"#DejaVuSans-48\"/>\n       <use x=\"63.623047\" xlink:href=\"#DejaVuSans-53\"/>\n       <use x=\"127.246094\" xlink:href=\"#DejaVuSans-47\"/>\n       <use x=\"160.9375\" xlink:href=\"#DejaVuSans-48\"/>\n       <use x=\"224.560547\" xlink:href=\"#DejaVuSans-53\"/>\n       <use x=\"288.183594\" xlink:href=\"#DejaVuSans-47\"/>\n       <use x=\"321.875\" xlink:href=\"#DejaVuSans-50\"/>\n       <use x=\"385.498047\" xlink:href=\"#DejaVuSans-48\"/>\n       <use x=\"449.121094\" xlink:href=\"#DejaVuSans-50\"/>\n       <use x=\"512.744141\" xlink:href=\"#DejaVuSans-48\"/>\n      </g>\n     </g>\n    </g>\n    <g id=\"xtick_72\">\n     <g id=\"line2d_72\">\n      <g>\n       <use style=\"stroke:#000000;stroke-width:0.8;\" x=\"321.380398\" xlink:href=\"#m8f29530d53\" y=\"224.64\"/>\n      </g>\n     </g>\n     <g id=\"text_72\">\n      <!-- 05/06/2020 -->\n      <g transform=\"translate(295.243393 258.493382)rotate(-20)scale(0.1 -0.1)\">\n       <use xlink:href=\"#DejaVuSans-48\"/>\n       <use x=\"63.623047\" xlink:href=\"#DejaVuSans-53\"/>\n       <use x=\"127.246094\" xlink:href=\"#DejaVuSans-47\"/>\n       <use x=\"160.9375\" xlink:href=\"#DejaVuSans-48\"/>\n       <use x=\"224.560547\" xlink:href=\"#DejaVuSans-54\"/>\n       <use x=\"288.183594\" xlink:href=\"#DejaVuSans-47\"/>\n       <use x=\"321.875\" xlink:href=\"#DejaVuSans-50\"/>\n       <use x=\"385.498047\" xlink:href=\"#DejaVuSans-48\"/>\n       <use x=\"449.121094\" xlink:href=\"#DejaVuSans-50\"/>\n       <use x=\"512.744141\" xlink:href=\"#DejaVuSans-48\"/>\n      </g>\n     </g>\n    </g>\n    <g id=\"xtick_73\">\n     <g id=\"line2d_73\">\n      <g>\n       <use style=\"stroke:#000000;stroke-width:0.8;\" x=\"324.762216\" xlink:href=\"#m8f29530d53\" y=\"224.64\"/>\n      </g>\n     </g>\n     <g id=\"text_73\">\n      <!-- 05/07/2020 -->\n      <g transform=\"translate(298.625211 258.493382)rotate(-20)scale(0.1 -0.1)\">\n       <use xlink:href=\"#DejaVuSans-48\"/>\n       <use x=\"63.623047\" xlink:href=\"#DejaVuSans-53\"/>\n       <use x=\"127.246094\" xlink:href=\"#DejaVuSans-47\"/>\n       <use x=\"160.9375\" xlink:href=\"#DejaVuSans-48\"/>\n       <use x=\"224.560547\" xlink:href=\"#DejaVuSans-55\"/>\n       <use x=\"288.183594\" xlink:href=\"#DejaVuSans-47\"/>\n       <use x=\"321.875\" xlink:href=\"#DejaVuSans-50\"/>\n       <use x=\"385.498047\" xlink:href=\"#DejaVuSans-48\"/>\n       <use x=\"449.121094\" xlink:href=\"#DejaVuSans-50\"/>\n       <use x=\"512.744141\" xlink:href=\"#DejaVuSans-48\"/>\n      </g>\n     </g>\n    </g>\n    <g id=\"xtick_74\">\n     <g id=\"line2d_74\">\n      <g>\n       <use style=\"stroke:#000000;stroke-width:0.8;\" x=\"328.144034\" xlink:href=\"#m8f29530d53\" y=\"224.64\"/>\n      </g>\n     </g>\n     <g id=\"text_74\">\n      <!-- 05/08/2020 -->\n      <g transform=\"translate(302.007029 258.493382)rotate(-20)scale(0.1 -0.1)\">\n       <use xlink:href=\"#DejaVuSans-48\"/>\n       <use x=\"63.623047\" xlink:href=\"#DejaVuSans-53\"/>\n       <use x=\"127.246094\" xlink:href=\"#DejaVuSans-47\"/>\n       <use x=\"160.9375\" xlink:href=\"#DejaVuSans-48\"/>\n       <use x=\"224.560547\" xlink:href=\"#DejaVuSans-56\"/>\n       <use x=\"288.183594\" xlink:href=\"#DejaVuSans-47\"/>\n       <use x=\"321.875\" xlink:href=\"#DejaVuSans-50\"/>\n       <use x=\"385.498047\" xlink:href=\"#DejaVuSans-48\"/>\n       <use x=\"449.121094\" xlink:href=\"#DejaVuSans-50\"/>\n       <use x=\"512.744141\" xlink:href=\"#DejaVuSans-48\"/>\n      </g>\n     </g>\n    </g>\n    <g id=\"xtick_75\">\n     <g id=\"line2d_75\">\n      <g>\n       <use style=\"stroke:#000000;stroke-width:0.8;\" x=\"331.525852\" xlink:href=\"#m8f29530d53\" y=\"224.64\"/>\n      </g>\n     </g>\n     <g id=\"text_75\">\n      <!-- 05/09/2020 -->\n      <g transform=\"translate(305.388847 258.493382)rotate(-20)scale(0.1 -0.1)\">\n       <use xlink:href=\"#DejaVuSans-48\"/>\n       <use x=\"63.623047\" xlink:href=\"#DejaVuSans-53\"/>\n       <use x=\"127.246094\" xlink:href=\"#DejaVuSans-47\"/>\n       <use x=\"160.9375\" xlink:href=\"#DejaVuSans-48\"/>\n       <use x=\"224.560547\" xlink:href=\"#DejaVuSans-57\"/>\n       <use x=\"288.183594\" xlink:href=\"#DejaVuSans-47\"/>\n       <use x=\"321.875\" xlink:href=\"#DejaVuSans-50\"/>\n       <use x=\"385.498047\" xlink:href=\"#DejaVuSans-48\"/>\n       <use x=\"449.121094\" xlink:href=\"#DejaVuSans-50\"/>\n       <use x=\"512.744141\" xlink:href=\"#DejaVuSans-48\"/>\n      </g>\n     </g>\n    </g>\n    <g id=\"xtick_76\">\n     <g id=\"line2d_76\">\n      <g>\n       <use style=\"stroke:#000000;stroke-width:0.8;\" x=\"334.90767\" xlink:href=\"#m8f29530d53\" y=\"224.64\"/>\n      </g>\n     </g>\n     <g id=\"text_76\">\n      <!-- 05/10/2020 -->\n      <g transform=\"translate(308.770666 258.493382)rotate(-20)scale(0.1 -0.1)\">\n       <use xlink:href=\"#DejaVuSans-48\"/>\n       <use x=\"63.623047\" xlink:href=\"#DejaVuSans-53\"/>\n       <use x=\"127.246094\" xlink:href=\"#DejaVuSans-47\"/>\n       <use x=\"160.9375\" xlink:href=\"#DejaVuSans-49\"/>\n       <use x=\"224.560547\" xlink:href=\"#DejaVuSans-48\"/>\n       <use x=\"288.183594\" xlink:href=\"#DejaVuSans-47\"/>\n       <use x=\"321.875\" xlink:href=\"#DejaVuSans-50\"/>\n       <use x=\"385.498047\" xlink:href=\"#DejaVuSans-48\"/>\n       <use x=\"449.121094\" xlink:href=\"#DejaVuSans-50\"/>\n       <use x=\"512.744141\" xlink:href=\"#DejaVuSans-48\"/>\n      </g>\n     </g>\n    </g>\n    <g id=\"xtick_77\">\n     <g id=\"line2d_77\">\n      <g>\n       <use style=\"stroke:#000000;stroke-width:0.8;\" x=\"338.289489\" xlink:href=\"#m8f29530d53\" y=\"224.64\"/>\n      </g>\n     </g>\n     <g id=\"text_77\">\n      <!-- 05/11/2020 -->\n      <g transform=\"translate(312.152484 258.493382)rotate(-20)scale(0.1 -0.1)\">\n       <use xlink:href=\"#DejaVuSans-48\"/>\n       <use x=\"63.623047\" xlink:href=\"#DejaVuSans-53\"/>\n       <use x=\"127.246094\" xlink:href=\"#DejaVuSans-47\"/>\n       <use x=\"160.9375\" xlink:href=\"#DejaVuSans-49\"/>\n       <use x=\"224.560547\" xlink:href=\"#DejaVuSans-49\"/>\n       <use x=\"288.183594\" xlink:href=\"#DejaVuSans-47\"/>\n       <use x=\"321.875\" xlink:href=\"#DejaVuSans-50\"/>\n       <use x=\"385.498047\" xlink:href=\"#DejaVuSans-48\"/>\n       <use x=\"449.121094\" xlink:href=\"#DejaVuSans-50\"/>\n       <use x=\"512.744141\" xlink:href=\"#DejaVuSans-48\"/>\n      </g>\n     </g>\n    </g>\n    <g id=\"xtick_78\">\n     <g id=\"line2d_78\">\n      <g>\n       <use style=\"stroke:#000000;stroke-width:0.8;\" x=\"341.671307\" xlink:href=\"#m8f29530d53\" y=\"224.64\"/>\n      </g>\n     </g>\n     <g id=\"text_78\">\n      <!-- 05/12/2020 -->\n      <g transform=\"translate(315.534302 258.493382)rotate(-20)scale(0.1 -0.1)\">\n       <use xlink:href=\"#DejaVuSans-48\"/>\n       <use x=\"63.623047\" xlink:href=\"#DejaVuSans-53\"/>\n       <use x=\"127.246094\" xlink:href=\"#DejaVuSans-47\"/>\n       <use x=\"160.9375\" xlink:href=\"#DejaVuSans-49\"/>\n       <use x=\"224.560547\" xlink:href=\"#DejaVuSans-50\"/>\n       <use x=\"288.183594\" xlink:href=\"#DejaVuSans-47\"/>\n       <use x=\"321.875\" xlink:href=\"#DejaVuSans-50\"/>\n       <use x=\"385.498047\" xlink:href=\"#DejaVuSans-48\"/>\n       <use x=\"449.121094\" xlink:href=\"#DejaVuSans-50\"/>\n       <use x=\"512.744141\" xlink:href=\"#DejaVuSans-48\"/>\n      </g>\n     </g>\n    </g>\n    <g id=\"xtick_79\">\n     <g id=\"line2d_79\">\n      <g>\n       <use style=\"stroke:#000000;stroke-width:0.8;\" x=\"345.053125\" xlink:href=\"#m8f29530d53\" y=\"224.64\"/>\n      </g>\n     </g>\n     <g id=\"text_79\">\n      <!-- 05/13/2020 -->\n      <g transform=\"translate(318.91612 258.493382)rotate(-20)scale(0.1 -0.1)\">\n       <use xlink:href=\"#DejaVuSans-48\"/>\n       <use x=\"63.623047\" xlink:href=\"#DejaVuSans-53\"/>\n       <use x=\"127.246094\" xlink:href=\"#DejaVuSans-47\"/>\n       <use x=\"160.9375\" xlink:href=\"#DejaVuSans-49\"/>\n       <use x=\"224.560547\" xlink:href=\"#DejaVuSans-51\"/>\n       <use x=\"288.183594\" xlink:href=\"#DejaVuSans-47\"/>\n       <use x=\"321.875\" xlink:href=\"#DejaVuSans-50\"/>\n       <use x=\"385.498047\" xlink:href=\"#DejaVuSans-48\"/>\n       <use x=\"449.121094\" xlink:href=\"#DejaVuSans-50\"/>\n       <use x=\"512.744141\" xlink:href=\"#DejaVuSans-48\"/>\n      </g>\n     </g>\n    </g>\n    <g id=\"xtick_80\">\n     <g id=\"line2d_80\">\n      <g>\n       <use style=\"stroke:#000000;stroke-width:0.8;\" x=\"348.434943\" xlink:href=\"#m8f29530d53\" y=\"224.64\"/>\n      </g>\n     </g>\n     <g id=\"text_80\">\n      <!-- 05/14/2020 -->\n      <g transform=\"translate(322.297938 258.493382)rotate(-20)scale(0.1 -0.1)\">\n       <use xlink:href=\"#DejaVuSans-48\"/>\n       <use x=\"63.623047\" xlink:href=\"#DejaVuSans-53\"/>\n       <use x=\"127.246094\" xlink:href=\"#DejaVuSans-47\"/>\n       <use x=\"160.9375\" xlink:href=\"#DejaVuSans-49\"/>\n       <use x=\"224.560547\" xlink:href=\"#DejaVuSans-52\"/>\n       <use x=\"288.183594\" xlink:href=\"#DejaVuSans-47\"/>\n       <use x=\"321.875\" xlink:href=\"#DejaVuSans-50\"/>\n       <use x=\"385.498047\" xlink:href=\"#DejaVuSans-48\"/>\n       <use x=\"449.121094\" xlink:href=\"#DejaVuSans-50\"/>\n       <use x=\"512.744141\" xlink:href=\"#DejaVuSans-48\"/>\n      </g>\n     </g>\n    </g>\n    <g id=\"xtick_81\">\n     <g id=\"line2d_81\">\n      <g>\n       <use style=\"stroke:#000000;stroke-width:0.8;\" x=\"351.816761\" xlink:href=\"#m8f29530d53\" y=\"224.64\"/>\n      </g>\n     </g>\n     <g id=\"text_81\">\n      <!-- 05/15/2020 -->\n      <g transform=\"translate(325.679756 258.493382)rotate(-20)scale(0.1 -0.1)\">\n       <use xlink:href=\"#DejaVuSans-48\"/>\n       <use x=\"63.623047\" xlink:href=\"#DejaVuSans-53\"/>\n       <use x=\"127.246094\" xlink:href=\"#DejaVuSans-47\"/>\n       <use x=\"160.9375\" xlink:href=\"#DejaVuSans-49\"/>\n       <use x=\"224.560547\" xlink:href=\"#DejaVuSans-53\"/>\n       <use x=\"288.183594\" xlink:href=\"#DejaVuSans-47\"/>\n       <use x=\"321.875\" xlink:href=\"#DejaVuSans-50\"/>\n       <use x=\"385.498047\" xlink:href=\"#DejaVuSans-48\"/>\n       <use x=\"449.121094\" xlink:href=\"#DejaVuSans-50\"/>\n       <use x=\"512.744141\" xlink:href=\"#DejaVuSans-48\"/>\n      </g>\n     </g>\n    </g>\n    <g id=\"xtick_82\">\n     <g id=\"line2d_82\">\n      <g>\n       <use style=\"stroke:#000000;stroke-width:0.8;\" x=\"355.19858\" xlink:href=\"#m8f29530d53\" y=\"224.64\"/>\n      </g>\n     </g>\n     <g id=\"text_82\">\n      <!-- 05/16/2020 -->\n      <g transform=\"translate(329.061575 258.493382)rotate(-20)scale(0.1 -0.1)\">\n       <use xlink:href=\"#DejaVuSans-48\"/>\n       <use x=\"63.623047\" xlink:href=\"#DejaVuSans-53\"/>\n       <use x=\"127.246094\" xlink:href=\"#DejaVuSans-47\"/>\n       <use x=\"160.9375\" xlink:href=\"#DejaVuSans-49\"/>\n       <use x=\"224.560547\" xlink:href=\"#DejaVuSans-54\"/>\n       <use x=\"288.183594\" xlink:href=\"#DejaVuSans-47\"/>\n       <use x=\"321.875\" xlink:href=\"#DejaVuSans-50\"/>\n       <use x=\"385.498047\" xlink:href=\"#DejaVuSans-48\"/>\n       <use x=\"449.121094\" xlink:href=\"#DejaVuSans-50\"/>\n       <use x=\"512.744141\" xlink:href=\"#DejaVuSans-48\"/>\n      </g>\n     </g>\n    </g>\n    <g id=\"xtick_83\">\n     <g id=\"line2d_83\">\n      <g>\n       <use style=\"stroke:#000000;stroke-width:0.8;\" x=\"358.580398\" xlink:href=\"#m8f29530d53\" y=\"224.64\"/>\n      </g>\n     </g>\n     <g id=\"text_83\">\n      <!-- 05/17/2020 -->\n      <g transform=\"translate(332.443393 258.493382)rotate(-20)scale(0.1 -0.1)\">\n       <use xlink:href=\"#DejaVuSans-48\"/>\n       <use x=\"63.623047\" xlink:href=\"#DejaVuSans-53\"/>\n       <use x=\"127.246094\" xlink:href=\"#DejaVuSans-47\"/>\n       <use x=\"160.9375\" xlink:href=\"#DejaVuSans-49\"/>\n       <use x=\"224.560547\" xlink:href=\"#DejaVuSans-55\"/>\n       <use x=\"288.183594\" xlink:href=\"#DejaVuSans-47\"/>\n       <use x=\"321.875\" xlink:href=\"#DejaVuSans-50\"/>\n       <use x=\"385.498047\" xlink:href=\"#DejaVuSans-48\"/>\n       <use x=\"449.121094\" xlink:href=\"#DejaVuSans-50\"/>\n       <use x=\"512.744141\" xlink:href=\"#DejaVuSans-48\"/>\n      </g>\n     </g>\n    </g>\n    <g id=\"xtick_84\">\n     <g id=\"line2d_84\">\n      <g>\n       <use style=\"stroke:#000000;stroke-width:0.8;\" x=\"361.962216\" xlink:href=\"#m8f29530d53\" y=\"224.64\"/>\n      </g>\n     </g>\n     <g id=\"text_84\">\n      <!-- 05/18/2020 -->\n      <g transform=\"translate(335.825211 258.493382)rotate(-20)scale(0.1 -0.1)\">\n       <use xlink:href=\"#DejaVuSans-48\"/>\n       <use x=\"63.623047\" xlink:href=\"#DejaVuSans-53\"/>\n       <use x=\"127.246094\" xlink:href=\"#DejaVuSans-47\"/>\n       <use x=\"160.9375\" xlink:href=\"#DejaVuSans-49\"/>\n       <use x=\"224.560547\" xlink:href=\"#DejaVuSans-56\"/>\n       <use x=\"288.183594\" xlink:href=\"#DejaVuSans-47\"/>\n       <use x=\"321.875\" xlink:href=\"#DejaVuSans-50\"/>\n       <use x=\"385.498047\" xlink:href=\"#DejaVuSans-48\"/>\n       <use x=\"449.121094\" xlink:href=\"#DejaVuSans-50\"/>\n       <use x=\"512.744141\" xlink:href=\"#DejaVuSans-48\"/>\n      </g>\n     </g>\n    </g>\n    <g id=\"xtick_85\">\n     <g id=\"line2d_85\">\n      <g>\n       <use style=\"stroke:#000000;stroke-width:0.8;\" x=\"365.344034\" xlink:href=\"#m8f29530d53\" y=\"224.64\"/>\n      </g>\n     </g>\n     <g id=\"text_85\">\n      <!-- 05/19/2020 -->\n      <g transform=\"translate(339.207029 258.493382)rotate(-20)scale(0.1 -0.1)\">\n       <use xlink:href=\"#DejaVuSans-48\"/>\n       <use x=\"63.623047\" xlink:href=\"#DejaVuSans-53\"/>\n       <use x=\"127.246094\" xlink:href=\"#DejaVuSans-47\"/>\n       <use x=\"160.9375\" xlink:href=\"#DejaVuSans-49\"/>\n       <use x=\"224.560547\" xlink:href=\"#DejaVuSans-57\"/>\n       <use x=\"288.183594\" xlink:href=\"#DejaVuSans-47\"/>\n       <use x=\"321.875\" xlink:href=\"#DejaVuSans-50\"/>\n       <use x=\"385.498047\" xlink:href=\"#DejaVuSans-48\"/>\n       <use x=\"449.121094\" xlink:href=\"#DejaVuSans-50\"/>\n       <use x=\"512.744141\" xlink:href=\"#DejaVuSans-48\"/>\n      </g>\n     </g>\n    </g>\n    <g id=\"xtick_86\">\n     <g id=\"line2d_86\">\n      <g>\n       <use style=\"stroke:#000000;stroke-width:0.8;\" x=\"368.725852\" xlink:href=\"#m8f29530d53\" y=\"224.64\"/>\n      </g>\n     </g>\n     <g id=\"text_86\">\n      <!-- 05/20/2020 -->\n      <g transform=\"translate(342.588847 258.493382)rotate(-20)scale(0.1 -0.1)\">\n       <use xlink:href=\"#DejaVuSans-48\"/>\n       <use x=\"63.623047\" xlink:href=\"#DejaVuSans-53\"/>\n       <use x=\"127.246094\" xlink:href=\"#DejaVuSans-47\"/>\n       <use x=\"160.9375\" xlink:href=\"#DejaVuSans-50\"/>\n       <use x=\"224.560547\" xlink:href=\"#DejaVuSans-48\"/>\n       <use x=\"288.183594\" xlink:href=\"#DejaVuSans-47\"/>\n       <use x=\"321.875\" xlink:href=\"#DejaVuSans-50\"/>\n       <use x=\"385.498047\" xlink:href=\"#DejaVuSans-48\"/>\n       <use x=\"449.121094\" xlink:href=\"#DejaVuSans-50\"/>\n       <use x=\"512.744141\" xlink:href=\"#DejaVuSans-48\"/>\n      </g>\n     </g>\n    </g>\n    <g id=\"xtick_87\">\n     <g id=\"line2d_87\">\n      <g>\n       <use style=\"stroke:#000000;stroke-width:0.8;\" x=\"372.10767\" xlink:href=\"#m8f29530d53\" y=\"224.64\"/>\n      </g>\n     </g>\n     <g id=\"text_87\">\n      <!-- 05/21/2020 -->\n      <g transform=\"translate(345.970666 258.493382)rotate(-20)scale(0.1 -0.1)\">\n       <use xlink:href=\"#DejaVuSans-48\"/>\n       <use x=\"63.623047\" xlink:href=\"#DejaVuSans-53\"/>\n       <use x=\"127.246094\" xlink:href=\"#DejaVuSans-47\"/>\n       <use x=\"160.9375\" xlink:href=\"#DejaVuSans-50\"/>\n       <use x=\"224.560547\" xlink:href=\"#DejaVuSans-49\"/>\n       <use x=\"288.183594\" xlink:href=\"#DejaVuSans-47\"/>\n       <use x=\"321.875\" xlink:href=\"#DejaVuSans-50\"/>\n       <use x=\"385.498047\" xlink:href=\"#DejaVuSans-48\"/>\n       <use x=\"449.121094\" xlink:href=\"#DejaVuSans-50\"/>\n       <use x=\"512.744141\" xlink:href=\"#DejaVuSans-48\"/>\n      </g>\n     </g>\n    </g>\n    <g id=\"xtick_88\">\n     <g id=\"line2d_88\">\n      <g>\n       <use style=\"stroke:#000000;stroke-width:0.8;\" x=\"375.489489\" xlink:href=\"#m8f29530d53\" y=\"224.64\"/>\n      </g>\n     </g>\n     <g id=\"text_88\">\n      <!-- 05/22/2020 -->\n      <g transform=\"translate(349.352484 258.493382)rotate(-20)scale(0.1 -0.1)\">\n       <use xlink:href=\"#DejaVuSans-48\"/>\n       <use x=\"63.623047\" xlink:href=\"#DejaVuSans-53\"/>\n       <use x=\"127.246094\" xlink:href=\"#DejaVuSans-47\"/>\n       <use x=\"160.9375\" xlink:href=\"#DejaVuSans-50\"/>\n       <use x=\"224.560547\" xlink:href=\"#DejaVuSans-50\"/>\n       <use x=\"288.183594\" xlink:href=\"#DejaVuSans-47\"/>\n       <use x=\"321.875\" xlink:href=\"#DejaVuSans-50\"/>\n       <use x=\"385.498047\" xlink:href=\"#DejaVuSans-48\"/>\n       <use x=\"449.121094\" xlink:href=\"#DejaVuSans-50\"/>\n       <use x=\"512.744141\" xlink:href=\"#DejaVuSans-48\"/>\n      </g>\n     </g>\n    </g>\n    <g id=\"xtick_89\">\n     <g id=\"line2d_89\">\n      <g>\n       <use style=\"stroke:#000000;stroke-width:0.8;\" x=\"378.871307\" xlink:href=\"#m8f29530d53\" y=\"224.64\"/>\n      </g>\n     </g>\n     <g id=\"text_89\">\n      <!-- 05/23/2020 -->\n      <g transform=\"translate(352.734302 258.493382)rotate(-20)scale(0.1 -0.1)\">\n       <use xlink:href=\"#DejaVuSans-48\"/>\n       <use x=\"63.623047\" xlink:href=\"#DejaVuSans-53\"/>\n       <use x=\"127.246094\" xlink:href=\"#DejaVuSans-47\"/>\n       <use x=\"160.9375\" xlink:href=\"#DejaVuSans-50\"/>\n       <use x=\"224.560547\" xlink:href=\"#DejaVuSans-51\"/>\n       <use x=\"288.183594\" xlink:href=\"#DejaVuSans-47\"/>\n       <use x=\"321.875\" xlink:href=\"#DejaVuSans-50\"/>\n       <use x=\"385.498047\" xlink:href=\"#DejaVuSans-48\"/>\n       <use x=\"449.121094\" xlink:href=\"#DejaVuSans-50\"/>\n       <use x=\"512.744141\" xlink:href=\"#DejaVuSans-48\"/>\n      </g>\n     </g>\n    </g>\n    <g id=\"xtick_90\">\n     <g id=\"line2d_90\">\n      <g>\n       <use style=\"stroke:#000000;stroke-width:0.8;\" x=\"382.253125\" xlink:href=\"#m8f29530d53\" y=\"224.64\"/>\n      </g>\n     </g>\n     <g id=\"text_90\">\n      <!-- 05/24/2020 -->\n      <g transform=\"translate(356.11612 258.493382)rotate(-20)scale(0.1 -0.1)\">\n       <use xlink:href=\"#DejaVuSans-48\"/>\n       <use x=\"63.623047\" xlink:href=\"#DejaVuSans-53\"/>\n       <use x=\"127.246094\" xlink:href=\"#DejaVuSans-47\"/>\n       <use x=\"160.9375\" xlink:href=\"#DejaVuSans-50\"/>\n       <use x=\"224.560547\" xlink:href=\"#DejaVuSans-52\"/>\n       <use x=\"288.183594\" xlink:href=\"#DejaVuSans-47\"/>\n       <use x=\"321.875\" xlink:href=\"#DejaVuSans-50\"/>\n       <use x=\"385.498047\" xlink:href=\"#DejaVuSans-48\"/>\n       <use x=\"449.121094\" xlink:href=\"#DejaVuSans-50\"/>\n       <use x=\"512.744141\" xlink:href=\"#DejaVuSans-48\"/>\n      </g>\n     </g>\n    </g>\n    <g id=\"xtick_91\">\n     <g id=\"line2d_91\">\n      <g>\n       <use style=\"stroke:#000000;stroke-width:0.8;\" x=\"385.634943\" xlink:href=\"#m8f29530d53\" y=\"224.64\"/>\n      </g>\n     </g>\n     <g id=\"text_91\">\n      <!-- 05/25/2020 -->\n      <g transform=\"translate(359.497938 258.493382)rotate(-20)scale(0.1 -0.1)\">\n       <use xlink:href=\"#DejaVuSans-48\"/>\n       <use x=\"63.623047\" xlink:href=\"#DejaVuSans-53\"/>\n       <use x=\"127.246094\" xlink:href=\"#DejaVuSans-47\"/>\n       <use x=\"160.9375\" xlink:href=\"#DejaVuSans-50\"/>\n       <use x=\"224.560547\" xlink:href=\"#DejaVuSans-53\"/>\n       <use x=\"288.183594\" xlink:href=\"#DejaVuSans-47\"/>\n       <use x=\"321.875\" xlink:href=\"#DejaVuSans-50\"/>\n       <use x=\"385.498047\" xlink:href=\"#DejaVuSans-48\"/>\n       <use x=\"449.121094\" xlink:href=\"#DejaVuSans-50\"/>\n       <use x=\"512.744141\" xlink:href=\"#DejaVuSans-48\"/>\n      </g>\n     </g>\n    </g>\n    <g id=\"text_92\">\n     <!-- ObservationDate -->\n     <defs>\n      <path d=\"M 39.40625 66.21875 \nQ 28.65625 66.21875 22.328125 58.203125 \nQ 16.015625 50.203125 16.015625 36.375 \nQ 16.015625 22.609375 22.328125 14.59375 \nQ 28.65625 6.59375 39.40625 6.59375 \nQ 50.140625 6.59375 56.421875 14.59375 \nQ 62.703125 22.609375 62.703125 36.375 \nQ 62.703125 50.203125 56.421875 58.203125 \nQ 50.140625 66.21875 39.40625 66.21875 \nz\nM 39.40625 74.21875 \nQ 54.734375 74.21875 63.90625 63.9375 \nQ 73.09375 53.65625 73.09375 36.375 \nQ 73.09375 19.140625 63.90625 8.859375 \nQ 54.734375 -1.421875 39.40625 -1.421875 \nQ 24.03125 -1.421875 14.8125 8.828125 \nQ 5.609375 19.09375 5.609375 36.375 \nQ 5.609375 53.65625 14.8125 63.9375 \nQ 24.03125 74.21875 39.40625 74.21875 \nz\n\" id=\"DejaVuSans-79\"/>\n      <path d=\"M 48.6875 27.296875 \nQ 48.6875 37.203125 44.609375 42.84375 \nQ 40.53125 48.484375 33.40625 48.484375 \nQ 26.265625 48.484375 22.1875 42.84375 \nQ 18.109375 37.203125 18.109375 27.296875 \nQ 18.109375 17.390625 22.1875 11.75 \nQ 26.265625 6.109375 33.40625 6.109375 \nQ 40.53125 6.109375 44.609375 11.75 \nQ 48.6875 17.390625 48.6875 27.296875 \nz\nM 18.109375 46.390625 \nQ 20.953125 51.265625 25.265625 53.625 \nQ 29.59375 56 35.59375 56 \nQ 45.5625 56 51.78125 48.09375 \nQ 58.015625 40.1875 58.015625 27.296875 \nQ 58.015625 14.40625 51.78125 6.484375 \nQ 45.5625 -1.421875 35.59375 -1.421875 \nQ 29.59375 -1.421875 25.265625 0.953125 \nQ 20.953125 3.328125 18.109375 8.203125 \nL 18.109375 0 \nL 9.078125 0 \nL 9.078125 75.984375 \nL 18.109375 75.984375 \nz\n\" id=\"DejaVuSans-98\"/>\n      <path d=\"M 44.28125 53.078125 \nL 44.28125 44.578125 \nQ 40.484375 46.53125 36.375 47.5 \nQ 32.28125 48.484375 27.875 48.484375 \nQ 21.1875 48.484375 17.84375 46.4375 \nQ 14.5 44.390625 14.5 40.28125 \nQ 14.5 37.15625 16.890625 35.375 \nQ 19.28125 33.59375 26.515625 31.984375 \nL 29.59375 31.296875 \nQ 39.15625 29.25 43.1875 25.515625 \nQ 47.21875 21.78125 47.21875 15.09375 \nQ 47.21875 7.46875 41.1875 3.015625 \nQ 35.15625 -1.421875 24.609375 -1.421875 \nQ 20.21875 -1.421875 15.453125 -0.5625 \nQ 10.6875 0.296875 5.421875 2 \nL 5.421875 11.28125 \nQ 10.40625 8.6875 15.234375 7.390625 \nQ 20.0625 6.109375 24.8125 6.109375 \nQ 31.15625 6.109375 34.5625 8.28125 \nQ 37.984375 10.453125 37.984375 14.40625 \nQ 37.984375 18.0625 35.515625 20.015625 \nQ 33.0625 21.96875 24.703125 23.78125 \nL 21.578125 24.515625 \nQ 13.234375 26.265625 9.515625 29.90625 \nQ 5.8125 33.546875 5.8125 39.890625 \nQ 5.8125 47.609375 11.28125 51.796875 \nQ 16.75 56 26.8125 56 \nQ 31.78125 56 36.171875 55.265625 \nQ 40.578125 54.546875 44.28125 53.078125 \nz\n\" id=\"DejaVuSans-115\"/>\n      <path d=\"M 56.203125 29.59375 \nL 56.203125 25.203125 \nL 14.890625 25.203125 \nQ 15.484375 15.921875 20.484375 11.0625 \nQ 25.484375 6.203125 34.421875 6.203125 \nQ 39.59375 6.203125 44.453125 7.46875 \nQ 49.3125 8.734375 54.109375 11.28125 \nL 54.109375 2.78125 \nQ 49.265625 0.734375 44.1875 -0.34375 \nQ 39.109375 -1.421875 33.890625 -1.421875 \nQ 20.796875 -1.421875 13.15625 6.1875 \nQ 5.515625 13.8125 5.515625 26.8125 \nQ 5.515625 40.234375 12.765625 48.109375 \nQ 20.015625 56 32.328125 56 \nQ 43.359375 56 49.78125 48.890625 \nQ 56.203125 41.796875 56.203125 29.59375 \nz\nM 47.21875 32.234375 \nQ 47.125 39.59375 43.09375 43.984375 \nQ 39.0625 48.390625 32.421875 48.390625 \nQ 24.90625 48.390625 20.390625 44.140625 \nQ 15.875 39.890625 15.1875 32.171875 \nz\n\" id=\"DejaVuSans-101\"/>\n      <path d=\"M 41.109375 46.296875 \nQ 39.59375 47.171875 37.8125 47.578125 \nQ 36.03125 48 33.890625 48 \nQ 26.265625 48 22.1875 43.046875 \nQ 18.109375 38.09375 18.109375 28.8125 \nL 18.109375 0 \nL 9.078125 0 \nL 9.078125 54.6875 \nL 18.109375 54.6875 \nL 18.109375 46.1875 \nQ 20.953125 51.171875 25.484375 53.578125 \nQ 30.03125 56 36.53125 56 \nQ 37.453125 56 38.578125 55.875 \nQ 39.703125 55.765625 41.0625 55.515625 \nz\n\" id=\"DejaVuSans-114\"/>\n      <path d=\"M 2.984375 54.6875 \nL 12.5 54.6875 \nL 29.59375 8.796875 \nL 46.6875 54.6875 \nL 56.203125 54.6875 \nL 35.6875 0 \nL 23.484375 0 \nz\n\" id=\"DejaVuSans-118\"/>\n      <path d=\"M 34.28125 27.484375 \nQ 23.390625 27.484375 19.1875 25 \nQ 14.984375 22.515625 14.984375 16.5 \nQ 14.984375 11.71875 18.140625 8.90625 \nQ 21.296875 6.109375 26.703125 6.109375 \nQ 34.1875 6.109375 38.703125 11.40625 \nQ 43.21875 16.703125 43.21875 25.484375 \nL 43.21875 27.484375 \nz\nM 52.203125 31.203125 \nL 52.203125 0 \nL 43.21875 0 \nL 43.21875 8.296875 \nQ 40.140625 3.328125 35.546875 0.953125 \nQ 30.953125 -1.421875 24.3125 -1.421875 \nQ 15.921875 -1.421875 10.953125 3.296875 \nQ 6 8.015625 6 15.921875 \nQ 6 25.140625 12.171875 29.828125 \nQ 18.359375 34.515625 30.609375 34.515625 \nL 43.21875 34.515625 \nL 43.21875 35.40625 \nQ 43.21875 41.609375 39.140625 45 \nQ 35.0625 48.390625 27.6875 48.390625 \nQ 23 48.390625 18.546875 47.265625 \nQ 14.109375 46.140625 10.015625 43.890625 \nL 10.015625 52.203125 \nQ 14.9375 54.109375 19.578125 55.046875 \nQ 24.21875 56 28.609375 56 \nQ 40.484375 56 46.34375 49.84375 \nQ 52.203125 43.703125 52.203125 31.203125 \nz\n\" id=\"DejaVuSans-97\"/>\n      <path d=\"M 18.3125 70.21875 \nL 18.3125 54.6875 \nL 36.8125 54.6875 \nL 36.8125 47.703125 \nL 18.3125 47.703125 \nL 18.3125 18.015625 \nQ 18.3125 11.328125 20.140625 9.421875 \nQ 21.96875 7.515625 27.59375 7.515625 \nL 36.8125 7.515625 \nL 36.8125 0 \nL 27.59375 0 \nQ 17.1875 0 13.234375 3.875 \nQ 9.28125 7.765625 9.28125 18.015625 \nL 9.28125 47.703125 \nL 2.6875 47.703125 \nL 2.6875 54.6875 \nL 9.28125 54.6875 \nL 9.28125 70.21875 \nz\n\" id=\"DejaVuSans-116\"/>\n      <path d=\"M 9.421875 54.6875 \nL 18.40625 54.6875 \nL 18.40625 0 \nL 9.421875 0 \nz\nM 9.421875 75.984375 \nL 18.40625 75.984375 \nL 18.40625 64.59375 \nL 9.421875 64.59375 \nz\n\" id=\"DejaVuSans-105\"/>\n      <path d=\"M 30.609375 48.390625 \nQ 23.390625 48.390625 19.1875 42.75 \nQ 14.984375 37.109375 14.984375 27.296875 \nQ 14.984375 17.484375 19.15625 11.84375 \nQ 23.34375 6.203125 30.609375 6.203125 \nQ 37.796875 6.203125 41.984375 11.859375 \nQ 46.1875 17.53125 46.1875 27.296875 \nQ 46.1875 37.015625 41.984375 42.703125 \nQ 37.796875 48.390625 30.609375 48.390625 \nz\nM 30.609375 56 \nQ 42.328125 56 49.015625 48.375 \nQ 55.71875 40.765625 55.71875 27.296875 \nQ 55.71875 13.875 49.015625 6.21875 \nQ 42.328125 -1.421875 30.609375 -1.421875 \nQ 18.84375 -1.421875 12.171875 6.21875 \nQ 5.515625 13.875 5.515625 27.296875 \nQ 5.515625 40.765625 12.171875 48.375 \nQ 18.84375 56 30.609375 56 \nz\n\" id=\"DejaVuSans-111\"/>\n      <path d=\"M 54.890625 33.015625 \nL 54.890625 0 \nL 45.90625 0 \nL 45.90625 32.71875 \nQ 45.90625 40.484375 42.875 44.328125 \nQ 39.84375 48.1875 33.796875 48.1875 \nQ 26.515625 48.1875 22.3125 43.546875 \nQ 18.109375 38.921875 18.109375 30.90625 \nL 18.109375 0 \nL 9.078125 0 \nL 9.078125 54.6875 \nL 18.109375 54.6875 \nL 18.109375 46.1875 \nQ 21.34375 51.125 25.703125 53.5625 \nQ 30.078125 56 35.796875 56 \nQ 45.21875 56 50.046875 50.171875 \nQ 54.890625 44.34375 54.890625 33.015625 \nz\n\" id=\"DejaVuSans-110\"/>\n      <path d=\"M 19.671875 64.796875 \nL 19.671875 8.109375 \nL 31.59375 8.109375 \nQ 46.6875 8.109375 53.6875 14.9375 \nQ 60.6875 21.78125 60.6875 36.53125 \nQ 60.6875 51.171875 53.6875 57.984375 \nQ 46.6875 64.796875 31.59375 64.796875 \nz\nM 9.8125 72.90625 \nL 30.078125 72.90625 \nQ 51.265625 72.90625 61.171875 64.09375 \nQ 71.09375 55.28125 71.09375 36.53125 \nQ 71.09375 17.671875 61.125 8.828125 \nQ 51.171875 0 30.078125 0 \nL 9.8125 0 \nz\n\" id=\"DejaVuSans-68\"/>\n     </defs>\n     <g transform=\"translate(191.054688 272.046086)scale(0.1 -0.1)\">\n      <use xlink:href=\"#DejaVuSans-79\"/>\n      <use x=\"78.710938\" xlink:href=\"#DejaVuSans-98\"/>\n      <use x=\"142.1875\" xlink:href=\"#DejaVuSans-115\"/>\n      <use x=\"194.287109\" xlink:href=\"#DejaVuSans-101\"/>\n      <use x=\"255.810547\" xlink:href=\"#DejaVuSans-114\"/>\n      <use x=\"296.923828\" xlink:href=\"#DejaVuSans-118\"/>\n      <use x=\"356.103516\" xlink:href=\"#DejaVuSans-97\"/>\n      <use x=\"417.382812\" xlink:href=\"#DejaVuSans-116\"/>\n      <use x=\"456.591797\" xlink:href=\"#DejaVuSans-105\"/>\n      <use x=\"484.375\" xlink:href=\"#DejaVuSans-111\"/>\n      <use x=\"545.556641\" xlink:href=\"#DejaVuSans-110\"/>\n      <use x=\"608.935547\" xlink:href=\"#DejaVuSans-68\"/>\n      <use x=\"685.9375\" xlink:href=\"#DejaVuSans-97\"/>\n      <use x=\"747.216797\" xlink:href=\"#DejaVuSans-116\"/>\n      <use x=\"786.425781\" xlink:href=\"#DejaVuSans-101\"/>\n     </g>\n    </g>\n   </g>\n   <g id=\"matplotlib.axis_2\">\n    <g id=\"ytick_1\">\n     <g id=\"line2d_92\">\n      <defs>\n       <path d=\"M 0 0 \nL -3.5 0 \n\" id=\"m8f663c6bca\" style=\"stroke:#000000;stroke-width:0.8;\"/>\n      </defs>\n      <g>\n       <use style=\"stroke:#000000;stroke-width:0.8;\" x=\"66.053125\" xlink:href=\"#m8f663c6bca\" y=\"214.756364\"/>\n      </g>\n     </g>\n     <g id=\"text_93\">\n      <!-- 0 -->\n      <g transform=\"translate(52.690625 218.555582)scale(0.1 -0.1)\">\n       <use xlink:href=\"#DejaVuSans-48\"/>\n      </g>\n     </g>\n    </g>\n    <g id=\"ytick_2\">\n     <g id=\"line2d_93\">\n      <g>\n       <use style=\"stroke:#000000;stroke-width:0.8;\" x=\"66.053125\" xlink:href=\"#m8f663c6bca\" y=\"178.404096\"/>\n      </g>\n     </g>\n     <g id=\"text_94\">\n      <!-- 50000 -->\n      <g transform=\"translate(27.240625 182.203314)scale(0.1 -0.1)\">\n       <use xlink:href=\"#DejaVuSans-53\"/>\n       <use x=\"63.623047\" xlink:href=\"#DejaVuSans-48\"/>\n       <use x=\"127.246094\" xlink:href=\"#DejaVuSans-48\"/>\n       <use x=\"190.869141\" xlink:href=\"#DejaVuSans-48\"/>\n       <use x=\"254.492188\" xlink:href=\"#DejaVuSans-48\"/>\n      </g>\n     </g>\n    </g>\n    <g id=\"ytick_3\">\n     <g id=\"line2d_94\">\n      <g>\n       <use style=\"stroke:#000000;stroke-width:0.8;\" x=\"66.053125\" xlink:href=\"#m8f663c6bca\" y=\"142.051828\"/>\n      </g>\n     </g>\n     <g id=\"text_95\">\n      <!-- 100000 -->\n      <g transform=\"translate(20.878125 145.851047)scale(0.1 -0.1)\">\n       <use xlink:href=\"#DejaVuSans-49\"/>\n       <use x=\"63.623047\" xlink:href=\"#DejaVuSans-48\"/>\n       <use x=\"127.246094\" xlink:href=\"#DejaVuSans-48\"/>\n       <use x=\"190.869141\" xlink:href=\"#DejaVuSans-48\"/>\n       <use x=\"254.492188\" xlink:href=\"#DejaVuSans-48\"/>\n       <use x=\"318.115234\" xlink:href=\"#DejaVuSans-48\"/>\n      </g>\n     </g>\n    </g>\n    <g id=\"ytick_4\">\n     <g id=\"line2d_95\">\n      <g>\n       <use style=\"stroke:#000000;stroke-width:0.8;\" x=\"66.053125\" xlink:href=\"#m8f663c6bca\" y=\"105.69956\"/>\n      </g>\n     </g>\n     <g id=\"text_96\">\n      <!-- 150000 -->\n      <g transform=\"translate(20.878125 109.498779)scale(0.1 -0.1)\">\n       <use xlink:href=\"#DejaVuSans-49\"/>\n       <use x=\"63.623047\" xlink:href=\"#DejaVuSans-53\"/>\n       <use x=\"127.246094\" xlink:href=\"#DejaVuSans-48\"/>\n       <use x=\"190.869141\" xlink:href=\"#DejaVuSans-48\"/>\n       <use x=\"254.492188\" xlink:href=\"#DejaVuSans-48\"/>\n       <use x=\"318.115234\" xlink:href=\"#DejaVuSans-48\"/>\n      </g>\n     </g>\n    </g>\n    <g id=\"ytick_5\">\n     <g id=\"line2d_96\">\n      <g>\n       <use style=\"stroke:#000000;stroke-width:0.8;\" x=\"66.053125\" xlink:href=\"#m8f663c6bca\" y=\"69.347292\"/>\n      </g>\n     </g>\n     <g id=\"text_97\">\n      <!-- 200000 -->\n      <g transform=\"translate(20.878125 73.146511)scale(0.1 -0.1)\">\n       <use xlink:href=\"#DejaVuSans-50\"/>\n       <use x=\"63.623047\" xlink:href=\"#DejaVuSans-48\"/>\n       <use x=\"127.246094\" xlink:href=\"#DejaVuSans-48\"/>\n       <use x=\"190.869141\" xlink:href=\"#DejaVuSans-48\"/>\n       <use x=\"254.492188\" xlink:href=\"#DejaVuSans-48\"/>\n       <use x=\"318.115234\" xlink:href=\"#DejaVuSans-48\"/>\n      </g>\n     </g>\n    </g>\n    <g id=\"ytick_6\">\n     <g id=\"line2d_97\">\n      <g>\n       <use style=\"stroke:#000000;stroke-width:0.8;\" x=\"66.053125\" xlink:href=\"#m8f663c6bca\" y=\"32.995024\"/>\n      </g>\n     </g>\n     <g id=\"text_98\">\n      <!-- 250000 -->\n      <g transform=\"translate(20.878125 36.794243)scale(0.1 -0.1)\">\n       <use xlink:href=\"#DejaVuSans-50\"/>\n       <use x=\"63.623047\" xlink:href=\"#DejaVuSans-53\"/>\n       <use x=\"127.246094\" xlink:href=\"#DejaVuSans-48\"/>\n       <use x=\"190.869141\" xlink:href=\"#DejaVuSans-48\"/>\n       <use x=\"254.492188\" xlink:href=\"#DejaVuSans-48\"/>\n       <use x=\"318.115234\" xlink:href=\"#DejaVuSans-48\"/>\n      </g>\n     </g>\n    </g>\n    <g id=\"text_99\">\n     <!-- Confirmed -->\n     <defs>\n      <path d=\"M 64.40625 67.28125 \nL 64.40625 56.890625 \nQ 59.421875 61.53125 53.78125 63.8125 \nQ 48.140625 66.109375 41.796875 66.109375 \nQ 29.296875 66.109375 22.65625 58.46875 \nQ 16.015625 50.828125 16.015625 36.375 \nQ 16.015625 21.96875 22.65625 14.328125 \nQ 29.296875 6.6875 41.796875 6.6875 \nQ 48.140625 6.6875 53.78125 8.984375 \nQ 59.421875 11.28125 64.40625 15.921875 \nL 64.40625 5.609375 \nQ 59.234375 2.09375 53.4375 0.328125 \nQ 47.65625 -1.421875 41.21875 -1.421875 \nQ 24.65625 -1.421875 15.125 8.703125 \nQ 5.609375 18.84375 5.609375 36.375 \nQ 5.609375 53.953125 15.125 64.078125 \nQ 24.65625 74.21875 41.21875 74.21875 \nQ 47.75 74.21875 53.53125 72.484375 \nQ 59.328125 70.75 64.40625 67.28125 \nz\n\" id=\"DejaVuSans-67\"/>\n      <path d=\"M 37.109375 75.984375 \nL 37.109375 68.5 \nL 28.515625 68.5 \nQ 23.6875 68.5 21.796875 66.546875 \nQ 19.921875 64.59375 19.921875 59.515625 \nL 19.921875 54.6875 \nL 34.71875 54.6875 \nL 34.71875 47.703125 \nL 19.921875 47.703125 \nL 19.921875 0 \nL 10.890625 0 \nL 10.890625 47.703125 \nL 2.296875 47.703125 \nL 2.296875 54.6875 \nL 10.890625 54.6875 \nL 10.890625 58.5 \nQ 10.890625 67.625 15.140625 71.796875 \nQ 19.390625 75.984375 28.609375 75.984375 \nz\n\" id=\"DejaVuSans-102\"/>\n      <path d=\"M 52 44.1875 \nQ 55.375 50.25 60.0625 53.125 \nQ 64.75 56 71.09375 56 \nQ 79.640625 56 84.28125 50.015625 \nQ 88.921875 44.046875 88.921875 33.015625 \nL 88.921875 0 \nL 79.890625 0 \nL 79.890625 32.71875 \nQ 79.890625 40.578125 77.09375 44.375 \nQ 74.3125 48.1875 68.609375 48.1875 \nQ 61.625 48.1875 57.5625 43.546875 \nQ 53.515625 38.921875 53.515625 30.90625 \nL 53.515625 0 \nL 44.484375 0 \nL 44.484375 32.71875 \nQ 44.484375 40.625 41.703125 44.40625 \nQ 38.921875 48.1875 33.109375 48.1875 \nQ 26.21875 48.1875 22.15625 43.53125 \nQ 18.109375 38.875 18.109375 30.90625 \nL 18.109375 0 \nL 9.078125 0 \nL 9.078125 54.6875 \nL 18.109375 54.6875 \nL 18.109375 46.1875 \nQ 21.1875 51.21875 25.484375 53.609375 \nQ 29.78125 56 35.6875 56 \nQ 41.65625 56 45.828125 52.96875 \nQ 50 49.953125 52 44.1875 \nz\n\" id=\"DejaVuSans-109\"/>\n      <path d=\"M 45.40625 46.390625 \nL 45.40625 75.984375 \nL 54.390625 75.984375 \nL 54.390625 0 \nL 45.40625 0 \nL 45.40625 8.203125 \nQ 42.578125 3.328125 38.25 0.953125 \nQ 33.9375 -1.421875 27.875 -1.421875 \nQ 17.96875 -1.421875 11.734375 6.484375 \nQ 5.515625 14.40625 5.515625 27.296875 \nQ 5.515625 40.1875 11.734375 48.09375 \nQ 17.96875 56 27.875 56 \nQ 33.9375 56 38.25 53.625 \nQ 42.578125 51.265625 45.40625 46.390625 \nz\nM 14.796875 27.296875 \nQ 14.796875 17.390625 18.875 11.75 \nQ 22.953125 6.109375 30.078125 6.109375 \nQ 37.203125 6.109375 41.296875 11.75 \nQ 45.40625 17.390625 45.40625 27.296875 \nQ 45.40625 37.203125 41.296875 42.84375 \nQ 37.203125 48.484375 30.078125 48.484375 \nQ 22.953125 48.484375 18.875 42.84375 \nQ 14.796875 37.203125 14.796875 27.296875 \nz\n\" id=\"DejaVuSans-100\"/>\n     </defs>\n     <g transform=\"translate(14.798438 141.877812)rotate(-90)scale(0.1 -0.1)\">\n      <use xlink:href=\"#DejaVuSans-67\"/>\n      <use x=\"69.824219\" xlink:href=\"#DejaVuSans-111\"/>\n      <use x=\"131.005859\" xlink:href=\"#DejaVuSans-110\"/>\n      <use x=\"194.384766\" xlink:href=\"#DejaVuSans-102\"/>\n      <use x=\"229.589844\" xlink:href=\"#DejaVuSans-105\"/>\n      <use x=\"257.373047\" xlink:href=\"#DejaVuSans-114\"/>\n      <use x=\"296.736328\" xlink:href=\"#DejaVuSans-109\"/>\n      <use x=\"394.148438\" xlink:href=\"#DejaVuSans-101\"/>\n      <use x=\"455.671875\" xlink:href=\"#DejaVuSans-100\"/>\n     </g>\n    </g>\n   </g>\n   <g id=\"line2d_98\">\n    <path clip-path=\"url(#pf80535d2b9)\" d=\"M 81.271307 214.756364 \nL 84.653125 214.755637 \nL 88.034943 214.755637 \nL 91.416761 214.755637 \nL 94.79858 214.75491 \nL 98.180398 214.75491 \nL 101.562216 214.75491 \nL 104.944034 214.75491 \nL 108.325852 214.753455 \nL 111.70767 214.753455 \nL 115.089489 214.746912 \nL 118.471307 214.746912 \nL 121.853125 214.741823 \nL 125.234943 214.738188 \nL 128.616761 214.733825 \nL 131.99858 214.728736 \nL 135.380398 214.718557 \nL 138.762216 214.64658 \nL 142.144034 214.64658 \nL 145.525852 214.638582 \nL 148.90767 214.610955 \nL 152.289489 214.522982 \nL 155.671307 214.485903 \nL 159.053125 214.304868 \nL 162.434943 214.179817 \nL 165.816761 214.01405 \nL 169.19858 213.632352 \nL 172.580398 213.357528 \nL 175.962216 213.122693 \nL 179.344034 212.89949 \nL 182.725852 212.586133 \nL 186.10767 212.27205 \nL 189.489489 211.917979 \nL 192.871307 211.662059 \nL 196.253125 211.427223 \nL 199.634943 210.599845 \nL 203.016761 209.786282 \nL 206.39858 208.908011 \nL 209.780398 208.172241 \nL 213.162216 207.224174 \nL 216.544034 206.664349 \nL 219.925852 205.914765 \nL 223.30767 204.553009 \nL 226.689489 203.00004 \nL 230.071307 201.602659 \nL 233.453125 200.478647 \nL 236.834943 199.686894 \nL 240.216761 198.621773 \nL 243.59858 197.721691 \nL 246.980398 196.389744 \nL 250.362216 194.166439 \nL 253.744034 192.636009 \nL 257.125852 190.268022 \nL 260.50767 188.104335 \nL 263.889489 186.653152 \nL 267.271307 185.134355 \nL 270.653125 183.435977 \nL 274.034943 181.488949 \nL 277.416761 178.377922 \nL 280.79858 175.464651 \nL 284.180398 171.625125 \nL 287.562216 168.879802 \nL 290.944034 165.720062 \nL 294.325852 161.511197 \nL 297.70767 156.821754 \nL 301.089489 151.36746 \nL 304.471307 147.721327 \nL 307.853125 144.160259 \nL 311.234943 140.724243 \nL 314.616761 135.784697 \nL 317.99858 130.815342 \nL 321.380398 122.704424 \nL 324.762216 116.043234 \nL 328.144034 107.957763 \nL 331.525852 101.292938 \nL 334.90767 96.466811 \nL 338.289489 91.453833 \nL 341.671307 85.186702 \nL 345.053125 76.51814 \nL 348.434943 67.046193 \nL 351.816761 54.594815 \nL 355.19858 44.983275 \nL 358.580398 39.480269 \nL 361.962216 29.092245 \nL 365.344034 17.083636 \nL 368.725852 207.185251 \nL 372.10767 206.704674 \nL 375.489489 206.164505 \nL 378.871307 205.73586 \nL 382.253125 205.325261 \nL 385.634943 205.021798 \n\" style=\"fill:none;stroke:#1f77b4;stroke-linecap:square;stroke-width:1.5;\"/>\n   </g>\n   <g id=\"patch_3\">\n    <path d=\"M 66.053125 224.64 \nL 66.053125 7.2 \n\" style=\"fill:none;stroke:#000000;stroke-linecap:square;stroke-linejoin:miter;stroke-width:0.8;\"/>\n   </g>\n   <g id=\"patch_4\">\n    <path d=\"M 400.853125 224.64 \nL 400.853125 7.2 \n\" style=\"fill:none;stroke:#000000;stroke-linecap:square;stroke-linejoin:miter;stroke-width:0.8;\"/>\n   </g>\n   <g id=\"patch_5\">\n    <path d=\"M 66.053125 224.64 \nL 400.853125 224.64 \n\" style=\"fill:none;stroke:#000000;stroke-linecap:square;stroke-linejoin:miter;stroke-width:0.8;\"/>\n   </g>\n   <g id=\"patch_6\">\n    <path d=\"M 66.053125 7.2 \nL 400.853125 7.2 \n\" style=\"fill:none;stroke:#000000;stroke-linecap:square;stroke-linejoin:miter;stroke-width:0.8;\"/>\n   </g>\n  </g>\n </g>\n <defs>\n  <clipPath id=\"pf80535d2b9\">\n   <rect height=\"217.44\" width=\"334.8\" x=\"66.053125\" y=\"7.2\"/>\n  </clipPath>\n </defs>\n</svg>\n"
          },
          "metadata": {
            "tags": [],
            "needs_background": "light"
          }
        }
      ]
    },
    {
      "cell_type": "markdown",
      "metadata": {
        "id": "yrdsS27ycP7N",
        "colab_type": "text"
      },
      "source": [
        "Notado uma pequena queda no final do gráfico, devido ao momento de alimentação do *dataset*, o que não vai alterar essa primeira parte da pesquisa."
      ]
    },
    {
      "cell_type": "code",
      "metadata": {
        "id": "lhhhAmkvKedc",
        "colab_type": "code",
        "colab": {}
      },
      "source": [
        "#Agrupamento do numero de casos, mortes e recuperação por dia\n",
        "df_sum = covid.groupby('ObservationDate').agg({'Confirmed': 'sum', 'Deaths': 'sum', 'Recovered': 'sum'}).reset_index()"
      ],
      "execution_count": null,
      "outputs": []
    },
    {
      "cell_type": "code",
      "metadata": {
        "id": "KrLlfpUhK6NO",
        "colab_type": "code",
        "colab": {
          "base_uri": "https://localhost:8080/",
          "height": 195
        },
        "outputId": "c44150cf-4418-4828-9f80-3175cfff6035"
      },
      "source": [
        "df_sum.head()"
      ],
      "execution_count": null,
      "outputs": [
        {
          "output_type": "execute_result",
          "data": {
            "text/html": [
              "<div>\n",
              "<style scoped>\n",
              "    .dataframe tbody tr th:only-of-type {\n",
              "        vertical-align: middle;\n",
              "    }\n",
              "\n",
              "    .dataframe tbody tr th {\n",
              "        vertical-align: top;\n",
              "    }\n",
              "\n",
              "    .dataframe thead th {\n",
              "        text-align: right;\n",
              "    }\n",
              "</style>\n",
              "<table border=\"1\" class=\"dataframe\">\n",
              "  <thead>\n",
              "    <tr style=\"text-align: right;\">\n",
              "      <th></th>\n",
              "      <th>ObservationDate</th>\n",
              "      <th>Confirmed</th>\n",
              "      <th>Deaths</th>\n",
              "      <th>Recovered</th>\n",
              "    </tr>\n",
              "  </thead>\n",
              "  <tbody>\n",
              "    <tr>\n",
              "      <th>0</th>\n",
              "      <td>01/22/2020</td>\n",
              "      <td>555.0</td>\n",
              "      <td>17.0</td>\n",
              "      <td>28.0</td>\n",
              "    </tr>\n",
              "    <tr>\n",
              "      <th>1</th>\n",
              "      <td>01/23/2020</td>\n",
              "      <td>653.0</td>\n",
              "      <td>18.0</td>\n",
              "      <td>30.0</td>\n",
              "    </tr>\n",
              "    <tr>\n",
              "      <th>2</th>\n",
              "      <td>01/24/2020</td>\n",
              "      <td>941.0</td>\n",
              "      <td>26.0</td>\n",
              "      <td>36.0</td>\n",
              "    </tr>\n",
              "    <tr>\n",
              "      <th>3</th>\n",
              "      <td>01/25/2020</td>\n",
              "      <td>1438.0</td>\n",
              "      <td>42.0</td>\n",
              "      <td>39.0</td>\n",
              "    </tr>\n",
              "    <tr>\n",
              "      <th>4</th>\n",
              "      <td>01/26/2020</td>\n",
              "      <td>2118.0</td>\n",
              "      <td>56.0</td>\n",
              "      <td>52.0</td>\n",
              "    </tr>\n",
              "  </tbody>\n",
              "</table>\n",
              "</div>"
            ],
            "text/plain": [
              "  ObservationDate  Confirmed  Deaths  Recovered\n",
              "0      01/22/2020      555.0    17.0       28.0\n",
              "1      01/23/2020      653.0    18.0       30.0\n",
              "2      01/24/2020      941.0    26.0       36.0\n",
              "3      01/25/2020     1438.0    42.0       39.0\n",
              "4      01/26/2020     2118.0    56.0       52.0"
            ]
          },
          "metadata": {
            "tags": []
          },
          "execution_count": 95
        }
      ]
    },
    {
      "cell_type": "code",
      "metadata": {
        "id": "X2hQKzxaK_jO",
        "colab_type": "code",
        "colab": {
          "base_uri": "https://localhost:8080/",
          "height": 195
        },
        "outputId": "60d7eb93-12a7-4db4-a628-7b3feb4c0a0f"
      },
      "source": [
        "df_sum.tail()"
      ],
      "execution_count": null,
      "outputs": [
        {
          "output_type": "execute_result",
          "data": {
            "text/html": [
              "<div>\n",
              "<style scoped>\n",
              "    .dataframe tbody tr th:only-of-type {\n",
              "        vertical-align: middle;\n",
              "    }\n",
              "\n",
              "    .dataframe tbody tr th {\n",
              "        vertical-align: top;\n",
              "    }\n",
              "\n",
              "    .dataframe thead th {\n",
              "        text-align: right;\n",
              "    }\n",
              "</style>\n",
              "<table border=\"1\" class=\"dataframe\">\n",
              "  <thead>\n",
              "    <tr style=\"text-align: right;\">\n",
              "      <th></th>\n",
              "      <th>ObservationDate</th>\n",
              "      <th>Confirmed</th>\n",
              "      <th>Deaths</th>\n",
              "      <th>Recovered</th>\n",
              "    </tr>\n",
              "  </thead>\n",
              "  <tbody>\n",
              "    <tr>\n",
              "      <th>120</th>\n",
              "      <td>05/21/2020</td>\n",
              "      <td>5102424.0</td>\n",
              "      <td>332924.0</td>\n",
              "      <td>1948739.0</td>\n",
              "    </tr>\n",
              "    <tr>\n",
              "      <th>121</th>\n",
              "      <td>05/22/2020</td>\n",
              "      <td>5210817.0</td>\n",
              "      <td>338160.0</td>\n",
              "      <td>2056643.0</td>\n",
              "    </tr>\n",
              "    <tr>\n",
              "      <th>122</th>\n",
              "      <td>05/23/2020</td>\n",
              "      <td>5310362.0</td>\n",
              "      <td>342097.0</td>\n",
              "      <td>2112185.0</td>\n",
              "    </tr>\n",
              "    <tr>\n",
              "      <th>123</th>\n",
              "      <td>05/24/2020</td>\n",
              "      <td>5407613.0</td>\n",
              "      <td>345059.0</td>\n",
              "      <td>2168563.0</td>\n",
              "    </tr>\n",
              "    <tr>\n",
              "      <th>124</th>\n",
              "      <td>05/25/2020</td>\n",
              "      <td>5495061.0</td>\n",
              "      <td>346232.0</td>\n",
              "      <td>2231738.0</td>\n",
              "    </tr>\n",
              "  </tbody>\n",
              "</table>\n",
              "</div>"
            ],
            "text/plain": [
              "    ObservationDate  Confirmed    Deaths  Recovered\n",
              "120      05/21/2020  5102424.0  332924.0  1948739.0\n",
              "121      05/22/2020  5210817.0  338160.0  2056643.0\n",
              "122      05/23/2020  5310362.0  342097.0  2112185.0\n",
              "123      05/24/2020  5407613.0  345059.0  2168563.0\n",
              "124      05/25/2020  5495061.0  346232.0  2231738.0"
            ]
          },
          "metadata": {
            "tags": []
          },
          "execution_count": 10
        }
      ]
    },
    {
      "cell_type": "code",
      "metadata": {
        "id": "M3RXTZ90LJx1",
        "colab_type": "code",
        "colab": {
          "base_uri": "https://localhost:8080/",
          "height": 366
        },
        "outputId": "a25e27a3-da26-421e-b0a0-825f76c62e02"
      },
      "source": [
        "plt.stackplot(df_sum['ObservationDate'], [df_sum['Confirmed'], df_sum['Deaths'], df_sum['Recovered']],\n",
        "              labels = ['Confirmed', 'Deaths', 'Recovered'])\n",
        "plt.legend(loc = 'upper left');"
      ],
      "execution_count": null,
      "outputs": [
        {
          "output_type": "display_data",
          "data": {
            "text/plain": [
              "<Figure size 432x288 with 1 Axes>"
            ],
            "image/svg+xml": "<?xml version=\"1.0\" encoding=\"utf-8\" standalone=\"no\"?>\n<!DOCTYPE svg PUBLIC \"-//W3C//DTD SVG 1.1//EN\"\n  \"http://www.w3.org/Graphics/SVG/1.1/DTD/svg11.dtd\">\n<!-- Created with matplotlib (https://matplotlib.org/) -->\n<svg height=\"259.116562pt\" version=\"1.1\" viewBox=\"0 0 376.401136 259.116562\" width=\"376.401136pt\" xmlns=\"http://www.w3.org/2000/svg\" xmlns:xlink=\"http://www.w3.org/1999/xlink\">\n <defs>\n  <style type=\"text/css\">\n*{stroke-linecap:butt;stroke-linejoin:round;}\n  </style>\n </defs>\n <g id=\"figure_1\">\n  <g id=\"patch_1\">\n   <path d=\"M 0 259.116562 \nL 376.401136 259.116562 \nL 376.401136 0 \nL 0 0 \nz\n\" style=\"fill:none;\"/>\n  </g>\n  <g id=\"axes_1\">\n   <g id=\"patch_2\">\n    <path d=\"M 20.800568 235.238437 \nL 355.600568 235.238437 \nL 355.600568 17.798437 \nL 20.800568 17.798437 \nz\n\" style=\"fill:#ffffff;\"/>\n   </g>\n   <g id=\"PolyCollection_1\">\n    <path clip-path=\"url(#p1d7de6cdf9)\" d=\"M 36.01875 235.224201 \nL 36.01875 235.238437 \nL 38.473295 235.238437 \nL 40.927841 235.238437 \nL 43.382386 235.238437 \nL 45.836932 235.238437 \nL 48.291477 235.238437 \nL 50.746023 235.238437 \nL 53.200568 235.238437 \nL 55.655114 235.238437 \nL 58.109659 235.238437 \nL 60.564205 235.238437 \nL 63.01875 235.238437 \nL 65.473295 235.238437 \nL 67.927841 235.238437 \nL 70.382386 235.238437 \nL 72.836932 235.238437 \nL 75.291477 235.238437 \nL 77.746023 235.238437 \nL 80.200568 235.238437 \nL 82.655114 235.238437 \nL 85.109659 235.238437 \nL 87.564205 235.238437 \nL 90.01875 235.238437 \nL 92.473295 235.238437 \nL 94.927841 235.238437 \nL 97.382386 235.238437 \nL 99.836932 235.238437 \nL 102.291477 235.238437 \nL 104.746023 235.238437 \nL 107.200568 235.238437 \nL 109.655114 235.238437 \nL 112.109659 235.238437 \nL 114.564205 235.238437 \nL 117.01875 235.238437 \nL 119.473295 235.238437 \nL 121.927841 235.238437 \nL 124.382386 235.238437 \nL 126.836932 235.238437 \nL 129.291477 235.238437 \nL 131.746023 235.238437 \nL 134.200568 235.238437 \nL 136.655114 235.238437 \nL 139.109659 235.238437 \nL 141.564205 235.238437 \nL 144.01875 235.238437 \nL 146.473295 235.238437 \nL 148.927841 235.238437 \nL 151.382386 235.238437 \nL 153.836932 235.238437 \nL 156.291477 235.238437 \nL 158.746023 235.238437 \nL 161.200568 235.238437 \nL 163.655114 235.238437 \nL 166.109659 235.238437 \nL 168.564205 235.238437 \nL 171.01875 235.238437 \nL 173.473295 235.238437 \nL 175.927841 235.238437 \nL 178.382386 235.238437 \nL 180.836932 235.238437 \nL 183.291477 235.238437 \nL 185.746023 235.238437 \nL 188.200568 235.238437 \nL 190.655114 235.238437 \nL 193.109659 235.238437 \nL 195.564205 235.238437 \nL 198.01875 235.238437 \nL 200.473295 235.238437 \nL 202.927841 235.238437 \nL 205.382386 235.238437 \nL 207.836932 235.238437 \nL 210.291477 235.238437 \nL 212.746023 235.238437 \nL 215.200568 235.238437 \nL 217.655114 235.238437 \nL 220.109659 235.238437 \nL 222.564205 235.238437 \nL 225.01875 235.238437 \nL 227.473295 235.238437 \nL 229.927841 235.238437 \nL 232.382386 235.238437 \nL 234.836932 235.238437 \nL 237.291477 235.238437 \nL 239.746023 235.238437 \nL 242.200568 235.238437 \nL 244.655114 235.238437 \nL 247.109659 235.238437 \nL 249.564205 235.238437 \nL 252.01875 235.238437 \nL 254.473295 235.238437 \nL 256.927841 235.238437 \nL 259.382386 235.238437 \nL 261.836932 235.238437 \nL 264.291477 235.238437 \nL 266.746023 235.238437 \nL 269.200568 235.238437 \nL 271.655114 235.238437 \nL 274.109659 235.238437 \nL 276.564205 235.238437 \nL 279.01875 235.238437 \nL 281.473295 235.238437 \nL 283.927841 235.238437 \nL 286.382386 235.238437 \nL 288.836932 235.238437 \nL 291.291477 235.238437 \nL 293.746023 235.238437 \nL 296.200568 235.238437 \nL 298.655114 235.238437 \nL 301.109659 235.238437 \nL 303.564205 235.238437 \nL 306.01875 235.238437 \nL 308.473295 235.238437 \nL 310.927841 235.238437 \nL 313.382386 235.238437 \nL 315.836932 235.238437 \nL 318.291477 235.238437 \nL 320.746023 235.238437 \nL 323.200568 235.238437 \nL 325.655114 235.238437 \nL 328.109659 235.238437 \nL 330.564205 235.238437 \nL 333.01875 235.238437 \nL 335.473295 235.238437 \nL 337.927841 235.238437 \nL 340.382386 235.238437 \nL 340.382386 94.281635 \nL 340.382386 94.281635 \nL 337.927841 96.524812 \nL 335.473295 99.01945 \nL 333.01875 101.572933 \nL 330.564205 104.353381 \nL 328.109659 107.071213 \nL 325.655114 109.610203 \nL 323.200568 112.061183 \nL 320.746023 114.326804 \nL 318.291477 116.367436 \nL 315.836932 118.720221 \nL 313.382386 121.290095 \nL 310.927841 123.730712 \nL 308.473295 125.912709 \nL 306.01875 128.079008 \nL 303.564205 130.023523 \nL 301.109659 132.016391 \nL 298.655114 134.221013 \nL 296.200568 136.589831 \nL 293.746023 138.908141 \nL 291.291477 141.284756 \nL 288.836932 143.327543 \nL 286.382386 145.285422 \nL 283.927841 147.321796 \nL 281.473295 149.465393 \nL 279.01875 151.695307 \nL 276.564205 153.310329 \nL 274.109659 155.298015 \nL 271.655114 157.212493 \nL 269.200568 159.015514 \nL 266.746023 160.932428 \nL 264.291477 163.139256 \nL 261.836932 165.751353 \nL 259.382386 167.929811 \nL 256.927841 169.849495 \nL 254.473295 171.821176 \nL 252.01875 173.639357 \nL 249.564205 175.784339 \nL 247.109659 177.774078 \nL 244.655114 180.019717 \nL 242.200568 182.497451 \nL 239.746023 184.54606 \nL 237.291477 186.056218 \nL 234.836932 187.868243 \nL 232.382386 189.796367 \nL 229.927841 191.843232 \nL 227.473295 194.315246 \nL 225.01875 196.476286 \nL 222.564205 198.656872 \nL 220.109659 200.734519 \nL 217.655114 202.606723 \nL 215.200568 204.523073 \nL 212.746023 207.126474 \nL 210.291477 209.24565 \nL 207.836932 211.315679 \nL 205.382386 213.242572 \nL 202.927841 215.168951 \nL 200.473295 216.765734 \nL 198.01875 218.290642 \nL 195.564205 220.019607 \nL 193.109659 221.65361 \nL 190.655114 223.243929 \nL 188.200568 224.517067 \nL 185.746023 225.534894 \nL 183.291477 226.590738 \nL 180.836932 227.426285 \nL 178.382386 228.256934 \nL 175.927841 229.012474 \nL 173.473295 229.725536 \nL 171.01875 230.180774 \nL 168.564205 230.581502 \nL 166.109659 230.943163 \nL 163.655114 231.234257 \nL 161.200568 231.514013 \nL 158.746023 231.946241 \nL 156.291477 232.009806 \nL 153.836932 232.196626 \nL 151.382386 232.324884 \nL 148.927841 232.421 \nL 146.473295 232.523581 \nL 144.01875 232.62711 \nL 141.564205 232.72751 \nL 139.109659 232.79836 \nL 136.655114 232.856845 \nL 134.200568 232.921872 \nL 131.746023 232.971585 \nL 129.291477 233.032071 \nL 126.836932 233.080527 \nL 124.382386 233.115618 \nL 121.927841 233.150479 \nL 119.473295 233.175669 \nL 117.01875 233.197344 \nL 114.564205 233.21235 \nL 112.109659 233.222252 \nL 109.655114 233.267296 \nL 107.200568 233.283815 \nL 104.746023 233.298129 \nL 102.291477 233.311032 \nL 99.836932 233.359205 \nL 97.382386 233.411381 \nL 94.927841 233.46766 \nL 92.473295 233.522683 \nL 90.01875 233.689854 \nL 87.564205 234.078423 \nL 85.109659 234.089171 \nL 82.655114 234.141501 \nL 80.200568 234.208502 \nL 77.746023 234.286227 \nL 75.291477 234.35623 \nL 72.836932 234.447908 \nL 70.382386 234.529531 \nL 67.927841 234.625571 \nL 65.473295 234.728459 \nL 63.01875 234.807825 \nL 60.564205 234.929644 \nL 58.109659 234.983846 \nL 55.655114 235.027197 \nL 53.200568 235.080296 \nL 50.746023 235.095353 \nL 48.291477 235.163355 \nL 45.836932 235.184108 \nL 43.382386 235.201551 \nL 40.927841 235.214299 \nL 38.473295 235.221687 \nL 36.01875 235.224201 \nz\n\" style=\"fill:#1f77b4;\"/>\n   </g>\n   <g id=\"PolyCollection_2\">\n    <path clip-path=\"url(#p1d7de6cdf9)\" d=\"M 36.01875 235.223765 \nL 36.01875 235.224201 \nL 38.473295 235.221687 \nL 40.927841 235.214299 \nL 43.382386 235.201551 \nL 45.836932 235.184108 \nL 48.291477 235.163355 \nL 50.746023 235.095353 \nL 53.200568 235.080296 \nL 55.655114 235.027197 \nL 58.109659 234.983846 \nL 60.564205 234.929644 \nL 63.01875 234.807825 \nL 65.473295 234.728459 \nL 67.927841 234.625571 \nL 70.382386 234.529531 \nL 72.836932 234.447908 \nL 75.291477 234.35623 \nL 77.746023 234.286227 \nL 80.200568 234.208502 \nL 82.655114 234.141501 \nL 85.109659 234.089171 \nL 87.564205 234.078423 \nL 90.01875 233.689854 \nL 92.473295 233.522683 \nL 94.927841 233.46766 \nL 97.382386 233.411381 \nL 99.836932 233.359205 \nL 102.291477 233.311032 \nL 104.746023 233.298129 \nL 107.200568 233.283815 \nL 109.655114 233.267296 \nL 112.109659 233.222252 \nL 114.564205 233.21235 \nL 117.01875 233.197344 \nL 119.473295 233.175669 \nL 121.927841 233.150479 \nL 124.382386 233.115618 \nL 126.836932 233.080527 \nL 129.291477 233.032071 \nL 131.746023 232.971585 \nL 134.200568 232.921872 \nL 136.655114 232.856845 \nL 139.109659 232.79836 \nL 141.564205 232.72751 \nL 144.01875 232.62711 \nL 146.473295 232.523581 \nL 148.927841 232.421 \nL 151.382386 232.324884 \nL 153.836932 232.196626 \nL 156.291477 232.009806 \nL 158.746023 231.946241 \nL 161.200568 231.514013 \nL 163.655114 231.234257 \nL 166.109659 230.943163 \nL 168.564205 230.581502 \nL 171.01875 230.180774 \nL 173.473295 229.725536 \nL 175.927841 229.012474 \nL 178.382386 228.256934 \nL 180.836932 227.426285 \nL 183.291477 226.590738 \nL 185.746023 225.534894 \nL 188.200568 224.517067 \nL 190.655114 223.243929 \nL 193.109659 221.65361 \nL 195.564205 220.019607 \nL 198.01875 218.290642 \nL 200.473295 216.765734 \nL 202.927841 215.168951 \nL 205.382386 213.242572 \nL 207.836932 211.315679 \nL 210.291477 209.24565 \nL 212.746023 207.126474 \nL 215.200568 204.523073 \nL 217.655114 202.606723 \nL 220.109659 200.734519 \nL 222.564205 198.656872 \nL 225.01875 196.476286 \nL 227.473295 194.315246 \nL 229.927841 191.843232 \nL 232.382386 189.796367 \nL 234.836932 187.868243 \nL 237.291477 186.056218 \nL 239.746023 184.54606 \nL 242.200568 182.497451 \nL 244.655114 180.019717 \nL 247.109659 177.774078 \nL 249.564205 175.784339 \nL 252.01875 173.639357 \nL 254.473295 171.821176 \nL 256.927841 169.849495 \nL 259.382386 167.929811 \nL 261.836932 165.751353 \nL 264.291477 163.139256 \nL 266.746023 160.932428 \nL 269.200568 159.015514 \nL 271.655114 157.212493 \nL 274.109659 155.298015 \nL 276.564205 153.310329 \nL 279.01875 151.695307 \nL 281.473295 149.465393 \nL 283.927841 147.321796 \nL 286.382386 145.285422 \nL 288.836932 143.327543 \nL 291.291477 141.284756 \nL 293.746023 138.908141 \nL 296.200568 136.589831 \nL 298.655114 134.221013 \nL 301.109659 132.016391 \nL 303.564205 130.023523 \nL 306.01875 128.079008 \nL 308.473295 125.912709 \nL 310.927841 123.730712 \nL 313.382386 121.290095 \nL 315.836932 118.720221 \nL 318.291477 116.367436 \nL 320.746023 114.326804 \nL 323.200568 112.061183 \nL 325.655114 109.610203 \nL 328.109659 107.071213 \nL 330.564205 104.353381 \nL 333.01875 101.572933 \nL 335.473295 99.01945 \nL 337.927841 96.524812 \nL 340.382386 94.281635 \nL 340.382386 85.40025 \nL 340.382386 85.40025 \nL 337.927841 87.673515 \nL 335.473295 90.244134 \nL 333.01875 92.898607 \nL 330.564205 95.813366 \nL 328.109659 98.654557 \nL 325.655114 101.317444 \nL 323.200568 103.891653 \nL 320.746023 106.241822 \nL 318.291477 108.369772 \nL 315.836932 110.828113 \nL 313.382386 113.532607 \nL 310.927841 116.10715 \nL 308.473295 118.423381 \nL 306.01875 120.734201 \nL 303.564205 122.7716 \nL 301.109659 124.851633 \nL 298.655114 127.169455 \nL 296.200568 129.675021 \nL 293.746023 132.140468 \nL 291.291477 134.686179 \nL 288.836932 136.87523 \nL 286.382386 138.937435 \nL 283.927841 141.067744 \nL 281.473295 143.343652 \nL 279.01875 145.708545 \nL 276.564205 147.471062 \nL 274.109659 149.727706 \nL 271.655114 151.795733 \nL 269.200568 153.717342 \nL 266.746023 155.729115 \nL 264.291477 158.082029 \nL 261.836932 160.855551 \nL 259.382386 163.233885 \nL 256.927841 165.319869 \nL 254.473295 167.460772 \nL 252.01875 169.405724 \nL 249.564205 171.692661 \nL 247.109659 173.828306 \nL 244.655114 176.330999 \nL 242.200568 179.055604 \nL 239.746023 181.314376 \nL 237.291477 182.99132 \nL 234.836932 184.941684 \nL 232.382386 187.013123 \nL 229.927841 189.213308 \nL 227.473295 191.866678 \nL 225.01875 194.21028 \nL 222.564205 196.556909 \nL 220.109659 198.821812 \nL 217.655114 200.827173 \nL 215.200568 202.865829 \nL 212.746023 205.618496 \nL 210.291477 207.886555 \nL 207.836932 210.114956 \nL 205.382386 212.162462 \nL 202.927841 214.204915 \nL 200.473295 215.895506 \nL 198.01875 217.50437 \nL 195.564205 219.321936 \nL 193.109659 221.038743 \nL 190.655114 222.700604 \nL 188.200568 224.039563 \nL 185.746023 225.111721 \nL 183.291477 226.215635 \nL 180.836932 227.093508 \nL 178.382386 227.967097 \nL 175.927841 228.75937 \nL 173.473295 229.501521 \nL 171.01875 229.977998 \nL 168.564205 230.398709 \nL 166.109659 230.777967 \nL 163.655114 231.084991 \nL 161.200568 231.375392 \nL 158.746023 231.825166 \nL 156.291477 231.891424 \nL 153.836932 232.087299 \nL 151.382386 232.22238 \nL 148.927841 232.323447 \nL 146.473295 232.432312 \nL 144.01875 232.538356 \nL 141.564205 232.641629 \nL 139.109659 232.71489 \nL 136.655114 232.775787 \nL 134.200568 232.842737 \nL 131.746023 232.894733 \nL 129.291477 232.95663 \nL 126.836932 233.006856 \nL 124.382386 233.043435 \nL 121.927841 233.079424 \nL 119.473295 233.106204 \nL 117.01875 233.129906 \nL 114.564205 233.149017 \nL 112.109659 233.1592 \nL 109.655114 233.209554 \nL 107.200568 233.226176 \nL 104.746023 233.243696 \nL 102.291477 233.259549 \nL 99.836932 233.311288 \nL 97.382386 233.365977 \nL 94.927841 233.424925 \nL 92.473295 233.483615 \nL 90.01875 233.654685 \nL 87.564205 234.049745 \nL 85.109659 234.060621 \nL 82.655114 234.115515 \nL 80.200568 234.185262 \nL 77.746023 234.265551 \nL 75.291477 234.337786 \nL 72.836932 234.431645 \nL 70.382386 234.515064 \nL 67.927841 234.61295 \nL 65.473295 234.717532 \nL 63.01875 234.798539 \nL 60.564205 234.923 \nL 58.109659 234.978382 \nL 55.655114 235.022811 \nL 53.200568 235.076884 \nL 50.746023 235.091993 \nL 48.291477 235.161252 \nL 45.836932 235.182671 \nL 43.382386 235.200473 \nL 40.927841 235.213632 \nL 38.473295 235.221225 \nL 36.01875 235.223765 \nz\n\" style=\"fill:#ff7f0e;\"/>\n   </g>\n   <g id=\"PolyCollection_3\">\n    <path clip-path=\"url(#p1d7de6cdf9)\" d=\"M 36.01875 235.223047 \nL 36.01875 235.223765 \nL 38.473295 235.221225 \nL 40.927841 235.213632 \nL 43.382386 235.200473 \nL 45.836932 235.182671 \nL 48.291477 235.161252 \nL 50.746023 235.091993 \nL 53.200568 235.076884 \nL 55.655114 235.022811 \nL 58.109659 234.978382 \nL 60.564205 234.923 \nL 63.01875 234.798539 \nL 65.473295 234.717532 \nL 67.927841 234.61295 \nL 70.382386 234.515064 \nL 72.836932 234.431645 \nL 75.291477 234.337786 \nL 77.746023 234.265551 \nL 80.200568 234.185262 \nL 82.655114 234.115515 \nL 85.109659 234.060621 \nL 87.564205 234.049745 \nL 90.01875 233.654685 \nL 92.473295 233.483615 \nL 94.927841 233.424925 \nL 97.382386 233.365977 \nL 99.836932 233.311288 \nL 102.291477 233.259549 \nL 104.746023 233.243696 \nL 107.200568 233.226176 \nL 109.655114 233.209554 \nL 112.109659 233.1592 \nL 114.564205 233.149017 \nL 117.01875 233.129906 \nL 119.473295 233.106204 \nL 121.927841 233.079424 \nL 124.382386 233.043435 \nL 126.836932 233.006856 \nL 129.291477 232.95663 \nL 131.746023 232.894733 \nL 134.200568 232.842737 \nL 136.655114 232.775787 \nL 139.109659 232.71489 \nL 141.564205 232.641629 \nL 144.01875 232.538356 \nL 146.473295 232.432312 \nL 148.927841 232.323447 \nL 151.382386 232.22238 \nL 153.836932 232.087299 \nL 156.291477 231.891424 \nL 158.746023 231.825166 \nL 161.200568 231.375392 \nL 163.655114 231.084991 \nL 166.109659 230.777967 \nL 168.564205 230.398709 \nL 171.01875 229.977998 \nL 173.473295 229.501521 \nL 175.927841 228.75937 \nL 178.382386 227.967097 \nL 180.836932 227.093508 \nL 183.291477 226.215635 \nL 185.746023 225.111721 \nL 188.200568 224.039563 \nL 190.655114 222.700604 \nL 193.109659 221.038743 \nL 195.564205 219.321936 \nL 198.01875 217.50437 \nL 200.473295 215.895506 \nL 202.927841 214.204915 \nL 205.382386 212.162462 \nL 207.836932 210.114956 \nL 210.291477 207.886555 \nL 212.746023 205.618496 \nL 215.200568 202.865829 \nL 217.655114 200.827173 \nL 220.109659 198.821812 \nL 222.564205 196.556909 \nL 225.01875 194.21028 \nL 227.473295 191.866678 \nL 229.927841 189.213308 \nL 232.382386 187.013123 \nL 234.836932 184.941684 \nL 237.291477 182.99132 \nL 239.746023 181.314376 \nL 242.200568 179.055604 \nL 244.655114 176.330999 \nL 247.109659 173.828306 \nL 249.564205 171.692661 \nL 252.01875 169.405724 \nL 254.473295 167.460772 \nL 256.927841 165.319869 \nL 259.382386 163.233885 \nL 261.836932 160.855551 \nL 264.291477 158.082029 \nL 266.746023 155.729115 \nL 269.200568 153.717342 \nL 271.655114 151.795733 \nL 274.109659 149.727706 \nL 276.564205 147.471062 \nL 279.01875 145.708545 \nL 281.473295 143.343652 \nL 283.927841 141.067744 \nL 286.382386 138.937435 \nL 288.836932 136.87523 \nL 291.291477 134.686179 \nL 293.746023 132.140468 \nL 296.200568 129.675021 \nL 298.655114 127.169455 \nL 301.109659 124.851633 \nL 303.564205 122.7716 \nL 306.01875 120.734201 \nL 308.473295 118.423381 \nL 310.927841 116.10715 \nL 313.382386 113.532607 \nL 315.836932 110.828113 \nL 318.291477 108.369772 \nL 320.746023 106.241822 \nL 323.200568 103.891653 \nL 325.655114 101.317444 \nL 328.109659 98.654557 \nL 330.564205 95.813366 \nL 333.01875 92.898607 \nL 335.473295 90.244134 \nL 337.927841 87.673515 \nL 340.382386 85.40025 \nL 340.382386 28.152723 \nL 340.382386 28.152723 \nL 337.927841 32.046525 \nL 335.473295 36.063326 \nL 333.01875 40.142537 \nL 330.564205 45.825201 \nL 328.109659 49.981623 \nL 325.655114 54.144382 \nL 323.200568 58.05555 \nL 320.746023 61.762993 \nL 318.291477 64.936653 \nL 315.836932 68.834816 \nL 313.382386 72.800699 \nL 310.927841 76.384527 \nL 308.473295 80.115006 \nL 306.01875 83.380191 \nL 303.564205 86.629087 \nL 301.109659 89.564753 \nL 298.655114 93.256831 \nL 296.200568 96.71943 \nL 293.746023 100.193701 \nL 291.291477 103.934286 \nL 288.836932 107.049564 \nL 286.382386 110.073393 \nL 283.927841 113.027733 \nL 281.473295 116.324187 \nL 279.01875 119.678563 \nL 276.564205 122.519317 \nL 274.109659 125.906193 \nL 271.655114 128.864099 \nL 269.200568 131.509953 \nL 266.746023 134.779884 \nL 264.291477 137.72958 \nL 261.836932 141.912244 \nL 259.382386 145.029138 \nL 256.927841 147.881461 \nL 254.473295 150.896595 \nL 252.01875 153.401648 \nL 249.564205 156.498764 \nL 247.109659 159.249431 \nL 244.655114 162.425117 \nL 242.200568 165.947177 \nL 239.746023 169.148849 \nL 237.291477 171.482627 \nL 234.836932 174.123863 \nL 232.382386 176.698381 \nL 229.927841 179.565864 \nL 227.473295 182.786672 \nL 225.01875 185.779618 \nL 222.564205 188.86006 \nL 220.109659 191.728775 \nL 217.655114 194.157463 \nL 215.200568 196.55165 \nL 212.746023 199.82648 \nL 210.291477 202.492984 \nL 207.836932 205.159821 \nL 205.382386 207.595769 \nL 202.927841 209.983697 \nL 200.473295 212.071476 \nL 198.01875 213.928314 \nL 195.564205 215.963918 \nL 193.109659 217.905561 \nL 190.655114 219.782382 \nL 188.200568 221.276917 \nL 185.746023 222.521992 \nL 183.291477 223.721202 \nL 180.836932 224.741877 \nL 178.382386 225.725075 \nL 175.927841 226.579964 \nL 173.473295 227.364414 \nL 171.01875 227.904327 \nL 168.564205 228.395631 \nL 166.109659 228.827578 \nL 163.655114 229.222073 \nL 161.200568 229.573345 \nL 158.746023 230.07255 \nL 156.291477 230.172694 \nL 153.836932 230.435237 \nL 151.382386 230.618851 \nL 148.927841 230.766527 \nL 146.473295 230.935314 \nL 144.01875 231.105307 \nL 141.564205 231.261653 \nL 139.109659 231.402275 \nL 136.655114 231.538638 \nL 134.200568 231.672975 \nL 131.746023 231.799001 \nL 129.291477 231.93616 \nL 126.836932 232.065162 \nL 124.382386 232.189828 \nL 121.927841 232.300027 \nL 119.473295 232.390398 \nL 117.01875 232.482795 \nL 114.564205 232.548924 \nL 112.109659 232.572139 \nL 109.655114 232.724997 \nL 107.200568 232.759908 \nL 104.746023 232.830168 \nL 102.291477 232.891398 \nL 99.836932 232.988515 \nL 97.382386 233.087273 \nL 94.927841 233.183928 \nL 92.473295 233.276915 \nL 90.01875 233.493209 \nL 87.564205 233.917639 \nL 85.109659 233.940495 \nL 82.655114 234.014294 \nL 80.200568 234.102048 \nL 77.746023 234.198447 \nL 75.291477 234.286201 \nL 72.836932 234.393501 \nL 70.382386 234.486232 \nL 67.927841 234.591095 \nL 65.473295 234.701551 \nL 63.01875 234.786432 \nL 60.564205 234.915715 \nL 58.109659 234.972687 \nL 55.655114 235.019142 \nL 53.200568 235.073652 \nL 50.746023 235.089248 \nL 48.291477 235.159687 \nL 45.836932 235.181337 \nL 43.382386 235.199473 \nL 40.927841 235.212709 \nL 38.473295 235.220456 \nL 36.01875 235.223047 \nz\n\" style=\"fill:#2ca02c;\"/>\n   </g>\n   <g id=\"matplotlib.axis_1\">\n    <g id=\"xtick_1\">\n     <g id=\"line2d_1\">\n      <defs>\n       <path d=\"M 0 0 \nL 0 3.5 \n\" id=\"m726ff945f7\" style=\"stroke:#000000;stroke-width:0.8;\"/>\n      </defs>\n      <g>\n       <use style=\"stroke:#000000;stroke-width:0.8;\" x=\"36.01875\" xlink:href=\"#m726ff945f7\" y=\"235.238437\"/>\n      </g>\n     </g>\n     <g id=\"text_1\">\n      <!-- 01/22/2020 -->\n      <defs>\n       <path d=\"M 31.78125 66.40625 \nQ 24.171875 66.40625 20.328125 58.90625 \nQ 16.5 51.421875 16.5 36.375 \nQ 16.5 21.390625 20.328125 13.890625 \nQ 24.171875 6.390625 31.78125 6.390625 \nQ 39.453125 6.390625 43.28125 13.890625 \nQ 47.125 21.390625 47.125 36.375 \nQ 47.125 51.421875 43.28125 58.90625 \nQ 39.453125 66.40625 31.78125 66.40625 \nz\nM 31.78125 74.21875 \nQ 44.046875 74.21875 50.515625 64.515625 \nQ 56.984375 54.828125 56.984375 36.375 \nQ 56.984375 17.96875 50.515625 8.265625 \nQ 44.046875 -1.421875 31.78125 -1.421875 \nQ 19.53125 -1.421875 13.0625 8.265625 \nQ 6.59375 17.96875 6.59375 36.375 \nQ 6.59375 54.828125 13.0625 64.515625 \nQ 19.53125 74.21875 31.78125 74.21875 \nz\n\" id=\"DejaVuSans-48\"/>\n       <path d=\"M 12.40625 8.296875 \nL 28.515625 8.296875 \nL 28.515625 63.921875 \nL 10.984375 60.40625 \nL 10.984375 69.390625 \nL 28.421875 72.90625 \nL 38.28125 72.90625 \nL 38.28125 8.296875 \nL 54.390625 8.296875 \nL 54.390625 0 \nL 12.40625 0 \nz\n\" id=\"DejaVuSans-49\"/>\n       <path d=\"M 25.390625 72.90625 \nL 33.6875 72.90625 \nL 8.296875 -9.28125 \nL 0 -9.28125 \nz\n\" id=\"DejaVuSans-47\"/>\n       <path d=\"M 19.1875 8.296875 \nL 53.609375 8.296875 \nL 53.609375 0 \nL 7.328125 0 \nL 7.328125 8.296875 \nQ 12.9375 14.109375 22.625 23.890625 \nQ 32.328125 33.6875 34.8125 36.53125 \nQ 39.546875 41.84375 41.421875 45.53125 \nQ 43.3125 49.21875 43.3125 52.78125 \nQ 43.3125 58.59375 39.234375 62.25 \nQ 35.15625 65.921875 28.609375 65.921875 \nQ 23.96875 65.921875 18.8125 64.3125 \nQ 13.671875 62.703125 7.8125 59.421875 \nL 7.8125 69.390625 \nQ 13.765625 71.78125 18.9375 73 \nQ 24.125 74.21875 28.421875 74.21875 \nQ 39.75 74.21875 46.484375 68.546875 \nQ 53.21875 62.890625 53.21875 53.421875 \nQ 53.21875 48.921875 51.53125 44.890625 \nQ 49.859375 40.875 45.40625 35.40625 \nQ 44.1875 33.984375 37.640625 27.21875 \nQ 31.109375 20.453125 19.1875 8.296875 \nz\n\" id=\"DejaVuSans-50\"/>\n      </defs>\n      <g transform=\"translate(7.2 249.836875)scale(0.1 -0.1)\">\n       <use xlink:href=\"#DejaVuSans-48\"/>\n       <use x=\"63.623047\" xlink:href=\"#DejaVuSans-49\"/>\n       <use x=\"127.246094\" xlink:href=\"#DejaVuSans-47\"/>\n       <use x=\"160.9375\" xlink:href=\"#DejaVuSans-50\"/>\n       <use x=\"224.560547\" xlink:href=\"#DejaVuSans-50\"/>\n       <use x=\"288.183594\" xlink:href=\"#DejaVuSans-47\"/>\n       <use x=\"321.875\" xlink:href=\"#DejaVuSans-50\"/>\n       <use x=\"385.498047\" xlink:href=\"#DejaVuSans-48\"/>\n       <use x=\"449.121094\" xlink:href=\"#DejaVuSans-50\"/>\n       <use x=\"512.744141\" xlink:href=\"#DejaVuSans-48\"/>\n      </g>\n     </g>\n    </g>\n    <g id=\"xtick_2\">\n     <g id=\"line2d_2\">\n      <g>\n       <use style=\"stroke:#000000;stroke-width:0.8;\" x=\"38.473295\" xlink:href=\"#m726ff945f7\" y=\"235.238437\"/>\n      </g>\n     </g>\n     <g id=\"text_2\">\n      <!-- 01/23/2020 -->\n      <defs>\n       <path d=\"M 40.578125 39.3125 \nQ 47.65625 37.796875 51.625 33 \nQ 55.609375 28.21875 55.609375 21.1875 \nQ 55.609375 10.40625 48.1875 4.484375 \nQ 40.765625 -1.421875 27.09375 -1.421875 \nQ 22.515625 -1.421875 17.65625 -0.515625 \nQ 12.796875 0.390625 7.625 2.203125 \nL 7.625 11.71875 \nQ 11.71875 9.328125 16.59375 8.109375 \nQ 21.484375 6.890625 26.8125 6.890625 \nQ 36.078125 6.890625 40.9375 10.546875 \nQ 45.796875 14.203125 45.796875 21.1875 \nQ 45.796875 27.640625 41.28125 31.265625 \nQ 36.765625 34.90625 28.71875 34.90625 \nL 20.21875 34.90625 \nL 20.21875 43.015625 \nL 29.109375 43.015625 \nQ 36.375 43.015625 40.234375 45.921875 \nQ 44.09375 48.828125 44.09375 54.296875 \nQ 44.09375 59.90625 40.109375 62.90625 \nQ 36.140625 65.921875 28.71875 65.921875 \nQ 24.65625 65.921875 20.015625 65.03125 \nQ 15.375 64.15625 9.8125 62.3125 \nL 9.8125 71.09375 \nQ 15.4375 72.65625 20.34375 73.4375 \nQ 25.25 74.21875 29.59375 74.21875 \nQ 40.828125 74.21875 47.359375 69.109375 \nQ 53.90625 64.015625 53.90625 55.328125 \nQ 53.90625 49.265625 50.4375 45.09375 \nQ 46.96875 40.921875 40.578125 39.3125 \nz\n\" id=\"DejaVuSans-51\"/>\n      </defs>\n      <g transform=\"translate(9.654545 249.836875)scale(0.1 -0.1)\">\n       <use xlink:href=\"#DejaVuSans-48\"/>\n       <use x=\"63.623047\" xlink:href=\"#DejaVuSans-49\"/>\n       <use x=\"127.246094\" xlink:href=\"#DejaVuSans-47\"/>\n       <use x=\"160.9375\" xlink:href=\"#DejaVuSans-50\"/>\n       <use x=\"224.560547\" xlink:href=\"#DejaVuSans-51\"/>\n       <use x=\"288.183594\" xlink:href=\"#DejaVuSans-47\"/>\n       <use x=\"321.875\" xlink:href=\"#DejaVuSans-50\"/>\n       <use x=\"385.498047\" xlink:href=\"#DejaVuSans-48\"/>\n       <use x=\"449.121094\" xlink:href=\"#DejaVuSans-50\"/>\n       <use x=\"512.744141\" xlink:href=\"#DejaVuSans-48\"/>\n      </g>\n     </g>\n    </g>\n    <g id=\"xtick_3\">\n     <g id=\"line2d_3\">\n      <g>\n       <use style=\"stroke:#000000;stroke-width:0.8;\" x=\"40.927841\" xlink:href=\"#m726ff945f7\" y=\"235.238437\"/>\n      </g>\n     </g>\n     <g id=\"text_3\">\n      <!-- 01/24/2020 -->\n      <defs>\n       <path d=\"M 37.796875 64.3125 \nL 12.890625 25.390625 \nL 37.796875 25.390625 \nz\nM 35.203125 72.90625 \nL 47.609375 72.90625 \nL 47.609375 25.390625 \nL 58.015625 25.390625 \nL 58.015625 17.1875 \nL 47.609375 17.1875 \nL 47.609375 0 \nL 37.796875 0 \nL 37.796875 17.1875 \nL 4.890625 17.1875 \nL 4.890625 26.703125 \nz\n\" id=\"DejaVuSans-52\"/>\n      </defs>\n      <g transform=\"translate(12.109091 249.836875)scale(0.1 -0.1)\">\n       <use xlink:href=\"#DejaVuSans-48\"/>\n       <use x=\"63.623047\" xlink:href=\"#DejaVuSans-49\"/>\n       <use x=\"127.246094\" xlink:href=\"#DejaVuSans-47\"/>\n       <use x=\"160.9375\" xlink:href=\"#DejaVuSans-50\"/>\n       <use x=\"224.560547\" xlink:href=\"#DejaVuSans-52\"/>\n       <use x=\"288.183594\" xlink:href=\"#DejaVuSans-47\"/>\n       <use x=\"321.875\" xlink:href=\"#DejaVuSans-50\"/>\n       <use x=\"385.498047\" xlink:href=\"#DejaVuSans-48\"/>\n       <use x=\"449.121094\" xlink:href=\"#DejaVuSans-50\"/>\n       <use x=\"512.744141\" xlink:href=\"#DejaVuSans-48\"/>\n      </g>\n     </g>\n    </g>\n    <g id=\"xtick_4\">\n     <g id=\"line2d_4\">\n      <g>\n       <use style=\"stroke:#000000;stroke-width:0.8;\" x=\"43.382386\" xlink:href=\"#m726ff945f7\" y=\"235.238437\"/>\n      </g>\n     </g>\n     <g id=\"text_4\">\n      <!-- 01/25/2020 -->\n      <defs>\n       <path d=\"M 10.796875 72.90625 \nL 49.515625 72.90625 \nL 49.515625 64.59375 \nL 19.828125 64.59375 \nL 19.828125 46.734375 \nQ 21.96875 47.46875 24.109375 47.828125 \nQ 26.265625 48.1875 28.421875 48.1875 \nQ 40.625 48.1875 47.75 41.5 \nQ 54.890625 34.8125 54.890625 23.390625 \nQ 54.890625 11.625 47.5625 5.09375 \nQ 40.234375 -1.421875 26.90625 -1.421875 \nQ 22.3125 -1.421875 17.546875 -0.640625 \nQ 12.796875 0.140625 7.71875 1.703125 \nL 7.71875 11.625 \nQ 12.109375 9.234375 16.796875 8.0625 \nQ 21.484375 6.890625 26.703125 6.890625 \nQ 35.15625 6.890625 40.078125 11.328125 \nQ 45.015625 15.765625 45.015625 23.390625 \nQ 45.015625 31 40.078125 35.4375 \nQ 35.15625 39.890625 26.703125 39.890625 \nQ 22.75 39.890625 18.8125 39.015625 \nQ 14.890625 38.140625 10.796875 36.28125 \nz\n\" id=\"DejaVuSans-53\"/>\n      </defs>\n      <g transform=\"translate(14.563636 249.836875)scale(0.1 -0.1)\">\n       <use xlink:href=\"#DejaVuSans-48\"/>\n       <use x=\"63.623047\" xlink:href=\"#DejaVuSans-49\"/>\n       <use x=\"127.246094\" xlink:href=\"#DejaVuSans-47\"/>\n       <use x=\"160.9375\" xlink:href=\"#DejaVuSans-50\"/>\n       <use x=\"224.560547\" xlink:href=\"#DejaVuSans-53\"/>\n       <use x=\"288.183594\" xlink:href=\"#DejaVuSans-47\"/>\n       <use x=\"321.875\" xlink:href=\"#DejaVuSans-50\"/>\n       <use x=\"385.498047\" xlink:href=\"#DejaVuSans-48\"/>\n       <use x=\"449.121094\" xlink:href=\"#DejaVuSans-50\"/>\n       <use x=\"512.744141\" xlink:href=\"#DejaVuSans-48\"/>\n      </g>\n     </g>\n    </g>\n    <g id=\"xtick_5\">\n     <g id=\"line2d_5\">\n      <g>\n       <use style=\"stroke:#000000;stroke-width:0.8;\" x=\"45.836932\" xlink:href=\"#m726ff945f7\" y=\"235.238437\"/>\n      </g>\n     </g>\n     <g id=\"text_5\">\n      <!-- 01/26/2020 -->\n      <defs>\n       <path d=\"M 33.015625 40.375 \nQ 26.375 40.375 22.484375 35.828125 \nQ 18.609375 31.296875 18.609375 23.390625 \nQ 18.609375 15.53125 22.484375 10.953125 \nQ 26.375 6.390625 33.015625 6.390625 \nQ 39.65625 6.390625 43.53125 10.953125 \nQ 47.40625 15.53125 47.40625 23.390625 \nQ 47.40625 31.296875 43.53125 35.828125 \nQ 39.65625 40.375 33.015625 40.375 \nz\nM 52.59375 71.296875 \nL 52.59375 62.3125 \nQ 48.875 64.0625 45.09375 64.984375 \nQ 41.3125 65.921875 37.59375 65.921875 \nQ 27.828125 65.921875 22.671875 59.328125 \nQ 17.53125 52.734375 16.796875 39.40625 \nQ 19.671875 43.65625 24.015625 45.921875 \nQ 28.375 48.1875 33.59375 48.1875 \nQ 44.578125 48.1875 50.953125 41.515625 \nQ 57.328125 34.859375 57.328125 23.390625 \nQ 57.328125 12.15625 50.6875 5.359375 \nQ 44.046875 -1.421875 33.015625 -1.421875 \nQ 20.359375 -1.421875 13.671875 8.265625 \nQ 6.984375 17.96875 6.984375 36.375 \nQ 6.984375 53.65625 15.1875 63.9375 \nQ 23.390625 74.21875 37.203125 74.21875 \nQ 40.921875 74.21875 44.703125 73.484375 \nQ 48.484375 72.75 52.59375 71.296875 \nz\n\" id=\"DejaVuSans-54\"/>\n      </defs>\n      <g transform=\"translate(17.018182 249.836875)scale(0.1 -0.1)\">\n       <use xlink:href=\"#DejaVuSans-48\"/>\n       <use x=\"63.623047\" xlink:href=\"#DejaVuSans-49\"/>\n       <use x=\"127.246094\" xlink:href=\"#DejaVuSans-47\"/>\n       <use x=\"160.9375\" xlink:href=\"#DejaVuSans-50\"/>\n       <use x=\"224.560547\" xlink:href=\"#DejaVuSans-54\"/>\n       <use x=\"288.183594\" xlink:href=\"#DejaVuSans-47\"/>\n       <use x=\"321.875\" xlink:href=\"#DejaVuSans-50\"/>\n       <use x=\"385.498047\" xlink:href=\"#DejaVuSans-48\"/>\n       <use x=\"449.121094\" xlink:href=\"#DejaVuSans-50\"/>\n       <use x=\"512.744141\" xlink:href=\"#DejaVuSans-48\"/>\n      </g>\n     </g>\n    </g>\n    <g id=\"xtick_6\">\n     <g id=\"line2d_6\">\n      <g>\n       <use style=\"stroke:#000000;stroke-width:0.8;\" x=\"48.291477\" xlink:href=\"#m726ff945f7\" y=\"235.238437\"/>\n      </g>\n     </g>\n     <g id=\"text_6\">\n      <!-- 01/27/2020 -->\n      <defs>\n       <path d=\"M 8.203125 72.90625 \nL 55.078125 72.90625 \nL 55.078125 68.703125 \nL 28.609375 0 \nL 18.3125 0 \nL 43.21875 64.59375 \nL 8.203125 64.59375 \nz\n\" id=\"DejaVuSans-55\"/>\n      </defs>\n      <g transform=\"translate(19.472727 249.836875)scale(0.1 -0.1)\">\n       <use xlink:href=\"#DejaVuSans-48\"/>\n       <use x=\"63.623047\" xlink:href=\"#DejaVuSans-49\"/>\n       <use x=\"127.246094\" xlink:href=\"#DejaVuSans-47\"/>\n       <use x=\"160.9375\" xlink:href=\"#DejaVuSans-50\"/>\n       <use x=\"224.560547\" xlink:href=\"#DejaVuSans-55\"/>\n       <use x=\"288.183594\" xlink:href=\"#DejaVuSans-47\"/>\n       <use x=\"321.875\" xlink:href=\"#DejaVuSans-50\"/>\n       <use x=\"385.498047\" xlink:href=\"#DejaVuSans-48\"/>\n       <use x=\"449.121094\" xlink:href=\"#DejaVuSans-50\"/>\n       <use x=\"512.744141\" xlink:href=\"#DejaVuSans-48\"/>\n      </g>\n     </g>\n    </g>\n    <g id=\"xtick_7\">\n     <g id=\"line2d_7\">\n      <g>\n       <use style=\"stroke:#000000;stroke-width:0.8;\" x=\"50.746023\" xlink:href=\"#m726ff945f7\" y=\"235.238437\"/>\n      </g>\n     </g>\n     <g id=\"text_7\">\n      <!-- 01/28/2020 -->\n      <defs>\n       <path d=\"M 31.78125 34.625 \nQ 24.75 34.625 20.71875 30.859375 \nQ 16.703125 27.09375 16.703125 20.515625 \nQ 16.703125 13.921875 20.71875 10.15625 \nQ 24.75 6.390625 31.78125 6.390625 \nQ 38.8125 6.390625 42.859375 10.171875 \nQ 46.921875 13.96875 46.921875 20.515625 \nQ 46.921875 27.09375 42.890625 30.859375 \nQ 38.875 34.625 31.78125 34.625 \nz\nM 21.921875 38.8125 \nQ 15.578125 40.375 12.03125 44.71875 \nQ 8.5 49.078125 8.5 55.328125 \nQ 8.5 64.0625 14.71875 69.140625 \nQ 20.953125 74.21875 31.78125 74.21875 \nQ 42.671875 74.21875 48.875 69.140625 \nQ 55.078125 64.0625 55.078125 55.328125 \nQ 55.078125 49.078125 51.53125 44.71875 \nQ 48 40.375 41.703125 38.8125 \nQ 48.828125 37.15625 52.796875 32.3125 \nQ 56.78125 27.484375 56.78125 20.515625 \nQ 56.78125 9.90625 50.3125 4.234375 \nQ 43.84375 -1.421875 31.78125 -1.421875 \nQ 19.734375 -1.421875 13.25 4.234375 \nQ 6.78125 9.90625 6.78125 20.515625 \nQ 6.78125 27.484375 10.78125 32.3125 \nQ 14.796875 37.15625 21.921875 38.8125 \nz\nM 18.3125 54.390625 \nQ 18.3125 48.734375 21.84375 45.5625 \nQ 25.390625 42.390625 31.78125 42.390625 \nQ 38.140625 42.390625 41.71875 45.5625 \nQ 45.3125 48.734375 45.3125 54.390625 \nQ 45.3125 60.0625 41.71875 63.234375 \nQ 38.140625 66.40625 31.78125 66.40625 \nQ 25.390625 66.40625 21.84375 63.234375 \nQ 18.3125 60.0625 18.3125 54.390625 \nz\n\" id=\"DejaVuSans-56\"/>\n      </defs>\n      <g transform=\"translate(21.927273 249.836875)scale(0.1 -0.1)\">\n       <use xlink:href=\"#DejaVuSans-48\"/>\n       <use x=\"63.623047\" xlink:href=\"#DejaVuSans-49\"/>\n       <use x=\"127.246094\" xlink:href=\"#DejaVuSans-47\"/>\n       <use x=\"160.9375\" xlink:href=\"#DejaVuSans-50\"/>\n       <use x=\"224.560547\" xlink:href=\"#DejaVuSans-56\"/>\n       <use x=\"288.183594\" xlink:href=\"#DejaVuSans-47\"/>\n       <use x=\"321.875\" xlink:href=\"#DejaVuSans-50\"/>\n       <use x=\"385.498047\" xlink:href=\"#DejaVuSans-48\"/>\n       <use x=\"449.121094\" xlink:href=\"#DejaVuSans-50\"/>\n       <use x=\"512.744141\" xlink:href=\"#DejaVuSans-48\"/>\n      </g>\n     </g>\n    </g>\n    <g id=\"xtick_8\">\n     <g id=\"line2d_8\">\n      <g>\n       <use style=\"stroke:#000000;stroke-width:0.8;\" x=\"53.200568\" xlink:href=\"#m726ff945f7\" y=\"235.238437\"/>\n      </g>\n     </g>\n     <g id=\"text_8\">\n      <!-- 01/29/2020 -->\n      <defs>\n       <path d=\"M 10.984375 1.515625 \nL 10.984375 10.5 \nQ 14.703125 8.734375 18.5 7.8125 \nQ 22.3125 6.890625 25.984375 6.890625 \nQ 35.75 6.890625 40.890625 13.453125 \nQ 46.046875 20.015625 46.78125 33.40625 \nQ 43.953125 29.203125 39.59375 26.953125 \nQ 35.25 24.703125 29.984375 24.703125 \nQ 19.046875 24.703125 12.671875 31.3125 \nQ 6.296875 37.9375 6.296875 49.421875 \nQ 6.296875 60.640625 12.9375 67.421875 \nQ 19.578125 74.21875 30.609375 74.21875 \nQ 43.265625 74.21875 49.921875 64.515625 \nQ 56.59375 54.828125 56.59375 36.375 \nQ 56.59375 19.140625 48.40625 8.859375 \nQ 40.234375 -1.421875 26.421875 -1.421875 \nQ 22.703125 -1.421875 18.890625 -0.6875 \nQ 15.09375 0.046875 10.984375 1.515625 \nz\nM 30.609375 32.421875 \nQ 37.25 32.421875 41.125 36.953125 \nQ 45.015625 41.5 45.015625 49.421875 \nQ 45.015625 57.28125 41.125 61.84375 \nQ 37.25 66.40625 30.609375 66.40625 \nQ 23.96875 66.40625 20.09375 61.84375 \nQ 16.21875 57.28125 16.21875 49.421875 \nQ 16.21875 41.5 20.09375 36.953125 \nQ 23.96875 32.421875 30.609375 32.421875 \nz\n\" id=\"DejaVuSans-57\"/>\n      </defs>\n      <g transform=\"translate(24.381818 249.836875)scale(0.1 -0.1)\">\n       <use xlink:href=\"#DejaVuSans-48\"/>\n       <use x=\"63.623047\" xlink:href=\"#DejaVuSans-49\"/>\n       <use x=\"127.246094\" xlink:href=\"#DejaVuSans-47\"/>\n       <use x=\"160.9375\" xlink:href=\"#DejaVuSans-50\"/>\n       <use x=\"224.560547\" xlink:href=\"#DejaVuSans-57\"/>\n       <use x=\"288.183594\" xlink:href=\"#DejaVuSans-47\"/>\n       <use x=\"321.875\" xlink:href=\"#DejaVuSans-50\"/>\n       <use x=\"385.498047\" xlink:href=\"#DejaVuSans-48\"/>\n       <use x=\"449.121094\" xlink:href=\"#DejaVuSans-50\"/>\n       <use x=\"512.744141\" xlink:href=\"#DejaVuSans-48\"/>\n      </g>\n     </g>\n    </g>\n    <g id=\"xtick_9\">\n     <g id=\"line2d_9\">\n      <g>\n       <use style=\"stroke:#000000;stroke-width:0.8;\" x=\"55.655114\" xlink:href=\"#m726ff945f7\" y=\"235.238437\"/>\n      </g>\n     </g>\n     <g id=\"text_9\">\n      <!-- 01/30/2020 -->\n      <g transform=\"translate(26.836364 249.836875)scale(0.1 -0.1)\">\n       <use xlink:href=\"#DejaVuSans-48\"/>\n       <use x=\"63.623047\" xlink:href=\"#DejaVuSans-49\"/>\n       <use x=\"127.246094\" xlink:href=\"#DejaVuSans-47\"/>\n       <use x=\"160.9375\" xlink:href=\"#DejaVuSans-51\"/>\n       <use x=\"224.560547\" xlink:href=\"#DejaVuSans-48\"/>\n       <use x=\"288.183594\" xlink:href=\"#DejaVuSans-47\"/>\n       <use x=\"321.875\" xlink:href=\"#DejaVuSans-50\"/>\n       <use x=\"385.498047\" xlink:href=\"#DejaVuSans-48\"/>\n       <use x=\"449.121094\" xlink:href=\"#DejaVuSans-50\"/>\n       <use x=\"512.744141\" xlink:href=\"#DejaVuSans-48\"/>\n      </g>\n     </g>\n    </g>\n    <g id=\"xtick_10\">\n     <g id=\"line2d_10\">\n      <g>\n       <use style=\"stroke:#000000;stroke-width:0.8;\" x=\"58.109659\" xlink:href=\"#m726ff945f7\" y=\"235.238437\"/>\n      </g>\n     </g>\n     <g id=\"text_10\">\n      <!-- 01/31/2020 -->\n      <g transform=\"translate(29.290909 249.836875)scale(0.1 -0.1)\">\n       <use xlink:href=\"#DejaVuSans-48\"/>\n       <use x=\"63.623047\" xlink:href=\"#DejaVuSans-49\"/>\n       <use x=\"127.246094\" xlink:href=\"#DejaVuSans-47\"/>\n       <use x=\"160.9375\" xlink:href=\"#DejaVuSans-51\"/>\n       <use x=\"224.560547\" xlink:href=\"#DejaVuSans-49\"/>\n       <use x=\"288.183594\" xlink:href=\"#DejaVuSans-47\"/>\n       <use x=\"321.875\" xlink:href=\"#DejaVuSans-50\"/>\n       <use x=\"385.498047\" xlink:href=\"#DejaVuSans-48\"/>\n       <use x=\"449.121094\" xlink:href=\"#DejaVuSans-50\"/>\n       <use x=\"512.744141\" xlink:href=\"#DejaVuSans-48\"/>\n      </g>\n     </g>\n    </g>\n    <g id=\"xtick_11\">\n     <g id=\"line2d_11\">\n      <g>\n       <use style=\"stroke:#000000;stroke-width:0.8;\" x=\"60.564205\" xlink:href=\"#m726ff945f7\" y=\"235.238437\"/>\n      </g>\n     </g>\n     <g id=\"text_11\">\n      <!-- 02/01/2020 -->\n      <g transform=\"translate(31.745455 249.836875)scale(0.1 -0.1)\">\n       <use xlink:href=\"#DejaVuSans-48\"/>\n       <use x=\"63.623047\" xlink:href=\"#DejaVuSans-50\"/>\n       <use x=\"127.246094\" xlink:href=\"#DejaVuSans-47\"/>\n       <use x=\"160.9375\" xlink:href=\"#DejaVuSans-48\"/>\n       <use x=\"224.560547\" xlink:href=\"#DejaVuSans-49\"/>\n       <use x=\"288.183594\" xlink:href=\"#DejaVuSans-47\"/>\n       <use x=\"321.875\" xlink:href=\"#DejaVuSans-50\"/>\n       <use x=\"385.498047\" xlink:href=\"#DejaVuSans-48\"/>\n       <use x=\"449.121094\" xlink:href=\"#DejaVuSans-50\"/>\n       <use x=\"512.744141\" xlink:href=\"#DejaVuSans-48\"/>\n      </g>\n     </g>\n    </g>\n    <g id=\"xtick_12\">\n     <g id=\"line2d_12\">\n      <g>\n       <use style=\"stroke:#000000;stroke-width:0.8;\" x=\"63.01875\" xlink:href=\"#m726ff945f7\" y=\"235.238437\"/>\n      </g>\n     </g>\n     <g id=\"text_12\">\n      <!-- 02/02/2020 -->\n      <g transform=\"translate(34.2 249.836875)scale(0.1 -0.1)\">\n       <use xlink:href=\"#DejaVuSans-48\"/>\n       <use x=\"63.623047\" xlink:href=\"#DejaVuSans-50\"/>\n       <use x=\"127.246094\" xlink:href=\"#DejaVuSans-47\"/>\n       <use x=\"160.9375\" xlink:href=\"#DejaVuSans-48\"/>\n       <use x=\"224.560547\" xlink:href=\"#DejaVuSans-50\"/>\n       <use x=\"288.183594\" xlink:href=\"#DejaVuSans-47\"/>\n       <use x=\"321.875\" xlink:href=\"#DejaVuSans-50\"/>\n       <use x=\"385.498047\" xlink:href=\"#DejaVuSans-48\"/>\n       <use x=\"449.121094\" xlink:href=\"#DejaVuSans-50\"/>\n       <use x=\"512.744141\" xlink:href=\"#DejaVuSans-48\"/>\n      </g>\n     </g>\n    </g>\n    <g id=\"xtick_13\">\n     <g id=\"line2d_13\">\n      <g>\n       <use style=\"stroke:#000000;stroke-width:0.8;\" x=\"65.473295\" xlink:href=\"#m726ff945f7\" y=\"235.238437\"/>\n      </g>\n     </g>\n     <g id=\"text_13\">\n      <!-- 02/03/2020 -->\n      <g transform=\"translate(36.654545 249.836875)scale(0.1 -0.1)\">\n       <use xlink:href=\"#DejaVuSans-48\"/>\n       <use x=\"63.623047\" xlink:href=\"#DejaVuSans-50\"/>\n       <use x=\"127.246094\" xlink:href=\"#DejaVuSans-47\"/>\n       <use x=\"160.9375\" xlink:href=\"#DejaVuSans-48\"/>\n       <use x=\"224.560547\" xlink:href=\"#DejaVuSans-51\"/>\n       <use x=\"288.183594\" xlink:href=\"#DejaVuSans-47\"/>\n       <use x=\"321.875\" xlink:href=\"#DejaVuSans-50\"/>\n       <use x=\"385.498047\" xlink:href=\"#DejaVuSans-48\"/>\n       <use x=\"449.121094\" xlink:href=\"#DejaVuSans-50\"/>\n       <use x=\"512.744141\" xlink:href=\"#DejaVuSans-48\"/>\n      </g>\n     </g>\n    </g>\n    <g id=\"xtick_14\">\n     <g id=\"line2d_14\">\n      <g>\n       <use style=\"stroke:#000000;stroke-width:0.8;\" x=\"67.927841\" xlink:href=\"#m726ff945f7\" y=\"235.238437\"/>\n      </g>\n     </g>\n     <g id=\"text_14\">\n      <!-- 02/04/2020 -->\n      <g transform=\"translate(39.109091 249.836875)scale(0.1 -0.1)\">\n       <use xlink:href=\"#DejaVuSans-48\"/>\n       <use x=\"63.623047\" xlink:href=\"#DejaVuSans-50\"/>\n       <use x=\"127.246094\" xlink:href=\"#DejaVuSans-47\"/>\n       <use x=\"160.9375\" xlink:href=\"#DejaVuSans-48\"/>\n       <use x=\"224.560547\" xlink:href=\"#DejaVuSans-52\"/>\n       <use x=\"288.183594\" xlink:href=\"#DejaVuSans-47\"/>\n       <use x=\"321.875\" xlink:href=\"#DejaVuSans-50\"/>\n       <use x=\"385.498047\" xlink:href=\"#DejaVuSans-48\"/>\n       <use x=\"449.121094\" xlink:href=\"#DejaVuSans-50\"/>\n       <use x=\"512.744141\" xlink:href=\"#DejaVuSans-48\"/>\n      </g>\n     </g>\n    </g>\n    <g id=\"xtick_15\">\n     <g id=\"line2d_15\">\n      <g>\n       <use style=\"stroke:#000000;stroke-width:0.8;\" x=\"70.382386\" xlink:href=\"#m726ff945f7\" y=\"235.238437\"/>\n      </g>\n     </g>\n     <g id=\"text_15\">\n      <!-- 02/05/2020 -->\n      <g transform=\"translate(41.563636 249.836875)scale(0.1 -0.1)\">\n       <use xlink:href=\"#DejaVuSans-48\"/>\n       <use x=\"63.623047\" xlink:href=\"#DejaVuSans-50\"/>\n       <use x=\"127.246094\" xlink:href=\"#DejaVuSans-47\"/>\n       <use x=\"160.9375\" xlink:href=\"#DejaVuSans-48\"/>\n       <use x=\"224.560547\" xlink:href=\"#DejaVuSans-53\"/>\n       <use x=\"288.183594\" xlink:href=\"#DejaVuSans-47\"/>\n       <use x=\"321.875\" xlink:href=\"#DejaVuSans-50\"/>\n       <use x=\"385.498047\" xlink:href=\"#DejaVuSans-48\"/>\n       <use x=\"449.121094\" xlink:href=\"#DejaVuSans-50\"/>\n       <use x=\"512.744141\" xlink:href=\"#DejaVuSans-48\"/>\n      </g>\n     </g>\n    </g>\n    <g id=\"xtick_16\">\n     <g id=\"line2d_16\">\n      <g>\n       <use style=\"stroke:#000000;stroke-width:0.8;\" x=\"72.836932\" xlink:href=\"#m726ff945f7\" y=\"235.238437\"/>\n      </g>\n     </g>\n     <g id=\"text_16\">\n      <!-- 02/06/2020 -->\n      <g transform=\"translate(44.018182 249.836875)scale(0.1 -0.1)\">\n       <use xlink:href=\"#DejaVuSans-48\"/>\n       <use x=\"63.623047\" xlink:href=\"#DejaVuSans-50\"/>\n       <use x=\"127.246094\" xlink:href=\"#DejaVuSans-47\"/>\n       <use x=\"160.9375\" xlink:href=\"#DejaVuSans-48\"/>\n       <use x=\"224.560547\" xlink:href=\"#DejaVuSans-54\"/>\n       <use x=\"288.183594\" xlink:href=\"#DejaVuSans-47\"/>\n       <use x=\"321.875\" xlink:href=\"#DejaVuSans-50\"/>\n       <use x=\"385.498047\" xlink:href=\"#DejaVuSans-48\"/>\n       <use x=\"449.121094\" xlink:href=\"#DejaVuSans-50\"/>\n       <use x=\"512.744141\" xlink:href=\"#DejaVuSans-48\"/>\n      </g>\n     </g>\n    </g>\n    <g id=\"xtick_17\">\n     <g id=\"line2d_17\">\n      <g>\n       <use style=\"stroke:#000000;stroke-width:0.8;\" x=\"75.291477\" xlink:href=\"#m726ff945f7\" y=\"235.238437\"/>\n      </g>\n     </g>\n     <g id=\"text_17\">\n      <!-- 02/07/2020 -->\n      <g transform=\"translate(46.472727 249.836875)scale(0.1 -0.1)\">\n       <use xlink:href=\"#DejaVuSans-48\"/>\n       <use x=\"63.623047\" xlink:href=\"#DejaVuSans-50\"/>\n       <use x=\"127.246094\" xlink:href=\"#DejaVuSans-47\"/>\n       <use x=\"160.9375\" xlink:href=\"#DejaVuSans-48\"/>\n       <use x=\"224.560547\" xlink:href=\"#DejaVuSans-55\"/>\n       <use x=\"288.183594\" xlink:href=\"#DejaVuSans-47\"/>\n       <use x=\"321.875\" xlink:href=\"#DejaVuSans-50\"/>\n       <use x=\"385.498047\" xlink:href=\"#DejaVuSans-48\"/>\n       <use x=\"449.121094\" xlink:href=\"#DejaVuSans-50\"/>\n       <use x=\"512.744141\" xlink:href=\"#DejaVuSans-48\"/>\n      </g>\n     </g>\n    </g>\n    <g id=\"xtick_18\">\n     <g id=\"line2d_18\">\n      <g>\n       <use style=\"stroke:#000000;stroke-width:0.8;\" x=\"77.746023\" xlink:href=\"#m726ff945f7\" y=\"235.238437\"/>\n      </g>\n     </g>\n     <g id=\"text_18\">\n      <!-- 02/08/2020 -->\n      <g transform=\"translate(48.927273 249.836875)scale(0.1 -0.1)\">\n       <use xlink:href=\"#DejaVuSans-48\"/>\n       <use x=\"63.623047\" xlink:href=\"#DejaVuSans-50\"/>\n       <use x=\"127.246094\" xlink:href=\"#DejaVuSans-47\"/>\n       <use x=\"160.9375\" xlink:href=\"#DejaVuSans-48\"/>\n       <use x=\"224.560547\" xlink:href=\"#DejaVuSans-56\"/>\n       <use x=\"288.183594\" xlink:href=\"#DejaVuSans-47\"/>\n       <use x=\"321.875\" xlink:href=\"#DejaVuSans-50\"/>\n       <use x=\"385.498047\" xlink:href=\"#DejaVuSans-48\"/>\n       <use x=\"449.121094\" xlink:href=\"#DejaVuSans-50\"/>\n       <use x=\"512.744141\" xlink:href=\"#DejaVuSans-48\"/>\n      </g>\n     </g>\n    </g>\n    <g id=\"xtick_19\">\n     <g id=\"line2d_19\">\n      <g>\n       <use style=\"stroke:#000000;stroke-width:0.8;\" x=\"80.200568\" xlink:href=\"#m726ff945f7\" y=\"235.238437\"/>\n      </g>\n     </g>\n     <g id=\"text_19\">\n      <!-- 02/09/2020 -->\n      <g transform=\"translate(51.381818 249.836875)scale(0.1 -0.1)\">\n       <use xlink:href=\"#DejaVuSans-48\"/>\n       <use x=\"63.623047\" xlink:href=\"#DejaVuSans-50\"/>\n       <use x=\"127.246094\" xlink:href=\"#DejaVuSans-47\"/>\n       <use x=\"160.9375\" xlink:href=\"#DejaVuSans-48\"/>\n       <use x=\"224.560547\" xlink:href=\"#DejaVuSans-57\"/>\n       <use x=\"288.183594\" xlink:href=\"#DejaVuSans-47\"/>\n       <use x=\"321.875\" xlink:href=\"#DejaVuSans-50\"/>\n       <use x=\"385.498047\" xlink:href=\"#DejaVuSans-48\"/>\n       <use x=\"449.121094\" xlink:href=\"#DejaVuSans-50\"/>\n       <use x=\"512.744141\" xlink:href=\"#DejaVuSans-48\"/>\n      </g>\n     </g>\n    </g>\n    <g id=\"xtick_20\">\n     <g id=\"line2d_20\">\n      <g>\n       <use style=\"stroke:#000000;stroke-width:0.8;\" x=\"82.655114\" xlink:href=\"#m726ff945f7\" y=\"235.238437\"/>\n      </g>\n     </g>\n     <g id=\"text_20\">\n      <!-- 02/10/2020 -->\n      <g transform=\"translate(53.836364 249.836875)scale(0.1 -0.1)\">\n       <use xlink:href=\"#DejaVuSans-48\"/>\n       <use x=\"63.623047\" xlink:href=\"#DejaVuSans-50\"/>\n       <use x=\"127.246094\" xlink:href=\"#DejaVuSans-47\"/>\n       <use x=\"160.9375\" xlink:href=\"#DejaVuSans-49\"/>\n       <use x=\"224.560547\" xlink:href=\"#DejaVuSans-48\"/>\n       <use x=\"288.183594\" xlink:href=\"#DejaVuSans-47\"/>\n       <use x=\"321.875\" xlink:href=\"#DejaVuSans-50\"/>\n       <use x=\"385.498047\" xlink:href=\"#DejaVuSans-48\"/>\n       <use x=\"449.121094\" xlink:href=\"#DejaVuSans-50\"/>\n       <use x=\"512.744141\" xlink:href=\"#DejaVuSans-48\"/>\n      </g>\n     </g>\n    </g>\n    <g id=\"xtick_21\">\n     <g id=\"line2d_21\">\n      <g>\n       <use style=\"stroke:#000000;stroke-width:0.8;\" x=\"85.109659\" xlink:href=\"#m726ff945f7\" y=\"235.238437\"/>\n      </g>\n     </g>\n     <g id=\"text_21\">\n      <!-- 02/11/2020 -->\n      <g transform=\"translate(56.290909 249.836875)scale(0.1 -0.1)\">\n       <use xlink:href=\"#DejaVuSans-48\"/>\n       <use x=\"63.623047\" xlink:href=\"#DejaVuSans-50\"/>\n       <use x=\"127.246094\" xlink:href=\"#DejaVuSans-47\"/>\n       <use x=\"160.9375\" xlink:href=\"#DejaVuSans-49\"/>\n       <use x=\"224.560547\" xlink:href=\"#DejaVuSans-49\"/>\n       <use x=\"288.183594\" xlink:href=\"#DejaVuSans-47\"/>\n       <use x=\"321.875\" xlink:href=\"#DejaVuSans-50\"/>\n       <use x=\"385.498047\" xlink:href=\"#DejaVuSans-48\"/>\n       <use x=\"449.121094\" xlink:href=\"#DejaVuSans-50\"/>\n       <use x=\"512.744141\" xlink:href=\"#DejaVuSans-48\"/>\n      </g>\n     </g>\n    </g>\n    <g id=\"xtick_22\">\n     <g id=\"line2d_22\">\n      <g>\n       <use style=\"stroke:#000000;stroke-width:0.8;\" x=\"87.564205\" xlink:href=\"#m726ff945f7\" y=\"235.238437\"/>\n      </g>\n     </g>\n     <g id=\"text_22\">\n      <!-- 02/12/2020 -->\n      <g transform=\"translate(58.745455 249.836875)scale(0.1 -0.1)\">\n       <use xlink:href=\"#DejaVuSans-48\"/>\n       <use x=\"63.623047\" xlink:href=\"#DejaVuSans-50\"/>\n       <use x=\"127.246094\" xlink:href=\"#DejaVuSans-47\"/>\n       <use x=\"160.9375\" xlink:href=\"#DejaVuSans-49\"/>\n       <use x=\"224.560547\" xlink:href=\"#DejaVuSans-50\"/>\n       <use x=\"288.183594\" xlink:href=\"#DejaVuSans-47\"/>\n       <use x=\"321.875\" xlink:href=\"#DejaVuSans-50\"/>\n       <use x=\"385.498047\" xlink:href=\"#DejaVuSans-48\"/>\n       <use x=\"449.121094\" xlink:href=\"#DejaVuSans-50\"/>\n       <use x=\"512.744141\" xlink:href=\"#DejaVuSans-48\"/>\n      </g>\n     </g>\n    </g>\n    <g id=\"xtick_23\">\n     <g id=\"line2d_23\">\n      <g>\n       <use style=\"stroke:#000000;stroke-width:0.8;\" x=\"90.01875\" xlink:href=\"#m726ff945f7\" y=\"235.238437\"/>\n      </g>\n     </g>\n     <g id=\"text_23\">\n      <!-- 02/13/2020 -->\n      <g transform=\"translate(61.2 249.836875)scale(0.1 -0.1)\">\n       <use xlink:href=\"#DejaVuSans-48\"/>\n       <use x=\"63.623047\" xlink:href=\"#DejaVuSans-50\"/>\n       <use x=\"127.246094\" xlink:href=\"#DejaVuSans-47\"/>\n       <use x=\"160.9375\" xlink:href=\"#DejaVuSans-49\"/>\n       <use x=\"224.560547\" xlink:href=\"#DejaVuSans-51\"/>\n       <use x=\"288.183594\" xlink:href=\"#DejaVuSans-47\"/>\n       <use x=\"321.875\" xlink:href=\"#DejaVuSans-50\"/>\n       <use x=\"385.498047\" xlink:href=\"#DejaVuSans-48\"/>\n       <use x=\"449.121094\" xlink:href=\"#DejaVuSans-50\"/>\n       <use x=\"512.744141\" xlink:href=\"#DejaVuSans-48\"/>\n      </g>\n     </g>\n    </g>\n    <g id=\"xtick_24\">\n     <g id=\"line2d_24\">\n      <g>\n       <use style=\"stroke:#000000;stroke-width:0.8;\" x=\"92.473295\" xlink:href=\"#m726ff945f7\" y=\"235.238437\"/>\n      </g>\n     </g>\n     <g id=\"text_24\">\n      <!-- 02/14/2020 -->\n      <g transform=\"translate(63.654545 249.836875)scale(0.1 -0.1)\">\n       <use xlink:href=\"#DejaVuSans-48\"/>\n       <use x=\"63.623047\" xlink:href=\"#DejaVuSans-50\"/>\n       <use x=\"127.246094\" xlink:href=\"#DejaVuSans-47\"/>\n       <use x=\"160.9375\" xlink:href=\"#DejaVuSans-49\"/>\n       <use x=\"224.560547\" xlink:href=\"#DejaVuSans-52\"/>\n       <use x=\"288.183594\" xlink:href=\"#DejaVuSans-47\"/>\n       <use x=\"321.875\" xlink:href=\"#DejaVuSans-50\"/>\n       <use x=\"385.498047\" xlink:href=\"#DejaVuSans-48\"/>\n       <use x=\"449.121094\" xlink:href=\"#DejaVuSans-50\"/>\n       <use x=\"512.744141\" xlink:href=\"#DejaVuSans-48\"/>\n      </g>\n     </g>\n    </g>\n    <g id=\"xtick_25\">\n     <g id=\"line2d_25\">\n      <g>\n       <use style=\"stroke:#000000;stroke-width:0.8;\" x=\"94.927841\" xlink:href=\"#m726ff945f7\" y=\"235.238437\"/>\n      </g>\n     </g>\n     <g id=\"text_25\">\n      <!-- 02/15/2020 -->\n      <g transform=\"translate(66.109091 249.836875)scale(0.1 -0.1)\">\n       <use xlink:href=\"#DejaVuSans-48\"/>\n       <use x=\"63.623047\" xlink:href=\"#DejaVuSans-50\"/>\n       <use x=\"127.246094\" xlink:href=\"#DejaVuSans-47\"/>\n       <use x=\"160.9375\" xlink:href=\"#DejaVuSans-49\"/>\n       <use x=\"224.560547\" xlink:href=\"#DejaVuSans-53\"/>\n       <use x=\"288.183594\" xlink:href=\"#DejaVuSans-47\"/>\n       <use x=\"321.875\" xlink:href=\"#DejaVuSans-50\"/>\n       <use x=\"385.498047\" xlink:href=\"#DejaVuSans-48\"/>\n       <use x=\"449.121094\" xlink:href=\"#DejaVuSans-50\"/>\n       <use x=\"512.744141\" xlink:href=\"#DejaVuSans-48\"/>\n      </g>\n     </g>\n    </g>\n    <g id=\"xtick_26\">\n     <g id=\"line2d_26\">\n      <g>\n       <use style=\"stroke:#000000;stroke-width:0.8;\" x=\"97.382386\" xlink:href=\"#m726ff945f7\" y=\"235.238437\"/>\n      </g>\n     </g>\n     <g id=\"text_26\">\n      <!-- 02/16/2020 -->\n      <g transform=\"translate(68.563636 249.836875)scale(0.1 -0.1)\">\n       <use xlink:href=\"#DejaVuSans-48\"/>\n       <use x=\"63.623047\" xlink:href=\"#DejaVuSans-50\"/>\n       <use x=\"127.246094\" xlink:href=\"#DejaVuSans-47\"/>\n       <use x=\"160.9375\" xlink:href=\"#DejaVuSans-49\"/>\n       <use x=\"224.560547\" xlink:href=\"#DejaVuSans-54\"/>\n       <use x=\"288.183594\" xlink:href=\"#DejaVuSans-47\"/>\n       <use x=\"321.875\" xlink:href=\"#DejaVuSans-50\"/>\n       <use x=\"385.498047\" xlink:href=\"#DejaVuSans-48\"/>\n       <use x=\"449.121094\" xlink:href=\"#DejaVuSans-50\"/>\n       <use x=\"512.744141\" xlink:href=\"#DejaVuSans-48\"/>\n      </g>\n     </g>\n    </g>\n    <g id=\"xtick_27\">\n     <g id=\"line2d_27\">\n      <g>\n       <use style=\"stroke:#000000;stroke-width:0.8;\" x=\"99.836932\" xlink:href=\"#m726ff945f7\" y=\"235.238437\"/>\n      </g>\n     </g>\n     <g id=\"text_27\">\n      <!-- 02/17/2020 -->\n      <g transform=\"translate(71.018182 249.836875)scale(0.1 -0.1)\">\n       <use xlink:href=\"#DejaVuSans-48\"/>\n       <use x=\"63.623047\" xlink:href=\"#DejaVuSans-50\"/>\n       <use x=\"127.246094\" xlink:href=\"#DejaVuSans-47\"/>\n       <use x=\"160.9375\" xlink:href=\"#DejaVuSans-49\"/>\n       <use x=\"224.560547\" xlink:href=\"#DejaVuSans-55\"/>\n       <use x=\"288.183594\" xlink:href=\"#DejaVuSans-47\"/>\n       <use x=\"321.875\" xlink:href=\"#DejaVuSans-50\"/>\n       <use x=\"385.498047\" xlink:href=\"#DejaVuSans-48\"/>\n       <use x=\"449.121094\" xlink:href=\"#DejaVuSans-50\"/>\n       <use x=\"512.744141\" xlink:href=\"#DejaVuSans-48\"/>\n      </g>\n     </g>\n    </g>\n    <g id=\"xtick_28\">\n     <g id=\"line2d_28\">\n      <g>\n       <use style=\"stroke:#000000;stroke-width:0.8;\" x=\"102.291477\" xlink:href=\"#m726ff945f7\" y=\"235.238437\"/>\n      </g>\n     </g>\n     <g id=\"text_28\">\n      <!-- 02/18/2020 -->\n      <g transform=\"translate(73.472727 249.836875)scale(0.1 -0.1)\">\n       <use xlink:href=\"#DejaVuSans-48\"/>\n       <use x=\"63.623047\" xlink:href=\"#DejaVuSans-50\"/>\n       <use x=\"127.246094\" xlink:href=\"#DejaVuSans-47\"/>\n       <use x=\"160.9375\" xlink:href=\"#DejaVuSans-49\"/>\n       <use x=\"224.560547\" xlink:href=\"#DejaVuSans-56\"/>\n       <use x=\"288.183594\" xlink:href=\"#DejaVuSans-47\"/>\n       <use x=\"321.875\" xlink:href=\"#DejaVuSans-50\"/>\n       <use x=\"385.498047\" xlink:href=\"#DejaVuSans-48\"/>\n       <use x=\"449.121094\" xlink:href=\"#DejaVuSans-50\"/>\n       <use x=\"512.744141\" xlink:href=\"#DejaVuSans-48\"/>\n      </g>\n     </g>\n    </g>\n    <g id=\"xtick_29\">\n     <g id=\"line2d_29\">\n      <g>\n       <use style=\"stroke:#000000;stroke-width:0.8;\" x=\"104.746023\" xlink:href=\"#m726ff945f7\" y=\"235.238437\"/>\n      </g>\n     </g>\n     <g id=\"text_29\">\n      <!-- 02/19/2020 -->\n      <g transform=\"translate(75.927273 249.836875)scale(0.1 -0.1)\">\n       <use xlink:href=\"#DejaVuSans-48\"/>\n       <use x=\"63.623047\" xlink:href=\"#DejaVuSans-50\"/>\n       <use x=\"127.246094\" xlink:href=\"#DejaVuSans-47\"/>\n       <use x=\"160.9375\" xlink:href=\"#DejaVuSans-49\"/>\n       <use x=\"224.560547\" xlink:href=\"#DejaVuSans-57\"/>\n       <use x=\"288.183594\" xlink:href=\"#DejaVuSans-47\"/>\n       <use x=\"321.875\" xlink:href=\"#DejaVuSans-50\"/>\n       <use x=\"385.498047\" xlink:href=\"#DejaVuSans-48\"/>\n       <use x=\"449.121094\" xlink:href=\"#DejaVuSans-50\"/>\n       <use x=\"512.744141\" xlink:href=\"#DejaVuSans-48\"/>\n      </g>\n     </g>\n    </g>\n    <g id=\"xtick_30\">\n     <g id=\"line2d_30\">\n      <g>\n       <use style=\"stroke:#000000;stroke-width:0.8;\" x=\"107.200568\" xlink:href=\"#m726ff945f7\" y=\"235.238437\"/>\n      </g>\n     </g>\n     <g id=\"text_30\">\n      <!-- 02/20/2020 -->\n      <g transform=\"translate(78.381818 249.836875)scale(0.1 -0.1)\">\n       <use xlink:href=\"#DejaVuSans-48\"/>\n       <use x=\"63.623047\" xlink:href=\"#DejaVuSans-50\"/>\n       <use x=\"127.246094\" xlink:href=\"#DejaVuSans-47\"/>\n       <use x=\"160.9375\" xlink:href=\"#DejaVuSans-50\"/>\n       <use x=\"224.560547\" xlink:href=\"#DejaVuSans-48\"/>\n       <use x=\"288.183594\" xlink:href=\"#DejaVuSans-47\"/>\n       <use x=\"321.875\" xlink:href=\"#DejaVuSans-50\"/>\n       <use x=\"385.498047\" xlink:href=\"#DejaVuSans-48\"/>\n       <use x=\"449.121094\" xlink:href=\"#DejaVuSans-50\"/>\n       <use x=\"512.744141\" xlink:href=\"#DejaVuSans-48\"/>\n      </g>\n     </g>\n    </g>\n    <g id=\"xtick_31\">\n     <g id=\"line2d_31\">\n      <g>\n       <use style=\"stroke:#000000;stroke-width:0.8;\" x=\"109.655114\" xlink:href=\"#m726ff945f7\" y=\"235.238437\"/>\n      </g>\n     </g>\n     <g id=\"text_31\">\n      <!-- 02/21/2020 -->\n      <g transform=\"translate(80.836364 249.836875)scale(0.1 -0.1)\">\n       <use xlink:href=\"#DejaVuSans-48\"/>\n       <use x=\"63.623047\" xlink:href=\"#DejaVuSans-50\"/>\n       <use x=\"127.246094\" xlink:href=\"#DejaVuSans-47\"/>\n       <use x=\"160.9375\" xlink:href=\"#DejaVuSans-50\"/>\n       <use x=\"224.560547\" xlink:href=\"#DejaVuSans-49\"/>\n       <use x=\"288.183594\" xlink:href=\"#DejaVuSans-47\"/>\n       <use x=\"321.875\" xlink:href=\"#DejaVuSans-50\"/>\n       <use x=\"385.498047\" xlink:href=\"#DejaVuSans-48\"/>\n       <use x=\"449.121094\" xlink:href=\"#DejaVuSans-50\"/>\n       <use x=\"512.744141\" xlink:href=\"#DejaVuSans-48\"/>\n      </g>\n     </g>\n    </g>\n    <g id=\"xtick_32\">\n     <g id=\"line2d_32\">\n      <g>\n       <use style=\"stroke:#000000;stroke-width:0.8;\" x=\"112.109659\" xlink:href=\"#m726ff945f7\" y=\"235.238437\"/>\n      </g>\n     </g>\n     <g id=\"text_32\">\n      <!-- 02/22/2020 -->\n      <g transform=\"translate(83.290909 249.836875)scale(0.1 -0.1)\">\n       <use xlink:href=\"#DejaVuSans-48\"/>\n       <use x=\"63.623047\" xlink:href=\"#DejaVuSans-50\"/>\n       <use x=\"127.246094\" xlink:href=\"#DejaVuSans-47\"/>\n       <use x=\"160.9375\" xlink:href=\"#DejaVuSans-50\"/>\n       <use x=\"224.560547\" xlink:href=\"#DejaVuSans-50\"/>\n       <use x=\"288.183594\" xlink:href=\"#DejaVuSans-47\"/>\n       <use x=\"321.875\" xlink:href=\"#DejaVuSans-50\"/>\n       <use x=\"385.498047\" xlink:href=\"#DejaVuSans-48\"/>\n       <use x=\"449.121094\" xlink:href=\"#DejaVuSans-50\"/>\n       <use x=\"512.744141\" xlink:href=\"#DejaVuSans-48\"/>\n      </g>\n     </g>\n    </g>\n    <g id=\"xtick_33\">\n     <g id=\"line2d_33\">\n      <g>\n       <use style=\"stroke:#000000;stroke-width:0.8;\" x=\"114.564205\" xlink:href=\"#m726ff945f7\" y=\"235.238437\"/>\n      </g>\n     </g>\n     <g id=\"text_33\">\n      <!-- 02/23/2020 -->\n      <g transform=\"translate(85.745455 249.836875)scale(0.1 -0.1)\">\n       <use xlink:href=\"#DejaVuSans-48\"/>\n       <use x=\"63.623047\" xlink:href=\"#DejaVuSans-50\"/>\n       <use x=\"127.246094\" xlink:href=\"#DejaVuSans-47\"/>\n       <use x=\"160.9375\" xlink:href=\"#DejaVuSans-50\"/>\n       <use x=\"224.560547\" xlink:href=\"#DejaVuSans-51\"/>\n       <use x=\"288.183594\" xlink:href=\"#DejaVuSans-47\"/>\n       <use x=\"321.875\" xlink:href=\"#DejaVuSans-50\"/>\n       <use x=\"385.498047\" xlink:href=\"#DejaVuSans-48\"/>\n       <use x=\"449.121094\" xlink:href=\"#DejaVuSans-50\"/>\n       <use x=\"512.744141\" xlink:href=\"#DejaVuSans-48\"/>\n      </g>\n     </g>\n    </g>\n    <g id=\"xtick_34\">\n     <g id=\"line2d_34\">\n      <g>\n       <use style=\"stroke:#000000;stroke-width:0.8;\" x=\"117.01875\" xlink:href=\"#m726ff945f7\" y=\"235.238437\"/>\n      </g>\n     </g>\n     <g id=\"text_34\">\n      <!-- 02/24/2020 -->\n      <g transform=\"translate(88.2 249.836875)scale(0.1 -0.1)\">\n       <use xlink:href=\"#DejaVuSans-48\"/>\n       <use x=\"63.623047\" xlink:href=\"#DejaVuSans-50\"/>\n       <use x=\"127.246094\" xlink:href=\"#DejaVuSans-47\"/>\n       <use x=\"160.9375\" xlink:href=\"#DejaVuSans-50\"/>\n       <use x=\"224.560547\" xlink:href=\"#DejaVuSans-52\"/>\n       <use x=\"288.183594\" xlink:href=\"#DejaVuSans-47\"/>\n       <use x=\"321.875\" xlink:href=\"#DejaVuSans-50\"/>\n       <use x=\"385.498047\" xlink:href=\"#DejaVuSans-48\"/>\n       <use x=\"449.121094\" xlink:href=\"#DejaVuSans-50\"/>\n       <use x=\"512.744141\" xlink:href=\"#DejaVuSans-48\"/>\n      </g>\n     </g>\n    </g>\n    <g id=\"xtick_35\">\n     <g id=\"line2d_35\">\n      <g>\n       <use style=\"stroke:#000000;stroke-width:0.8;\" x=\"119.473295\" xlink:href=\"#m726ff945f7\" y=\"235.238437\"/>\n      </g>\n     </g>\n     <g id=\"text_35\">\n      <!-- 02/25/2020 -->\n      <g transform=\"translate(90.654545 249.836875)scale(0.1 -0.1)\">\n       <use xlink:href=\"#DejaVuSans-48\"/>\n       <use x=\"63.623047\" xlink:href=\"#DejaVuSans-50\"/>\n       <use x=\"127.246094\" xlink:href=\"#DejaVuSans-47\"/>\n       <use x=\"160.9375\" xlink:href=\"#DejaVuSans-50\"/>\n       <use x=\"224.560547\" xlink:href=\"#DejaVuSans-53\"/>\n       <use x=\"288.183594\" xlink:href=\"#DejaVuSans-47\"/>\n       <use x=\"321.875\" xlink:href=\"#DejaVuSans-50\"/>\n       <use x=\"385.498047\" xlink:href=\"#DejaVuSans-48\"/>\n       <use x=\"449.121094\" xlink:href=\"#DejaVuSans-50\"/>\n       <use x=\"512.744141\" xlink:href=\"#DejaVuSans-48\"/>\n      </g>\n     </g>\n    </g>\n    <g id=\"xtick_36\">\n     <g id=\"line2d_36\">\n      <g>\n       <use style=\"stroke:#000000;stroke-width:0.8;\" x=\"121.927841\" xlink:href=\"#m726ff945f7\" y=\"235.238437\"/>\n      </g>\n     </g>\n     <g id=\"text_36\">\n      <!-- 02/26/2020 -->\n      <g transform=\"translate(93.109091 249.836875)scale(0.1 -0.1)\">\n       <use xlink:href=\"#DejaVuSans-48\"/>\n       <use x=\"63.623047\" xlink:href=\"#DejaVuSans-50\"/>\n       <use x=\"127.246094\" xlink:href=\"#DejaVuSans-47\"/>\n       <use x=\"160.9375\" xlink:href=\"#DejaVuSans-50\"/>\n       <use x=\"224.560547\" xlink:href=\"#DejaVuSans-54\"/>\n       <use x=\"288.183594\" xlink:href=\"#DejaVuSans-47\"/>\n       <use x=\"321.875\" xlink:href=\"#DejaVuSans-50\"/>\n       <use x=\"385.498047\" xlink:href=\"#DejaVuSans-48\"/>\n       <use x=\"449.121094\" xlink:href=\"#DejaVuSans-50\"/>\n       <use x=\"512.744141\" xlink:href=\"#DejaVuSans-48\"/>\n      </g>\n     </g>\n    </g>\n    <g id=\"xtick_37\">\n     <g id=\"line2d_37\">\n      <g>\n       <use style=\"stroke:#000000;stroke-width:0.8;\" x=\"124.382386\" xlink:href=\"#m726ff945f7\" y=\"235.238437\"/>\n      </g>\n     </g>\n     <g id=\"text_37\">\n      <!-- 02/27/2020 -->\n      <g transform=\"translate(95.563636 249.836875)scale(0.1 -0.1)\">\n       <use xlink:href=\"#DejaVuSans-48\"/>\n       <use x=\"63.623047\" xlink:href=\"#DejaVuSans-50\"/>\n       <use x=\"127.246094\" xlink:href=\"#DejaVuSans-47\"/>\n       <use x=\"160.9375\" xlink:href=\"#DejaVuSans-50\"/>\n       <use x=\"224.560547\" xlink:href=\"#DejaVuSans-55\"/>\n       <use x=\"288.183594\" xlink:href=\"#DejaVuSans-47\"/>\n       <use x=\"321.875\" xlink:href=\"#DejaVuSans-50\"/>\n       <use x=\"385.498047\" xlink:href=\"#DejaVuSans-48\"/>\n       <use x=\"449.121094\" xlink:href=\"#DejaVuSans-50\"/>\n       <use x=\"512.744141\" xlink:href=\"#DejaVuSans-48\"/>\n      </g>\n     </g>\n    </g>\n    <g id=\"xtick_38\">\n     <g id=\"line2d_38\">\n      <g>\n       <use style=\"stroke:#000000;stroke-width:0.8;\" x=\"126.836932\" xlink:href=\"#m726ff945f7\" y=\"235.238437\"/>\n      </g>\n     </g>\n     <g id=\"text_38\">\n      <!-- 02/28/2020 -->\n      <g transform=\"translate(98.018182 249.836875)scale(0.1 -0.1)\">\n       <use xlink:href=\"#DejaVuSans-48\"/>\n       <use x=\"63.623047\" xlink:href=\"#DejaVuSans-50\"/>\n       <use x=\"127.246094\" xlink:href=\"#DejaVuSans-47\"/>\n       <use x=\"160.9375\" xlink:href=\"#DejaVuSans-50\"/>\n       <use x=\"224.560547\" xlink:href=\"#DejaVuSans-56\"/>\n       <use x=\"288.183594\" xlink:href=\"#DejaVuSans-47\"/>\n       <use x=\"321.875\" xlink:href=\"#DejaVuSans-50\"/>\n       <use x=\"385.498047\" xlink:href=\"#DejaVuSans-48\"/>\n       <use x=\"449.121094\" xlink:href=\"#DejaVuSans-50\"/>\n       <use x=\"512.744141\" xlink:href=\"#DejaVuSans-48\"/>\n      </g>\n     </g>\n    </g>\n    <g id=\"xtick_39\">\n     <g id=\"line2d_39\">\n      <g>\n       <use style=\"stroke:#000000;stroke-width:0.8;\" x=\"129.291477\" xlink:href=\"#m726ff945f7\" y=\"235.238437\"/>\n      </g>\n     </g>\n     <g id=\"text_39\">\n      <!-- 02/29/2020 -->\n      <g transform=\"translate(100.472727 249.836875)scale(0.1 -0.1)\">\n       <use xlink:href=\"#DejaVuSans-48\"/>\n       <use x=\"63.623047\" xlink:href=\"#DejaVuSans-50\"/>\n       <use x=\"127.246094\" xlink:href=\"#DejaVuSans-47\"/>\n       <use x=\"160.9375\" xlink:href=\"#DejaVuSans-50\"/>\n       <use x=\"224.560547\" xlink:href=\"#DejaVuSans-57\"/>\n       <use x=\"288.183594\" xlink:href=\"#DejaVuSans-47\"/>\n       <use x=\"321.875\" xlink:href=\"#DejaVuSans-50\"/>\n       <use x=\"385.498047\" xlink:href=\"#DejaVuSans-48\"/>\n       <use x=\"449.121094\" xlink:href=\"#DejaVuSans-50\"/>\n       <use x=\"512.744141\" xlink:href=\"#DejaVuSans-48\"/>\n      </g>\n     </g>\n    </g>\n    <g id=\"xtick_40\">\n     <g id=\"line2d_40\">\n      <g>\n       <use style=\"stroke:#000000;stroke-width:0.8;\" x=\"131.746023\" xlink:href=\"#m726ff945f7\" y=\"235.238437\"/>\n      </g>\n     </g>\n     <g id=\"text_40\">\n      <!-- 03/01/2020 -->\n      <g transform=\"translate(102.927273 249.836875)scale(0.1 -0.1)\">\n       <use xlink:href=\"#DejaVuSans-48\"/>\n       <use x=\"63.623047\" xlink:href=\"#DejaVuSans-51\"/>\n       <use x=\"127.246094\" xlink:href=\"#DejaVuSans-47\"/>\n       <use x=\"160.9375\" xlink:href=\"#DejaVuSans-48\"/>\n       <use x=\"224.560547\" xlink:href=\"#DejaVuSans-49\"/>\n       <use x=\"288.183594\" xlink:href=\"#DejaVuSans-47\"/>\n       <use x=\"321.875\" xlink:href=\"#DejaVuSans-50\"/>\n       <use x=\"385.498047\" xlink:href=\"#DejaVuSans-48\"/>\n       <use x=\"449.121094\" xlink:href=\"#DejaVuSans-50\"/>\n       <use x=\"512.744141\" xlink:href=\"#DejaVuSans-48\"/>\n      </g>\n     </g>\n    </g>\n    <g id=\"xtick_41\">\n     <g id=\"line2d_41\">\n      <g>\n       <use style=\"stroke:#000000;stroke-width:0.8;\" x=\"134.200568\" xlink:href=\"#m726ff945f7\" y=\"235.238437\"/>\n      </g>\n     </g>\n     <g id=\"text_41\">\n      <!-- 03/02/2020 -->\n      <g transform=\"translate(105.381818 249.836875)scale(0.1 -0.1)\">\n       <use xlink:href=\"#DejaVuSans-48\"/>\n       <use x=\"63.623047\" xlink:href=\"#DejaVuSans-51\"/>\n       <use x=\"127.246094\" xlink:href=\"#DejaVuSans-47\"/>\n       <use x=\"160.9375\" xlink:href=\"#DejaVuSans-48\"/>\n       <use x=\"224.560547\" xlink:href=\"#DejaVuSans-50\"/>\n       <use x=\"288.183594\" xlink:href=\"#DejaVuSans-47\"/>\n       <use x=\"321.875\" xlink:href=\"#DejaVuSans-50\"/>\n       <use x=\"385.498047\" xlink:href=\"#DejaVuSans-48\"/>\n       <use x=\"449.121094\" xlink:href=\"#DejaVuSans-50\"/>\n       <use x=\"512.744141\" xlink:href=\"#DejaVuSans-48\"/>\n      </g>\n     </g>\n    </g>\n    <g id=\"xtick_42\">\n     <g id=\"line2d_42\">\n      <g>\n       <use style=\"stroke:#000000;stroke-width:0.8;\" x=\"136.655114\" xlink:href=\"#m726ff945f7\" y=\"235.238437\"/>\n      </g>\n     </g>\n     <g id=\"text_42\">\n      <!-- 03/03/2020 -->\n      <g transform=\"translate(107.836364 249.836875)scale(0.1 -0.1)\">\n       <use xlink:href=\"#DejaVuSans-48\"/>\n       <use x=\"63.623047\" xlink:href=\"#DejaVuSans-51\"/>\n       <use x=\"127.246094\" xlink:href=\"#DejaVuSans-47\"/>\n       <use x=\"160.9375\" xlink:href=\"#DejaVuSans-48\"/>\n       <use x=\"224.560547\" xlink:href=\"#DejaVuSans-51\"/>\n       <use x=\"288.183594\" xlink:href=\"#DejaVuSans-47\"/>\n       <use x=\"321.875\" xlink:href=\"#DejaVuSans-50\"/>\n       <use x=\"385.498047\" xlink:href=\"#DejaVuSans-48\"/>\n       <use x=\"449.121094\" xlink:href=\"#DejaVuSans-50\"/>\n       <use x=\"512.744141\" xlink:href=\"#DejaVuSans-48\"/>\n      </g>\n     </g>\n    </g>\n    <g id=\"xtick_43\">\n     <g id=\"line2d_43\">\n      <g>\n       <use style=\"stroke:#000000;stroke-width:0.8;\" x=\"139.109659\" xlink:href=\"#m726ff945f7\" y=\"235.238437\"/>\n      </g>\n     </g>\n     <g id=\"text_43\">\n      <!-- 03/04/2020 -->\n      <g transform=\"translate(110.290909 249.836875)scale(0.1 -0.1)\">\n       <use xlink:href=\"#DejaVuSans-48\"/>\n       <use x=\"63.623047\" xlink:href=\"#DejaVuSans-51\"/>\n       <use x=\"127.246094\" xlink:href=\"#DejaVuSans-47\"/>\n       <use x=\"160.9375\" xlink:href=\"#DejaVuSans-48\"/>\n       <use x=\"224.560547\" xlink:href=\"#DejaVuSans-52\"/>\n       <use x=\"288.183594\" xlink:href=\"#DejaVuSans-47\"/>\n       <use x=\"321.875\" xlink:href=\"#DejaVuSans-50\"/>\n       <use x=\"385.498047\" xlink:href=\"#DejaVuSans-48\"/>\n       <use x=\"449.121094\" xlink:href=\"#DejaVuSans-50\"/>\n       <use x=\"512.744141\" xlink:href=\"#DejaVuSans-48\"/>\n      </g>\n     </g>\n    </g>\n    <g id=\"xtick_44\">\n     <g id=\"line2d_44\">\n      <g>\n       <use style=\"stroke:#000000;stroke-width:0.8;\" x=\"141.564205\" xlink:href=\"#m726ff945f7\" y=\"235.238437\"/>\n      </g>\n     </g>\n     <g id=\"text_44\">\n      <!-- 03/05/2020 -->\n      <g transform=\"translate(112.745455 249.836875)scale(0.1 -0.1)\">\n       <use xlink:href=\"#DejaVuSans-48\"/>\n       <use x=\"63.623047\" xlink:href=\"#DejaVuSans-51\"/>\n       <use x=\"127.246094\" xlink:href=\"#DejaVuSans-47\"/>\n       <use x=\"160.9375\" xlink:href=\"#DejaVuSans-48\"/>\n       <use x=\"224.560547\" xlink:href=\"#DejaVuSans-53\"/>\n       <use x=\"288.183594\" xlink:href=\"#DejaVuSans-47\"/>\n       <use x=\"321.875\" xlink:href=\"#DejaVuSans-50\"/>\n       <use x=\"385.498047\" xlink:href=\"#DejaVuSans-48\"/>\n       <use x=\"449.121094\" xlink:href=\"#DejaVuSans-50\"/>\n       <use x=\"512.744141\" xlink:href=\"#DejaVuSans-48\"/>\n      </g>\n     </g>\n    </g>\n    <g id=\"xtick_45\">\n     <g id=\"line2d_45\">\n      <g>\n       <use style=\"stroke:#000000;stroke-width:0.8;\" x=\"144.01875\" xlink:href=\"#m726ff945f7\" y=\"235.238437\"/>\n      </g>\n     </g>\n     <g id=\"text_45\">\n      <!-- 03/06/2020 -->\n      <g transform=\"translate(115.2 249.836875)scale(0.1 -0.1)\">\n       <use xlink:href=\"#DejaVuSans-48\"/>\n       <use x=\"63.623047\" xlink:href=\"#DejaVuSans-51\"/>\n       <use x=\"127.246094\" xlink:href=\"#DejaVuSans-47\"/>\n       <use x=\"160.9375\" xlink:href=\"#DejaVuSans-48\"/>\n       <use x=\"224.560547\" xlink:href=\"#DejaVuSans-54\"/>\n       <use x=\"288.183594\" xlink:href=\"#DejaVuSans-47\"/>\n       <use x=\"321.875\" xlink:href=\"#DejaVuSans-50\"/>\n       <use x=\"385.498047\" xlink:href=\"#DejaVuSans-48\"/>\n       <use x=\"449.121094\" xlink:href=\"#DejaVuSans-50\"/>\n       <use x=\"512.744141\" xlink:href=\"#DejaVuSans-48\"/>\n      </g>\n     </g>\n    </g>\n    <g id=\"xtick_46\">\n     <g id=\"line2d_46\">\n      <g>\n       <use style=\"stroke:#000000;stroke-width:0.8;\" x=\"146.473295\" xlink:href=\"#m726ff945f7\" y=\"235.238437\"/>\n      </g>\n     </g>\n     <g id=\"text_46\">\n      <!-- 03/07/2020 -->\n      <g transform=\"translate(117.654545 249.836875)scale(0.1 -0.1)\">\n       <use xlink:href=\"#DejaVuSans-48\"/>\n       <use x=\"63.623047\" xlink:href=\"#DejaVuSans-51\"/>\n       <use x=\"127.246094\" xlink:href=\"#DejaVuSans-47\"/>\n       <use x=\"160.9375\" xlink:href=\"#DejaVuSans-48\"/>\n       <use x=\"224.560547\" xlink:href=\"#DejaVuSans-55\"/>\n       <use x=\"288.183594\" xlink:href=\"#DejaVuSans-47\"/>\n       <use x=\"321.875\" xlink:href=\"#DejaVuSans-50\"/>\n       <use x=\"385.498047\" xlink:href=\"#DejaVuSans-48\"/>\n       <use x=\"449.121094\" xlink:href=\"#DejaVuSans-50\"/>\n       <use x=\"512.744141\" xlink:href=\"#DejaVuSans-48\"/>\n      </g>\n     </g>\n    </g>\n    <g id=\"xtick_47\">\n     <g id=\"line2d_47\">\n      <g>\n       <use style=\"stroke:#000000;stroke-width:0.8;\" x=\"148.927841\" xlink:href=\"#m726ff945f7\" y=\"235.238437\"/>\n      </g>\n     </g>\n     <g id=\"text_47\">\n      <!-- 03/08/2020 -->\n      <g transform=\"translate(120.109091 249.836875)scale(0.1 -0.1)\">\n       <use xlink:href=\"#DejaVuSans-48\"/>\n       <use x=\"63.623047\" xlink:href=\"#DejaVuSans-51\"/>\n       <use x=\"127.246094\" xlink:href=\"#DejaVuSans-47\"/>\n       <use x=\"160.9375\" xlink:href=\"#DejaVuSans-48\"/>\n       <use x=\"224.560547\" xlink:href=\"#DejaVuSans-56\"/>\n       <use x=\"288.183594\" xlink:href=\"#DejaVuSans-47\"/>\n       <use x=\"321.875\" xlink:href=\"#DejaVuSans-50\"/>\n       <use x=\"385.498047\" xlink:href=\"#DejaVuSans-48\"/>\n       <use x=\"449.121094\" xlink:href=\"#DejaVuSans-50\"/>\n       <use x=\"512.744141\" xlink:href=\"#DejaVuSans-48\"/>\n      </g>\n     </g>\n    </g>\n    <g id=\"xtick_48\">\n     <g id=\"line2d_48\">\n      <g>\n       <use style=\"stroke:#000000;stroke-width:0.8;\" x=\"151.382386\" xlink:href=\"#m726ff945f7\" y=\"235.238437\"/>\n      </g>\n     </g>\n     <g id=\"text_48\">\n      <!-- 03/09/2020 -->\n      <g transform=\"translate(122.563636 249.836875)scale(0.1 -0.1)\">\n       <use xlink:href=\"#DejaVuSans-48\"/>\n       <use x=\"63.623047\" xlink:href=\"#DejaVuSans-51\"/>\n       <use x=\"127.246094\" xlink:href=\"#DejaVuSans-47\"/>\n       <use x=\"160.9375\" xlink:href=\"#DejaVuSans-48\"/>\n       <use x=\"224.560547\" xlink:href=\"#DejaVuSans-57\"/>\n       <use x=\"288.183594\" xlink:href=\"#DejaVuSans-47\"/>\n       <use x=\"321.875\" xlink:href=\"#DejaVuSans-50\"/>\n       <use x=\"385.498047\" xlink:href=\"#DejaVuSans-48\"/>\n       <use x=\"449.121094\" xlink:href=\"#DejaVuSans-50\"/>\n       <use x=\"512.744141\" xlink:href=\"#DejaVuSans-48\"/>\n      </g>\n     </g>\n    </g>\n    <g id=\"xtick_49\">\n     <g id=\"line2d_49\">\n      <g>\n       <use style=\"stroke:#000000;stroke-width:0.8;\" x=\"153.836932\" xlink:href=\"#m726ff945f7\" y=\"235.238437\"/>\n      </g>\n     </g>\n     <g id=\"text_49\">\n      <!-- 03/10/2020 -->\n      <g transform=\"translate(125.018182 249.836875)scale(0.1 -0.1)\">\n       <use xlink:href=\"#DejaVuSans-48\"/>\n       <use x=\"63.623047\" xlink:href=\"#DejaVuSans-51\"/>\n       <use x=\"127.246094\" xlink:href=\"#DejaVuSans-47\"/>\n       <use x=\"160.9375\" xlink:href=\"#DejaVuSans-49\"/>\n       <use x=\"224.560547\" xlink:href=\"#DejaVuSans-48\"/>\n       <use x=\"288.183594\" xlink:href=\"#DejaVuSans-47\"/>\n       <use x=\"321.875\" xlink:href=\"#DejaVuSans-50\"/>\n       <use x=\"385.498047\" xlink:href=\"#DejaVuSans-48\"/>\n       <use x=\"449.121094\" xlink:href=\"#DejaVuSans-50\"/>\n       <use x=\"512.744141\" xlink:href=\"#DejaVuSans-48\"/>\n      </g>\n     </g>\n    </g>\n    <g id=\"xtick_50\">\n     <g id=\"line2d_50\">\n      <g>\n       <use style=\"stroke:#000000;stroke-width:0.8;\" x=\"156.291477\" xlink:href=\"#m726ff945f7\" y=\"235.238437\"/>\n      </g>\n     </g>\n     <g id=\"text_50\">\n      <!-- 03/11/2020 -->\n      <g transform=\"translate(127.472727 249.836875)scale(0.1 -0.1)\">\n       <use xlink:href=\"#DejaVuSans-48\"/>\n       <use x=\"63.623047\" xlink:href=\"#DejaVuSans-51\"/>\n       <use x=\"127.246094\" xlink:href=\"#DejaVuSans-47\"/>\n       <use x=\"160.9375\" xlink:href=\"#DejaVuSans-49\"/>\n       <use x=\"224.560547\" xlink:href=\"#DejaVuSans-49\"/>\n       <use x=\"288.183594\" xlink:href=\"#DejaVuSans-47\"/>\n       <use x=\"321.875\" xlink:href=\"#DejaVuSans-50\"/>\n       <use x=\"385.498047\" xlink:href=\"#DejaVuSans-48\"/>\n       <use x=\"449.121094\" xlink:href=\"#DejaVuSans-50\"/>\n       <use x=\"512.744141\" xlink:href=\"#DejaVuSans-48\"/>\n      </g>\n     </g>\n    </g>\n    <g id=\"xtick_51\">\n     <g id=\"line2d_51\">\n      <g>\n       <use style=\"stroke:#000000;stroke-width:0.8;\" x=\"158.746023\" xlink:href=\"#m726ff945f7\" y=\"235.238437\"/>\n      </g>\n     </g>\n     <g id=\"text_51\">\n      <!-- 03/12/2020 -->\n      <g transform=\"translate(129.927273 249.836875)scale(0.1 -0.1)\">\n       <use xlink:href=\"#DejaVuSans-48\"/>\n       <use x=\"63.623047\" xlink:href=\"#DejaVuSans-51\"/>\n       <use x=\"127.246094\" xlink:href=\"#DejaVuSans-47\"/>\n       <use x=\"160.9375\" xlink:href=\"#DejaVuSans-49\"/>\n       <use x=\"224.560547\" xlink:href=\"#DejaVuSans-50\"/>\n       <use x=\"288.183594\" xlink:href=\"#DejaVuSans-47\"/>\n       <use x=\"321.875\" xlink:href=\"#DejaVuSans-50\"/>\n       <use x=\"385.498047\" xlink:href=\"#DejaVuSans-48\"/>\n       <use x=\"449.121094\" xlink:href=\"#DejaVuSans-50\"/>\n       <use x=\"512.744141\" xlink:href=\"#DejaVuSans-48\"/>\n      </g>\n     </g>\n    </g>\n    <g id=\"xtick_52\">\n     <g id=\"line2d_52\">\n      <g>\n       <use style=\"stroke:#000000;stroke-width:0.8;\" x=\"161.200568\" xlink:href=\"#m726ff945f7\" y=\"235.238437\"/>\n      </g>\n     </g>\n     <g id=\"text_52\">\n      <!-- 03/13/2020 -->\n      <g transform=\"translate(132.381818 249.836875)scale(0.1 -0.1)\">\n       <use xlink:href=\"#DejaVuSans-48\"/>\n       <use x=\"63.623047\" xlink:href=\"#DejaVuSans-51\"/>\n       <use x=\"127.246094\" xlink:href=\"#DejaVuSans-47\"/>\n       <use x=\"160.9375\" xlink:href=\"#DejaVuSans-49\"/>\n       <use x=\"224.560547\" xlink:href=\"#DejaVuSans-51\"/>\n       <use x=\"288.183594\" xlink:href=\"#DejaVuSans-47\"/>\n       <use x=\"321.875\" xlink:href=\"#DejaVuSans-50\"/>\n       <use x=\"385.498047\" xlink:href=\"#DejaVuSans-48\"/>\n       <use x=\"449.121094\" xlink:href=\"#DejaVuSans-50\"/>\n       <use x=\"512.744141\" xlink:href=\"#DejaVuSans-48\"/>\n      </g>\n     </g>\n    </g>\n    <g id=\"xtick_53\">\n     <g id=\"line2d_53\">\n      <g>\n       <use style=\"stroke:#000000;stroke-width:0.8;\" x=\"163.655114\" xlink:href=\"#m726ff945f7\" y=\"235.238437\"/>\n      </g>\n     </g>\n     <g id=\"text_53\">\n      <!-- 03/14/2020 -->\n      <g transform=\"translate(134.836364 249.836875)scale(0.1 -0.1)\">\n       <use xlink:href=\"#DejaVuSans-48\"/>\n       <use x=\"63.623047\" xlink:href=\"#DejaVuSans-51\"/>\n       <use x=\"127.246094\" xlink:href=\"#DejaVuSans-47\"/>\n       <use x=\"160.9375\" xlink:href=\"#DejaVuSans-49\"/>\n       <use x=\"224.560547\" xlink:href=\"#DejaVuSans-52\"/>\n       <use x=\"288.183594\" xlink:href=\"#DejaVuSans-47\"/>\n       <use x=\"321.875\" xlink:href=\"#DejaVuSans-50\"/>\n       <use x=\"385.498047\" xlink:href=\"#DejaVuSans-48\"/>\n       <use x=\"449.121094\" xlink:href=\"#DejaVuSans-50\"/>\n       <use x=\"512.744141\" xlink:href=\"#DejaVuSans-48\"/>\n      </g>\n     </g>\n    </g>\n    <g id=\"xtick_54\">\n     <g id=\"line2d_54\">\n      <g>\n       <use style=\"stroke:#000000;stroke-width:0.8;\" x=\"166.109659\" xlink:href=\"#m726ff945f7\" y=\"235.238437\"/>\n      </g>\n     </g>\n     <g id=\"text_54\">\n      <!-- 03/15/2020 -->\n      <g transform=\"translate(137.290909 249.836875)scale(0.1 -0.1)\">\n       <use xlink:href=\"#DejaVuSans-48\"/>\n       <use x=\"63.623047\" xlink:href=\"#DejaVuSans-51\"/>\n       <use x=\"127.246094\" xlink:href=\"#DejaVuSans-47\"/>\n       <use x=\"160.9375\" xlink:href=\"#DejaVuSans-49\"/>\n       <use x=\"224.560547\" xlink:href=\"#DejaVuSans-53\"/>\n       <use x=\"288.183594\" xlink:href=\"#DejaVuSans-47\"/>\n       <use x=\"321.875\" xlink:href=\"#DejaVuSans-50\"/>\n       <use x=\"385.498047\" xlink:href=\"#DejaVuSans-48\"/>\n       <use x=\"449.121094\" xlink:href=\"#DejaVuSans-50\"/>\n       <use x=\"512.744141\" xlink:href=\"#DejaVuSans-48\"/>\n      </g>\n     </g>\n    </g>\n    <g id=\"xtick_55\">\n     <g id=\"line2d_55\">\n      <g>\n       <use style=\"stroke:#000000;stroke-width:0.8;\" x=\"168.564205\" xlink:href=\"#m726ff945f7\" y=\"235.238437\"/>\n      </g>\n     </g>\n     <g id=\"text_55\">\n      <!-- 03/16/2020 -->\n      <g transform=\"translate(139.745455 249.836875)scale(0.1 -0.1)\">\n       <use xlink:href=\"#DejaVuSans-48\"/>\n       <use x=\"63.623047\" xlink:href=\"#DejaVuSans-51\"/>\n       <use x=\"127.246094\" xlink:href=\"#DejaVuSans-47\"/>\n       <use x=\"160.9375\" xlink:href=\"#DejaVuSans-49\"/>\n       <use x=\"224.560547\" xlink:href=\"#DejaVuSans-54\"/>\n       <use x=\"288.183594\" xlink:href=\"#DejaVuSans-47\"/>\n       <use x=\"321.875\" xlink:href=\"#DejaVuSans-50\"/>\n       <use x=\"385.498047\" xlink:href=\"#DejaVuSans-48\"/>\n       <use x=\"449.121094\" xlink:href=\"#DejaVuSans-50\"/>\n       <use x=\"512.744141\" xlink:href=\"#DejaVuSans-48\"/>\n      </g>\n     </g>\n    </g>\n    <g id=\"xtick_56\">\n     <g id=\"line2d_56\">\n      <g>\n       <use style=\"stroke:#000000;stroke-width:0.8;\" x=\"171.01875\" xlink:href=\"#m726ff945f7\" y=\"235.238437\"/>\n      </g>\n     </g>\n     <g id=\"text_56\">\n      <!-- 03/17/2020 -->\n      <g transform=\"translate(142.2 249.836875)scale(0.1 -0.1)\">\n       <use xlink:href=\"#DejaVuSans-48\"/>\n       <use x=\"63.623047\" xlink:href=\"#DejaVuSans-51\"/>\n       <use x=\"127.246094\" xlink:href=\"#DejaVuSans-47\"/>\n       <use x=\"160.9375\" xlink:href=\"#DejaVuSans-49\"/>\n       <use x=\"224.560547\" xlink:href=\"#DejaVuSans-55\"/>\n       <use x=\"288.183594\" xlink:href=\"#DejaVuSans-47\"/>\n       <use x=\"321.875\" xlink:href=\"#DejaVuSans-50\"/>\n       <use x=\"385.498047\" xlink:href=\"#DejaVuSans-48\"/>\n       <use x=\"449.121094\" xlink:href=\"#DejaVuSans-50\"/>\n       <use x=\"512.744141\" xlink:href=\"#DejaVuSans-48\"/>\n      </g>\n     </g>\n    </g>\n    <g id=\"xtick_57\">\n     <g id=\"line2d_57\">\n      <g>\n       <use style=\"stroke:#000000;stroke-width:0.8;\" x=\"173.473295\" xlink:href=\"#m726ff945f7\" y=\"235.238437\"/>\n      </g>\n     </g>\n     <g id=\"text_57\">\n      <!-- 03/18/2020 -->\n      <g transform=\"translate(144.654545 249.836875)scale(0.1 -0.1)\">\n       <use xlink:href=\"#DejaVuSans-48\"/>\n       <use x=\"63.623047\" xlink:href=\"#DejaVuSans-51\"/>\n       <use x=\"127.246094\" xlink:href=\"#DejaVuSans-47\"/>\n       <use x=\"160.9375\" xlink:href=\"#DejaVuSans-49\"/>\n       <use x=\"224.560547\" xlink:href=\"#DejaVuSans-56\"/>\n       <use x=\"288.183594\" xlink:href=\"#DejaVuSans-47\"/>\n       <use x=\"321.875\" xlink:href=\"#DejaVuSans-50\"/>\n       <use x=\"385.498047\" xlink:href=\"#DejaVuSans-48\"/>\n       <use x=\"449.121094\" xlink:href=\"#DejaVuSans-50\"/>\n       <use x=\"512.744141\" xlink:href=\"#DejaVuSans-48\"/>\n      </g>\n     </g>\n    </g>\n    <g id=\"xtick_58\">\n     <g id=\"line2d_58\">\n      <g>\n       <use style=\"stroke:#000000;stroke-width:0.8;\" x=\"175.927841\" xlink:href=\"#m726ff945f7\" y=\"235.238437\"/>\n      </g>\n     </g>\n     <g id=\"text_58\">\n      <!-- 03/19/2020 -->\n      <g transform=\"translate(147.109091 249.836875)scale(0.1 -0.1)\">\n       <use xlink:href=\"#DejaVuSans-48\"/>\n       <use x=\"63.623047\" xlink:href=\"#DejaVuSans-51\"/>\n       <use x=\"127.246094\" xlink:href=\"#DejaVuSans-47\"/>\n       <use x=\"160.9375\" xlink:href=\"#DejaVuSans-49\"/>\n       <use x=\"224.560547\" xlink:href=\"#DejaVuSans-57\"/>\n       <use x=\"288.183594\" xlink:href=\"#DejaVuSans-47\"/>\n       <use x=\"321.875\" xlink:href=\"#DejaVuSans-50\"/>\n       <use x=\"385.498047\" xlink:href=\"#DejaVuSans-48\"/>\n       <use x=\"449.121094\" xlink:href=\"#DejaVuSans-50\"/>\n       <use x=\"512.744141\" xlink:href=\"#DejaVuSans-48\"/>\n      </g>\n     </g>\n    </g>\n    <g id=\"xtick_59\">\n     <g id=\"line2d_59\">\n      <g>\n       <use style=\"stroke:#000000;stroke-width:0.8;\" x=\"178.382386\" xlink:href=\"#m726ff945f7\" y=\"235.238437\"/>\n      </g>\n     </g>\n     <g id=\"text_59\">\n      <!-- 03/20/2020 -->\n      <g transform=\"translate(149.563636 249.836875)scale(0.1 -0.1)\">\n       <use xlink:href=\"#DejaVuSans-48\"/>\n       <use x=\"63.623047\" xlink:href=\"#DejaVuSans-51\"/>\n       <use x=\"127.246094\" xlink:href=\"#DejaVuSans-47\"/>\n       <use x=\"160.9375\" xlink:href=\"#DejaVuSans-50\"/>\n       <use x=\"224.560547\" xlink:href=\"#DejaVuSans-48\"/>\n       <use x=\"288.183594\" xlink:href=\"#DejaVuSans-47\"/>\n       <use x=\"321.875\" xlink:href=\"#DejaVuSans-50\"/>\n       <use x=\"385.498047\" xlink:href=\"#DejaVuSans-48\"/>\n       <use x=\"449.121094\" xlink:href=\"#DejaVuSans-50\"/>\n       <use x=\"512.744141\" xlink:href=\"#DejaVuSans-48\"/>\n      </g>\n     </g>\n    </g>\n    <g id=\"xtick_60\">\n     <g id=\"line2d_60\">\n      <g>\n       <use style=\"stroke:#000000;stroke-width:0.8;\" x=\"180.836932\" xlink:href=\"#m726ff945f7\" y=\"235.238437\"/>\n      </g>\n     </g>\n     <g id=\"text_60\">\n      <!-- 03/21/2020 -->\n      <g transform=\"translate(152.018182 249.836875)scale(0.1 -0.1)\">\n       <use xlink:href=\"#DejaVuSans-48\"/>\n       <use x=\"63.623047\" xlink:href=\"#DejaVuSans-51\"/>\n       <use x=\"127.246094\" xlink:href=\"#DejaVuSans-47\"/>\n       <use x=\"160.9375\" xlink:href=\"#DejaVuSans-50\"/>\n       <use x=\"224.560547\" xlink:href=\"#DejaVuSans-49\"/>\n       <use x=\"288.183594\" xlink:href=\"#DejaVuSans-47\"/>\n       <use x=\"321.875\" xlink:href=\"#DejaVuSans-50\"/>\n       <use x=\"385.498047\" xlink:href=\"#DejaVuSans-48\"/>\n       <use x=\"449.121094\" xlink:href=\"#DejaVuSans-50\"/>\n       <use x=\"512.744141\" xlink:href=\"#DejaVuSans-48\"/>\n      </g>\n     </g>\n    </g>\n    <g id=\"xtick_61\">\n     <g id=\"line2d_61\">\n      <g>\n       <use style=\"stroke:#000000;stroke-width:0.8;\" x=\"183.291477\" xlink:href=\"#m726ff945f7\" y=\"235.238437\"/>\n      </g>\n     </g>\n     <g id=\"text_61\">\n      <!-- 03/22/2020 -->\n      <g transform=\"translate(154.472727 249.836875)scale(0.1 -0.1)\">\n       <use xlink:href=\"#DejaVuSans-48\"/>\n       <use x=\"63.623047\" xlink:href=\"#DejaVuSans-51\"/>\n       <use x=\"127.246094\" xlink:href=\"#DejaVuSans-47\"/>\n       <use x=\"160.9375\" xlink:href=\"#DejaVuSans-50\"/>\n       <use x=\"224.560547\" xlink:href=\"#DejaVuSans-50\"/>\n       <use x=\"288.183594\" xlink:href=\"#DejaVuSans-47\"/>\n       <use x=\"321.875\" xlink:href=\"#DejaVuSans-50\"/>\n       <use x=\"385.498047\" xlink:href=\"#DejaVuSans-48\"/>\n       <use x=\"449.121094\" xlink:href=\"#DejaVuSans-50\"/>\n       <use x=\"512.744141\" xlink:href=\"#DejaVuSans-48\"/>\n      </g>\n     </g>\n    </g>\n    <g id=\"xtick_62\">\n     <g id=\"line2d_62\">\n      <g>\n       <use style=\"stroke:#000000;stroke-width:0.8;\" x=\"185.746023\" xlink:href=\"#m726ff945f7\" y=\"235.238437\"/>\n      </g>\n     </g>\n     <g id=\"text_62\">\n      <!-- 03/23/2020 -->\n      <g transform=\"translate(156.927273 249.836875)scale(0.1 -0.1)\">\n       <use xlink:href=\"#DejaVuSans-48\"/>\n       <use x=\"63.623047\" xlink:href=\"#DejaVuSans-51\"/>\n       <use x=\"127.246094\" xlink:href=\"#DejaVuSans-47\"/>\n       <use x=\"160.9375\" xlink:href=\"#DejaVuSans-50\"/>\n       <use x=\"224.560547\" xlink:href=\"#DejaVuSans-51\"/>\n       <use x=\"288.183594\" xlink:href=\"#DejaVuSans-47\"/>\n       <use x=\"321.875\" xlink:href=\"#DejaVuSans-50\"/>\n       <use x=\"385.498047\" xlink:href=\"#DejaVuSans-48\"/>\n       <use x=\"449.121094\" xlink:href=\"#DejaVuSans-50\"/>\n       <use x=\"512.744141\" xlink:href=\"#DejaVuSans-48\"/>\n      </g>\n     </g>\n    </g>\n    <g id=\"xtick_63\">\n     <g id=\"line2d_63\">\n      <g>\n       <use style=\"stroke:#000000;stroke-width:0.8;\" x=\"188.200568\" xlink:href=\"#m726ff945f7\" y=\"235.238437\"/>\n      </g>\n     </g>\n     <g id=\"text_63\">\n      <!-- 03/24/2020 -->\n      <g transform=\"translate(159.381818 249.836875)scale(0.1 -0.1)\">\n       <use xlink:href=\"#DejaVuSans-48\"/>\n       <use x=\"63.623047\" xlink:href=\"#DejaVuSans-51\"/>\n       <use x=\"127.246094\" xlink:href=\"#DejaVuSans-47\"/>\n       <use x=\"160.9375\" xlink:href=\"#DejaVuSans-50\"/>\n       <use x=\"224.560547\" xlink:href=\"#DejaVuSans-52\"/>\n       <use x=\"288.183594\" xlink:href=\"#DejaVuSans-47\"/>\n       <use x=\"321.875\" xlink:href=\"#DejaVuSans-50\"/>\n       <use x=\"385.498047\" xlink:href=\"#DejaVuSans-48\"/>\n       <use x=\"449.121094\" xlink:href=\"#DejaVuSans-50\"/>\n       <use x=\"512.744141\" xlink:href=\"#DejaVuSans-48\"/>\n      </g>\n     </g>\n    </g>\n    <g id=\"xtick_64\">\n     <g id=\"line2d_64\">\n      <g>\n       <use style=\"stroke:#000000;stroke-width:0.8;\" x=\"190.655114\" xlink:href=\"#m726ff945f7\" y=\"235.238437\"/>\n      </g>\n     </g>\n     <g id=\"text_64\">\n      <!-- 03/25/2020 -->\n      <g transform=\"translate(161.836364 249.836875)scale(0.1 -0.1)\">\n       <use xlink:href=\"#DejaVuSans-48\"/>\n       <use x=\"63.623047\" xlink:href=\"#DejaVuSans-51\"/>\n       <use x=\"127.246094\" xlink:href=\"#DejaVuSans-47\"/>\n       <use x=\"160.9375\" xlink:href=\"#DejaVuSans-50\"/>\n       <use x=\"224.560547\" xlink:href=\"#DejaVuSans-53\"/>\n       <use x=\"288.183594\" xlink:href=\"#DejaVuSans-47\"/>\n       <use x=\"321.875\" xlink:href=\"#DejaVuSans-50\"/>\n       <use x=\"385.498047\" xlink:href=\"#DejaVuSans-48\"/>\n       <use x=\"449.121094\" xlink:href=\"#DejaVuSans-50\"/>\n       <use x=\"512.744141\" xlink:href=\"#DejaVuSans-48\"/>\n      </g>\n     </g>\n    </g>\n    <g id=\"xtick_65\">\n     <g id=\"line2d_65\">\n      <g>\n       <use style=\"stroke:#000000;stroke-width:0.8;\" x=\"193.109659\" xlink:href=\"#m726ff945f7\" y=\"235.238437\"/>\n      </g>\n     </g>\n     <g id=\"text_65\">\n      <!-- 03/26/2020 -->\n      <g transform=\"translate(164.290909 249.836875)scale(0.1 -0.1)\">\n       <use xlink:href=\"#DejaVuSans-48\"/>\n       <use x=\"63.623047\" xlink:href=\"#DejaVuSans-51\"/>\n       <use x=\"127.246094\" xlink:href=\"#DejaVuSans-47\"/>\n       <use x=\"160.9375\" xlink:href=\"#DejaVuSans-50\"/>\n       <use x=\"224.560547\" xlink:href=\"#DejaVuSans-54\"/>\n       <use x=\"288.183594\" xlink:href=\"#DejaVuSans-47\"/>\n       <use x=\"321.875\" xlink:href=\"#DejaVuSans-50\"/>\n       <use x=\"385.498047\" xlink:href=\"#DejaVuSans-48\"/>\n       <use x=\"449.121094\" xlink:href=\"#DejaVuSans-50\"/>\n       <use x=\"512.744141\" xlink:href=\"#DejaVuSans-48\"/>\n      </g>\n     </g>\n    </g>\n    <g id=\"xtick_66\">\n     <g id=\"line2d_66\">\n      <g>\n       <use style=\"stroke:#000000;stroke-width:0.8;\" x=\"195.564205\" xlink:href=\"#m726ff945f7\" y=\"235.238437\"/>\n      </g>\n     </g>\n     <g id=\"text_66\">\n      <!-- 03/27/2020 -->\n      <g transform=\"translate(166.745455 249.836875)scale(0.1 -0.1)\">\n       <use xlink:href=\"#DejaVuSans-48\"/>\n       <use x=\"63.623047\" xlink:href=\"#DejaVuSans-51\"/>\n       <use x=\"127.246094\" xlink:href=\"#DejaVuSans-47\"/>\n       <use x=\"160.9375\" xlink:href=\"#DejaVuSans-50\"/>\n       <use x=\"224.560547\" xlink:href=\"#DejaVuSans-55\"/>\n       <use x=\"288.183594\" xlink:href=\"#DejaVuSans-47\"/>\n       <use x=\"321.875\" xlink:href=\"#DejaVuSans-50\"/>\n       <use x=\"385.498047\" xlink:href=\"#DejaVuSans-48\"/>\n       <use x=\"449.121094\" xlink:href=\"#DejaVuSans-50\"/>\n       <use x=\"512.744141\" xlink:href=\"#DejaVuSans-48\"/>\n      </g>\n     </g>\n    </g>\n    <g id=\"xtick_67\">\n     <g id=\"line2d_67\">\n      <g>\n       <use style=\"stroke:#000000;stroke-width:0.8;\" x=\"198.01875\" xlink:href=\"#m726ff945f7\" y=\"235.238437\"/>\n      </g>\n     </g>\n     <g id=\"text_67\">\n      <!-- 03/28/2020 -->\n      <g transform=\"translate(169.2 249.836875)scale(0.1 -0.1)\">\n       <use xlink:href=\"#DejaVuSans-48\"/>\n       <use x=\"63.623047\" xlink:href=\"#DejaVuSans-51\"/>\n       <use x=\"127.246094\" xlink:href=\"#DejaVuSans-47\"/>\n       <use x=\"160.9375\" xlink:href=\"#DejaVuSans-50\"/>\n       <use x=\"224.560547\" xlink:href=\"#DejaVuSans-56\"/>\n       <use x=\"288.183594\" xlink:href=\"#DejaVuSans-47\"/>\n       <use x=\"321.875\" xlink:href=\"#DejaVuSans-50\"/>\n       <use x=\"385.498047\" xlink:href=\"#DejaVuSans-48\"/>\n       <use x=\"449.121094\" xlink:href=\"#DejaVuSans-50\"/>\n       <use x=\"512.744141\" xlink:href=\"#DejaVuSans-48\"/>\n      </g>\n     </g>\n    </g>\n    <g id=\"xtick_68\">\n     <g id=\"line2d_68\">\n      <g>\n       <use style=\"stroke:#000000;stroke-width:0.8;\" x=\"200.473295\" xlink:href=\"#m726ff945f7\" y=\"235.238437\"/>\n      </g>\n     </g>\n     <g id=\"text_68\">\n      <!-- 03/29/2020 -->\n      <g transform=\"translate(171.654545 249.836875)scale(0.1 -0.1)\">\n       <use xlink:href=\"#DejaVuSans-48\"/>\n       <use x=\"63.623047\" xlink:href=\"#DejaVuSans-51\"/>\n       <use x=\"127.246094\" xlink:href=\"#DejaVuSans-47\"/>\n       <use x=\"160.9375\" xlink:href=\"#DejaVuSans-50\"/>\n       <use x=\"224.560547\" xlink:href=\"#DejaVuSans-57\"/>\n       <use x=\"288.183594\" xlink:href=\"#DejaVuSans-47\"/>\n       <use x=\"321.875\" xlink:href=\"#DejaVuSans-50\"/>\n       <use x=\"385.498047\" xlink:href=\"#DejaVuSans-48\"/>\n       <use x=\"449.121094\" xlink:href=\"#DejaVuSans-50\"/>\n       <use x=\"512.744141\" xlink:href=\"#DejaVuSans-48\"/>\n      </g>\n     </g>\n    </g>\n    <g id=\"xtick_69\">\n     <g id=\"line2d_69\">\n      <g>\n       <use style=\"stroke:#000000;stroke-width:0.8;\" x=\"202.927841\" xlink:href=\"#m726ff945f7\" y=\"235.238437\"/>\n      </g>\n     </g>\n     <g id=\"text_69\">\n      <!-- 03/30/2020 -->\n      <g transform=\"translate(174.109091 249.836875)scale(0.1 -0.1)\">\n       <use xlink:href=\"#DejaVuSans-48\"/>\n       <use x=\"63.623047\" xlink:href=\"#DejaVuSans-51\"/>\n       <use x=\"127.246094\" xlink:href=\"#DejaVuSans-47\"/>\n       <use x=\"160.9375\" xlink:href=\"#DejaVuSans-51\"/>\n       <use x=\"224.560547\" xlink:href=\"#DejaVuSans-48\"/>\n       <use x=\"288.183594\" xlink:href=\"#DejaVuSans-47\"/>\n       <use x=\"321.875\" xlink:href=\"#DejaVuSans-50\"/>\n       <use x=\"385.498047\" xlink:href=\"#DejaVuSans-48\"/>\n       <use x=\"449.121094\" xlink:href=\"#DejaVuSans-50\"/>\n       <use x=\"512.744141\" xlink:href=\"#DejaVuSans-48\"/>\n      </g>\n     </g>\n    </g>\n    <g id=\"xtick_70\">\n     <g id=\"line2d_70\">\n      <g>\n       <use style=\"stroke:#000000;stroke-width:0.8;\" x=\"205.382386\" xlink:href=\"#m726ff945f7\" y=\"235.238437\"/>\n      </g>\n     </g>\n     <g id=\"text_70\">\n      <!-- 03/31/2020 -->\n      <g transform=\"translate(176.563636 249.836875)scale(0.1 -0.1)\">\n       <use xlink:href=\"#DejaVuSans-48\"/>\n       <use x=\"63.623047\" xlink:href=\"#DejaVuSans-51\"/>\n       <use x=\"127.246094\" xlink:href=\"#DejaVuSans-47\"/>\n       <use x=\"160.9375\" xlink:href=\"#DejaVuSans-51\"/>\n       <use x=\"224.560547\" xlink:href=\"#DejaVuSans-49\"/>\n       <use x=\"288.183594\" xlink:href=\"#DejaVuSans-47\"/>\n       <use x=\"321.875\" xlink:href=\"#DejaVuSans-50\"/>\n       <use x=\"385.498047\" xlink:href=\"#DejaVuSans-48\"/>\n       <use x=\"449.121094\" xlink:href=\"#DejaVuSans-50\"/>\n       <use x=\"512.744141\" xlink:href=\"#DejaVuSans-48\"/>\n      </g>\n     </g>\n    </g>\n    <g id=\"xtick_71\">\n     <g id=\"line2d_71\">\n      <g>\n       <use style=\"stroke:#000000;stroke-width:0.8;\" x=\"207.836932\" xlink:href=\"#m726ff945f7\" y=\"235.238437\"/>\n      </g>\n     </g>\n     <g id=\"text_71\">\n      <!-- 04/01/2020 -->\n      <g transform=\"translate(179.018182 249.836875)scale(0.1 -0.1)\">\n       <use xlink:href=\"#DejaVuSans-48\"/>\n       <use x=\"63.623047\" xlink:href=\"#DejaVuSans-52\"/>\n       <use x=\"127.246094\" xlink:href=\"#DejaVuSans-47\"/>\n       <use x=\"160.9375\" xlink:href=\"#DejaVuSans-48\"/>\n       <use x=\"224.560547\" xlink:href=\"#DejaVuSans-49\"/>\n       <use x=\"288.183594\" xlink:href=\"#DejaVuSans-47\"/>\n       <use x=\"321.875\" xlink:href=\"#DejaVuSans-50\"/>\n       <use x=\"385.498047\" xlink:href=\"#DejaVuSans-48\"/>\n       <use x=\"449.121094\" xlink:href=\"#DejaVuSans-50\"/>\n       <use x=\"512.744141\" xlink:href=\"#DejaVuSans-48\"/>\n      </g>\n     </g>\n    </g>\n    <g id=\"xtick_72\">\n     <g id=\"line2d_72\">\n      <g>\n       <use style=\"stroke:#000000;stroke-width:0.8;\" x=\"210.291477\" xlink:href=\"#m726ff945f7\" y=\"235.238437\"/>\n      </g>\n     </g>\n     <g id=\"text_72\">\n      <!-- 04/02/2020 -->\n      <g transform=\"translate(181.472727 249.836875)scale(0.1 -0.1)\">\n       <use xlink:href=\"#DejaVuSans-48\"/>\n       <use x=\"63.623047\" xlink:href=\"#DejaVuSans-52\"/>\n       <use x=\"127.246094\" xlink:href=\"#DejaVuSans-47\"/>\n       <use x=\"160.9375\" xlink:href=\"#DejaVuSans-48\"/>\n       <use x=\"224.560547\" xlink:href=\"#DejaVuSans-50\"/>\n       <use x=\"288.183594\" xlink:href=\"#DejaVuSans-47\"/>\n       <use x=\"321.875\" xlink:href=\"#DejaVuSans-50\"/>\n       <use x=\"385.498047\" xlink:href=\"#DejaVuSans-48\"/>\n       <use x=\"449.121094\" xlink:href=\"#DejaVuSans-50\"/>\n       <use x=\"512.744141\" xlink:href=\"#DejaVuSans-48\"/>\n      </g>\n     </g>\n    </g>\n    <g id=\"xtick_73\">\n     <g id=\"line2d_73\">\n      <g>\n       <use style=\"stroke:#000000;stroke-width:0.8;\" x=\"212.746023\" xlink:href=\"#m726ff945f7\" y=\"235.238437\"/>\n      </g>\n     </g>\n     <g id=\"text_73\">\n      <!-- 04/03/2020 -->\n      <g transform=\"translate(183.927273 249.836875)scale(0.1 -0.1)\">\n       <use xlink:href=\"#DejaVuSans-48\"/>\n       <use x=\"63.623047\" xlink:href=\"#DejaVuSans-52\"/>\n       <use x=\"127.246094\" xlink:href=\"#DejaVuSans-47\"/>\n       <use x=\"160.9375\" xlink:href=\"#DejaVuSans-48\"/>\n       <use x=\"224.560547\" xlink:href=\"#DejaVuSans-51\"/>\n       <use x=\"288.183594\" xlink:href=\"#DejaVuSans-47\"/>\n       <use x=\"321.875\" xlink:href=\"#DejaVuSans-50\"/>\n       <use x=\"385.498047\" xlink:href=\"#DejaVuSans-48\"/>\n       <use x=\"449.121094\" xlink:href=\"#DejaVuSans-50\"/>\n       <use x=\"512.744141\" xlink:href=\"#DejaVuSans-48\"/>\n      </g>\n     </g>\n    </g>\n    <g id=\"xtick_74\">\n     <g id=\"line2d_74\">\n      <g>\n       <use style=\"stroke:#000000;stroke-width:0.8;\" x=\"215.200568\" xlink:href=\"#m726ff945f7\" y=\"235.238437\"/>\n      </g>\n     </g>\n     <g id=\"text_74\">\n      <!-- 04/04/2020 -->\n      <g transform=\"translate(186.381818 249.836875)scale(0.1 -0.1)\">\n       <use xlink:href=\"#DejaVuSans-48\"/>\n       <use x=\"63.623047\" xlink:href=\"#DejaVuSans-52\"/>\n       <use x=\"127.246094\" xlink:href=\"#DejaVuSans-47\"/>\n       <use x=\"160.9375\" xlink:href=\"#DejaVuSans-48\"/>\n       <use x=\"224.560547\" xlink:href=\"#DejaVuSans-52\"/>\n       <use x=\"288.183594\" xlink:href=\"#DejaVuSans-47\"/>\n       <use x=\"321.875\" xlink:href=\"#DejaVuSans-50\"/>\n       <use x=\"385.498047\" xlink:href=\"#DejaVuSans-48\"/>\n       <use x=\"449.121094\" xlink:href=\"#DejaVuSans-50\"/>\n       <use x=\"512.744141\" xlink:href=\"#DejaVuSans-48\"/>\n      </g>\n     </g>\n    </g>\n    <g id=\"xtick_75\">\n     <g id=\"line2d_75\">\n      <g>\n       <use style=\"stroke:#000000;stroke-width:0.8;\" x=\"217.655114\" xlink:href=\"#m726ff945f7\" y=\"235.238437\"/>\n      </g>\n     </g>\n     <g id=\"text_75\">\n      <!-- 04/05/2020 -->\n      <g transform=\"translate(188.836364 249.836875)scale(0.1 -0.1)\">\n       <use xlink:href=\"#DejaVuSans-48\"/>\n       <use x=\"63.623047\" xlink:href=\"#DejaVuSans-52\"/>\n       <use x=\"127.246094\" xlink:href=\"#DejaVuSans-47\"/>\n       <use x=\"160.9375\" xlink:href=\"#DejaVuSans-48\"/>\n       <use x=\"224.560547\" xlink:href=\"#DejaVuSans-53\"/>\n       <use x=\"288.183594\" xlink:href=\"#DejaVuSans-47\"/>\n       <use x=\"321.875\" xlink:href=\"#DejaVuSans-50\"/>\n       <use x=\"385.498047\" xlink:href=\"#DejaVuSans-48\"/>\n       <use x=\"449.121094\" xlink:href=\"#DejaVuSans-50\"/>\n       <use x=\"512.744141\" xlink:href=\"#DejaVuSans-48\"/>\n      </g>\n     </g>\n    </g>\n    <g id=\"xtick_76\">\n     <g id=\"line2d_76\">\n      <g>\n       <use style=\"stroke:#000000;stroke-width:0.8;\" x=\"220.109659\" xlink:href=\"#m726ff945f7\" y=\"235.238437\"/>\n      </g>\n     </g>\n     <g id=\"text_76\">\n      <!-- 04/06/2020 -->\n      <g transform=\"translate(191.290909 249.836875)scale(0.1 -0.1)\">\n       <use xlink:href=\"#DejaVuSans-48\"/>\n       <use x=\"63.623047\" xlink:href=\"#DejaVuSans-52\"/>\n       <use x=\"127.246094\" xlink:href=\"#DejaVuSans-47\"/>\n       <use x=\"160.9375\" xlink:href=\"#DejaVuSans-48\"/>\n       <use x=\"224.560547\" xlink:href=\"#DejaVuSans-54\"/>\n       <use x=\"288.183594\" xlink:href=\"#DejaVuSans-47\"/>\n       <use x=\"321.875\" xlink:href=\"#DejaVuSans-50\"/>\n       <use x=\"385.498047\" xlink:href=\"#DejaVuSans-48\"/>\n       <use x=\"449.121094\" xlink:href=\"#DejaVuSans-50\"/>\n       <use x=\"512.744141\" xlink:href=\"#DejaVuSans-48\"/>\n      </g>\n     </g>\n    </g>\n    <g id=\"xtick_77\">\n     <g id=\"line2d_77\">\n      <g>\n       <use style=\"stroke:#000000;stroke-width:0.8;\" x=\"222.564205\" xlink:href=\"#m726ff945f7\" y=\"235.238437\"/>\n      </g>\n     </g>\n     <g id=\"text_77\">\n      <!-- 04/07/2020 -->\n      <g transform=\"translate(193.745455 249.836875)scale(0.1 -0.1)\">\n       <use xlink:href=\"#DejaVuSans-48\"/>\n       <use x=\"63.623047\" xlink:href=\"#DejaVuSans-52\"/>\n       <use x=\"127.246094\" xlink:href=\"#DejaVuSans-47\"/>\n       <use x=\"160.9375\" xlink:href=\"#DejaVuSans-48\"/>\n       <use x=\"224.560547\" xlink:href=\"#DejaVuSans-55\"/>\n       <use x=\"288.183594\" xlink:href=\"#DejaVuSans-47\"/>\n       <use x=\"321.875\" xlink:href=\"#DejaVuSans-50\"/>\n       <use x=\"385.498047\" xlink:href=\"#DejaVuSans-48\"/>\n       <use x=\"449.121094\" xlink:href=\"#DejaVuSans-50\"/>\n       <use x=\"512.744141\" xlink:href=\"#DejaVuSans-48\"/>\n      </g>\n     </g>\n    </g>\n    <g id=\"xtick_78\">\n     <g id=\"line2d_78\">\n      <g>\n       <use style=\"stroke:#000000;stroke-width:0.8;\" x=\"225.01875\" xlink:href=\"#m726ff945f7\" y=\"235.238437\"/>\n      </g>\n     </g>\n     <g id=\"text_78\">\n      <!-- 04/08/2020 -->\n      <g transform=\"translate(196.2 249.836875)scale(0.1 -0.1)\">\n       <use xlink:href=\"#DejaVuSans-48\"/>\n       <use x=\"63.623047\" xlink:href=\"#DejaVuSans-52\"/>\n       <use x=\"127.246094\" xlink:href=\"#DejaVuSans-47\"/>\n       <use x=\"160.9375\" xlink:href=\"#DejaVuSans-48\"/>\n       <use x=\"224.560547\" xlink:href=\"#DejaVuSans-56\"/>\n       <use x=\"288.183594\" xlink:href=\"#DejaVuSans-47\"/>\n       <use x=\"321.875\" xlink:href=\"#DejaVuSans-50\"/>\n       <use x=\"385.498047\" xlink:href=\"#DejaVuSans-48\"/>\n       <use x=\"449.121094\" xlink:href=\"#DejaVuSans-50\"/>\n       <use x=\"512.744141\" xlink:href=\"#DejaVuSans-48\"/>\n      </g>\n     </g>\n    </g>\n    <g id=\"xtick_79\">\n     <g id=\"line2d_79\">\n      <g>\n       <use style=\"stroke:#000000;stroke-width:0.8;\" x=\"227.473295\" xlink:href=\"#m726ff945f7\" y=\"235.238437\"/>\n      </g>\n     </g>\n     <g id=\"text_79\">\n      <!-- 04/09/2020 -->\n      <g transform=\"translate(198.654545 249.836875)scale(0.1 -0.1)\">\n       <use xlink:href=\"#DejaVuSans-48\"/>\n       <use x=\"63.623047\" xlink:href=\"#DejaVuSans-52\"/>\n       <use x=\"127.246094\" xlink:href=\"#DejaVuSans-47\"/>\n       <use x=\"160.9375\" xlink:href=\"#DejaVuSans-48\"/>\n       <use x=\"224.560547\" xlink:href=\"#DejaVuSans-57\"/>\n       <use x=\"288.183594\" xlink:href=\"#DejaVuSans-47\"/>\n       <use x=\"321.875\" xlink:href=\"#DejaVuSans-50\"/>\n       <use x=\"385.498047\" xlink:href=\"#DejaVuSans-48\"/>\n       <use x=\"449.121094\" xlink:href=\"#DejaVuSans-50\"/>\n       <use x=\"512.744141\" xlink:href=\"#DejaVuSans-48\"/>\n      </g>\n     </g>\n    </g>\n    <g id=\"xtick_80\">\n     <g id=\"line2d_80\">\n      <g>\n       <use style=\"stroke:#000000;stroke-width:0.8;\" x=\"229.927841\" xlink:href=\"#m726ff945f7\" y=\"235.238437\"/>\n      </g>\n     </g>\n     <g id=\"text_80\">\n      <!-- 04/10/2020 -->\n      <g transform=\"translate(201.109091 249.836875)scale(0.1 -0.1)\">\n       <use xlink:href=\"#DejaVuSans-48\"/>\n       <use x=\"63.623047\" xlink:href=\"#DejaVuSans-52\"/>\n       <use x=\"127.246094\" xlink:href=\"#DejaVuSans-47\"/>\n       <use x=\"160.9375\" xlink:href=\"#DejaVuSans-49\"/>\n       <use x=\"224.560547\" xlink:href=\"#DejaVuSans-48\"/>\n       <use x=\"288.183594\" xlink:href=\"#DejaVuSans-47\"/>\n       <use x=\"321.875\" xlink:href=\"#DejaVuSans-50\"/>\n       <use x=\"385.498047\" xlink:href=\"#DejaVuSans-48\"/>\n       <use x=\"449.121094\" xlink:href=\"#DejaVuSans-50\"/>\n       <use x=\"512.744141\" xlink:href=\"#DejaVuSans-48\"/>\n      </g>\n     </g>\n    </g>\n    <g id=\"xtick_81\">\n     <g id=\"line2d_81\">\n      <g>\n       <use style=\"stroke:#000000;stroke-width:0.8;\" x=\"232.382386\" xlink:href=\"#m726ff945f7\" y=\"235.238437\"/>\n      </g>\n     </g>\n     <g id=\"text_81\">\n      <!-- 04/11/2020 -->\n      <g transform=\"translate(203.563636 249.836875)scale(0.1 -0.1)\">\n       <use xlink:href=\"#DejaVuSans-48\"/>\n       <use x=\"63.623047\" xlink:href=\"#DejaVuSans-52\"/>\n       <use x=\"127.246094\" xlink:href=\"#DejaVuSans-47\"/>\n       <use x=\"160.9375\" xlink:href=\"#DejaVuSans-49\"/>\n       <use x=\"224.560547\" xlink:href=\"#DejaVuSans-49\"/>\n       <use x=\"288.183594\" xlink:href=\"#DejaVuSans-47\"/>\n       <use x=\"321.875\" xlink:href=\"#DejaVuSans-50\"/>\n       <use x=\"385.498047\" xlink:href=\"#DejaVuSans-48\"/>\n       <use x=\"449.121094\" xlink:href=\"#DejaVuSans-50\"/>\n       <use x=\"512.744141\" xlink:href=\"#DejaVuSans-48\"/>\n      </g>\n     </g>\n    </g>\n    <g id=\"xtick_82\">\n     <g id=\"line2d_82\">\n      <g>\n       <use style=\"stroke:#000000;stroke-width:0.8;\" x=\"234.836932\" xlink:href=\"#m726ff945f7\" y=\"235.238437\"/>\n      </g>\n     </g>\n     <g id=\"text_82\">\n      <!-- 04/12/2020 -->\n      <g transform=\"translate(206.018182 249.836875)scale(0.1 -0.1)\">\n       <use xlink:href=\"#DejaVuSans-48\"/>\n       <use x=\"63.623047\" xlink:href=\"#DejaVuSans-52\"/>\n       <use x=\"127.246094\" xlink:href=\"#DejaVuSans-47\"/>\n       <use x=\"160.9375\" xlink:href=\"#DejaVuSans-49\"/>\n       <use x=\"224.560547\" xlink:href=\"#DejaVuSans-50\"/>\n       <use x=\"288.183594\" xlink:href=\"#DejaVuSans-47\"/>\n       <use x=\"321.875\" xlink:href=\"#DejaVuSans-50\"/>\n       <use x=\"385.498047\" xlink:href=\"#DejaVuSans-48\"/>\n       <use x=\"449.121094\" xlink:href=\"#DejaVuSans-50\"/>\n       <use x=\"512.744141\" xlink:href=\"#DejaVuSans-48\"/>\n      </g>\n     </g>\n    </g>\n    <g id=\"xtick_83\">\n     <g id=\"line2d_83\">\n      <g>\n       <use style=\"stroke:#000000;stroke-width:0.8;\" x=\"237.291477\" xlink:href=\"#m726ff945f7\" y=\"235.238437\"/>\n      </g>\n     </g>\n     <g id=\"text_83\">\n      <!-- 04/13/2020 -->\n      <g transform=\"translate(208.472727 249.836875)scale(0.1 -0.1)\">\n       <use xlink:href=\"#DejaVuSans-48\"/>\n       <use x=\"63.623047\" xlink:href=\"#DejaVuSans-52\"/>\n       <use x=\"127.246094\" xlink:href=\"#DejaVuSans-47\"/>\n       <use x=\"160.9375\" xlink:href=\"#DejaVuSans-49\"/>\n       <use x=\"224.560547\" xlink:href=\"#DejaVuSans-51\"/>\n       <use x=\"288.183594\" xlink:href=\"#DejaVuSans-47\"/>\n       <use x=\"321.875\" xlink:href=\"#DejaVuSans-50\"/>\n       <use x=\"385.498047\" xlink:href=\"#DejaVuSans-48\"/>\n       <use x=\"449.121094\" xlink:href=\"#DejaVuSans-50\"/>\n       <use x=\"512.744141\" xlink:href=\"#DejaVuSans-48\"/>\n      </g>\n     </g>\n    </g>\n    <g id=\"xtick_84\">\n     <g id=\"line2d_84\">\n      <g>\n       <use style=\"stroke:#000000;stroke-width:0.8;\" x=\"239.746023\" xlink:href=\"#m726ff945f7\" y=\"235.238437\"/>\n      </g>\n     </g>\n     <g id=\"text_84\">\n      <!-- 04/14/2020 -->\n      <g transform=\"translate(210.927273 249.836875)scale(0.1 -0.1)\">\n       <use xlink:href=\"#DejaVuSans-48\"/>\n       <use x=\"63.623047\" xlink:href=\"#DejaVuSans-52\"/>\n       <use x=\"127.246094\" xlink:href=\"#DejaVuSans-47\"/>\n       <use x=\"160.9375\" xlink:href=\"#DejaVuSans-49\"/>\n       <use x=\"224.560547\" xlink:href=\"#DejaVuSans-52\"/>\n       <use x=\"288.183594\" xlink:href=\"#DejaVuSans-47\"/>\n       <use x=\"321.875\" xlink:href=\"#DejaVuSans-50\"/>\n       <use x=\"385.498047\" xlink:href=\"#DejaVuSans-48\"/>\n       <use x=\"449.121094\" xlink:href=\"#DejaVuSans-50\"/>\n       <use x=\"512.744141\" xlink:href=\"#DejaVuSans-48\"/>\n      </g>\n     </g>\n    </g>\n    <g id=\"xtick_85\">\n     <g id=\"line2d_85\">\n      <g>\n       <use style=\"stroke:#000000;stroke-width:0.8;\" x=\"242.200568\" xlink:href=\"#m726ff945f7\" y=\"235.238437\"/>\n      </g>\n     </g>\n     <g id=\"text_85\">\n      <!-- 04/15/2020 -->\n      <g transform=\"translate(213.381818 249.836875)scale(0.1 -0.1)\">\n       <use xlink:href=\"#DejaVuSans-48\"/>\n       <use x=\"63.623047\" xlink:href=\"#DejaVuSans-52\"/>\n       <use x=\"127.246094\" xlink:href=\"#DejaVuSans-47\"/>\n       <use x=\"160.9375\" xlink:href=\"#DejaVuSans-49\"/>\n       <use x=\"224.560547\" xlink:href=\"#DejaVuSans-53\"/>\n       <use x=\"288.183594\" xlink:href=\"#DejaVuSans-47\"/>\n       <use x=\"321.875\" xlink:href=\"#DejaVuSans-50\"/>\n       <use x=\"385.498047\" xlink:href=\"#DejaVuSans-48\"/>\n       <use x=\"449.121094\" xlink:href=\"#DejaVuSans-50\"/>\n       <use x=\"512.744141\" xlink:href=\"#DejaVuSans-48\"/>\n      </g>\n     </g>\n    </g>\n    <g id=\"xtick_86\">\n     <g id=\"line2d_86\">\n      <g>\n       <use style=\"stroke:#000000;stroke-width:0.8;\" x=\"244.655114\" xlink:href=\"#m726ff945f7\" y=\"235.238437\"/>\n      </g>\n     </g>\n     <g id=\"text_86\">\n      <!-- 04/16/2020 -->\n      <g transform=\"translate(215.836364 249.836875)scale(0.1 -0.1)\">\n       <use xlink:href=\"#DejaVuSans-48\"/>\n       <use x=\"63.623047\" xlink:href=\"#DejaVuSans-52\"/>\n       <use x=\"127.246094\" xlink:href=\"#DejaVuSans-47\"/>\n       <use x=\"160.9375\" xlink:href=\"#DejaVuSans-49\"/>\n       <use x=\"224.560547\" xlink:href=\"#DejaVuSans-54\"/>\n       <use x=\"288.183594\" xlink:href=\"#DejaVuSans-47\"/>\n       <use x=\"321.875\" xlink:href=\"#DejaVuSans-50\"/>\n       <use x=\"385.498047\" xlink:href=\"#DejaVuSans-48\"/>\n       <use x=\"449.121094\" xlink:href=\"#DejaVuSans-50\"/>\n       <use x=\"512.744141\" xlink:href=\"#DejaVuSans-48\"/>\n      </g>\n     </g>\n    </g>\n    <g id=\"xtick_87\">\n     <g id=\"line2d_87\">\n      <g>\n       <use style=\"stroke:#000000;stroke-width:0.8;\" x=\"247.109659\" xlink:href=\"#m726ff945f7\" y=\"235.238437\"/>\n      </g>\n     </g>\n     <g id=\"text_87\">\n      <!-- 04/17/2020 -->\n      <g transform=\"translate(218.290909 249.836875)scale(0.1 -0.1)\">\n       <use xlink:href=\"#DejaVuSans-48\"/>\n       <use x=\"63.623047\" xlink:href=\"#DejaVuSans-52\"/>\n       <use x=\"127.246094\" xlink:href=\"#DejaVuSans-47\"/>\n       <use x=\"160.9375\" xlink:href=\"#DejaVuSans-49\"/>\n       <use x=\"224.560547\" xlink:href=\"#DejaVuSans-55\"/>\n       <use x=\"288.183594\" xlink:href=\"#DejaVuSans-47\"/>\n       <use x=\"321.875\" xlink:href=\"#DejaVuSans-50\"/>\n       <use x=\"385.498047\" xlink:href=\"#DejaVuSans-48\"/>\n       <use x=\"449.121094\" xlink:href=\"#DejaVuSans-50\"/>\n       <use x=\"512.744141\" xlink:href=\"#DejaVuSans-48\"/>\n      </g>\n     </g>\n    </g>\n    <g id=\"xtick_88\">\n     <g id=\"line2d_88\">\n      <g>\n       <use style=\"stroke:#000000;stroke-width:0.8;\" x=\"249.564205\" xlink:href=\"#m726ff945f7\" y=\"235.238437\"/>\n      </g>\n     </g>\n     <g id=\"text_88\">\n      <!-- 04/18/2020 -->\n      <g transform=\"translate(220.745455 249.836875)scale(0.1 -0.1)\">\n       <use xlink:href=\"#DejaVuSans-48\"/>\n       <use x=\"63.623047\" xlink:href=\"#DejaVuSans-52\"/>\n       <use x=\"127.246094\" xlink:href=\"#DejaVuSans-47\"/>\n       <use x=\"160.9375\" xlink:href=\"#DejaVuSans-49\"/>\n       <use x=\"224.560547\" xlink:href=\"#DejaVuSans-56\"/>\n       <use x=\"288.183594\" xlink:href=\"#DejaVuSans-47\"/>\n       <use x=\"321.875\" xlink:href=\"#DejaVuSans-50\"/>\n       <use x=\"385.498047\" xlink:href=\"#DejaVuSans-48\"/>\n       <use x=\"449.121094\" xlink:href=\"#DejaVuSans-50\"/>\n       <use x=\"512.744141\" xlink:href=\"#DejaVuSans-48\"/>\n      </g>\n     </g>\n    </g>\n    <g id=\"xtick_89\">\n     <g id=\"line2d_89\">\n      <g>\n       <use style=\"stroke:#000000;stroke-width:0.8;\" x=\"252.01875\" xlink:href=\"#m726ff945f7\" y=\"235.238437\"/>\n      </g>\n     </g>\n     <g id=\"text_89\">\n      <!-- 04/19/2020 -->\n      <g transform=\"translate(223.2 249.836875)scale(0.1 -0.1)\">\n       <use xlink:href=\"#DejaVuSans-48\"/>\n       <use x=\"63.623047\" xlink:href=\"#DejaVuSans-52\"/>\n       <use x=\"127.246094\" xlink:href=\"#DejaVuSans-47\"/>\n       <use x=\"160.9375\" xlink:href=\"#DejaVuSans-49\"/>\n       <use x=\"224.560547\" xlink:href=\"#DejaVuSans-57\"/>\n       <use x=\"288.183594\" xlink:href=\"#DejaVuSans-47\"/>\n       <use x=\"321.875\" xlink:href=\"#DejaVuSans-50\"/>\n       <use x=\"385.498047\" xlink:href=\"#DejaVuSans-48\"/>\n       <use x=\"449.121094\" xlink:href=\"#DejaVuSans-50\"/>\n       <use x=\"512.744141\" xlink:href=\"#DejaVuSans-48\"/>\n      </g>\n     </g>\n    </g>\n    <g id=\"xtick_90\">\n     <g id=\"line2d_90\">\n      <g>\n       <use style=\"stroke:#000000;stroke-width:0.8;\" x=\"254.473295\" xlink:href=\"#m726ff945f7\" y=\"235.238437\"/>\n      </g>\n     </g>\n     <g id=\"text_90\">\n      <!-- 04/20/2020 -->\n      <g transform=\"translate(225.654545 249.836875)scale(0.1 -0.1)\">\n       <use xlink:href=\"#DejaVuSans-48\"/>\n       <use x=\"63.623047\" xlink:href=\"#DejaVuSans-52\"/>\n       <use x=\"127.246094\" xlink:href=\"#DejaVuSans-47\"/>\n       <use x=\"160.9375\" xlink:href=\"#DejaVuSans-50\"/>\n       <use x=\"224.560547\" xlink:href=\"#DejaVuSans-48\"/>\n       <use x=\"288.183594\" xlink:href=\"#DejaVuSans-47\"/>\n       <use x=\"321.875\" xlink:href=\"#DejaVuSans-50\"/>\n       <use x=\"385.498047\" xlink:href=\"#DejaVuSans-48\"/>\n       <use x=\"449.121094\" xlink:href=\"#DejaVuSans-50\"/>\n       <use x=\"512.744141\" xlink:href=\"#DejaVuSans-48\"/>\n      </g>\n     </g>\n    </g>\n    <g id=\"xtick_91\">\n     <g id=\"line2d_91\">\n      <g>\n       <use style=\"stroke:#000000;stroke-width:0.8;\" x=\"256.927841\" xlink:href=\"#m726ff945f7\" y=\"235.238437\"/>\n      </g>\n     </g>\n     <g id=\"text_91\">\n      <!-- 04/21/2020 -->\n      <g transform=\"translate(228.109091 249.836875)scale(0.1 -0.1)\">\n       <use xlink:href=\"#DejaVuSans-48\"/>\n       <use x=\"63.623047\" xlink:href=\"#DejaVuSans-52\"/>\n       <use x=\"127.246094\" xlink:href=\"#DejaVuSans-47\"/>\n       <use x=\"160.9375\" xlink:href=\"#DejaVuSans-50\"/>\n       <use x=\"224.560547\" xlink:href=\"#DejaVuSans-49\"/>\n       <use x=\"288.183594\" xlink:href=\"#DejaVuSans-47\"/>\n       <use x=\"321.875\" xlink:href=\"#DejaVuSans-50\"/>\n       <use x=\"385.498047\" xlink:href=\"#DejaVuSans-48\"/>\n       <use x=\"449.121094\" xlink:href=\"#DejaVuSans-50\"/>\n       <use x=\"512.744141\" xlink:href=\"#DejaVuSans-48\"/>\n      </g>\n     </g>\n    </g>\n    <g id=\"xtick_92\">\n     <g id=\"line2d_92\">\n      <g>\n       <use style=\"stroke:#000000;stroke-width:0.8;\" x=\"259.382386\" xlink:href=\"#m726ff945f7\" y=\"235.238437\"/>\n      </g>\n     </g>\n     <g id=\"text_92\">\n      <!-- 04/22/2020 -->\n      <g transform=\"translate(230.563636 249.836875)scale(0.1 -0.1)\">\n       <use xlink:href=\"#DejaVuSans-48\"/>\n       <use x=\"63.623047\" xlink:href=\"#DejaVuSans-52\"/>\n       <use x=\"127.246094\" xlink:href=\"#DejaVuSans-47\"/>\n       <use x=\"160.9375\" xlink:href=\"#DejaVuSans-50\"/>\n       <use x=\"224.560547\" xlink:href=\"#DejaVuSans-50\"/>\n       <use x=\"288.183594\" xlink:href=\"#DejaVuSans-47\"/>\n       <use x=\"321.875\" xlink:href=\"#DejaVuSans-50\"/>\n       <use x=\"385.498047\" xlink:href=\"#DejaVuSans-48\"/>\n       <use x=\"449.121094\" xlink:href=\"#DejaVuSans-50\"/>\n       <use x=\"512.744141\" xlink:href=\"#DejaVuSans-48\"/>\n      </g>\n     </g>\n    </g>\n    <g id=\"xtick_93\">\n     <g id=\"line2d_93\">\n      <g>\n       <use style=\"stroke:#000000;stroke-width:0.8;\" x=\"261.836932\" xlink:href=\"#m726ff945f7\" y=\"235.238437\"/>\n      </g>\n     </g>\n     <g id=\"text_93\">\n      <!-- 04/23/2020 -->\n      <g transform=\"translate(233.018182 249.836875)scale(0.1 -0.1)\">\n       <use xlink:href=\"#DejaVuSans-48\"/>\n       <use x=\"63.623047\" xlink:href=\"#DejaVuSans-52\"/>\n       <use x=\"127.246094\" xlink:href=\"#DejaVuSans-47\"/>\n       <use x=\"160.9375\" xlink:href=\"#DejaVuSans-50\"/>\n       <use x=\"224.560547\" xlink:href=\"#DejaVuSans-51\"/>\n       <use x=\"288.183594\" xlink:href=\"#DejaVuSans-47\"/>\n       <use x=\"321.875\" xlink:href=\"#DejaVuSans-50\"/>\n       <use x=\"385.498047\" xlink:href=\"#DejaVuSans-48\"/>\n       <use x=\"449.121094\" xlink:href=\"#DejaVuSans-50\"/>\n       <use x=\"512.744141\" xlink:href=\"#DejaVuSans-48\"/>\n      </g>\n     </g>\n    </g>\n    <g id=\"xtick_94\">\n     <g id=\"line2d_94\">\n      <g>\n       <use style=\"stroke:#000000;stroke-width:0.8;\" x=\"264.291477\" xlink:href=\"#m726ff945f7\" y=\"235.238437\"/>\n      </g>\n     </g>\n     <g id=\"text_94\">\n      <!-- 04/24/2020 -->\n      <g transform=\"translate(235.472727 249.836875)scale(0.1 -0.1)\">\n       <use xlink:href=\"#DejaVuSans-48\"/>\n       <use x=\"63.623047\" xlink:href=\"#DejaVuSans-52\"/>\n       <use x=\"127.246094\" xlink:href=\"#DejaVuSans-47\"/>\n       <use x=\"160.9375\" xlink:href=\"#DejaVuSans-50\"/>\n       <use x=\"224.560547\" xlink:href=\"#DejaVuSans-52\"/>\n       <use x=\"288.183594\" xlink:href=\"#DejaVuSans-47\"/>\n       <use x=\"321.875\" xlink:href=\"#DejaVuSans-50\"/>\n       <use x=\"385.498047\" xlink:href=\"#DejaVuSans-48\"/>\n       <use x=\"449.121094\" xlink:href=\"#DejaVuSans-50\"/>\n       <use x=\"512.744141\" xlink:href=\"#DejaVuSans-48\"/>\n      </g>\n     </g>\n    </g>\n    <g id=\"xtick_95\">\n     <g id=\"line2d_95\">\n      <g>\n       <use style=\"stroke:#000000;stroke-width:0.8;\" x=\"266.746023\" xlink:href=\"#m726ff945f7\" y=\"235.238437\"/>\n      </g>\n     </g>\n     <g id=\"text_95\">\n      <!-- 04/25/2020 -->\n      <g transform=\"translate(237.927273 249.836875)scale(0.1 -0.1)\">\n       <use xlink:href=\"#DejaVuSans-48\"/>\n       <use x=\"63.623047\" xlink:href=\"#DejaVuSans-52\"/>\n       <use x=\"127.246094\" xlink:href=\"#DejaVuSans-47\"/>\n       <use x=\"160.9375\" xlink:href=\"#DejaVuSans-50\"/>\n       <use x=\"224.560547\" xlink:href=\"#DejaVuSans-53\"/>\n       <use x=\"288.183594\" xlink:href=\"#DejaVuSans-47\"/>\n       <use x=\"321.875\" xlink:href=\"#DejaVuSans-50\"/>\n       <use x=\"385.498047\" xlink:href=\"#DejaVuSans-48\"/>\n       <use x=\"449.121094\" xlink:href=\"#DejaVuSans-50\"/>\n       <use x=\"512.744141\" xlink:href=\"#DejaVuSans-48\"/>\n      </g>\n     </g>\n    </g>\n    <g id=\"xtick_96\">\n     <g id=\"line2d_96\">\n      <g>\n       <use style=\"stroke:#000000;stroke-width:0.8;\" x=\"269.200568\" xlink:href=\"#m726ff945f7\" y=\"235.238437\"/>\n      </g>\n     </g>\n     <g id=\"text_96\">\n      <!-- 04/26/2020 -->\n      <g transform=\"translate(240.381818 249.836875)scale(0.1 -0.1)\">\n       <use xlink:href=\"#DejaVuSans-48\"/>\n       <use x=\"63.623047\" xlink:href=\"#DejaVuSans-52\"/>\n       <use x=\"127.246094\" xlink:href=\"#DejaVuSans-47\"/>\n       <use x=\"160.9375\" xlink:href=\"#DejaVuSans-50\"/>\n       <use x=\"224.560547\" xlink:href=\"#DejaVuSans-54\"/>\n       <use x=\"288.183594\" xlink:href=\"#DejaVuSans-47\"/>\n       <use x=\"321.875\" xlink:href=\"#DejaVuSans-50\"/>\n       <use x=\"385.498047\" xlink:href=\"#DejaVuSans-48\"/>\n       <use x=\"449.121094\" xlink:href=\"#DejaVuSans-50\"/>\n       <use x=\"512.744141\" xlink:href=\"#DejaVuSans-48\"/>\n      </g>\n     </g>\n    </g>\n    <g id=\"xtick_97\">\n     <g id=\"line2d_97\">\n      <g>\n       <use style=\"stroke:#000000;stroke-width:0.8;\" x=\"271.655114\" xlink:href=\"#m726ff945f7\" y=\"235.238437\"/>\n      </g>\n     </g>\n     <g id=\"text_97\">\n      <!-- 04/27/2020 -->\n      <g transform=\"translate(242.836364 249.836875)scale(0.1 -0.1)\">\n       <use xlink:href=\"#DejaVuSans-48\"/>\n       <use x=\"63.623047\" xlink:href=\"#DejaVuSans-52\"/>\n       <use x=\"127.246094\" xlink:href=\"#DejaVuSans-47\"/>\n       <use x=\"160.9375\" xlink:href=\"#DejaVuSans-50\"/>\n       <use x=\"224.560547\" xlink:href=\"#DejaVuSans-55\"/>\n       <use x=\"288.183594\" xlink:href=\"#DejaVuSans-47\"/>\n       <use x=\"321.875\" xlink:href=\"#DejaVuSans-50\"/>\n       <use x=\"385.498047\" xlink:href=\"#DejaVuSans-48\"/>\n       <use x=\"449.121094\" xlink:href=\"#DejaVuSans-50\"/>\n       <use x=\"512.744141\" xlink:href=\"#DejaVuSans-48\"/>\n      </g>\n     </g>\n    </g>\n    <g id=\"xtick_98\">\n     <g id=\"line2d_98\">\n      <g>\n       <use style=\"stroke:#000000;stroke-width:0.8;\" x=\"274.109659\" xlink:href=\"#m726ff945f7\" y=\"235.238437\"/>\n      </g>\n     </g>\n     <g id=\"text_98\">\n      <!-- 04/28/2020 -->\n      <g transform=\"translate(245.290909 249.836875)scale(0.1 -0.1)\">\n       <use xlink:href=\"#DejaVuSans-48\"/>\n       <use x=\"63.623047\" xlink:href=\"#DejaVuSans-52\"/>\n       <use x=\"127.246094\" xlink:href=\"#DejaVuSans-47\"/>\n       <use x=\"160.9375\" xlink:href=\"#DejaVuSans-50\"/>\n       <use x=\"224.560547\" xlink:href=\"#DejaVuSans-56\"/>\n       <use x=\"288.183594\" xlink:href=\"#DejaVuSans-47\"/>\n       <use x=\"321.875\" xlink:href=\"#DejaVuSans-50\"/>\n       <use x=\"385.498047\" xlink:href=\"#DejaVuSans-48\"/>\n       <use x=\"449.121094\" xlink:href=\"#DejaVuSans-50\"/>\n       <use x=\"512.744141\" xlink:href=\"#DejaVuSans-48\"/>\n      </g>\n     </g>\n    </g>\n    <g id=\"xtick_99\">\n     <g id=\"line2d_99\">\n      <g>\n       <use style=\"stroke:#000000;stroke-width:0.8;\" x=\"276.564205\" xlink:href=\"#m726ff945f7\" y=\"235.238437\"/>\n      </g>\n     </g>\n     <g id=\"text_99\">\n      <!-- 04/29/2020 -->\n      <g transform=\"translate(247.745455 249.836875)scale(0.1 -0.1)\">\n       <use xlink:href=\"#DejaVuSans-48\"/>\n       <use x=\"63.623047\" xlink:href=\"#DejaVuSans-52\"/>\n       <use x=\"127.246094\" xlink:href=\"#DejaVuSans-47\"/>\n       <use x=\"160.9375\" xlink:href=\"#DejaVuSans-50\"/>\n       <use x=\"224.560547\" xlink:href=\"#DejaVuSans-57\"/>\n       <use x=\"288.183594\" xlink:href=\"#DejaVuSans-47\"/>\n       <use x=\"321.875\" xlink:href=\"#DejaVuSans-50\"/>\n       <use x=\"385.498047\" xlink:href=\"#DejaVuSans-48\"/>\n       <use x=\"449.121094\" xlink:href=\"#DejaVuSans-50\"/>\n       <use x=\"512.744141\" xlink:href=\"#DejaVuSans-48\"/>\n      </g>\n     </g>\n    </g>\n    <g id=\"xtick_100\">\n     <g id=\"line2d_100\">\n      <g>\n       <use style=\"stroke:#000000;stroke-width:0.8;\" x=\"279.01875\" xlink:href=\"#m726ff945f7\" y=\"235.238437\"/>\n      </g>\n     </g>\n     <g id=\"text_100\">\n      <!-- 04/30/2020 -->\n      <g transform=\"translate(250.2 249.836875)scale(0.1 -0.1)\">\n       <use xlink:href=\"#DejaVuSans-48\"/>\n       <use x=\"63.623047\" xlink:href=\"#DejaVuSans-52\"/>\n       <use x=\"127.246094\" xlink:href=\"#DejaVuSans-47\"/>\n       <use x=\"160.9375\" xlink:href=\"#DejaVuSans-51\"/>\n       <use x=\"224.560547\" xlink:href=\"#DejaVuSans-48\"/>\n       <use x=\"288.183594\" xlink:href=\"#DejaVuSans-47\"/>\n       <use x=\"321.875\" xlink:href=\"#DejaVuSans-50\"/>\n       <use x=\"385.498047\" xlink:href=\"#DejaVuSans-48\"/>\n       <use x=\"449.121094\" xlink:href=\"#DejaVuSans-50\"/>\n       <use x=\"512.744141\" xlink:href=\"#DejaVuSans-48\"/>\n      </g>\n     </g>\n    </g>\n    <g id=\"xtick_101\">\n     <g id=\"line2d_101\">\n      <g>\n       <use style=\"stroke:#000000;stroke-width:0.8;\" x=\"281.473295\" xlink:href=\"#m726ff945f7\" y=\"235.238437\"/>\n      </g>\n     </g>\n     <g id=\"text_101\">\n      <!-- 05/01/2020 -->\n      <g transform=\"translate(252.654545 249.836875)scale(0.1 -0.1)\">\n       <use xlink:href=\"#DejaVuSans-48\"/>\n       <use x=\"63.623047\" xlink:href=\"#DejaVuSans-53\"/>\n       <use x=\"127.246094\" xlink:href=\"#DejaVuSans-47\"/>\n       <use x=\"160.9375\" xlink:href=\"#DejaVuSans-48\"/>\n       <use x=\"224.560547\" xlink:href=\"#DejaVuSans-49\"/>\n       <use x=\"288.183594\" xlink:href=\"#DejaVuSans-47\"/>\n       <use x=\"321.875\" xlink:href=\"#DejaVuSans-50\"/>\n       <use x=\"385.498047\" xlink:href=\"#DejaVuSans-48\"/>\n       <use x=\"449.121094\" xlink:href=\"#DejaVuSans-50\"/>\n       <use x=\"512.744141\" xlink:href=\"#DejaVuSans-48\"/>\n      </g>\n     </g>\n    </g>\n    <g id=\"xtick_102\">\n     <g id=\"line2d_102\">\n      <g>\n       <use style=\"stroke:#000000;stroke-width:0.8;\" x=\"283.927841\" xlink:href=\"#m726ff945f7\" y=\"235.238437\"/>\n      </g>\n     </g>\n     <g id=\"text_102\">\n      <!-- 05/02/2020 -->\n      <g transform=\"translate(255.109091 249.836875)scale(0.1 -0.1)\">\n       <use xlink:href=\"#DejaVuSans-48\"/>\n       <use x=\"63.623047\" xlink:href=\"#DejaVuSans-53\"/>\n       <use x=\"127.246094\" xlink:href=\"#DejaVuSans-47\"/>\n       <use x=\"160.9375\" xlink:href=\"#DejaVuSans-48\"/>\n       <use x=\"224.560547\" xlink:href=\"#DejaVuSans-50\"/>\n       <use x=\"288.183594\" xlink:href=\"#DejaVuSans-47\"/>\n       <use x=\"321.875\" xlink:href=\"#DejaVuSans-50\"/>\n       <use x=\"385.498047\" xlink:href=\"#DejaVuSans-48\"/>\n       <use x=\"449.121094\" xlink:href=\"#DejaVuSans-50\"/>\n       <use x=\"512.744141\" xlink:href=\"#DejaVuSans-48\"/>\n      </g>\n     </g>\n    </g>\n    <g id=\"xtick_103\">\n     <g id=\"line2d_103\">\n      <g>\n       <use style=\"stroke:#000000;stroke-width:0.8;\" x=\"286.382386\" xlink:href=\"#m726ff945f7\" y=\"235.238437\"/>\n      </g>\n     </g>\n     <g id=\"text_103\">\n      <!-- 05/03/2020 -->\n      <g transform=\"translate(257.563636 249.836875)scale(0.1 -0.1)\">\n       <use xlink:href=\"#DejaVuSans-48\"/>\n       <use x=\"63.623047\" xlink:href=\"#DejaVuSans-53\"/>\n       <use x=\"127.246094\" xlink:href=\"#DejaVuSans-47\"/>\n       <use x=\"160.9375\" xlink:href=\"#DejaVuSans-48\"/>\n       <use x=\"224.560547\" xlink:href=\"#DejaVuSans-51\"/>\n       <use x=\"288.183594\" xlink:href=\"#DejaVuSans-47\"/>\n       <use x=\"321.875\" xlink:href=\"#DejaVuSans-50\"/>\n       <use x=\"385.498047\" xlink:href=\"#DejaVuSans-48\"/>\n       <use x=\"449.121094\" xlink:href=\"#DejaVuSans-50\"/>\n       <use x=\"512.744141\" xlink:href=\"#DejaVuSans-48\"/>\n      </g>\n     </g>\n    </g>\n    <g id=\"xtick_104\">\n     <g id=\"line2d_104\">\n      <g>\n       <use style=\"stroke:#000000;stroke-width:0.8;\" x=\"288.836932\" xlink:href=\"#m726ff945f7\" y=\"235.238437\"/>\n      </g>\n     </g>\n     <g id=\"text_104\">\n      <!-- 05/04/2020 -->\n      <g transform=\"translate(260.018182 249.836875)scale(0.1 -0.1)\">\n       <use xlink:href=\"#DejaVuSans-48\"/>\n       <use x=\"63.623047\" xlink:href=\"#DejaVuSans-53\"/>\n       <use x=\"127.246094\" xlink:href=\"#DejaVuSans-47\"/>\n       <use x=\"160.9375\" xlink:href=\"#DejaVuSans-48\"/>\n       <use x=\"224.560547\" xlink:href=\"#DejaVuSans-52\"/>\n       <use x=\"288.183594\" xlink:href=\"#DejaVuSans-47\"/>\n       <use x=\"321.875\" xlink:href=\"#DejaVuSans-50\"/>\n       <use x=\"385.498047\" xlink:href=\"#DejaVuSans-48\"/>\n       <use x=\"449.121094\" xlink:href=\"#DejaVuSans-50\"/>\n       <use x=\"512.744141\" xlink:href=\"#DejaVuSans-48\"/>\n      </g>\n     </g>\n    </g>\n    <g id=\"xtick_105\">\n     <g id=\"line2d_105\">\n      <g>\n       <use style=\"stroke:#000000;stroke-width:0.8;\" x=\"291.291477\" xlink:href=\"#m726ff945f7\" y=\"235.238437\"/>\n      </g>\n     </g>\n     <g id=\"text_105\">\n      <!-- 05/05/2020 -->\n      <g transform=\"translate(262.472727 249.836875)scale(0.1 -0.1)\">\n       <use xlink:href=\"#DejaVuSans-48\"/>\n       <use x=\"63.623047\" xlink:href=\"#DejaVuSans-53\"/>\n       <use x=\"127.246094\" xlink:href=\"#DejaVuSans-47\"/>\n       <use x=\"160.9375\" xlink:href=\"#DejaVuSans-48\"/>\n       <use x=\"224.560547\" xlink:href=\"#DejaVuSans-53\"/>\n       <use x=\"288.183594\" xlink:href=\"#DejaVuSans-47\"/>\n       <use x=\"321.875\" xlink:href=\"#DejaVuSans-50\"/>\n       <use x=\"385.498047\" xlink:href=\"#DejaVuSans-48\"/>\n       <use x=\"449.121094\" xlink:href=\"#DejaVuSans-50\"/>\n       <use x=\"512.744141\" xlink:href=\"#DejaVuSans-48\"/>\n      </g>\n     </g>\n    </g>\n    <g id=\"xtick_106\">\n     <g id=\"line2d_106\">\n      <g>\n       <use style=\"stroke:#000000;stroke-width:0.8;\" x=\"293.746023\" xlink:href=\"#m726ff945f7\" y=\"235.238437\"/>\n      </g>\n     </g>\n     <g id=\"text_106\">\n      <!-- 05/06/2020 -->\n      <g transform=\"translate(264.927273 249.836875)scale(0.1 -0.1)\">\n       <use xlink:href=\"#DejaVuSans-48\"/>\n       <use x=\"63.623047\" xlink:href=\"#DejaVuSans-53\"/>\n       <use x=\"127.246094\" xlink:href=\"#DejaVuSans-47\"/>\n       <use x=\"160.9375\" xlink:href=\"#DejaVuSans-48\"/>\n       <use x=\"224.560547\" xlink:href=\"#DejaVuSans-54\"/>\n       <use x=\"288.183594\" xlink:href=\"#DejaVuSans-47\"/>\n       <use x=\"321.875\" xlink:href=\"#DejaVuSans-50\"/>\n       <use x=\"385.498047\" xlink:href=\"#DejaVuSans-48\"/>\n       <use x=\"449.121094\" xlink:href=\"#DejaVuSans-50\"/>\n       <use x=\"512.744141\" xlink:href=\"#DejaVuSans-48\"/>\n      </g>\n     </g>\n    </g>\n    <g id=\"xtick_107\">\n     <g id=\"line2d_107\">\n      <g>\n       <use style=\"stroke:#000000;stroke-width:0.8;\" x=\"296.200568\" xlink:href=\"#m726ff945f7\" y=\"235.238437\"/>\n      </g>\n     </g>\n     <g id=\"text_107\">\n      <!-- 05/07/2020 -->\n      <g transform=\"translate(267.381818 249.836875)scale(0.1 -0.1)\">\n       <use xlink:href=\"#DejaVuSans-48\"/>\n       <use x=\"63.623047\" xlink:href=\"#DejaVuSans-53\"/>\n       <use x=\"127.246094\" xlink:href=\"#DejaVuSans-47\"/>\n       <use x=\"160.9375\" xlink:href=\"#DejaVuSans-48\"/>\n       <use x=\"224.560547\" xlink:href=\"#DejaVuSans-55\"/>\n       <use x=\"288.183594\" xlink:href=\"#DejaVuSans-47\"/>\n       <use x=\"321.875\" xlink:href=\"#DejaVuSans-50\"/>\n       <use x=\"385.498047\" xlink:href=\"#DejaVuSans-48\"/>\n       <use x=\"449.121094\" xlink:href=\"#DejaVuSans-50\"/>\n       <use x=\"512.744141\" xlink:href=\"#DejaVuSans-48\"/>\n      </g>\n     </g>\n    </g>\n    <g id=\"xtick_108\">\n     <g id=\"line2d_108\">\n      <g>\n       <use style=\"stroke:#000000;stroke-width:0.8;\" x=\"298.655114\" xlink:href=\"#m726ff945f7\" y=\"235.238437\"/>\n      </g>\n     </g>\n     <g id=\"text_108\">\n      <!-- 05/08/2020 -->\n      <g transform=\"translate(269.836364 249.836875)scale(0.1 -0.1)\">\n       <use xlink:href=\"#DejaVuSans-48\"/>\n       <use x=\"63.623047\" xlink:href=\"#DejaVuSans-53\"/>\n       <use x=\"127.246094\" xlink:href=\"#DejaVuSans-47\"/>\n       <use x=\"160.9375\" xlink:href=\"#DejaVuSans-48\"/>\n       <use x=\"224.560547\" xlink:href=\"#DejaVuSans-56\"/>\n       <use x=\"288.183594\" xlink:href=\"#DejaVuSans-47\"/>\n       <use x=\"321.875\" xlink:href=\"#DejaVuSans-50\"/>\n       <use x=\"385.498047\" xlink:href=\"#DejaVuSans-48\"/>\n       <use x=\"449.121094\" xlink:href=\"#DejaVuSans-50\"/>\n       <use x=\"512.744141\" xlink:href=\"#DejaVuSans-48\"/>\n      </g>\n     </g>\n    </g>\n    <g id=\"xtick_109\">\n     <g id=\"line2d_109\">\n      <g>\n       <use style=\"stroke:#000000;stroke-width:0.8;\" x=\"301.109659\" xlink:href=\"#m726ff945f7\" y=\"235.238437\"/>\n      </g>\n     </g>\n     <g id=\"text_109\">\n      <!-- 05/09/2020 -->\n      <g transform=\"translate(272.290909 249.836875)scale(0.1 -0.1)\">\n       <use xlink:href=\"#DejaVuSans-48\"/>\n       <use x=\"63.623047\" xlink:href=\"#DejaVuSans-53\"/>\n       <use x=\"127.246094\" xlink:href=\"#DejaVuSans-47\"/>\n       <use x=\"160.9375\" xlink:href=\"#DejaVuSans-48\"/>\n       <use x=\"224.560547\" xlink:href=\"#DejaVuSans-57\"/>\n       <use x=\"288.183594\" xlink:href=\"#DejaVuSans-47\"/>\n       <use x=\"321.875\" xlink:href=\"#DejaVuSans-50\"/>\n       <use x=\"385.498047\" xlink:href=\"#DejaVuSans-48\"/>\n       <use x=\"449.121094\" xlink:href=\"#DejaVuSans-50\"/>\n       <use x=\"512.744141\" xlink:href=\"#DejaVuSans-48\"/>\n      </g>\n     </g>\n    </g>\n    <g id=\"xtick_110\">\n     <g id=\"line2d_110\">\n      <g>\n       <use style=\"stroke:#000000;stroke-width:0.8;\" x=\"303.564205\" xlink:href=\"#m726ff945f7\" y=\"235.238437\"/>\n      </g>\n     </g>\n     <g id=\"text_110\">\n      <!-- 05/10/2020 -->\n      <g transform=\"translate(274.745455 249.836875)scale(0.1 -0.1)\">\n       <use xlink:href=\"#DejaVuSans-48\"/>\n       <use x=\"63.623047\" xlink:href=\"#DejaVuSans-53\"/>\n       <use x=\"127.246094\" xlink:href=\"#DejaVuSans-47\"/>\n       <use x=\"160.9375\" xlink:href=\"#DejaVuSans-49\"/>\n       <use x=\"224.560547\" xlink:href=\"#DejaVuSans-48\"/>\n       <use x=\"288.183594\" xlink:href=\"#DejaVuSans-47\"/>\n       <use x=\"321.875\" xlink:href=\"#DejaVuSans-50\"/>\n       <use x=\"385.498047\" xlink:href=\"#DejaVuSans-48\"/>\n       <use x=\"449.121094\" xlink:href=\"#DejaVuSans-50\"/>\n       <use x=\"512.744141\" xlink:href=\"#DejaVuSans-48\"/>\n      </g>\n     </g>\n    </g>\n    <g id=\"xtick_111\">\n     <g id=\"line2d_111\">\n      <g>\n       <use style=\"stroke:#000000;stroke-width:0.8;\" x=\"306.01875\" xlink:href=\"#m726ff945f7\" y=\"235.238437\"/>\n      </g>\n     </g>\n     <g id=\"text_111\">\n      <!-- 05/11/2020 -->\n      <g transform=\"translate(277.2 249.836875)scale(0.1 -0.1)\">\n       <use xlink:href=\"#DejaVuSans-48\"/>\n       <use x=\"63.623047\" xlink:href=\"#DejaVuSans-53\"/>\n       <use x=\"127.246094\" xlink:href=\"#DejaVuSans-47\"/>\n       <use x=\"160.9375\" xlink:href=\"#DejaVuSans-49\"/>\n       <use x=\"224.560547\" xlink:href=\"#DejaVuSans-49\"/>\n       <use x=\"288.183594\" xlink:href=\"#DejaVuSans-47\"/>\n       <use x=\"321.875\" xlink:href=\"#DejaVuSans-50\"/>\n       <use x=\"385.498047\" xlink:href=\"#DejaVuSans-48\"/>\n       <use x=\"449.121094\" xlink:href=\"#DejaVuSans-50\"/>\n       <use x=\"512.744141\" xlink:href=\"#DejaVuSans-48\"/>\n      </g>\n     </g>\n    </g>\n    <g id=\"xtick_112\">\n     <g id=\"line2d_112\">\n      <g>\n       <use style=\"stroke:#000000;stroke-width:0.8;\" x=\"308.473295\" xlink:href=\"#m726ff945f7\" y=\"235.238437\"/>\n      </g>\n     </g>\n     <g id=\"text_112\">\n      <!-- 05/12/2020 -->\n      <g transform=\"translate(279.654545 249.836875)scale(0.1 -0.1)\">\n       <use xlink:href=\"#DejaVuSans-48\"/>\n       <use x=\"63.623047\" xlink:href=\"#DejaVuSans-53\"/>\n       <use x=\"127.246094\" xlink:href=\"#DejaVuSans-47\"/>\n       <use x=\"160.9375\" xlink:href=\"#DejaVuSans-49\"/>\n       <use x=\"224.560547\" xlink:href=\"#DejaVuSans-50\"/>\n       <use x=\"288.183594\" xlink:href=\"#DejaVuSans-47\"/>\n       <use x=\"321.875\" xlink:href=\"#DejaVuSans-50\"/>\n       <use x=\"385.498047\" xlink:href=\"#DejaVuSans-48\"/>\n       <use x=\"449.121094\" xlink:href=\"#DejaVuSans-50\"/>\n       <use x=\"512.744141\" xlink:href=\"#DejaVuSans-48\"/>\n      </g>\n     </g>\n    </g>\n    <g id=\"xtick_113\">\n     <g id=\"line2d_113\">\n      <g>\n       <use style=\"stroke:#000000;stroke-width:0.8;\" x=\"310.927841\" xlink:href=\"#m726ff945f7\" y=\"235.238437\"/>\n      </g>\n     </g>\n     <g id=\"text_113\">\n      <!-- 05/13/2020 -->\n      <g transform=\"translate(282.109091 249.836875)scale(0.1 -0.1)\">\n       <use xlink:href=\"#DejaVuSans-48\"/>\n       <use x=\"63.623047\" xlink:href=\"#DejaVuSans-53\"/>\n       <use x=\"127.246094\" xlink:href=\"#DejaVuSans-47\"/>\n       <use x=\"160.9375\" xlink:href=\"#DejaVuSans-49\"/>\n       <use x=\"224.560547\" xlink:href=\"#DejaVuSans-51\"/>\n       <use x=\"288.183594\" xlink:href=\"#DejaVuSans-47\"/>\n       <use x=\"321.875\" xlink:href=\"#DejaVuSans-50\"/>\n       <use x=\"385.498047\" xlink:href=\"#DejaVuSans-48\"/>\n       <use x=\"449.121094\" xlink:href=\"#DejaVuSans-50\"/>\n       <use x=\"512.744141\" xlink:href=\"#DejaVuSans-48\"/>\n      </g>\n     </g>\n    </g>\n    <g id=\"xtick_114\">\n     <g id=\"line2d_114\">\n      <g>\n       <use style=\"stroke:#000000;stroke-width:0.8;\" x=\"313.382386\" xlink:href=\"#m726ff945f7\" y=\"235.238437\"/>\n      </g>\n     </g>\n     <g id=\"text_114\">\n      <!-- 05/14/2020 -->\n      <g transform=\"translate(284.563636 249.836875)scale(0.1 -0.1)\">\n       <use xlink:href=\"#DejaVuSans-48\"/>\n       <use x=\"63.623047\" xlink:href=\"#DejaVuSans-53\"/>\n       <use x=\"127.246094\" xlink:href=\"#DejaVuSans-47\"/>\n       <use x=\"160.9375\" xlink:href=\"#DejaVuSans-49\"/>\n       <use x=\"224.560547\" xlink:href=\"#DejaVuSans-52\"/>\n       <use x=\"288.183594\" xlink:href=\"#DejaVuSans-47\"/>\n       <use x=\"321.875\" xlink:href=\"#DejaVuSans-50\"/>\n       <use x=\"385.498047\" xlink:href=\"#DejaVuSans-48\"/>\n       <use x=\"449.121094\" xlink:href=\"#DejaVuSans-50\"/>\n       <use x=\"512.744141\" xlink:href=\"#DejaVuSans-48\"/>\n      </g>\n     </g>\n    </g>\n    <g id=\"xtick_115\">\n     <g id=\"line2d_115\">\n      <g>\n       <use style=\"stroke:#000000;stroke-width:0.8;\" x=\"315.836932\" xlink:href=\"#m726ff945f7\" y=\"235.238437\"/>\n      </g>\n     </g>\n     <g id=\"text_115\">\n      <!-- 05/15/2020 -->\n      <g transform=\"translate(287.018182 249.836875)scale(0.1 -0.1)\">\n       <use xlink:href=\"#DejaVuSans-48\"/>\n       <use x=\"63.623047\" xlink:href=\"#DejaVuSans-53\"/>\n       <use x=\"127.246094\" xlink:href=\"#DejaVuSans-47\"/>\n       <use x=\"160.9375\" xlink:href=\"#DejaVuSans-49\"/>\n       <use x=\"224.560547\" xlink:href=\"#DejaVuSans-53\"/>\n       <use x=\"288.183594\" xlink:href=\"#DejaVuSans-47\"/>\n       <use x=\"321.875\" xlink:href=\"#DejaVuSans-50\"/>\n       <use x=\"385.498047\" xlink:href=\"#DejaVuSans-48\"/>\n       <use x=\"449.121094\" xlink:href=\"#DejaVuSans-50\"/>\n       <use x=\"512.744141\" xlink:href=\"#DejaVuSans-48\"/>\n      </g>\n     </g>\n    </g>\n    <g id=\"xtick_116\">\n     <g id=\"line2d_116\">\n      <g>\n       <use style=\"stroke:#000000;stroke-width:0.8;\" x=\"318.291477\" xlink:href=\"#m726ff945f7\" y=\"235.238437\"/>\n      </g>\n     </g>\n     <g id=\"text_116\">\n      <!-- 05/16/2020 -->\n      <g transform=\"translate(289.472727 249.836875)scale(0.1 -0.1)\">\n       <use xlink:href=\"#DejaVuSans-48\"/>\n       <use x=\"63.623047\" xlink:href=\"#DejaVuSans-53\"/>\n       <use x=\"127.246094\" xlink:href=\"#DejaVuSans-47\"/>\n       <use x=\"160.9375\" xlink:href=\"#DejaVuSans-49\"/>\n       <use x=\"224.560547\" xlink:href=\"#DejaVuSans-54\"/>\n       <use x=\"288.183594\" xlink:href=\"#DejaVuSans-47\"/>\n       <use x=\"321.875\" xlink:href=\"#DejaVuSans-50\"/>\n       <use x=\"385.498047\" xlink:href=\"#DejaVuSans-48\"/>\n       <use x=\"449.121094\" xlink:href=\"#DejaVuSans-50\"/>\n       <use x=\"512.744141\" xlink:href=\"#DejaVuSans-48\"/>\n      </g>\n     </g>\n    </g>\n    <g id=\"xtick_117\">\n     <g id=\"line2d_117\">\n      <g>\n       <use style=\"stroke:#000000;stroke-width:0.8;\" x=\"320.746023\" xlink:href=\"#m726ff945f7\" y=\"235.238437\"/>\n      </g>\n     </g>\n     <g id=\"text_117\">\n      <!-- 05/17/2020 -->\n      <g transform=\"translate(291.927273 249.836875)scale(0.1 -0.1)\">\n       <use xlink:href=\"#DejaVuSans-48\"/>\n       <use x=\"63.623047\" xlink:href=\"#DejaVuSans-53\"/>\n       <use x=\"127.246094\" xlink:href=\"#DejaVuSans-47\"/>\n       <use x=\"160.9375\" xlink:href=\"#DejaVuSans-49\"/>\n       <use x=\"224.560547\" xlink:href=\"#DejaVuSans-55\"/>\n       <use x=\"288.183594\" xlink:href=\"#DejaVuSans-47\"/>\n       <use x=\"321.875\" xlink:href=\"#DejaVuSans-50\"/>\n       <use x=\"385.498047\" xlink:href=\"#DejaVuSans-48\"/>\n       <use x=\"449.121094\" xlink:href=\"#DejaVuSans-50\"/>\n       <use x=\"512.744141\" xlink:href=\"#DejaVuSans-48\"/>\n      </g>\n     </g>\n    </g>\n    <g id=\"xtick_118\">\n     <g id=\"line2d_118\">\n      <g>\n       <use style=\"stroke:#000000;stroke-width:0.8;\" x=\"323.200568\" xlink:href=\"#m726ff945f7\" y=\"235.238437\"/>\n      </g>\n     </g>\n     <g id=\"text_118\">\n      <!-- 05/18/2020 -->\n      <g transform=\"translate(294.381818 249.836875)scale(0.1 -0.1)\">\n       <use xlink:href=\"#DejaVuSans-48\"/>\n       <use x=\"63.623047\" xlink:href=\"#DejaVuSans-53\"/>\n       <use x=\"127.246094\" xlink:href=\"#DejaVuSans-47\"/>\n       <use x=\"160.9375\" xlink:href=\"#DejaVuSans-49\"/>\n       <use x=\"224.560547\" xlink:href=\"#DejaVuSans-56\"/>\n       <use x=\"288.183594\" xlink:href=\"#DejaVuSans-47\"/>\n       <use x=\"321.875\" xlink:href=\"#DejaVuSans-50\"/>\n       <use x=\"385.498047\" xlink:href=\"#DejaVuSans-48\"/>\n       <use x=\"449.121094\" xlink:href=\"#DejaVuSans-50\"/>\n       <use x=\"512.744141\" xlink:href=\"#DejaVuSans-48\"/>\n      </g>\n     </g>\n    </g>\n    <g id=\"xtick_119\">\n     <g id=\"line2d_119\">\n      <g>\n       <use style=\"stroke:#000000;stroke-width:0.8;\" x=\"325.655114\" xlink:href=\"#m726ff945f7\" y=\"235.238437\"/>\n      </g>\n     </g>\n     <g id=\"text_119\">\n      <!-- 05/19/2020 -->\n      <g transform=\"translate(296.836364 249.836875)scale(0.1 -0.1)\">\n       <use xlink:href=\"#DejaVuSans-48\"/>\n       <use x=\"63.623047\" xlink:href=\"#DejaVuSans-53\"/>\n       <use x=\"127.246094\" xlink:href=\"#DejaVuSans-47\"/>\n       <use x=\"160.9375\" xlink:href=\"#DejaVuSans-49\"/>\n       <use x=\"224.560547\" xlink:href=\"#DejaVuSans-57\"/>\n       <use x=\"288.183594\" xlink:href=\"#DejaVuSans-47\"/>\n       <use x=\"321.875\" xlink:href=\"#DejaVuSans-50\"/>\n       <use x=\"385.498047\" xlink:href=\"#DejaVuSans-48\"/>\n       <use x=\"449.121094\" xlink:href=\"#DejaVuSans-50\"/>\n       <use x=\"512.744141\" xlink:href=\"#DejaVuSans-48\"/>\n      </g>\n     </g>\n    </g>\n    <g id=\"xtick_120\">\n     <g id=\"line2d_120\">\n      <g>\n       <use style=\"stroke:#000000;stroke-width:0.8;\" x=\"328.109659\" xlink:href=\"#m726ff945f7\" y=\"235.238437\"/>\n      </g>\n     </g>\n     <g id=\"text_120\">\n      <!-- 05/20/2020 -->\n      <g transform=\"translate(299.290909 249.836875)scale(0.1 -0.1)\">\n       <use xlink:href=\"#DejaVuSans-48\"/>\n       <use x=\"63.623047\" xlink:href=\"#DejaVuSans-53\"/>\n       <use x=\"127.246094\" xlink:href=\"#DejaVuSans-47\"/>\n       <use x=\"160.9375\" xlink:href=\"#DejaVuSans-50\"/>\n       <use x=\"224.560547\" xlink:href=\"#DejaVuSans-48\"/>\n       <use x=\"288.183594\" xlink:href=\"#DejaVuSans-47\"/>\n       <use x=\"321.875\" xlink:href=\"#DejaVuSans-50\"/>\n       <use x=\"385.498047\" xlink:href=\"#DejaVuSans-48\"/>\n       <use x=\"449.121094\" xlink:href=\"#DejaVuSans-50\"/>\n       <use x=\"512.744141\" xlink:href=\"#DejaVuSans-48\"/>\n      </g>\n     </g>\n    </g>\n    <g id=\"xtick_121\">\n     <g id=\"line2d_121\">\n      <g>\n       <use style=\"stroke:#000000;stroke-width:0.8;\" x=\"330.564205\" xlink:href=\"#m726ff945f7\" y=\"235.238437\"/>\n      </g>\n     </g>\n     <g id=\"text_121\">\n      <!-- 05/21/2020 -->\n      <g transform=\"translate(301.745455 249.836875)scale(0.1 -0.1)\">\n       <use xlink:href=\"#DejaVuSans-48\"/>\n       <use x=\"63.623047\" xlink:href=\"#DejaVuSans-53\"/>\n       <use x=\"127.246094\" xlink:href=\"#DejaVuSans-47\"/>\n       <use x=\"160.9375\" xlink:href=\"#DejaVuSans-50\"/>\n       <use x=\"224.560547\" xlink:href=\"#DejaVuSans-49\"/>\n       <use x=\"288.183594\" xlink:href=\"#DejaVuSans-47\"/>\n       <use x=\"321.875\" xlink:href=\"#DejaVuSans-50\"/>\n       <use x=\"385.498047\" xlink:href=\"#DejaVuSans-48\"/>\n       <use x=\"449.121094\" xlink:href=\"#DejaVuSans-50\"/>\n       <use x=\"512.744141\" xlink:href=\"#DejaVuSans-48\"/>\n      </g>\n     </g>\n    </g>\n    <g id=\"xtick_122\">\n     <g id=\"line2d_122\">\n      <g>\n       <use style=\"stroke:#000000;stroke-width:0.8;\" x=\"333.01875\" xlink:href=\"#m726ff945f7\" y=\"235.238437\"/>\n      </g>\n     </g>\n     <g id=\"text_122\">\n      <!-- 05/22/2020 -->\n      <g transform=\"translate(304.2 249.836875)scale(0.1 -0.1)\">\n       <use xlink:href=\"#DejaVuSans-48\"/>\n       <use x=\"63.623047\" xlink:href=\"#DejaVuSans-53\"/>\n       <use x=\"127.246094\" xlink:href=\"#DejaVuSans-47\"/>\n       <use x=\"160.9375\" xlink:href=\"#DejaVuSans-50\"/>\n       <use x=\"224.560547\" xlink:href=\"#DejaVuSans-50\"/>\n       <use x=\"288.183594\" xlink:href=\"#DejaVuSans-47\"/>\n       <use x=\"321.875\" xlink:href=\"#DejaVuSans-50\"/>\n       <use x=\"385.498047\" xlink:href=\"#DejaVuSans-48\"/>\n       <use x=\"449.121094\" xlink:href=\"#DejaVuSans-50\"/>\n       <use x=\"512.744141\" xlink:href=\"#DejaVuSans-48\"/>\n      </g>\n     </g>\n    </g>\n    <g id=\"xtick_123\">\n     <g id=\"line2d_123\">\n      <g>\n       <use style=\"stroke:#000000;stroke-width:0.8;\" x=\"335.473295\" xlink:href=\"#m726ff945f7\" y=\"235.238437\"/>\n      </g>\n     </g>\n     <g id=\"text_123\">\n      <!-- 05/23/2020 -->\n      <g transform=\"translate(306.654545 249.836875)scale(0.1 -0.1)\">\n       <use xlink:href=\"#DejaVuSans-48\"/>\n       <use x=\"63.623047\" xlink:href=\"#DejaVuSans-53\"/>\n       <use x=\"127.246094\" xlink:href=\"#DejaVuSans-47\"/>\n       <use x=\"160.9375\" xlink:href=\"#DejaVuSans-50\"/>\n       <use x=\"224.560547\" xlink:href=\"#DejaVuSans-51\"/>\n       <use x=\"288.183594\" xlink:href=\"#DejaVuSans-47\"/>\n       <use x=\"321.875\" xlink:href=\"#DejaVuSans-50\"/>\n       <use x=\"385.498047\" xlink:href=\"#DejaVuSans-48\"/>\n       <use x=\"449.121094\" xlink:href=\"#DejaVuSans-50\"/>\n       <use x=\"512.744141\" xlink:href=\"#DejaVuSans-48\"/>\n      </g>\n     </g>\n    </g>\n    <g id=\"xtick_124\">\n     <g id=\"line2d_124\">\n      <g>\n       <use style=\"stroke:#000000;stroke-width:0.8;\" x=\"337.927841\" xlink:href=\"#m726ff945f7\" y=\"235.238437\"/>\n      </g>\n     </g>\n     <g id=\"text_124\">\n      <!-- 05/24/2020 -->\n      <g transform=\"translate(309.109091 249.836875)scale(0.1 -0.1)\">\n       <use xlink:href=\"#DejaVuSans-48\"/>\n       <use x=\"63.623047\" xlink:href=\"#DejaVuSans-53\"/>\n       <use x=\"127.246094\" xlink:href=\"#DejaVuSans-47\"/>\n       <use x=\"160.9375\" xlink:href=\"#DejaVuSans-50\"/>\n       <use x=\"224.560547\" xlink:href=\"#DejaVuSans-52\"/>\n       <use x=\"288.183594\" xlink:href=\"#DejaVuSans-47\"/>\n       <use x=\"321.875\" xlink:href=\"#DejaVuSans-50\"/>\n       <use x=\"385.498047\" xlink:href=\"#DejaVuSans-48\"/>\n       <use x=\"449.121094\" xlink:href=\"#DejaVuSans-50\"/>\n       <use x=\"512.744141\" xlink:href=\"#DejaVuSans-48\"/>\n      </g>\n     </g>\n    </g>\n    <g id=\"xtick_125\">\n     <g id=\"line2d_125\">\n      <g>\n       <use style=\"stroke:#000000;stroke-width:0.8;\" x=\"340.382386\" xlink:href=\"#m726ff945f7\" y=\"235.238437\"/>\n      </g>\n     </g>\n     <g id=\"text_125\">\n      <!-- 05/25/2020 -->\n      <g transform=\"translate(311.563636 249.836875)scale(0.1 -0.1)\">\n       <use xlink:href=\"#DejaVuSans-48\"/>\n       <use x=\"63.623047\" xlink:href=\"#DejaVuSans-53\"/>\n       <use x=\"127.246094\" xlink:href=\"#DejaVuSans-47\"/>\n       <use x=\"160.9375\" xlink:href=\"#DejaVuSans-50\"/>\n       <use x=\"224.560547\" xlink:href=\"#DejaVuSans-53\"/>\n       <use x=\"288.183594\" xlink:href=\"#DejaVuSans-47\"/>\n       <use x=\"321.875\" xlink:href=\"#DejaVuSans-50\"/>\n       <use x=\"385.498047\" xlink:href=\"#DejaVuSans-48\"/>\n       <use x=\"449.121094\" xlink:href=\"#DejaVuSans-50\"/>\n       <use x=\"512.744141\" xlink:href=\"#DejaVuSans-48\"/>\n      </g>\n     </g>\n    </g>\n   </g>\n   <g id=\"matplotlib.axis_2\">\n    <g id=\"ytick_1\">\n     <g id=\"line2d_126\">\n      <defs>\n       <path d=\"M 0 0 \nL -3.5 0 \n\" id=\"mb2985cc800\" style=\"stroke:#000000;stroke-width:0.8;\"/>\n      </defs>\n      <g>\n       <use style=\"stroke:#000000;stroke-width:0.8;\" x=\"20.800568\" xlink:href=\"#mb2985cc800\" y=\"235.238437\"/>\n      </g>\n     </g>\n     <g id=\"text_126\">\n      <!-- 0 -->\n      <g transform=\"translate(7.438068 239.037656)scale(0.1 -0.1)\">\n       <use xlink:href=\"#DejaVuSans-48\"/>\n      </g>\n     </g>\n    </g>\n    <g id=\"ytick_2\">\n     <g id=\"line2d_127\">\n      <g>\n       <use style=\"stroke:#000000;stroke-width:0.8;\" x=\"20.800568\" xlink:href=\"#mb2985cc800\" y=\"209.586893\"/>\n      </g>\n     </g>\n     <g id=\"text_127\">\n      <!-- 1 -->\n      <g transform=\"translate(7.438068 213.386112)scale(0.1 -0.1)\">\n       <use xlink:href=\"#DejaVuSans-49\"/>\n      </g>\n     </g>\n    </g>\n    <g id=\"ytick_3\">\n     <g id=\"line2d_128\">\n      <g>\n       <use style=\"stroke:#000000;stroke-width:0.8;\" x=\"20.800568\" xlink:href=\"#mb2985cc800\" y=\"183.935348\"/>\n      </g>\n     </g>\n     <g id=\"text_128\">\n      <!-- 2 -->\n      <g transform=\"translate(7.438068 187.734567)scale(0.1 -0.1)\">\n       <use xlink:href=\"#DejaVuSans-50\"/>\n      </g>\n     </g>\n    </g>\n    <g id=\"ytick_4\">\n     <g id=\"line2d_129\">\n      <g>\n       <use style=\"stroke:#000000;stroke-width:0.8;\" x=\"20.800568\" xlink:href=\"#mb2985cc800\" y=\"158.283804\"/>\n      </g>\n     </g>\n     <g id=\"text_129\">\n      <!-- 3 -->\n      <g transform=\"translate(7.438068 162.083023)scale(0.1 -0.1)\">\n       <use xlink:href=\"#DejaVuSans-51\"/>\n      </g>\n     </g>\n    </g>\n    <g id=\"ytick_5\">\n     <g id=\"line2d_130\">\n      <g>\n       <use style=\"stroke:#000000;stroke-width:0.8;\" x=\"20.800568\" xlink:href=\"#mb2985cc800\" y=\"132.632259\"/>\n      </g>\n     </g>\n     <g id=\"text_130\">\n      <!-- 4 -->\n      <g transform=\"translate(7.438068 136.431478)scale(0.1 -0.1)\">\n       <use xlink:href=\"#DejaVuSans-52\"/>\n      </g>\n     </g>\n    </g>\n    <g id=\"ytick_6\">\n     <g id=\"line2d_131\">\n      <g>\n       <use style=\"stroke:#000000;stroke-width:0.8;\" x=\"20.800568\" xlink:href=\"#mb2985cc800\" y=\"106.980715\"/>\n      </g>\n     </g>\n     <g id=\"text_131\">\n      <!-- 5 -->\n      <g transform=\"translate(7.438068 110.779934)scale(0.1 -0.1)\">\n       <use xlink:href=\"#DejaVuSans-53\"/>\n      </g>\n     </g>\n    </g>\n    <g id=\"ytick_7\">\n     <g id=\"line2d_132\">\n      <g>\n       <use style=\"stroke:#000000;stroke-width:0.8;\" x=\"20.800568\" xlink:href=\"#mb2985cc800\" y=\"81.32917\"/>\n      </g>\n     </g>\n     <g id=\"text_132\">\n      <!-- 6 -->\n      <g transform=\"translate(7.438068 85.128389)scale(0.1 -0.1)\">\n       <use xlink:href=\"#DejaVuSans-54\"/>\n      </g>\n     </g>\n    </g>\n    <g id=\"ytick_8\">\n     <g id=\"line2d_133\">\n      <g>\n       <use style=\"stroke:#000000;stroke-width:0.8;\" x=\"20.800568\" xlink:href=\"#mb2985cc800\" y=\"55.677626\"/>\n      </g>\n     </g>\n     <g id=\"text_133\">\n      <!-- 7 -->\n      <g transform=\"translate(7.438068 59.476844)scale(0.1 -0.1)\">\n       <use xlink:href=\"#DejaVuSans-55\"/>\n      </g>\n     </g>\n    </g>\n    <g id=\"ytick_9\">\n     <g id=\"line2d_134\">\n      <g>\n       <use style=\"stroke:#000000;stroke-width:0.8;\" x=\"20.800568\" xlink:href=\"#mb2985cc800\" y=\"30.026081\"/>\n      </g>\n     </g>\n     <g id=\"text_134\">\n      <!-- 8 -->\n      <g transform=\"translate(7.438068 33.8253)scale(0.1 -0.1)\">\n       <use xlink:href=\"#DejaVuSans-56\"/>\n      </g>\n     </g>\n    </g>\n    <g id=\"text_135\">\n     <!-- 1e6 -->\n     <defs>\n      <path d=\"M 56.203125 29.59375 \nL 56.203125 25.203125 \nL 14.890625 25.203125 \nQ 15.484375 15.921875 20.484375 11.0625 \nQ 25.484375 6.203125 34.421875 6.203125 \nQ 39.59375 6.203125 44.453125 7.46875 \nQ 49.3125 8.734375 54.109375 11.28125 \nL 54.109375 2.78125 \nQ 49.265625 0.734375 44.1875 -0.34375 \nQ 39.109375 -1.421875 33.890625 -1.421875 \nQ 20.796875 -1.421875 13.15625 6.1875 \nQ 5.515625 13.8125 5.515625 26.8125 \nQ 5.515625 40.234375 12.765625 48.109375 \nQ 20.015625 56 32.328125 56 \nQ 43.359375 56 49.78125 48.890625 \nQ 56.203125 41.796875 56.203125 29.59375 \nz\nM 47.21875 32.234375 \nQ 47.125 39.59375 43.09375 43.984375 \nQ 39.0625 48.390625 32.421875 48.390625 \nQ 24.90625 48.390625 20.390625 44.140625 \nQ 15.875 39.890625 15.1875 32.171875 \nz\n\" id=\"DejaVuSans-101\"/>\n     </defs>\n     <g transform=\"translate(20.800568 14.798437)scale(0.1 -0.1)\">\n      <use xlink:href=\"#DejaVuSans-49\"/>\n      <use x=\"63.623047\" xlink:href=\"#DejaVuSans-101\"/>\n      <use x=\"125.146484\" xlink:href=\"#DejaVuSans-54\"/>\n     </g>\n    </g>\n   </g>\n   <g id=\"patch_3\">\n    <path d=\"M 20.800568 235.238437 \nL 20.800568 17.798437 \n\" style=\"fill:none;stroke:#000000;stroke-linecap:square;stroke-linejoin:miter;stroke-width:0.8;\"/>\n   </g>\n   <g id=\"patch_4\">\n    <path d=\"M 355.600568 235.238437 \nL 355.600568 17.798437 \n\" style=\"fill:none;stroke:#000000;stroke-linecap:square;stroke-linejoin:miter;stroke-width:0.8;\"/>\n   </g>\n   <g id=\"patch_5\">\n    <path d=\"M 20.800568 235.238437 \nL 355.600568 235.238437 \n\" style=\"fill:none;stroke:#000000;stroke-linecap:square;stroke-linejoin:miter;stroke-width:0.8;\"/>\n   </g>\n   <g id=\"patch_6\">\n    <path d=\"M 20.800568 17.798437 \nL 355.600568 17.798437 \n\" style=\"fill:none;stroke:#000000;stroke-linecap:square;stroke-linejoin:miter;stroke-width:0.8;\"/>\n   </g>\n   <g id=\"legend_1\">\n    <g id=\"patch_7\">\n     <path d=\"M 27.800568 69.832812 \nL 112.528693 69.832812 \nQ 114.528693 69.832812 114.528693 67.832812 \nL 114.528693 24.798437 \nQ 114.528693 22.798437 112.528693 22.798437 \nL 27.800568 22.798437 \nQ 25.800568 22.798437 25.800568 24.798437 \nL 25.800568 67.832812 \nQ 25.800568 69.832812 27.800568 69.832812 \nz\n\" style=\"fill:#ffffff;opacity:0.8;stroke:#cccccc;stroke-linejoin:miter;\"/>\n    </g>\n    <g id=\"patch_8\">\n     <path d=\"M 29.800568 34.396875 \nL 49.800568 34.396875 \nL 49.800568 27.396875 \nL 29.800568 27.396875 \nz\n\" style=\"fill:#1f77b4;\"/>\n    </g>\n    <g id=\"text_136\">\n     <!-- Confirmed -->\n     <defs>\n      <path d=\"M 64.40625 67.28125 \nL 64.40625 56.890625 \nQ 59.421875 61.53125 53.78125 63.8125 \nQ 48.140625 66.109375 41.796875 66.109375 \nQ 29.296875 66.109375 22.65625 58.46875 \nQ 16.015625 50.828125 16.015625 36.375 \nQ 16.015625 21.96875 22.65625 14.328125 \nQ 29.296875 6.6875 41.796875 6.6875 \nQ 48.140625 6.6875 53.78125 8.984375 \nQ 59.421875 11.28125 64.40625 15.921875 \nL 64.40625 5.609375 \nQ 59.234375 2.09375 53.4375 0.328125 \nQ 47.65625 -1.421875 41.21875 -1.421875 \nQ 24.65625 -1.421875 15.125 8.703125 \nQ 5.609375 18.84375 5.609375 36.375 \nQ 5.609375 53.953125 15.125 64.078125 \nQ 24.65625 74.21875 41.21875 74.21875 \nQ 47.75 74.21875 53.53125 72.484375 \nQ 59.328125 70.75 64.40625 67.28125 \nz\n\" id=\"DejaVuSans-67\"/>\n      <path d=\"M 30.609375 48.390625 \nQ 23.390625 48.390625 19.1875 42.75 \nQ 14.984375 37.109375 14.984375 27.296875 \nQ 14.984375 17.484375 19.15625 11.84375 \nQ 23.34375 6.203125 30.609375 6.203125 \nQ 37.796875 6.203125 41.984375 11.859375 \nQ 46.1875 17.53125 46.1875 27.296875 \nQ 46.1875 37.015625 41.984375 42.703125 \nQ 37.796875 48.390625 30.609375 48.390625 \nz\nM 30.609375 56 \nQ 42.328125 56 49.015625 48.375 \nQ 55.71875 40.765625 55.71875 27.296875 \nQ 55.71875 13.875 49.015625 6.21875 \nQ 42.328125 -1.421875 30.609375 -1.421875 \nQ 18.84375 -1.421875 12.171875 6.21875 \nQ 5.515625 13.875 5.515625 27.296875 \nQ 5.515625 40.765625 12.171875 48.375 \nQ 18.84375 56 30.609375 56 \nz\n\" id=\"DejaVuSans-111\"/>\n      <path d=\"M 54.890625 33.015625 \nL 54.890625 0 \nL 45.90625 0 \nL 45.90625 32.71875 \nQ 45.90625 40.484375 42.875 44.328125 \nQ 39.84375 48.1875 33.796875 48.1875 \nQ 26.515625 48.1875 22.3125 43.546875 \nQ 18.109375 38.921875 18.109375 30.90625 \nL 18.109375 0 \nL 9.078125 0 \nL 9.078125 54.6875 \nL 18.109375 54.6875 \nL 18.109375 46.1875 \nQ 21.34375 51.125 25.703125 53.5625 \nQ 30.078125 56 35.796875 56 \nQ 45.21875 56 50.046875 50.171875 \nQ 54.890625 44.34375 54.890625 33.015625 \nz\n\" id=\"DejaVuSans-110\"/>\n      <path d=\"M 37.109375 75.984375 \nL 37.109375 68.5 \nL 28.515625 68.5 \nQ 23.6875 68.5 21.796875 66.546875 \nQ 19.921875 64.59375 19.921875 59.515625 \nL 19.921875 54.6875 \nL 34.71875 54.6875 \nL 34.71875 47.703125 \nL 19.921875 47.703125 \nL 19.921875 0 \nL 10.890625 0 \nL 10.890625 47.703125 \nL 2.296875 47.703125 \nL 2.296875 54.6875 \nL 10.890625 54.6875 \nL 10.890625 58.5 \nQ 10.890625 67.625 15.140625 71.796875 \nQ 19.390625 75.984375 28.609375 75.984375 \nz\n\" id=\"DejaVuSans-102\"/>\n      <path d=\"M 9.421875 54.6875 \nL 18.40625 54.6875 \nL 18.40625 0 \nL 9.421875 0 \nz\nM 9.421875 75.984375 \nL 18.40625 75.984375 \nL 18.40625 64.59375 \nL 9.421875 64.59375 \nz\n\" id=\"DejaVuSans-105\"/>\n      <path d=\"M 41.109375 46.296875 \nQ 39.59375 47.171875 37.8125 47.578125 \nQ 36.03125 48 33.890625 48 \nQ 26.265625 48 22.1875 43.046875 \nQ 18.109375 38.09375 18.109375 28.8125 \nL 18.109375 0 \nL 9.078125 0 \nL 9.078125 54.6875 \nL 18.109375 54.6875 \nL 18.109375 46.1875 \nQ 20.953125 51.171875 25.484375 53.578125 \nQ 30.03125 56 36.53125 56 \nQ 37.453125 56 38.578125 55.875 \nQ 39.703125 55.765625 41.0625 55.515625 \nz\n\" id=\"DejaVuSans-114\"/>\n      <path d=\"M 52 44.1875 \nQ 55.375 50.25 60.0625 53.125 \nQ 64.75 56 71.09375 56 \nQ 79.640625 56 84.28125 50.015625 \nQ 88.921875 44.046875 88.921875 33.015625 \nL 88.921875 0 \nL 79.890625 0 \nL 79.890625 32.71875 \nQ 79.890625 40.578125 77.09375 44.375 \nQ 74.3125 48.1875 68.609375 48.1875 \nQ 61.625 48.1875 57.5625 43.546875 \nQ 53.515625 38.921875 53.515625 30.90625 \nL 53.515625 0 \nL 44.484375 0 \nL 44.484375 32.71875 \nQ 44.484375 40.625 41.703125 44.40625 \nQ 38.921875 48.1875 33.109375 48.1875 \nQ 26.21875 48.1875 22.15625 43.53125 \nQ 18.109375 38.875 18.109375 30.90625 \nL 18.109375 0 \nL 9.078125 0 \nL 9.078125 54.6875 \nL 18.109375 54.6875 \nL 18.109375 46.1875 \nQ 21.1875 51.21875 25.484375 53.609375 \nQ 29.78125 56 35.6875 56 \nQ 41.65625 56 45.828125 52.96875 \nQ 50 49.953125 52 44.1875 \nz\n\" id=\"DejaVuSans-109\"/>\n      <path d=\"M 45.40625 46.390625 \nL 45.40625 75.984375 \nL 54.390625 75.984375 \nL 54.390625 0 \nL 45.40625 0 \nL 45.40625 8.203125 \nQ 42.578125 3.328125 38.25 0.953125 \nQ 33.9375 -1.421875 27.875 -1.421875 \nQ 17.96875 -1.421875 11.734375 6.484375 \nQ 5.515625 14.40625 5.515625 27.296875 \nQ 5.515625 40.1875 11.734375 48.09375 \nQ 17.96875 56 27.875 56 \nQ 33.9375 56 38.25 53.625 \nQ 42.578125 51.265625 45.40625 46.390625 \nz\nM 14.796875 27.296875 \nQ 14.796875 17.390625 18.875 11.75 \nQ 22.953125 6.109375 30.078125 6.109375 \nQ 37.203125 6.109375 41.296875 11.75 \nQ 45.40625 17.390625 45.40625 27.296875 \nQ 45.40625 37.203125 41.296875 42.84375 \nQ 37.203125 48.484375 30.078125 48.484375 \nQ 22.953125 48.484375 18.875 42.84375 \nQ 14.796875 37.203125 14.796875 27.296875 \nz\n\" id=\"DejaVuSans-100\"/>\n     </defs>\n     <g transform=\"translate(57.800568 34.396875)scale(0.1 -0.1)\">\n      <use xlink:href=\"#DejaVuSans-67\"/>\n      <use x=\"69.824219\" xlink:href=\"#DejaVuSans-111\"/>\n      <use x=\"131.005859\" xlink:href=\"#DejaVuSans-110\"/>\n      <use x=\"194.384766\" xlink:href=\"#DejaVuSans-102\"/>\n      <use x=\"229.589844\" xlink:href=\"#DejaVuSans-105\"/>\n      <use x=\"257.373047\" xlink:href=\"#DejaVuSans-114\"/>\n      <use x=\"296.736328\" xlink:href=\"#DejaVuSans-109\"/>\n      <use x=\"394.148438\" xlink:href=\"#DejaVuSans-101\"/>\n      <use x=\"455.671875\" xlink:href=\"#DejaVuSans-100\"/>\n     </g>\n    </g>\n    <g id=\"patch_9\">\n     <path d=\"M 29.800568 49.075 \nL 49.800568 49.075 \nL 49.800568 42.075 \nL 29.800568 42.075 \nz\n\" style=\"fill:#ff7f0e;\"/>\n    </g>\n    <g id=\"text_137\">\n     <!-- Deaths -->\n     <defs>\n      <path d=\"M 19.671875 64.796875 \nL 19.671875 8.109375 \nL 31.59375 8.109375 \nQ 46.6875 8.109375 53.6875 14.9375 \nQ 60.6875 21.78125 60.6875 36.53125 \nQ 60.6875 51.171875 53.6875 57.984375 \nQ 46.6875 64.796875 31.59375 64.796875 \nz\nM 9.8125 72.90625 \nL 30.078125 72.90625 \nQ 51.265625 72.90625 61.171875 64.09375 \nQ 71.09375 55.28125 71.09375 36.53125 \nQ 71.09375 17.671875 61.125 8.828125 \nQ 51.171875 0 30.078125 0 \nL 9.8125 0 \nz\n\" id=\"DejaVuSans-68\"/>\n      <path d=\"M 34.28125 27.484375 \nQ 23.390625 27.484375 19.1875 25 \nQ 14.984375 22.515625 14.984375 16.5 \nQ 14.984375 11.71875 18.140625 8.90625 \nQ 21.296875 6.109375 26.703125 6.109375 \nQ 34.1875 6.109375 38.703125 11.40625 \nQ 43.21875 16.703125 43.21875 25.484375 \nL 43.21875 27.484375 \nz\nM 52.203125 31.203125 \nL 52.203125 0 \nL 43.21875 0 \nL 43.21875 8.296875 \nQ 40.140625 3.328125 35.546875 0.953125 \nQ 30.953125 -1.421875 24.3125 -1.421875 \nQ 15.921875 -1.421875 10.953125 3.296875 \nQ 6 8.015625 6 15.921875 \nQ 6 25.140625 12.171875 29.828125 \nQ 18.359375 34.515625 30.609375 34.515625 \nL 43.21875 34.515625 \nL 43.21875 35.40625 \nQ 43.21875 41.609375 39.140625 45 \nQ 35.0625 48.390625 27.6875 48.390625 \nQ 23 48.390625 18.546875 47.265625 \nQ 14.109375 46.140625 10.015625 43.890625 \nL 10.015625 52.203125 \nQ 14.9375 54.109375 19.578125 55.046875 \nQ 24.21875 56 28.609375 56 \nQ 40.484375 56 46.34375 49.84375 \nQ 52.203125 43.703125 52.203125 31.203125 \nz\n\" id=\"DejaVuSans-97\"/>\n      <path d=\"M 18.3125 70.21875 \nL 18.3125 54.6875 \nL 36.8125 54.6875 \nL 36.8125 47.703125 \nL 18.3125 47.703125 \nL 18.3125 18.015625 \nQ 18.3125 11.328125 20.140625 9.421875 \nQ 21.96875 7.515625 27.59375 7.515625 \nL 36.8125 7.515625 \nL 36.8125 0 \nL 27.59375 0 \nQ 17.1875 0 13.234375 3.875 \nQ 9.28125 7.765625 9.28125 18.015625 \nL 9.28125 47.703125 \nL 2.6875 47.703125 \nL 2.6875 54.6875 \nL 9.28125 54.6875 \nL 9.28125 70.21875 \nz\n\" id=\"DejaVuSans-116\"/>\n      <path d=\"M 54.890625 33.015625 \nL 54.890625 0 \nL 45.90625 0 \nL 45.90625 32.71875 \nQ 45.90625 40.484375 42.875 44.328125 \nQ 39.84375 48.1875 33.796875 48.1875 \nQ 26.515625 48.1875 22.3125 43.546875 \nQ 18.109375 38.921875 18.109375 30.90625 \nL 18.109375 0 \nL 9.078125 0 \nL 9.078125 75.984375 \nL 18.109375 75.984375 \nL 18.109375 46.1875 \nQ 21.34375 51.125 25.703125 53.5625 \nQ 30.078125 56 35.796875 56 \nQ 45.21875 56 50.046875 50.171875 \nQ 54.890625 44.34375 54.890625 33.015625 \nz\n\" id=\"DejaVuSans-104\"/>\n      <path d=\"M 44.28125 53.078125 \nL 44.28125 44.578125 \nQ 40.484375 46.53125 36.375 47.5 \nQ 32.28125 48.484375 27.875 48.484375 \nQ 21.1875 48.484375 17.84375 46.4375 \nQ 14.5 44.390625 14.5 40.28125 \nQ 14.5 37.15625 16.890625 35.375 \nQ 19.28125 33.59375 26.515625 31.984375 \nL 29.59375 31.296875 \nQ 39.15625 29.25 43.1875 25.515625 \nQ 47.21875 21.78125 47.21875 15.09375 \nQ 47.21875 7.46875 41.1875 3.015625 \nQ 35.15625 -1.421875 24.609375 -1.421875 \nQ 20.21875 -1.421875 15.453125 -0.5625 \nQ 10.6875 0.296875 5.421875 2 \nL 5.421875 11.28125 \nQ 10.40625 8.6875 15.234375 7.390625 \nQ 20.0625 6.109375 24.8125 6.109375 \nQ 31.15625 6.109375 34.5625 8.28125 \nQ 37.984375 10.453125 37.984375 14.40625 \nQ 37.984375 18.0625 35.515625 20.015625 \nQ 33.0625 21.96875 24.703125 23.78125 \nL 21.578125 24.515625 \nQ 13.234375 26.265625 9.515625 29.90625 \nQ 5.8125 33.546875 5.8125 39.890625 \nQ 5.8125 47.609375 11.28125 51.796875 \nQ 16.75 56 26.8125 56 \nQ 31.78125 56 36.171875 55.265625 \nQ 40.578125 54.546875 44.28125 53.078125 \nz\n\" id=\"DejaVuSans-115\"/>\n     </defs>\n     <g transform=\"translate(57.800568 49.075)scale(0.1 -0.1)\">\n      <use xlink:href=\"#DejaVuSans-68\"/>\n      <use x=\"77.001953\" xlink:href=\"#DejaVuSans-101\"/>\n      <use x=\"138.525391\" xlink:href=\"#DejaVuSans-97\"/>\n      <use x=\"199.804688\" xlink:href=\"#DejaVuSans-116\"/>\n      <use x=\"239.013672\" xlink:href=\"#DejaVuSans-104\"/>\n      <use x=\"302.392578\" xlink:href=\"#DejaVuSans-115\"/>\n     </g>\n    </g>\n    <g id=\"patch_10\">\n     <path d=\"M 29.800568 63.753125 \nL 49.800568 63.753125 \nL 49.800568 56.753125 \nL 29.800568 56.753125 \nz\n\" style=\"fill:#2ca02c;\"/>\n    </g>\n    <g id=\"text_138\">\n     <!-- Recovered -->\n     <defs>\n      <path d=\"M 44.390625 34.1875 \nQ 47.5625 33.109375 50.5625 29.59375 \nQ 53.5625 26.078125 56.59375 19.921875 \nL 66.609375 0 \nL 56 0 \nL 46.6875 18.703125 \nQ 43.0625 26.03125 39.671875 28.421875 \nQ 36.28125 30.8125 30.421875 30.8125 \nL 19.671875 30.8125 \nL 19.671875 0 \nL 9.8125 0 \nL 9.8125 72.90625 \nL 32.078125 72.90625 \nQ 44.578125 72.90625 50.734375 67.671875 \nQ 56.890625 62.453125 56.890625 51.90625 \nQ 56.890625 45.015625 53.6875 40.46875 \nQ 50.484375 35.9375 44.390625 34.1875 \nz\nM 19.671875 64.796875 \nL 19.671875 38.921875 \nL 32.078125 38.921875 \nQ 39.203125 38.921875 42.84375 42.21875 \nQ 46.484375 45.515625 46.484375 51.90625 \nQ 46.484375 58.296875 42.84375 61.546875 \nQ 39.203125 64.796875 32.078125 64.796875 \nz\n\" id=\"DejaVuSans-82\"/>\n      <path d=\"M 48.78125 52.59375 \nL 48.78125 44.1875 \nQ 44.96875 46.296875 41.140625 47.34375 \nQ 37.3125 48.390625 33.40625 48.390625 \nQ 24.65625 48.390625 19.8125 42.84375 \nQ 14.984375 37.3125 14.984375 27.296875 \nQ 14.984375 17.28125 19.8125 11.734375 \nQ 24.65625 6.203125 33.40625 6.203125 \nQ 37.3125 6.203125 41.140625 7.25 \nQ 44.96875 8.296875 48.78125 10.40625 \nL 48.78125 2.09375 \nQ 45.015625 0.34375 40.984375 -0.53125 \nQ 36.96875 -1.421875 32.421875 -1.421875 \nQ 20.0625 -1.421875 12.78125 6.34375 \nQ 5.515625 14.109375 5.515625 27.296875 \nQ 5.515625 40.671875 12.859375 48.328125 \nQ 20.21875 56 33.015625 56 \nQ 37.15625 56 41.109375 55.140625 \nQ 45.0625 54.296875 48.78125 52.59375 \nz\n\" id=\"DejaVuSans-99\"/>\n      <path d=\"M 2.984375 54.6875 \nL 12.5 54.6875 \nL 29.59375 8.796875 \nL 46.6875 54.6875 \nL 56.203125 54.6875 \nL 35.6875 0 \nL 23.484375 0 \nz\n\" id=\"DejaVuSans-118\"/>\n     </defs>\n     <g transform=\"translate(57.800568 63.753125)scale(0.1 -0.1)\">\n      <use xlink:href=\"#DejaVuSans-82\"/>\n      <use x=\"64.982422\" xlink:href=\"#DejaVuSans-101\"/>\n      <use x=\"126.505859\" xlink:href=\"#DejaVuSans-99\"/>\n      <use x=\"181.486328\" xlink:href=\"#DejaVuSans-111\"/>\n      <use x=\"242.667969\" xlink:href=\"#DejaVuSans-118\"/>\n      <use x=\"301.847656\" xlink:href=\"#DejaVuSans-101\"/>\n      <use x=\"363.371094\" xlink:href=\"#DejaVuSans-114\"/>\n      <use x=\"402.234375\" xlink:href=\"#DejaVuSans-101\"/>\n      <use x=\"463.757812\" xlink:href=\"#DejaVuSans-100\"/>\n     </g>\n    </g>\n   </g>\n  </g>\n </g>\n <defs>\n  <clipPath id=\"p1d7de6cdf9\">\n   <rect height=\"217.44\" width=\"334.8\" x=\"20.800568\" y=\"17.798437\"/>\n  </clipPath>\n </defs>\n</svg>\n"
          },
          "metadata": {
            "tags": [],
            "needs_background": "light"
          }
        }
      ]
    },
    {
      "cell_type": "markdown",
      "metadata": {
        "id": "M48ghyzJcv_l",
        "colab_type": "text"
      },
      "source": [
        "Então é notado que nesta época os casos confirmados estavam menores que os demais."
      ]
    },
    {
      "cell_type": "code",
      "metadata": {
        "id": "xminNpubdIVa",
        "colab_type": "code",
        "colab": {
          "base_uri": "https://localhost:8080/",
          "height": 754
        },
        "outputId": "38656a4f-3c41-46f0-c3f7-8336c7c5fcd1"
      },
      "source": [
        "sns.pairplot(df_brasil);"
      ],
      "execution_count": null,
      "outputs": [
        {
          "output_type": "display_data",
          "data": {
            "text/plain": [
              "<Figure size 540x540 with 12 Axes>"
            ],
            "image/svg+xml": "<?xml version=\"1.0\" encoding=\"utf-8\" standalone=\"no\"?>\n<!DOCTYPE svg PUBLIC \"-//W3C//DTD SVG 1.1//EN\"\n  \"http://www.w3.org/Graphics/SVG/1.1/DTD/svg11.dtd\">\n<!-- Created with matplotlib (https://matplotlib.org/) -->\n<svg height=\"549.75625pt\" version=\"1.1\" viewBox=\"0 0 574.234044 549.75625\" width=\"574.234044pt\" xmlns=\"http://www.w3.org/2000/svg\" xmlns:xlink=\"http://www.w3.org/1999/xlink\">\n <defs>\n  <style type=\"text/css\">\n*{stroke-linecap:butt;stroke-linejoin:round;}\n  </style>\n </defs>\n <g id=\"figure_1\">\n  <g id=\"patch_1\">\n   <path d=\"M 0 549.75625 \nL 574.234044 549.75625 \nL 574.234044 0 \nL 0 0 \nz\n\" style=\"fill:none;\"/>\n  </g>\n  <g id=\"axes_1\">\n   <g id=\"patch_2\">\n    <path d=\"M 66.053125 168.866667 \nL 215.365625 168.866667 \nL 215.365625 7.2 \nL 66.053125 7.2 \nz\n\" style=\"fill:#ffffff;\"/>\n   </g>\n   <g id=\"matplotlib.axis_1\">\n    <g id=\"xtick_1\">\n     <g id=\"line2d_1\">\n      <defs>\n       <path d=\"M 0 0 \nL 0 3.5 \n\" id=\"mec91a7b632\" style=\"stroke:#000000;stroke-width:0.8;\"/>\n      </defs>\n      <g>\n       <use style=\"stroke:#000000;stroke-width:0.8;\" x=\"72.840057\" xlink:href=\"#mec91a7b632\" y=\"168.866667\"/>\n      </g>\n     </g>\n    </g>\n    <g id=\"xtick_2\">\n     <g id=\"line2d_2\">\n      <g>\n       <use style=\"stroke:#000000;stroke-width:0.8;\" x=\"122.765075\" xlink:href=\"#mec91a7b632\" y=\"168.866667\"/>\n      </g>\n     </g>\n    </g>\n    <g id=\"xtick_3\">\n     <g id=\"line2d_3\">\n      <g>\n       <use style=\"stroke:#000000;stroke-width:0.8;\" x=\"172.690094\" xlink:href=\"#mec91a7b632\" y=\"168.866667\"/>\n      </g>\n     </g>\n    </g>\n   </g>\n   <g id=\"matplotlib.axis_2\">\n    <g id=\"ytick_1\">\n     <g id=\"line2d_4\">\n      <defs>\n       <path d=\"M 0 0 \nL -3.5 0 \n\" id=\"m1769ce0960\" style=\"stroke:#000000;stroke-width:0.8;\"/>\n      </defs>\n      <g>\n       <use style=\"stroke:#000000;stroke-width:0.8;\" x=\"66.053125\" xlink:href=\"#m1769ce0960\" y=\"161.518182\"/>\n      </g>\n     </g>\n     <g id=\"text_1\">\n      <!-- 0 -->\n      <defs>\n       <path d=\"M 31.78125 66.40625 \nQ 24.171875 66.40625 20.328125 58.90625 \nQ 16.5 51.421875 16.5 36.375 \nQ 16.5 21.390625 20.328125 13.890625 \nQ 24.171875 6.390625 31.78125 6.390625 \nQ 39.453125 6.390625 43.28125 13.890625 \nQ 47.125 21.390625 47.125 36.375 \nQ 47.125 51.421875 43.28125 58.90625 \nQ 39.453125 66.40625 31.78125 66.40625 \nz\nM 31.78125 74.21875 \nQ 44.046875 74.21875 50.515625 64.515625 \nQ 56.984375 54.828125 56.984375 36.375 \nQ 56.984375 17.96875 50.515625 8.265625 \nQ 44.046875 -1.421875 31.78125 -1.421875 \nQ 19.53125 -1.421875 13.0625 8.265625 \nQ 6.59375 17.96875 6.59375 36.375 \nQ 6.59375 54.828125 13.0625 64.515625 \nQ 19.53125 74.21875 31.78125 74.21875 \nz\n\" id=\"DejaVuSans-48\"/>\n      </defs>\n      <g transform=\"translate(52.690625 165.317401)scale(0.1 -0.1)\">\n       <use xlink:href=\"#DejaVuSans-48\"/>\n      </g>\n     </g>\n    </g>\n    <g id=\"ytick_2\">\n     <g id=\"line2d_5\">\n      <g>\n       <use style=\"stroke:#000000;stroke-width:0.8;\" x=\"66.053125\" xlink:href=\"#m1769ce0960\" y=\"134.490266\"/>\n      </g>\n     </g>\n     <g id=\"text_2\">\n      <!-- 50000 -->\n      <defs>\n       <path d=\"M 10.796875 72.90625 \nL 49.515625 72.90625 \nL 49.515625 64.59375 \nL 19.828125 64.59375 \nL 19.828125 46.734375 \nQ 21.96875 47.46875 24.109375 47.828125 \nQ 26.265625 48.1875 28.421875 48.1875 \nQ 40.625 48.1875 47.75 41.5 \nQ 54.890625 34.8125 54.890625 23.390625 \nQ 54.890625 11.625 47.5625 5.09375 \nQ 40.234375 -1.421875 26.90625 -1.421875 \nQ 22.3125 -1.421875 17.546875 -0.640625 \nQ 12.796875 0.140625 7.71875 1.703125 \nL 7.71875 11.625 \nQ 12.109375 9.234375 16.796875 8.0625 \nQ 21.484375 6.890625 26.703125 6.890625 \nQ 35.15625 6.890625 40.078125 11.328125 \nQ 45.015625 15.765625 45.015625 23.390625 \nQ 45.015625 31 40.078125 35.4375 \nQ 35.15625 39.890625 26.703125 39.890625 \nQ 22.75 39.890625 18.8125 39.015625 \nQ 14.890625 38.140625 10.796875 36.28125 \nz\n\" id=\"DejaVuSans-53\"/>\n      </defs>\n      <g transform=\"translate(27.240625 138.289485)scale(0.1 -0.1)\">\n       <use xlink:href=\"#DejaVuSans-53\"/>\n       <use x=\"63.623047\" xlink:href=\"#DejaVuSans-48\"/>\n       <use x=\"127.246094\" xlink:href=\"#DejaVuSans-48\"/>\n       <use x=\"190.869141\" xlink:href=\"#DejaVuSans-48\"/>\n       <use x=\"254.492188\" xlink:href=\"#DejaVuSans-48\"/>\n      </g>\n     </g>\n    </g>\n    <g id=\"ytick_3\">\n     <g id=\"line2d_6\">\n      <g>\n       <use style=\"stroke:#000000;stroke-width:0.8;\" x=\"66.053125\" xlink:href=\"#m1769ce0960\" y=\"107.462351\"/>\n      </g>\n     </g>\n     <g id=\"text_3\">\n      <!-- 100000 -->\n      <defs>\n       <path d=\"M 12.40625 8.296875 \nL 28.515625 8.296875 \nL 28.515625 63.921875 \nL 10.984375 60.40625 \nL 10.984375 69.390625 \nL 28.421875 72.90625 \nL 38.28125 72.90625 \nL 38.28125 8.296875 \nL 54.390625 8.296875 \nL 54.390625 0 \nL 12.40625 0 \nz\n\" id=\"DejaVuSans-49\"/>\n      </defs>\n      <g transform=\"translate(20.878125 111.261569)scale(0.1 -0.1)\">\n       <use xlink:href=\"#DejaVuSans-49\"/>\n       <use x=\"63.623047\" xlink:href=\"#DejaVuSans-48\"/>\n       <use x=\"127.246094\" xlink:href=\"#DejaVuSans-48\"/>\n       <use x=\"190.869141\" xlink:href=\"#DejaVuSans-48\"/>\n       <use x=\"254.492188\" xlink:href=\"#DejaVuSans-48\"/>\n       <use x=\"318.115234\" xlink:href=\"#DejaVuSans-48\"/>\n      </g>\n     </g>\n    </g>\n    <g id=\"ytick_4\">\n     <g id=\"line2d_7\">\n      <g>\n       <use style=\"stroke:#000000;stroke-width:0.8;\" x=\"66.053125\" xlink:href=\"#m1769ce0960\" y=\"80.434435\"/>\n      </g>\n     </g>\n     <g id=\"text_4\">\n      <!-- 150000 -->\n      <g transform=\"translate(20.878125 84.233654)scale(0.1 -0.1)\">\n       <use xlink:href=\"#DejaVuSans-49\"/>\n       <use x=\"63.623047\" xlink:href=\"#DejaVuSans-53\"/>\n       <use x=\"127.246094\" xlink:href=\"#DejaVuSans-48\"/>\n       <use x=\"190.869141\" xlink:href=\"#DejaVuSans-48\"/>\n       <use x=\"254.492188\" xlink:href=\"#DejaVuSans-48\"/>\n       <use x=\"318.115234\" xlink:href=\"#DejaVuSans-48\"/>\n      </g>\n     </g>\n    </g>\n    <g id=\"ytick_5\">\n     <g id=\"line2d_8\">\n      <g>\n       <use style=\"stroke:#000000;stroke-width:0.8;\" x=\"66.053125\" xlink:href=\"#m1769ce0960\" y=\"53.406519\"/>\n      </g>\n     </g>\n     <g id=\"text_5\">\n      <!-- 200000 -->\n      <defs>\n       <path d=\"M 19.1875 8.296875 \nL 53.609375 8.296875 \nL 53.609375 0 \nL 7.328125 0 \nL 7.328125 8.296875 \nQ 12.9375 14.109375 22.625 23.890625 \nQ 32.328125 33.6875 34.8125 36.53125 \nQ 39.546875 41.84375 41.421875 45.53125 \nQ 43.3125 49.21875 43.3125 52.78125 \nQ 43.3125 58.59375 39.234375 62.25 \nQ 35.15625 65.921875 28.609375 65.921875 \nQ 23.96875 65.921875 18.8125 64.3125 \nQ 13.671875 62.703125 7.8125 59.421875 \nL 7.8125 69.390625 \nQ 13.765625 71.78125 18.9375 73 \nQ 24.125 74.21875 28.421875 74.21875 \nQ 39.75 74.21875 46.484375 68.546875 \nQ 53.21875 62.890625 53.21875 53.421875 \nQ 53.21875 48.921875 51.53125 44.890625 \nQ 49.859375 40.875 45.40625 35.40625 \nQ 44.1875 33.984375 37.640625 27.21875 \nQ 31.109375 20.453125 19.1875 8.296875 \nz\n\" id=\"DejaVuSans-50\"/>\n      </defs>\n      <g transform=\"translate(20.878125 57.205738)scale(0.1 -0.1)\">\n       <use xlink:href=\"#DejaVuSans-50\"/>\n       <use x=\"63.623047\" xlink:href=\"#DejaVuSans-48\"/>\n       <use x=\"127.246094\" xlink:href=\"#DejaVuSans-48\"/>\n       <use x=\"190.869141\" xlink:href=\"#DejaVuSans-48\"/>\n       <use x=\"254.492188\" xlink:href=\"#DejaVuSans-48\"/>\n       <use x=\"318.115234\" xlink:href=\"#DejaVuSans-48\"/>\n      </g>\n     </g>\n    </g>\n    <g id=\"ytick_6\">\n     <g id=\"line2d_9\">\n      <g>\n       <use style=\"stroke:#000000;stroke-width:0.8;\" x=\"66.053125\" xlink:href=\"#m1769ce0960\" y=\"26.378604\"/>\n      </g>\n     </g>\n     <g id=\"text_6\">\n      <!-- 250000 -->\n      <g transform=\"translate(20.878125 30.177822)scale(0.1 -0.1)\">\n       <use xlink:href=\"#DejaVuSans-50\"/>\n       <use x=\"63.623047\" xlink:href=\"#DejaVuSans-53\"/>\n       <use x=\"127.246094\" xlink:href=\"#DejaVuSans-48\"/>\n       <use x=\"190.869141\" xlink:href=\"#DejaVuSans-48\"/>\n       <use x=\"254.492188\" xlink:href=\"#DejaVuSans-48\"/>\n       <use x=\"318.115234\" xlink:href=\"#DejaVuSans-48\"/>\n      </g>\n     </g>\n    </g>\n    <g id=\"text_7\">\n     <!-- Confirmed -->\n     <defs>\n      <path d=\"M 64.40625 67.28125 \nL 64.40625 56.890625 \nQ 59.421875 61.53125 53.78125 63.8125 \nQ 48.140625 66.109375 41.796875 66.109375 \nQ 29.296875 66.109375 22.65625 58.46875 \nQ 16.015625 50.828125 16.015625 36.375 \nQ 16.015625 21.96875 22.65625 14.328125 \nQ 29.296875 6.6875 41.796875 6.6875 \nQ 48.140625 6.6875 53.78125 8.984375 \nQ 59.421875 11.28125 64.40625 15.921875 \nL 64.40625 5.609375 \nQ 59.234375 2.09375 53.4375 0.328125 \nQ 47.65625 -1.421875 41.21875 -1.421875 \nQ 24.65625 -1.421875 15.125 8.703125 \nQ 5.609375 18.84375 5.609375 36.375 \nQ 5.609375 53.953125 15.125 64.078125 \nQ 24.65625 74.21875 41.21875 74.21875 \nQ 47.75 74.21875 53.53125 72.484375 \nQ 59.328125 70.75 64.40625 67.28125 \nz\n\" id=\"DejaVuSans-67\"/>\n      <path d=\"M 30.609375 48.390625 \nQ 23.390625 48.390625 19.1875 42.75 \nQ 14.984375 37.109375 14.984375 27.296875 \nQ 14.984375 17.484375 19.15625 11.84375 \nQ 23.34375 6.203125 30.609375 6.203125 \nQ 37.796875 6.203125 41.984375 11.859375 \nQ 46.1875 17.53125 46.1875 27.296875 \nQ 46.1875 37.015625 41.984375 42.703125 \nQ 37.796875 48.390625 30.609375 48.390625 \nz\nM 30.609375 56 \nQ 42.328125 56 49.015625 48.375 \nQ 55.71875 40.765625 55.71875 27.296875 \nQ 55.71875 13.875 49.015625 6.21875 \nQ 42.328125 -1.421875 30.609375 -1.421875 \nQ 18.84375 -1.421875 12.171875 6.21875 \nQ 5.515625 13.875 5.515625 27.296875 \nQ 5.515625 40.765625 12.171875 48.375 \nQ 18.84375 56 30.609375 56 \nz\n\" id=\"DejaVuSans-111\"/>\n      <path d=\"M 54.890625 33.015625 \nL 54.890625 0 \nL 45.90625 0 \nL 45.90625 32.71875 \nQ 45.90625 40.484375 42.875 44.328125 \nQ 39.84375 48.1875 33.796875 48.1875 \nQ 26.515625 48.1875 22.3125 43.546875 \nQ 18.109375 38.921875 18.109375 30.90625 \nL 18.109375 0 \nL 9.078125 0 \nL 9.078125 54.6875 \nL 18.109375 54.6875 \nL 18.109375 46.1875 \nQ 21.34375 51.125 25.703125 53.5625 \nQ 30.078125 56 35.796875 56 \nQ 45.21875 56 50.046875 50.171875 \nQ 54.890625 44.34375 54.890625 33.015625 \nz\n\" id=\"DejaVuSans-110\"/>\n      <path d=\"M 37.109375 75.984375 \nL 37.109375 68.5 \nL 28.515625 68.5 \nQ 23.6875 68.5 21.796875 66.546875 \nQ 19.921875 64.59375 19.921875 59.515625 \nL 19.921875 54.6875 \nL 34.71875 54.6875 \nL 34.71875 47.703125 \nL 19.921875 47.703125 \nL 19.921875 0 \nL 10.890625 0 \nL 10.890625 47.703125 \nL 2.296875 47.703125 \nL 2.296875 54.6875 \nL 10.890625 54.6875 \nL 10.890625 58.5 \nQ 10.890625 67.625 15.140625 71.796875 \nQ 19.390625 75.984375 28.609375 75.984375 \nz\n\" id=\"DejaVuSans-102\"/>\n      <path d=\"M 9.421875 54.6875 \nL 18.40625 54.6875 \nL 18.40625 0 \nL 9.421875 0 \nz\nM 9.421875 75.984375 \nL 18.40625 75.984375 \nL 18.40625 64.59375 \nL 9.421875 64.59375 \nz\n\" id=\"DejaVuSans-105\"/>\n      <path d=\"M 41.109375 46.296875 \nQ 39.59375 47.171875 37.8125 47.578125 \nQ 36.03125 48 33.890625 48 \nQ 26.265625 48 22.1875 43.046875 \nQ 18.109375 38.09375 18.109375 28.8125 \nL 18.109375 0 \nL 9.078125 0 \nL 9.078125 54.6875 \nL 18.109375 54.6875 \nL 18.109375 46.1875 \nQ 20.953125 51.171875 25.484375 53.578125 \nQ 30.03125 56 36.53125 56 \nQ 37.453125 56 38.578125 55.875 \nQ 39.703125 55.765625 41.0625 55.515625 \nz\n\" id=\"DejaVuSans-114\"/>\n      <path d=\"M 52 44.1875 \nQ 55.375 50.25 60.0625 53.125 \nQ 64.75 56 71.09375 56 \nQ 79.640625 56 84.28125 50.015625 \nQ 88.921875 44.046875 88.921875 33.015625 \nL 88.921875 0 \nL 79.890625 0 \nL 79.890625 32.71875 \nQ 79.890625 40.578125 77.09375 44.375 \nQ 74.3125 48.1875 68.609375 48.1875 \nQ 61.625 48.1875 57.5625 43.546875 \nQ 53.515625 38.921875 53.515625 30.90625 \nL 53.515625 0 \nL 44.484375 0 \nL 44.484375 32.71875 \nQ 44.484375 40.625 41.703125 44.40625 \nQ 38.921875 48.1875 33.109375 48.1875 \nQ 26.21875 48.1875 22.15625 43.53125 \nQ 18.109375 38.875 18.109375 30.90625 \nL 18.109375 0 \nL 9.078125 0 \nL 9.078125 54.6875 \nL 18.109375 54.6875 \nL 18.109375 46.1875 \nQ 21.1875 51.21875 25.484375 53.609375 \nQ 29.78125 56 35.6875 56 \nQ 41.65625 56 45.828125 52.96875 \nQ 50 49.953125 52 44.1875 \nz\n\" id=\"DejaVuSans-109\"/>\n      <path d=\"M 56.203125 29.59375 \nL 56.203125 25.203125 \nL 14.890625 25.203125 \nQ 15.484375 15.921875 20.484375 11.0625 \nQ 25.484375 6.203125 34.421875 6.203125 \nQ 39.59375 6.203125 44.453125 7.46875 \nQ 49.3125 8.734375 54.109375 11.28125 \nL 54.109375 2.78125 \nQ 49.265625 0.734375 44.1875 -0.34375 \nQ 39.109375 -1.421875 33.890625 -1.421875 \nQ 20.796875 -1.421875 13.15625 6.1875 \nQ 5.515625 13.8125 5.515625 26.8125 \nQ 5.515625 40.234375 12.765625 48.109375 \nQ 20.015625 56 32.328125 56 \nQ 43.359375 56 49.78125 48.890625 \nQ 56.203125 41.796875 56.203125 29.59375 \nz\nM 47.21875 32.234375 \nQ 47.125 39.59375 43.09375 43.984375 \nQ 39.0625 48.390625 32.421875 48.390625 \nQ 24.90625 48.390625 20.390625 44.140625 \nQ 15.875 39.890625 15.1875 32.171875 \nz\n\" id=\"DejaVuSans-101\"/>\n      <path d=\"M 45.40625 46.390625 \nL 45.40625 75.984375 \nL 54.390625 75.984375 \nL 54.390625 0 \nL 45.40625 0 \nL 45.40625 8.203125 \nQ 42.578125 3.328125 38.25 0.953125 \nQ 33.9375 -1.421875 27.875 -1.421875 \nQ 17.96875 -1.421875 11.734375 6.484375 \nQ 5.515625 14.40625 5.515625 27.296875 \nQ 5.515625 40.1875 11.734375 48.09375 \nQ 17.96875 56 27.875 56 \nQ 33.9375 56 38.25 53.625 \nQ 42.578125 51.265625 45.40625 46.390625 \nz\nM 14.796875 27.296875 \nQ 14.796875 17.390625 18.875 11.75 \nQ 22.953125 6.109375 30.078125 6.109375 \nQ 37.203125 6.109375 41.296875 11.75 \nQ 45.40625 17.390625 45.40625 27.296875 \nQ 45.40625 37.203125 41.296875 42.84375 \nQ 37.203125 48.484375 30.078125 48.484375 \nQ 22.953125 48.484375 18.875 42.84375 \nQ 14.796875 37.203125 14.796875 27.296875 \nz\n\" id=\"DejaVuSans-100\"/>\n     </defs>\n     <g transform=\"translate(14.798438 113.991146)rotate(-90)scale(0.1 -0.1)\">\n      <use xlink:href=\"#DejaVuSans-67\"/>\n      <use x=\"69.824219\" xlink:href=\"#DejaVuSans-111\"/>\n      <use x=\"131.005859\" xlink:href=\"#DejaVuSans-110\"/>\n      <use x=\"194.384766\" xlink:href=\"#DejaVuSans-102\"/>\n      <use x=\"229.589844\" xlink:href=\"#DejaVuSans-105\"/>\n      <use x=\"257.373047\" xlink:href=\"#DejaVuSans-114\"/>\n      <use x=\"296.736328\" xlink:href=\"#DejaVuSans-109\"/>\n      <use x=\"394.148438\" xlink:href=\"#DejaVuSans-101\"/>\n      <use x=\"455.671875\" xlink:href=\"#DejaVuSans-100\"/>\n     </g>\n    </g>\n   </g>\n   <g id=\"patch_3\">\n    <path d=\"M 66.053125 168.866667 \nL 66.053125 7.2 \n\" style=\"fill:none;stroke:#000000;stroke-linecap:square;stroke-linejoin:miter;stroke-width:0.8;\"/>\n   </g>\n   <g id=\"patch_4\">\n    <path d=\"M 66.053125 168.866667 \nL 215.365625 168.866667 \n\" style=\"fill:none;stroke:#000000;stroke-linecap:square;stroke-linejoin:miter;stroke-width:0.8;\"/>\n   </g>\n  </g>\n  <g id=\"axes_2\">\n   <g id=\"patch_5\">\n    <path d=\"M 237.428125 168.866667 \nL 386.740625 168.866667 \nL 386.740625 7.2 \nL 237.428125 7.2 \nz\n\" style=\"fill:#ffffff;\"/>\n   </g>\n   <g id=\"PathCollection_1\">\n    <defs>\n     <path d=\"M 0 3 \nC 0.795609 3 1.55874 2.683901 2.12132 2.12132 \nC 2.683901 1.55874 3 0.795609 3 0 \nC 3 -0.795609 2.683901 -1.55874 2.12132 -2.12132 \nC 1.55874 -2.683901 0.795609 -3 0 -3 \nC -0.795609 -3 -1.55874 -2.683901 -2.12132 -2.12132 \nC -2.683901 -1.55874 -3 -0.795609 -3 0 \nC -3 0.795609 -2.683901 1.55874 -2.12132 2.12132 \nC -1.55874 2.683901 -0.795609 3 0 3 \nz\n\" id=\"m4cfe51e939\" style=\"stroke:#ffffff;stroke-width:0.75;\"/>\n    </defs>\n    <g clip-path=\"url(#p9baccc0271)\">\n     <use style=\"fill:#1f77b4;stroke:#ffffff;stroke-width:0.75;\" x=\"244.215057\" xlink:href=\"#m4cfe51e939\" y=\"161.518182\"/>\n     <use style=\"fill:#1f77b4;stroke:#ffffff;stroke-width:0.75;\" x=\"244.215057\" xlink:href=\"#m4cfe51e939\" y=\"161.517641\"/>\n     <use style=\"fill:#1f77b4;stroke:#ffffff;stroke-width:0.75;\" x=\"244.215057\" xlink:href=\"#m4cfe51e939\" y=\"161.517641\"/>\n     <use style=\"fill:#1f77b4;stroke:#ffffff;stroke-width:0.75;\" x=\"244.215057\" xlink:href=\"#m4cfe51e939\" y=\"161.517641\"/>\n     <use style=\"fill:#1f77b4;stroke:#ffffff;stroke-width:0.75;\" x=\"244.215057\" xlink:href=\"#m4cfe51e939\" y=\"161.517101\"/>\n     <use style=\"fill:#1f77b4;stroke:#ffffff;stroke-width:0.75;\" x=\"244.215057\" xlink:href=\"#m4cfe51e939\" y=\"161.517101\"/>\n     <use style=\"fill:#1f77b4;stroke:#ffffff;stroke-width:0.75;\" x=\"244.215057\" xlink:href=\"#m4cfe51e939\" y=\"161.517101\"/>\n     <use style=\"fill:#1f77b4;stroke:#ffffff;stroke-width:0.75;\" x=\"244.215057\" xlink:href=\"#m4cfe51e939\" y=\"161.517101\"/>\n     <use style=\"fill:#1f77b4;stroke:#ffffff;stroke-width:0.75;\" x=\"244.215057\" xlink:href=\"#m4cfe51e939\" y=\"161.51602\"/>\n     <use style=\"fill:#1f77b4;stroke:#ffffff;stroke-width:0.75;\" x=\"244.215057\" xlink:href=\"#m4cfe51e939\" y=\"161.51602\"/>\n     <use style=\"fill:#1f77b4;stroke:#ffffff;stroke-width:0.75;\" x=\"244.215057\" xlink:href=\"#m4cfe51e939\" y=\"161.511155\"/>\n     <use style=\"fill:#1f77b4;stroke:#ffffff;stroke-width:0.75;\" x=\"244.215057\" xlink:href=\"#m4cfe51e939\" y=\"161.511155\"/>\n     <use style=\"fill:#1f77b4;stroke:#ffffff;stroke-width:0.75;\" x=\"244.215057\" xlink:href=\"#m4cfe51e939\" y=\"161.507371\"/>\n     <use style=\"fill:#1f77b4;stroke:#ffffff;stroke-width:0.75;\" x=\"244.215057\" xlink:href=\"#m4cfe51e939\" y=\"161.504668\"/>\n     <use style=\"fill:#1f77b4;stroke:#ffffff;stroke-width:0.75;\" x=\"244.215057\" xlink:href=\"#m4cfe51e939\" y=\"161.501425\"/>\n     <use style=\"fill:#1f77b4;stroke:#ffffff;stroke-width:0.75;\" x=\"244.215057\" xlink:href=\"#m4cfe51e939\" y=\"161.497641\"/>\n     <use style=\"fill:#1f77b4;stroke:#ffffff;stroke-width:0.75;\" x=\"244.215057\" xlink:href=\"#m4cfe51e939\" y=\"161.490073\"/>\n     <use style=\"fill:#1f77b4;stroke:#ffffff;stroke-width:0.75;\" x=\"244.215057\" xlink:href=\"#m4cfe51e939\" y=\"161.436558\"/>\n     <use style=\"fill:#1f77b4;stroke:#ffffff;stroke-width:0.75;\" x=\"244.215057\" xlink:href=\"#m4cfe51e939\" y=\"161.436558\"/>\n     <use style=\"fill:#1f77b4;stroke:#ffffff;stroke-width:0.75;\" x=\"244.215057\" xlink:href=\"#m4cfe51e939\" y=\"161.430611\"/>\n     <use style=\"fill:#1f77b4;stroke:#ffffff;stroke-width:0.75;\" x=\"244.215057\" xlink:href=\"#m4cfe51e939\" y=\"161.41007\"/>\n     <use style=\"fill:#1f77b4;stroke:#ffffff;stroke-width:0.75;\" x=\"244.222605\" xlink:href=\"#m4cfe51e939\" y=\"161.344663\"/>\n     <use style=\"fill:#1f77b4;stroke:#ffffff;stroke-width:0.75;\" x=\"244.237701\" xlink:href=\"#m4cfe51e939\" y=\"161.317094\"/>\n     <use style=\"fill:#1f77b4;stroke:#ffffff;stroke-width:0.75;\" x=\"244.260346\" xlink:href=\"#m4cfe51e939\" y=\"161.182495\"/>\n     <use style=\"fill:#1f77b4;stroke:#ffffff;stroke-width:0.75;\" x=\"244.298087\" xlink:href=\"#m4cfe51e939\" y=\"161.089519\"/>\n     <use style=\"fill:#1f77b4;stroke:#ffffff;stroke-width:0.75;\" x=\"244.328279\" xlink:href=\"#m4cfe51e939\" y=\"160.966272\"/>\n     <use style=\"fill:#1f77b4;stroke:#ffffff;stroke-width:0.75;\" x=\"244.403761\" xlink:href=\"#m4cfe51e939\" y=\"160.682479\"/>\n     <use style=\"fill:#1f77b4;stroke:#ffffff;stroke-width:0.75;\" x=\"244.471694\" xlink:href=\"#m4cfe51e939\" y=\"160.478148\"/>\n     <use style=\"fill:#1f77b4;stroke:#ffffff;stroke-width:0.75;\" x=\"244.562272\" xlink:href=\"#m4cfe51e939\" y=\"160.303547\"/>\n     <use style=\"fill:#1f77b4;stroke:#ffffff;stroke-width:0.75;\" x=\"244.660399\" xlink:href=\"#m4cfe51e939\" y=\"160.137596\"/>\n     <use style=\"fill:#1f77b4;stroke:#ffffff;stroke-width:0.75;\" x=\"244.796265\" xlink:href=\"#m4cfe51e939\" y=\"159.904615\"/>\n     <use style=\"fill:#1f77b4;stroke:#ffffff;stroke-width:0.75;\" x=\"244.909488\" xlink:href=\"#m4cfe51e939\" y=\"159.671094\"/>\n     <use style=\"fill:#1f77b4;stroke:#ffffff;stroke-width:0.75;\" x=\"245.052903\" xlink:href=\"#m4cfe51e939\" y=\"159.407842\"/>\n     <use style=\"fill:#1f77b4;stroke:#ffffff;stroke-width:0.75;\" x=\"245.241607\" xlink:href=\"#m4cfe51e939\" y=\"159.217566\"/>\n     <use style=\"fill:#1f77b4;stroke:#ffffff;stroke-width:0.75;\" x=\"245.415215\" xlink:href=\"#m4cfe51e939\" y=\"159.042965\"/>\n     <use style=\"fill:#1f77b4;stroke:#ffffff;stroke-width:0.75;\" x=\"245.732238\" xlink:href=\"#m4cfe51e939\" y=\"158.42781\"/>\n     <use style=\"fill:#1f77b4;stroke:#ffffff;stroke-width:0.75;\" x=\"246.026616\" xlink:href=\"#m4cfe51e939\" y=\"157.822925\"/>\n     <use style=\"fill:#1f77b4;stroke:#ffffff;stroke-width:0.75;\" x=\"246.660662\" xlink:href=\"#m4cfe51e939\" y=\"157.169931\"/>\n     <use style=\"fill:#1f77b4;stroke:#ffffff;stroke-width:0.75;\" x=\"246.924848\" xlink:href=\"#m4cfe51e939\" y=\"156.622886\"/>\n     <use style=\"fill:#1f77b4;stroke:#ffffff;stroke-width:0.75;\" x=\"247.57399\" xlink:href=\"#m4cfe51e939\" y=\"155.917998\"/>\n     <use style=\"fill:#1f77b4;stroke:#ffffff;stroke-width:0.75;\" x=\"247.883465\" xlink:href=\"#m4cfe51e939\" y=\"155.501768\"/>\n     <use style=\"fill:#1f77b4;stroke:#ffffff;stroke-width:0.75;\" x=\"248.472221\" xlink:href=\"#m4cfe51e939\" y=\"154.944452\"/>\n     <use style=\"fill:#1f77b4;stroke:#ffffff;stroke-width:0.75;\" x=\"249.393097\" xlink:href=\"#m4cfe51e939\" y=\"153.931986\"/>\n     <use style=\"fill:#1f77b4;stroke:#ffffff;stroke-width:0.75;\" x=\"250.397003\" xlink:href=\"#m4cfe51e939\" y=\"152.777354\"/>\n     <use style=\"fill:#1f77b4;stroke:#ffffff;stroke-width:0.75;\" x=\"251.385813\" xlink:href=\"#m4cfe51e939\" y=\"151.738401\"/>\n     <use style=\"fill:#1f77b4;stroke:#ffffff;stroke-width:0.75;\" x=\"252.193466\" xlink:href=\"#m4cfe51e939\" y=\"150.902698\"/>\n     <use style=\"fill:#1f77b4;stroke:#ffffff;stroke-width:0.75;\" x=\"252.699193\" xlink:href=\"#m4cfe51e939\" y=\"150.31403\"/>\n     <use style=\"fill:#1f77b4;stroke:#ffffff;stroke-width:0.75;\" x=\"253.446462\" xlink:href=\"#m4cfe51e939\" y=\"149.522112\"/>\n     <use style=\"fill:#1f77b4;stroke:#ffffff;stroke-width:0.75;\" x=\"254.239019\" xlink:href=\"#m4cfe51e939\" y=\"148.852901\"/>\n     <use style=\"fill:#1f77b4;stroke:#ffffff;stroke-width:0.75;\" x=\"255.778844\" xlink:href=\"#m4cfe51e939\" y=\"147.862598\"/>\n     <use style=\"fill:#1f77b4;stroke:#ffffff;stroke-width:0.75;\" x=\"257.31867\" xlink:href=\"#m4cfe51e939\" y=\"146.20957\"/>\n     <use style=\"fill:#1f77b4;stroke:#ffffff;stroke-width:0.75;\" x=\"258.737725\" xlink:href=\"#m4cfe51e939\" y=\"145.071695\"/>\n     <use style=\"fill:#1f77b4;stroke:#ffffff;stroke-width:0.75;\" x=\"260.375676\" xlink:href=\"#m4cfe51e939\" y=\"143.311097\"/>\n     <use style=\"fill:#1f77b4;stroke:#ffffff;stroke-width:0.75;\" x=\"261.983435\" xlink:href=\"#m4cfe51e939\" y=\"141.702395\"/>\n     <use style=\"fill:#1f77b4;stroke:#ffffff;stroke-width:0.75;\" x=\"262.798637\" xlink:href=\"#m4cfe51e939\" y=\"140.623441\"/>\n     <use style=\"fill:#1f77b4;stroke:#ffffff;stroke-width:0.75;\" x=\"263.742158\" xlink:href=\"#m4cfe51e939\" y=\"139.494214\"/>\n     <use style=\"fill:#1f77b4;stroke:#ffffff;stroke-width:0.75;\" x=\"264.904575\" xlink:href=\"#m4cfe51e939\" y=\"138.23147\"/>\n     <use style=\"fill:#1f77b4;stroke:#ffffff;stroke-width:0.75;\" x=\"266.150022\" xlink:href=\"#m4cfe51e939\" y=\"136.783855\"/>\n     <use style=\"fill:#1f77b4;stroke:#ffffff;stroke-width:0.75;\" x=\"269.357992\" xlink:href=\"#m4cfe51e939\" y=\"134.470806\"/>\n     <use style=\"fill:#1f77b4;stroke:#ffffff;stroke-width:0.75;\" x=\"272.173457\" xlink:href=\"#m4cfe51e939\" y=\"132.304789\"/>\n     <use style=\"fill:#1f77b4;stroke:#ffffff;stroke-width:0.75;\" x=\"274.837959\" xlink:href=\"#m4cfe51e939\" y=\"129.4501\"/>\n     <use style=\"fill:#1f77b4;stroke:#ffffff;stroke-width:0.75;\" x=\"276.566488\" xlink:href=\"#m4cfe51e939\" y=\"127.408952\"/>\n     <use style=\"fill:#1f77b4;stroke:#ffffff;stroke-width:0.75;\" x=\"278.959257\" xlink:href=\"#m4cfe51e939\" y=\"125.059686\"/>\n     <use style=\"fill:#1f77b4;stroke:#ffffff;stroke-width:0.75;\" x=\"282.582375\" xlink:href=\"#m4cfe51e939\" y=\"121.930394\"/>\n     <use style=\"fill:#1f77b4;stroke:#ffffff;stroke-width:0.75;\" x=\"285.828086\" xlink:href=\"#m4cfe51e939\" y=\"118.443793\"/>\n     <use style=\"fill:#1f77b4;stroke:#ffffff;stroke-width:0.75;\" x=\"289.549331\" xlink:href=\"#m4cfe51e939\" y=\"114.388524\"/>\n     <use style=\"fill:#1f77b4;stroke:#ffffff;stroke-width:0.75;\" x=\"292.613886\" xlink:href=\"#m4cfe51e939\" y=\"111.677624\"/>\n     <use style=\"fill:#1f77b4;stroke:#ffffff;stroke-width:0.75;\" x=\"295.248195\" xlink:href=\"#m4cfe51e939\" y=\"109.02997\"/>\n     <use style=\"fill:#1f77b4;stroke:#ffffff;stroke-width:0.75;\" x=\"297.437162\" xlink:href=\"#m4cfe51e939\" y=\"106.475291\"/>\n     <use style=\"fill:#1f77b4;stroke:#ffffff;stroke-width:0.75;\" x=\"299.822382\" xlink:href=\"#m4cfe51e939\" y=\"102.802738\"/>\n     <use style=\"fill:#1f77b4;stroke:#ffffff;stroke-width:0.75;\" x=\"304.132384\" xlink:href=\"#m4cfe51e939\" y=\"99.108022\"/>\n     <use style=\"fill:#1f77b4;stroke:#ffffff;stroke-width:0.75;\" x=\"309.038691\" xlink:href=\"#m4cfe51e939\" y=\"93.077553\"/>\n     <use style=\"fill:#1f77b4;stroke:#ffffff;stroke-width:0.75;\" x=\"313.582686\" xlink:href=\"#m4cfe51e939\" y=\"88.124958\"/>\n     <use style=\"fill:#1f77b4;stroke:#ffffff;stroke-width:0.75;\" x=\"319.825017\" xlink:href=\"#m4cfe51e939\" y=\"82.113409\"/>\n     <use style=\"fill:#1f77b4;stroke:#ffffff;stroke-width:0.75;\" x=\"324.648294\" xlink:href=\"#m4cfe51e939\" y=\"77.158111\"/>\n     <use style=\"fill:#1f77b4;stroke:#ffffff;stroke-width:0.75;\" x=\"328.173287\" xlink:href=\"#m4cfe51e939\" y=\"73.569885\"/>\n     <use style=\"fill:#1f77b4;stroke:#ffffff;stroke-width:0.75;\" x=\"332.173814\" xlink:href=\"#m4cfe51e939\" y=\"69.842735\"/>\n     <use style=\"fill:#1f77b4;stroke:#ffffff;stroke-width:0.75;\" x=\"338.272731\" xlink:href=\"#m4cfe51e939\" y=\"65.183123\"/>\n     <use style=\"fill:#1f77b4;stroke:#ffffff;stroke-width:0.75;\" x=\"344.15275\" xlink:href=\"#m4cfe51e939\" y=\"58.738046\"/>\n     <use style=\"fill:#1f77b4;stroke:#ffffff;stroke-width:0.75;\" x=\"349.881807\" xlink:href=\"#m4cfe51e939\" y=\"51.695652\"/>\n     <use style=\"fill:#1f77b4;stroke:#ffffff;stroke-width:0.75;\" x=\"357.150689\" xlink:href=\"#m4cfe51e939\" y=\"42.43805\"/>\n     <use style=\"fill:#1f77b4;stroke:#ffffff;stroke-width:0.75;\" x=\"362.434404\" xlink:href=\"#m4cfe51e939\" y=\"35.29187\"/>\n     <use style=\"fill:#1f77b4;stroke:#ffffff;stroke-width:0.75;\" x=\"365.876367\" xlink:href=\"#m4cfe51e939\" y=\"31.200384\"/>\n     <use style=\"fill:#1f77b4;stroke:#ffffff;stroke-width:0.75;\" x=\"371.424268\" xlink:href=\"#m4cfe51e939\" y=\"23.476887\"/>\n     <use style=\"fill:#1f77b4;stroke:#ffffff;stroke-width:0.75;\" x=\"379.953693\" xlink:href=\"#m4cfe51e939\" y=\"14.548485\"/>\n     <use style=\"fill:#1f77b4;stroke:#ffffff;stroke-width:0.75;\" x=\"244.788717\" xlink:href=\"#m4cfe51e939\" y=\"159.995429\"/>\n     <use style=\"fill:#1f77b4;stroke:#ffffff;stroke-width:0.75;\" x=\"246.109646\" xlink:href=\"#m4cfe51e939\" y=\"159.119725\"/>\n     <use style=\"fill:#1f77b4;stroke:#ffffff;stroke-width:0.75;\" x=\"245.286896\" xlink:href=\"#m4cfe51e939\" y=\"159.059182\"/>\n     <use style=\"fill:#1f77b4;stroke:#ffffff;stroke-width:0.75;\" x=\"255.997741\" xlink:href=\"#m4cfe51e939\" y=\"148.704788\"/>\n     <use style=\"fill:#1f77b4;stroke:#ffffff;stroke-width:0.75;\" x=\"246.947492\" xlink:href=\"#m4cfe51e939\" y=\"155.46555\"/>\n     <use style=\"fill:#1f77b4;stroke:#ffffff;stroke-width:0.75;\" x=\"258.556569\" xlink:href=\"#m4cfe51e939\" y=\"144.99872\"/>\n     <use style=\"fill:#1f77b4;stroke:#ffffff;stroke-width:0.75;\" x=\"244.796265\" xlink:href=\"#m4cfe51e939\" y=\"158.72836\"/>\n     <use style=\"fill:#1f77b4;stroke:#ffffff;stroke-width:0.75;\" x=\"246.788981\" xlink:href=\"#m4cfe51e939\" y=\"157.143984\"/>\n     <use style=\"fill:#1f77b4;stroke:#ffffff;stroke-width:0.75;\" x=\"244.803814\" xlink:href=\"#m4cfe51e939\" y=\"160.448957\"/>\n     <use style=\"fill:#1f77b4;stroke:#ffffff;stroke-width:0.75;\" x=\"249.000593\" xlink:href=\"#m4cfe51e939\" y=\"153.348183\"/>\n     <use style=\"fill:#1f77b4;stroke:#ffffff;stroke-width:0.75;\" x=\"244.456598\" xlink:href=\"#m4cfe51e939\" y=\"160.948433\"/>\n     <use style=\"fill:#1f77b4;stroke:#ffffff;stroke-width:0.75;\" x=\"244.343376\" xlink:href=\"#m4cfe51e939\" y=\"161.143575\"/>\n     <use style=\"fill:#1f77b4;stroke:#ffffff;stroke-width:0.75;\" x=\"245.551082\" xlink:href=\"#m4cfe51e939\" y=\"158.660791\"/>\n     <use style=\"fill:#1f77b4;stroke:#ffffff;stroke-width:0.75;\" x=\"256.541209\" xlink:href=\"#m4cfe51e939\" y=\"151.715157\"/>\n     <use style=\"fill:#1f77b4;stroke:#ffffff;stroke-width:0.75;\" x=\"245.951135\" xlink:href=\"#m4cfe51e939\" y=\"158.362402\"/>\n     <use style=\"fill:#1f77b4;stroke:#ffffff;stroke-width:0.75;\" x=\"245.249155\" xlink:href=\"#m4cfe51e939\" y=\"160.104081\"/>\n     <use style=\"fill:#1f77b4;stroke:#ffffff;stroke-width:0.75;\" x=\"258.05839\" xlink:href=\"#m4cfe51e939\" y=\"149.323186\"/>\n     <use style=\"fill:#1f77b4;stroke:#ffffff;stroke-width:0.75;\" x=\"244.871747\" xlink:href=\"#m4cfe51e939\" y=\"160.09273\"/>\n     <use style=\"fill:#1f77b4;stroke:#ffffff;stroke-width:0.75;\" x=\"245.498245\" xlink:href=\"#m4cfe51e939\" y=\"159.466222\"/>\n     <use style=\"fill:#1f77b4;stroke:#ffffff;stroke-width:0.75;\" x=\"245.430311\" xlink:href=\"#m4cfe51e939\" y=\"158.829985\"/>\n     <use style=\"fill:#1f77b4;stroke:#ffffff;stroke-width:0.75;\" x=\"268.648464\" xlink:href=\"#m4cfe51e939\" y=\"145.100345\"/>\n     <use style=\"fill:#1f77b4;stroke:#ffffff;stroke-width:0.75;\" x=\"244.894392\" xlink:href=\"#m4cfe51e939\" y=\"160.167327\"/>\n     <use style=\"fill:#1f77b4;stroke:#ffffff;stroke-width:0.75;\" x=\"244.698139\" xlink:href=\"#m4cfe51e939\" y=\"160.400848\"/>\n     <use style=\"fill:#1f77b4;stroke:#ffffff;stroke-width:0.75;\" x=\"244.924584\" xlink:href=\"#m4cfe51e939\" y=\"158.545652\"/>\n     <use style=\"fill:#1f77b4;stroke:#ffffff;stroke-width:0.75;\" x=\"284.695861\" xlink:href=\"#m4cfe51e939\" y=\"123.755319\"/>\n     <use style=\"fill:#1f77b4;stroke:#ffffff;stroke-width:0.75;\" x=\"244.73588\" xlink:href=\"#m4cfe51e939\" y=\"159.206214\"/>\n     <use style=\"fill:#1f77b4;stroke:#ffffff;stroke-width:0.75;\" x=\"244.53208\" xlink:href=\"#m4cfe51e939\" y=\"160.540312\"/>\n     <use style=\"fill:#1f77b4;stroke:#ffffff;stroke-width:0.75;\" x=\"244.215057\" xlink:href=\"#m4cfe51e939\" y=\"161.518182\"/>\n     <use style=\"fill:#1f77b4;stroke:#ffffff;stroke-width:0.75;\" x=\"244.803814\" xlink:href=\"#m4cfe51e939\" y=\"159.840829\"/>\n     <use style=\"fill:#1f77b4;stroke:#ffffff;stroke-width:0.75;\" x=\"246.192676\" xlink:href=\"#m4cfe51e939\" y=\"158.860797\"/>\n     <use style=\"fill:#1f77b4;stroke:#ffffff;stroke-width:0.75;\" x=\"245.35483\" xlink:href=\"#m4cfe51e939\" y=\"158.713765\"/>\n     <use style=\"fill:#1f77b4;stroke:#ffffff;stroke-width:0.75;\" x=\"256.443083\" xlink:href=\"#m4cfe51e939\" y=\"147.805839\"/>\n     <use style=\"fill:#1f77b4;stroke:#ffffff;stroke-width:0.75;\" x=\"247.053167\" xlink:href=\"#m4cfe51e939\" y=\"155.063375\"/>\n     <use style=\"fill:#1f77b4;stroke:#ffffff;stroke-width:0.75;\" x=\"260.52664\" xlink:href=\"#m4cfe51e939\" y=\"144.537624\"/>\n     <use style=\"fill:#1f77b4;stroke:#ffffff;stroke-width:0.75;\" x=\"244.849103\" xlink:href=\"#m4cfe51e939\" y=\"158.522408\"/>\n     <use style=\"fill:#1f77b4;stroke:#ffffff;stroke-width:0.75;\" x=\"246.95504\" xlink:href=\"#m4cfe51e939\" y=\"156.719105\"/>\n     <use style=\"fill:#1f77b4;stroke:#ffffff;stroke-width:0.75;\" x=\"244.856651\" xlink:href=\"#m4cfe51e939\" y=\"160.375442\"/>\n     <use style=\"fill:#1f77b4;stroke:#ffffff;stroke-width:0.75;\" x=\"249.21949\" xlink:href=\"#m4cfe51e939\" y=\"152.837896\"/>\n     <use style=\"fill:#1f77b4;stroke:#ffffff;stroke-width:0.75;\" x=\"244.471694\" xlink:href=\"#m4cfe51e939\" y=\"160.884647\"/>\n     <use style=\"fill:#1f77b4;stroke:#ffffff;stroke-width:0.75;\" x=\"244.343376\" xlink:href=\"#m4cfe51e939\" y=\"161.114925\"/>\n     <use style=\"fill:#1f77b4;stroke:#ffffff;stroke-width:0.75;\" x=\"245.656756\" xlink:href=\"#m4cfe51e939\" y=\"158.493217\"/>\n     <use style=\"fill:#1f77b4;stroke:#ffffff;stroke-width:0.75;\" x=\"258.194257\" xlink:href=\"#m4cfe51e939\" y=\"150.838912\"/>\n     <use style=\"fill:#1f77b4;stroke:#ffffff;stroke-width:0.75;\" x=\"246.064357\" xlink:href=\"#m4cfe51e939\" y=\"158.146179\"/>\n     <use style=\"fill:#1f77b4;stroke:#ffffff;stroke-width:0.75;\" x=\"245.279348\" xlink:href=\"#m4cfe51e939\" y=\"159.999213\"/>\n     <use style=\"fill:#1f77b4;stroke:#ffffff;stroke-width:0.75;\" x=\"258.745273\" xlink:href=\"#m4cfe51e939\" y=\"148.592892\"/>\n     <use style=\"fill:#1f77b4;stroke:#ffffff;stroke-width:0.75;\" x=\"244.90194\" xlink:href=\"#m4cfe51e939\" y=\"159.97651\"/>\n     <use style=\"fill:#1f77b4;stroke:#ffffff;stroke-width:0.75;\" x=\"245.55863\" xlink:href=\"#m4cfe51e939\" y=\"159.323515\"/>\n     <use style=\"fill:#1f77b4;stroke:#ffffff;stroke-width:0.75;\" x=\"245.468052\" xlink:href=\"#m4cfe51e939\" y=\"158.559706\"/>\n     <use style=\"fill:#1f77b4;stroke:#ffffff;stroke-width:0.75;\" x=\"269.969393\" xlink:href=\"#m4cfe51e939\" y=\"144.172206\"/>\n     <use style=\"fill:#1f77b4;stroke:#ffffff;stroke-width:0.75;\" x=\"244.977421\" xlink:href=\"#m4cfe51e939\" y=\"160.080837\"/>\n     <use style=\"fill:#1f77b4;stroke:#ffffff;stroke-width:0.75;\" x=\"244.758525\" xlink:href=\"#m4cfe51e939\" y=\"160.358144\"/>\n     <use style=\"fill:#1f77b4;stroke:#ffffff;stroke-width:0.75;\" x=\"244.954777\" xlink:href=\"#m4cfe51e939\" y=\"158.48565\"/>\n     <use style=\"fill:#1f77b4;stroke:#ffffff;stroke-width:0.75;\" x=\"286.167753\" xlink:href=\"#m4cfe51e939\" y=\"121.657952\"/>\n     <use style=\"fill:#1f77b4;stroke:#ffffff;stroke-width:0.75;\" x=\"244.788717\" xlink:href=\"#m4cfe51e939\" y=\"158.959179\"/>\n     <use style=\"fill:#1f77b4;stroke:#ffffff;stroke-width:0.75;\" x=\"244.569821\" xlink:href=\"#m4cfe51e939\" y=\"160.450039\"/>\n     <use style=\"fill:#1f77b4;stroke:#ffffff;stroke-width:0.75;\" x=\"244.215057\" xlink:href=\"#m4cfe51e939\" y=\"161.518182\"/>\n     <use style=\"fill:#1f77b4;stroke:#ffffff;stroke-width:0.75;\" x=\"244.81891\" xlink:href=\"#m4cfe51e939\" y=\"159.711095\"/>\n     <use style=\"fill:#1f77b4;stroke:#ffffff;stroke-width:0.75;\" x=\"246.328543\" xlink:href=\"#m4cfe51e939\" y=\"158.652142\"/>\n     <use style=\"fill:#1f77b4;stroke:#ffffff;stroke-width:0.75;\" x=\"245.400119\" xlink:href=\"#m4cfe51e939\" y=\"158.461325\"/>\n     <use style=\"fill:#1f77b4;stroke:#ffffff;stroke-width:0.75;\" x=\"256.812943\" xlink:href=\"#m4cfe51e939\" y=\"146.902566\"/>\n     <use style=\"fill:#1f77b4;stroke:#ffffff;stroke-width:0.75;\" x=\"247.226774\" xlink:href=\"#m4cfe51e939\" y=\"154.730391\"/>\n     <use style=\"fill:#1f77b4;stroke:#ffffff;stroke-width:0.75;\" x=\"261.205974\" xlink:href=\"#m4cfe51e939\" y=\"142.829459\"/>\n     <use style=\"fill:#1f77b4;stroke:#ffffff;stroke-width:0.75;\" x=\"244.894392\" xlink:href=\"#m4cfe51e939\" y=\"158.302941\"/>\n     <use style=\"fill:#1f77b4;stroke:#ffffff;stroke-width:0.75;\" x=\"247.211678\" xlink:href=\"#m4cfe51e939\" y=\"156.372067\"/>\n     <use style=\"fill:#1f77b4;stroke:#ffffff;stroke-width:0.75;\" x=\"244.917036\" xlink:href=\"#m4cfe51e939\" y=\"160.272735\"/>\n     <use style=\"fill:#1f77b4;stroke:#ffffff;stroke-width:0.75;\" x=\"249.445935\" xlink:href=\"#m4cfe51e939\" y=\"152.214092\"/>\n     <use style=\"fill:#1f77b4;stroke:#ffffff;stroke-width:0.75;\" x=\"244.494339\" xlink:href=\"#m4cfe51e939\" y=\"160.858701\"/>\n     <use style=\"fill:#1f77b4;stroke:#ffffff;stroke-width:0.75;\" x=\"244.343376\" xlink:href=\"#m4cfe51e939\" y=\"161.083032\"/>\n     <use style=\"fill:#1f77b4;stroke:#ffffff;stroke-width:0.75;\" x=\"245.732238\" xlink:href=\"#m4cfe51e939\" y=\"158.277535\"/>\n     <use style=\"fill:#1f77b4;stroke:#ffffff;stroke-width:0.75;\" x=\"258.835851\" xlink:href=\"#m4cfe51e939\" y=\"149.912935\"/>\n     <use style=\"fill:#1f77b4;stroke:#ffffff;stroke-width:0.75;\" x=\"246.087002\" xlink:href=\"#m4cfe51e939\" y=\"157.79806\"/>\n     <use style=\"fill:#1f77b4;stroke:#ffffff;stroke-width:0.75;\" x=\"245.317089\" xlink:href=\"#m4cfe51e939\" y=\"159.929481\"/>\n     <use style=\"fill:#1f77b4;stroke:#ffffff;stroke-width:0.75;\" x=\"259.741631\" xlink:href=\"#m4cfe51e939\" y=\"147.5934\"/>\n     <use style=\"fill:#1f77b4;stroke:#ffffff;stroke-width:0.75;\" x=\"244.917036\" xlink:href=\"#m4cfe51e939\" y=\"159.856506\"/>\n     <use style=\"fill:#1f77b4;stroke:#ffffff;stroke-width:0.75;\" x=\"245.581275\" xlink:href=\"#m4cfe51e939\" y=\"159.220268\"/>\n     <use style=\"fill:#1f77b4;stroke:#ffffff;stroke-width:0.75;\" x=\"245.513341\" xlink:href=\"#m4cfe51e939\" y=\"158.319158\"/>\n     <use style=\"fill:#1f77b4;stroke:#ffffff;stroke-width:0.75;\" x=\"271.818693\" xlink:href=\"#m4cfe51e939\" y=\"143.361369\"/>\n     <use style=\"fill:#1f77b4;stroke:#ffffff;stroke-width:0.75;\" x=\"245.015162\" xlink:href=\"#m4cfe51e939\" y=\"160.018673\"/>\n     <use style=\"fill:#1f77b4;stroke:#ffffff;stroke-width:0.75;\" x=\"244.841554\" xlink:href=\"#m4cfe51e939\" y=\"160.271654\"/>\n     <use style=\"fill:#1f77b4;stroke:#ffffff;stroke-width:0.75;\" x=\"244.969873\" xlink:href=\"#m4cfe51e939\" y=\"158.027256\"/>\n     <use style=\"fill:#1f77b4;stroke:#ffffff;stroke-width:0.75;\" x=\"287.790609\" xlink:href=\"#m4cfe51e939\" y=\"119.964924\"/>\n     <use style=\"fill:#1f77b4;stroke:#ffffff;stroke-width:0.75;\" x=\"244.834006\" xlink:href=\"#m4cfe51e939\" y=\"158.857554\"/>\n     <use style=\"fill:#1f77b4;stroke:#ffffff;stroke-width:0.75;\" x=\"244.584917\" xlink:href=\"#m4cfe51e939\" y=\"160.326251\"/>\n     <use style=\"fill:#1f77b4;stroke:#ffffff;stroke-width:0.75;\" x=\"244.215057\" xlink:href=\"#m4cfe51e939\" y=\"161.518182\"/>\n     <use style=\"fill:#1f77b4;stroke:#ffffff;stroke-width:0.75;\" x=\"244.871747\" xlink:href=\"#m4cfe51e939\" y=\"159.427843\"/>\n     <use style=\"fill:#1f77b4;stroke:#ffffff;stroke-width:0.75;\" x=\"246.487054\" xlink:href=\"#m4cfe51e939\" y=\"158.474839\"/>\n     <use style=\"fill:#1f77b4;stroke:#ffffff;stroke-width:0.75;\" x=\"245.437859\" xlink:href=\"#m4cfe51e939\" y=\"158.225641\"/>\n     <use style=\"fill:#1f77b4;stroke:#ffffff;stroke-width:0.75;\" x=\"257.379055\" xlink:href=\"#m4cfe51e939\" y=\"145.949021\"/>\n     <use style=\"fill:#1f77b4;stroke:#ffffff;stroke-width:0.75;\" x=\"247.332449\" xlink:href=\"#m4cfe51e939\" y=\"154.490924\"/>\n     <use style=\"fill:#1f77b4;stroke:#ffffff;stroke-width:0.75;\" x=\"261.63622\" xlink:href=\"#m4cfe51e939\" y=\"142.532693\"/>\n     <use style=\"fill:#1f77b4;stroke:#ffffff;stroke-width:0.75;\" x=\"244.932132\" xlink:href=\"#m4cfe51e939\" y=\"158.139152\"/>\n     <use style=\"fill:#1f77b4;stroke:#ffffff;stroke-width:0.75;\" x=\"247.362641\" xlink:href=\"#m4cfe51e939\" y=\"156.156924\"/>\n     <use style=\"fill:#1f77b4;stroke:#ffffff;stroke-width:0.75;\" x=\"244.932132\" xlink:href=\"#m4cfe51e939\" y=\"160.233275\"/>\n     <use style=\"fill:#1f77b4;stroke:#ffffff;stroke-width:0.75;\" x=\"249.664831\" xlink:href=\"#m4cfe51e939\" y=\"151.373524\"/>\n     <use style=\"fill:#1f77b4;stroke:#ffffff;stroke-width:0.75;\" x=\"244.494339\" xlink:href=\"#m4cfe51e939\" y=\"160.787347\"/>\n     <use style=\"fill:#1f77b4;stroke:#ffffff;stroke-width:0.75;\" x=\"244.343376\" xlink:href=\"#m4cfe51e939\" y=\"161.054383\"/>\n     <use style=\"fill:#1f77b4;stroke:#ffffff;stroke-width:0.75;\" x=\"245.853008\" xlink:href=\"#m4cfe51e939\" y=\"158.092123\"/>\n     <use style=\"fill:#1f77b4;stroke:#ffffff;stroke-width:0.75;\" x=\"259.318933\" xlink:href=\"#m4cfe51e939\" y=\"149.24913\"/>\n     <use style=\"fill:#1f77b4;stroke:#ffffff;stroke-width:0.75;\" x=\"246.162483\" xlink:href=\"#m4cfe51e939\" y=\"157.45967\"/>\n     <use style=\"fill:#1f77b4;stroke:#ffffff;stroke-width:0.75;\" x=\"245.347281\" xlink:href=\"#m4cfe51e939\" y=\"159.842992\"/>\n     <use style=\"fill:#1f77b4;stroke:#ffffff;stroke-width:0.75;\" x=\"260.398321\" xlink:href=\"#m4cfe51e939\" y=\"147.038787\"/>\n     <use style=\"fill:#1f77b4;stroke:#ffffff;stroke-width:0.75;\" x=\"244.962325\" xlink:href=\"#m4cfe51e939\" y=\"159.757043\"/>\n     <use style=\"fill:#1f77b4;stroke:#ffffff;stroke-width:0.75;\" x=\"245.603919\" xlink:href=\"#m4cfe51e939\" y=\"159.032154\"/>\n     <use style=\"fill:#1f77b4;stroke:#ffffff;stroke-width:0.75;\" x=\"245.543534\" xlink:href=\"#m4cfe51e939\" y=\"158.093204\"/>\n     <use style=\"fill:#1f77b4;stroke:#ffffff;stroke-width:0.75;\" x=\"273.690638\" xlink:href=\"#m4cfe51e939\" y=\"142.851082\"/>\n     <use style=\"fill:#1f77b4;stroke:#ffffff;stroke-width:0.75;\" x=\"245.083096\" xlink:href=\"#m4cfe51e939\" y=\"159.837586\"/>\n     <use style=\"fill:#1f77b4;stroke:#ffffff;stroke-width:0.75;\" x=\"244.826458\" xlink:href=\"#m4cfe51e939\" y=\"160.234896\"/>\n     <use style=\"fill:#1f77b4;stroke:#ffffff;stroke-width:0.75;\" x=\"244.992518\" xlink:href=\"#m4cfe51e939\" y=\"157.946713\"/>\n     <use style=\"fill:#1f77b4;stroke:#ffffff;stroke-width:0.75;\" x=\"289.843709\" xlink:href=\"#m4cfe51e939\" y=\"117.971885\"/>\n     <use style=\"fill:#1f77b4;stroke:#ffffff;stroke-width:0.75;\" x=\"244.864199\" xlink:href=\"#m4cfe51e939\" y=\"158.744577\"/>\n     <use style=\"fill:#1f77b4;stroke:#ffffff;stroke-width:0.75;\" x=\"244.600013\" xlink:href=\"#m4cfe51e939\" y=\"160.204625\"/>\n     <use style=\"fill:#1f77b4;stroke:#ffffff;stroke-width:0.75;\" x=\"244.215057\" xlink:href=\"#m4cfe51e939\" y=\"161.518182\"/>\n     <use style=\"fill:#1f77b4;stroke:#ffffff;stroke-width:0.75;\" x=\"244.909488\" xlink:href=\"#m4cfe51e939\" y=\"159.269459\"/>\n     <use style=\"fill:#1f77b4;stroke:#ffffff;stroke-width:0.75;\" x=\"246.600277\" xlink:href=\"#m4cfe51e939\" y=\"158.159152\"/>\n     <use style=\"fill:#1f77b4;stroke:#ffffff;stroke-width:0.75;\" x=\"245.445408\" xlink:href=\"#m4cfe51e939\" y=\"158.084015\"/>\n     <use style=\"fill:#1f77b4;stroke:#ffffff;stroke-width:0.75;\" x=\"257.484729\" xlink:href=\"#m4cfe51e939\" y=\"145.373327\"/>\n     <use style=\"fill:#1f77b4;stroke:#ffffff;stroke-width:0.75;\" x=\"247.687212\" xlink:href=\"#m4cfe51e939\" y=\"154.004962\"/>\n     <use style=\"fill:#1f77b4;stroke:#ffffff;stroke-width:0.75;\" x=\"261.75699\" xlink:href=\"#m4cfe51e939\" y=\"142.277009\"/>\n     <use style=\"fill:#1f77b4;stroke:#ffffff;stroke-width:0.75;\" x=\"245.000066\" xlink:href=\"#m4cfe51e939\" y=\"157.929956\"/>\n     <use style=\"fill:#1f77b4;stroke:#ffffff;stroke-width:0.75;\" x=\"247.581538\" xlink:href=\"#m4cfe51e939\" y=\"156.108815\"/>\n     <use style=\"fill:#1f77b4;stroke:#ffffff;stroke-width:0.75;\" x=\"244.932132\" xlink:href=\"#m4cfe51e939\" y=\"160.197598\"/>\n     <use style=\"fill:#1f77b4;stroke:#ffffff;stroke-width:0.75;\" x=\"249.906373\" xlink:href=\"#m4cfe51e939\" y=\"150.063211\"/>\n     <use style=\"fill:#1f77b4;stroke:#ffffff;stroke-width:0.75;\" x=\"244.516983\" xlink:href=\"#m4cfe51e939\" y=\"160.727886\"/>\n     <use style=\"fill:#1f77b4;stroke:#ffffff;stroke-width:0.75;\" x=\"244.343376\" xlink:href=\"#m4cfe51e939\" y=\"161.018706\"/>\n     <use style=\"fill:#1f77b4;stroke:#ffffff;stroke-width:0.75;\" x=\"245.920942\" xlink:href=\"#m4cfe51e939\" y=\"157.913739\"/>\n     <use style=\"fill:#1f77b4;stroke:#ffffff;stroke-width:0.75;\" x=\"260.428513\" xlink:href=\"#m4cfe51e939\" y=\"148.477213\"/>\n     <use style=\"fill:#1f77b4;stroke:#ffffff;stroke-width:0.75;\" x=\"246.268157\" xlink:href=\"#m4cfe51e939\" y=\"157.289394\"/>\n     <use style=\"fill:#1f77b4;stroke:#ffffff;stroke-width:0.75;\" x=\"245.369926\" xlink:href=\"#m4cfe51e939\" y=\"159.781909\"/>\n     <use style=\"fill:#1f77b4;stroke:#ffffff;stroke-width:0.75;\" x=\"260.821018\" xlink:href=\"#m4cfe51e939\" y=\"146.512824\"/>\n     <use style=\"fill:#1f77b4;stroke:#ffffff;stroke-width:0.75;\" x=\"245.02271\" xlink:href=\"#m4cfe51e939\" y=\"159.685689\"/>\n     <use style=\"fill:#1f77b4;stroke:#ffffff;stroke-width:0.75;\" x=\"245.72469\" xlink:href=\"#m4cfe51e939\" y=\"158.979179\"/>\n     <use style=\"fill:#1f77b4;stroke:#ffffff;stroke-width:0.75;\" x=\"245.573726\" xlink:href=\"#m4cfe51e939\" y=\"158.02077\"/>\n     <use style=\"fill:#1f77b4;stroke:#ffffff;stroke-width:0.75;\" x=\"274.354876\" xlink:href=\"#m4cfe51e939\" y=\"141.024535\"/>\n     <use style=\"fill:#1f77b4;stroke:#ffffff;stroke-width:0.75;\" x=\"245.128385\" xlink:href=\"#m4cfe51e939\" y=\"159.787855\"/>\n     <use style=\"fill:#1f77b4;stroke:#ffffff;stroke-width:0.75;\" x=\"244.849103\" xlink:href=\"#m4cfe51e939\" y=\"160.19976\"/>\n     <use style=\"fill:#1f77b4;stroke:#ffffff;stroke-width:0.75;\" x=\"245.007614\" xlink:href=\"#m4cfe51e939\" y=\"157.898603\"/>\n     <use style=\"fill:#1f77b4;stroke:#ffffff;stroke-width:0.75;\" x=\"290.734393\" xlink:href=\"#m4cfe51e939\" y=\"117.10537\"/>\n     <use style=\"fill:#1f77b4;stroke:#ffffff;stroke-width:0.75;\" x=\"244.917036\" xlink:href=\"#m4cfe51e939\" y=\"158.645655\"/>\n     <use style=\"fill:#1f77b4;stroke:#ffffff;stroke-width:0.75;\" x=\"244.607561\" xlink:href=\"#m4cfe51e939\" y=\"160.117595\"/>\n     <use style=\"fill:#1f77b4;stroke:#ffffff;stroke-width:0.75;\" x=\"244.215057\" xlink:href=\"#m4cfe51e939\" y=\"161.518182\"/>\n     <use style=\"fill:#1f77b4;stroke:#ffffff;stroke-width:0.75;\" x=\"244.947229\" xlink:href=\"#m4cfe51e939\" y=\"159.085129\"/>\n     <use style=\"fill:#1f77b4;stroke:#ffffff;stroke-width:0.75;\" x=\"246.758788\" xlink:href=\"#m4cfe51e939\" y=\"157.906171\"/>\n     <use style=\"fill:#1f77b4;stroke:#ffffff;stroke-width:0.75;\" x=\"245.483148\" xlink:href=\"#m4cfe51e939\" y=\"157.959146\"/>\n     <use style=\"fill:#1f77b4;stroke:#ffffff;stroke-width:0.75;\" x=\"257.658337\" xlink:href=\"#m4cfe51e939\" y=\"145.148995\"/>\n     <use style=\"fill:#1f77b4;stroke:#ffffff;stroke-width:0.75;\" x=\"247.815531\" xlink:href=\"#m4cfe51e939\" y=\"153.840092\"/>\n     <use style=\"fill:#1f77b4;stroke:#ffffff;stroke-width:0.75;\" x=\"263.03263\" xlink:href=\"#m4cfe51e939\" y=\"141.958079\"/>\n     <use style=\"fill:#1f77b4;stroke:#ffffff;stroke-width:0.75;\" x=\"245.075548\" xlink:href=\"#m4cfe51e939\" y=\"157.772113\"/>\n     <use style=\"fill:#1f77b4;stroke:#ffffff;stroke-width:0.75;\" x=\"247.724953\" xlink:href=\"#m4cfe51e939\" y=\"155.915295\"/>\n     <use style=\"fill:#1f77b4;stroke:#ffffff;stroke-width:0.75;\" x=\"244.939681\" xlink:href=\"#m4cfe51e939\" y=\"160.160299\"/>\n     <use style=\"fill:#1f77b4;stroke:#ffffff;stroke-width:0.75;\" x=\"250.132818\" xlink:href=\"#m4cfe51e939\" y=\"149.20102\"/>\n     <use style=\"fill:#1f77b4;stroke:#ffffff;stroke-width:0.75;\" x=\"244.524532\" xlink:href=\"#m4cfe51e939\" y=\"160.707344\"/>\n     <use style=\"fill:#1f77b4;stroke:#ffffff;stroke-width:0.75;\" x=\"244.343376\" xlink:href=\"#m4cfe51e939\" y=\"160.965191\"/>\n     <use style=\"fill:#1f77b4;stroke:#ffffff;stroke-width:0.75;\" x=\"245.951135\" xlink:href=\"#m4cfe51e939\" y=\"157.754815\"/>\n     <use style=\"fill:#1f77b4;stroke:#ffffff;stroke-width:0.75;\" x=\"262.119302\" xlink:href=\"#m4cfe51e939\" y=\"147.422043\"/>\n     <use style=\"fill:#1f77b4;stroke:#ffffff;stroke-width:0.75;\" x=\"246.320995\" xlink:href=\"#m4cfe51e939\" y=\"157.185066\"/>\n     <use style=\"fill:#1f77b4;stroke:#ffffff;stroke-width:0.75;\" x=\"245.39257\" xlink:href=\"#m4cfe51e939\" y=\"159.717582\"/>\n     <use style=\"fill:#1f77b4;stroke:#ffffff;stroke-width:0.75;\" x=\"261.18333\" xlink:href=\"#m4cfe51e939\" y=\"146.184705\"/>\n     <use style=\"fill:#1f77b4;stroke:#ffffff;stroke-width:0.75;\" x=\"245.045355\" xlink:href=\"#m4cfe51e939\" y=\"159.5992\"/>\n     <use style=\"fill:#1f77b4;stroke:#ffffff;stroke-width:0.75;\" x=\"245.792623\" xlink:href=\"#m4cfe51e939\" y=\"158.945665\"/>\n     <use style=\"fill:#1f77b4;stroke:#ffffff;stroke-width:0.75;\" x=\"245.702045\" xlink:href=\"#m4cfe51e939\" y=\"157.97266\"/>\n     <use style=\"fill:#1f77b4;stroke:#ffffff;stroke-width:0.75;\" x=\"275.200271\" xlink:href=\"#m4cfe51e939\" y=\"140.275321\"/>\n     <use style=\"fill:#1f77b4;stroke:#ffffff;stroke-width:0.75;\" x=\"245.128385\" xlink:href=\"#m4cfe51e939\" y=\"159.751637\"/>\n     <use style=\"fill:#1f77b4;stroke:#ffffff;stroke-width:0.75;\" x=\"244.864199\" xlink:href=\"#m4cfe51e939\" y=\"160.159218\"/>\n     <use style=\"fill:#1f77b4;stroke:#ffffff;stroke-width:0.75;\" x=\"245.037807\" xlink:href=\"#m4cfe51e939\" y=\"157.801843\"/>\n     <use style=\"fill:#1f77b4;stroke:#ffffff;stroke-width:0.75;\" x=\"291.164638\" xlink:href=\"#m4cfe51e939\" y=\"116.313993\"/>\n     <use style=\"fill:#1f77b4;stroke:#ffffff;stroke-width:0.75;\" x=\"244.992518\" xlink:href=\"#m4cfe51e939\" y=\"158.57322\"/>\n     <use style=\"fill:#1f77b4;stroke:#ffffff;stroke-width:0.75;\" x=\"244.65285\" xlink:href=\"#m4cfe51e939\" y=\"160.060837\"/>\n     <use style=\"fill:#1f77b4;stroke:#ffffff;stroke-width:0.75;\" x=\"244.215057\" xlink:href=\"#m4cfe51e939\" y=\"161.518182\"/>\n    </g>\n   </g>\n   <g id=\"matplotlib.axis_3\">\n    <g id=\"xtick_4\">\n     <g id=\"line2d_10\">\n      <g>\n       <use style=\"stroke:#000000;stroke-width:0.8;\" x=\"244.215057\" xlink:href=\"#mec91a7b632\" y=\"168.866667\"/>\n      </g>\n     </g>\n    </g>\n    <g id=\"xtick_5\">\n     <g id=\"line2d_11\">\n      <g>\n       <use style=\"stroke:#000000;stroke-width:0.8;\" x=\"281.955878\" xlink:href=\"#mec91a7b632\" y=\"168.866667\"/>\n      </g>\n     </g>\n    </g>\n    <g id=\"xtick_6\">\n     <g id=\"line2d_12\">\n      <g>\n       <use style=\"stroke:#000000;stroke-width:0.8;\" x=\"319.696699\" xlink:href=\"#mec91a7b632\" y=\"168.866667\"/>\n      </g>\n     </g>\n    </g>\n    <g id=\"xtick_7\">\n     <g id=\"line2d_13\">\n      <g>\n       <use style=\"stroke:#000000;stroke-width:0.8;\" x=\"357.437519\" xlink:href=\"#mec91a7b632\" y=\"168.866667\"/>\n      </g>\n     </g>\n    </g>\n   </g>\n   <g id=\"matplotlib.axis_4\">\n    <g id=\"ytick_7\">\n     <g id=\"line2d_14\">\n      <g>\n       <use style=\"stroke:#000000;stroke-width:0.8;\" x=\"237.428125\" xlink:href=\"#m1769ce0960\" y=\"161.518182\"/>\n      </g>\n     </g>\n    </g>\n    <g id=\"ytick_8\">\n     <g id=\"line2d_15\">\n      <g>\n       <use style=\"stroke:#000000;stroke-width:0.8;\" x=\"237.428125\" xlink:href=\"#m1769ce0960\" y=\"134.490266\"/>\n      </g>\n     </g>\n    </g>\n    <g id=\"ytick_9\">\n     <g id=\"line2d_16\">\n      <g>\n       <use style=\"stroke:#000000;stroke-width:0.8;\" x=\"237.428125\" xlink:href=\"#m1769ce0960\" y=\"107.462351\"/>\n      </g>\n     </g>\n    </g>\n    <g id=\"ytick_10\">\n     <g id=\"line2d_17\">\n      <g>\n       <use style=\"stroke:#000000;stroke-width:0.8;\" x=\"237.428125\" xlink:href=\"#m1769ce0960\" y=\"80.434435\"/>\n      </g>\n     </g>\n    </g>\n    <g id=\"ytick_11\">\n     <g id=\"line2d_18\">\n      <g>\n       <use style=\"stroke:#000000;stroke-width:0.8;\" x=\"237.428125\" xlink:href=\"#m1769ce0960\" y=\"53.406519\"/>\n      </g>\n     </g>\n    </g>\n    <g id=\"ytick_12\">\n     <g id=\"line2d_19\">\n      <g>\n       <use style=\"stroke:#000000;stroke-width:0.8;\" x=\"237.428125\" xlink:href=\"#m1769ce0960\" y=\"26.378604\"/>\n      </g>\n     </g>\n    </g>\n   </g>\n   <g id=\"patch_6\">\n    <path d=\"M 237.428125 168.866667 \nL 237.428125 7.2 \n\" style=\"fill:none;stroke:#000000;stroke-linecap:square;stroke-linejoin:miter;stroke-width:0.8;\"/>\n   </g>\n   <g id=\"patch_7\">\n    <path d=\"M 237.428125 168.866667 \nL 386.740625 168.866667 \n\" style=\"fill:none;stroke:#000000;stroke-linecap:square;stroke-linejoin:miter;stroke-width:0.8;\"/>\n   </g>\n  </g>\n  <g id=\"axes_3\">\n   <g id=\"patch_8\">\n    <path d=\"M 408.803125 168.866667 \nL 558.115625 168.866667 \nL 558.115625 7.2 \nL 408.803125 7.2 \nz\n\" style=\"fill:#ffffff;\"/>\n   </g>\n   <g id=\"PathCollection_2\">\n    <g clip-path=\"url(#p06b2576202)\">\n     <use style=\"fill:#1f77b4;stroke:#ffffff;stroke-width:0.75;\" x=\"415.590057\" xlink:href=\"#m4cfe51e939\" y=\"161.518182\"/>\n     <use style=\"fill:#1f77b4;stroke:#ffffff;stroke-width:0.75;\" x=\"415.590057\" xlink:href=\"#m4cfe51e939\" y=\"161.517641\"/>\n     <use style=\"fill:#1f77b4;stroke:#ffffff;stroke-width:0.75;\" x=\"415.590057\" xlink:href=\"#m4cfe51e939\" y=\"161.517641\"/>\n     <use style=\"fill:#1f77b4;stroke:#ffffff;stroke-width:0.75;\" x=\"415.590057\" xlink:href=\"#m4cfe51e939\" y=\"161.517641\"/>\n     <use style=\"fill:#1f77b4;stroke:#ffffff;stroke-width:0.75;\" x=\"415.590057\" xlink:href=\"#m4cfe51e939\" y=\"161.517101\"/>\n     <use style=\"fill:#1f77b4;stroke:#ffffff;stroke-width:0.75;\" x=\"415.590057\" xlink:href=\"#m4cfe51e939\" y=\"161.517101\"/>\n     <use style=\"fill:#1f77b4;stroke:#ffffff;stroke-width:0.75;\" x=\"415.590057\" xlink:href=\"#m4cfe51e939\" y=\"161.517101\"/>\n     <use style=\"fill:#1f77b4;stroke:#ffffff;stroke-width:0.75;\" x=\"415.590057\" xlink:href=\"#m4cfe51e939\" y=\"161.517101\"/>\n     <use style=\"fill:#1f77b4;stroke:#ffffff;stroke-width:0.75;\" x=\"415.590057\" xlink:href=\"#m4cfe51e939\" y=\"161.51602\"/>\n     <use style=\"fill:#1f77b4;stroke:#ffffff;stroke-width:0.75;\" x=\"415.590057\" xlink:href=\"#m4cfe51e939\" y=\"161.51602\"/>\n     <use style=\"fill:#1f77b4;stroke:#ffffff;stroke-width:0.75;\" x=\"415.590057\" xlink:href=\"#m4cfe51e939\" y=\"161.511155\"/>\n     <use style=\"fill:#1f77b4;stroke:#ffffff;stroke-width:0.75;\" x=\"415.590057\" xlink:href=\"#m4cfe51e939\" y=\"161.511155\"/>\n     <use style=\"fill:#1f77b4;stroke:#ffffff;stroke-width:0.75;\" x=\"415.590057\" xlink:href=\"#m4cfe51e939\" y=\"161.507371\"/>\n     <use style=\"fill:#1f77b4;stroke:#ffffff;stroke-width:0.75;\" x=\"415.590057\" xlink:href=\"#m4cfe51e939\" y=\"161.504668\"/>\n     <use style=\"fill:#1f77b4;stroke:#ffffff;stroke-width:0.75;\" x=\"415.590057\" xlink:href=\"#m4cfe51e939\" y=\"161.501425\"/>\n     <use style=\"fill:#1f77b4;stroke:#ffffff;stroke-width:0.75;\" x=\"415.590057\" xlink:href=\"#m4cfe51e939\" y=\"161.497641\"/>\n     <use style=\"fill:#1f77b4;stroke:#ffffff;stroke-width:0.75;\" x=\"415.590057\" xlink:href=\"#m4cfe51e939\" y=\"161.490073\"/>\n     <use style=\"fill:#1f77b4;stroke:#ffffff;stroke-width:0.75;\" x=\"415.590057\" xlink:href=\"#m4cfe51e939\" y=\"161.436558\"/>\n     <use style=\"fill:#1f77b4;stroke:#ffffff;stroke-width:0.75;\" x=\"415.590057\" xlink:href=\"#m4cfe51e939\" y=\"161.436558\"/>\n     <use style=\"fill:#1f77b4;stroke:#ffffff;stroke-width:0.75;\" x=\"415.590057\" xlink:href=\"#m4cfe51e939\" y=\"161.430611\"/>\n     <use style=\"fill:#1f77b4;stroke:#ffffff;stroke-width:0.75;\" x=\"415.590939\" xlink:href=\"#m4cfe51e939\" y=\"161.41007\"/>\n     <use style=\"fill:#1f77b4;stroke:#ffffff;stroke-width:0.75;\" x=\"415.591822\" xlink:href=\"#m4cfe51e939\" y=\"161.344663\"/>\n     <use style=\"fill:#1f77b4;stroke:#ffffff;stroke-width:0.75;\" x=\"415.591822\" xlink:href=\"#m4cfe51e939\" y=\"161.317094\"/>\n     <use style=\"fill:#1f77b4;stroke:#ffffff;stroke-width:0.75;\" x=\"415.591822\" xlink:href=\"#m4cfe51e939\" y=\"161.182495\"/>\n     <use style=\"fill:#1f77b4;stroke:#ffffff;stroke-width:0.75;\" x=\"415.591822\" xlink:href=\"#m4cfe51e939\" y=\"161.089519\"/>\n     <use style=\"fill:#1f77b4;stroke:#ffffff;stroke-width:0.75;\" x=\"415.591822\" xlink:href=\"#m4cfe51e939\" y=\"160.966272\"/>\n     <use style=\"fill:#1f77b4;stroke:#ffffff;stroke-width:0.75;\" x=\"415.591822\" xlink:href=\"#m4cfe51e939\" y=\"160.682479\"/>\n     <use style=\"fill:#1f77b4;stroke:#ffffff;stroke-width:0.75;\" x=\"415.591822\" xlink:href=\"#m4cfe51e939\" y=\"160.478148\"/>\n     <use style=\"fill:#1f77b4;stroke:#ffffff;stroke-width:0.75;\" x=\"415.591822\" xlink:href=\"#m4cfe51e939\" y=\"160.303547\"/>\n     <use style=\"fill:#1f77b4;stroke:#ffffff;stroke-width:0.75;\" x=\"415.591822\" xlink:href=\"#m4cfe51e939\" y=\"160.137596\"/>\n     <use style=\"fill:#1f77b4;stroke:#ffffff;stroke-width:0.75;\" x=\"415.595351\" xlink:href=\"#m4cfe51e939\" y=\"159.904615\"/>\n     <use style=\"fill:#1f77b4;stroke:#ffffff;stroke-width:0.75;\" x=\"415.595351\" xlink:href=\"#m4cfe51e939\" y=\"159.671094\"/>\n     <use style=\"fill:#1f77b4;stroke:#ffffff;stroke-width:0.75;\" x=\"415.595351\" xlink:href=\"#m4cfe51e939\" y=\"159.407842\"/>\n     <use style=\"fill:#1f77b4;stroke:#ffffff;stroke-width:0.75;\" x=\"415.595351\" xlink:href=\"#m4cfe51e939\" y=\"159.217566\"/>\n     <use style=\"fill:#1f77b4;stroke:#ffffff;stroke-width:0.75;\" x=\"415.695942\" xlink:href=\"#m4cfe51e939\" y=\"159.042965\"/>\n     <use style=\"fill:#1f77b4;stroke:#ffffff;stroke-width:0.75;\" x=\"415.702119\" xlink:href=\"#m4cfe51e939\" y=\"158.42781\"/>\n     <use style=\"fill:#1f77b4;stroke:#ffffff;stroke-width:0.75;\" x=\"415.702119\" xlink:href=\"#m4cfe51e939\" y=\"157.822925\"/>\n     <use style=\"fill:#1f77b4;stroke:#ffffff;stroke-width:0.75;\" x=\"415.702119\" xlink:href=\"#m4cfe51e939\" y=\"157.169931\"/>\n     <use style=\"fill:#1f77b4;stroke:#ffffff;stroke-width:0.75;\" x=\"415.702119\" xlink:href=\"#m4cfe51e939\" y=\"156.622886\"/>\n     <use style=\"fill:#1f77b4;stroke:#ffffff;stroke-width:0.75;\" x=\"415.702119\" xlink:href=\"#m4cfe51e939\" y=\"155.917998\"/>\n     <use style=\"fill:#1f77b4;stroke:#ffffff;stroke-width:0.75;\" x=\"415.702119\" xlink:href=\"#m4cfe51e939\" y=\"155.501768\"/>\n     <use style=\"fill:#1f77b4;stroke:#ffffff;stroke-width:0.75;\" x=\"415.702119\" xlink:href=\"#m4cfe51e939\" y=\"154.944452\"/>\n     <use style=\"fill:#1f77b4;stroke:#ffffff;stroke-width:0.75;\" x=\"415.702119\" xlink:href=\"#m4cfe51e939\" y=\"153.931986\"/>\n     <use style=\"fill:#1f77b4;stroke:#ffffff;stroke-width:0.75;\" x=\"415.702119\" xlink:href=\"#m4cfe51e939\" y=\"152.777354\"/>\n     <use style=\"fill:#1f77b4;stroke:#ffffff;stroke-width:0.75;\" x=\"415.742708\" xlink:href=\"#m4cfe51e939\" y=\"151.738401\"/>\n     <use style=\"fill:#1f77b4;stroke:#ffffff;stroke-width:0.75;\" x=\"415.742708\" xlink:href=\"#m4cfe51e939\" y=\"150.902698\"/>\n     <use style=\"fill:#1f77b4;stroke:#ffffff;stroke-width:0.75;\" x=\"415.742708\" xlink:href=\"#m4cfe51e939\" y=\"150.31403\"/>\n     <use style=\"fill:#1f77b4;stroke:#ffffff;stroke-width:0.75;\" x=\"415.742708\" xlink:href=\"#m4cfe51e939\" y=\"149.522112\"/>\n     <use style=\"fill:#1f77b4;stroke:#ffffff;stroke-width:0.75;\" x=\"415.742708\" xlink:href=\"#m4cfe51e939\" y=\"148.852901\"/>\n     <use style=\"fill:#1f77b4;stroke:#ffffff;stroke-width:0.75;\" x=\"418.277776\" xlink:href=\"#m4cfe51e939\" y=\"147.862598\"/>\n     <use style=\"fill:#1f77b4;stroke:#ffffff;stroke-width:0.75;\" x=\"427.966271\" xlink:href=\"#m4cfe51e939\" y=\"146.20957\"/>\n     <use style=\"fill:#1f77b4;stroke:#ffffff;stroke-width:0.75;\" x=\"427.966271\" xlink:href=\"#m4cfe51e939\" y=\"145.071695\"/>\n     <use style=\"fill:#1f77b4;stroke:#ffffff;stroke-width:0.75;\" x=\"427.966271\" xlink:href=\"#m4cfe51e939\" y=\"143.311097\"/>\n     <use style=\"fill:#1f77b4;stroke:#ffffff;stroke-width:0.75;\" x=\"427.966271\" xlink:href=\"#m4cfe51e939\" y=\"141.702395\"/>\n     <use style=\"fill:#1f77b4;stroke:#ffffff;stroke-width:0.75;\" x=\"435.117051\" xlink:href=\"#m4cfe51e939\" y=\"140.623441\"/>\n     <use style=\"fill:#1f77b4;stroke:#ffffff;stroke-width:0.75;\" x=\"435.117051\" xlink:href=\"#m4cfe51e939\" y=\"139.494214\"/>\n     <use style=\"fill:#1f77b4;stroke:#ffffff;stroke-width:0.75;\" x=\"435.876777\" xlink:href=\"#m4cfe51e939\" y=\"138.23147\"/>\n     <use style=\"fill:#1f77b4;stroke:#ffffff;stroke-width:0.75;\" x=\"437.930067\" xlink:href=\"#m4cfe51e939\" y=\"136.783855\"/>\n     <use style=\"fill:#1f77b4;stroke:#ffffff;stroke-width:0.75;\" x=\"439.03745\" xlink:href=\"#m4cfe51e939\" y=\"134.470806\"/>\n     <use style=\"fill:#1f77b4;stroke:#ffffff;stroke-width:0.75;\" x=\"439.992181\" xlink:href=\"#m4cfe51e939\" y=\"132.304789\"/>\n     <use style=\"fill:#1f77b4;stroke:#ffffff;stroke-width:0.75;\" x=\"441.320158\" xlink:href=\"#m4cfe51e939\" y=\"129.4501\"/>\n     <use style=\"fill:#1f77b4;stroke:#ffffff;stroke-width:0.75;\" x=\"442.195475\" xlink:href=\"#m4cfe51e939\" y=\"127.408952\"/>\n     <use style=\"fill:#1f77b4;stroke:#ffffff;stroke-width:0.75;\" x=\"443.069028\" xlink:href=\"#m4cfe51e939\" y=\"125.059686\"/>\n     <use style=\"fill:#1f77b4;stroke:#ffffff;stroke-width:0.75;\" x=\"444.30612\" xlink:href=\"#m4cfe51e939\" y=\"121.930394\"/>\n     <use style=\"fill:#1f77b4;stroke:#ffffff;stroke-width:0.75;\" x=\"445.707334\" xlink:href=\"#m4cfe51e939\" y=\"118.443793\"/>\n     <use style=\"fill:#1f77b4;stroke:#ffffff;stroke-width:0.75;\" x=\"447.298259\" xlink:href=\"#m4cfe51e939\" y=\"114.388524\"/>\n     <use style=\"fill:#1f77b4;stroke:#ffffff;stroke-width:0.75;\" x=\"449.15478\" xlink:href=\"#m4cfe51e939\" y=\"111.677624\"/>\n     <use style=\"fill:#1f77b4;stroke:#ffffff;stroke-width:0.75;\" x=\"451.711907\" xlink:href=\"#m4cfe51e939\" y=\"109.02997\"/>\n     <use style=\"fill:#1f77b4;stroke:#ffffff;stroke-width:0.75;\" x=\"453.524308\" xlink:href=\"#m4cfe51e939\" y=\"106.475291\"/>\n     <use style=\"fill:#1f77b4;stroke:#ffffff;stroke-width:0.75;\" x=\"456.01614\" xlink:href=\"#m4cfe51e939\" y=\"102.802738\"/>\n     <use style=\"fill:#1f77b4;stroke:#ffffff;stroke-width:0.75;\" x=\"458.139138\" xlink:href=\"#m4cfe51e939\" y=\"99.108022\"/>\n     <use style=\"fill:#1f77b4;stroke:#ffffff;stroke-width:0.75;\" x=\"460.917742\" xlink:href=\"#m4cfe51e939\" y=\"93.077553\"/>\n     <use style=\"fill:#1f77b4;stroke:#ffffff;stroke-width:0.75;\" x=\"464.4296\" xlink:href=\"#m4cfe51e939\" y=\"88.124958\"/>\n     <use style=\"fill:#1f77b4;stroke:#ffffff;stroke-width:0.75;\" x=\"467.912341\" xlink:href=\"#m4cfe51e939\" y=\"82.113409\"/>\n     <use style=\"fill:#1f77b4;stroke:#ffffff;stroke-width:0.75;\" x=\"470.019456\" xlink:href=\"#m4cfe51e939\" y=\"77.158111\"/>\n     <use style=\"fill:#1f77b4;stroke:#ffffff;stroke-width:0.75;\" x=\"472.906592\" xlink:href=\"#m4cfe51e939\" y=\"73.569885\"/>\n     <use style=\"fill:#1f77b4;stroke:#ffffff;stroke-width:0.75;\" x=\"475.04812\" xlink:href=\"#m4cfe51e939\" y=\"69.842735\"/>\n     <use style=\"fill:#1f77b4;stroke:#ffffff;stroke-width:0.75;\" x=\"479.647949\" xlink:href=\"#m4cfe51e939\" y=\"65.183123\"/>\n     <use style=\"fill:#1f77b4;stroke:#ffffff;stroke-width:0.75;\" x=\"484.789558\" xlink:href=\"#m4cfe51e939\" y=\"58.738046\"/>\n     <use style=\"fill:#1f77b4;stroke:#ffffff;stroke-width:0.75;\" x=\"485.720465\" xlink:href=\"#m4cfe51e939\" y=\"51.695652\"/>\n     <use style=\"fill:#1f77b4;stroke:#ffffff;stroke-width:0.75;\" x=\"490.565595\" xlink:href=\"#m4cfe51e939\" y=\"42.43805\"/>\n     <use style=\"fill:#1f77b4;stroke:#ffffff;stroke-width:0.75;\" x=\"494.714529\" xlink:href=\"#m4cfe51e939\" y=\"35.29187\"/>\n     <use style=\"fill:#1f77b4;stroke:#ffffff;stroke-width:0.75;\" x=\"498.641105\" xlink:href=\"#m4cfe51e939\" y=\"31.200384\"/>\n     <use style=\"fill:#1f77b4;stroke:#ffffff;stroke-width:0.75;\" x=\"504.232726\" xlink:href=\"#m4cfe51e939\" y=\"23.476887\"/>\n     <use style=\"fill:#1f77b4;stroke:#ffffff;stroke-width:0.75;\" x=\"509.822581\" xlink:href=\"#m4cfe51e939\" y=\"14.548485\"/>\n     <use style=\"fill:#1f77b4;stroke:#ffffff;stroke-width:0.75;\" x=\"415.590057\" xlink:href=\"#m4cfe51e939\" y=\"159.995429\"/>\n     <use style=\"fill:#1f77b4;stroke:#ffffff;stroke-width:0.75;\" x=\"415.590057\" xlink:href=\"#m4cfe51e939\" y=\"159.119725\"/>\n     <use style=\"fill:#1f77b4;stroke:#ffffff;stroke-width:0.75;\" x=\"415.590057\" xlink:href=\"#m4cfe51e939\" y=\"159.059182\"/>\n     <use style=\"fill:#1f77b4;stroke:#ffffff;stroke-width:0.75;\" x=\"415.590057\" xlink:href=\"#m4cfe51e939\" y=\"148.704788\"/>\n     <use style=\"fill:#1f77b4;stroke:#ffffff;stroke-width:0.75;\" x=\"415.590057\" xlink:href=\"#m4cfe51e939\" y=\"155.46555\"/>\n     <use style=\"fill:#1f77b4;stroke:#ffffff;stroke-width:0.75;\" x=\"415.590057\" xlink:href=\"#m4cfe51e939\" y=\"144.99872\"/>\n     <use style=\"fill:#1f77b4;stroke:#ffffff;stroke-width:0.75;\" x=\"415.590057\" xlink:href=\"#m4cfe51e939\" y=\"158.72836\"/>\n     <use style=\"fill:#1f77b4;stroke:#ffffff;stroke-width:0.75;\" x=\"415.590057\" xlink:href=\"#m4cfe51e939\" y=\"157.143984\"/>\n     <use style=\"fill:#1f77b4;stroke:#ffffff;stroke-width:0.75;\" x=\"415.590057\" xlink:href=\"#m4cfe51e939\" y=\"160.448957\"/>\n     <use style=\"fill:#1f77b4;stroke:#ffffff;stroke-width:0.75;\" x=\"415.590057\" xlink:href=\"#m4cfe51e939\" y=\"153.348183\"/>\n     <use style=\"fill:#1f77b4;stroke:#ffffff;stroke-width:0.75;\" x=\"415.590057\" xlink:href=\"#m4cfe51e939\" y=\"160.948433\"/>\n     <use style=\"fill:#1f77b4;stroke:#ffffff;stroke-width:0.75;\" x=\"415.590057\" xlink:href=\"#m4cfe51e939\" y=\"161.143575\"/>\n     <use style=\"fill:#1f77b4;stroke:#ffffff;stroke-width:0.75;\" x=\"415.590057\" xlink:href=\"#m4cfe51e939\" y=\"158.660791\"/>\n     <use style=\"fill:#1f77b4;stroke:#ffffff;stroke-width:0.75;\" x=\"415.590057\" xlink:href=\"#m4cfe51e939\" y=\"151.715157\"/>\n     <use style=\"fill:#1f77b4;stroke:#ffffff;stroke-width:0.75;\" x=\"415.590057\" xlink:href=\"#m4cfe51e939\" y=\"158.362402\"/>\n     <use style=\"fill:#1f77b4;stroke:#ffffff;stroke-width:0.75;\" x=\"415.590057\" xlink:href=\"#m4cfe51e939\" y=\"160.104081\"/>\n     <use style=\"fill:#1f77b4;stroke:#ffffff;stroke-width:0.75;\" x=\"415.590057\" xlink:href=\"#m4cfe51e939\" y=\"149.323186\"/>\n     <use style=\"fill:#1f77b4;stroke:#ffffff;stroke-width:0.75;\" x=\"415.590057\" xlink:href=\"#m4cfe51e939\" y=\"160.09273\"/>\n     <use style=\"fill:#1f77b4;stroke:#ffffff;stroke-width:0.75;\" x=\"415.590057\" xlink:href=\"#m4cfe51e939\" y=\"159.466222\"/>\n     <use style=\"fill:#1f77b4;stroke:#ffffff;stroke-width:0.75;\" x=\"415.590057\" xlink:href=\"#m4cfe51e939\" y=\"158.829985\"/>\n     <use style=\"fill:#1f77b4;stroke:#ffffff;stroke-width:0.75;\" x=\"415.590057\" xlink:href=\"#m4cfe51e939\" y=\"145.100345\"/>\n     <use style=\"fill:#1f77b4;stroke:#ffffff;stroke-width:0.75;\" x=\"415.590057\" xlink:href=\"#m4cfe51e939\" y=\"160.167327\"/>\n     <use style=\"fill:#1f77b4;stroke:#ffffff;stroke-width:0.75;\" x=\"415.590057\" xlink:href=\"#m4cfe51e939\" y=\"160.400848\"/>\n     <use style=\"fill:#1f77b4;stroke:#ffffff;stroke-width:0.75;\" x=\"415.590057\" xlink:href=\"#m4cfe51e939\" y=\"158.545652\"/>\n     <use style=\"fill:#1f77b4;stroke:#ffffff;stroke-width:0.75;\" x=\"415.590057\" xlink:href=\"#m4cfe51e939\" y=\"123.755319\"/>\n     <use style=\"fill:#1f77b4;stroke:#ffffff;stroke-width:0.75;\" x=\"415.590057\" xlink:href=\"#m4cfe51e939\" y=\"159.206214\"/>\n     <use style=\"fill:#1f77b4;stroke:#ffffff;stroke-width:0.75;\" x=\"415.590057\" xlink:href=\"#m4cfe51e939\" y=\"160.540312\"/>\n     <use style=\"fill:#1f77b4;stroke:#ffffff;stroke-width:0.75;\" x=\"518.548403\" xlink:href=\"#m4cfe51e939\" y=\"161.518182\"/>\n     <use style=\"fill:#1f77b4;stroke:#ffffff;stroke-width:0.75;\" x=\"415.590057\" xlink:href=\"#m4cfe51e939\" y=\"159.840829\"/>\n     <use style=\"fill:#1f77b4;stroke:#ffffff;stroke-width:0.75;\" x=\"415.590057\" xlink:href=\"#m4cfe51e939\" y=\"158.860797\"/>\n     <use style=\"fill:#1f77b4;stroke:#ffffff;stroke-width:0.75;\" x=\"415.590057\" xlink:href=\"#m4cfe51e939\" y=\"158.713765\"/>\n     <use style=\"fill:#1f77b4;stroke:#ffffff;stroke-width:0.75;\" x=\"415.590057\" xlink:href=\"#m4cfe51e939\" y=\"147.805839\"/>\n     <use style=\"fill:#1f77b4;stroke:#ffffff;stroke-width:0.75;\" x=\"415.590057\" xlink:href=\"#m4cfe51e939\" y=\"155.063375\"/>\n     <use style=\"fill:#1f77b4;stroke:#ffffff;stroke-width:0.75;\" x=\"415.590057\" xlink:href=\"#m4cfe51e939\" y=\"144.537624\"/>\n     <use style=\"fill:#1f77b4;stroke:#ffffff;stroke-width:0.75;\" x=\"415.590057\" xlink:href=\"#m4cfe51e939\" y=\"158.522408\"/>\n     <use style=\"fill:#1f77b4;stroke:#ffffff;stroke-width:0.75;\" x=\"415.590057\" xlink:href=\"#m4cfe51e939\" y=\"156.719105\"/>\n     <use style=\"fill:#1f77b4;stroke:#ffffff;stroke-width:0.75;\" x=\"415.590057\" xlink:href=\"#m4cfe51e939\" y=\"160.375442\"/>\n     <use style=\"fill:#1f77b4;stroke:#ffffff;stroke-width:0.75;\" x=\"415.590057\" xlink:href=\"#m4cfe51e939\" y=\"152.837896\"/>\n     <use style=\"fill:#1f77b4;stroke:#ffffff;stroke-width:0.75;\" x=\"415.590057\" xlink:href=\"#m4cfe51e939\" y=\"160.884647\"/>\n     <use style=\"fill:#1f77b4;stroke:#ffffff;stroke-width:0.75;\" x=\"415.590057\" xlink:href=\"#m4cfe51e939\" y=\"161.114925\"/>\n     <use style=\"fill:#1f77b4;stroke:#ffffff;stroke-width:0.75;\" x=\"415.590057\" xlink:href=\"#m4cfe51e939\" y=\"158.493217\"/>\n     <use style=\"fill:#1f77b4;stroke:#ffffff;stroke-width:0.75;\" x=\"415.590057\" xlink:href=\"#m4cfe51e939\" y=\"150.838912\"/>\n     <use style=\"fill:#1f77b4;stroke:#ffffff;stroke-width:0.75;\" x=\"415.590057\" xlink:href=\"#m4cfe51e939\" y=\"158.146179\"/>\n     <use style=\"fill:#1f77b4;stroke:#ffffff;stroke-width:0.75;\" x=\"415.590057\" xlink:href=\"#m4cfe51e939\" y=\"159.999213\"/>\n     <use style=\"fill:#1f77b4;stroke:#ffffff;stroke-width:0.75;\" x=\"415.590057\" xlink:href=\"#m4cfe51e939\" y=\"148.592892\"/>\n     <use style=\"fill:#1f77b4;stroke:#ffffff;stroke-width:0.75;\" x=\"415.590057\" xlink:href=\"#m4cfe51e939\" y=\"159.97651\"/>\n     <use style=\"fill:#1f77b4;stroke:#ffffff;stroke-width:0.75;\" x=\"415.590057\" xlink:href=\"#m4cfe51e939\" y=\"159.323515\"/>\n     <use style=\"fill:#1f77b4;stroke:#ffffff;stroke-width:0.75;\" x=\"415.590057\" xlink:href=\"#m4cfe51e939\" y=\"158.559706\"/>\n     <use style=\"fill:#1f77b4;stroke:#ffffff;stroke-width:0.75;\" x=\"415.590057\" xlink:href=\"#m4cfe51e939\" y=\"144.172206\"/>\n     <use style=\"fill:#1f77b4;stroke:#ffffff;stroke-width:0.75;\" x=\"415.590057\" xlink:href=\"#m4cfe51e939\" y=\"160.080837\"/>\n     <use style=\"fill:#1f77b4;stroke:#ffffff;stroke-width:0.75;\" x=\"415.590057\" xlink:href=\"#m4cfe51e939\" y=\"160.358144\"/>\n     <use style=\"fill:#1f77b4;stroke:#ffffff;stroke-width:0.75;\" x=\"415.590057\" xlink:href=\"#m4cfe51e939\" y=\"158.48565\"/>\n     <use style=\"fill:#1f77b4;stroke:#ffffff;stroke-width:0.75;\" x=\"415.590057\" xlink:href=\"#m4cfe51e939\" y=\"121.657952\"/>\n     <use style=\"fill:#1f77b4;stroke:#ffffff;stroke-width:0.75;\" x=\"415.590057\" xlink:href=\"#m4cfe51e939\" y=\"158.959179\"/>\n     <use style=\"fill:#1f77b4;stroke:#ffffff;stroke-width:0.75;\" x=\"415.590057\" xlink:href=\"#m4cfe51e939\" y=\"160.450039\"/>\n     <use style=\"fill:#1f77b4;stroke:#ffffff;stroke-width:0.75;\" x=\"526.734211\" xlink:href=\"#m4cfe51e939\" y=\"161.518182\"/>\n     <use style=\"fill:#1f77b4;stroke:#ffffff;stroke-width:0.75;\" x=\"415.590057\" xlink:href=\"#m4cfe51e939\" y=\"159.711095\"/>\n     <use style=\"fill:#1f77b4;stroke:#ffffff;stroke-width:0.75;\" x=\"415.590057\" xlink:href=\"#m4cfe51e939\" y=\"158.652142\"/>\n     <use style=\"fill:#1f77b4;stroke:#ffffff;stroke-width:0.75;\" x=\"415.590057\" xlink:href=\"#m4cfe51e939\" y=\"158.461325\"/>\n     <use style=\"fill:#1f77b4;stroke:#ffffff;stroke-width:0.75;\" x=\"415.590057\" xlink:href=\"#m4cfe51e939\" y=\"146.902566\"/>\n     <use style=\"fill:#1f77b4;stroke:#ffffff;stroke-width:0.75;\" x=\"415.590057\" xlink:href=\"#m4cfe51e939\" y=\"154.730391\"/>\n     <use style=\"fill:#1f77b4;stroke:#ffffff;stroke-width:0.75;\" x=\"415.590057\" xlink:href=\"#m4cfe51e939\" y=\"142.829459\"/>\n     <use style=\"fill:#1f77b4;stroke:#ffffff;stroke-width:0.75;\" x=\"415.590057\" xlink:href=\"#m4cfe51e939\" y=\"158.302941\"/>\n     <use style=\"fill:#1f77b4;stroke:#ffffff;stroke-width:0.75;\" x=\"415.590057\" xlink:href=\"#m4cfe51e939\" y=\"156.372067\"/>\n     <use style=\"fill:#1f77b4;stroke:#ffffff;stroke-width:0.75;\" x=\"415.590057\" xlink:href=\"#m4cfe51e939\" y=\"160.272735\"/>\n     <use style=\"fill:#1f77b4;stroke:#ffffff;stroke-width:0.75;\" x=\"415.590057\" xlink:href=\"#m4cfe51e939\" y=\"152.214092\"/>\n     <use style=\"fill:#1f77b4;stroke:#ffffff;stroke-width:0.75;\" x=\"415.590057\" xlink:href=\"#m4cfe51e939\" y=\"160.858701\"/>\n     <use style=\"fill:#1f77b4;stroke:#ffffff;stroke-width:0.75;\" x=\"415.590057\" xlink:href=\"#m4cfe51e939\" y=\"161.083032\"/>\n     <use style=\"fill:#1f77b4;stroke:#ffffff;stroke-width:0.75;\" x=\"415.590057\" xlink:href=\"#m4cfe51e939\" y=\"158.277535\"/>\n     <use style=\"fill:#1f77b4;stroke:#ffffff;stroke-width:0.75;\" x=\"415.590057\" xlink:href=\"#m4cfe51e939\" y=\"149.912935\"/>\n     <use style=\"fill:#1f77b4;stroke:#ffffff;stroke-width:0.75;\" x=\"415.590057\" xlink:href=\"#m4cfe51e939\" y=\"157.79806\"/>\n     <use style=\"fill:#1f77b4;stroke:#ffffff;stroke-width:0.75;\" x=\"415.590057\" xlink:href=\"#m4cfe51e939\" y=\"159.929481\"/>\n     <use style=\"fill:#1f77b4;stroke:#ffffff;stroke-width:0.75;\" x=\"415.590057\" xlink:href=\"#m4cfe51e939\" y=\"147.5934\"/>\n     <use style=\"fill:#1f77b4;stroke:#ffffff;stroke-width:0.75;\" x=\"415.590057\" xlink:href=\"#m4cfe51e939\" y=\"159.856506\"/>\n     <use style=\"fill:#1f77b4;stroke:#ffffff;stroke-width:0.75;\" x=\"415.590057\" xlink:href=\"#m4cfe51e939\" y=\"159.220268\"/>\n     <use style=\"fill:#1f77b4;stroke:#ffffff;stroke-width:0.75;\" x=\"415.590057\" xlink:href=\"#m4cfe51e939\" y=\"158.319158\"/>\n     <use style=\"fill:#1f77b4;stroke:#ffffff;stroke-width:0.75;\" x=\"415.590057\" xlink:href=\"#m4cfe51e939\" y=\"143.361369\"/>\n     <use style=\"fill:#1f77b4;stroke:#ffffff;stroke-width:0.75;\" x=\"415.590057\" xlink:href=\"#m4cfe51e939\" y=\"160.018673\"/>\n     <use style=\"fill:#1f77b4;stroke:#ffffff;stroke-width:0.75;\" x=\"415.590057\" xlink:href=\"#m4cfe51e939\" y=\"160.271654\"/>\n     <use style=\"fill:#1f77b4;stroke:#ffffff;stroke-width:0.75;\" x=\"415.590057\" xlink:href=\"#m4cfe51e939\" y=\"158.027256\"/>\n     <use style=\"fill:#1f77b4;stroke:#ffffff;stroke-width:0.75;\" x=\"415.590057\" xlink:href=\"#m4cfe51e939\" y=\"119.964924\"/>\n     <use style=\"fill:#1f77b4;stroke:#ffffff;stroke-width:0.75;\" x=\"415.590057\" xlink:href=\"#m4cfe51e939\" y=\"158.857554\"/>\n     <use style=\"fill:#1f77b4;stroke:#ffffff;stroke-width:0.75;\" x=\"415.590057\" xlink:href=\"#m4cfe51e939\" y=\"160.326251\"/>\n     <use style=\"fill:#1f77b4;stroke:#ffffff;stroke-width:0.75;\" x=\"535.090317\" xlink:href=\"#m4cfe51e939\" y=\"161.518182\"/>\n     <use style=\"fill:#1f77b4;stroke:#ffffff;stroke-width:0.75;\" x=\"415.590057\" xlink:href=\"#m4cfe51e939\" y=\"159.427843\"/>\n     <use style=\"fill:#1f77b4;stroke:#ffffff;stroke-width:0.75;\" x=\"415.590057\" xlink:href=\"#m4cfe51e939\" y=\"158.474839\"/>\n     <use style=\"fill:#1f77b4;stroke:#ffffff;stroke-width:0.75;\" x=\"415.590057\" xlink:href=\"#m4cfe51e939\" y=\"158.225641\"/>\n     <use style=\"fill:#1f77b4;stroke:#ffffff;stroke-width:0.75;\" x=\"415.590057\" xlink:href=\"#m4cfe51e939\" y=\"145.949021\"/>\n     <use style=\"fill:#1f77b4;stroke:#ffffff;stroke-width:0.75;\" x=\"415.590057\" xlink:href=\"#m4cfe51e939\" y=\"154.490924\"/>\n     <use style=\"fill:#1f77b4;stroke:#ffffff;stroke-width:0.75;\" x=\"415.590057\" xlink:href=\"#m4cfe51e939\" y=\"142.532693\"/>\n     <use style=\"fill:#1f77b4;stroke:#ffffff;stroke-width:0.75;\" x=\"415.590057\" xlink:href=\"#m4cfe51e939\" y=\"158.139152\"/>\n     <use style=\"fill:#1f77b4;stroke:#ffffff;stroke-width:0.75;\" x=\"415.590057\" xlink:href=\"#m4cfe51e939\" y=\"156.156924\"/>\n     <use style=\"fill:#1f77b4;stroke:#ffffff;stroke-width:0.75;\" x=\"415.590057\" xlink:href=\"#m4cfe51e939\" y=\"160.233275\"/>\n     <use style=\"fill:#1f77b4;stroke:#ffffff;stroke-width:0.75;\" x=\"415.590057\" xlink:href=\"#m4cfe51e939\" y=\"151.373524\"/>\n     <use style=\"fill:#1f77b4;stroke:#ffffff;stroke-width:0.75;\" x=\"415.590057\" xlink:href=\"#m4cfe51e939\" y=\"160.787347\"/>\n     <use style=\"fill:#1f77b4;stroke:#ffffff;stroke-width:0.75;\" x=\"415.590057\" xlink:href=\"#m4cfe51e939\" y=\"161.054383\"/>\n     <use style=\"fill:#1f77b4;stroke:#ffffff;stroke-width:0.75;\" x=\"415.590057\" xlink:href=\"#m4cfe51e939\" y=\"158.092123\"/>\n     <use style=\"fill:#1f77b4;stroke:#ffffff;stroke-width:0.75;\" x=\"415.590057\" xlink:href=\"#m4cfe51e939\" y=\"149.24913\"/>\n     <use style=\"fill:#1f77b4;stroke:#ffffff;stroke-width:0.75;\" x=\"415.590057\" xlink:href=\"#m4cfe51e939\" y=\"157.45967\"/>\n     <use style=\"fill:#1f77b4;stroke:#ffffff;stroke-width:0.75;\" x=\"415.590057\" xlink:href=\"#m4cfe51e939\" y=\"159.842992\"/>\n     <use style=\"fill:#1f77b4;stroke:#ffffff;stroke-width:0.75;\" x=\"415.590057\" xlink:href=\"#m4cfe51e939\" y=\"147.038787\"/>\n     <use style=\"fill:#1f77b4;stroke:#ffffff;stroke-width:0.75;\" x=\"415.590057\" xlink:href=\"#m4cfe51e939\" y=\"159.757043\"/>\n     <use style=\"fill:#1f77b4;stroke:#ffffff;stroke-width:0.75;\" x=\"415.590057\" xlink:href=\"#m4cfe51e939\" y=\"159.032154\"/>\n     <use style=\"fill:#1f77b4;stroke:#ffffff;stroke-width:0.75;\" x=\"415.590057\" xlink:href=\"#m4cfe51e939\" y=\"158.093204\"/>\n     <use style=\"fill:#1f77b4;stroke:#ffffff;stroke-width:0.75;\" x=\"415.590057\" xlink:href=\"#m4cfe51e939\" y=\"142.851082\"/>\n     <use style=\"fill:#1f77b4;stroke:#ffffff;stroke-width:0.75;\" x=\"415.590057\" xlink:href=\"#m4cfe51e939\" y=\"159.837586\"/>\n     <use style=\"fill:#1f77b4;stroke:#ffffff;stroke-width:0.75;\" x=\"415.590057\" xlink:href=\"#m4cfe51e939\" y=\"160.234896\"/>\n     <use style=\"fill:#1f77b4;stroke:#ffffff;stroke-width:0.75;\" x=\"415.590057\" xlink:href=\"#m4cfe51e939\" y=\"157.946713\"/>\n     <use style=\"fill:#1f77b4;stroke:#ffffff;stroke-width:0.75;\" x=\"415.590057\" xlink:href=\"#m4cfe51e939\" y=\"117.971885\"/>\n     <use style=\"fill:#1f77b4;stroke:#ffffff;stroke-width:0.75;\" x=\"415.590057\" xlink:href=\"#m4cfe51e939\" y=\"158.744577\"/>\n     <use style=\"fill:#1f77b4;stroke:#ffffff;stroke-width:0.75;\" x=\"415.590057\" xlink:href=\"#m4cfe51e939\" y=\"160.204625\"/>\n     <use style=\"fill:#1f77b4;stroke:#ffffff;stroke-width:0.75;\" x=\"541.405486\" xlink:href=\"#m4cfe51e939\" y=\"161.518182\"/>\n     <use style=\"fill:#1f77b4;stroke:#ffffff;stroke-width:0.75;\" x=\"415.590057\" xlink:href=\"#m4cfe51e939\" y=\"159.269459\"/>\n     <use style=\"fill:#1f77b4;stroke:#ffffff;stroke-width:0.75;\" x=\"415.590057\" xlink:href=\"#m4cfe51e939\" y=\"158.159152\"/>\n     <use style=\"fill:#1f77b4;stroke:#ffffff;stroke-width:0.75;\" x=\"415.590057\" xlink:href=\"#m4cfe51e939\" y=\"158.084015\"/>\n     <use style=\"fill:#1f77b4;stroke:#ffffff;stroke-width:0.75;\" x=\"415.590057\" xlink:href=\"#m4cfe51e939\" y=\"145.373327\"/>\n     <use style=\"fill:#1f77b4;stroke:#ffffff;stroke-width:0.75;\" x=\"415.590057\" xlink:href=\"#m4cfe51e939\" y=\"154.004962\"/>\n     <use style=\"fill:#1f77b4;stroke:#ffffff;stroke-width:0.75;\" x=\"415.590057\" xlink:href=\"#m4cfe51e939\" y=\"142.277009\"/>\n     <use style=\"fill:#1f77b4;stroke:#ffffff;stroke-width:0.75;\" x=\"415.590057\" xlink:href=\"#m4cfe51e939\" y=\"157.929956\"/>\n     <use style=\"fill:#1f77b4;stroke:#ffffff;stroke-width:0.75;\" x=\"415.590057\" xlink:href=\"#m4cfe51e939\" y=\"156.108815\"/>\n     <use style=\"fill:#1f77b4;stroke:#ffffff;stroke-width:0.75;\" x=\"415.590057\" xlink:href=\"#m4cfe51e939\" y=\"160.197598\"/>\n     <use style=\"fill:#1f77b4;stroke:#ffffff;stroke-width:0.75;\" x=\"415.590057\" xlink:href=\"#m4cfe51e939\" y=\"150.063211\"/>\n     <use style=\"fill:#1f77b4;stroke:#ffffff;stroke-width:0.75;\" x=\"415.590057\" xlink:href=\"#m4cfe51e939\" y=\"160.727886\"/>\n     <use style=\"fill:#1f77b4;stroke:#ffffff;stroke-width:0.75;\" x=\"415.590057\" xlink:href=\"#m4cfe51e939\" y=\"161.018706\"/>\n     <use style=\"fill:#1f77b4;stroke:#ffffff;stroke-width:0.75;\" x=\"415.590057\" xlink:href=\"#m4cfe51e939\" y=\"157.913739\"/>\n     <use style=\"fill:#1f77b4;stroke:#ffffff;stroke-width:0.75;\" x=\"415.590057\" xlink:href=\"#m4cfe51e939\" y=\"148.477213\"/>\n     <use style=\"fill:#1f77b4;stroke:#ffffff;stroke-width:0.75;\" x=\"415.590057\" xlink:href=\"#m4cfe51e939\" y=\"157.289394\"/>\n     <use style=\"fill:#1f77b4;stroke:#ffffff;stroke-width:0.75;\" x=\"415.590057\" xlink:href=\"#m4cfe51e939\" y=\"159.781909\"/>\n     <use style=\"fill:#1f77b4;stroke:#ffffff;stroke-width:0.75;\" x=\"415.590057\" xlink:href=\"#m4cfe51e939\" y=\"146.512824\"/>\n     <use style=\"fill:#1f77b4;stroke:#ffffff;stroke-width:0.75;\" x=\"415.590057\" xlink:href=\"#m4cfe51e939\" y=\"159.685689\"/>\n     <use style=\"fill:#1f77b4;stroke:#ffffff;stroke-width:0.75;\" x=\"415.590057\" xlink:href=\"#m4cfe51e939\" y=\"158.979179\"/>\n     <use style=\"fill:#1f77b4;stroke:#ffffff;stroke-width:0.75;\" x=\"415.590057\" xlink:href=\"#m4cfe51e939\" y=\"158.02077\"/>\n     <use style=\"fill:#1f77b4;stroke:#ffffff;stroke-width:0.75;\" x=\"415.590057\" xlink:href=\"#m4cfe51e939\" y=\"141.024535\"/>\n     <use style=\"fill:#1f77b4;stroke:#ffffff;stroke-width:0.75;\" x=\"415.590057\" xlink:href=\"#m4cfe51e939\" y=\"159.787855\"/>\n     <use style=\"fill:#1f77b4;stroke:#ffffff;stroke-width:0.75;\" x=\"415.590057\" xlink:href=\"#m4cfe51e939\" y=\"160.19976\"/>\n     <use style=\"fill:#1f77b4;stroke:#ffffff;stroke-width:0.75;\" x=\"415.590057\" xlink:href=\"#m4cfe51e939\" y=\"157.898603\"/>\n     <use style=\"fill:#1f77b4;stroke:#ffffff;stroke-width:0.75;\" x=\"415.590057\" xlink:href=\"#m4cfe51e939\" y=\"117.10537\"/>\n     <use style=\"fill:#1f77b4;stroke:#ffffff;stroke-width:0.75;\" x=\"415.590057\" xlink:href=\"#m4cfe51e939\" y=\"158.645655\"/>\n     <use style=\"fill:#1f77b4;stroke:#ffffff;stroke-width:0.75;\" x=\"415.590057\" xlink:href=\"#m4cfe51e939\" y=\"160.117595\"/>\n     <use style=\"fill:#1f77b4;stroke:#ffffff;stroke-width:0.75;\" x=\"547.868012\" xlink:href=\"#m4cfe51e939\" y=\"161.518182\"/>\n     <use style=\"fill:#1f77b4;stroke:#ffffff;stroke-width:0.75;\" x=\"415.590057\" xlink:href=\"#m4cfe51e939\" y=\"159.085129\"/>\n     <use style=\"fill:#1f77b4;stroke:#ffffff;stroke-width:0.75;\" x=\"415.590057\" xlink:href=\"#m4cfe51e939\" y=\"157.906171\"/>\n     <use style=\"fill:#1f77b4;stroke:#ffffff;stroke-width:0.75;\" x=\"415.590057\" xlink:href=\"#m4cfe51e939\" y=\"157.959146\"/>\n     <use style=\"fill:#1f77b4;stroke:#ffffff;stroke-width:0.75;\" x=\"415.590057\" xlink:href=\"#m4cfe51e939\" y=\"145.148995\"/>\n     <use style=\"fill:#1f77b4;stroke:#ffffff;stroke-width:0.75;\" x=\"415.590057\" xlink:href=\"#m4cfe51e939\" y=\"153.840092\"/>\n     <use style=\"fill:#1f77b4;stroke:#ffffff;stroke-width:0.75;\" x=\"415.590057\" xlink:href=\"#m4cfe51e939\" y=\"141.958079\"/>\n     <use style=\"fill:#1f77b4;stroke:#ffffff;stroke-width:0.75;\" x=\"415.590057\" xlink:href=\"#m4cfe51e939\" y=\"157.772113\"/>\n     <use style=\"fill:#1f77b4;stroke:#ffffff;stroke-width:0.75;\" x=\"415.590057\" xlink:href=\"#m4cfe51e939\" y=\"155.915295\"/>\n     <use style=\"fill:#1f77b4;stroke:#ffffff;stroke-width:0.75;\" x=\"415.590057\" xlink:href=\"#m4cfe51e939\" y=\"160.160299\"/>\n     <use style=\"fill:#1f77b4;stroke:#ffffff;stroke-width:0.75;\" x=\"415.590057\" xlink:href=\"#m4cfe51e939\" y=\"149.20102\"/>\n     <use style=\"fill:#1f77b4;stroke:#ffffff;stroke-width:0.75;\" x=\"415.590057\" xlink:href=\"#m4cfe51e939\" y=\"160.707344\"/>\n     <use style=\"fill:#1f77b4;stroke:#ffffff;stroke-width:0.75;\" x=\"415.590057\" xlink:href=\"#m4cfe51e939\" y=\"160.965191\"/>\n     <use style=\"fill:#1f77b4;stroke:#ffffff;stroke-width:0.75;\" x=\"415.590057\" xlink:href=\"#m4cfe51e939\" y=\"157.754815\"/>\n     <use style=\"fill:#1f77b4;stroke:#ffffff;stroke-width:0.75;\" x=\"415.590057\" xlink:href=\"#m4cfe51e939\" y=\"147.422043\"/>\n     <use style=\"fill:#1f77b4;stroke:#ffffff;stroke-width:0.75;\" x=\"415.590057\" xlink:href=\"#m4cfe51e939\" y=\"157.185066\"/>\n     <use style=\"fill:#1f77b4;stroke:#ffffff;stroke-width:0.75;\" x=\"415.590057\" xlink:href=\"#m4cfe51e939\" y=\"159.717582\"/>\n     <use style=\"fill:#1f77b4;stroke:#ffffff;stroke-width:0.75;\" x=\"415.590057\" xlink:href=\"#m4cfe51e939\" y=\"146.184705\"/>\n     <use style=\"fill:#1f77b4;stroke:#ffffff;stroke-width:0.75;\" x=\"415.590057\" xlink:href=\"#m4cfe51e939\" y=\"159.5992\"/>\n     <use style=\"fill:#1f77b4;stroke:#ffffff;stroke-width:0.75;\" x=\"415.590057\" xlink:href=\"#m4cfe51e939\" y=\"158.945665\"/>\n     <use style=\"fill:#1f77b4;stroke:#ffffff;stroke-width:0.75;\" x=\"415.590057\" xlink:href=\"#m4cfe51e939\" y=\"157.97266\"/>\n     <use style=\"fill:#1f77b4;stroke:#ffffff;stroke-width:0.75;\" x=\"415.590057\" xlink:href=\"#m4cfe51e939\" y=\"140.275321\"/>\n     <use style=\"fill:#1f77b4;stroke:#ffffff;stroke-width:0.75;\" x=\"415.590057\" xlink:href=\"#m4cfe51e939\" y=\"159.751637\"/>\n     <use style=\"fill:#1f77b4;stroke:#ffffff;stroke-width:0.75;\" x=\"415.590057\" xlink:href=\"#m4cfe51e939\" y=\"160.159218\"/>\n     <use style=\"fill:#1f77b4;stroke:#ffffff;stroke-width:0.75;\" x=\"415.590057\" xlink:href=\"#m4cfe51e939\" y=\"157.801843\"/>\n     <use style=\"fill:#1f77b4;stroke:#ffffff;stroke-width:0.75;\" x=\"415.590057\" xlink:href=\"#m4cfe51e939\" y=\"116.313993\"/>\n     <use style=\"fill:#1f77b4;stroke:#ffffff;stroke-width:0.75;\" x=\"415.590057\" xlink:href=\"#m4cfe51e939\" y=\"158.57322\"/>\n     <use style=\"fill:#1f77b4;stroke:#ffffff;stroke-width:0.75;\" x=\"415.590057\" xlink:href=\"#m4cfe51e939\" y=\"160.060837\"/>\n     <use style=\"fill:#1f77b4;stroke:#ffffff;stroke-width:0.75;\" x=\"551.328693\" xlink:href=\"#m4cfe51e939\" y=\"161.518182\"/>\n    </g>\n   </g>\n   <g id=\"matplotlib.axis_5\">\n    <g id=\"xtick_8\">\n     <g id=\"line2d_20\">\n      <g>\n       <use style=\"stroke:#000000;stroke-width:0.8;\" x=\"415.590057\" xlink:href=\"#mec91a7b632\" y=\"168.866667\"/>\n      </g>\n     </g>\n    </g>\n    <g id=\"xtick_9\">\n     <g id=\"line2d_21\">\n      <g>\n       <use style=\"stroke:#000000;stroke-width:0.8;\" x=\"459.708886\" xlink:href=\"#mec91a7b632\" y=\"168.866667\"/>\n      </g>\n     </g>\n    </g>\n    <g id=\"xtick_10\">\n     <g id=\"line2d_22\">\n      <g>\n       <use style=\"stroke:#000000;stroke-width:0.8;\" x=\"503.827715\" xlink:href=\"#mec91a7b632\" y=\"168.866667\"/>\n      </g>\n     </g>\n    </g>\n    <g id=\"xtick_11\">\n     <g id=\"line2d_23\">\n      <g>\n       <use style=\"stroke:#000000;stroke-width:0.8;\" x=\"547.946544\" xlink:href=\"#mec91a7b632\" y=\"168.866667\"/>\n      </g>\n     </g>\n    </g>\n   </g>\n   <g id=\"matplotlib.axis_6\">\n    <g id=\"ytick_13\">\n     <g id=\"line2d_24\">\n      <g>\n       <use style=\"stroke:#000000;stroke-width:0.8;\" x=\"408.803125\" xlink:href=\"#m1769ce0960\" y=\"161.518182\"/>\n      </g>\n     </g>\n    </g>\n    <g id=\"ytick_14\">\n     <g id=\"line2d_25\">\n      <g>\n       <use style=\"stroke:#000000;stroke-width:0.8;\" x=\"408.803125\" xlink:href=\"#m1769ce0960\" y=\"134.490266\"/>\n      </g>\n     </g>\n    </g>\n    <g id=\"ytick_15\">\n     <g id=\"line2d_26\">\n      <g>\n       <use style=\"stroke:#000000;stroke-width:0.8;\" x=\"408.803125\" xlink:href=\"#m1769ce0960\" y=\"107.462351\"/>\n      </g>\n     </g>\n    </g>\n    <g id=\"ytick_16\">\n     <g id=\"line2d_27\">\n      <g>\n       <use style=\"stroke:#000000;stroke-width:0.8;\" x=\"408.803125\" xlink:href=\"#m1769ce0960\" y=\"80.434435\"/>\n      </g>\n     </g>\n    </g>\n    <g id=\"ytick_17\">\n     <g id=\"line2d_28\">\n      <g>\n       <use style=\"stroke:#000000;stroke-width:0.8;\" x=\"408.803125\" xlink:href=\"#m1769ce0960\" y=\"53.406519\"/>\n      </g>\n     </g>\n    </g>\n    <g id=\"ytick_18\">\n     <g id=\"line2d_29\">\n      <g>\n       <use style=\"stroke:#000000;stroke-width:0.8;\" x=\"408.803125\" xlink:href=\"#m1769ce0960\" y=\"26.378604\"/>\n      </g>\n     </g>\n    </g>\n   </g>\n   <g id=\"patch_9\">\n    <path d=\"M 408.803125 168.866667 \nL 408.803125 7.2 \n\" style=\"fill:none;stroke:#000000;stroke-linecap:square;stroke-linejoin:miter;stroke-width:0.8;\"/>\n   </g>\n   <g id=\"patch_10\">\n    <path d=\"M 408.803125 168.866667 \nL 558.115625 168.866667 \n\" style=\"fill:none;stroke:#000000;stroke-linecap:square;stroke-linejoin:miter;stroke-width:0.8;\"/>\n   </g>\n  </g>\n  <g id=\"axes_4\">\n   <g id=\"patch_11\">\n    <path d=\"M 66.053125 340.533333 \nL 215.365625 340.533333 \nL 215.365625 178.866667 \nL 66.053125 178.866667 \nz\n\" style=\"fill:#ffffff;\"/>\n   </g>\n   <g id=\"PathCollection_3\">\n    <g clip-path=\"url(#pea624ae304)\">\n     <use style=\"fill:#1f77b4;stroke:#ffffff;stroke-width:0.75;\" x=\"72.840057\" xlink:href=\"#m4cfe51e939\" y=\"333.184848\"/>\n     <use style=\"fill:#1f77b4;stroke:#ffffff;stroke-width:0.75;\" x=\"72.840556\" xlink:href=\"#m4cfe51e939\" y=\"333.184848\"/>\n     <use style=\"fill:#1f77b4;stroke:#ffffff;stroke-width:0.75;\" x=\"72.840556\" xlink:href=\"#m4cfe51e939\" y=\"333.184848\"/>\n     <use style=\"fill:#1f77b4;stroke:#ffffff;stroke-width:0.75;\" x=\"72.840556\" xlink:href=\"#m4cfe51e939\" y=\"333.184848\"/>\n     <use style=\"fill:#1f77b4;stroke:#ffffff;stroke-width:0.75;\" x=\"72.841055\" xlink:href=\"#m4cfe51e939\" y=\"333.184848\"/>\n     <use style=\"fill:#1f77b4;stroke:#ffffff;stroke-width:0.75;\" x=\"72.841055\" xlink:href=\"#m4cfe51e939\" y=\"333.184848\"/>\n     <use style=\"fill:#1f77b4;stroke:#ffffff;stroke-width:0.75;\" x=\"72.841055\" xlink:href=\"#m4cfe51e939\" y=\"333.184848\"/>\n     <use style=\"fill:#1f77b4;stroke:#ffffff;stroke-width:0.75;\" x=\"72.841055\" xlink:href=\"#m4cfe51e939\" y=\"333.184848\"/>\n     <use style=\"fill:#1f77b4;stroke:#ffffff;stroke-width:0.75;\" x=\"72.842054\" xlink:href=\"#m4cfe51e939\" y=\"333.184848\"/>\n     <use style=\"fill:#1f77b4;stroke:#ffffff;stroke-width:0.75;\" x=\"72.842054\" xlink:href=\"#m4cfe51e939\" y=\"333.184848\"/>\n     <use style=\"fill:#1f77b4;stroke:#ffffff;stroke-width:0.75;\" x=\"72.846547\" xlink:href=\"#m4cfe51e939\" y=\"333.184848\"/>\n     <use style=\"fill:#1f77b4;stroke:#ffffff;stroke-width:0.75;\" x=\"72.846547\" xlink:href=\"#m4cfe51e939\" y=\"333.184848\"/>\n     <use style=\"fill:#1f77b4;stroke:#ffffff;stroke-width:0.75;\" x=\"72.850042\" xlink:href=\"#m4cfe51e939\" y=\"333.184848\"/>\n     <use style=\"fill:#1f77b4;stroke:#ffffff;stroke-width:0.75;\" x=\"72.852538\" xlink:href=\"#m4cfe51e939\" y=\"333.184848\"/>\n     <use style=\"fill:#1f77b4;stroke:#ffffff;stroke-width:0.75;\" x=\"72.855534\" xlink:href=\"#m4cfe51e939\" y=\"333.184848\"/>\n     <use style=\"fill:#1f77b4;stroke:#ffffff;stroke-width:0.75;\" x=\"72.859028\" xlink:href=\"#m4cfe51e939\" y=\"333.184848\"/>\n     <use style=\"fill:#1f77b4;stroke:#ffffff;stroke-width:0.75;\" x=\"72.866018\" xlink:href=\"#m4cfe51e939\" y=\"333.184848\"/>\n     <use style=\"fill:#1f77b4;stroke:#ffffff;stroke-width:0.75;\" x=\"72.915444\" xlink:href=\"#m4cfe51e939\" y=\"333.184848\"/>\n     <use style=\"fill:#1f77b4;stroke:#ffffff;stroke-width:0.75;\" x=\"72.915444\" xlink:href=\"#m4cfe51e939\" y=\"333.184848\"/>\n     <use style=\"fill:#1f77b4;stroke:#ffffff;stroke-width:0.75;\" x=\"72.920935\" xlink:href=\"#m4cfe51e939\" y=\"333.184848\"/>\n     <use style=\"fill:#1f77b4;stroke:#ffffff;stroke-width:0.75;\" x=\"72.939907\" xlink:href=\"#m4cfe51e939\" y=\"333.184848\"/>\n     <use style=\"fill:#1f77b4;stroke:#ffffff;stroke-width:0.75;\" x=\"73.000316\" xlink:href=\"#m4cfe51e939\" y=\"333.176676\"/>\n     <use style=\"fill:#1f77b4;stroke:#ffffff;stroke-width:0.75;\" x=\"73.025778\" xlink:href=\"#m4cfe51e939\" y=\"333.16033\"/>\n     <use style=\"fill:#1f77b4;stroke:#ffffff;stroke-width:0.75;\" x=\"73.150091\" xlink:href=\"#m4cfe51e939\" y=\"333.135812\"/>\n     <use style=\"fill:#1f77b4;stroke:#ffffff;stroke-width:0.75;\" x=\"73.235962\" xlink:href=\"#m4cfe51e939\" y=\"333.094949\"/>\n     <use style=\"fill:#1f77b4;stroke:#ffffff;stroke-width:0.75;\" x=\"73.349791\" xlink:href=\"#m4cfe51e939\" y=\"333.062258\"/>\n     <use style=\"fill:#1f77b4;stroke:#ffffff;stroke-width:0.75;\" x=\"73.611898\" xlink:href=\"#m4cfe51e939\" y=\"332.980531\"/>\n     <use style=\"fill:#1f77b4;stroke:#ffffff;stroke-width:0.75;\" x=\"73.800614\" xlink:href=\"#m4cfe51e939\" y=\"332.906977\"/>\n     <use style=\"fill:#1f77b4;stroke:#ffffff;stroke-width:0.75;\" x=\"73.961872\" xlink:href=\"#m4cfe51e939\" y=\"332.808904\"/>\n     <use style=\"fill:#1f77b4;stroke:#ffffff;stroke-width:0.75;\" x=\"74.115142\" xlink:href=\"#m4cfe51e939\" y=\"332.702659\"/>\n     <use style=\"fill:#1f77b4;stroke:#ffffff;stroke-width:0.75;\" x=\"74.330319\" xlink:href=\"#m4cfe51e939\" y=\"332.55555\"/>\n     <use style=\"fill:#1f77b4;stroke:#ffffff;stroke-width:0.75;\" x=\"74.545995\" xlink:href=\"#m4cfe51e939\" y=\"332.43296\"/>\n     <use style=\"fill:#1f77b4;stroke:#ffffff;stroke-width:0.75;\" x=\"74.78913\" xlink:href=\"#m4cfe51e939\" y=\"332.277679\"/>\n     <use style=\"fill:#1f77b4;stroke:#ffffff;stroke-width:0.75;\" x=\"74.964866\" xlink:href=\"#m4cfe51e939\" y=\"332.073361\"/>\n     <use style=\"fill:#1f77b4;stroke:#ffffff;stroke-width:0.75;\" x=\"75.126123\" xlink:href=\"#m4cfe51e939\" y=\"331.885389\"/>\n     <use style=\"fill:#1f77b4;stroke:#ffffff;stroke-width:0.75;\" x=\"75.69427\" xlink:href=\"#m4cfe51e939\" y=\"331.542135\"/>\n     <use style=\"fill:#1f77b4;stroke:#ffffff;stroke-width:0.75;\" x=\"76.252931\" xlink:href=\"#m4cfe51e939\" y=\"331.2234\"/>\n     <use style=\"fill:#1f77b4;stroke:#ffffff;stroke-width:0.75;\" x=\"76.856025\" xlink:href=\"#m4cfe51e939\" y=\"330.536893\"/>\n     <use style=\"fill:#1f77b4;stroke:#ffffff;stroke-width:0.75;\" x=\"77.361266\" xlink:href=\"#m4cfe51e939\" y=\"330.250849\"/>\n     <use style=\"fill:#1f77b4;stroke:#ffffff;stroke-width:0.75;\" x=\"78.012289\" xlink:href=\"#m4cfe51e939\" y=\"329.547996\"/>\n     <use style=\"fill:#1f77b4;stroke:#ffffff;stroke-width:0.75;\" x=\"78.396711\" xlink:href=\"#m4cfe51e939\" y=\"329.212915\"/>\n     <use style=\"fill:#1f77b4;stroke:#ffffff;stroke-width:0.75;\" x=\"78.911438\" xlink:href=\"#m4cfe51e939\" y=\"328.575445\"/>\n     <use style=\"fill:#1f77b4;stroke:#ffffff;stroke-width:0.75;\" x=\"79.846534\" xlink:href=\"#m4cfe51e939\" y=\"327.578375\"/>\n     <use style=\"fill:#1f77b4;stroke:#ffffff;stroke-width:0.75;\" x=\"80.912932\" xlink:href=\"#m4cfe51e939\" y=\"326.491406\"/>\n     <use style=\"fill:#1f77b4;stroke:#ffffff;stroke-width:0.75;\" x=\"81.872491\" xlink:href=\"#m4cfe51e939\" y=\"325.420782\"/>\n     <use style=\"fill:#1f77b4;stroke:#ffffff;stroke-width:0.75;\" x=\"82.644332\" xlink:href=\"#m4cfe51e939\" y=\"324.546303\"/>\n     <use style=\"fill:#1f77b4;stroke:#ffffff;stroke-width:0.75;\" x=\"83.188015\" xlink:href=\"#m4cfe51e939\" y=\"323.998732\"/>\n     <use style=\"fill:#1f77b4;stroke:#ffffff;stroke-width:0.75;\" x=\"83.919417\" xlink:href=\"#m4cfe51e939\" y=\"323.189634\"/>\n     <use style=\"fill:#1f77b4;stroke:#ffffff;stroke-width:0.75;\" x=\"84.537489\" xlink:href=\"#m4cfe51e939\" y=\"322.3315\"/>\n     <use style=\"fill:#1f77b4;stroke:#ffffff;stroke-width:0.75;\" x=\"85.452115\" xlink:href=\"#m4cfe51e939\" y=\"320.664269\"/>\n     <use style=\"fill:#1f77b4;stroke:#ffffff;stroke-width:0.75;\" x=\"86.978822\" xlink:href=\"#m4cfe51e939\" y=\"318.997038\"/>\n     <use style=\"fill:#1f77b4;stroke:#ffffff;stroke-width:0.75;\" x=\"88.029744\" xlink:href=\"#m4cfe51e939\" y=\"317.46057\"/>\n     <use style=\"fill:#1f77b4;stroke:#ffffff;stroke-width:0.75;\" x=\"89.655802\" xlink:href=\"#m4cfe51e939\" y=\"315.687094\"/>\n     <use style=\"fill:#1f77b4;stroke:#ffffff;stroke-width:0.75;\" x=\"91.14157\" xlink:href=\"#m4cfe51e939\" y=\"313.946308\"/>\n     <use style=\"fill:#1f77b4;stroke:#ffffff;stroke-width:0.75;\" x=\"92.138073\" xlink:href=\"#m4cfe51e939\" y=\"313.063657\"/>\n     <use style=\"fill:#1f77b4;stroke:#ffffff;stroke-width:0.75;\" x=\"93.181007\" xlink:href=\"#m4cfe51e939\" y=\"312.042069\"/>\n     <use style=\"fill:#1f77b4;stroke:#ffffff;stroke-width:0.75;\" x=\"94.347256\" xlink:href=\"#m4cfe51e939\" y=\"310.783473\"/>\n     <use style=\"fill:#1f77b4;stroke:#ffffff;stroke-width:0.75;\" x=\"95.684248\" xlink:href=\"#m4cfe51e939\" y=\"309.434977\"/>\n     <use style=\"fill:#1f77b4;stroke:#ffffff;stroke-width:0.75;\" x=\"97.820539\" xlink:href=\"#m4cfe51e939\" y=\"305.961579\"/>\n     <use style=\"fill:#1f77b4;stroke:#ffffff;stroke-width:0.75;\" x=\"99.821035\" xlink:href=\"#m4cfe51e939\" y=\"302.913161\"/>\n     <use style=\"fill:#1f77b4;stroke:#ffffff;stroke-width:0.75;\" x=\"102.457575\" xlink:href=\"#m4cfe51e939\" y=\"300.028197\"/>\n     <use style=\"fill:#1f77b4;stroke:#ffffff;stroke-width:0.75;\" x=\"104.342743\" xlink:href=\"#m4cfe51e939\" y=\"298.156648\"/>\n     <use style=\"fill:#1f77b4;stroke:#ffffff;stroke-width:0.75;\" x=\"106.512485\" xlink:href=\"#m4cfe51e939\" y=\"295.565902\"/>\n     <use style=\"fill:#1f77b4;stroke:#ffffff;stroke-width:0.75;\" x=\"109.402644\" xlink:href=\"#m4cfe51e939\" y=\"291.643005\"/>\n     <use style=\"fill:#1f77b4;stroke:#ffffff;stroke-width:0.75;\" x=\"112.622808\" xlink:href=\"#m4cfe51e939\" y=\"288.128743\"/>\n     <use style=\"fill:#1f77b4;stroke:#ffffff;stroke-width:0.75;\" x=\"116.368183\" xlink:href=\"#m4cfe51e939\" y=\"284.099601\"/>\n     <use style=\"fill:#1f77b4;stroke:#ffffff;stroke-width:0.75;\" x=\"118.871922\" xlink:href=\"#m4cfe51e939\" y=\"280.781484\"/>\n     <use style=\"fill:#1f77b4;stroke:#ffffff;stroke-width:0.75;\" x=\"121.31725\" xlink:href=\"#m4cfe51e939\" y=\"277.929211\"/>\n     <use style=\"fill:#1f77b4;stroke:#ffffff;stroke-width:0.75;\" x=\"123.676706\" xlink:href=\"#m4cfe51e939\" y=\"275.559128\"/>\n     <use style=\"fill:#1f77b4;stroke:#ffffff;stroke-width:0.75;\" x=\"127.068612\" xlink:href=\"#m4cfe51e939\" y=\"272.976554\"/>\n     <use style=\"fill:#1f77b4;stroke:#ffffff;stroke-width:0.75;\" x=\"130.480987\" xlink:href=\"#m4cfe51e939\" y=\"268.309941\"/>\n     <use style=\"fill:#1f77b4;stroke:#ffffff;stroke-width:0.75;\" x=\"136.050622\" xlink:href=\"#m4cfe51e939\" y=\"262.997685\"/>\n     <use style=\"fill:#1f77b4;stroke:#ffffff;stroke-width:0.75;\" x=\"140.624752\" xlink:href=\"#m4cfe51e939\" y=\"258.077719\"/>\n     <use style=\"fill:#1f77b4;stroke:#ffffff;stroke-width:0.75;\" x=\"146.176913\" xlink:href=\"#m4cfe51e939\" y=\"251.318894\"/>\n     <use style=\"fill:#1f77b4;stroke:#ffffff;stroke-width:0.75;\" x=\"150.75354\" xlink:href=\"#m4cfe51e939\" y=\"246.096538\"/>\n     <use style=\"fill:#1f77b4;stroke:#ffffff;stroke-width:0.75;\" x=\"154.067563\" xlink:href=\"#m4cfe51e939\" y=\"242.279886\"/>\n     <use style=\"fill:#1f77b4;stroke:#ffffff;stroke-width:0.75;\" x=\"157.509893\" xlink:href=\"#m4cfe51e939\" y=\"237.948354\"/>\n     <use style=\"fill:#1f77b4;stroke:#ffffff;stroke-width:0.75;\" x=\"161.813429\" xlink:href=\"#m4cfe51e939\" y=\"231.344811\"/>\n     <use style=\"fill:#1f77b4;stroke:#ffffff;stroke-width:0.75;\" x=\"167.765989\" xlink:href=\"#m4cfe51e939\" y=\"224.978276\"/>\n     <use style=\"fill:#1f77b4;stroke:#ffffff;stroke-width:0.75;\" x=\"174.270221\" xlink:href=\"#m4cfe51e939\" y=\"218.775196\"/>\n     <use style=\"fill:#1f77b4;stroke:#ffffff;stroke-width:0.75;\" x=\"182.820379\" xlink:href=\"#m4cfe51e939\" y=\"210.904884\"/>\n     <use style=\"fill:#1f77b4;stroke:#ffffff;stroke-width:0.75;\" x=\"189.420467\" xlink:href=\"#m4cfe51e939\" y=\"205.183992\"/>\n     <use style=\"fill:#1f77b4;stroke:#ffffff;stroke-width:0.75;\" x=\"193.199291\" xlink:href=\"#m4cfe51e939\" y=\"201.45724\"/>\n     <use style=\"fill:#1f77b4;stroke:#ffffff;stroke-width:0.75;\" x=\"200.332578\" xlink:href=\"#m4cfe51e939\" y=\"195.450305\"/>\n     <use style=\"fill:#1f77b4;stroke:#ffffff;stroke-width:0.75;\" x=\"208.578693\" xlink:href=\"#m4cfe51e939\" y=\"186.215152\"/>\n     <use style=\"fill:#1f77b4;stroke:#ffffff;stroke-width:0.75;\" x=\"74.246445\" xlink:href=\"#m4cfe51e939\" y=\"332.563723\"/>\n     <use style=\"fill:#1f77b4;stroke:#ffffff;stroke-width:0.75;\" x=\"75.05523\" xlink:href=\"#m4cfe51e939\" y=\"331.1335\"/>\n     <use style=\"fill:#1f77b4;stroke:#ffffff;stroke-width:0.75;\" x=\"75.111146\" xlink:href=\"#m4cfe51e939\" y=\"332.024325\"/>\n     <use style=\"fill:#1f77b4;stroke:#ffffff;stroke-width:0.75;\" x=\"84.674283\" xlink:href=\"#m4cfe51e939\" y=\"320.427261\"/>\n     <use style=\"fill:#1f77b4;stroke:#ffffff;stroke-width:0.75;\" x=\"78.430161\" xlink:href=\"#m4cfe51e939\" y=\"330.22633\"/>\n     <use style=\"fill:#1f77b4;stroke:#ffffff;stroke-width:0.75;\" x=\"88.097142\" xlink:href=\"#m4cfe51e939\" y=\"317.656715\"/>\n     <use style=\"fill:#1f77b4;stroke:#ffffff;stroke-width:0.75;\" x=\"75.416687\" xlink:href=\"#m4cfe51e939\" y=\"332.55555\"/>\n     <use style=\"fill:#1f77b4;stroke:#ffffff;stroke-width:0.75;\" x=\"76.879989\" xlink:href=\"#m4cfe51e939\" y=\"330.397957\"/>\n     <use style=\"fill:#1f77b4;stroke:#ffffff;stroke-width:0.75;\" x=\"73.827574\" xlink:href=\"#m4cfe51e939\" y=\"332.547378\"/>\n     <use style=\"fill:#1f77b4;stroke:#ffffff;stroke-width:0.75;\" x=\"80.385724\" xlink:href=\"#m4cfe51e939\" y=\"328.003356\"/>\n     <use style=\"fill:#1f77b4;stroke:#ffffff;stroke-width:0.75;\" x=\"73.366267\" xlink:href=\"#m4cfe51e939\" y=\"332.923322\"/>\n     <use style=\"fill:#1f77b4;stroke:#ffffff;stroke-width:0.75;\" x=\"73.186037\" xlink:href=\"#m4cfe51e939\" y=\"333.045913\"/>\n     <use style=\"fill:#1f77b4;stroke:#ffffff;stroke-width:0.75;\" x=\"75.479093\" xlink:href=\"#m4cfe51e939\" y=\"331.73828\"/>\n     <use style=\"fill:#1f77b4;stroke:#ffffff;stroke-width:0.75;\" x=\"81.893959\" xlink:href=\"#m4cfe51e939\" y=\"319.838826\"/>\n     <use style=\"fill:#1f77b4;stroke:#ffffff;stroke-width:0.75;\" x=\"75.754679\" xlink:href=\"#m4cfe51e939\" y=\"331.305127\"/>\n     <use style=\"fill:#1f77b4;stroke:#ffffff;stroke-width:0.75;\" x=\"74.146095\" xlink:href=\"#m4cfe51e939\" y=\"332.065188\"/>\n     <use style=\"fill:#1f77b4;stroke:#ffffff;stroke-width:0.75;\" x=\"84.103141\" xlink:href=\"#m4cfe51e939\" y=\"318.196113\"/>\n     <use style=\"fill:#1f77b4;stroke:#ffffff;stroke-width:0.75;\" x=\"74.15658\" xlink:href=\"#m4cfe51e939\" y=\"332.473823\"/>\n     <use style=\"fill:#1f77b4;stroke:#ffffff;stroke-width:0.75;\" x=\"74.735211\" xlink:href=\"#m4cfe51e939\" y=\"331.795489\"/>\n     <use style=\"fill:#1f77b4;stroke:#ffffff;stroke-width:0.75;\" x=\"75.322828\" xlink:href=\"#m4cfe51e939\" y=\"331.869043\"/>\n     <use style=\"fill:#1f77b4;stroke:#ffffff;stroke-width:0.75;\" x=\"88.003283\" xlink:href=\"#m4cfe51e939\" y=\"306.729813\"/>\n     <use style=\"fill:#1f77b4;stroke:#ffffff;stroke-width:0.75;\" x=\"74.087683\" xlink:href=\"#m4cfe51e939\" y=\"332.449305\"/>\n     <use style=\"fill:#1f77b4;stroke:#ffffff;stroke-width:0.75;\" x=\"73.872007\" xlink:href=\"#m4cfe51e939\" y=\"332.661796\"/>\n     <use style=\"fill:#1f77b4;stroke:#ffffff;stroke-width:0.75;\" x=\"75.585434\" xlink:href=\"#m4cfe51e939\" y=\"332.416615\"/>\n     <use style=\"fill:#1f77b4;stroke:#ffffff;stroke-width:0.75;\" x=\"107.717175\" xlink:href=\"#m4cfe51e939\" y=\"289.354649\"/>\n     <use style=\"fill:#1f77b4;stroke:#ffffff;stroke-width:0.75;\" x=\"74.97535\" xlink:href=\"#m4cfe51e939\" y=\"332.620932\"/>\n     <use style=\"fill:#1f77b4;stroke:#ffffff;stroke-width:0.75;\" x=\"73.7432\" xlink:href=\"#m4cfe51e939\" y=\"332.841595\"/>\n     <use style=\"fill:#1f77b4;stroke:#ffffff;stroke-width:0.75;\" x=\"72.840057\" xlink:href=\"#m4cfe51e939\" y=\"333.184848\"/>\n     <use style=\"fill:#1f77b4;stroke:#ffffff;stroke-width:0.75;\" x=\"74.38923\" xlink:href=\"#m4cfe51e939\" y=\"332.547378\"/>\n     <use style=\"fill:#1f77b4;stroke:#ffffff;stroke-width:0.75;\" x=\"75.294371\" xlink:href=\"#m4cfe51e939\" y=\"331.043601\"/>\n     <use style=\"fill:#1f77b4;stroke:#ffffff;stroke-width:0.75;\" x=\"75.430167\" xlink:href=\"#m4cfe51e939\" y=\"331.950771\"/>\n     <use style=\"fill:#1f77b4;stroke:#ffffff;stroke-width:0.75;\" x=\"85.504536\" xlink:href=\"#m4cfe51e939\" y=\"319.945072\"/>\n     <use style=\"fill:#1f77b4;stroke:#ffffff;stroke-width:0.75;\" x=\"78.801603\" xlink:href=\"#m4cfe51e939\" y=\"330.111913\"/>\n     <use style=\"fill:#1f77b4;stroke:#ffffff;stroke-width:0.75;\" x=\"88.523003\" xlink:href=\"#m4cfe51e939\" y=\"315.52364\"/>\n     <use style=\"fill:#1f77b4;stroke:#ffffff;stroke-width:0.75;\" x=\"75.606901\" xlink:href=\"#m4cfe51e939\" y=\"332.498342\"/>\n     <use style=\"fill:#1f77b4;stroke:#ffffff;stroke-width:0.75;\" x=\"77.2724\" xlink:href=\"#m4cfe51e939\" y=\"330.218158\"/>\n     <use style=\"fill:#1f77b4;stroke:#ffffff;stroke-width:0.75;\" x=\"73.895472\" xlink:href=\"#m4cfe51e939\" y=\"332.490169\"/>\n     <use style=\"fill:#1f77b4;stroke:#ffffff;stroke-width:0.75;\" x=\"80.857016\" xlink:href=\"#m4cfe51e939\" y=\"327.766347\"/>\n     <use style=\"fill:#1f77b4;stroke:#ffffff;stroke-width:0.75;\" x=\"73.425178\" xlink:href=\"#m4cfe51e939\" y=\"332.906977\"/>\n     <use style=\"fill:#1f77b4;stroke:#ffffff;stroke-width:0.75;\" x=\"73.212497\" xlink:href=\"#m4cfe51e939\" y=\"333.045913\"/>\n     <use style=\"fill:#1f77b4;stroke:#ffffff;stroke-width:0.75;\" x=\"75.633861\" xlink:href=\"#m4cfe51e939\" y=\"331.623862\"/>\n     <use style=\"fill:#1f77b4;stroke:#ffffff;stroke-width:0.75;\" x=\"82.703243\" xlink:href=\"#m4cfe51e939\" y=\"318.049005\"/>\n     <use style=\"fill:#1f77b4;stroke:#ffffff;stroke-width:0.75;\" x=\"75.954379\" xlink:href=\"#m4cfe51e939\" y=\"331.182537\"/>\n     <use style=\"fill:#1f77b4;stroke:#ffffff;stroke-width:0.75;\" x=\"74.24295\" xlink:href=\"#m4cfe51e939\" y=\"332.032498\"/>\n     <use style=\"fill:#1f77b4;stroke:#ffffff;stroke-width:0.75;\" x=\"84.777628\" xlink:href=\"#m4cfe51e939\" y=\"317.452397\"/>\n     <use style=\"fill:#1f77b4;stroke:#ffffff;stroke-width:0.75;\" x=\"74.263918\" xlink:href=\"#m4cfe51e939\" y=\"332.441133\"/>\n     <use style=\"fill:#1f77b4;stroke:#ffffff;stroke-width:0.75;\" x=\"74.867013\" xlink:href=\"#m4cfe51e939\" y=\"331.730108\"/>\n     <use style=\"fill:#1f77b4;stroke:#ffffff;stroke-width:0.75;\" x=\"75.572453\" xlink:href=\"#m4cfe51e939\" y=\"331.82818\"/>\n     <use style=\"fill:#1f77b4;stroke:#ffffff;stroke-width:0.75;\" x=\"88.860496\" xlink:href=\"#m4cfe51e939\" y=\"305.29959\"/>\n     <use style=\"fill:#1f77b4;stroke:#ffffff;stroke-width:0.75;\" x=\"74.167563\" xlink:href=\"#m4cfe51e939\" y=\"332.359406\"/>\n     <use style=\"fill:#1f77b4;stroke:#ffffff;stroke-width:0.75;\" x=\"73.911448\" xlink:href=\"#m4cfe51e939\" y=\"332.596414\"/>\n     <use style=\"fill:#1f77b4;stroke:#ffffff;stroke-width:0.75;\" x=\"75.64085\" xlink:href=\"#m4cfe51e939\" y=\"332.383924\"/>\n     <use style=\"fill:#1f77b4;stroke:#ffffff;stroke-width:0.75;\" x=\"109.654266\" xlink:href=\"#m4cfe51e939\" y=\"287.760972\"/>\n     <use style=\"fill:#1f77b4;stroke:#ffffff;stroke-width:0.75;\" x=\"75.203507\" xlink:href=\"#m4cfe51e939\" y=\"332.563723\"/>\n     <use style=\"fill:#1f77b4;stroke:#ffffff;stroke-width:0.75;\" x=\"73.826575\" xlink:href=\"#m4cfe51e939\" y=\"332.800731\"/>\n     <use style=\"fill:#1f77b4;stroke:#ffffff;stroke-width:0.75;\" x=\"72.840057\" xlink:href=\"#m4cfe51e939\" y=\"333.184848\"/>\n     <use style=\"fill:#1f77b4;stroke:#ffffff;stroke-width:0.75;\" x=\"74.50905\" xlink:href=\"#m4cfe51e939\" y=\"332.531032\"/>\n     <use style=\"fill:#1f77b4;stroke:#ffffff;stroke-width:0.75;\" x=\"75.487081\" xlink:href=\"#m4cfe51e939\" y=\"330.896492\"/>\n     <use style=\"fill:#1f77b4;stroke:#ffffff;stroke-width:0.75;\" x=\"75.663317\" xlink:href=\"#m4cfe51e939\" y=\"331.901734\"/>\n     <use style=\"fill:#1f77b4;stroke:#ffffff;stroke-width:0.75;\" x=\"86.338783\" xlink:href=\"#m4cfe51e939\" y=\"319.544609\"/>\n     <use style=\"fill:#1f77b4;stroke:#ffffff;stroke-width:0.75;\" x=\"79.109141\" xlink:href=\"#m4cfe51e939\" y=\"329.92394\"/>\n     <use style=\"fill:#1f77b4;stroke:#ffffff;stroke-width:0.75;\" x=\"90.100633\" xlink:href=\"#m4cfe51e939\" y=\"314.788097\"/>\n     <use style=\"fill:#1f77b4;stroke:#ffffff;stroke-width:0.75;\" x=\"75.809597\" xlink:href=\"#m4cfe51e939\" y=\"332.449305\"/>\n     <use style=\"fill:#1f77b4;stroke:#ffffff;stroke-width:0.75;\" x=\"77.592919\" xlink:href=\"#m4cfe51e939\" y=\"329.940286\"/>\n     <use style=\"fill:#1f77b4;stroke:#ffffff;stroke-width:0.75;\" x=\"73.990329\" xlink:href=\"#m4cfe51e939\" y=\"332.424787\"/>\n     <use style=\"fill:#1f77b4;stroke:#ffffff;stroke-width:0.75;\" x=\"81.433151\" xlink:href=\"#m4cfe51e939\" y=\"327.521166\"/>\n     <use style=\"fill:#1f77b4;stroke:#ffffff;stroke-width:0.75;\" x=\"73.449142\" xlink:href=\"#m4cfe51e939\" y=\"332.882459\"/>\n     <use style=\"fill:#1f77b4;stroke:#ffffff;stroke-width:0.75;\" x=\"73.241953\" xlink:href=\"#m4cfe51e939\" y=\"333.045913\"/>\n     <use style=\"fill:#1f77b4;stroke:#ffffff;stroke-width:0.75;\" x=\"75.833062\" xlink:href=\"#m4cfe51e939\" y=\"331.542135\"/>\n     <use style=\"fill:#1f77b4;stroke:#ffffff;stroke-width:0.75;\" x=\"83.558459\" xlink:href=\"#m4cfe51e939\" y=\"317.354325\"/>\n     <use style=\"fill:#1f77b4;stroke:#ffffff;stroke-width:0.75;\" x=\"76.275897\" xlink:href=\"#m4cfe51e939\" y=\"331.158018\"/>\n     <use style=\"fill:#1f77b4;stroke:#ffffff;stroke-width:0.75;\" x=\"74.307353\" xlink:href=\"#m4cfe51e939\" y=\"331.991634\"/>\n     <use style=\"fill:#1f77b4;stroke:#ffffff;stroke-width:0.75;\" x=\"85.700742\" xlink:href=\"#m4cfe51e939\" y=\"316.373601\"/>\n     <use style=\"fill:#1f77b4;stroke:#ffffff;stroke-width:0.75;\" x=\"74.374752\" xlink:href=\"#m4cfe51e939\" y=\"332.424787\"/>\n     <use style=\"fill:#1f77b4;stroke:#ffffff;stroke-width:0.75;\" x=\"74.962369\" xlink:href=\"#m4cfe51e939\" y=\"331.705589\"/>\n     <use style=\"fill:#1f77b4;stroke:#ffffff;stroke-width:0.75;\" x=\"75.794619\" xlink:href=\"#m4cfe51e939\" y=\"331.779144\"/>\n     <use style=\"fill:#1f77b4;stroke:#ffffff;stroke-width:0.75;\" x=\"89.609371\" xlink:href=\"#m4cfe51e939\" y=\"303.297278\"/>\n     <use style=\"fill:#1f77b4;stroke:#ffffff;stroke-width:0.75;\" x=\"74.224977\" xlink:href=\"#m4cfe51e939\" y=\"332.318542\"/>\n     <use style=\"fill:#1f77b4;stroke:#ffffff;stroke-width:0.75;\" x=\"73.991328\" xlink:href=\"#m4cfe51e939\" y=\"332.506514\"/>\n     <use style=\"fill:#1f77b4;stroke:#ffffff;stroke-width:0.75;\" x=\"76.064215\" xlink:href=\"#m4cfe51e939\" y=\"332.367578\"/>\n     <use style=\"fill:#1f77b4;stroke:#ffffff;stroke-width:0.75;\" x=\"111.217918\" xlink:href=\"#m4cfe51e939\" y=\"286.003841\"/>\n     <use style=\"fill:#1f77b4;stroke:#ffffff;stroke-width:0.75;\" x=\"75.297366\" xlink:href=\"#m4cfe51e939\" y=\"332.514687\"/>\n     <use style=\"fill:#1f77b4;stroke:#ffffff;stroke-width:0.75;\" x=\"73.940903\" xlink:href=\"#m4cfe51e939\" y=\"332.784386\"/>\n     <use style=\"fill:#1f77b4;stroke:#ffffff;stroke-width:0.75;\" x=\"72.840057\" xlink:href=\"#m4cfe51e939\" y=\"333.184848\"/>\n     <use style=\"fill:#1f77b4;stroke:#ffffff;stroke-width:0.75;\" x=\"74.770657\" xlink:href=\"#m4cfe51e939\" y=\"332.473823\"/>\n     <use style=\"fill:#1f77b4;stroke:#ffffff;stroke-width:0.75;\" x=\"75.650835\" xlink:href=\"#m4cfe51e939\" y=\"330.724865\"/>\n     <use style=\"fill:#1f77b4;stroke:#ffffff;stroke-width:0.75;\" x=\"75.88099\" xlink:href=\"#m4cfe51e939\" y=\"331.860871\"/>\n     <use style=\"fill:#1f77b4;stroke:#ffffff;stroke-width:0.75;\" x=\"87.219461\" xlink:href=\"#m4cfe51e939\" y=\"318.931656\"/>\n     <use style=\"fill:#1f77b4;stroke:#ffffff;stroke-width:0.75;\" x=\"79.330309\" xlink:href=\"#m4cfe51e939\" y=\"329.809523\"/>\n     <use style=\"fill:#1f77b4;stroke:#ffffff;stroke-width:0.75;\" x=\"90.374722\" xlink:href=\"#m4cfe51e939\" y=\"314.322253\"/>\n     <use style=\"fill:#1f77b4;stroke:#ffffff;stroke-width:0.75;\" x=\"75.96087\" xlink:href=\"#m4cfe51e939\" y=\"332.408442\"/>\n     <use style=\"fill:#1f77b4;stroke:#ffffff;stroke-width:0.75;\" x=\"77.79162\" xlink:href=\"#m4cfe51e939\" y=\"329.776832\"/>\n     <use style=\"fill:#1f77b4;stroke:#ffffff;stroke-width:0.75;\" x=\"74.026775\" xlink:href=\"#m4cfe51e939\" y=\"332.408442\"/>\n     <use style=\"fill:#1f77b4;stroke:#ffffff;stroke-width:0.75;\" x=\"82.209485\" xlink:href=\"#m4cfe51e939\" y=\"327.284158\"/>\n     <use style=\"fill:#1f77b4;stroke:#ffffff;stroke-width:0.75;\" x=\"73.515043\" xlink:href=\"#m4cfe51e939\" y=\"332.882459\"/>\n     <use style=\"fill:#1f77b4;stroke:#ffffff;stroke-width:0.75;\" x=\"73.268413\" xlink:href=\"#m4cfe51e939\" y=\"333.045913\"/>\n     <use style=\"fill:#1f77b4;stroke:#ffffff;stroke-width:0.75;\" x=\"76.004304\" xlink:href=\"#m4cfe51e939\" y=\"331.411372\"/>\n     <use style=\"fill:#1f77b4;stroke:#ffffff;stroke-width:0.75;\" x=\"84.171538\" xlink:href=\"#m4cfe51e939\" y=\"316.831272\"/>\n     <use style=\"fill:#1f77b4;stroke:#ffffff;stroke-width:0.75;\" x=\"76.588427\" xlink:href=\"#m4cfe51e939\" y=\"331.076291\"/>\n     <use style=\"fill:#1f77b4;stroke:#ffffff;stroke-width:0.75;\" x=\"74.387233\" xlink:href=\"#m4cfe51e939\" y=\"331.958943\"/>\n     <use style=\"fill:#1f77b4;stroke:#ffffff;stroke-width:0.75;\" x=\"86.212972\" xlink:href=\"#m4cfe51e939\" y=\"315.662576\"/>\n     <use style=\"fill:#1f77b4;stroke:#ffffff;stroke-width:0.75;\" x=\"74.466614\" xlink:href=\"#m4cfe51e939\" y=\"332.375751\"/>\n     <use style=\"fill:#1f77b4;stroke:#ffffff;stroke-width:0.75;\" x=\"75.136108\" xlink:href=\"#m4cfe51e939\" y=\"331.681071\"/>\n     <use style=\"fill:#1f77b4;stroke:#ffffff;stroke-width:0.75;\" x=\"76.003306\" xlink:href=\"#m4cfe51e939\" y=\"331.746453\"/>\n     <use style=\"fill:#1f77b4;stroke:#ffffff;stroke-width:0.75;\" x=\"90.080663\" xlink:href=\"#m4cfe51e939\" y=\"301.270448\"/>\n     <use style=\"fill:#1f77b4;stroke:#ffffff;stroke-width:0.75;\" x=\"74.392226\" xlink:href=\"#m4cfe51e939\" y=\"332.244988\"/>\n     <use style=\"fill:#1f77b4;stroke:#ffffff;stroke-width:0.75;\" x=\"74.025277\" xlink:href=\"#m4cfe51e939\" y=\"332.52286\"/>\n     <use style=\"fill:#1f77b4;stroke:#ffffff;stroke-width:0.75;\" x=\"76.138603\" xlink:href=\"#m4cfe51e939\" y=\"332.34306\"/>\n     <use style=\"fill:#1f77b4;stroke:#ffffff;stroke-width:0.75;\" x=\"113.058653\" xlink:href=\"#m4cfe51e939\" y=\"283.780866\"/>\n     <use style=\"fill:#1f77b4;stroke:#ffffff;stroke-width:0.75;\" x=\"75.40171\" xlink:href=\"#m4cfe51e939\" y=\"332.481996\"/>\n     <use style=\"fill:#1f77b4;stroke:#ffffff;stroke-width:0.75;\" x=\"74.053235\" xlink:href=\"#m4cfe51e939\" y=\"332.768041\"/>\n     <use style=\"fill:#1f77b4;stroke:#ffffff;stroke-width:0.75;\" x=\"72.840057\" xlink:href=\"#m4cfe51e939\" y=\"333.184848\"/>\n     <use style=\"fill:#1f77b4;stroke:#ffffff;stroke-width:0.75;\" x=\"74.916938\" xlink:href=\"#m4cfe51e939\" y=\"332.43296\"/>\n     <use style=\"fill:#1f77b4;stroke:#ffffff;stroke-width:0.75;\" x=\"75.942397\" xlink:href=\"#m4cfe51e939\" y=\"330.602275\"/>\n     <use style=\"fill:#1f77b4;stroke:#ffffff;stroke-width:0.75;\" x=\"76.011793\" xlink:href=\"#m4cfe51e939\" y=\"331.852698\"/>\n     <use style=\"fill:#1f77b4;stroke:#ffffff;stroke-width:0.75;\" x=\"87.751162\" xlink:href=\"#m4cfe51e939\" y=\"318.817239\"/>\n     <use style=\"fill:#1f77b4;stroke:#ffffff;stroke-width:0.75;\" x=\"79.779135\" xlink:href=\"#m4cfe51e939\" y=\"329.425406\"/>\n     <use style=\"fill:#1f77b4;stroke:#ffffff;stroke-width:0.75;\" x=\"90.610867\" xlink:href=\"#m4cfe51e939\" y=\"314.191489\"/>\n     <use style=\"fill:#1f77b4;stroke:#ffffff;stroke-width:0.75;\" x=\"76.15408\" xlink:href=\"#m4cfe51e939\" y=\"332.334887\"/>\n     <use style=\"fill:#1f77b4;stroke:#ffffff;stroke-width:0.75;\" x=\"77.836053\" xlink:href=\"#m4cfe51e939\" y=\"329.539823\"/>\n     <use style=\"fill:#1f77b4;stroke:#ffffff;stroke-width:0.75;\" x=\"74.059725\" xlink:href=\"#m4cfe51e939\" y=\"332.408442\"/>\n     <use style=\"fill:#1f77b4;stroke:#ffffff;stroke-width:0.75;\" x=\"83.419667\" xlink:href=\"#m4cfe51e939\" y=\"327.022631\"/>\n     <use style=\"fill:#1f77b4;stroke:#ffffff;stroke-width:0.75;\" x=\"73.569961\" xlink:href=\"#m4cfe51e939\" y=\"332.85794\"/>\n     <use style=\"fill:#1f77b4;stroke:#ffffff;stroke-width:0.75;\" x=\"73.301364\" xlink:href=\"#m4cfe51e939\" y=\"333.045913\"/>\n     <use style=\"fill:#1f77b4;stroke:#ffffff;stroke-width:0.75;\" x=\"76.169057\" xlink:href=\"#m4cfe51e939\" y=\"331.337818\"/>\n     <use style=\"fill:#1f77b4;stroke:#ffffff;stroke-width:0.75;\" x=\"84.884468\" xlink:href=\"#m4cfe51e939\" y=\"315.629885\"/>\n     <use style=\"fill:#1f77b4;stroke:#ffffff;stroke-width:0.75;\" x=\"76.745691\" xlink:href=\"#m4cfe51e939\" y=\"330.961874\"/>\n     <use style=\"fill:#1f77b4;stroke:#ffffff;stroke-width:0.75;\" x=\"74.443648\" xlink:href=\"#m4cfe51e939\" y=\"331.934425\"/>\n     <use style=\"fill:#1f77b4;stroke:#ffffff;stroke-width:0.75;\" x=\"86.698743\" xlink:href=\"#m4cfe51e939\" y=\"315.204904\"/>\n     <use style=\"fill:#1f77b4;stroke:#ffffff;stroke-width:0.75;\" x=\"74.532515\" xlink:href=\"#m4cfe51e939\" y=\"332.310369\"/>\n     <use style=\"fill:#1f77b4;stroke:#ffffff;stroke-width:0.75;\" x=\"75.185035\" xlink:href=\"#m4cfe51e939\" y=\"331.550308\"/>\n     <use style=\"fill:#1f77b4;stroke:#ffffff;stroke-width:0.75;\" x=\"76.070206\" xlink:href=\"#m4cfe51e939\" y=\"331.713762\"/>\n     <use style=\"fill:#1f77b4;stroke:#ffffff;stroke-width:0.75;\" x=\"91.76763\" xlink:href=\"#m4cfe51e939\" y=\"300.55125\"/>\n     <use style=\"fill:#1f77b4;stroke:#ffffff;stroke-width:0.75;\" x=\"74.438157\" xlink:href=\"#m4cfe51e939\" y=\"332.195952\"/>\n     <use style=\"fill:#1f77b4;stroke:#ffffff;stroke-width:0.75;\" x=\"74.057728\" xlink:href=\"#m4cfe51e939\" y=\"332.498342\"/>\n     <use style=\"fill:#1f77b4;stroke:#ffffff;stroke-width:0.75;\" x=\"76.183036\" xlink:href=\"#m4cfe51e939\" y=\"332.326715\"/>\n     <use style=\"fill:#1f77b4;stroke:#ffffff;stroke-width:0.75;\" x=\"113.858951\" xlink:href=\"#m4cfe51e939\" y=\"282.816487\"/>\n     <use style=\"fill:#1f77b4;stroke:#ffffff;stroke-width:0.75;\" x=\"75.493072\" xlink:href=\"#m4cfe51e939\" y=\"332.424787\"/>\n     <use style=\"fill:#1f77b4;stroke:#ffffff;stroke-width:0.75;\" x=\"74.133614\" xlink:href=\"#m4cfe51e939\" y=\"332.759868\"/>\n     <use style=\"fill:#1f77b4;stroke:#ffffff;stroke-width:0.75;\" x=\"72.840057\" xlink:href=\"#m4cfe51e939\" y=\"333.184848\"/>\n     <use style=\"fill:#1f77b4;stroke:#ffffff;stroke-width:0.75;\" x=\"75.087182\" xlink:href=\"#m4cfe51e939\" y=\"332.392096\"/>\n     <use style=\"fill:#1f77b4;stroke:#ffffff;stroke-width:0.75;\" x=\"76.176047\" xlink:href=\"#m4cfe51e939\" y=\"330.430648\"/>\n     <use style=\"fill:#1f77b4;stroke:#ffffff;stroke-width:0.75;\" x=\"76.12712\" xlink:href=\"#m4cfe51e939\" y=\"331.811835\"/>\n     <use style=\"fill:#1f77b4;stroke:#ffffff;stroke-width:0.75;\" x=\"87.958351\" xlink:href=\"#m4cfe51e939\" y=\"318.629267\"/>\n     <use style=\"fill:#1f77b4;stroke:#ffffff;stroke-width:0.75;\" x=\"79.931406\" xlink:href=\"#m4cfe51e939\" y=\"329.28647\"/>\n     <use style=\"fill:#1f77b4;stroke:#ffffff;stroke-width:0.75;\" x=\"90.905425\" xlink:href=\"#m4cfe51e939\" y=\"312.810303\"/>\n     <use style=\"fill:#1f77b4;stroke:#ffffff;stroke-width:0.75;\" x=\"76.299861\" xlink:href=\"#m4cfe51e939\" y=\"332.25316\"/>\n     <use style=\"fill:#1f77b4;stroke:#ffffff;stroke-width:0.75;\" x=\"78.014785\" xlink:href=\"#m4cfe51e939\" y=\"329.384542\"/>\n     <use style=\"fill:#1f77b4;stroke:#ffffff;stroke-width:0.75;\" x=\"74.094173\" xlink:href=\"#m4cfe51e939\" y=\"332.400269\"/>\n     <use style=\"fill:#1f77b4;stroke:#ffffff;stroke-width:0.75;\" x=\"84.215972\" xlink:href=\"#m4cfe51e939\" y=\"326.77745\"/>\n     <use style=\"fill:#1f77b4;stroke:#ffffff;stroke-width:0.75;\" x=\"73.588932\" xlink:href=\"#m4cfe51e939\" y=\"332.849768\"/>\n     <use style=\"fill:#1f77b4;stroke:#ffffff;stroke-width:0.75;\" x=\"73.35079\" xlink:href=\"#m4cfe51e939\" y=\"333.045913\"/>\n     <use style=\"fill:#1f77b4;stroke:#ffffff;stroke-width:0.75;\" x=\"76.315837\" xlink:href=\"#m4cfe51e939\" y=\"331.305127\"/>\n     <use style=\"fill:#1f77b4;stroke:#ffffff;stroke-width:0.75;\" x=\"85.859004\" xlink:href=\"#m4cfe51e939\" y=\"313.7992\"/>\n     <use style=\"fill:#1f77b4;stroke:#ffffff;stroke-width:0.75;\" x=\"76.842046\" xlink:href=\"#m4cfe51e939\" y=\"330.904665\"/>\n     <use style=\"fill:#1f77b4;stroke:#ffffff;stroke-width:0.75;\" x=\"74.503059\" xlink:href=\"#m4cfe51e939\" y=\"331.909907\"/>\n     <use style=\"fill:#1f77b4;stroke:#ffffff;stroke-width:0.75;\" x=\"87.001788\" xlink:href=\"#m4cfe51e939\" y=\"314.812615\"/>\n     <use style=\"fill:#1f77b4;stroke:#ffffff;stroke-width:0.75;\" x=\"74.612395\" xlink:href=\"#m4cfe51e939\" y=\"332.285851\"/>\n     <use style=\"fill:#1f77b4;stroke:#ffffff;stroke-width:0.75;\" x=\"75.215988\" xlink:href=\"#m4cfe51e939\" y=\"331.476754\"/>\n     <use style=\"fill:#1f77b4;stroke:#ffffff;stroke-width:0.75;\" x=\"76.114639\" xlink:href=\"#m4cfe51e939\" y=\"331.574826\"/>\n     <use style=\"fill:#1f77b4;stroke:#ffffff;stroke-width:0.75;\" x=\"92.459591\" xlink:href=\"#m4cfe51e939\" y=\"299.635907\"/>\n     <use style=\"fill:#1f77b4;stroke:#ffffff;stroke-width:0.75;\" x=\"74.471606\" xlink:href=\"#m4cfe51e939\" y=\"332.195952\"/>\n     <use style=\"fill:#1f77b4;stroke:#ffffff;stroke-width:0.75;\" x=\"74.095172\" xlink:href=\"#m4cfe51e939\" y=\"332.481996\"/>\n     <use style=\"fill:#1f77b4;stroke:#ffffff;stroke-width:0.75;\" x=\"76.272402\" xlink:href=\"#m4cfe51e939\" y=\"332.294024\"/>\n     <use style=\"fill:#1f77b4;stroke:#ffffff;stroke-width:0.75;\" x=\"114.589853\" xlink:href=\"#m4cfe51e939\" y=\"282.350643\"/>\n     <use style=\"fill:#1f77b4;stroke:#ffffff;stroke-width:0.75;\" x=\"75.559972\" xlink:href=\"#m4cfe51e939\" y=\"332.34306\"/>\n     <use style=\"fill:#1f77b4;stroke:#ffffff;stroke-width:0.75;\" x=\"74.186035\" xlink:href=\"#m4cfe51e939\" y=\"332.710832\"/>\n     <use style=\"fill:#1f77b4;stroke:#ffffff;stroke-width:0.75;\" x=\"72.840057\" xlink:href=\"#m4cfe51e939\" y=\"333.184848\"/>\n    </g>\n   </g>\n   <g id=\"matplotlib.axis_7\">\n    <g id=\"xtick_12\">\n     <g id=\"line2d_30\">\n      <g>\n       <use style=\"stroke:#000000;stroke-width:0.8;\" x=\"72.840057\" xlink:href=\"#mec91a7b632\" y=\"340.533333\"/>\n      </g>\n     </g>\n    </g>\n    <g id=\"xtick_13\">\n     <g id=\"line2d_31\">\n      <g>\n       <use style=\"stroke:#000000;stroke-width:0.8;\" x=\"122.765075\" xlink:href=\"#mec91a7b632\" y=\"340.533333\"/>\n      </g>\n     </g>\n    </g>\n    <g id=\"xtick_14\">\n     <g id=\"line2d_32\">\n      <g>\n       <use style=\"stroke:#000000;stroke-width:0.8;\" x=\"172.690094\" xlink:href=\"#mec91a7b632\" y=\"340.533333\"/>\n      </g>\n     </g>\n    </g>\n   </g>\n   <g id=\"matplotlib.axis_8\">\n    <g id=\"ytick_19\">\n     <g id=\"line2d_33\">\n      <g>\n       <use style=\"stroke:#000000;stroke-width:0.8;\" x=\"66.053125\" xlink:href=\"#m1769ce0960\" y=\"333.184848\"/>\n      </g>\n     </g>\n     <g id=\"text_8\">\n      <!-- 0 -->\n      <g transform=\"translate(52.690625 336.984067)scale(0.1 -0.1)\">\n       <use xlink:href=\"#DejaVuSans-48\"/>\n      </g>\n     </g>\n    </g>\n    <g id=\"ytick_20\">\n     <g id=\"line2d_34\">\n      <g>\n       <use style=\"stroke:#000000;stroke-width:0.8;\" x=\"66.053125\" xlink:href=\"#m1769ce0960\" y=\"312.753094\"/>\n      </g>\n     </g>\n     <g id=\"text_9\">\n      <!-- 2500 -->\n      <g transform=\"translate(33.603125 316.552313)scale(0.1 -0.1)\">\n       <use xlink:href=\"#DejaVuSans-50\"/>\n       <use x=\"63.623047\" xlink:href=\"#DejaVuSans-53\"/>\n       <use x=\"127.246094\" xlink:href=\"#DejaVuSans-48\"/>\n       <use x=\"190.869141\" xlink:href=\"#DejaVuSans-48\"/>\n      </g>\n     </g>\n    </g>\n    <g id=\"ytick_21\">\n     <g id=\"line2d_35\">\n      <g>\n       <use style=\"stroke:#000000;stroke-width:0.8;\" x=\"66.053125\" xlink:href=\"#m1769ce0960\" y=\"292.321339\"/>\n      </g>\n     </g>\n     <g id=\"text_10\">\n      <!-- 5000 -->\n      <g transform=\"translate(33.603125 296.120558)scale(0.1 -0.1)\">\n       <use xlink:href=\"#DejaVuSans-53\"/>\n       <use x=\"63.623047\" xlink:href=\"#DejaVuSans-48\"/>\n       <use x=\"127.246094\" xlink:href=\"#DejaVuSans-48\"/>\n       <use x=\"190.869141\" xlink:href=\"#DejaVuSans-48\"/>\n      </g>\n     </g>\n    </g>\n    <g id=\"ytick_22\">\n     <g id=\"line2d_36\">\n      <g>\n       <use style=\"stroke:#000000;stroke-width:0.8;\" x=\"66.053125\" xlink:href=\"#m1769ce0960\" y=\"271.889585\"/>\n      </g>\n     </g>\n     <g id=\"text_11\">\n      <!-- 7500 -->\n      <defs>\n       <path d=\"M 8.203125 72.90625 \nL 55.078125 72.90625 \nL 55.078125 68.703125 \nL 28.609375 0 \nL 18.3125 0 \nL 43.21875 64.59375 \nL 8.203125 64.59375 \nz\n\" id=\"DejaVuSans-55\"/>\n      </defs>\n      <g transform=\"translate(33.603125 275.688804)scale(0.1 -0.1)\">\n       <use xlink:href=\"#DejaVuSans-55\"/>\n       <use x=\"63.623047\" xlink:href=\"#DejaVuSans-53\"/>\n       <use x=\"127.246094\" xlink:href=\"#DejaVuSans-48\"/>\n       <use x=\"190.869141\" xlink:href=\"#DejaVuSans-48\"/>\n      </g>\n     </g>\n    </g>\n    <g id=\"ytick_23\">\n     <g id=\"line2d_37\">\n      <g>\n       <use style=\"stroke:#000000;stroke-width:0.8;\" x=\"66.053125\" xlink:href=\"#m1769ce0960\" y=\"251.45783\"/>\n      </g>\n     </g>\n     <g id=\"text_12\">\n      <!-- 10000 -->\n      <g transform=\"translate(27.240625 255.257049)scale(0.1 -0.1)\">\n       <use xlink:href=\"#DejaVuSans-49\"/>\n       <use x=\"63.623047\" xlink:href=\"#DejaVuSans-48\"/>\n       <use x=\"127.246094\" xlink:href=\"#DejaVuSans-48\"/>\n       <use x=\"190.869141\" xlink:href=\"#DejaVuSans-48\"/>\n       <use x=\"254.492188\" xlink:href=\"#DejaVuSans-48\"/>\n      </g>\n     </g>\n    </g>\n    <g id=\"ytick_24\">\n     <g id=\"line2d_38\">\n      <g>\n       <use style=\"stroke:#000000;stroke-width:0.8;\" x=\"66.053125\" xlink:href=\"#m1769ce0960\" y=\"231.026076\"/>\n      </g>\n     </g>\n     <g id=\"text_13\">\n      <!-- 12500 -->\n      <g transform=\"translate(27.240625 234.825294)scale(0.1 -0.1)\">\n       <use xlink:href=\"#DejaVuSans-49\"/>\n       <use x=\"63.623047\" xlink:href=\"#DejaVuSans-50\"/>\n       <use x=\"127.246094\" xlink:href=\"#DejaVuSans-53\"/>\n       <use x=\"190.869141\" xlink:href=\"#DejaVuSans-48\"/>\n       <use x=\"254.492188\" xlink:href=\"#DejaVuSans-48\"/>\n      </g>\n     </g>\n    </g>\n    <g id=\"ytick_25\">\n     <g id=\"line2d_39\">\n      <g>\n       <use style=\"stroke:#000000;stroke-width:0.8;\" x=\"66.053125\" xlink:href=\"#m1769ce0960\" y=\"210.594321\"/>\n      </g>\n     </g>\n     <g id=\"text_14\">\n      <!-- 15000 -->\n      <g transform=\"translate(27.240625 214.39354)scale(0.1 -0.1)\">\n       <use xlink:href=\"#DejaVuSans-49\"/>\n       <use x=\"63.623047\" xlink:href=\"#DejaVuSans-53\"/>\n       <use x=\"127.246094\" xlink:href=\"#DejaVuSans-48\"/>\n       <use x=\"190.869141\" xlink:href=\"#DejaVuSans-48\"/>\n       <use x=\"254.492188\" xlink:href=\"#DejaVuSans-48\"/>\n      </g>\n     </g>\n    </g>\n    <g id=\"ytick_26\">\n     <g id=\"line2d_40\">\n      <g>\n       <use style=\"stroke:#000000;stroke-width:0.8;\" x=\"66.053125\" xlink:href=\"#m1769ce0960\" y=\"190.162566\"/>\n      </g>\n     </g>\n     <g id=\"text_15\">\n      <!-- 17500 -->\n      <g transform=\"translate(27.240625 193.961785)scale(0.1 -0.1)\">\n       <use xlink:href=\"#DejaVuSans-49\"/>\n       <use x=\"63.623047\" xlink:href=\"#DejaVuSans-55\"/>\n       <use x=\"127.246094\" xlink:href=\"#DejaVuSans-53\"/>\n       <use x=\"190.869141\" xlink:href=\"#DejaVuSans-48\"/>\n       <use x=\"254.492188\" xlink:href=\"#DejaVuSans-48\"/>\n      </g>\n     </g>\n    </g>\n    <g id=\"text_16\">\n     <!-- Deaths -->\n     <defs>\n      <path d=\"M 19.671875 64.796875 \nL 19.671875 8.109375 \nL 31.59375 8.109375 \nQ 46.6875 8.109375 53.6875 14.9375 \nQ 60.6875 21.78125 60.6875 36.53125 \nQ 60.6875 51.171875 53.6875 57.984375 \nQ 46.6875 64.796875 31.59375 64.796875 \nz\nM 9.8125 72.90625 \nL 30.078125 72.90625 \nQ 51.265625 72.90625 61.171875 64.09375 \nQ 71.09375 55.28125 71.09375 36.53125 \nQ 71.09375 17.671875 61.125 8.828125 \nQ 51.171875 0 30.078125 0 \nL 9.8125 0 \nz\n\" id=\"DejaVuSans-68\"/>\n      <path d=\"M 34.28125 27.484375 \nQ 23.390625 27.484375 19.1875 25 \nQ 14.984375 22.515625 14.984375 16.5 \nQ 14.984375 11.71875 18.140625 8.90625 \nQ 21.296875 6.109375 26.703125 6.109375 \nQ 34.1875 6.109375 38.703125 11.40625 \nQ 43.21875 16.703125 43.21875 25.484375 \nL 43.21875 27.484375 \nz\nM 52.203125 31.203125 \nL 52.203125 0 \nL 43.21875 0 \nL 43.21875 8.296875 \nQ 40.140625 3.328125 35.546875 0.953125 \nQ 30.953125 -1.421875 24.3125 -1.421875 \nQ 15.921875 -1.421875 10.953125 3.296875 \nQ 6 8.015625 6 15.921875 \nQ 6 25.140625 12.171875 29.828125 \nQ 18.359375 34.515625 30.609375 34.515625 \nL 43.21875 34.515625 \nL 43.21875 35.40625 \nQ 43.21875 41.609375 39.140625 45 \nQ 35.0625 48.390625 27.6875 48.390625 \nQ 23 48.390625 18.546875 47.265625 \nQ 14.109375 46.140625 10.015625 43.890625 \nL 10.015625 52.203125 \nQ 14.9375 54.109375 19.578125 55.046875 \nQ 24.21875 56 28.609375 56 \nQ 40.484375 56 46.34375 49.84375 \nQ 52.203125 43.703125 52.203125 31.203125 \nz\n\" id=\"DejaVuSans-97\"/>\n      <path d=\"M 18.3125 70.21875 \nL 18.3125 54.6875 \nL 36.8125 54.6875 \nL 36.8125 47.703125 \nL 18.3125 47.703125 \nL 18.3125 18.015625 \nQ 18.3125 11.328125 20.140625 9.421875 \nQ 21.96875 7.515625 27.59375 7.515625 \nL 36.8125 7.515625 \nL 36.8125 0 \nL 27.59375 0 \nQ 17.1875 0 13.234375 3.875 \nQ 9.28125 7.765625 9.28125 18.015625 \nL 9.28125 47.703125 \nL 2.6875 47.703125 \nL 2.6875 54.6875 \nL 9.28125 54.6875 \nL 9.28125 70.21875 \nz\n\" id=\"DejaVuSans-116\"/>\n      <path d=\"M 54.890625 33.015625 \nL 54.890625 0 \nL 45.90625 0 \nL 45.90625 32.71875 \nQ 45.90625 40.484375 42.875 44.328125 \nQ 39.84375 48.1875 33.796875 48.1875 \nQ 26.515625 48.1875 22.3125 43.546875 \nQ 18.109375 38.921875 18.109375 30.90625 \nL 18.109375 0 \nL 9.078125 0 \nL 9.078125 75.984375 \nL 18.109375 75.984375 \nL 18.109375 46.1875 \nQ 21.34375 51.125 25.703125 53.5625 \nQ 30.078125 56 35.796875 56 \nQ 45.21875 56 50.046875 50.171875 \nQ 54.890625 44.34375 54.890625 33.015625 \nz\n\" id=\"DejaVuSans-104\"/>\n      <path d=\"M 44.28125 53.078125 \nL 44.28125 44.578125 \nQ 40.484375 46.53125 36.375 47.5 \nQ 32.28125 48.484375 27.875 48.484375 \nQ 21.1875 48.484375 17.84375 46.4375 \nQ 14.5 44.390625 14.5 40.28125 \nQ 14.5 37.15625 16.890625 35.375 \nQ 19.28125 33.59375 26.515625 31.984375 \nL 29.59375 31.296875 \nQ 39.15625 29.25 43.1875 25.515625 \nQ 47.21875 21.78125 47.21875 15.09375 \nQ 47.21875 7.46875 41.1875 3.015625 \nQ 35.15625 -1.421875 24.609375 -1.421875 \nQ 20.21875 -1.421875 15.453125 -0.5625 \nQ 10.6875 0.296875 5.421875 2 \nL 5.421875 11.28125 \nQ 10.40625 8.6875 15.234375 7.390625 \nQ 20.0625 6.109375 24.8125 6.109375 \nQ 31.15625 6.109375 34.5625 8.28125 \nQ 37.984375 10.453125 37.984375 14.40625 \nQ 37.984375 18.0625 35.515625 20.015625 \nQ 33.0625 21.96875 24.703125 23.78125 \nL 21.578125 24.515625 \nQ 13.234375 26.265625 9.515625 29.90625 \nQ 5.8125 33.546875 5.8125 39.890625 \nQ 5.8125 47.609375 11.28125 51.796875 \nQ 16.75 56 26.8125 56 \nQ 31.78125 56 36.171875 55.265625 \nQ 40.578125 54.546875 44.28125 53.078125 \nz\n\" id=\"DejaVuSans-115\"/>\n     </defs>\n     <g transform=\"translate(21.160938 277.424219)rotate(-90)scale(0.1 -0.1)\">\n      <use xlink:href=\"#DejaVuSans-68\"/>\n      <use x=\"77.001953\" xlink:href=\"#DejaVuSans-101\"/>\n      <use x=\"138.525391\" xlink:href=\"#DejaVuSans-97\"/>\n      <use x=\"199.804688\" xlink:href=\"#DejaVuSans-116\"/>\n      <use x=\"239.013672\" xlink:href=\"#DejaVuSans-104\"/>\n      <use x=\"302.392578\" xlink:href=\"#DejaVuSans-115\"/>\n     </g>\n    </g>\n   </g>\n   <g id=\"patch_12\">\n    <path d=\"M 66.053125 340.533333 \nL 66.053125 178.866667 \n\" style=\"fill:none;stroke:#000000;stroke-linecap:square;stroke-linejoin:miter;stroke-width:0.8;\"/>\n   </g>\n   <g id=\"patch_13\">\n    <path d=\"M 66.053125 340.533333 \nL 215.365625 340.533333 \n\" style=\"fill:none;stroke:#000000;stroke-linecap:square;stroke-linejoin:miter;stroke-width:0.8;\"/>\n   </g>\n  </g>\n  <g id=\"axes_5\">\n   <g id=\"patch_14\">\n    <path d=\"M 237.428125 340.533333 \nL 386.740625 340.533333 \nL 386.740625 178.866667 \nL 237.428125 178.866667 \nz\n\" style=\"fill:#ffffff;\"/>\n   </g>\n   <g id=\"matplotlib.axis_9\">\n    <g id=\"xtick_15\">\n     <g id=\"line2d_41\">\n      <g>\n       <use style=\"stroke:#000000;stroke-width:0.8;\" x=\"244.215057\" xlink:href=\"#mec91a7b632\" y=\"340.533333\"/>\n      </g>\n     </g>\n    </g>\n    <g id=\"xtick_16\">\n     <g id=\"line2d_42\">\n      <g>\n       <use style=\"stroke:#000000;stroke-width:0.8;\" x=\"281.955878\" xlink:href=\"#mec91a7b632\" y=\"340.533333\"/>\n      </g>\n     </g>\n    </g>\n    <g id=\"xtick_17\">\n     <g id=\"line2d_43\">\n      <g>\n       <use style=\"stroke:#000000;stroke-width:0.8;\" x=\"319.696699\" xlink:href=\"#mec91a7b632\" y=\"340.533333\"/>\n      </g>\n     </g>\n    </g>\n    <g id=\"xtick_18\">\n     <g id=\"line2d_44\">\n      <g>\n       <use style=\"stroke:#000000;stroke-width:0.8;\" x=\"357.437519\" xlink:href=\"#mec91a7b632\" y=\"340.533333\"/>\n      </g>\n     </g>\n    </g>\n   </g>\n   <g id=\"matplotlib.axis_10\">\n    <g id=\"ytick_27\">\n     <g id=\"line2d_45\">\n      <g>\n       <use style=\"stroke:#000000;stroke-width:0.8;\" x=\"237.428125\" xlink:href=\"#m1769ce0960\" y=\"333.184848\"/>\n      </g>\n     </g>\n    </g>\n    <g id=\"ytick_28\">\n     <g id=\"line2d_46\">\n      <g>\n       <use style=\"stroke:#000000;stroke-width:0.8;\" x=\"237.428125\" xlink:href=\"#m1769ce0960\" y=\"312.753094\"/>\n      </g>\n     </g>\n    </g>\n    <g id=\"ytick_29\">\n     <g id=\"line2d_47\">\n      <g>\n       <use style=\"stroke:#000000;stroke-width:0.8;\" x=\"237.428125\" xlink:href=\"#m1769ce0960\" y=\"292.321339\"/>\n      </g>\n     </g>\n    </g>\n    <g id=\"ytick_30\">\n     <g id=\"line2d_48\">\n      <g>\n       <use style=\"stroke:#000000;stroke-width:0.8;\" x=\"237.428125\" xlink:href=\"#m1769ce0960\" y=\"271.889585\"/>\n      </g>\n     </g>\n    </g>\n    <g id=\"ytick_31\">\n     <g id=\"line2d_49\">\n      <g>\n       <use style=\"stroke:#000000;stroke-width:0.8;\" x=\"237.428125\" xlink:href=\"#m1769ce0960\" y=\"251.45783\"/>\n      </g>\n     </g>\n    </g>\n    <g id=\"ytick_32\">\n     <g id=\"line2d_50\">\n      <g>\n       <use style=\"stroke:#000000;stroke-width:0.8;\" x=\"237.428125\" xlink:href=\"#m1769ce0960\" y=\"231.026076\"/>\n      </g>\n     </g>\n    </g>\n    <g id=\"ytick_33\">\n     <g id=\"line2d_51\">\n      <g>\n       <use style=\"stroke:#000000;stroke-width:0.8;\" x=\"237.428125\" xlink:href=\"#m1769ce0960\" y=\"210.594321\"/>\n      </g>\n     </g>\n    </g>\n    <g id=\"ytick_34\">\n     <g id=\"line2d_52\">\n      <g>\n       <use style=\"stroke:#000000;stroke-width:0.8;\" x=\"237.428125\" xlink:href=\"#m1769ce0960\" y=\"190.162566\"/>\n      </g>\n     </g>\n    </g>\n   </g>\n   <g id=\"patch_15\">\n    <path d=\"M 237.428125 340.533333 \nL 237.428125 178.866667 \n\" style=\"fill:none;stroke:#000000;stroke-linecap:square;stroke-linejoin:miter;stroke-width:0.8;\"/>\n   </g>\n   <g id=\"patch_16\">\n    <path d=\"M 237.428125 340.533333 \nL 386.740625 340.533333 \n\" style=\"fill:none;stroke:#000000;stroke-linecap:square;stroke-linejoin:miter;stroke-width:0.8;\"/>\n   </g>\n  </g>\n  <g id=\"axes_6\">\n   <g id=\"patch_17\">\n    <path d=\"M 408.803125 340.533333 \nL 558.115625 340.533333 \nL 558.115625 178.866667 \nL 408.803125 178.866667 \nz\n\" style=\"fill:#ffffff;\"/>\n   </g>\n   <g id=\"PathCollection_4\">\n    <g clip-path=\"url(#p01702a1d43)\">\n     <use style=\"fill:#1f77b4;stroke:#ffffff;stroke-width:0.75;\" x=\"415.590057\" xlink:href=\"#m4cfe51e939\" y=\"333.184848\"/>\n     <use style=\"fill:#1f77b4;stroke:#ffffff;stroke-width:0.75;\" x=\"415.590057\" xlink:href=\"#m4cfe51e939\" y=\"333.184848\"/>\n     <use style=\"fill:#1f77b4;stroke:#ffffff;stroke-width:0.75;\" x=\"415.590057\" xlink:href=\"#m4cfe51e939\" y=\"333.184848\"/>\n     <use style=\"fill:#1f77b4;stroke:#ffffff;stroke-width:0.75;\" x=\"415.590057\" xlink:href=\"#m4cfe51e939\" y=\"333.184848\"/>\n     <use style=\"fill:#1f77b4;stroke:#ffffff;stroke-width:0.75;\" x=\"415.590057\" xlink:href=\"#m4cfe51e939\" y=\"333.184848\"/>\n     <use style=\"fill:#1f77b4;stroke:#ffffff;stroke-width:0.75;\" x=\"415.590057\" xlink:href=\"#m4cfe51e939\" y=\"333.184848\"/>\n     <use style=\"fill:#1f77b4;stroke:#ffffff;stroke-width:0.75;\" x=\"415.590057\" xlink:href=\"#m4cfe51e939\" y=\"333.184848\"/>\n     <use style=\"fill:#1f77b4;stroke:#ffffff;stroke-width:0.75;\" x=\"415.590057\" xlink:href=\"#m4cfe51e939\" y=\"333.184848\"/>\n     <use style=\"fill:#1f77b4;stroke:#ffffff;stroke-width:0.75;\" x=\"415.590057\" xlink:href=\"#m4cfe51e939\" y=\"333.184848\"/>\n     <use style=\"fill:#1f77b4;stroke:#ffffff;stroke-width:0.75;\" x=\"415.590057\" xlink:href=\"#m4cfe51e939\" y=\"333.184848\"/>\n     <use style=\"fill:#1f77b4;stroke:#ffffff;stroke-width:0.75;\" x=\"415.590057\" xlink:href=\"#m4cfe51e939\" y=\"333.184848\"/>\n     <use style=\"fill:#1f77b4;stroke:#ffffff;stroke-width:0.75;\" x=\"415.590057\" xlink:href=\"#m4cfe51e939\" y=\"333.184848\"/>\n     <use style=\"fill:#1f77b4;stroke:#ffffff;stroke-width:0.75;\" x=\"415.590057\" xlink:href=\"#m4cfe51e939\" y=\"333.184848\"/>\n     <use style=\"fill:#1f77b4;stroke:#ffffff;stroke-width:0.75;\" x=\"415.590057\" xlink:href=\"#m4cfe51e939\" y=\"333.184848\"/>\n     <use style=\"fill:#1f77b4;stroke:#ffffff;stroke-width:0.75;\" x=\"415.590057\" xlink:href=\"#m4cfe51e939\" y=\"333.184848\"/>\n     <use style=\"fill:#1f77b4;stroke:#ffffff;stroke-width:0.75;\" x=\"415.590057\" xlink:href=\"#m4cfe51e939\" y=\"333.184848\"/>\n     <use style=\"fill:#1f77b4;stroke:#ffffff;stroke-width:0.75;\" x=\"415.590057\" xlink:href=\"#m4cfe51e939\" y=\"333.184848\"/>\n     <use style=\"fill:#1f77b4;stroke:#ffffff;stroke-width:0.75;\" x=\"415.590057\" xlink:href=\"#m4cfe51e939\" y=\"333.184848\"/>\n     <use style=\"fill:#1f77b4;stroke:#ffffff;stroke-width:0.75;\" x=\"415.590057\" xlink:href=\"#m4cfe51e939\" y=\"333.184848\"/>\n     <use style=\"fill:#1f77b4;stroke:#ffffff;stroke-width:0.75;\" x=\"415.590057\" xlink:href=\"#m4cfe51e939\" y=\"333.184848\"/>\n     <use style=\"fill:#1f77b4;stroke:#ffffff;stroke-width:0.75;\" x=\"415.590939\" xlink:href=\"#m4cfe51e939\" y=\"333.184848\"/>\n     <use style=\"fill:#1f77b4;stroke:#ffffff;stroke-width:0.75;\" x=\"415.591822\" xlink:href=\"#m4cfe51e939\" y=\"333.176676\"/>\n     <use style=\"fill:#1f77b4;stroke:#ffffff;stroke-width:0.75;\" x=\"415.591822\" xlink:href=\"#m4cfe51e939\" y=\"333.16033\"/>\n     <use style=\"fill:#1f77b4;stroke:#ffffff;stroke-width:0.75;\" x=\"415.591822\" xlink:href=\"#m4cfe51e939\" y=\"333.135812\"/>\n     <use style=\"fill:#1f77b4;stroke:#ffffff;stroke-width:0.75;\" x=\"415.591822\" xlink:href=\"#m4cfe51e939\" y=\"333.094949\"/>\n     <use style=\"fill:#1f77b4;stroke:#ffffff;stroke-width:0.75;\" x=\"415.591822\" xlink:href=\"#m4cfe51e939\" y=\"333.062258\"/>\n     <use style=\"fill:#1f77b4;stroke:#ffffff;stroke-width:0.75;\" x=\"415.591822\" xlink:href=\"#m4cfe51e939\" y=\"332.980531\"/>\n     <use style=\"fill:#1f77b4;stroke:#ffffff;stroke-width:0.75;\" x=\"415.591822\" xlink:href=\"#m4cfe51e939\" y=\"332.906977\"/>\n     <use style=\"fill:#1f77b4;stroke:#ffffff;stroke-width:0.75;\" x=\"415.591822\" xlink:href=\"#m4cfe51e939\" y=\"332.808904\"/>\n     <use style=\"fill:#1f77b4;stroke:#ffffff;stroke-width:0.75;\" x=\"415.591822\" xlink:href=\"#m4cfe51e939\" y=\"332.702659\"/>\n     <use style=\"fill:#1f77b4;stroke:#ffffff;stroke-width:0.75;\" x=\"415.595351\" xlink:href=\"#m4cfe51e939\" y=\"332.55555\"/>\n     <use style=\"fill:#1f77b4;stroke:#ffffff;stroke-width:0.75;\" x=\"415.595351\" xlink:href=\"#m4cfe51e939\" y=\"332.43296\"/>\n     <use style=\"fill:#1f77b4;stroke:#ffffff;stroke-width:0.75;\" x=\"415.595351\" xlink:href=\"#m4cfe51e939\" y=\"332.277679\"/>\n     <use style=\"fill:#1f77b4;stroke:#ffffff;stroke-width:0.75;\" x=\"415.595351\" xlink:href=\"#m4cfe51e939\" y=\"332.073361\"/>\n     <use style=\"fill:#1f77b4;stroke:#ffffff;stroke-width:0.75;\" x=\"415.695942\" xlink:href=\"#m4cfe51e939\" y=\"331.885389\"/>\n     <use style=\"fill:#1f77b4;stroke:#ffffff;stroke-width:0.75;\" x=\"415.702119\" xlink:href=\"#m4cfe51e939\" y=\"331.542135\"/>\n     <use style=\"fill:#1f77b4;stroke:#ffffff;stroke-width:0.75;\" x=\"415.702119\" xlink:href=\"#m4cfe51e939\" y=\"331.2234\"/>\n     <use style=\"fill:#1f77b4;stroke:#ffffff;stroke-width:0.75;\" x=\"415.702119\" xlink:href=\"#m4cfe51e939\" y=\"330.536893\"/>\n     <use style=\"fill:#1f77b4;stroke:#ffffff;stroke-width:0.75;\" x=\"415.702119\" xlink:href=\"#m4cfe51e939\" y=\"330.250849\"/>\n     <use style=\"fill:#1f77b4;stroke:#ffffff;stroke-width:0.75;\" x=\"415.702119\" xlink:href=\"#m4cfe51e939\" y=\"329.547996\"/>\n     <use style=\"fill:#1f77b4;stroke:#ffffff;stroke-width:0.75;\" x=\"415.702119\" xlink:href=\"#m4cfe51e939\" y=\"329.212915\"/>\n     <use style=\"fill:#1f77b4;stroke:#ffffff;stroke-width:0.75;\" x=\"415.702119\" xlink:href=\"#m4cfe51e939\" y=\"328.575445\"/>\n     <use style=\"fill:#1f77b4;stroke:#ffffff;stroke-width:0.75;\" x=\"415.702119\" xlink:href=\"#m4cfe51e939\" y=\"327.578375\"/>\n     <use style=\"fill:#1f77b4;stroke:#ffffff;stroke-width:0.75;\" x=\"415.702119\" xlink:href=\"#m4cfe51e939\" y=\"326.491406\"/>\n     <use style=\"fill:#1f77b4;stroke:#ffffff;stroke-width:0.75;\" x=\"415.742708\" xlink:href=\"#m4cfe51e939\" y=\"325.420782\"/>\n     <use style=\"fill:#1f77b4;stroke:#ffffff;stroke-width:0.75;\" x=\"415.742708\" xlink:href=\"#m4cfe51e939\" y=\"324.546303\"/>\n     <use style=\"fill:#1f77b4;stroke:#ffffff;stroke-width:0.75;\" x=\"415.742708\" xlink:href=\"#m4cfe51e939\" y=\"323.998732\"/>\n     <use style=\"fill:#1f77b4;stroke:#ffffff;stroke-width:0.75;\" x=\"415.742708\" xlink:href=\"#m4cfe51e939\" y=\"323.189634\"/>\n     <use style=\"fill:#1f77b4;stroke:#ffffff;stroke-width:0.75;\" x=\"415.742708\" xlink:href=\"#m4cfe51e939\" y=\"322.3315\"/>\n     <use style=\"fill:#1f77b4;stroke:#ffffff;stroke-width:0.75;\" x=\"418.277776\" xlink:href=\"#m4cfe51e939\" y=\"320.664269\"/>\n     <use style=\"fill:#1f77b4;stroke:#ffffff;stroke-width:0.75;\" x=\"427.966271\" xlink:href=\"#m4cfe51e939\" y=\"318.997038\"/>\n     <use style=\"fill:#1f77b4;stroke:#ffffff;stroke-width:0.75;\" x=\"427.966271\" xlink:href=\"#m4cfe51e939\" y=\"317.46057\"/>\n     <use style=\"fill:#1f77b4;stroke:#ffffff;stroke-width:0.75;\" x=\"427.966271\" xlink:href=\"#m4cfe51e939\" y=\"315.687094\"/>\n     <use style=\"fill:#1f77b4;stroke:#ffffff;stroke-width:0.75;\" x=\"427.966271\" xlink:href=\"#m4cfe51e939\" y=\"313.946308\"/>\n     <use style=\"fill:#1f77b4;stroke:#ffffff;stroke-width:0.75;\" x=\"435.117051\" xlink:href=\"#m4cfe51e939\" y=\"313.063657\"/>\n     <use style=\"fill:#1f77b4;stroke:#ffffff;stroke-width:0.75;\" x=\"435.117051\" xlink:href=\"#m4cfe51e939\" y=\"312.042069\"/>\n     <use style=\"fill:#1f77b4;stroke:#ffffff;stroke-width:0.75;\" x=\"435.876777\" xlink:href=\"#m4cfe51e939\" y=\"310.783473\"/>\n     <use style=\"fill:#1f77b4;stroke:#ffffff;stroke-width:0.75;\" x=\"437.930067\" xlink:href=\"#m4cfe51e939\" y=\"309.434977\"/>\n     <use style=\"fill:#1f77b4;stroke:#ffffff;stroke-width:0.75;\" x=\"439.03745\" xlink:href=\"#m4cfe51e939\" y=\"305.961579\"/>\n     <use style=\"fill:#1f77b4;stroke:#ffffff;stroke-width:0.75;\" x=\"439.992181\" xlink:href=\"#m4cfe51e939\" y=\"302.913161\"/>\n     <use style=\"fill:#1f77b4;stroke:#ffffff;stroke-width:0.75;\" x=\"441.320158\" xlink:href=\"#m4cfe51e939\" y=\"300.028197\"/>\n     <use style=\"fill:#1f77b4;stroke:#ffffff;stroke-width:0.75;\" x=\"442.195475\" xlink:href=\"#m4cfe51e939\" y=\"298.156648\"/>\n     <use style=\"fill:#1f77b4;stroke:#ffffff;stroke-width:0.75;\" x=\"443.069028\" xlink:href=\"#m4cfe51e939\" y=\"295.565902\"/>\n     <use style=\"fill:#1f77b4;stroke:#ffffff;stroke-width:0.75;\" x=\"444.30612\" xlink:href=\"#m4cfe51e939\" y=\"291.643005\"/>\n     <use style=\"fill:#1f77b4;stroke:#ffffff;stroke-width:0.75;\" x=\"445.707334\" xlink:href=\"#m4cfe51e939\" y=\"288.128743\"/>\n     <use style=\"fill:#1f77b4;stroke:#ffffff;stroke-width:0.75;\" x=\"447.298259\" xlink:href=\"#m4cfe51e939\" y=\"284.099601\"/>\n     <use style=\"fill:#1f77b4;stroke:#ffffff;stroke-width:0.75;\" x=\"449.15478\" xlink:href=\"#m4cfe51e939\" y=\"280.781484\"/>\n     <use style=\"fill:#1f77b4;stroke:#ffffff;stroke-width:0.75;\" x=\"451.711907\" xlink:href=\"#m4cfe51e939\" y=\"277.929211\"/>\n     <use style=\"fill:#1f77b4;stroke:#ffffff;stroke-width:0.75;\" x=\"453.524308\" xlink:href=\"#m4cfe51e939\" y=\"275.559128\"/>\n     <use style=\"fill:#1f77b4;stroke:#ffffff;stroke-width:0.75;\" x=\"456.01614\" xlink:href=\"#m4cfe51e939\" y=\"272.976554\"/>\n     <use style=\"fill:#1f77b4;stroke:#ffffff;stroke-width:0.75;\" x=\"458.139138\" xlink:href=\"#m4cfe51e939\" y=\"268.309941\"/>\n     <use style=\"fill:#1f77b4;stroke:#ffffff;stroke-width:0.75;\" x=\"460.917742\" xlink:href=\"#m4cfe51e939\" y=\"262.997685\"/>\n     <use style=\"fill:#1f77b4;stroke:#ffffff;stroke-width:0.75;\" x=\"464.4296\" xlink:href=\"#m4cfe51e939\" y=\"258.077719\"/>\n     <use style=\"fill:#1f77b4;stroke:#ffffff;stroke-width:0.75;\" x=\"467.912341\" xlink:href=\"#m4cfe51e939\" y=\"251.318894\"/>\n     <use style=\"fill:#1f77b4;stroke:#ffffff;stroke-width:0.75;\" x=\"470.019456\" xlink:href=\"#m4cfe51e939\" y=\"246.096538\"/>\n     <use style=\"fill:#1f77b4;stroke:#ffffff;stroke-width:0.75;\" x=\"472.906592\" xlink:href=\"#m4cfe51e939\" y=\"242.279886\"/>\n     <use style=\"fill:#1f77b4;stroke:#ffffff;stroke-width:0.75;\" x=\"475.04812\" xlink:href=\"#m4cfe51e939\" y=\"237.948354\"/>\n     <use style=\"fill:#1f77b4;stroke:#ffffff;stroke-width:0.75;\" x=\"479.647949\" xlink:href=\"#m4cfe51e939\" y=\"231.344811\"/>\n     <use style=\"fill:#1f77b4;stroke:#ffffff;stroke-width:0.75;\" x=\"484.789558\" xlink:href=\"#m4cfe51e939\" y=\"224.978276\"/>\n     <use style=\"fill:#1f77b4;stroke:#ffffff;stroke-width:0.75;\" x=\"485.720465\" xlink:href=\"#m4cfe51e939\" y=\"218.775196\"/>\n     <use style=\"fill:#1f77b4;stroke:#ffffff;stroke-width:0.75;\" x=\"490.565595\" xlink:href=\"#m4cfe51e939\" y=\"210.904884\"/>\n     <use style=\"fill:#1f77b4;stroke:#ffffff;stroke-width:0.75;\" x=\"494.714529\" xlink:href=\"#m4cfe51e939\" y=\"205.183992\"/>\n     <use style=\"fill:#1f77b4;stroke:#ffffff;stroke-width:0.75;\" x=\"498.641105\" xlink:href=\"#m4cfe51e939\" y=\"201.45724\"/>\n     <use style=\"fill:#1f77b4;stroke:#ffffff;stroke-width:0.75;\" x=\"504.232726\" xlink:href=\"#m4cfe51e939\" y=\"195.450305\"/>\n     <use style=\"fill:#1f77b4;stroke:#ffffff;stroke-width:0.75;\" x=\"509.822581\" xlink:href=\"#m4cfe51e939\" y=\"186.215152\"/>\n     <use style=\"fill:#1f77b4;stroke:#ffffff;stroke-width:0.75;\" x=\"415.590057\" xlink:href=\"#m4cfe51e939\" y=\"332.563723\"/>\n     <use style=\"fill:#1f77b4;stroke:#ffffff;stroke-width:0.75;\" x=\"415.590057\" xlink:href=\"#m4cfe51e939\" y=\"331.1335\"/>\n     <use style=\"fill:#1f77b4;stroke:#ffffff;stroke-width:0.75;\" x=\"415.590057\" xlink:href=\"#m4cfe51e939\" y=\"332.024325\"/>\n     <use style=\"fill:#1f77b4;stroke:#ffffff;stroke-width:0.75;\" x=\"415.590057\" xlink:href=\"#m4cfe51e939\" y=\"320.427261\"/>\n     <use style=\"fill:#1f77b4;stroke:#ffffff;stroke-width:0.75;\" x=\"415.590057\" xlink:href=\"#m4cfe51e939\" y=\"330.22633\"/>\n     <use style=\"fill:#1f77b4;stroke:#ffffff;stroke-width:0.75;\" x=\"415.590057\" xlink:href=\"#m4cfe51e939\" y=\"317.656715\"/>\n     <use style=\"fill:#1f77b4;stroke:#ffffff;stroke-width:0.75;\" x=\"415.590057\" xlink:href=\"#m4cfe51e939\" y=\"332.55555\"/>\n     <use style=\"fill:#1f77b4;stroke:#ffffff;stroke-width:0.75;\" x=\"415.590057\" xlink:href=\"#m4cfe51e939\" y=\"330.397957\"/>\n     <use style=\"fill:#1f77b4;stroke:#ffffff;stroke-width:0.75;\" x=\"415.590057\" xlink:href=\"#m4cfe51e939\" y=\"332.547378\"/>\n     <use style=\"fill:#1f77b4;stroke:#ffffff;stroke-width:0.75;\" x=\"415.590057\" xlink:href=\"#m4cfe51e939\" y=\"328.003356\"/>\n     <use style=\"fill:#1f77b4;stroke:#ffffff;stroke-width:0.75;\" x=\"415.590057\" xlink:href=\"#m4cfe51e939\" y=\"332.923322\"/>\n     <use style=\"fill:#1f77b4;stroke:#ffffff;stroke-width:0.75;\" x=\"415.590057\" xlink:href=\"#m4cfe51e939\" y=\"333.045913\"/>\n     <use style=\"fill:#1f77b4;stroke:#ffffff;stroke-width:0.75;\" x=\"415.590057\" xlink:href=\"#m4cfe51e939\" y=\"331.73828\"/>\n     <use style=\"fill:#1f77b4;stroke:#ffffff;stroke-width:0.75;\" x=\"415.590057\" xlink:href=\"#m4cfe51e939\" y=\"319.838826\"/>\n     <use style=\"fill:#1f77b4;stroke:#ffffff;stroke-width:0.75;\" x=\"415.590057\" xlink:href=\"#m4cfe51e939\" y=\"331.305127\"/>\n     <use style=\"fill:#1f77b4;stroke:#ffffff;stroke-width:0.75;\" x=\"415.590057\" xlink:href=\"#m4cfe51e939\" y=\"332.065188\"/>\n     <use style=\"fill:#1f77b4;stroke:#ffffff;stroke-width:0.75;\" x=\"415.590057\" xlink:href=\"#m4cfe51e939\" y=\"318.196113\"/>\n     <use style=\"fill:#1f77b4;stroke:#ffffff;stroke-width:0.75;\" x=\"415.590057\" xlink:href=\"#m4cfe51e939\" y=\"332.473823\"/>\n     <use style=\"fill:#1f77b4;stroke:#ffffff;stroke-width:0.75;\" x=\"415.590057\" xlink:href=\"#m4cfe51e939\" y=\"331.795489\"/>\n     <use style=\"fill:#1f77b4;stroke:#ffffff;stroke-width:0.75;\" x=\"415.590057\" xlink:href=\"#m4cfe51e939\" y=\"331.869043\"/>\n     <use style=\"fill:#1f77b4;stroke:#ffffff;stroke-width:0.75;\" x=\"415.590057\" xlink:href=\"#m4cfe51e939\" y=\"306.729813\"/>\n     <use style=\"fill:#1f77b4;stroke:#ffffff;stroke-width:0.75;\" x=\"415.590057\" xlink:href=\"#m4cfe51e939\" y=\"332.449305\"/>\n     <use style=\"fill:#1f77b4;stroke:#ffffff;stroke-width:0.75;\" x=\"415.590057\" xlink:href=\"#m4cfe51e939\" y=\"332.661796\"/>\n     <use style=\"fill:#1f77b4;stroke:#ffffff;stroke-width:0.75;\" x=\"415.590057\" xlink:href=\"#m4cfe51e939\" y=\"332.416615\"/>\n     <use style=\"fill:#1f77b4;stroke:#ffffff;stroke-width:0.75;\" x=\"415.590057\" xlink:href=\"#m4cfe51e939\" y=\"289.354649\"/>\n     <use style=\"fill:#1f77b4;stroke:#ffffff;stroke-width:0.75;\" x=\"415.590057\" xlink:href=\"#m4cfe51e939\" y=\"332.620932\"/>\n     <use style=\"fill:#1f77b4;stroke:#ffffff;stroke-width:0.75;\" x=\"415.590057\" xlink:href=\"#m4cfe51e939\" y=\"332.841595\"/>\n     <use style=\"fill:#1f77b4;stroke:#ffffff;stroke-width:0.75;\" x=\"518.548403\" xlink:href=\"#m4cfe51e939\" y=\"333.184848\"/>\n     <use style=\"fill:#1f77b4;stroke:#ffffff;stroke-width:0.75;\" x=\"415.590057\" xlink:href=\"#m4cfe51e939\" y=\"332.547378\"/>\n     <use style=\"fill:#1f77b4;stroke:#ffffff;stroke-width:0.75;\" x=\"415.590057\" xlink:href=\"#m4cfe51e939\" y=\"331.043601\"/>\n     <use style=\"fill:#1f77b4;stroke:#ffffff;stroke-width:0.75;\" x=\"415.590057\" xlink:href=\"#m4cfe51e939\" y=\"331.950771\"/>\n     <use style=\"fill:#1f77b4;stroke:#ffffff;stroke-width:0.75;\" x=\"415.590057\" xlink:href=\"#m4cfe51e939\" y=\"319.945072\"/>\n     <use style=\"fill:#1f77b4;stroke:#ffffff;stroke-width:0.75;\" x=\"415.590057\" xlink:href=\"#m4cfe51e939\" y=\"330.111913\"/>\n     <use style=\"fill:#1f77b4;stroke:#ffffff;stroke-width:0.75;\" x=\"415.590057\" xlink:href=\"#m4cfe51e939\" y=\"315.52364\"/>\n     <use style=\"fill:#1f77b4;stroke:#ffffff;stroke-width:0.75;\" x=\"415.590057\" xlink:href=\"#m4cfe51e939\" y=\"332.498342\"/>\n     <use style=\"fill:#1f77b4;stroke:#ffffff;stroke-width:0.75;\" x=\"415.590057\" xlink:href=\"#m4cfe51e939\" y=\"330.218158\"/>\n     <use style=\"fill:#1f77b4;stroke:#ffffff;stroke-width:0.75;\" x=\"415.590057\" xlink:href=\"#m4cfe51e939\" y=\"332.490169\"/>\n     <use style=\"fill:#1f77b4;stroke:#ffffff;stroke-width:0.75;\" x=\"415.590057\" xlink:href=\"#m4cfe51e939\" y=\"327.766347\"/>\n     <use style=\"fill:#1f77b4;stroke:#ffffff;stroke-width:0.75;\" x=\"415.590057\" xlink:href=\"#m4cfe51e939\" y=\"332.906977\"/>\n     <use style=\"fill:#1f77b4;stroke:#ffffff;stroke-width:0.75;\" x=\"415.590057\" xlink:href=\"#m4cfe51e939\" y=\"333.045913\"/>\n     <use style=\"fill:#1f77b4;stroke:#ffffff;stroke-width:0.75;\" x=\"415.590057\" xlink:href=\"#m4cfe51e939\" y=\"331.623862\"/>\n     <use style=\"fill:#1f77b4;stroke:#ffffff;stroke-width:0.75;\" x=\"415.590057\" xlink:href=\"#m4cfe51e939\" y=\"318.049005\"/>\n     <use style=\"fill:#1f77b4;stroke:#ffffff;stroke-width:0.75;\" x=\"415.590057\" xlink:href=\"#m4cfe51e939\" y=\"331.182537\"/>\n     <use style=\"fill:#1f77b4;stroke:#ffffff;stroke-width:0.75;\" x=\"415.590057\" xlink:href=\"#m4cfe51e939\" y=\"332.032498\"/>\n     <use style=\"fill:#1f77b4;stroke:#ffffff;stroke-width:0.75;\" x=\"415.590057\" xlink:href=\"#m4cfe51e939\" y=\"317.452397\"/>\n     <use style=\"fill:#1f77b4;stroke:#ffffff;stroke-width:0.75;\" x=\"415.590057\" xlink:href=\"#m4cfe51e939\" y=\"332.441133\"/>\n     <use style=\"fill:#1f77b4;stroke:#ffffff;stroke-width:0.75;\" x=\"415.590057\" xlink:href=\"#m4cfe51e939\" y=\"331.730108\"/>\n     <use style=\"fill:#1f77b4;stroke:#ffffff;stroke-width:0.75;\" x=\"415.590057\" xlink:href=\"#m4cfe51e939\" y=\"331.82818\"/>\n     <use style=\"fill:#1f77b4;stroke:#ffffff;stroke-width:0.75;\" x=\"415.590057\" xlink:href=\"#m4cfe51e939\" y=\"305.29959\"/>\n     <use style=\"fill:#1f77b4;stroke:#ffffff;stroke-width:0.75;\" x=\"415.590057\" xlink:href=\"#m4cfe51e939\" y=\"332.359406\"/>\n     <use style=\"fill:#1f77b4;stroke:#ffffff;stroke-width:0.75;\" x=\"415.590057\" xlink:href=\"#m4cfe51e939\" y=\"332.596414\"/>\n     <use style=\"fill:#1f77b4;stroke:#ffffff;stroke-width:0.75;\" x=\"415.590057\" xlink:href=\"#m4cfe51e939\" y=\"332.383924\"/>\n     <use style=\"fill:#1f77b4;stroke:#ffffff;stroke-width:0.75;\" x=\"415.590057\" xlink:href=\"#m4cfe51e939\" y=\"287.760972\"/>\n     <use style=\"fill:#1f77b4;stroke:#ffffff;stroke-width:0.75;\" x=\"415.590057\" xlink:href=\"#m4cfe51e939\" y=\"332.563723\"/>\n     <use style=\"fill:#1f77b4;stroke:#ffffff;stroke-width:0.75;\" x=\"415.590057\" xlink:href=\"#m4cfe51e939\" y=\"332.800731\"/>\n     <use style=\"fill:#1f77b4;stroke:#ffffff;stroke-width:0.75;\" x=\"526.734211\" xlink:href=\"#m4cfe51e939\" y=\"333.184848\"/>\n     <use style=\"fill:#1f77b4;stroke:#ffffff;stroke-width:0.75;\" x=\"415.590057\" xlink:href=\"#m4cfe51e939\" y=\"332.531032\"/>\n     <use style=\"fill:#1f77b4;stroke:#ffffff;stroke-width:0.75;\" x=\"415.590057\" xlink:href=\"#m4cfe51e939\" y=\"330.896492\"/>\n     <use style=\"fill:#1f77b4;stroke:#ffffff;stroke-width:0.75;\" x=\"415.590057\" xlink:href=\"#m4cfe51e939\" y=\"331.901734\"/>\n     <use style=\"fill:#1f77b4;stroke:#ffffff;stroke-width:0.75;\" x=\"415.590057\" xlink:href=\"#m4cfe51e939\" y=\"319.544609\"/>\n     <use style=\"fill:#1f77b4;stroke:#ffffff;stroke-width:0.75;\" x=\"415.590057\" xlink:href=\"#m4cfe51e939\" y=\"329.92394\"/>\n     <use style=\"fill:#1f77b4;stroke:#ffffff;stroke-width:0.75;\" x=\"415.590057\" xlink:href=\"#m4cfe51e939\" y=\"314.788097\"/>\n     <use style=\"fill:#1f77b4;stroke:#ffffff;stroke-width:0.75;\" x=\"415.590057\" xlink:href=\"#m4cfe51e939\" y=\"332.449305\"/>\n     <use style=\"fill:#1f77b4;stroke:#ffffff;stroke-width:0.75;\" x=\"415.590057\" xlink:href=\"#m4cfe51e939\" y=\"329.940286\"/>\n     <use style=\"fill:#1f77b4;stroke:#ffffff;stroke-width:0.75;\" x=\"415.590057\" xlink:href=\"#m4cfe51e939\" y=\"332.424787\"/>\n     <use style=\"fill:#1f77b4;stroke:#ffffff;stroke-width:0.75;\" x=\"415.590057\" xlink:href=\"#m4cfe51e939\" y=\"327.521166\"/>\n     <use style=\"fill:#1f77b4;stroke:#ffffff;stroke-width:0.75;\" x=\"415.590057\" xlink:href=\"#m4cfe51e939\" y=\"332.882459\"/>\n     <use style=\"fill:#1f77b4;stroke:#ffffff;stroke-width:0.75;\" x=\"415.590057\" xlink:href=\"#m4cfe51e939\" y=\"333.045913\"/>\n     <use style=\"fill:#1f77b4;stroke:#ffffff;stroke-width:0.75;\" x=\"415.590057\" xlink:href=\"#m4cfe51e939\" y=\"331.542135\"/>\n     <use style=\"fill:#1f77b4;stroke:#ffffff;stroke-width:0.75;\" x=\"415.590057\" xlink:href=\"#m4cfe51e939\" y=\"317.354325\"/>\n     <use style=\"fill:#1f77b4;stroke:#ffffff;stroke-width:0.75;\" x=\"415.590057\" xlink:href=\"#m4cfe51e939\" y=\"331.158018\"/>\n     <use style=\"fill:#1f77b4;stroke:#ffffff;stroke-width:0.75;\" x=\"415.590057\" xlink:href=\"#m4cfe51e939\" y=\"331.991634\"/>\n     <use style=\"fill:#1f77b4;stroke:#ffffff;stroke-width:0.75;\" x=\"415.590057\" xlink:href=\"#m4cfe51e939\" y=\"316.373601\"/>\n     <use style=\"fill:#1f77b4;stroke:#ffffff;stroke-width:0.75;\" x=\"415.590057\" xlink:href=\"#m4cfe51e939\" y=\"332.424787\"/>\n     <use style=\"fill:#1f77b4;stroke:#ffffff;stroke-width:0.75;\" x=\"415.590057\" xlink:href=\"#m4cfe51e939\" y=\"331.705589\"/>\n     <use style=\"fill:#1f77b4;stroke:#ffffff;stroke-width:0.75;\" x=\"415.590057\" xlink:href=\"#m4cfe51e939\" y=\"331.779144\"/>\n     <use style=\"fill:#1f77b4;stroke:#ffffff;stroke-width:0.75;\" x=\"415.590057\" xlink:href=\"#m4cfe51e939\" y=\"303.297278\"/>\n     <use style=\"fill:#1f77b4;stroke:#ffffff;stroke-width:0.75;\" x=\"415.590057\" xlink:href=\"#m4cfe51e939\" y=\"332.318542\"/>\n     <use style=\"fill:#1f77b4;stroke:#ffffff;stroke-width:0.75;\" x=\"415.590057\" xlink:href=\"#m4cfe51e939\" y=\"332.506514\"/>\n     <use style=\"fill:#1f77b4;stroke:#ffffff;stroke-width:0.75;\" x=\"415.590057\" xlink:href=\"#m4cfe51e939\" y=\"332.367578\"/>\n     <use style=\"fill:#1f77b4;stroke:#ffffff;stroke-width:0.75;\" x=\"415.590057\" xlink:href=\"#m4cfe51e939\" y=\"286.003841\"/>\n     <use style=\"fill:#1f77b4;stroke:#ffffff;stroke-width:0.75;\" x=\"415.590057\" xlink:href=\"#m4cfe51e939\" y=\"332.514687\"/>\n     <use style=\"fill:#1f77b4;stroke:#ffffff;stroke-width:0.75;\" x=\"415.590057\" xlink:href=\"#m4cfe51e939\" y=\"332.784386\"/>\n     <use style=\"fill:#1f77b4;stroke:#ffffff;stroke-width:0.75;\" x=\"535.090317\" xlink:href=\"#m4cfe51e939\" y=\"333.184848\"/>\n     <use style=\"fill:#1f77b4;stroke:#ffffff;stroke-width:0.75;\" x=\"415.590057\" xlink:href=\"#m4cfe51e939\" y=\"332.473823\"/>\n     <use style=\"fill:#1f77b4;stroke:#ffffff;stroke-width:0.75;\" x=\"415.590057\" xlink:href=\"#m4cfe51e939\" y=\"330.724865\"/>\n     <use style=\"fill:#1f77b4;stroke:#ffffff;stroke-width:0.75;\" x=\"415.590057\" xlink:href=\"#m4cfe51e939\" y=\"331.860871\"/>\n     <use style=\"fill:#1f77b4;stroke:#ffffff;stroke-width:0.75;\" x=\"415.590057\" xlink:href=\"#m4cfe51e939\" y=\"318.931656\"/>\n     <use style=\"fill:#1f77b4;stroke:#ffffff;stroke-width:0.75;\" x=\"415.590057\" xlink:href=\"#m4cfe51e939\" y=\"329.809523\"/>\n     <use style=\"fill:#1f77b4;stroke:#ffffff;stroke-width:0.75;\" x=\"415.590057\" xlink:href=\"#m4cfe51e939\" y=\"314.322253\"/>\n     <use style=\"fill:#1f77b4;stroke:#ffffff;stroke-width:0.75;\" x=\"415.590057\" xlink:href=\"#m4cfe51e939\" y=\"332.408442\"/>\n     <use style=\"fill:#1f77b4;stroke:#ffffff;stroke-width:0.75;\" x=\"415.590057\" xlink:href=\"#m4cfe51e939\" y=\"329.776832\"/>\n     <use style=\"fill:#1f77b4;stroke:#ffffff;stroke-width:0.75;\" x=\"415.590057\" xlink:href=\"#m4cfe51e939\" y=\"332.408442\"/>\n     <use style=\"fill:#1f77b4;stroke:#ffffff;stroke-width:0.75;\" x=\"415.590057\" xlink:href=\"#m4cfe51e939\" y=\"327.284158\"/>\n     <use style=\"fill:#1f77b4;stroke:#ffffff;stroke-width:0.75;\" x=\"415.590057\" xlink:href=\"#m4cfe51e939\" y=\"332.882459\"/>\n     <use style=\"fill:#1f77b4;stroke:#ffffff;stroke-width:0.75;\" x=\"415.590057\" xlink:href=\"#m4cfe51e939\" y=\"333.045913\"/>\n     <use style=\"fill:#1f77b4;stroke:#ffffff;stroke-width:0.75;\" x=\"415.590057\" xlink:href=\"#m4cfe51e939\" y=\"331.411372\"/>\n     <use style=\"fill:#1f77b4;stroke:#ffffff;stroke-width:0.75;\" x=\"415.590057\" xlink:href=\"#m4cfe51e939\" y=\"316.831272\"/>\n     <use style=\"fill:#1f77b4;stroke:#ffffff;stroke-width:0.75;\" x=\"415.590057\" xlink:href=\"#m4cfe51e939\" y=\"331.076291\"/>\n     <use style=\"fill:#1f77b4;stroke:#ffffff;stroke-width:0.75;\" x=\"415.590057\" xlink:href=\"#m4cfe51e939\" y=\"331.958943\"/>\n     <use style=\"fill:#1f77b4;stroke:#ffffff;stroke-width:0.75;\" x=\"415.590057\" xlink:href=\"#m4cfe51e939\" y=\"315.662576\"/>\n     <use style=\"fill:#1f77b4;stroke:#ffffff;stroke-width:0.75;\" x=\"415.590057\" xlink:href=\"#m4cfe51e939\" y=\"332.375751\"/>\n     <use style=\"fill:#1f77b4;stroke:#ffffff;stroke-width:0.75;\" x=\"415.590057\" xlink:href=\"#m4cfe51e939\" y=\"331.681071\"/>\n     <use style=\"fill:#1f77b4;stroke:#ffffff;stroke-width:0.75;\" x=\"415.590057\" xlink:href=\"#m4cfe51e939\" y=\"331.746453\"/>\n     <use style=\"fill:#1f77b4;stroke:#ffffff;stroke-width:0.75;\" x=\"415.590057\" xlink:href=\"#m4cfe51e939\" y=\"301.270448\"/>\n     <use style=\"fill:#1f77b4;stroke:#ffffff;stroke-width:0.75;\" x=\"415.590057\" xlink:href=\"#m4cfe51e939\" y=\"332.244988\"/>\n     <use style=\"fill:#1f77b4;stroke:#ffffff;stroke-width:0.75;\" x=\"415.590057\" xlink:href=\"#m4cfe51e939\" y=\"332.52286\"/>\n     <use style=\"fill:#1f77b4;stroke:#ffffff;stroke-width:0.75;\" x=\"415.590057\" xlink:href=\"#m4cfe51e939\" y=\"332.34306\"/>\n     <use style=\"fill:#1f77b4;stroke:#ffffff;stroke-width:0.75;\" x=\"415.590057\" xlink:href=\"#m4cfe51e939\" y=\"283.780866\"/>\n     <use style=\"fill:#1f77b4;stroke:#ffffff;stroke-width:0.75;\" x=\"415.590057\" xlink:href=\"#m4cfe51e939\" y=\"332.481996\"/>\n     <use style=\"fill:#1f77b4;stroke:#ffffff;stroke-width:0.75;\" x=\"415.590057\" xlink:href=\"#m4cfe51e939\" y=\"332.768041\"/>\n     <use style=\"fill:#1f77b4;stroke:#ffffff;stroke-width:0.75;\" x=\"541.405486\" xlink:href=\"#m4cfe51e939\" y=\"333.184848\"/>\n     <use style=\"fill:#1f77b4;stroke:#ffffff;stroke-width:0.75;\" x=\"415.590057\" xlink:href=\"#m4cfe51e939\" y=\"332.43296\"/>\n     <use style=\"fill:#1f77b4;stroke:#ffffff;stroke-width:0.75;\" x=\"415.590057\" xlink:href=\"#m4cfe51e939\" y=\"330.602275\"/>\n     <use style=\"fill:#1f77b4;stroke:#ffffff;stroke-width:0.75;\" x=\"415.590057\" xlink:href=\"#m4cfe51e939\" y=\"331.852698\"/>\n     <use style=\"fill:#1f77b4;stroke:#ffffff;stroke-width:0.75;\" x=\"415.590057\" xlink:href=\"#m4cfe51e939\" y=\"318.817239\"/>\n     <use style=\"fill:#1f77b4;stroke:#ffffff;stroke-width:0.75;\" x=\"415.590057\" xlink:href=\"#m4cfe51e939\" y=\"329.425406\"/>\n     <use style=\"fill:#1f77b4;stroke:#ffffff;stroke-width:0.75;\" x=\"415.590057\" xlink:href=\"#m4cfe51e939\" y=\"314.191489\"/>\n     <use style=\"fill:#1f77b4;stroke:#ffffff;stroke-width:0.75;\" x=\"415.590057\" xlink:href=\"#m4cfe51e939\" y=\"332.334887\"/>\n     <use style=\"fill:#1f77b4;stroke:#ffffff;stroke-width:0.75;\" x=\"415.590057\" xlink:href=\"#m4cfe51e939\" y=\"329.539823\"/>\n     <use style=\"fill:#1f77b4;stroke:#ffffff;stroke-width:0.75;\" x=\"415.590057\" xlink:href=\"#m4cfe51e939\" y=\"332.408442\"/>\n     <use style=\"fill:#1f77b4;stroke:#ffffff;stroke-width:0.75;\" x=\"415.590057\" xlink:href=\"#m4cfe51e939\" y=\"327.022631\"/>\n     <use style=\"fill:#1f77b4;stroke:#ffffff;stroke-width:0.75;\" x=\"415.590057\" xlink:href=\"#m4cfe51e939\" y=\"332.85794\"/>\n     <use style=\"fill:#1f77b4;stroke:#ffffff;stroke-width:0.75;\" x=\"415.590057\" xlink:href=\"#m4cfe51e939\" y=\"333.045913\"/>\n     <use style=\"fill:#1f77b4;stroke:#ffffff;stroke-width:0.75;\" x=\"415.590057\" xlink:href=\"#m4cfe51e939\" y=\"331.337818\"/>\n     <use style=\"fill:#1f77b4;stroke:#ffffff;stroke-width:0.75;\" x=\"415.590057\" xlink:href=\"#m4cfe51e939\" y=\"315.629885\"/>\n     <use style=\"fill:#1f77b4;stroke:#ffffff;stroke-width:0.75;\" x=\"415.590057\" xlink:href=\"#m4cfe51e939\" y=\"330.961874\"/>\n     <use style=\"fill:#1f77b4;stroke:#ffffff;stroke-width:0.75;\" x=\"415.590057\" xlink:href=\"#m4cfe51e939\" y=\"331.934425\"/>\n     <use style=\"fill:#1f77b4;stroke:#ffffff;stroke-width:0.75;\" x=\"415.590057\" xlink:href=\"#m4cfe51e939\" y=\"315.204904\"/>\n     <use style=\"fill:#1f77b4;stroke:#ffffff;stroke-width:0.75;\" x=\"415.590057\" xlink:href=\"#m4cfe51e939\" y=\"332.310369\"/>\n     <use style=\"fill:#1f77b4;stroke:#ffffff;stroke-width:0.75;\" x=\"415.590057\" xlink:href=\"#m4cfe51e939\" y=\"331.550308\"/>\n     <use style=\"fill:#1f77b4;stroke:#ffffff;stroke-width:0.75;\" x=\"415.590057\" xlink:href=\"#m4cfe51e939\" y=\"331.713762\"/>\n     <use style=\"fill:#1f77b4;stroke:#ffffff;stroke-width:0.75;\" x=\"415.590057\" xlink:href=\"#m4cfe51e939\" y=\"300.55125\"/>\n     <use style=\"fill:#1f77b4;stroke:#ffffff;stroke-width:0.75;\" x=\"415.590057\" xlink:href=\"#m4cfe51e939\" y=\"332.195952\"/>\n     <use style=\"fill:#1f77b4;stroke:#ffffff;stroke-width:0.75;\" x=\"415.590057\" xlink:href=\"#m4cfe51e939\" y=\"332.498342\"/>\n     <use style=\"fill:#1f77b4;stroke:#ffffff;stroke-width:0.75;\" x=\"415.590057\" xlink:href=\"#m4cfe51e939\" y=\"332.326715\"/>\n     <use style=\"fill:#1f77b4;stroke:#ffffff;stroke-width:0.75;\" x=\"415.590057\" xlink:href=\"#m4cfe51e939\" y=\"282.816487\"/>\n     <use style=\"fill:#1f77b4;stroke:#ffffff;stroke-width:0.75;\" x=\"415.590057\" xlink:href=\"#m4cfe51e939\" y=\"332.424787\"/>\n     <use style=\"fill:#1f77b4;stroke:#ffffff;stroke-width:0.75;\" x=\"415.590057\" xlink:href=\"#m4cfe51e939\" y=\"332.759868\"/>\n     <use style=\"fill:#1f77b4;stroke:#ffffff;stroke-width:0.75;\" x=\"547.868012\" xlink:href=\"#m4cfe51e939\" y=\"333.184848\"/>\n     <use style=\"fill:#1f77b4;stroke:#ffffff;stroke-width:0.75;\" x=\"415.590057\" xlink:href=\"#m4cfe51e939\" y=\"332.392096\"/>\n     <use style=\"fill:#1f77b4;stroke:#ffffff;stroke-width:0.75;\" x=\"415.590057\" xlink:href=\"#m4cfe51e939\" y=\"330.430648\"/>\n     <use style=\"fill:#1f77b4;stroke:#ffffff;stroke-width:0.75;\" x=\"415.590057\" xlink:href=\"#m4cfe51e939\" y=\"331.811835\"/>\n     <use style=\"fill:#1f77b4;stroke:#ffffff;stroke-width:0.75;\" x=\"415.590057\" xlink:href=\"#m4cfe51e939\" y=\"318.629267\"/>\n     <use style=\"fill:#1f77b4;stroke:#ffffff;stroke-width:0.75;\" x=\"415.590057\" xlink:href=\"#m4cfe51e939\" y=\"329.28647\"/>\n     <use style=\"fill:#1f77b4;stroke:#ffffff;stroke-width:0.75;\" x=\"415.590057\" xlink:href=\"#m4cfe51e939\" y=\"312.810303\"/>\n     <use style=\"fill:#1f77b4;stroke:#ffffff;stroke-width:0.75;\" x=\"415.590057\" xlink:href=\"#m4cfe51e939\" y=\"332.25316\"/>\n     <use style=\"fill:#1f77b4;stroke:#ffffff;stroke-width:0.75;\" x=\"415.590057\" xlink:href=\"#m4cfe51e939\" y=\"329.384542\"/>\n     <use style=\"fill:#1f77b4;stroke:#ffffff;stroke-width:0.75;\" x=\"415.590057\" xlink:href=\"#m4cfe51e939\" y=\"332.400269\"/>\n     <use style=\"fill:#1f77b4;stroke:#ffffff;stroke-width:0.75;\" x=\"415.590057\" xlink:href=\"#m4cfe51e939\" y=\"326.77745\"/>\n     <use style=\"fill:#1f77b4;stroke:#ffffff;stroke-width:0.75;\" x=\"415.590057\" xlink:href=\"#m4cfe51e939\" y=\"332.849768\"/>\n     <use style=\"fill:#1f77b4;stroke:#ffffff;stroke-width:0.75;\" x=\"415.590057\" xlink:href=\"#m4cfe51e939\" y=\"333.045913\"/>\n     <use style=\"fill:#1f77b4;stroke:#ffffff;stroke-width:0.75;\" x=\"415.590057\" xlink:href=\"#m4cfe51e939\" y=\"331.305127\"/>\n     <use style=\"fill:#1f77b4;stroke:#ffffff;stroke-width:0.75;\" x=\"415.590057\" xlink:href=\"#m4cfe51e939\" y=\"313.7992\"/>\n     <use style=\"fill:#1f77b4;stroke:#ffffff;stroke-width:0.75;\" x=\"415.590057\" xlink:href=\"#m4cfe51e939\" y=\"330.904665\"/>\n     <use style=\"fill:#1f77b4;stroke:#ffffff;stroke-width:0.75;\" x=\"415.590057\" xlink:href=\"#m4cfe51e939\" y=\"331.909907\"/>\n     <use style=\"fill:#1f77b4;stroke:#ffffff;stroke-width:0.75;\" x=\"415.590057\" xlink:href=\"#m4cfe51e939\" y=\"314.812615\"/>\n     <use style=\"fill:#1f77b4;stroke:#ffffff;stroke-width:0.75;\" x=\"415.590057\" xlink:href=\"#m4cfe51e939\" y=\"332.285851\"/>\n     <use style=\"fill:#1f77b4;stroke:#ffffff;stroke-width:0.75;\" x=\"415.590057\" xlink:href=\"#m4cfe51e939\" y=\"331.476754\"/>\n     <use style=\"fill:#1f77b4;stroke:#ffffff;stroke-width:0.75;\" x=\"415.590057\" xlink:href=\"#m4cfe51e939\" y=\"331.574826\"/>\n     <use style=\"fill:#1f77b4;stroke:#ffffff;stroke-width:0.75;\" x=\"415.590057\" xlink:href=\"#m4cfe51e939\" y=\"299.635907\"/>\n     <use style=\"fill:#1f77b4;stroke:#ffffff;stroke-width:0.75;\" x=\"415.590057\" xlink:href=\"#m4cfe51e939\" y=\"332.195952\"/>\n     <use style=\"fill:#1f77b4;stroke:#ffffff;stroke-width:0.75;\" x=\"415.590057\" xlink:href=\"#m4cfe51e939\" y=\"332.481996\"/>\n     <use style=\"fill:#1f77b4;stroke:#ffffff;stroke-width:0.75;\" x=\"415.590057\" xlink:href=\"#m4cfe51e939\" y=\"332.294024\"/>\n     <use style=\"fill:#1f77b4;stroke:#ffffff;stroke-width:0.75;\" x=\"415.590057\" xlink:href=\"#m4cfe51e939\" y=\"282.350643\"/>\n     <use style=\"fill:#1f77b4;stroke:#ffffff;stroke-width:0.75;\" x=\"415.590057\" xlink:href=\"#m4cfe51e939\" y=\"332.34306\"/>\n     <use style=\"fill:#1f77b4;stroke:#ffffff;stroke-width:0.75;\" x=\"415.590057\" xlink:href=\"#m4cfe51e939\" y=\"332.710832\"/>\n     <use style=\"fill:#1f77b4;stroke:#ffffff;stroke-width:0.75;\" x=\"551.328693\" xlink:href=\"#m4cfe51e939\" y=\"333.184848\"/>\n    </g>\n   </g>\n   <g id=\"matplotlib.axis_11\">\n    <g id=\"xtick_19\">\n     <g id=\"line2d_53\">\n      <g>\n       <use style=\"stroke:#000000;stroke-width:0.8;\" x=\"415.590057\" xlink:href=\"#mec91a7b632\" y=\"340.533333\"/>\n      </g>\n     </g>\n    </g>\n    <g id=\"xtick_20\">\n     <g id=\"line2d_54\">\n      <g>\n       <use style=\"stroke:#000000;stroke-width:0.8;\" x=\"459.708886\" xlink:href=\"#mec91a7b632\" y=\"340.533333\"/>\n      </g>\n     </g>\n    </g>\n    <g id=\"xtick_21\">\n     <g id=\"line2d_55\">\n      <g>\n       <use style=\"stroke:#000000;stroke-width:0.8;\" x=\"503.827715\" xlink:href=\"#mec91a7b632\" y=\"340.533333\"/>\n      </g>\n     </g>\n    </g>\n    <g id=\"xtick_22\">\n     <g id=\"line2d_56\">\n      <g>\n       <use style=\"stroke:#000000;stroke-width:0.8;\" x=\"547.946544\" xlink:href=\"#mec91a7b632\" y=\"340.533333\"/>\n      </g>\n     </g>\n    </g>\n   </g>\n   <g id=\"matplotlib.axis_12\">\n    <g id=\"ytick_35\">\n     <g id=\"line2d_57\">\n      <g>\n       <use style=\"stroke:#000000;stroke-width:0.8;\" x=\"408.803125\" xlink:href=\"#m1769ce0960\" y=\"333.184848\"/>\n      </g>\n     </g>\n    </g>\n    <g id=\"ytick_36\">\n     <g id=\"line2d_58\">\n      <g>\n       <use style=\"stroke:#000000;stroke-width:0.8;\" x=\"408.803125\" xlink:href=\"#m1769ce0960\" y=\"312.753094\"/>\n      </g>\n     </g>\n    </g>\n    <g id=\"ytick_37\">\n     <g id=\"line2d_59\">\n      <g>\n       <use style=\"stroke:#000000;stroke-width:0.8;\" x=\"408.803125\" xlink:href=\"#m1769ce0960\" y=\"292.321339\"/>\n      </g>\n     </g>\n    </g>\n    <g id=\"ytick_38\">\n     <g id=\"line2d_60\">\n      <g>\n       <use style=\"stroke:#000000;stroke-width:0.8;\" x=\"408.803125\" xlink:href=\"#m1769ce0960\" y=\"271.889585\"/>\n      </g>\n     </g>\n    </g>\n    <g id=\"ytick_39\">\n     <g id=\"line2d_61\">\n      <g>\n       <use style=\"stroke:#000000;stroke-width:0.8;\" x=\"408.803125\" xlink:href=\"#m1769ce0960\" y=\"251.45783\"/>\n      </g>\n     </g>\n    </g>\n    <g id=\"ytick_40\">\n     <g id=\"line2d_62\">\n      <g>\n       <use style=\"stroke:#000000;stroke-width:0.8;\" x=\"408.803125\" xlink:href=\"#m1769ce0960\" y=\"231.026076\"/>\n      </g>\n     </g>\n    </g>\n    <g id=\"ytick_41\">\n     <g id=\"line2d_63\">\n      <g>\n       <use style=\"stroke:#000000;stroke-width:0.8;\" x=\"408.803125\" xlink:href=\"#m1769ce0960\" y=\"210.594321\"/>\n      </g>\n     </g>\n    </g>\n    <g id=\"ytick_42\">\n     <g id=\"line2d_64\">\n      <g>\n       <use style=\"stroke:#000000;stroke-width:0.8;\" x=\"408.803125\" xlink:href=\"#m1769ce0960\" y=\"190.162566\"/>\n      </g>\n     </g>\n    </g>\n   </g>\n   <g id=\"patch_18\">\n    <path d=\"M 408.803125 340.533333 \nL 408.803125 178.866667 \n\" style=\"fill:none;stroke:#000000;stroke-linecap:square;stroke-linejoin:miter;stroke-width:0.8;\"/>\n   </g>\n   <g id=\"patch_19\">\n    <path d=\"M 408.803125 340.533333 \nL 558.115625 340.533333 \n\" style=\"fill:none;stroke:#000000;stroke-linecap:square;stroke-linejoin:miter;stroke-width:0.8;\"/>\n   </g>\n  </g>\n  <g id=\"axes_7\">\n   <g id=\"patch_20\">\n    <path d=\"M 66.053125 512.2 \nL 215.365625 512.2 \nL 215.365625 350.533333 \nL 66.053125 350.533333 \nz\n\" style=\"fill:#ffffff;\"/>\n   </g>\n   <g id=\"PathCollection_5\">\n    <g clip-path=\"url(#pa8099dd168)\">\n     <use style=\"fill:#1f77b4;stroke:#ffffff;stroke-width:0.75;\" x=\"72.840057\" xlink:href=\"#m4cfe51e939\" y=\"504.851515\"/>\n     <use style=\"fill:#1f77b4;stroke:#ffffff;stroke-width:0.75;\" x=\"72.840556\" xlink:href=\"#m4cfe51e939\" y=\"504.851515\"/>\n     <use style=\"fill:#1f77b4;stroke:#ffffff;stroke-width:0.75;\" x=\"72.840556\" xlink:href=\"#m4cfe51e939\" y=\"504.851515\"/>\n     <use style=\"fill:#1f77b4;stroke:#ffffff;stroke-width:0.75;\" x=\"72.840556\" xlink:href=\"#m4cfe51e939\" y=\"504.851515\"/>\n     <use style=\"fill:#1f77b4;stroke:#ffffff;stroke-width:0.75;\" x=\"72.841055\" xlink:href=\"#m4cfe51e939\" y=\"504.851515\"/>\n     <use style=\"fill:#1f77b4;stroke:#ffffff;stroke-width:0.75;\" x=\"72.841055\" xlink:href=\"#m4cfe51e939\" y=\"504.851515\"/>\n     <use style=\"fill:#1f77b4;stroke:#ffffff;stroke-width:0.75;\" x=\"72.841055\" xlink:href=\"#m4cfe51e939\" y=\"504.851515\"/>\n     <use style=\"fill:#1f77b4;stroke:#ffffff;stroke-width:0.75;\" x=\"72.841055\" xlink:href=\"#m4cfe51e939\" y=\"504.851515\"/>\n     <use style=\"fill:#1f77b4;stroke:#ffffff;stroke-width:0.75;\" x=\"72.842054\" xlink:href=\"#m4cfe51e939\" y=\"504.851515\"/>\n     <use style=\"fill:#1f77b4;stroke:#ffffff;stroke-width:0.75;\" x=\"72.842054\" xlink:href=\"#m4cfe51e939\" y=\"504.851515\"/>\n     <use style=\"fill:#1f77b4;stroke:#ffffff;stroke-width:0.75;\" x=\"72.846547\" xlink:href=\"#m4cfe51e939\" y=\"504.851515\"/>\n     <use style=\"fill:#1f77b4;stroke:#ffffff;stroke-width:0.75;\" x=\"72.846547\" xlink:href=\"#m4cfe51e939\" y=\"504.851515\"/>\n     <use style=\"fill:#1f77b4;stroke:#ffffff;stroke-width:0.75;\" x=\"72.850042\" xlink:href=\"#m4cfe51e939\" y=\"504.851515\"/>\n     <use style=\"fill:#1f77b4;stroke:#ffffff;stroke-width:0.75;\" x=\"72.852538\" xlink:href=\"#m4cfe51e939\" y=\"504.851515\"/>\n     <use style=\"fill:#1f77b4;stroke:#ffffff;stroke-width:0.75;\" x=\"72.855534\" xlink:href=\"#m4cfe51e939\" y=\"504.851515\"/>\n     <use style=\"fill:#1f77b4;stroke:#ffffff;stroke-width:0.75;\" x=\"72.859028\" xlink:href=\"#m4cfe51e939\" y=\"504.851515\"/>\n     <use style=\"fill:#1f77b4;stroke:#ffffff;stroke-width:0.75;\" x=\"72.866018\" xlink:href=\"#m4cfe51e939\" y=\"504.851515\"/>\n     <use style=\"fill:#1f77b4;stroke:#ffffff;stroke-width:0.75;\" x=\"72.915444\" xlink:href=\"#m4cfe51e939\" y=\"504.851515\"/>\n     <use style=\"fill:#1f77b4;stroke:#ffffff;stroke-width:0.75;\" x=\"72.915444\" xlink:href=\"#m4cfe51e939\" y=\"504.851515\"/>\n     <use style=\"fill:#1f77b4;stroke:#ffffff;stroke-width:0.75;\" x=\"72.920935\" xlink:href=\"#m4cfe51e939\" y=\"504.851515\"/>\n     <use style=\"fill:#1f77b4;stroke:#ffffff;stroke-width:0.75;\" x=\"72.939907\" xlink:href=\"#m4cfe51e939\" y=\"504.85056\"/>\n     <use style=\"fill:#1f77b4;stroke:#ffffff;stroke-width:0.75;\" x=\"73.000316\" xlink:href=\"#m4cfe51e939\" y=\"504.849604\"/>\n     <use style=\"fill:#1f77b4;stroke:#ffffff;stroke-width:0.75;\" x=\"73.025778\" xlink:href=\"#m4cfe51e939\" y=\"504.849604\"/>\n     <use style=\"fill:#1f77b4;stroke:#ffffff;stroke-width:0.75;\" x=\"73.150091\" xlink:href=\"#m4cfe51e939\" y=\"504.849604\"/>\n     <use style=\"fill:#1f77b4;stroke:#ffffff;stroke-width:0.75;\" x=\"73.235962\" xlink:href=\"#m4cfe51e939\" y=\"504.849604\"/>\n     <use style=\"fill:#1f77b4;stroke:#ffffff;stroke-width:0.75;\" x=\"73.349791\" xlink:href=\"#m4cfe51e939\" y=\"504.849604\"/>\n     <use style=\"fill:#1f77b4;stroke:#ffffff;stroke-width:0.75;\" x=\"73.611898\" xlink:href=\"#m4cfe51e939\" y=\"504.849604\"/>\n     <use style=\"fill:#1f77b4;stroke:#ffffff;stroke-width:0.75;\" x=\"73.800614\" xlink:href=\"#m4cfe51e939\" y=\"504.849604\"/>\n     <use style=\"fill:#1f77b4;stroke:#ffffff;stroke-width:0.75;\" x=\"73.961872\" xlink:href=\"#m4cfe51e939\" y=\"504.849604\"/>\n     <use style=\"fill:#1f77b4;stroke:#ffffff;stroke-width:0.75;\" x=\"74.115142\" xlink:href=\"#m4cfe51e939\" y=\"504.849604\"/>\n     <use style=\"fill:#1f77b4;stroke:#ffffff;stroke-width:0.75;\" x=\"74.330319\" xlink:href=\"#m4cfe51e939\" y=\"504.845783\"/>\n     <use style=\"fill:#1f77b4;stroke:#ffffff;stroke-width:0.75;\" x=\"74.545995\" xlink:href=\"#m4cfe51e939\" y=\"504.845783\"/>\n     <use style=\"fill:#1f77b4;stroke:#ffffff;stroke-width:0.75;\" x=\"74.78913\" xlink:href=\"#m4cfe51e939\" y=\"504.845783\"/>\n     <use style=\"fill:#1f77b4;stroke:#ffffff;stroke-width:0.75;\" x=\"74.964866\" xlink:href=\"#m4cfe51e939\" y=\"504.845783\"/>\n     <use style=\"fill:#1f77b4;stroke:#ffffff;stroke-width:0.75;\" x=\"75.126123\" xlink:href=\"#m4cfe51e939\" y=\"504.736869\"/>\n     <use style=\"fill:#1f77b4;stroke:#ffffff;stroke-width:0.75;\" x=\"75.69427\" xlink:href=\"#m4cfe51e939\" y=\"504.730181\"/>\n     <use style=\"fill:#1f77b4;stroke:#ffffff;stroke-width:0.75;\" x=\"76.252931\" xlink:href=\"#m4cfe51e939\" y=\"504.730181\"/>\n     <use style=\"fill:#1f77b4;stroke:#ffffff;stroke-width:0.75;\" x=\"76.856025\" xlink:href=\"#m4cfe51e939\" y=\"504.730181\"/>\n     <use style=\"fill:#1f77b4;stroke:#ffffff;stroke-width:0.75;\" x=\"77.361266\" xlink:href=\"#m4cfe51e939\" y=\"504.730181\"/>\n     <use style=\"fill:#1f77b4;stroke:#ffffff;stroke-width:0.75;\" x=\"78.012289\" xlink:href=\"#m4cfe51e939\" y=\"504.730181\"/>\n     <use style=\"fill:#1f77b4;stroke:#ffffff;stroke-width:0.75;\" x=\"78.396711\" xlink:href=\"#m4cfe51e939\" y=\"504.730181\"/>\n     <use style=\"fill:#1f77b4;stroke:#ffffff;stroke-width:0.75;\" x=\"78.911438\" xlink:href=\"#m4cfe51e939\" y=\"504.730181\"/>\n     <use style=\"fill:#1f77b4;stroke:#ffffff;stroke-width:0.75;\" x=\"79.846534\" xlink:href=\"#m4cfe51e939\" y=\"504.730181\"/>\n     <use style=\"fill:#1f77b4;stroke:#ffffff;stroke-width:0.75;\" x=\"80.912932\" xlink:href=\"#m4cfe51e939\" y=\"504.730181\"/>\n     <use style=\"fill:#1f77b4;stroke:#ffffff;stroke-width:0.75;\" x=\"81.872491\" xlink:href=\"#m4cfe51e939\" y=\"504.686234\"/>\n     <use style=\"fill:#1f77b4;stroke:#ffffff;stroke-width:0.75;\" x=\"82.644332\" xlink:href=\"#m4cfe51e939\" y=\"504.686234\"/>\n     <use style=\"fill:#1f77b4;stroke:#ffffff;stroke-width:0.75;\" x=\"83.188015\" xlink:href=\"#m4cfe51e939\" y=\"504.686234\"/>\n     <use style=\"fill:#1f77b4;stroke:#ffffff;stroke-width:0.75;\" x=\"83.919417\" xlink:href=\"#m4cfe51e939\" y=\"504.686234\"/>\n     <use style=\"fill:#1f77b4;stroke:#ffffff;stroke-width:0.75;\" x=\"84.537489\" xlink:href=\"#m4cfe51e939\" y=\"504.686234\"/>\n     <use style=\"fill:#1f77b4;stroke:#ffffff;stroke-width:0.75;\" x=\"85.452115\" xlink:href=\"#m4cfe51e939\" y=\"501.941413\"/>\n     <use style=\"fill:#1f77b4;stroke:#ffffff;stroke-width:0.75;\" x=\"86.978822\" xlink:href=\"#m4cfe51e939\" y=\"491.451289\"/>\n     <use style=\"fill:#1f77b4;stroke:#ffffff;stroke-width:0.75;\" x=\"88.029744\" xlink:href=\"#m4cfe51e939\" y=\"491.451289\"/>\n     <use style=\"fill:#1f77b4;stroke:#ffffff;stroke-width:0.75;\" x=\"89.655802\" xlink:href=\"#m4cfe51e939\" y=\"491.451289\"/>\n     <use style=\"fill:#1f77b4;stroke:#ffffff;stroke-width:0.75;\" x=\"91.14157\" xlink:href=\"#m4cfe51e939\" y=\"491.451289\"/>\n     <use style=\"fill:#1f77b4;stroke:#ffffff;stroke-width:0.75;\" x=\"92.138073\" xlink:href=\"#m4cfe51e939\" y=\"483.708851\"/>\n     <use style=\"fill:#1f77b4;stroke:#ffffff;stroke-width:0.75;\" x=\"93.181007\" xlink:href=\"#m4cfe51e939\" y=\"483.708851\"/>\n     <use style=\"fill:#1f77b4;stroke:#ffffff;stroke-width:0.75;\" x=\"94.347256\" xlink:href=\"#m4cfe51e939\" y=\"482.886265\"/>\n     <use style=\"fill:#1f77b4;stroke:#ffffff;stroke-width:0.75;\" x=\"95.684248\" xlink:href=\"#m4cfe51e939\" y=\"480.663085\"/>\n     <use style=\"fill:#1f77b4;stroke:#ffffff;stroke-width:0.75;\" x=\"97.820539\" xlink:href=\"#m4cfe51e939\" y=\"479.464077\"/>\n     <use style=\"fill:#1f77b4;stroke:#ffffff;stroke-width:0.75;\" x=\"99.821035\" xlink:href=\"#m4cfe51e939\" y=\"478.430351\"/>\n     <use style=\"fill:#1f77b4;stroke:#ffffff;stroke-width:0.75;\" x=\"102.457575\" xlink:href=\"#m4cfe51e939\" y=\"476.992497\"/>\n     <use style=\"fill:#1f77b4;stroke:#ffffff;stroke-width:0.75;\" x=\"104.342743\" xlink:href=\"#m4cfe51e939\" y=\"476.044755\"/>\n     <use style=\"fill:#1f77b4;stroke:#ffffff;stroke-width:0.75;\" x=\"106.512485\" xlink:href=\"#m4cfe51e939\" y=\"475.098924\"/>\n     <use style=\"fill:#1f77b4;stroke:#ffffff;stroke-width:0.75;\" x=\"109.402644\" xlink:href=\"#m4cfe51e939\" y=\"473.759475\"/>\n     <use style=\"fill:#1f77b4;stroke:#ffffff;stroke-width:0.75;\" x=\"112.622808\" xlink:href=\"#m4cfe51e939\" y=\"472.242324\"/>\n     <use style=\"fill:#1f77b4;stroke:#ffffff;stroke-width:0.75;\" x=\"116.368183\" xlink:href=\"#m4cfe51e939\" y=\"470.519765\"/>\n     <use style=\"fill:#1f77b4;stroke:#ffffff;stroke-width:0.75;\" x=\"118.871922\" xlink:href=\"#m4cfe51e939\" y=\"468.509636\"/>\n     <use style=\"fill:#1f77b4;stroke:#ffffff;stroke-width:0.75;\" x=\"121.31725\" xlink:href=\"#m4cfe51e939\" y=\"465.740931\"/>\n     <use style=\"fill:#1f77b4;stroke:#ffffff;stroke-width:0.75;\" x=\"123.676706\" xlink:href=\"#m4cfe51e939\" y=\"463.778571\"/>\n     <use style=\"fill:#1f77b4;stroke:#ffffff;stroke-width:0.75;\" x=\"127.068612\" xlink:href=\"#m4cfe51e939\" y=\"461.080564\"/>\n     <use style=\"fill:#1f77b4;stroke:#ffffff;stroke-width:0.75;\" x=\"130.480987\" xlink:href=\"#m4cfe51e939\" y=\"458.781909\"/>\n     <use style=\"fill:#1f77b4;stroke:#ffffff;stroke-width:0.75;\" x=\"136.050622\" xlink:href=\"#m4cfe51e939\" y=\"455.773402\"/>\n     <use style=\"fill:#1f77b4;stroke:#ffffff;stroke-width:0.75;\" x=\"140.624752\" xlink:href=\"#m4cfe51e939\" y=\"451.970971\"/>\n     <use style=\"fill:#1f77b4;stroke:#ffffff;stroke-width:0.75;\" x=\"146.176913\" xlink:href=\"#m4cfe51e939\" y=\"448.200068\"/>\n     <use style=\"fill:#1f77b4;stroke:#ffffff;stroke-width:0.75;\" x=\"150.75354\" xlink:href=\"#m4cfe51e939\" y=\"445.918609\"/>\n     <use style=\"fill:#1f77b4;stroke:#ffffff;stroke-width:0.75;\" x=\"154.067563\" xlink:href=\"#m4cfe51e939\" y=\"442.79259\"/>\n     <use style=\"fill:#1f77b4;stroke:#ffffff;stroke-width:0.75;\" x=\"157.509893\" xlink:href=\"#m4cfe51e939\" y=\"440.473871\"/>\n     <use style=\"fill:#1f77b4;stroke:#ffffff;stroke-width:0.75;\" x=\"161.813429\" xlink:href=\"#m4cfe51e939\" y=\"435.493451\"/>\n     <use style=\"fill:#1f77b4;stroke:#ffffff;stroke-width:0.75;\" x=\"167.765989\" xlink:href=\"#m4cfe51e939\" y=\"429.926424\"/>\n     <use style=\"fill:#1f77b4;stroke:#ffffff;stroke-width:0.75;\" x=\"174.270221\" xlink:href=\"#m4cfe51e939\" y=\"428.918493\"/>\n     <use style=\"fill:#1f77b4;stroke:#ffffff;stroke-width:0.75;\" x=\"182.820379\" xlink:href=\"#m4cfe51e939\" y=\"423.672476\"/>\n     <use style=\"fill:#1f77b4;stroke:#ffffff;stroke-width:0.75;\" x=\"189.420467\" xlink:href=\"#m4cfe51e939\" y=\"419.180257\"/>\n     <use style=\"fill:#1f77b4;stroke:#ffffff;stroke-width:0.75;\" x=\"193.199291\" xlink:href=\"#m4cfe51e939\" y=\"414.928795\"/>\n     <use style=\"fill:#1f77b4;stroke:#ffffff;stroke-width:0.75;\" x=\"200.332578\" xlink:href=\"#m4cfe51e939\" y=\"408.874522\"/>\n     <use style=\"fill:#1f77b4;stroke:#ffffff;stroke-width:0.75;\" x=\"208.578693\" xlink:href=\"#m4cfe51e939\" y=\"402.82216\"/>\n     <use style=\"fill:#1f77b4;stroke:#ffffff;stroke-width:0.75;\" x=\"74.246445\" xlink:href=\"#m4cfe51e939\" y=\"504.851515\"/>\n     <use style=\"fill:#1f77b4;stroke:#ffffff;stroke-width:0.75;\" x=\"75.05523\" xlink:href=\"#m4cfe51e939\" y=\"504.851515\"/>\n     <use style=\"fill:#1f77b4;stroke:#ffffff;stroke-width:0.75;\" x=\"75.111146\" xlink:href=\"#m4cfe51e939\" y=\"504.851515\"/>\n     <use style=\"fill:#1f77b4;stroke:#ffffff;stroke-width:0.75;\" x=\"84.674283\" xlink:href=\"#m4cfe51e939\" y=\"504.851515\"/>\n     <use style=\"fill:#1f77b4;stroke:#ffffff;stroke-width:0.75;\" x=\"78.430161\" xlink:href=\"#m4cfe51e939\" y=\"504.851515\"/>\n     <use style=\"fill:#1f77b4;stroke:#ffffff;stroke-width:0.75;\" x=\"88.097142\" xlink:href=\"#m4cfe51e939\" y=\"504.851515\"/>\n     <use style=\"fill:#1f77b4;stroke:#ffffff;stroke-width:0.75;\" x=\"75.416687\" xlink:href=\"#m4cfe51e939\" y=\"504.851515\"/>\n     <use style=\"fill:#1f77b4;stroke:#ffffff;stroke-width:0.75;\" x=\"76.879989\" xlink:href=\"#m4cfe51e939\" y=\"504.851515\"/>\n     <use style=\"fill:#1f77b4;stroke:#ffffff;stroke-width:0.75;\" x=\"73.827574\" xlink:href=\"#m4cfe51e939\" y=\"504.851515\"/>\n     <use style=\"fill:#1f77b4;stroke:#ffffff;stroke-width:0.75;\" x=\"80.385724\" xlink:href=\"#m4cfe51e939\" y=\"504.851515\"/>\n     <use style=\"fill:#1f77b4;stroke:#ffffff;stroke-width:0.75;\" x=\"73.366267\" xlink:href=\"#m4cfe51e939\" y=\"504.851515\"/>\n     <use style=\"fill:#1f77b4;stroke:#ffffff;stroke-width:0.75;\" x=\"73.186037\" xlink:href=\"#m4cfe51e939\" y=\"504.851515\"/>\n     <use style=\"fill:#1f77b4;stroke:#ffffff;stroke-width:0.75;\" x=\"75.479093\" xlink:href=\"#m4cfe51e939\" y=\"504.851515\"/>\n     <use style=\"fill:#1f77b4;stroke:#ffffff;stroke-width:0.75;\" x=\"81.893959\" xlink:href=\"#m4cfe51e939\" y=\"504.851515\"/>\n     <use style=\"fill:#1f77b4;stroke:#ffffff;stroke-width:0.75;\" x=\"75.754679\" xlink:href=\"#m4cfe51e939\" y=\"504.851515\"/>\n     <use style=\"fill:#1f77b4;stroke:#ffffff;stroke-width:0.75;\" x=\"74.146095\" xlink:href=\"#m4cfe51e939\" y=\"504.851515\"/>\n     <use style=\"fill:#1f77b4;stroke:#ffffff;stroke-width:0.75;\" x=\"84.103141\" xlink:href=\"#m4cfe51e939\" y=\"504.851515\"/>\n     <use style=\"fill:#1f77b4;stroke:#ffffff;stroke-width:0.75;\" x=\"74.15658\" xlink:href=\"#m4cfe51e939\" y=\"504.851515\"/>\n     <use style=\"fill:#1f77b4;stroke:#ffffff;stroke-width:0.75;\" x=\"74.735211\" xlink:href=\"#m4cfe51e939\" y=\"504.851515\"/>\n     <use style=\"fill:#1f77b4;stroke:#ffffff;stroke-width:0.75;\" x=\"75.322828\" xlink:href=\"#m4cfe51e939\" y=\"504.851515\"/>\n     <use style=\"fill:#1f77b4;stroke:#ffffff;stroke-width:0.75;\" x=\"88.003283\" xlink:href=\"#m4cfe51e939\" y=\"504.851515\"/>\n     <use style=\"fill:#1f77b4;stroke:#ffffff;stroke-width:0.75;\" x=\"74.087683\" xlink:href=\"#m4cfe51e939\" y=\"504.851515\"/>\n     <use style=\"fill:#1f77b4;stroke:#ffffff;stroke-width:0.75;\" x=\"73.872007\" xlink:href=\"#m4cfe51e939\" y=\"504.851515\"/>\n     <use style=\"fill:#1f77b4;stroke:#ffffff;stroke-width:0.75;\" x=\"75.585434\" xlink:href=\"#m4cfe51e939\" y=\"504.851515\"/>\n     <use style=\"fill:#1f77b4;stroke:#ffffff;stroke-width:0.75;\" x=\"107.717175\" xlink:href=\"#m4cfe51e939\" y=\"504.851515\"/>\n     <use style=\"fill:#1f77b4;stroke:#ffffff;stroke-width:0.75;\" x=\"74.97535\" xlink:href=\"#m4cfe51e939\" y=\"504.851515\"/>\n     <use style=\"fill:#1f77b4;stroke:#ffffff;stroke-width:0.75;\" x=\"73.7432\" xlink:href=\"#m4cfe51e939\" y=\"504.851515\"/>\n     <use style=\"fill:#1f77b4;stroke:#ffffff;stroke-width:0.75;\" x=\"72.840057\" xlink:href=\"#m4cfe51e939\" y=\"393.37436\"/>\n     <use style=\"fill:#1f77b4;stroke:#ffffff;stroke-width:0.75;\" x=\"74.38923\" xlink:href=\"#m4cfe51e939\" y=\"504.851515\"/>\n     <use style=\"fill:#1f77b4;stroke:#ffffff;stroke-width:0.75;\" x=\"75.294371\" xlink:href=\"#m4cfe51e939\" y=\"504.851515\"/>\n     <use style=\"fill:#1f77b4;stroke:#ffffff;stroke-width:0.75;\" x=\"75.430167\" xlink:href=\"#m4cfe51e939\" y=\"504.851515\"/>\n     <use style=\"fill:#1f77b4;stroke:#ffffff;stroke-width:0.75;\" x=\"85.504536\" xlink:href=\"#m4cfe51e939\" y=\"504.851515\"/>\n     <use style=\"fill:#1f77b4;stroke:#ffffff;stroke-width:0.75;\" x=\"78.801603\" xlink:href=\"#m4cfe51e939\" y=\"504.851515\"/>\n     <use style=\"fill:#1f77b4;stroke:#ffffff;stroke-width:0.75;\" x=\"88.523003\" xlink:href=\"#m4cfe51e939\" y=\"504.851515\"/>\n     <use style=\"fill:#1f77b4;stroke:#ffffff;stroke-width:0.75;\" x=\"75.606901\" xlink:href=\"#m4cfe51e939\" y=\"504.851515\"/>\n     <use style=\"fill:#1f77b4;stroke:#ffffff;stroke-width:0.75;\" x=\"77.2724\" xlink:href=\"#m4cfe51e939\" y=\"504.851515\"/>\n     <use style=\"fill:#1f77b4;stroke:#ffffff;stroke-width:0.75;\" x=\"73.895472\" xlink:href=\"#m4cfe51e939\" y=\"504.851515\"/>\n     <use style=\"fill:#1f77b4;stroke:#ffffff;stroke-width:0.75;\" x=\"80.857016\" xlink:href=\"#m4cfe51e939\" y=\"504.851515\"/>\n     <use style=\"fill:#1f77b4;stroke:#ffffff;stroke-width:0.75;\" x=\"73.425178\" xlink:href=\"#m4cfe51e939\" y=\"504.851515\"/>\n     <use style=\"fill:#1f77b4;stroke:#ffffff;stroke-width:0.75;\" x=\"73.212497\" xlink:href=\"#m4cfe51e939\" y=\"504.851515\"/>\n     <use style=\"fill:#1f77b4;stroke:#ffffff;stroke-width:0.75;\" x=\"75.633861\" xlink:href=\"#m4cfe51e939\" y=\"504.851515\"/>\n     <use style=\"fill:#1f77b4;stroke:#ffffff;stroke-width:0.75;\" x=\"82.703243\" xlink:href=\"#m4cfe51e939\" y=\"504.851515\"/>\n     <use style=\"fill:#1f77b4;stroke:#ffffff;stroke-width:0.75;\" x=\"75.954379\" xlink:href=\"#m4cfe51e939\" y=\"504.851515\"/>\n     <use style=\"fill:#1f77b4;stroke:#ffffff;stroke-width:0.75;\" x=\"74.24295\" xlink:href=\"#m4cfe51e939\" y=\"504.851515\"/>\n     <use style=\"fill:#1f77b4;stroke:#ffffff;stroke-width:0.75;\" x=\"84.777628\" xlink:href=\"#m4cfe51e939\" y=\"504.851515\"/>\n     <use style=\"fill:#1f77b4;stroke:#ffffff;stroke-width:0.75;\" x=\"74.263918\" xlink:href=\"#m4cfe51e939\" y=\"504.851515\"/>\n     <use style=\"fill:#1f77b4;stroke:#ffffff;stroke-width:0.75;\" x=\"74.867013\" xlink:href=\"#m4cfe51e939\" y=\"504.851515\"/>\n     <use style=\"fill:#1f77b4;stroke:#ffffff;stroke-width:0.75;\" x=\"75.572453\" xlink:href=\"#m4cfe51e939\" y=\"504.851515\"/>\n     <use style=\"fill:#1f77b4;stroke:#ffffff;stroke-width:0.75;\" x=\"88.860496\" xlink:href=\"#m4cfe51e939\" y=\"504.851515\"/>\n     <use style=\"fill:#1f77b4;stroke:#ffffff;stroke-width:0.75;\" x=\"74.167563\" xlink:href=\"#m4cfe51e939\" y=\"504.851515\"/>\n     <use style=\"fill:#1f77b4;stroke:#ffffff;stroke-width:0.75;\" x=\"73.911448\" xlink:href=\"#m4cfe51e939\" y=\"504.851515\"/>\n     <use style=\"fill:#1f77b4;stroke:#ffffff;stroke-width:0.75;\" x=\"75.64085\" xlink:href=\"#m4cfe51e939\" y=\"504.851515\"/>\n     <use style=\"fill:#1f77b4;stroke:#ffffff;stroke-width:0.75;\" x=\"109.654266\" xlink:href=\"#m4cfe51e939\" y=\"504.851515\"/>\n     <use style=\"fill:#1f77b4;stroke:#ffffff;stroke-width:0.75;\" x=\"75.203507\" xlink:href=\"#m4cfe51e939\" y=\"504.851515\"/>\n     <use style=\"fill:#1f77b4;stroke:#ffffff;stroke-width:0.75;\" x=\"73.826575\" xlink:href=\"#m4cfe51e939\" y=\"504.851515\"/>\n     <use style=\"fill:#1f77b4;stroke:#ffffff;stroke-width:0.75;\" x=\"72.840057\" xlink:href=\"#m4cfe51e939\" y=\"384.511256\"/>\n     <use style=\"fill:#1f77b4;stroke:#ffffff;stroke-width:0.75;\" x=\"74.50905\" xlink:href=\"#m4cfe51e939\" y=\"504.851515\"/>\n     <use style=\"fill:#1f77b4;stroke:#ffffff;stroke-width:0.75;\" x=\"75.487081\" xlink:href=\"#m4cfe51e939\" y=\"504.851515\"/>\n     <use style=\"fill:#1f77b4;stroke:#ffffff;stroke-width:0.75;\" x=\"75.663317\" xlink:href=\"#m4cfe51e939\" y=\"504.851515\"/>\n     <use style=\"fill:#1f77b4;stroke:#ffffff;stroke-width:0.75;\" x=\"86.338783\" xlink:href=\"#m4cfe51e939\" y=\"504.851515\"/>\n     <use style=\"fill:#1f77b4;stroke:#ffffff;stroke-width:0.75;\" x=\"79.109141\" xlink:href=\"#m4cfe51e939\" y=\"504.851515\"/>\n     <use style=\"fill:#1f77b4;stroke:#ffffff;stroke-width:0.75;\" x=\"90.100633\" xlink:href=\"#m4cfe51e939\" y=\"504.851515\"/>\n     <use style=\"fill:#1f77b4;stroke:#ffffff;stroke-width:0.75;\" x=\"75.809597\" xlink:href=\"#m4cfe51e939\" y=\"504.851515\"/>\n     <use style=\"fill:#1f77b4;stroke:#ffffff;stroke-width:0.75;\" x=\"77.592919\" xlink:href=\"#m4cfe51e939\" y=\"504.851515\"/>\n     <use style=\"fill:#1f77b4;stroke:#ffffff;stroke-width:0.75;\" x=\"73.990329\" xlink:href=\"#m4cfe51e939\" y=\"504.851515\"/>\n     <use style=\"fill:#1f77b4;stroke:#ffffff;stroke-width:0.75;\" x=\"81.433151\" xlink:href=\"#m4cfe51e939\" y=\"504.851515\"/>\n     <use style=\"fill:#1f77b4;stroke:#ffffff;stroke-width:0.75;\" x=\"73.449142\" xlink:href=\"#m4cfe51e939\" y=\"504.851515\"/>\n     <use style=\"fill:#1f77b4;stroke:#ffffff;stroke-width:0.75;\" x=\"73.241953\" xlink:href=\"#m4cfe51e939\" y=\"504.851515\"/>\n     <use style=\"fill:#1f77b4;stroke:#ffffff;stroke-width:0.75;\" x=\"75.833062\" xlink:href=\"#m4cfe51e939\" y=\"504.851515\"/>\n     <use style=\"fill:#1f77b4;stroke:#ffffff;stroke-width:0.75;\" x=\"83.558459\" xlink:href=\"#m4cfe51e939\" y=\"504.851515\"/>\n     <use style=\"fill:#1f77b4;stroke:#ffffff;stroke-width:0.75;\" x=\"76.275897\" xlink:href=\"#m4cfe51e939\" y=\"504.851515\"/>\n     <use style=\"fill:#1f77b4;stroke:#ffffff;stroke-width:0.75;\" x=\"74.307353\" xlink:href=\"#m4cfe51e939\" y=\"504.851515\"/>\n     <use style=\"fill:#1f77b4;stroke:#ffffff;stroke-width:0.75;\" x=\"85.700742\" xlink:href=\"#m4cfe51e939\" y=\"504.851515\"/>\n     <use style=\"fill:#1f77b4;stroke:#ffffff;stroke-width:0.75;\" x=\"74.374752\" xlink:href=\"#m4cfe51e939\" y=\"504.851515\"/>\n     <use style=\"fill:#1f77b4;stroke:#ffffff;stroke-width:0.75;\" x=\"74.962369\" xlink:href=\"#m4cfe51e939\" y=\"504.851515\"/>\n     <use style=\"fill:#1f77b4;stroke:#ffffff;stroke-width:0.75;\" x=\"75.794619\" xlink:href=\"#m4cfe51e939\" y=\"504.851515\"/>\n     <use style=\"fill:#1f77b4;stroke:#ffffff;stroke-width:0.75;\" x=\"89.609371\" xlink:href=\"#m4cfe51e939\" y=\"504.851515\"/>\n     <use style=\"fill:#1f77b4;stroke:#ffffff;stroke-width:0.75;\" x=\"74.224977\" xlink:href=\"#m4cfe51e939\" y=\"504.851515\"/>\n     <use style=\"fill:#1f77b4;stroke:#ffffff;stroke-width:0.75;\" x=\"73.991328\" xlink:href=\"#m4cfe51e939\" y=\"504.851515\"/>\n     <use style=\"fill:#1f77b4;stroke:#ffffff;stroke-width:0.75;\" x=\"76.064215\" xlink:href=\"#m4cfe51e939\" y=\"504.851515\"/>\n     <use style=\"fill:#1f77b4;stroke:#ffffff;stroke-width:0.75;\" x=\"111.217918\" xlink:href=\"#m4cfe51e939\" y=\"504.851515\"/>\n     <use style=\"fill:#1f77b4;stroke:#ffffff;stroke-width:0.75;\" x=\"75.297366\" xlink:href=\"#m4cfe51e939\" y=\"504.851515\"/>\n     <use style=\"fill:#1f77b4;stroke:#ffffff;stroke-width:0.75;\" x=\"73.940903\" xlink:href=\"#m4cfe51e939\" y=\"504.851515\"/>\n     <use style=\"fill:#1f77b4;stroke:#ffffff;stroke-width:0.75;\" x=\"72.840057\" xlink:href=\"#m4cfe51e939\" y=\"375.463763\"/>\n     <use style=\"fill:#1f77b4;stroke:#ffffff;stroke-width:0.75;\" x=\"74.770657\" xlink:href=\"#m4cfe51e939\" y=\"504.851515\"/>\n     <use style=\"fill:#1f77b4;stroke:#ffffff;stroke-width:0.75;\" x=\"75.650835\" xlink:href=\"#m4cfe51e939\" y=\"504.851515\"/>\n     <use style=\"fill:#1f77b4;stroke:#ffffff;stroke-width:0.75;\" x=\"75.88099\" xlink:href=\"#m4cfe51e939\" y=\"504.851515\"/>\n     <use style=\"fill:#1f77b4;stroke:#ffffff;stroke-width:0.75;\" x=\"87.219461\" xlink:href=\"#m4cfe51e939\" y=\"504.851515\"/>\n     <use style=\"fill:#1f77b4;stroke:#ffffff;stroke-width:0.75;\" x=\"79.330309\" xlink:href=\"#m4cfe51e939\" y=\"504.851515\"/>\n     <use style=\"fill:#1f77b4;stroke:#ffffff;stroke-width:0.75;\" x=\"90.374722\" xlink:href=\"#m4cfe51e939\" y=\"504.851515\"/>\n     <use style=\"fill:#1f77b4;stroke:#ffffff;stroke-width:0.75;\" x=\"75.96087\" xlink:href=\"#m4cfe51e939\" y=\"504.851515\"/>\n     <use style=\"fill:#1f77b4;stroke:#ffffff;stroke-width:0.75;\" x=\"77.79162\" xlink:href=\"#m4cfe51e939\" y=\"504.851515\"/>\n     <use style=\"fill:#1f77b4;stroke:#ffffff;stroke-width:0.75;\" x=\"74.026775\" xlink:href=\"#m4cfe51e939\" y=\"504.851515\"/>\n     <use style=\"fill:#1f77b4;stroke:#ffffff;stroke-width:0.75;\" x=\"82.209485\" xlink:href=\"#m4cfe51e939\" y=\"504.851515\"/>\n     <use style=\"fill:#1f77b4;stroke:#ffffff;stroke-width:0.75;\" x=\"73.515043\" xlink:href=\"#m4cfe51e939\" y=\"504.851515\"/>\n     <use style=\"fill:#1f77b4;stroke:#ffffff;stroke-width:0.75;\" x=\"73.268413\" xlink:href=\"#m4cfe51e939\" y=\"504.851515\"/>\n     <use style=\"fill:#1f77b4;stroke:#ffffff;stroke-width:0.75;\" x=\"76.004304\" xlink:href=\"#m4cfe51e939\" y=\"504.851515\"/>\n     <use style=\"fill:#1f77b4;stroke:#ffffff;stroke-width:0.75;\" x=\"84.171538\" xlink:href=\"#m4cfe51e939\" y=\"504.851515\"/>\n     <use style=\"fill:#1f77b4;stroke:#ffffff;stroke-width:0.75;\" x=\"76.588427\" xlink:href=\"#m4cfe51e939\" y=\"504.851515\"/>\n     <use style=\"fill:#1f77b4;stroke:#ffffff;stroke-width:0.75;\" x=\"74.387233\" xlink:href=\"#m4cfe51e939\" y=\"504.851515\"/>\n     <use style=\"fill:#1f77b4;stroke:#ffffff;stroke-width:0.75;\" x=\"86.212972\" xlink:href=\"#m4cfe51e939\" y=\"504.851515\"/>\n     <use style=\"fill:#1f77b4;stroke:#ffffff;stroke-width:0.75;\" x=\"74.466614\" xlink:href=\"#m4cfe51e939\" y=\"504.851515\"/>\n     <use style=\"fill:#1f77b4;stroke:#ffffff;stroke-width:0.75;\" x=\"75.136108\" xlink:href=\"#m4cfe51e939\" y=\"504.851515\"/>\n     <use style=\"fill:#1f77b4;stroke:#ffffff;stroke-width:0.75;\" x=\"76.003306\" xlink:href=\"#m4cfe51e939\" y=\"504.851515\"/>\n     <use style=\"fill:#1f77b4;stroke:#ffffff;stroke-width:0.75;\" x=\"90.080663\" xlink:href=\"#m4cfe51e939\" y=\"504.851515\"/>\n     <use style=\"fill:#1f77b4;stroke:#ffffff;stroke-width:0.75;\" x=\"74.392226\" xlink:href=\"#m4cfe51e939\" y=\"504.851515\"/>\n     <use style=\"fill:#1f77b4;stroke:#ffffff;stroke-width:0.75;\" x=\"74.025277\" xlink:href=\"#m4cfe51e939\" y=\"504.851515\"/>\n     <use style=\"fill:#1f77b4;stroke:#ffffff;stroke-width:0.75;\" x=\"76.138603\" xlink:href=\"#m4cfe51e939\" y=\"504.851515\"/>\n     <use style=\"fill:#1f77b4;stroke:#ffffff;stroke-width:0.75;\" x=\"113.058653\" xlink:href=\"#m4cfe51e939\" y=\"504.851515\"/>\n     <use style=\"fill:#1f77b4;stroke:#ffffff;stroke-width:0.75;\" x=\"75.40171\" xlink:href=\"#m4cfe51e939\" y=\"504.851515\"/>\n     <use style=\"fill:#1f77b4;stroke:#ffffff;stroke-width:0.75;\" x=\"74.053235\" xlink:href=\"#m4cfe51e939\" y=\"504.851515\"/>\n     <use style=\"fill:#1f77b4;stroke:#ffffff;stroke-width:0.75;\" x=\"72.840057\" xlink:href=\"#m4cfe51e939\" y=\"368.626075\"/>\n     <use style=\"fill:#1f77b4;stroke:#ffffff;stroke-width:0.75;\" x=\"74.916938\" xlink:href=\"#m4cfe51e939\" y=\"504.851515\"/>\n     <use style=\"fill:#1f77b4;stroke:#ffffff;stroke-width:0.75;\" x=\"75.942397\" xlink:href=\"#m4cfe51e939\" y=\"504.851515\"/>\n     <use style=\"fill:#1f77b4;stroke:#ffffff;stroke-width:0.75;\" x=\"76.011793\" xlink:href=\"#m4cfe51e939\" y=\"504.851515\"/>\n     <use style=\"fill:#1f77b4;stroke:#ffffff;stroke-width:0.75;\" x=\"87.751162\" xlink:href=\"#m4cfe51e939\" y=\"504.851515\"/>\n     <use style=\"fill:#1f77b4;stroke:#ffffff;stroke-width:0.75;\" x=\"79.779135\" xlink:href=\"#m4cfe51e939\" y=\"504.851515\"/>\n     <use style=\"fill:#1f77b4;stroke:#ffffff;stroke-width:0.75;\" x=\"90.610867\" xlink:href=\"#m4cfe51e939\" y=\"504.851515\"/>\n     <use style=\"fill:#1f77b4;stroke:#ffffff;stroke-width:0.75;\" x=\"76.15408\" xlink:href=\"#m4cfe51e939\" y=\"504.851515\"/>\n     <use style=\"fill:#1f77b4;stroke:#ffffff;stroke-width:0.75;\" x=\"77.836053\" xlink:href=\"#m4cfe51e939\" y=\"504.851515\"/>\n     <use style=\"fill:#1f77b4;stroke:#ffffff;stroke-width:0.75;\" x=\"74.059725\" xlink:href=\"#m4cfe51e939\" y=\"504.851515\"/>\n     <use style=\"fill:#1f77b4;stroke:#ffffff;stroke-width:0.75;\" x=\"83.419667\" xlink:href=\"#m4cfe51e939\" y=\"504.851515\"/>\n     <use style=\"fill:#1f77b4;stroke:#ffffff;stroke-width:0.75;\" x=\"73.569961\" xlink:href=\"#m4cfe51e939\" y=\"504.851515\"/>\n     <use style=\"fill:#1f77b4;stroke:#ffffff;stroke-width:0.75;\" x=\"73.301364\" xlink:href=\"#m4cfe51e939\" y=\"504.851515\"/>\n     <use style=\"fill:#1f77b4;stroke:#ffffff;stroke-width:0.75;\" x=\"76.169057\" xlink:href=\"#m4cfe51e939\" y=\"504.851515\"/>\n     <use style=\"fill:#1f77b4;stroke:#ffffff;stroke-width:0.75;\" x=\"84.884468\" xlink:href=\"#m4cfe51e939\" y=\"504.851515\"/>\n     <use style=\"fill:#1f77b4;stroke:#ffffff;stroke-width:0.75;\" x=\"76.745691\" xlink:href=\"#m4cfe51e939\" y=\"504.851515\"/>\n     <use style=\"fill:#1f77b4;stroke:#ffffff;stroke-width:0.75;\" x=\"74.443648\" xlink:href=\"#m4cfe51e939\" y=\"504.851515\"/>\n     <use style=\"fill:#1f77b4;stroke:#ffffff;stroke-width:0.75;\" x=\"86.698743\" xlink:href=\"#m4cfe51e939\" y=\"504.851515\"/>\n     <use style=\"fill:#1f77b4;stroke:#ffffff;stroke-width:0.75;\" x=\"74.532515\" xlink:href=\"#m4cfe51e939\" y=\"504.851515\"/>\n     <use style=\"fill:#1f77b4;stroke:#ffffff;stroke-width:0.75;\" x=\"75.185035\" xlink:href=\"#m4cfe51e939\" y=\"504.851515\"/>\n     <use style=\"fill:#1f77b4;stroke:#ffffff;stroke-width:0.75;\" x=\"76.070206\" xlink:href=\"#m4cfe51e939\" y=\"504.851515\"/>\n     <use style=\"fill:#1f77b4;stroke:#ffffff;stroke-width:0.75;\" x=\"91.76763\" xlink:href=\"#m4cfe51e939\" y=\"504.851515\"/>\n     <use style=\"fill:#1f77b4;stroke:#ffffff;stroke-width:0.75;\" x=\"74.438157\" xlink:href=\"#m4cfe51e939\" y=\"504.851515\"/>\n     <use style=\"fill:#1f77b4;stroke:#ffffff;stroke-width:0.75;\" x=\"74.057728\" xlink:href=\"#m4cfe51e939\" y=\"504.851515\"/>\n     <use style=\"fill:#1f77b4;stroke:#ffffff;stroke-width:0.75;\" x=\"76.183036\" xlink:href=\"#m4cfe51e939\" y=\"504.851515\"/>\n     <use style=\"fill:#1f77b4;stroke:#ffffff;stroke-width:0.75;\" x=\"113.858951\" xlink:href=\"#m4cfe51e939\" y=\"504.851515\"/>\n     <use style=\"fill:#1f77b4;stroke:#ffffff;stroke-width:0.75;\" x=\"75.493072\" xlink:href=\"#m4cfe51e939\" y=\"504.851515\"/>\n     <use style=\"fill:#1f77b4;stroke:#ffffff;stroke-width:0.75;\" x=\"74.133614\" xlink:href=\"#m4cfe51e939\" y=\"504.851515\"/>\n     <use style=\"fill:#1f77b4;stroke:#ffffff;stroke-width:0.75;\" x=\"72.840057\" xlink:href=\"#m4cfe51e939\" y=\"361.628837\"/>\n     <use style=\"fill:#1f77b4;stroke:#ffffff;stroke-width:0.75;\" x=\"75.087182\" xlink:href=\"#m4cfe51e939\" y=\"504.851515\"/>\n     <use style=\"fill:#1f77b4;stroke:#ffffff;stroke-width:0.75;\" x=\"76.176047\" xlink:href=\"#m4cfe51e939\" y=\"504.851515\"/>\n     <use style=\"fill:#1f77b4;stroke:#ffffff;stroke-width:0.75;\" x=\"76.12712\" xlink:href=\"#m4cfe51e939\" y=\"504.851515\"/>\n     <use style=\"fill:#1f77b4;stroke:#ffffff;stroke-width:0.75;\" x=\"87.958351\" xlink:href=\"#m4cfe51e939\" y=\"504.851515\"/>\n     <use style=\"fill:#1f77b4;stroke:#ffffff;stroke-width:0.75;\" x=\"79.931406\" xlink:href=\"#m4cfe51e939\" y=\"504.851515\"/>\n     <use style=\"fill:#1f77b4;stroke:#ffffff;stroke-width:0.75;\" x=\"90.905425\" xlink:href=\"#m4cfe51e939\" y=\"504.851515\"/>\n     <use style=\"fill:#1f77b4;stroke:#ffffff;stroke-width:0.75;\" x=\"76.299861\" xlink:href=\"#m4cfe51e939\" y=\"504.851515\"/>\n     <use style=\"fill:#1f77b4;stroke:#ffffff;stroke-width:0.75;\" x=\"78.014785\" xlink:href=\"#m4cfe51e939\" y=\"504.851515\"/>\n     <use style=\"fill:#1f77b4;stroke:#ffffff;stroke-width:0.75;\" x=\"74.094173\" xlink:href=\"#m4cfe51e939\" y=\"504.851515\"/>\n     <use style=\"fill:#1f77b4;stroke:#ffffff;stroke-width:0.75;\" x=\"84.215972\" xlink:href=\"#m4cfe51e939\" y=\"504.851515\"/>\n     <use style=\"fill:#1f77b4;stroke:#ffffff;stroke-width:0.75;\" x=\"73.588932\" xlink:href=\"#m4cfe51e939\" y=\"504.851515\"/>\n     <use style=\"fill:#1f77b4;stroke:#ffffff;stroke-width:0.75;\" x=\"73.35079\" xlink:href=\"#m4cfe51e939\" y=\"504.851515\"/>\n     <use style=\"fill:#1f77b4;stroke:#ffffff;stroke-width:0.75;\" x=\"76.315837\" xlink:href=\"#m4cfe51e939\" y=\"504.851515\"/>\n     <use style=\"fill:#1f77b4;stroke:#ffffff;stroke-width:0.75;\" x=\"85.859004\" xlink:href=\"#m4cfe51e939\" y=\"504.851515\"/>\n     <use style=\"fill:#1f77b4;stroke:#ffffff;stroke-width:0.75;\" x=\"76.842046\" xlink:href=\"#m4cfe51e939\" y=\"504.851515\"/>\n     <use style=\"fill:#1f77b4;stroke:#ffffff;stroke-width:0.75;\" x=\"74.503059\" xlink:href=\"#m4cfe51e939\" y=\"504.851515\"/>\n     <use style=\"fill:#1f77b4;stroke:#ffffff;stroke-width:0.75;\" x=\"87.001788\" xlink:href=\"#m4cfe51e939\" y=\"504.851515\"/>\n     <use style=\"fill:#1f77b4;stroke:#ffffff;stroke-width:0.75;\" x=\"74.612395\" xlink:href=\"#m4cfe51e939\" y=\"504.851515\"/>\n     <use style=\"fill:#1f77b4;stroke:#ffffff;stroke-width:0.75;\" x=\"75.215988\" xlink:href=\"#m4cfe51e939\" y=\"504.851515\"/>\n     <use style=\"fill:#1f77b4;stroke:#ffffff;stroke-width:0.75;\" x=\"76.114639\" xlink:href=\"#m4cfe51e939\" y=\"504.851515\"/>\n     <use style=\"fill:#1f77b4;stroke:#ffffff;stroke-width:0.75;\" x=\"92.459591\" xlink:href=\"#m4cfe51e939\" y=\"504.851515\"/>\n     <use style=\"fill:#1f77b4;stroke:#ffffff;stroke-width:0.75;\" x=\"74.471606\" xlink:href=\"#m4cfe51e939\" y=\"504.851515\"/>\n     <use style=\"fill:#1f77b4;stroke:#ffffff;stroke-width:0.75;\" x=\"74.095172\" xlink:href=\"#m4cfe51e939\" y=\"504.851515\"/>\n     <use style=\"fill:#1f77b4;stroke:#ffffff;stroke-width:0.75;\" x=\"76.272402\" xlink:href=\"#m4cfe51e939\" y=\"504.851515\"/>\n     <use style=\"fill:#1f77b4;stroke:#ffffff;stroke-width:0.75;\" x=\"114.589853\" xlink:href=\"#m4cfe51e939\" y=\"504.851515\"/>\n     <use style=\"fill:#1f77b4;stroke:#ffffff;stroke-width:0.75;\" x=\"75.559972\" xlink:href=\"#m4cfe51e939\" y=\"504.851515\"/>\n     <use style=\"fill:#1f77b4;stroke:#ffffff;stroke-width:0.75;\" x=\"74.186035\" xlink:href=\"#m4cfe51e939\" y=\"504.851515\"/>\n     <use style=\"fill:#1f77b4;stroke:#ffffff;stroke-width:0.75;\" x=\"72.840057\" xlink:href=\"#m4cfe51e939\" y=\"357.881818\"/>\n    </g>\n   </g>\n   <g id=\"matplotlib.axis_13\">\n    <g id=\"xtick_23\">\n     <g id=\"line2d_65\">\n      <g>\n       <use style=\"stroke:#000000;stroke-width:0.8;\" x=\"72.840057\" xlink:href=\"#mec91a7b632\" y=\"512.2\"/>\n      </g>\n     </g>\n     <g id=\"text_17\">\n      <!-- 0 -->\n      <g transform=\"translate(69.658807 526.798437)scale(0.1 -0.1)\">\n       <use xlink:href=\"#DejaVuSans-48\"/>\n      </g>\n     </g>\n    </g>\n    <g id=\"xtick_24\">\n     <g id=\"line2d_66\">\n      <g>\n       <use style=\"stroke:#000000;stroke-width:0.8;\" x=\"122.765075\" xlink:href=\"#mec91a7b632\" y=\"512.2\"/>\n      </g>\n     </g>\n     <g id=\"text_18\">\n      <!-- 100000 -->\n      <g transform=\"translate(103.677575 526.798437)scale(0.1 -0.1)\">\n       <use xlink:href=\"#DejaVuSans-49\"/>\n       <use x=\"63.623047\" xlink:href=\"#DejaVuSans-48\"/>\n       <use x=\"127.246094\" xlink:href=\"#DejaVuSans-48\"/>\n       <use x=\"190.869141\" xlink:href=\"#DejaVuSans-48\"/>\n       <use x=\"254.492188\" xlink:href=\"#DejaVuSans-48\"/>\n       <use x=\"318.115234\" xlink:href=\"#DejaVuSans-48\"/>\n      </g>\n     </g>\n    </g>\n    <g id=\"xtick_25\">\n     <g id=\"line2d_67\">\n      <g>\n       <use style=\"stroke:#000000;stroke-width:0.8;\" x=\"172.690094\" xlink:href=\"#mec91a7b632\" y=\"512.2\"/>\n      </g>\n     </g>\n     <g id=\"text_19\">\n      <!-- 200000 -->\n      <g transform=\"translate(153.602594 526.798437)scale(0.1 -0.1)\">\n       <use xlink:href=\"#DejaVuSans-50\"/>\n       <use x=\"63.623047\" xlink:href=\"#DejaVuSans-48\"/>\n       <use x=\"127.246094\" xlink:href=\"#DejaVuSans-48\"/>\n       <use x=\"190.869141\" xlink:href=\"#DejaVuSans-48\"/>\n       <use x=\"254.492188\" xlink:href=\"#DejaVuSans-48\"/>\n       <use x=\"318.115234\" xlink:href=\"#DejaVuSans-48\"/>\n      </g>\n     </g>\n    </g>\n    <g id=\"text_20\">\n     <!-- Confirmed -->\n     <g transform=\"translate(114.751562 540.476562)scale(0.1 -0.1)\">\n      <use xlink:href=\"#DejaVuSans-67\"/>\n      <use x=\"69.824219\" xlink:href=\"#DejaVuSans-111\"/>\n      <use x=\"131.005859\" xlink:href=\"#DejaVuSans-110\"/>\n      <use x=\"194.384766\" xlink:href=\"#DejaVuSans-102\"/>\n      <use x=\"229.589844\" xlink:href=\"#DejaVuSans-105\"/>\n      <use x=\"257.373047\" xlink:href=\"#DejaVuSans-114\"/>\n      <use x=\"296.736328\" xlink:href=\"#DejaVuSans-109\"/>\n      <use x=\"394.148438\" xlink:href=\"#DejaVuSans-101\"/>\n      <use x=\"455.671875\" xlink:href=\"#DejaVuSans-100\"/>\n     </g>\n    </g>\n   </g>\n   <g id=\"matplotlib.axis_14\">\n    <g id=\"ytick_43\">\n     <g id=\"line2d_68\">\n      <g>\n       <use style=\"stroke:#000000;stroke-width:0.8;\" x=\"66.053125\" xlink:href=\"#m1769ce0960\" y=\"504.851515\"/>\n      </g>\n     </g>\n     <g id=\"text_21\">\n      <!-- 0 -->\n      <g transform=\"translate(52.690625 508.650734)scale(0.1 -0.1)\">\n       <use xlink:href=\"#DejaVuSans-48\"/>\n      </g>\n     </g>\n    </g>\n    <g id=\"ytick_44\">\n     <g id=\"line2d_69\">\n      <g>\n       <use style=\"stroke:#000000;stroke-width:0.8;\" x=\"66.053125\" xlink:href=\"#m1769ce0960\" y=\"480.966897\"/>\n      </g>\n     </g>\n     <g id=\"text_22\">\n      <!-- 25000 -->\n      <g transform=\"translate(27.240625 484.766116)scale(0.1 -0.1)\">\n       <use xlink:href=\"#DejaVuSans-50\"/>\n       <use x=\"63.623047\" xlink:href=\"#DejaVuSans-53\"/>\n       <use x=\"127.246094\" xlink:href=\"#DejaVuSans-48\"/>\n       <use x=\"190.869141\" xlink:href=\"#DejaVuSans-48\"/>\n       <use x=\"254.492188\" xlink:href=\"#DejaVuSans-48\"/>\n      </g>\n     </g>\n    </g>\n    <g id=\"ytick_45\">\n     <g id=\"line2d_70\">\n      <g>\n       <use style=\"stroke:#000000;stroke-width:0.8;\" x=\"66.053125\" xlink:href=\"#m1769ce0960\" y=\"457.082279\"/>\n      </g>\n     </g>\n     <g id=\"text_23\">\n      <!-- 50000 -->\n      <g transform=\"translate(27.240625 460.881498)scale(0.1 -0.1)\">\n       <use xlink:href=\"#DejaVuSans-53\"/>\n       <use x=\"63.623047\" xlink:href=\"#DejaVuSans-48\"/>\n       <use x=\"127.246094\" xlink:href=\"#DejaVuSans-48\"/>\n       <use x=\"190.869141\" xlink:href=\"#DejaVuSans-48\"/>\n       <use x=\"254.492188\" xlink:href=\"#DejaVuSans-48\"/>\n      </g>\n     </g>\n    </g>\n    <g id=\"ytick_46\">\n     <g id=\"line2d_71\">\n      <g>\n       <use style=\"stroke:#000000;stroke-width:0.8;\" x=\"66.053125\" xlink:href=\"#m1769ce0960\" y=\"433.197661\"/>\n      </g>\n     </g>\n     <g id=\"text_24\">\n      <!-- 75000 -->\n      <g transform=\"translate(27.240625 436.99688)scale(0.1 -0.1)\">\n       <use xlink:href=\"#DejaVuSans-55\"/>\n       <use x=\"63.623047\" xlink:href=\"#DejaVuSans-53\"/>\n       <use x=\"127.246094\" xlink:href=\"#DejaVuSans-48\"/>\n       <use x=\"190.869141\" xlink:href=\"#DejaVuSans-48\"/>\n       <use x=\"254.492188\" xlink:href=\"#DejaVuSans-48\"/>\n      </g>\n     </g>\n    </g>\n    <g id=\"ytick_47\">\n     <g id=\"line2d_72\">\n      <g>\n       <use style=\"stroke:#000000;stroke-width:0.8;\" x=\"66.053125\" xlink:href=\"#m1769ce0960\" y=\"409.313044\"/>\n      </g>\n     </g>\n     <g id=\"text_25\">\n      <!-- 100000 -->\n      <g transform=\"translate(20.878125 413.112262)scale(0.1 -0.1)\">\n       <use xlink:href=\"#DejaVuSans-49\"/>\n       <use x=\"63.623047\" xlink:href=\"#DejaVuSans-48\"/>\n       <use x=\"127.246094\" xlink:href=\"#DejaVuSans-48\"/>\n       <use x=\"190.869141\" xlink:href=\"#DejaVuSans-48\"/>\n       <use x=\"254.492188\" xlink:href=\"#DejaVuSans-48\"/>\n       <use x=\"318.115234\" xlink:href=\"#DejaVuSans-48\"/>\n      </g>\n     </g>\n    </g>\n    <g id=\"ytick_48\">\n     <g id=\"line2d_73\">\n      <g>\n       <use style=\"stroke:#000000;stroke-width:0.8;\" x=\"66.053125\" xlink:href=\"#m1769ce0960\" y=\"385.428426\"/>\n      </g>\n     </g>\n     <g id=\"text_26\">\n      <!-- 125000 -->\n      <g transform=\"translate(20.878125 389.227644)scale(0.1 -0.1)\">\n       <use xlink:href=\"#DejaVuSans-49\"/>\n       <use x=\"63.623047\" xlink:href=\"#DejaVuSans-50\"/>\n       <use x=\"127.246094\" xlink:href=\"#DejaVuSans-53\"/>\n       <use x=\"190.869141\" xlink:href=\"#DejaVuSans-48\"/>\n       <use x=\"254.492188\" xlink:href=\"#DejaVuSans-48\"/>\n       <use x=\"318.115234\" xlink:href=\"#DejaVuSans-48\"/>\n      </g>\n     </g>\n    </g>\n    <g id=\"ytick_49\">\n     <g id=\"line2d_74\">\n      <g>\n       <use style=\"stroke:#000000;stroke-width:0.8;\" x=\"66.053125\" xlink:href=\"#m1769ce0960\" y=\"361.543808\"/>\n      </g>\n     </g>\n     <g id=\"text_27\">\n      <!-- 150000 -->\n      <g transform=\"translate(20.878125 365.343027)scale(0.1 -0.1)\">\n       <use xlink:href=\"#DejaVuSans-49\"/>\n       <use x=\"63.623047\" xlink:href=\"#DejaVuSans-53\"/>\n       <use x=\"127.246094\" xlink:href=\"#DejaVuSans-48\"/>\n       <use x=\"190.869141\" xlink:href=\"#DejaVuSans-48\"/>\n       <use x=\"254.492188\" xlink:href=\"#DejaVuSans-48\"/>\n       <use x=\"318.115234\" xlink:href=\"#DejaVuSans-48\"/>\n      </g>\n     </g>\n    </g>\n    <g id=\"text_28\">\n     <!-- Recovered -->\n     <defs>\n      <path d=\"M 44.390625 34.1875 \nQ 47.5625 33.109375 50.5625 29.59375 \nQ 53.5625 26.078125 56.59375 19.921875 \nL 66.609375 0 \nL 56 0 \nL 46.6875 18.703125 \nQ 43.0625 26.03125 39.671875 28.421875 \nQ 36.28125 30.8125 30.421875 30.8125 \nL 19.671875 30.8125 \nL 19.671875 0 \nL 9.8125 0 \nL 9.8125 72.90625 \nL 32.078125 72.90625 \nQ 44.578125 72.90625 50.734375 67.671875 \nQ 56.890625 62.453125 56.890625 51.90625 \nQ 56.890625 45.015625 53.6875 40.46875 \nQ 50.484375 35.9375 44.390625 34.1875 \nz\nM 19.671875 64.796875 \nL 19.671875 38.921875 \nL 32.078125 38.921875 \nQ 39.203125 38.921875 42.84375 42.21875 \nQ 46.484375 45.515625 46.484375 51.90625 \nQ 46.484375 58.296875 42.84375 61.546875 \nQ 39.203125 64.796875 32.078125 64.796875 \nz\n\" id=\"DejaVuSans-82\"/>\n      <path d=\"M 48.78125 52.59375 \nL 48.78125 44.1875 \nQ 44.96875 46.296875 41.140625 47.34375 \nQ 37.3125 48.390625 33.40625 48.390625 \nQ 24.65625 48.390625 19.8125 42.84375 \nQ 14.984375 37.3125 14.984375 27.296875 \nQ 14.984375 17.28125 19.8125 11.734375 \nQ 24.65625 6.203125 33.40625 6.203125 \nQ 37.3125 6.203125 41.140625 7.25 \nQ 44.96875 8.296875 48.78125 10.40625 \nL 48.78125 2.09375 \nQ 45.015625 0.34375 40.984375 -0.53125 \nQ 36.96875 -1.421875 32.421875 -1.421875 \nQ 20.0625 -1.421875 12.78125 6.34375 \nQ 5.515625 14.109375 5.515625 27.296875 \nQ 5.515625 40.671875 12.859375 48.328125 \nQ 20.21875 56 33.015625 56 \nQ 37.15625 56 41.109375 55.140625 \nQ 45.0625 54.296875 48.78125 52.59375 \nz\n\" id=\"DejaVuSans-99\"/>\n      <path d=\"M 2.984375 54.6875 \nL 12.5 54.6875 \nL 29.59375 8.796875 \nL 46.6875 54.6875 \nL 56.203125 54.6875 \nL 35.6875 0 \nL 23.484375 0 \nz\n\" id=\"DejaVuSans-118\"/>\n     </defs>\n     <g transform=\"translate(14.798438 457.730729)rotate(-90)scale(0.1 -0.1)\">\n      <use xlink:href=\"#DejaVuSans-82\"/>\n      <use x=\"64.982422\" xlink:href=\"#DejaVuSans-101\"/>\n      <use x=\"126.505859\" xlink:href=\"#DejaVuSans-99\"/>\n      <use x=\"181.486328\" xlink:href=\"#DejaVuSans-111\"/>\n      <use x=\"242.667969\" xlink:href=\"#DejaVuSans-118\"/>\n      <use x=\"301.847656\" xlink:href=\"#DejaVuSans-101\"/>\n      <use x=\"363.371094\" xlink:href=\"#DejaVuSans-114\"/>\n      <use x=\"402.234375\" xlink:href=\"#DejaVuSans-101\"/>\n      <use x=\"463.757812\" xlink:href=\"#DejaVuSans-100\"/>\n     </g>\n    </g>\n   </g>\n   <g id=\"patch_21\">\n    <path d=\"M 66.053125 512.2 \nL 66.053125 350.533333 \n\" style=\"fill:none;stroke:#000000;stroke-linecap:square;stroke-linejoin:miter;stroke-width:0.8;\"/>\n   </g>\n   <g id=\"patch_22\">\n    <path d=\"M 66.053125 512.2 \nL 215.365625 512.2 \n\" style=\"fill:none;stroke:#000000;stroke-linecap:square;stroke-linejoin:miter;stroke-width:0.8;\"/>\n   </g>\n  </g>\n  <g id=\"axes_8\">\n   <g id=\"patch_23\">\n    <path d=\"M 237.428125 512.2 \nL 386.740625 512.2 \nL 386.740625 350.533333 \nL 237.428125 350.533333 \nz\n\" style=\"fill:#ffffff;\"/>\n   </g>\n   <g id=\"PathCollection_6\">\n    <g clip-path=\"url(#p0045c9ea52)\">\n     <use style=\"fill:#1f77b4;stroke:#ffffff;stroke-width:0.75;\" x=\"244.215057\" xlink:href=\"#m4cfe51e939\" y=\"504.851515\"/>\n     <use style=\"fill:#1f77b4;stroke:#ffffff;stroke-width:0.75;\" x=\"244.215057\" xlink:href=\"#m4cfe51e939\" y=\"504.851515\"/>\n     <use style=\"fill:#1f77b4;stroke:#ffffff;stroke-width:0.75;\" x=\"244.215057\" xlink:href=\"#m4cfe51e939\" y=\"504.851515\"/>\n     <use style=\"fill:#1f77b4;stroke:#ffffff;stroke-width:0.75;\" x=\"244.215057\" xlink:href=\"#m4cfe51e939\" y=\"504.851515\"/>\n     <use style=\"fill:#1f77b4;stroke:#ffffff;stroke-width:0.75;\" x=\"244.215057\" xlink:href=\"#m4cfe51e939\" y=\"504.851515\"/>\n     <use style=\"fill:#1f77b4;stroke:#ffffff;stroke-width:0.75;\" x=\"244.215057\" xlink:href=\"#m4cfe51e939\" y=\"504.851515\"/>\n     <use style=\"fill:#1f77b4;stroke:#ffffff;stroke-width:0.75;\" x=\"244.215057\" xlink:href=\"#m4cfe51e939\" y=\"504.851515\"/>\n     <use style=\"fill:#1f77b4;stroke:#ffffff;stroke-width:0.75;\" x=\"244.215057\" xlink:href=\"#m4cfe51e939\" y=\"504.851515\"/>\n     <use style=\"fill:#1f77b4;stroke:#ffffff;stroke-width:0.75;\" x=\"244.215057\" xlink:href=\"#m4cfe51e939\" y=\"504.851515\"/>\n     <use style=\"fill:#1f77b4;stroke:#ffffff;stroke-width:0.75;\" x=\"244.215057\" xlink:href=\"#m4cfe51e939\" y=\"504.851515\"/>\n     <use style=\"fill:#1f77b4;stroke:#ffffff;stroke-width:0.75;\" x=\"244.215057\" xlink:href=\"#m4cfe51e939\" y=\"504.851515\"/>\n     <use style=\"fill:#1f77b4;stroke:#ffffff;stroke-width:0.75;\" x=\"244.215057\" xlink:href=\"#m4cfe51e939\" y=\"504.851515\"/>\n     <use style=\"fill:#1f77b4;stroke:#ffffff;stroke-width:0.75;\" x=\"244.215057\" xlink:href=\"#m4cfe51e939\" y=\"504.851515\"/>\n     <use style=\"fill:#1f77b4;stroke:#ffffff;stroke-width:0.75;\" x=\"244.215057\" xlink:href=\"#m4cfe51e939\" y=\"504.851515\"/>\n     <use style=\"fill:#1f77b4;stroke:#ffffff;stroke-width:0.75;\" x=\"244.215057\" xlink:href=\"#m4cfe51e939\" y=\"504.851515\"/>\n     <use style=\"fill:#1f77b4;stroke:#ffffff;stroke-width:0.75;\" x=\"244.215057\" xlink:href=\"#m4cfe51e939\" y=\"504.851515\"/>\n     <use style=\"fill:#1f77b4;stroke:#ffffff;stroke-width:0.75;\" x=\"244.215057\" xlink:href=\"#m4cfe51e939\" y=\"504.851515\"/>\n     <use style=\"fill:#1f77b4;stroke:#ffffff;stroke-width:0.75;\" x=\"244.215057\" xlink:href=\"#m4cfe51e939\" y=\"504.851515\"/>\n     <use style=\"fill:#1f77b4;stroke:#ffffff;stroke-width:0.75;\" x=\"244.215057\" xlink:href=\"#m4cfe51e939\" y=\"504.851515\"/>\n     <use style=\"fill:#1f77b4;stroke:#ffffff;stroke-width:0.75;\" x=\"244.215057\" xlink:href=\"#m4cfe51e939\" y=\"504.851515\"/>\n     <use style=\"fill:#1f77b4;stroke:#ffffff;stroke-width:0.75;\" x=\"244.215057\" xlink:href=\"#m4cfe51e939\" y=\"504.85056\"/>\n     <use style=\"fill:#1f77b4;stroke:#ffffff;stroke-width:0.75;\" x=\"244.222605\" xlink:href=\"#m4cfe51e939\" y=\"504.849604\"/>\n     <use style=\"fill:#1f77b4;stroke:#ffffff;stroke-width:0.75;\" x=\"244.237701\" xlink:href=\"#m4cfe51e939\" y=\"504.849604\"/>\n     <use style=\"fill:#1f77b4;stroke:#ffffff;stroke-width:0.75;\" x=\"244.260346\" xlink:href=\"#m4cfe51e939\" y=\"504.849604\"/>\n     <use style=\"fill:#1f77b4;stroke:#ffffff;stroke-width:0.75;\" x=\"244.298087\" xlink:href=\"#m4cfe51e939\" y=\"504.849604\"/>\n     <use style=\"fill:#1f77b4;stroke:#ffffff;stroke-width:0.75;\" x=\"244.328279\" xlink:href=\"#m4cfe51e939\" y=\"504.849604\"/>\n     <use style=\"fill:#1f77b4;stroke:#ffffff;stroke-width:0.75;\" x=\"244.403761\" xlink:href=\"#m4cfe51e939\" y=\"504.849604\"/>\n     <use style=\"fill:#1f77b4;stroke:#ffffff;stroke-width:0.75;\" x=\"244.471694\" xlink:href=\"#m4cfe51e939\" y=\"504.849604\"/>\n     <use style=\"fill:#1f77b4;stroke:#ffffff;stroke-width:0.75;\" x=\"244.562272\" xlink:href=\"#m4cfe51e939\" y=\"504.849604\"/>\n     <use style=\"fill:#1f77b4;stroke:#ffffff;stroke-width:0.75;\" x=\"244.660399\" xlink:href=\"#m4cfe51e939\" y=\"504.849604\"/>\n     <use style=\"fill:#1f77b4;stroke:#ffffff;stroke-width:0.75;\" x=\"244.796265\" xlink:href=\"#m4cfe51e939\" y=\"504.845783\"/>\n     <use style=\"fill:#1f77b4;stroke:#ffffff;stroke-width:0.75;\" x=\"244.909488\" xlink:href=\"#m4cfe51e939\" y=\"504.845783\"/>\n     <use style=\"fill:#1f77b4;stroke:#ffffff;stroke-width:0.75;\" x=\"245.052903\" xlink:href=\"#m4cfe51e939\" y=\"504.845783\"/>\n     <use style=\"fill:#1f77b4;stroke:#ffffff;stroke-width:0.75;\" x=\"245.241607\" xlink:href=\"#m4cfe51e939\" y=\"504.845783\"/>\n     <use style=\"fill:#1f77b4;stroke:#ffffff;stroke-width:0.75;\" x=\"245.415215\" xlink:href=\"#m4cfe51e939\" y=\"504.736869\"/>\n     <use style=\"fill:#1f77b4;stroke:#ffffff;stroke-width:0.75;\" x=\"245.732238\" xlink:href=\"#m4cfe51e939\" y=\"504.730181\"/>\n     <use style=\"fill:#1f77b4;stroke:#ffffff;stroke-width:0.75;\" x=\"246.026616\" xlink:href=\"#m4cfe51e939\" y=\"504.730181\"/>\n     <use style=\"fill:#1f77b4;stroke:#ffffff;stroke-width:0.75;\" x=\"246.660662\" xlink:href=\"#m4cfe51e939\" y=\"504.730181\"/>\n     <use style=\"fill:#1f77b4;stroke:#ffffff;stroke-width:0.75;\" x=\"246.924848\" xlink:href=\"#m4cfe51e939\" y=\"504.730181\"/>\n     <use style=\"fill:#1f77b4;stroke:#ffffff;stroke-width:0.75;\" x=\"247.57399\" xlink:href=\"#m4cfe51e939\" y=\"504.730181\"/>\n     <use style=\"fill:#1f77b4;stroke:#ffffff;stroke-width:0.75;\" x=\"247.883465\" xlink:href=\"#m4cfe51e939\" y=\"504.730181\"/>\n     <use style=\"fill:#1f77b4;stroke:#ffffff;stroke-width:0.75;\" x=\"248.472221\" xlink:href=\"#m4cfe51e939\" y=\"504.730181\"/>\n     <use style=\"fill:#1f77b4;stroke:#ffffff;stroke-width:0.75;\" x=\"249.393097\" xlink:href=\"#m4cfe51e939\" y=\"504.730181\"/>\n     <use style=\"fill:#1f77b4;stroke:#ffffff;stroke-width:0.75;\" x=\"250.397003\" xlink:href=\"#m4cfe51e939\" y=\"504.730181\"/>\n     <use style=\"fill:#1f77b4;stroke:#ffffff;stroke-width:0.75;\" x=\"251.385813\" xlink:href=\"#m4cfe51e939\" y=\"504.686234\"/>\n     <use style=\"fill:#1f77b4;stroke:#ffffff;stroke-width:0.75;\" x=\"252.193466\" xlink:href=\"#m4cfe51e939\" y=\"504.686234\"/>\n     <use style=\"fill:#1f77b4;stroke:#ffffff;stroke-width:0.75;\" x=\"252.699193\" xlink:href=\"#m4cfe51e939\" y=\"504.686234\"/>\n     <use style=\"fill:#1f77b4;stroke:#ffffff;stroke-width:0.75;\" x=\"253.446462\" xlink:href=\"#m4cfe51e939\" y=\"504.686234\"/>\n     <use style=\"fill:#1f77b4;stroke:#ffffff;stroke-width:0.75;\" x=\"254.239019\" xlink:href=\"#m4cfe51e939\" y=\"504.686234\"/>\n     <use style=\"fill:#1f77b4;stroke:#ffffff;stroke-width:0.75;\" x=\"255.778844\" xlink:href=\"#m4cfe51e939\" y=\"501.941413\"/>\n     <use style=\"fill:#1f77b4;stroke:#ffffff;stroke-width:0.75;\" x=\"257.31867\" xlink:href=\"#m4cfe51e939\" y=\"491.451289\"/>\n     <use style=\"fill:#1f77b4;stroke:#ffffff;stroke-width:0.75;\" x=\"258.737725\" xlink:href=\"#m4cfe51e939\" y=\"491.451289\"/>\n     <use style=\"fill:#1f77b4;stroke:#ffffff;stroke-width:0.75;\" x=\"260.375676\" xlink:href=\"#m4cfe51e939\" y=\"491.451289\"/>\n     <use style=\"fill:#1f77b4;stroke:#ffffff;stroke-width:0.75;\" x=\"261.983435\" xlink:href=\"#m4cfe51e939\" y=\"491.451289\"/>\n     <use style=\"fill:#1f77b4;stroke:#ffffff;stroke-width:0.75;\" x=\"262.798637\" xlink:href=\"#m4cfe51e939\" y=\"483.708851\"/>\n     <use style=\"fill:#1f77b4;stroke:#ffffff;stroke-width:0.75;\" x=\"263.742158\" xlink:href=\"#m4cfe51e939\" y=\"483.708851\"/>\n     <use style=\"fill:#1f77b4;stroke:#ffffff;stroke-width:0.75;\" x=\"264.904575\" xlink:href=\"#m4cfe51e939\" y=\"482.886265\"/>\n     <use style=\"fill:#1f77b4;stroke:#ffffff;stroke-width:0.75;\" x=\"266.150022\" xlink:href=\"#m4cfe51e939\" y=\"480.663085\"/>\n     <use style=\"fill:#1f77b4;stroke:#ffffff;stroke-width:0.75;\" x=\"269.357992\" xlink:href=\"#m4cfe51e939\" y=\"479.464077\"/>\n     <use style=\"fill:#1f77b4;stroke:#ffffff;stroke-width:0.75;\" x=\"272.173457\" xlink:href=\"#m4cfe51e939\" y=\"478.430351\"/>\n     <use style=\"fill:#1f77b4;stroke:#ffffff;stroke-width:0.75;\" x=\"274.837959\" xlink:href=\"#m4cfe51e939\" y=\"476.992497\"/>\n     <use style=\"fill:#1f77b4;stroke:#ffffff;stroke-width:0.75;\" x=\"276.566488\" xlink:href=\"#m4cfe51e939\" y=\"476.044755\"/>\n     <use style=\"fill:#1f77b4;stroke:#ffffff;stroke-width:0.75;\" x=\"278.959257\" xlink:href=\"#m4cfe51e939\" y=\"475.098924\"/>\n     <use style=\"fill:#1f77b4;stroke:#ffffff;stroke-width:0.75;\" x=\"282.582375\" xlink:href=\"#m4cfe51e939\" y=\"473.759475\"/>\n     <use style=\"fill:#1f77b4;stroke:#ffffff;stroke-width:0.75;\" x=\"285.828086\" xlink:href=\"#m4cfe51e939\" y=\"472.242324\"/>\n     <use style=\"fill:#1f77b4;stroke:#ffffff;stroke-width:0.75;\" x=\"289.549331\" xlink:href=\"#m4cfe51e939\" y=\"470.519765\"/>\n     <use style=\"fill:#1f77b4;stroke:#ffffff;stroke-width:0.75;\" x=\"292.613886\" xlink:href=\"#m4cfe51e939\" y=\"468.509636\"/>\n     <use style=\"fill:#1f77b4;stroke:#ffffff;stroke-width:0.75;\" x=\"295.248195\" xlink:href=\"#m4cfe51e939\" y=\"465.740931\"/>\n     <use style=\"fill:#1f77b4;stroke:#ffffff;stroke-width:0.75;\" x=\"297.437162\" xlink:href=\"#m4cfe51e939\" y=\"463.778571\"/>\n     <use style=\"fill:#1f77b4;stroke:#ffffff;stroke-width:0.75;\" x=\"299.822382\" xlink:href=\"#m4cfe51e939\" y=\"461.080564\"/>\n     <use style=\"fill:#1f77b4;stroke:#ffffff;stroke-width:0.75;\" x=\"304.132384\" xlink:href=\"#m4cfe51e939\" y=\"458.781909\"/>\n     <use style=\"fill:#1f77b4;stroke:#ffffff;stroke-width:0.75;\" x=\"309.038691\" xlink:href=\"#m4cfe51e939\" y=\"455.773402\"/>\n     <use style=\"fill:#1f77b4;stroke:#ffffff;stroke-width:0.75;\" x=\"313.582686\" xlink:href=\"#m4cfe51e939\" y=\"451.970971\"/>\n     <use style=\"fill:#1f77b4;stroke:#ffffff;stroke-width:0.75;\" x=\"319.825017\" xlink:href=\"#m4cfe51e939\" y=\"448.200068\"/>\n     <use style=\"fill:#1f77b4;stroke:#ffffff;stroke-width:0.75;\" x=\"324.648294\" xlink:href=\"#m4cfe51e939\" y=\"445.918609\"/>\n     <use style=\"fill:#1f77b4;stroke:#ffffff;stroke-width:0.75;\" x=\"328.173287\" xlink:href=\"#m4cfe51e939\" y=\"442.79259\"/>\n     <use style=\"fill:#1f77b4;stroke:#ffffff;stroke-width:0.75;\" x=\"332.173814\" xlink:href=\"#m4cfe51e939\" y=\"440.473871\"/>\n     <use style=\"fill:#1f77b4;stroke:#ffffff;stroke-width:0.75;\" x=\"338.272731\" xlink:href=\"#m4cfe51e939\" y=\"435.493451\"/>\n     <use style=\"fill:#1f77b4;stroke:#ffffff;stroke-width:0.75;\" x=\"344.15275\" xlink:href=\"#m4cfe51e939\" y=\"429.926424\"/>\n     <use style=\"fill:#1f77b4;stroke:#ffffff;stroke-width:0.75;\" x=\"349.881807\" xlink:href=\"#m4cfe51e939\" y=\"428.918493\"/>\n     <use style=\"fill:#1f77b4;stroke:#ffffff;stroke-width:0.75;\" x=\"357.150689\" xlink:href=\"#m4cfe51e939\" y=\"423.672476\"/>\n     <use style=\"fill:#1f77b4;stroke:#ffffff;stroke-width:0.75;\" x=\"362.434404\" xlink:href=\"#m4cfe51e939\" y=\"419.180257\"/>\n     <use style=\"fill:#1f77b4;stroke:#ffffff;stroke-width:0.75;\" x=\"365.876367\" xlink:href=\"#m4cfe51e939\" y=\"414.928795\"/>\n     <use style=\"fill:#1f77b4;stroke:#ffffff;stroke-width:0.75;\" x=\"371.424268\" xlink:href=\"#m4cfe51e939\" y=\"408.874522\"/>\n     <use style=\"fill:#1f77b4;stroke:#ffffff;stroke-width:0.75;\" x=\"379.953693\" xlink:href=\"#m4cfe51e939\" y=\"402.82216\"/>\n     <use style=\"fill:#1f77b4;stroke:#ffffff;stroke-width:0.75;\" x=\"244.788717\" xlink:href=\"#m4cfe51e939\" y=\"504.851515\"/>\n     <use style=\"fill:#1f77b4;stroke:#ffffff;stroke-width:0.75;\" x=\"246.109646\" xlink:href=\"#m4cfe51e939\" y=\"504.851515\"/>\n     <use style=\"fill:#1f77b4;stroke:#ffffff;stroke-width:0.75;\" x=\"245.286896\" xlink:href=\"#m4cfe51e939\" y=\"504.851515\"/>\n     <use style=\"fill:#1f77b4;stroke:#ffffff;stroke-width:0.75;\" x=\"255.997741\" xlink:href=\"#m4cfe51e939\" y=\"504.851515\"/>\n     <use style=\"fill:#1f77b4;stroke:#ffffff;stroke-width:0.75;\" x=\"246.947492\" xlink:href=\"#m4cfe51e939\" y=\"504.851515\"/>\n     <use style=\"fill:#1f77b4;stroke:#ffffff;stroke-width:0.75;\" x=\"258.556569\" xlink:href=\"#m4cfe51e939\" y=\"504.851515\"/>\n     <use style=\"fill:#1f77b4;stroke:#ffffff;stroke-width:0.75;\" x=\"244.796265\" xlink:href=\"#m4cfe51e939\" y=\"504.851515\"/>\n     <use style=\"fill:#1f77b4;stroke:#ffffff;stroke-width:0.75;\" x=\"246.788981\" xlink:href=\"#m4cfe51e939\" y=\"504.851515\"/>\n     <use style=\"fill:#1f77b4;stroke:#ffffff;stroke-width:0.75;\" x=\"244.803814\" xlink:href=\"#m4cfe51e939\" y=\"504.851515\"/>\n     <use style=\"fill:#1f77b4;stroke:#ffffff;stroke-width:0.75;\" x=\"249.000593\" xlink:href=\"#m4cfe51e939\" y=\"504.851515\"/>\n     <use style=\"fill:#1f77b4;stroke:#ffffff;stroke-width:0.75;\" x=\"244.456598\" xlink:href=\"#m4cfe51e939\" y=\"504.851515\"/>\n     <use style=\"fill:#1f77b4;stroke:#ffffff;stroke-width:0.75;\" x=\"244.343376\" xlink:href=\"#m4cfe51e939\" y=\"504.851515\"/>\n     <use style=\"fill:#1f77b4;stroke:#ffffff;stroke-width:0.75;\" x=\"245.551082\" xlink:href=\"#m4cfe51e939\" y=\"504.851515\"/>\n     <use style=\"fill:#1f77b4;stroke:#ffffff;stroke-width:0.75;\" x=\"256.541209\" xlink:href=\"#m4cfe51e939\" y=\"504.851515\"/>\n     <use style=\"fill:#1f77b4;stroke:#ffffff;stroke-width:0.75;\" x=\"245.951135\" xlink:href=\"#m4cfe51e939\" y=\"504.851515\"/>\n     <use style=\"fill:#1f77b4;stroke:#ffffff;stroke-width:0.75;\" x=\"245.249155\" xlink:href=\"#m4cfe51e939\" y=\"504.851515\"/>\n     <use style=\"fill:#1f77b4;stroke:#ffffff;stroke-width:0.75;\" x=\"258.05839\" xlink:href=\"#m4cfe51e939\" y=\"504.851515\"/>\n     <use style=\"fill:#1f77b4;stroke:#ffffff;stroke-width:0.75;\" x=\"244.871747\" xlink:href=\"#m4cfe51e939\" y=\"504.851515\"/>\n     <use style=\"fill:#1f77b4;stroke:#ffffff;stroke-width:0.75;\" x=\"245.498245\" xlink:href=\"#m4cfe51e939\" y=\"504.851515\"/>\n     <use style=\"fill:#1f77b4;stroke:#ffffff;stroke-width:0.75;\" x=\"245.430311\" xlink:href=\"#m4cfe51e939\" y=\"504.851515\"/>\n     <use style=\"fill:#1f77b4;stroke:#ffffff;stroke-width:0.75;\" x=\"268.648464\" xlink:href=\"#m4cfe51e939\" y=\"504.851515\"/>\n     <use style=\"fill:#1f77b4;stroke:#ffffff;stroke-width:0.75;\" x=\"244.894392\" xlink:href=\"#m4cfe51e939\" y=\"504.851515\"/>\n     <use style=\"fill:#1f77b4;stroke:#ffffff;stroke-width:0.75;\" x=\"244.698139\" xlink:href=\"#m4cfe51e939\" y=\"504.851515\"/>\n     <use style=\"fill:#1f77b4;stroke:#ffffff;stroke-width:0.75;\" x=\"244.924584\" xlink:href=\"#m4cfe51e939\" y=\"504.851515\"/>\n     <use style=\"fill:#1f77b4;stroke:#ffffff;stroke-width:0.75;\" x=\"284.695861\" xlink:href=\"#m4cfe51e939\" y=\"504.851515\"/>\n     <use style=\"fill:#1f77b4;stroke:#ffffff;stroke-width:0.75;\" x=\"244.73588\" xlink:href=\"#m4cfe51e939\" y=\"504.851515\"/>\n     <use style=\"fill:#1f77b4;stroke:#ffffff;stroke-width:0.75;\" x=\"244.53208\" xlink:href=\"#m4cfe51e939\" y=\"504.851515\"/>\n     <use style=\"fill:#1f77b4;stroke:#ffffff;stroke-width:0.75;\" x=\"244.215057\" xlink:href=\"#m4cfe51e939\" y=\"393.37436\"/>\n     <use style=\"fill:#1f77b4;stroke:#ffffff;stroke-width:0.75;\" x=\"244.803814\" xlink:href=\"#m4cfe51e939\" y=\"504.851515\"/>\n     <use style=\"fill:#1f77b4;stroke:#ffffff;stroke-width:0.75;\" x=\"246.192676\" xlink:href=\"#m4cfe51e939\" y=\"504.851515\"/>\n     <use style=\"fill:#1f77b4;stroke:#ffffff;stroke-width:0.75;\" x=\"245.35483\" xlink:href=\"#m4cfe51e939\" y=\"504.851515\"/>\n     <use style=\"fill:#1f77b4;stroke:#ffffff;stroke-width:0.75;\" x=\"256.443083\" xlink:href=\"#m4cfe51e939\" y=\"504.851515\"/>\n     <use style=\"fill:#1f77b4;stroke:#ffffff;stroke-width:0.75;\" x=\"247.053167\" xlink:href=\"#m4cfe51e939\" y=\"504.851515\"/>\n     <use style=\"fill:#1f77b4;stroke:#ffffff;stroke-width:0.75;\" x=\"260.52664\" xlink:href=\"#m4cfe51e939\" y=\"504.851515\"/>\n     <use style=\"fill:#1f77b4;stroke:#ffffff;stroke-width:0.75;\" x=\"244.849103\" xlink:href=\"#m4cfe51e939\" y=\"504.851515\"/>\n     <use style=\"fill:#1f77b4;stroke:#ffffff;stroke-width:0.75;\" x=\"246.95504\" xlink:href=\"#m4cfe51e939\" y=\"504.851515\"/>\n     <use style=\"fill:#1f77b4;stroke:#ffffff;stroke-width:0.75;\" x=\"244.856651\" xlink:href=\"#m4cfe51e939\" y=\"504.851515\"/>\n     <use style=\"fill:#1f77b4;stroke:#ffffff;stroke-width:0.75;\" x=\"249.21949\" xlink:href=\"#m4cfe51e939\" y=\"504.851515\"/>\n     <use style=\"fill:#1f77b4;stroke:#ffffff;stroke-width:0.75;\" x=\"244.471694\" xlink:href=\"#m4cfe51e939\" y=\"504.851515\"/>\n     <use style=\"fill:#1f77b4;stroke:#ffffff;stroke-width:0.75;\" x=\"244.343376\" xlink:href=\"#m4cfe51e939\" y=\"504.851515\"/>\n     <use style=\"fill:#1f77b4;stroke:#ffffff;stroke-width:0.75;\" x=\"245.656756\" xlink:href=\"#m4cfe51e939\" y=\"504.851515\"/>\n     <use style=\"fill:#1f77b4;stroke:#ffffff;stroke-width:0.75;\" x=\"258.194257\" xlink:href=\"#m4cfe51e939\" y=\"504.851515\"/>\n     <use style=\"fill:#1f77b4;stroke:#ffffff;stroke-width:0.75;\" x=\"246.064357\" xlink:href=\"#m4cfe51e939\" y=\"504.851515\"/>\n     <use style=\"fill:#1f77b4;stroke:#ffffff;stroke-width:0.75;\" x=\"245.279348\" xlink:href=\"#m4cfe51e939\" y=\"504.851515\"/>\n     <use style=\"fill:#1f77b4;stroke:#ffffff;stroke-width:0.75;\" x=\"258.745273\" xlink:href=\"#m4cfe51e939\" y=\"504.851515\"/>\n     <use style=\"fill:#1f77b4;stroke:#ffffff;stroke-width:0.75;\" x=\"244.90194\" xlink:href=\"#m4cfe51e939\" y=\"504.851515\"/>\n     <use style=\"fill:#1f77b4;stroke:#ffffff;stroke-width:0.75;\" x=\"245.55863\" xlink:href=\"#m4cfe51e939\" y=\"504.851515\"/>\n     <use style=\"fill:#1f77b4;stroke:#ffffff;stroke-width:0.75;\" x=\"245.468052\" xlink:href=\"#m4cfe51e939\" y=\"504.851515\"/>\n     <use style=\"fill:#1f77b4;stroke:#ffffff;stroke-width:0.75;\" x=\"269.969393\" xlink:href=\"#m4cfe51e939\" y=\"504.851515\"/>\n     <use style=\"fill:#1f77b4;stroke:#ffffff;stroke-width:0.75;\" x=\"244.977421\" xlink:href=\"#m4cfe51e939\" y=\"504.851515\"/>\n     <use style=\"fill:#1f77b4;stroke:#ffffff;stroke-width:0.75;\" x=\"244.758525\" xlink:href=\"#m4cfe51e939\" y=\"504.851515\"/>\n     <use style=\"fill:#1f77b4;stroke:#ffffff;stroke-width:0.75;\" x=\"244.954777\" xlink:href=\"#m4cfe51e939\" y=\"504.851515\"/>\n     <use style=\"fill:#1f77b4;stroke:#ffffff;stroke-width:0.75;\" x=\"286.167753\" xlink:href=\"#m4cfe51e939\" y=\"504.851515\"/>\n     <use style=\"fill:#1f77b4;stroke:#ffffff;stroke-width:0.75;\" x=\"244.788717\" xlink:href=\"#m4cfe51e939\" y=\"504.851515\"/>\n     <use style=\"fill:#1f77b4;stroke:#ffffff;stroke-width:0.75;\" x=\"244.569821\" xlink:href=\"#m4cfe51e939\" y=\"504.851515\"/>\n     <use style=\"fill:#1f77b4;stroke:#ffffff;stroke-width:0.75;\" x=\"244.215057\" xlink:href=\"#m4cfe51e939\" y=\"384.511256\"/>\n     <use style=\"fill:#1f77b4;stroke:#ffffff;stroke-width:0.75;\" x=\"244.81891\" xlink:href=\"#m4cfe51e939\" y=\"504.851515\"/>\n     <use style=\"fill:#1f77b4;stroke:#ffffff;stroke-width:0.75;\" x=\"246.328543\" xlink:href=\"#m4cfe51e939\" y=\"504.851515\"/>\n     <use style=\"fill:#1f77b4;stroke:#ffffff;stroke-width:0.75;\" x=\"245.400119\" xlink:href=\"#m4cfe51e939\" y=\"504.851515\"/>\n     <use style=\"fill:#1f77b4;stroke:#ffffff;stroke-width:0.75;\" x=\"256.812943\" xlink:href=\"#m4cfe51e939\" y=\"504.851515\"/>\n     <use style=\"fill:#1f77b4;stroke:#ffffff;stroke-width:0.75;\" x=\"247.226774\" xlink:href=\"#m4cfe51e939\" y=\"504.851515\"/>\n     <use style=\"fill:#1f77b4;stroke:#ffffff;stroke-width:0.75;\" x=\"261.205974\" xlink:href=\"#m4cfe51e939\" y=\"504.851515\"/>\n     <use style=\"fill:#1f77b4;stroke:#ffffff;stroke-width:0.75;\" x=\"244.894392\" xlink:href=\"#m4cfe51e939\" y=\"504.851515\"/>\n     <use style=\"fill:#1f77b4;stroke:#ffffff;stroke-width:0.75;\" x=\"247.211678\" xlink:href=\"#m4cfe51e939\" y=\"504.851515\"/>\n     <use style=\"fill:#1f77b4;stroke:#ffffff;stroke-width:0.75;\" x=\"244.917036\" xlink:href=\"#m4cfe51e939\" y=\"504.851515\"/>\n     <use style=\"fill:#1f77b4;stroke:#ffffff;stroke-width:0.75;\" x=\"249.445935\" xlink:href=\"#m4cfe51e939\" y=\"504.851515\"/>\n     <use style=\"fill:#1f77b4;stroke:#ffffff;stroke-width:0.75;\" x=\"244.494339\" xlink:href=\"#m4cfe51e939\" y=\"504.851515\"/>\n     <use style=\"fill:#1f77b4;stroke:#ffffff;stroke-width:0.75;\" x=\"244.343376\" xlink:href=\"#m4cfe51e939\" y=\"504.851515\"/>\n     <use style=\"fill:#1f77b4;stroke:#ffffff;stroke-width:0.75;\" x=\"245.732238\" xlink:href=\"#m4cfe51e939\" y=\"504.851515\"/>\n     <use style=\"fill:#1f77b4;stroke:#ffffff;stroke-width:0.75;\" x=\"258.835851\" xlink:href=\"#m4cfe51e939\" y=\"504.851515\"/>\n     <use style=\"fill:#1f77b4;stroke:#ffffff;stroke-width:0.75;\" x=\"246.087002\" xlink:href=\"#m4cfe51e939\" y=\"504.851515\"/>\n     <use style=\"fill:#1f77b4;stroke:#ffffff;stroke-width:0.75;\" x=\"245.317089\" xlink:href=\"#m4cfe51e939\" y=\"504.851515\"/>\n     <use style=\"fill:#1f77b4;stroke:#ffffff;stroke-width:0.75;\" x=\"259.741631\" xlink:href=\"#m4cfe51e939\" y=\"504.851515\"/>\n     <use style=\"fill:#1f77b4;stroke:#ffffff;stroke-width:0.75;\" x=\"244.917036\" xlink:href=\"#m4cfe51e939\" y=\"504.851515\"/>\n     <use style=\"fill:#1f77b4;stroke:#ffffff;stroke-width:0.75;\" x=\"245.581275\" xlink:href=\"#m4cfe51e939\" y=\"504.851515\"/>\n     <use style=\"fill:#1f77b4;stroke:#ffffff;stroke-width:0.75;\" x=\"245.513341\" xlink:href=\"#m4cfe51e939\" y=\"504.851515\"/>\n     <use style=\"fill:#1f77b4;stroke:#ffffff;stroke-width:0.75;\" x=\"271.818693\" xlink:href=\"#m4cfe51e939\" y=\"504.851515\"/>\n     <use style=\"fill:#1f77b4;stroke:#ffffff;stroke-width:0.75;\" x=\"245.015162\" xlink:href=\"#m4cfe51e939\" y=\"504.851515\"/>\n     <use style=\"fill:#1f77b4;stroke:#ffffff;stroke-width:0.75;\" x=\"244.841554\" xlink:href=\"#m4cfe51e939\" y=\"504.851515\"/>\n     <use style=\"fill:#1f77b4;stroke:#ffffff;stroke-width:0.75;\" x=\"244.969873\" xlink:href=\"#m4cfe51e939\" y=\"504.851515\"/>\n     <use style=\"fill:#1f77b4;stroke:#ffffff;stroke-width:0.75;\" x=\"287.790609\" xlink:href=\"#m4cfe51e939\" y=\"504.851515\"/>\n     <use style=\"fill:#1f77b4;stroke:#ffffff;stroke-width:0.75;\" x=\"244.834006\" xlink:href=\"#m4cfe51e939\" y=\"504.851515\"/>\n     <use style=\"fill:#1f77b4;stroke:#ffffff;stroke-width:0.75;\" x=\"244.584917\" xlink:href=\"#m4cfe51e939\" y=\"504.851515\"/>\n     <use style=\"fill:#1f77b4;stroke:#ffffff;stroke-width:0.75;\" x=\"244.215057\" xlink:href=\"#m4cfe51e939\" y=\"375.463763\"/>\n     <use style=\"fill:#1f77b4;stroke:#ffffff;stroke-width:0.75;\" x=\"244.871747\" xlink:href=\"#m4cfe51e939\" y=\"504.851515\"/>\n     <use style=\"fill:#1f77b4;stroke:#ffffff;stroke-width:0.75;\" x=\"246.487054\" xlink:href=\"#m4cfe51e939\" y=\"504.851515\"/>\n     <use style=\"fill:#1f77b4;stroke:#ffffff;stroke-width:0.75;\" x=\"245.437859\" xlink:href=\"#m4cfe51e939\" y=\"504.851515\"/>\n     <use style=\"fill:#1f77b4;stroke:#ffffff;stroke-width:0.75;\" x=\"257.379055\" xlink:href=\"#m4cfe51e939\" y=\"504.851515\"/>\n     <use style=\"fill:#1f77b4;stroke:#ffffff;stroke-width:0.75;\" x=\"247.332449\" xlink:href=\"#m4cfe51e939\" y=\"504.851515\"/>\n     <use style=\"fill:#1f77b4;stroke:#ffffff;stroke-width:0.75;\" x=\"261.63622\" xlink:href=\"#m4cfe51e939\" y=\"504.851515\"/>\n     <use style=\"fill:#1f77b4;stroke:#ffffff;stroke-width:0.75;\" x=\"244.932132\" xlink:href=\"#m4cfe51e939\" y=\"504.851515\"/>\n     <use style=\"fill:#1f77b4;stroke:#ffffff;stroke-width:0.75;\" x=\"247.362641\" xlink:href=\"#m4cfe51e939\" y=\"504.851515\"/>\n     <use style=\"fill:#1f77b4;stroke:#ffffff;stroke-width:0.75;\" x=\"244.932132\" xlink:href=\"#m4cfe51e939\" y=\"504.851515\"/>\n     <use style=\"fill:#1f77b4;stroke:#ffffff;stroke-width:0.75;\" x=\"249.664831\" xlink:href=\"#m4cfe51e939\" y=\"504.851515\"/>\n     <use style=\"fill:#1f77b4;stroke:#ffffff;stroke-width:0.75;\" x=\"244.494339\" xlink:href=\"#m4cfe51e939\" y=\"504.851515\"/>\n     <use style=\"fill:#1f77b4;stroke:#ffffff;stroke-width:0.75;\" x=\"244.343376\" xlink:href=\"#m4cfe51e939\" y=\"504.851515\"/>\n     <use style=\"fill:#1f77b4;stroke:#ffffff;stroke-width:0.75;\" x=\"245.853008\" xlink:href=\"#m4cfe51e939\" y=\"504.851515\"/>\n     <use style=\"fill:#1f77b4;stroke:#ffffff;stroke-width:0.75;\" x=\"259.318933\" xlink:href=\"#m4cfe51e939\" y=\"504.851515\"/>\n     <use style=\"fill:#1f77b4;stroke:#ffffff;stroke-width:0.75;\" x=\"246.162483\" xlink:href=\"#m4cfe51e939\" y=\"504.851515\"/>\n     <use style=\"fill:#1f77b4;stroke:#ffffff;stroke-width:0.75;\" x=\"245.347281\" xlink:href=\"#m4cfe51e939\" y=\"504.851515\"/>\n     <use style=\"fill:#1f77b4;stroke:#ffffff;stroke-width:0.75;\" x=\"260.398321\" xlink:href=\"#m4cfe51e939\" y=\"504.851515\"/>\n     <use style=\"fill:#1f77b4;stroke:#ffffff;stroke-width:0.75;\" x=\"244.962325\" xlink:href=\"#m4cfe51e939\" y=\"504.851515\"/>\n     <use style=\"fill:#1f77b4;stroke:#ffffff;stroke-width:0.75;\" x=\"245.603919\" xlink:href=\"#m4cfe51e939\" y=\"504.851515\"/>\n     <use style=\"fill:#1f77b4;stroke:#ffffff;stroke-width:0.75;\" x=\"245.543534\" xlink:href=\"#m4cfe51e939\" y=\"504.851515\"/>\n     <use style=\"fill:#1f77b4;stroke:#ffffff;stroke-width:0.75;\" x=\"273.690638\" xlink:href=\"#m4cfe51e939\" y=\"504.851515\"/>\n     <use style=\"fill:#1f77b4;stroke:#ffffff;stroke-width:0.75;\" x=\"245.083096\" xlink:href=\"#m4cfe51e939\" y=\"504.851515\"/>\n     <use style=\"fill:#1f77b4;stroke:#ffffff;stroke-width:0.75;\" x=\"244.826458\" xlink:href=\"#m4cfe51e939\" y=\"504.851515\"/>\n     <use style=\"fill:#1f77b4;stroke:#ffffff;stroke-width:0.75;\" x=\"244.992518\" xlink:href=\"#m4cfe51e939\" y=\"504.851515\"/>\n     <use style=\"fill:#1f77b4;stroke:#ffffff;stroke-width:0.75;\" x=\"289.843709\" xlink:href=\"#m4cfe51e939\" y=\"504.851515\"/>\n     <use style=\"fill:#1f77b4;stroke:#ffffff;stroke-width:0.75;\" x=\"244.864199\" xlink:href=\"#m4cfe51e939\" y=\"504.851515\"/>\n     <use style=\"fill:#1f77b4;stroke:#ffffff;stroke-width:0.75;\" x=\"244.600013\" xlink:href=\"#m4cfe51e939\" y=\"504.851515\"/>\n     <use style=\"fill:#1f77b4;stroke:#ffffff;stroke-width:0.75;\" x=\"244.215057\" xlink:href=\"#m4cfe51e939\" y=\"368.626075\"/>\n     <use style=\"fill:#1f77b4;stroke:#ffffff;stroke-width:0.75;\" x=\"244.909488\" xlink:href=\"#m4cfe51e939\" y=\"504.851515\"/>\n     <use style=\"fill:#1f77b4;stroke:#ffffff;stroke-width:0.75;\" x=\"246.600277\" xlink:href=\"#m4cfe51e939\" y=\"504.851515\"/>\n     <use style=\"fill:#1f77b4;stroke:#ffffff;stroke-width:0.75;\" x=\"245.445408\" xlink:href=\"#m4cfe51e939\" y=\"504.851515\"/>\n     <use style=\"fill:#1f77b4;stroke:#ffffff;stroke-width:0.75;\" x=\"257.484729\" xlink:href=\"#m4cfe51e939\" y=\"504.851515\"/>\n     <use style=\"fill:#1f77b4;stroke:#ffffff;stroke-width:0.75;\" x=\"247.687212\" xlink:href=\"#m4cfe51e939\" y=\"504.851515\"/>\n     <use style=\"fill:#1f77b4;stroke:#ffffff;stroke-width:0.75;\" x=\"261.75699\" xlink:href=\"#m4cfe51e939\" y=\"504.851515\"/>\n     <use style=\"fill:#1f77b4;stroke:#ffffff;stroke-width:0.75;\" x=\"245.000066\" xlink:href=\"#m4cfe51e939\" y=\"504.851515\"/>\n     <use style=\"fill:#1f77b4;stroke:#ffffff;stroke-width:0.75;\" x=\"247.581538\" xlink:href=\"#m4cfe51e939\" y=\"504.851515\"/>\n     <use style=\"fill:#1f77b4;stroke:#ffffff;stroke-width:0.75;\" x=\"244.932132\" xlink:href=\"#m4cfe51e939\" y=\"504.851515\"/>\n     <use style=\"fill:#1f77b4;stroke:#ffffff;stroke-width:0.75;\" x=\"249.906373\" xlink:href=\"#m4cfe51e939\" y=\"504.851515\"/>\n     <use style=\"fill:#1f77b4;stroke:#ffffff;stroke-width:0.75;\" x=\"244.516983\" xlink:href=\"#m4cfe51e939\" y=\"504.851515\"/>\n     <use style=\"fill:#1f77b4;stroke:#ffffff;stroke-width:0.75;\" x=\"244.343376\" xlink:href=\"#m4cfe51e939\" y=\"504.851515\"/>\n     <use style=\"fill:#1f77b4;stroke:#ffffff;stroke-width:0.75;\" x=\"245.920942\" xlink:href=\"#m4cfe51e939\" y=\"504.851515\"/>\n     <use style=\"fill:#1f77b4;stroke:#ffffff;stroke-width:0.75;\" x=\"260.428513\" xlink:href=\"#m4cfe51e939\" y=\"504.851515\"/>\n     <use style=\"fill:#1f77b4;stroke:#ffffff;stroke-width:0.75;\" x=\"246.268157\" xlink:href=\"#m4cfe51e939\" y=\"504.851515\"/>\n     <use style=\"fill:#1f77b4;stroke:#ffffff;stroke-width:0.75;\" x=\"245.369926\" xlink:href=\"#m4cfe51e939\" y=\"504.851515\"/>\n     <use style=\"fill:#1f77b4;stroke:#ffffff;stroke-width:0.75;\" x=\"260.821018\" xlink:href=\"#m4cfe51e939\" y=\"504.851515\"/>\n     <use style=\"fill:#1f77b4;stroke:#ffffff;stroke-width:0.75;\" x=\"245.02271\" xlink:href=\"#m4cfe51e939\" y=\"504.851515\"/>\n     <use style=\"fill:#1f77b4;stroke:#ffffff;stroke-width:0.75;\" x=\"245.72469\" xlink:href=\"#m4cfe51e939\" y=\"504.851515\"/>\n     <use style=\"fill:#1f77b4;stroke:#ffffff;stroke-width:0.75;\" x=\"245.573726\" xlink:href=\"#m4cfe51e939\" y=\"504.851515\"/>\n     <use style=\"fill:#1f77b4;stroke:#ffffff;stroke-width:0.75;\" x=\"274.354876\" xlink:href=\"#m4cfe51e939\" y=\"504.851515\"/>\n     <use style=\"fill:#1f77b4;stroke:#ffffff;stroke-width:0.75;\" x=\"245.128385\" xlink:href=\"#m4cfe51e939\" y=\"504.851515\"/>\n     <use style=\"fill:#1f77b4;stroke:#ffffff;stroke-width:0.75;\" x=\"244.849103\" xlink:href=\"#m4cfe51e939\" y=\"504.851515\"/>\n     <use style=\"fill:#1f77b4;stroke:#ffffff;stroke-width:0.75;\" x=\"245.007614\" xlink:href=\"#m4cfe51e939\" y=\"504.851515\"/>\n     <use style=\"fill:#1f77b4;stroke:#ffffff;stroke-width:0.75;\" x=\"290.734393\" xlink:href=\"#m4cfe51e939\" y=\"504.851515\"/>\n     <use style=\"fill:#1f77b4;stroke:#ffffff;stroke-width:0.75;\" x=\"244.917036\" xlink:href=\"#m4cfe51e939\" y=\"504.851515\"/>\n     <use style=\"fill:#1f77b4;stroke:#ffffff;stroke-width:0.75;\" x=\"244.607561\" xlink:href=\"#m4cfe51e939\" y=\"504.851515\"/>\n     <use style=\"fill:#1f77b4;stroke:#ffffff;stroke-width:0.75;\" x=\"244.215057\" xlink:href=\"#m4cfe51e939\" y=\"361.628837\"/>\n     <use style=\"fill:#1f77b4;stroke:#ffffff;stroke-width:0.75;\" x=\"244.947229\" xlink:href=\"#m4cfe51e939\" y=\"504.851515\"/>\n     <use style=\"fill:#1f77b4;stroke:#ffffff;stroke-width:0.75;\" x=\"246.758788\" xlink:href=\"#m4cfe51e939\" y=\"504.851515\"/>\n     <use style=\"fill:#1f77b4;stroke:#ffffff;stroke-width:0.75;\" x=\"245.483148\" xlink:href=\"#m4cfe51e939\" y=\"504.851515\"/>\n     <use style=\"fill:#1f77b4;stroke:#ffffff;stroke-width:0.75;\" x=\"257.658337\" xlink:href=\"#m4cfe51e939\" y=\"504.851515\"/>\n     <use style=\"fill:#1f77b4;stroke:#ffffff;stroke-width:0.75;\" x=\"247.815531\" xlink:href=\"#m4cfe51e939\" y=\"504.851515\"/>\n     <use style=\"fill:#1f77b4;stroke:#ffffff;stroke-width:0.75;\" x=\"263.03263\" xlink:href=\"#m4cfe51e939\" y=\"504.851515\"/>\n     <use style=\"fill:#1f77b4;stroke:#ffffff;stroke-width:0.75;\" x=\"245.075548\" xlink:href=\"#m4cfe51e939\" y=\"504.851515\"/>\n     <use style=\"fill:#1f77b4;stroke:#ffffff;stroke-width:0.75;\" x=\"247.724953\" xlink:href=\"#m4cfe51e939\" y=\"504.851515\"/>\n     <use style=\"fill:#1f77b4;stroke:#ffffff;stroke-width:0.75;\" x=\"244.939681\" xlink:href=\"#m4cfe51e939\" y=\"504.851515\"/>\n     <use style=\"fill:#1f77b4;stroke:#ffffff;stroke-width:0.75;\" x=\"250.132818\" xlink:href=\"#m4cfe51e939\" y=\"504.851515\"/>\n     <use style=\"fill:#1f77b4;stroke:#ffffff;stroke-width:0.75;\" x=\"244.524532\" xlink:href=\"#m4cfe51e939\" y=\"504.851515\"/>\n     <use style=\"fill:#1f77b4;stroke:#ffffff;stroke-width:0.75;\" x=\"244.343376\" xlink:href=\"#m4cfe51e939\" y=\"504.851515\"/>\n     <use style=\"fill:#1f77b4;stroke:#ffffff;stroke-width:0.75;\" x=\"245.951135\" xlink:href=\"#m4cfe51e939\" y=\"504.851515\"/>\n     <use style=\"fill:#1f77b4;stroke:#ffffff;stroke-width:0.75;\" x=\"262.119302\" xlink:href=\"#m4cfe51e939\" y=\"504.851515\"/>\n     <use style=\"fill:#1f77b4;stroke:#ffffff;stroke-width:0.75;\" x=\"246.320995\" xlink:href=\"#m4cfe51e939\" y=\"504.851515\"/>\n     <use style=\"fill:#1f77b4;stroke:#ffffff;stroke-width:0.75;\" x=\"245.39257\" xlink:href=\"#m4cfe51e939\" y=\"504.851515\"/>\n     <use style=\"fill:#1f77b4;stroke:#ffffff;stroke-width:0.75;\" x=\"261.18333\" xlink:href=\"#m4cfe51e939\" y=\"504.851515\"/>\n     <use style=\"fill:#1f77b4;stroke:#ffffff;stroke-width:0.75;\" x=\"245.045355\" xlink:href=\"#m4cfe51e939\" y=\"504.851515\"/>\n     <use style=\"fill:#1f77b4;stroke:#ffffff;stroke-width:0.75;\" x=\"245.792623\" xlink:href=\"#m4cfe51e939\" y=\"504.851515\"/>\n     <use style=\"fill:#1f77b4;stroke:#ffffff;stroke-width:0.75;\" x=\"245.702045\" xlink:href=\"#m4cfe51e939\" y=\"504.851515\"/>\n     <use style=\"fill:#1f77b4;stroke:#ffffff;stroke-width:0.75;\" x=\"275.200271\" xlink:href=\"#m4cfe51e939\" y=\"504.851515\"/>\n     <use style=\"fill:#1f77b4;stroke:#ffffff;stroke-width:0.75;\" x=\"245.128385\" xlink:href=\"#m4cfe51e939\" y=\"504.851515\"/>\n     <use style=\"fill:#1f77b4;stroke:#ffffff;stroke-width:0.75;\" x=\"244.864199\" xlink:href=\"#m4cfe51e939\" y=\"504.851515\"/>\n     <use style=\"fill:#1f77b4;stroke:#ffffff;stroke-width:0.75;\" x=\"245.037807\" xlink:href=\"#m4cfe51e939\" y=\"504.851515\"/>\n     <use style=\"fill:#1f77b4;stroke:#ffffff;stroke-width:0.75;\" x=\"291.164638\" xlink:href=\"#m4cfe51e939\" y=\"504.851515\"/>\n     <use style=\"fill:#1f77b4;stroke:#ffffff;stroke-width:0.75;\" x=\"244.992518\" xlink:href=\"#m4cfe51e939\" y=\"504.851515\"/>\n     <use style=\"fill:#1f77b4;stroke:#ffffff;stroke-width:0.75;\" x=\"244.65285\" xlink:href=\"#m4cfe51e939\" y=\"504.851515\"/>\n     <use style=\"fill:#1f77b4;stroke:#ffffff;stroke-width:0.75;\" x=\"244.215057\" xlink:href=\"#m4cfe51e939\" y=\"357.881818\"/>\n    </g>\n   </g>\n   <g id=\"matplotlib.axis_15\">\n    <g id=\"xtick_26\">\n     <g id=\"line2d_75\">\n      <g>\n       <use style=\"stroke:#000000;stroke-width:0.8;\" x=\"244.215057\" xlink:href=\"#mec91a7b632\" y=\"512.2\"/>\n      </g>\n     </g>\n     <g id=\"text_29\">\n      <!-- 0 -->\n      <g transform=\"translate(241.033807 526.798437)scale(0.1 -0.1)\">\n       <use xlink:href=\"#DejaVuSans-48\"/>\n      </g>\n     </g>\n    </g>\n    <g id=\"xtick_27\">\n     <g id=\"line2d_76\">\n      <g>\n       <use style=\"stroke:#000000;stroke-width:0.8;\" x=\"281.955878\" xlink:href=\"#mec91a7b632\" y=\"512.2\"/>\n      </g>\n     </g>\n     <g id=\"text_30\">\n      <!-- 5000 -->\n      <g transform=\"translate(269.230878 526.798437)scale(0.1 -0.1)\">\n       <use xlink:href=\"#DejaVuSans-53\"/>\n       <use x=\"63.623047\" xlink:href=\"#DejaVuSans-48\"/>\n       <use x=\"127.246094\" xlink:href=\"#DejaVuSans-48\"/>\n       <use x=\"190.869141\" xlink:href=\"#DejaVuSans-48\"/>\n      </g>\n     </g>\n    </g>\n    <g id=\"xtick_28\">\n     <g id=\"line2d_77\">\n      <g>\n       <use style=\"stroke:#000000;stroke-width:0.8;\" x=\"319.696699\" xlink:href=\"#mec91a7b632\" y=\"512.2\"/>\n      </g>\n     </g>\n     <g id=\"text_31\">\n      <!-- 10000 -->\n      <g transform=\"translate(303.790449 526.798437)scale(0.1 -0.1)\">\n       <use xlink:href=\"#DejaVuSans-49\"/>\n       <use x=\"63.623047\" xlink:href=\"#DejaVuSans-48\"/>\n       <use x=\"127.246094\" xlink:href=\"#DejaVuSans-48\"/>\n       <use x=\"190.869141\" xlink:href=\"#DejaVuSans-48\"/>\n       <use x=\"254.492188\" xlink:href=\"#DejaVuSans-48\"/>\n      </g>\n     </g>\n    </g>\n    <g id=\"xtick_29\">\n     <g id=\"line2d_78\">\n      <g>\n       <use style=\"stroke:#000000;stroke-width:0.8;\" x=\"357.437519\" xlink:href=\"#mec91a7b632\" y=\"512.2\"/>\n      </g>\n     </g>\n     <g id=\"text_32\">\n      <!-- 15000 -->\n      <g transform=\"translate(341.531269 526.798437)scale(0.1 -0.1)\">\n       <use xlink:href=\"#DejaVuSans-49\"/>\n       <use x=\"63.623047\" xlink:href=\"#DejaVuSans-53\"/>\n       <use x=\"127.246094\" xlink:href=\"#DejaVuSans-48\"/>\n       <use x=\"190.869141\" xlink:href=\"#DejaVuSans-48\"/>\n       <use x=\"254.492188\" xlink:href=\"#DejaVuSans-48\"/>\n      </g>\n     </g>\n    </g>\n    <g id=\"text_33\">\n     <!-- Deaths -->\n     <g transform=\"translate(294.360156 540.476562)scale(0.1 -0.1)\">\n      <use xlink:href=\"#DejaVuSans-68\"/>\n      <use x=\"77.001953\" xlink:href=\"#DejaVuSans-101\"/>\n      <use x=\"138.525391\" xlink:href=\"#DejaVuSans-97\"/>\n      <use x=\"199.804688\" xlink:href=\"#DejaVuSans-116\"/>\n      <use x=\"239.013672\" xlink:href=\"#DejaVuSans-104\"/>\n      <use x=\"302.392578\" xlink:href=\"#DejaVuSans-115\"/>\n     </g>\n    </g>\n   </g>\n   <g id=\"matplotlib.axis_16\">\n    <g id=\"ytick_50\">\n     <g id=\"line2d_79\">\n      <g>\n       <use style=\"stroke:#000000;stroke-width:0.8;\" x=\"237.428125\" xlink:href=\"#m1769ce0960\" y=\"504.851515\"/>\n      </g>\n     </g>\n    </g>\n    <g id=\"ytick_51\">\n     <g id=\"line2d_80\">\n      <g>\n       <use style=\"stroke:#000000;stroke-width:0.8;\" x=\"237.428125\" xlink:href=\"#m1769ce0960\" y=\"480.966897\"/>\n      </g>\n     </g>\n    </g>\n    <g id=\"ytick_52\">\n     <g id=\"line2d_81\">\n      <g>\n       <use style=\"stroke:#000000;stroke-width:0.8;\" x=\"237.428125\" xlink:href=\"#m1769ce0960\" y=\"457.082279\"/>\n      </g>\n     </g>\n    </g>\n    <g id=\"ytick_53\">\n     <g id=\"line2d_82\">\n      <g>\n       <use style=\"stroke:#000000;stroke-width:0.8;\" x=\"237.428125\" xlink:href=\"#m1769ce0960\" y=\"433.197661\"/>\n      </g>\n     </g>\n    </g>\n    <g id=\"ytick_54\">\n     <g id=\"line2d_83\">\n      <g>\n       <use style=\"stroke:#000000;stroke-width:0.8;\" x=\"237.428125\" xlink:href=\"#m1769ce0960\" y=\"409.313044\"/>\n      </g>\n     </g>\n    </g>\n    <g id=\"ytick_55\">\n     <g id=\"line2d_84\">\n      <g>\n       <use style=\"stroke:#000000;stroke-width:0.8;\" x=\"237.428125\" xlink:href=\"#m1769ce0960\" y=\"385.428426\"/>\n      </g>\n     </g>\n    </g>\n    <g id=\"ytick_56\">\n     <g id=\"line2d_85\">\n      <g>\n       <use style=\"stroke:#000000;stroke-width:0.8;\" x=\"237.428125\" xlink:href=\"#m1769ce0960\" y=\"361.543808\"/>\n      </g>\n     </g>\n    </g>\n   </g>\n   <g id=\"patch_24\">\n    <path d=\"M 237.428125 512.2 \nL 237.428125 350.533333 \n\" style=\"fill:none;stroke:#000000;stroke-linecap:square;stroke-linejoin:miter;stroke-width:0.8;\"/>\n   </g>\n   <g id=\"patch_25\">\n    <path d=\"M 237.428125 512.2 \nL 386.740625 512.2 \n\" style=\"fill:none;stroke:#000000;stroke-linecap:square;stroke-linejoin:miter;stroke-width:0.8;\"/>\n   </g>\n  </g>\n  <g id=\"axes_9\">\n   <g id=\"patch_26\">\n    <path d=\"M 408.803125 512.2 \nL 558.115625 512.2 \nL 558.115625 350.533333 \nL 408.803125 350.533333 \nz\n\" style=\"fill:#ffffff;\"/>\n   </g>\n   <g id=\"matplotlib.axis_17\">\n    <g id=\"xtick_30\">\n     <g id=\"line2d_86\">\n      <g>\n       <use style=\"stroke:#000000;stroke-width:0.8;\" x=\"415.590057\" xlink:href=\"#mec91a7b632\" y=\"512.2\"/>\n      </g>\n     </g>\n     <g id=\"text_34\">\n      <!-- 0 -->\n      <g transform=\"translate(412.408807 526.798437)scale(0.1 -0.1)\">\n       <use xlink:href=\"#DejaVuSans-48\"/>\n      </g>\n     </g>\n    </g>\n    <g id=\"xtick_31\">\n     <g id=\"line2d_87\">\n      <g>\n       <use style=\"stroke:#000000;stroke-width:0.8;\" x=\"459.708886\" xlink:href=\"#mec91a7b632\" y=\"512.2\"/>\n      </g>\n     </g>\n     <g id=\"text_35\">\n      <!-- 50000 -->\n      <g transform=\"translate(443.802636 526.798437)scale(0.1 -0.1)\">\n       <use xlink:href=\"#DejaVuSans-53\"/>\n       <use x=\"63.623047\" xlink:href=\"#DejaVuSans-48\"/>\n       <use x=\"127.246094\" xlink:href=\"#DejaVuSans-48\"/>\n       <use x=\"190.869141\" xlink:href=\"#DejaVuSans-48\"/>\n       <use x=\"254.492188\" xlink:href=\"#DejaVuSans-48\"/>\n      </g>\n     </g>\n    </g>\n    <g id=\"xtick_32\">\n     <g id=\"line2d_88\">\n      <g>\n       <use style=\"stroke:#000000;stroke-width:0.8;\" x=\"503.827715\" xlink:href=\"#mec91a7b632\" y=\"512.2\"/>\n      </g>\n     </g>\n     <g id=\"text_36\">\n      <!-- 100000 -->\n      <g transform=\"translate(484.740215 526.798437)scale(0.1 -0.1)\">\n       <use xlink:href=\"#DejaVuSans-49\"/>\n       <use x=\"63.623047\" xlink:href=\"#DejaVuSans-48\"/>\n       <use x=\"127.246094\" xlink:href=\"#DejaVuSans-48\"/>\n       <use x=\"190.869141\" xlink:href=\"#DejaVuSans-48\"/>\n       <use x=\"254.492188\" xlink:href=\"#DejaVuSans-48\"/>\n       <use x=\"318.115234\" xlink:href=\"#DejaVuSans-48\"/>\n      </g>\n     </g>\n    </g>\n    <g id=\"xtick_33\">\n     <g id=\"line2d_89\">\n      <g>\n       <use style=\"stroke:#000000;stroke-width:0.8;\" x=\"547.946544\" xlink:href=\"#mec91a7b632\" y=\"512.2\"/>\n      </g>\n     </g>\n     <g id=\"text_37\">\n      <!-- 150000 -->\n      <g transform=\"translate(528.859044 526.798437)scale(0.1 -0.1)\">\n       <use xlink:href=\"#DejaVuSans-49\"/>\n       <use x=\"63.623047\" xlink:href=\"#DejaVuSans-53\"/>\n       <use x=\"127.246094\" xlink:href=\"#DejaVuSans-48\"/>\n       <use x=\"190.869141\" xlink:href=\"#DejaVuSans-48\"/>\n       <use x=\"254.492188\" xlink:href=\"#DejaVuSans-48\"/>\n       <use x=\"318.115234\" xlink:href=\"#DejaVuSans-48\"/>\n      </g>\n     </g>\n    </g>\n    <g id=\"text_38\">\n     <!-- Recovered -->\n     <g transform=\"translate(457.095313 540.476562)scale(0.1 -0.1)\">\n      <use xlink:href=\"#DejaVuSans-82\"/>\n      <use x=\"64.982422\" xlink:href=\"#DejaVuSans-101\"/>\n      <use x=\"126.505859\" xlink:href=\"#DejaVuSans-99\"/>\n      <use x=\"181.486328\" xlink:href=\"#DejaVuSans-111\"/>\n      <use x=\"242.667969\" xlink:href=\"#DejaVuSans-118\"/>\n      <use x=\"301.847656\" xlink:href=\"#DejaVuSans-101\"/>\n      <use x=\"363.371094\" xlink:href=\"#DejaVuSans-114\"/>\n      <use x=\"402.234375\" xlink:href=\"#DejaVuSans-101\"/>\n      <use x=\"463.757812\" xlink:href=\"#DejaVuSans-100\"/>\n     </g>\n    </g>\n   </g>\n   <g id=\"matplotlib.axis_18\">\n    <g id=\"ytick_57\">\n     <g id=\"line2d_90\">\n      <g>\n       <use style=\"stroke:#000000;stroke-width:0.8;\" x=\"408.803125\" xlink:href=\"#m1769ce0960\" y=\"504.851515\"/>\n      </g>\n     </g>\n    </g>\n    <g id=\"ytick_58\">\n     <g id=\"line2d_91\">\n      <g>\n       <use style=\"stroke:#000000;stroke-width:0.8;\" x=\"408.803125\" xlink:href=\"#m1769ce0960\" y=\"480.966897\"/>\n      </g>\n     </g>\n    </g>\n    <g id=\"ytick_59\">\n     <g id=\"line2d_92\">\n      <g>\n       <use style=\"stroke:#000000;stroke-width:0.8;\" x=\"408.803125\" xlink:href=\"#m1769ce0960\" y=\"457.082279\"/>\n      </g>\n     </g>\n    </g>\n    <g id=\"ytick_60\">\n     <g id=\"line2d_93\">\n      <g>\n       <use style=\"stroke:#000000;stroke-width:0.8;\" x=\"408.803125\" xlink:href=\"#m1769ce0960\" y=\"433.197661\"/>\n      </g>\n     </g>\n    </g>\n    <g id=\"ytick_61\">\n     <g id=\"line2d_94\">\n      <g>\n       <use style=\"stroke:#000000;stroke-width:0.8;\" x=\"408.803125\" xlink:href=\"#m1769ce0960\" y=\"409.313044\"/>\n      </g>\n     </g>\n    </g>\n    <g id=\"ytick_62\">\n     <g id=\"line2d_95\">\n      <g>\n       <use style=\"stroke:#000000;stroke-width:0.8;\" x=\"408.803125\" xlink:href=\"#m1769ce0960\" y=\"385.428426\"/>\n      </g>\n     </g>\n    </g>\n    <g id=\"ytick_63\">\n     <g id=\"line2d_96\">\n      <g>\n       <use style=\"stroke:#000000;stroke-width:0.8;\" x=\"408.803125\" xlink:href=\"#m1769ce0960\" y=\"361.543808\"/>\n      </g>\n     </g>\n    </g>\n   </g>\n   <g id=\"patch_27\">\n    <path d=\"M 408.803125 512.2 \nL 408.803125 350.533333 \n\" style=\"fill:none;stroke:#000000;stroke-linecap:square;stroke-linejoin:miter;stroke-width:0.8;\"/>\n   </g>\n   <g id=\"patch_28\">\n    <path d=\"M 408.803125 512.2 \nL 558.115625 512.2 \n\" style=\"fill:none;stroke:#000000;stroke-linecap:square;stroke-linejoin:miter;stroke-width:0.8;\"/>\n   </g>\n  </g>\n  <g id=\"axes_10\">\n   <g id=\"patch_29\">\n    <path clip-path=\"url(#p6ec1311115)\" d=\"M 72.840057 168.866667 \nL 86.41392 168.866667 \nL 86.41392 14.898413 \nL 72.840057 14.898413 \nz\n\" style=\"fill:#1f77b4;\"/>\n   </g>\n   <g id=\"patch_30\">\n    <path clip-path=\"url(#p6ec1311115)\" d=\"M 86.41392 168.866667 \nL 99.987784 168.866667 \nL 99.987784 147.547985 \nL 86.41392 147.547985 \nz\n\" style=\"fill:#1f77b4;\"/>\n   </g>\n   <g id=\"patch_31\">\n    <path clip-path=\"url(#p6ec1311115)\" d=\"M 99.987784 168.866667 \nL 113.561648 168.866667 \nL 113.561648 161.76044 \nL 99.987784 161.76044 \nz\n\" style=\"fill:#1f77b4;\"/>\n   </g>\n   <g id=\"patch_32\">\n    <path clip-path=\"url(#p6ec1311115)\" d=\"M 113.561648 168.866667 \nL 127.135511 168.866667 \nL 127.135511 163.339601 \nL 113.561648 163.339601 \nz\n\" style=\"fill:#1f77b4;\"/>\n   </g>\n   <g id=\"patch_33\">\n    <path clip-path=\"url(#p6ec1311115)\" d=\"M 127.135511 168.866667 \nL 140.709375 168.866667 \nL 140.709375 166.497924 \nL 127.135511 166.497924 \nz\n\" style=\"fill:#1f77b4;\"/>\n   </g>\n   <g id=\"patch_34\">\n    <path clip-path=\"url(#p6ec1311115)\" d=\"M 140.709375 168.866667 \nL 154.283239 168.866667 \nL 154.283239 166.497924 \nL 140.709375 166.497924 \nz\n\" style=\"fill:#1f77b4;\"/>\n   </g>\n   <g id=\"patch_35\">\n    <path clip-path=\"url(#p6ec1311115)\" d=\"M 154.283239 168.866667 \nL 167.857102 168.866667 \nL 167.857102 166.497924 \nL 154.283239 166.497924 \nz\n\" style=\"fill:#1f77b4;\"/>\n   </g>\n   <g id=\"patch_36\">\n    <path clip-path=\"url(#p6ec1311115)\" d=\"M 167.857102 168.866667 \nL 181.430966 168.866667 \nL 181.430966 168.077086 \nL 167.857102 168.077086 \nz\n\" style=\"fill:#1f77b4;\"/>\n   </g>\n   <g id=\"patch_37\">\n    <path clip-path=\"url(#p6ec1311115)\" d=\"M 181.430966 168.866667 \nL 195.00483 168.866667 \nL 195.00483 166.497924 \nL 181.430966 166.497924 \nz\n\" style=\"fill:#1f77b4;\"/>\n   </g>\n   <g id=\"patch_38\">\n    <path clip-path=\"url(#p6ec1311115)\" d=\"M 195.00483 168.866667 \nL 208.578693 168.866667 \nL 208.578693 167.287505 \nL 195.00483 167.287505 \nz\n\" style=\"fill:#1f77b4;\"/>\n   </g>\n  </g>\n  <g id=\"axes_11\">\n   <g id=\"patch_39\">\n    <path clip-path=\"url(#p68dad7b81b)\" d=\"M 244.215057 340.533333 \nL 257.78892 340.533333 \nL 257.78892 186.565079 \nL 244.215057 186.565079 \nz\n\" style=\"fill:#1f77b4;\"/>\n   </g>\n   <g id=\"patch_40\">\n    <path clip-path=\"url(#p68dad7b81b)\" d=\"M 257.78892 340.533333 \nL 271.362784 340.533333 \nL 271.362784 318.653634 \nL 257.78892 318.653634 \nz\n\" style=\"fill:#1f77b4;\"/>\n   </g>\n   <g id=\"patch_41\">\n    <path clip-path=\"url(#p68dad7b81b)\" d=\"M 271.362784 340.533333 \nL 284.936648 340.533333 \nL 284.936648 332.429741 \nL 271.362784 332.429741 \nz\n\" style=\"fill:#1f77b4;\"/>\n   </g>\n   <g id=\"patch_42\">\n    <path clip-path=\"url(#p68dad7b81b)\" d=\"M 284.936648 340.533333 \nL 298.510511 340.533333 \nL 298.510511 332.429741 \nL 284.936648 332.429741 \nz\n\" style=\"fill:#1f77b4;\"/>\n   </g>\n   <g id=\"patch_43\">\n    <path clip-path=\"url(#p68dad7b81b)\" d=\"M 298.510511 340.533333 \nL 312.084375 340.533333 \nL 312.084375 338.102256 \nL 298.510511 338.102256 \nz\n\" style=\"fill:#1f77b4;\"/>\n   </g>\n   <g id=\"patch_44\">\n    <path clip-path=\"url(#p68dad7b81b)\" d=\"M 312.084375 340.533333 \nL 325.658239 340.533333 \nL 325.658239 338.102256 \nL 312.084375 338.102256 \nz\n\" style=\"fill:#1f77b4;\"/>\n   </g>\n   <g id=\"patch_45\">\n    <path clip-path=\"url(#p68dad7b81b)\" d=\"M 325.658239 340.533333 \nL 339.232102 340.533333 \nL 339.232102 338.102256 \nL 325.658239 338.102256 \nz\n\" style=\"fill:#1f77b4;\"/>\n   </g>\n   <g id=\"patch_46\">\n    <path clip-path=\"url(#p68dad7b81b)\" d=\"M 339.232102 340.533333 \nL 352.805966 340.533333 \nL 352.805966 338.912615 \nL 339.232102 338.912615 \nz\n\" style=\"fill:#1f77b4;\"/>\n   </g>\n   <g id=\"patch_47\">\n    <path clip-path=\"url(#p68dad7b81b)\" d=\"M 352.805966 340.533333 \nL 366.37983 340.533333 \nL 366.37983 338.102256 \nL 352.805966 338.102256 \nz\n\" style=\"fill:#1f77b4;\"/>\n   </g>\n   <g id=\"patch_48\">\n    <path clip-path=\"url(#p68dad7b81b)\" d=\"M 366.37983 340.533333 \nL 379.953693 340.533333 \nL 379.953693 338.912615 \nL 366.37983 338.912615 \nz\n\" style=\"fill:#1f77b4;\"/>\n   </g>\n  </g>\n  <g id=\"axes_12\">\n   <g id=\"patch_49\">\n    <path clip-path=\"url(#p5c751bf1dc)\" d=\"M 415.590057 512.2 \nL 429.16392 512.2 \nL 429.16392 358.231746 \nL 415.590057 358.231746 \nz\n\" style=\"fill:#1f77b4;\"/>\n   </g>\n   <g id=\"patch_50\">\n    <path clip-path=\"url(#p5c751bf1dc)\" d=\"M 429.16392 512.2 \nL 442.737784 512.2 \nL 442.737784 506.497472 \nL 429.16392 506.497472 \nz\n\" style=\"fill:#1f77b4;\"/>\n   </g>\n   <g id=\"patch_51\">\n    <path clip-path=\"url(#p5c751bf1dc)\" d=\"M 442.737784 512.2 \nL 456.311648 512.2 \nL 456.311648 506.497472 \nL 442.737784 506.497472 \nz\n\" style=\"fill:#1f77b4;\"/>\n   </g>\n   <g id=\"patch_52\">\n    <path clip-path=\"url(#p5c751bf1dc)\" d=\"M 456.311648 512.2 \nL 469.885511 512.2 \nL 469.885511 509.348736 \nL 456.311648 509.348736 \nz\n\" style=\"fill:#1f77b4;\"/>\n   </g>\n   <g id=\"patch_53\">\n    <path clip-path=\"url(#p5c751bf1dc)\" d=\"M 469.885511 512.2 \nL 483.459375 512.2 \nL 483.459375 509.348736 \nL 469.885511 509.348736 \nz\n\" style=\"fill:#1f77b4;\"/>\n   </g>\n   <g id=\"patch_54\">\n    <path clip-path=\"url(#p5c751bf1dc)\" d=\"M 483.459375 512.2 \nL 497.033239 512.2 \nL 497.033239 509.348736 \nL 483.459375 509.348736 \nz\n\" style=\"fill:#1f77b4;\"/>\n   </g>\n   <g id=\"patch_55\">\n    <path clip-path=\"url(#p5c751bf1dc)\" d=\"M 497.033239 512.2 \nL 510.607102 512.2 \nL 510.607102 510.061552 \nL 497.033239 510.061552 \nz\n\" style=\"fill:#1f77b4;\"/>\n   </g>\n   <g id=\"patch_56\">\n    <path clip-path=\"url(#p5c751bf1dc)\" d=\"M 510.607102 512.2 \nL 524.180966 512.2 \nL 524.180966 511.487184 \nL 510.607102 511.487184 \nz\n\" style=\"fill:#1f77b4;\"/>\n   </g>\n   <g id=\"patch_57\">\n    <path clip-path=\"url(#p5c751bf1dc)\" d=\"M 524.180966 512.2 \nL 537.75483 512.2 \nL 537.75483 510.774368 \nL 524.180966 510.774368 \nz\n\" style=\"fill:#1f77b4;\"/>\n   </g>\n   <g id=\"patch_58\">\n    <path clip-path=\"url(#p5c751bf1dc)\" d=\"M 537.75483 512.2 \nL 551.328693 512.2 \nL 551.328693 510.061552 \nL 537.75483 510.061552 \nz\n\" style=\"fill:#1f77b4;\"/>\n   </g>\n  </g>\n </g>\n <defs>\n  <clipPath id=\"p9baccc0271\">\n   <rect height=\"161.666667\" width=\"149.3125\" x=\"237.428125\" y=\"7.2\"/>\n  </clipPath>\n  <clipPath id=\"p06b2576202\">\n   <rect height=\"161.666667\" width=\"149.3125\" x=\"408.803125\" y=\"7.2\"/>\n  </clipPath>\n  <clipPath id=\"pea624ae304\">\n   <rect height=\"161.666667\" width=\"149.3125\" x=\"66.053125\" y=\"178.866667\"/>\n  </clipPath>\n  <clipPath id=\"p01702a1d43\">\n   <rect height=\"161.666667\" width=\"149.3125\" x=\"408.803125\" y=\"178.866667\"/>\n  </clipPath>\n  <clipPath id=\"pa8099dd168\">\n   <rect height=\"161.666667\" width=\"149.3125\" x=\"66.053125\" y=\"350.533333\"/>\n  </clipPath>\n  <clipPath id=\"p0045c9ea52\">\n   <rect height=\"161.666667\" width=\"149.3125\" x=\"237.428125\" y=\"350.533333\"/>\n  </clipPath>\n  <clipPath id=\"p6ec1311115\">\n   <rect height=\"161.666667\" width=\"149.3125\" x=\"66.053125\" y=\"7.2\"/>\n  </clipPath>\n  <clipPath id=\"p68dad7b81b\">\n   <rect height=\"161.666667\" width=\"149.3125\" x=\"237.428125\" y=\"178.866667\"/>\n  </clipPath>\n  <clipPath id=\"p5c751bf1dc\">\n   <rect height=\"161.666667\" width=\"149.3125\" x=\"408.803125\" y=\"350.533333\"/>\n  </clipPath>\n </defs>\n</svg>\n"
          },
          "metadata": {
            "tags": [],
            "needs_background": "light"
          }
        }
      ]
    },
    {
      "cell_type": "markdown",
      "metadata": {
        "id": "cTLqw0G_9XXX",
        "colab_type": "text"
      },
      "source": [
        "## Covid-19 line_list_data"
      ]
    },
    {
      "cell_type": "code",
      "metadata": {
        "id": "LIQSkSqgMwj_",
        "colab_type": "code",
        "colab": {}
      },
      "source": [
        "df2 = \"https://raw.githubusercontent.com/jvataidee/kangle_COVID19_previsao-de-casos/master/datasets_494724_1188660_COVID19_line_list_data.csv\""
      ],
      "execution_count": null,
      "outputs": []
    },
    {
      "cell_type": "code",
      "metadata": {
        "id": "5rE9ptI9M0_c",
        "colab_type": "code",
        "colab": {
          "base_uri": "https://localhost:8080/",
          "height": 34
        },
        "outputId": "90edac10-ee1d-43c4-dbdc-0a2f4ef7b003"
      },
      "source": [
        "line_list_df = pd.read_csv(df2)\n",
        "line_list_df.shape"
      ],
      "execution_count": null,
      "outputs": [
        {
          "output_type": "execute_result",
          "data": {
            "text/plain": [
              "(1085, 27)"
            ]
          },
          "metadata": {
            "tags": []
          },
          "execution_count": 14
        }
      ]
    },
    {
      "cell_type": "code",
      "metadata": {
        "id": "pj7uXUnEM5Bx",
        "colab_type": "code",
        "colab": {
          "base_uri": "https://localhost:8080/",
          "height": 311
        },
        "outputId": "af888619-3e49-413f-ba56-3a11bd409d2b"
      },
      "source": [
        "line_list_df.head(2)"
      ],
      "execution_count": null,
      "outputs": [
        {
          "output_type": "execute_result",
          "data": {
            "text/html": [
              "<div>\n",
              "<style scoped>\n",
              "    .dataframe tbody tr th:only-of-type {\n",
              "        vertical-align: middle;\n",
              "    }\n",
              "\n",
              "    .dataframe tbody tr th {\n",
              "        vertical-align: top;\n",
              "    }\n",
              "\n",
              "    .dataframe thead th {\n",
              "        text-align: right;\n",
              "    }\n",
              "</style>\n",
              "<table border=\"1\" class=\"dataframe\">\n",
              "  <thead>\n",
              "    <tr style=\"text-align: right;\">\n",
              "      <th></th>\n",
              "      <th>id</th>\n",
              "      <th>case_in_country</th>\n",
              "      <th>reporting date</th>\n",
              "      <th>Unnamed: 3</th>\n",
              "      <th>summary</th>\n",
              "      <th>location</th>\n",
              "      <th>country</th>\n",
              "      <th>gender</th>\n",
              "      <th>age</th>\n",
              "      <th>symptom_onset</th>\n",
              "      <th>If_onset_approximated</th>\n",
              "      <th>hosp_visit_date</th>\n",
              "      <th>exposure_start</th>\n",
              "      <th>exposure_end</th>\n",
              "      <th>visiting Wuhan</th>\n",
              "      <th>from Wuhan</th>\n",
              "      <th>death</th>\n",
              "      <th>recovered</th>\n",
              "      <th>symptom</th>\n",
              "      <th>source</th>\n",
              "      <th>link</th>\n",
              "      <th>Unnamed: 21</th>\n",
              "      <th>Unnamed: 22</th>\n",
              "      <th>Unnamed: 23</th>\n",
              "      <th>Unnamed: 24</th>\n",
              "      <th>Unnamed: 25</th>\n",
              "      <th>Unnamed: 26</th>\n",
              "    </tr>\n",
              "  </thead>\n",
              "  <tbody>\n",
              "    <tr>\n",
              "      <th>0</th>\n",
              "      <td>1</td>\n",
              "      <td>NaN</td>\n",
              "      <td>1/20/2020</td>\n",
              "      <td>NaN</td>\n",
              "      <td>First confirmed imported COVID-19 pneumonia pa...</td>\n",
              "      <td>Shenzhen, Guangdong</td>\n",
              "      <td>China</td>\n",
              "      <td>male</td>\n",
              "      <td>66.0</td>\n",
              "      <td>01/03/20</td>\n",
              "      <td>0.0</td>\n",
              "      <td>01/11/20</td>\n",
              "      <td>12/29/2019</td>\n",
              "      <td>01/04/20</td>\n",
              "      <td>1</td>\n",
              "      <td>0.0</td>\n",
              "      <td>0</td>\n",
              "      <td>0</td>\n",
              "      <td>NaN</td>\n",
              "      <td>Shenzhen Municipal Health Commission</td>\n",
              "      <td>http://wjw.sz.gov.cn/wzx/202001/t20200120_1898...</td>\n",
              "      <td>NaN</td>\n",
              "      <td>NaN</td>\n",
              "      <td>NaN</td>\n",
              "      <td>NaN</td>\n",
              "      <td>NaN</td>\n",
              "      <td>NaN</td>\n",
              "    </tr>\n",
              "    <tr>\n",
              "      <th>1</th>\n",
              "      <td>2</td>\n",
              "      <td>NaN</td>\n",
              "      <td>1/20/2020</td>\n",
              "      <td>NaN</td>\n",
              "      <td>First confirmed imported COVID-19 pneumonia pa...</td>\n",
              "      <td>Shanghai</td>\n",
              "      <td>China</td>\n",
              "      <td>female</td>\n",
              "      <td>56.0</td>\n",
              "      <td>1/15/2020</td>\n",
              "      <td>0.0</td>\n",
              "      <td>1/15/2020</td>\n",
              "      <td>NaN</td>\n",
              "      <td>01/12/20</td>\n",
              "      <td>0</td>\n",
              "      <td>1.0</td>\n",
              "      <td>0</td>\n",
              "      <td>0</td>\n",
              "      <td>NaN</td>\n",
              "      <td>Official Weibo of Shanghai Municipal Health Co...</td>\n",
              "      <td>https://www.weibo.com/2372649470/IqogQhgfa?fro...</td>\n",
              "      <td>NaN</td>\n",
              "      <td>NaN</td>\n",
              "      <td>NaN</td>\n",
              "      <td>NaN</td>\n",
              "      <td>NaN</td>\n",
              "      <td>NaN</td>\n",
              "    </tr>\n",
              "  </tbody>\n",
              "</table>\n",
              "</div>"
            ],
            "text/plain": [
              "   id  case_in_country reporting date  ...  Unnamed: 24 Unnamed: 25 Unnamed: 26\n",
              "0   1              NaN      1/20/2020  ...          NaN         NaN         NaN\n",
              "1   2              NaN      1/20/2020  ...          NaN         NaN         NaN\n",
              "\n",
              "[2 rows x 27 columns]"
            ]
          },
          "metadata": {
            "tags": []
          },
          "execution_count": 15
        }
      ]
    },
    {
      "cell_type": "code",
      "metadata": {
        "id": "3xFlEAZgNPBa",
        "colab_type": "code",
        "colab": {
          "base_uri": "https://localhost:8080/",
          "height": 370
        },
        "outputId": "efcab24c-bb32-4bf7-ceca-ad6c61a02837"
      },
      "source": [
        "sns.distplot(line_list_df['age']);"
      ],
      "execution_count": null,
      "outputs": [
        {
          "output_type": "display_data",
          "data": {
            "text/plain": [
              "<Figure size 432x288 with 1 Axes>"
            ],
            "image/svg+xml": "<?xml version=\"1.0\" encoding=\"utf-8\" standalone=\"no\"?>\n<!DOCTYPE svg PUBLIC \"-//W3C//DTD SVG 1.1//EN\"\n  \"http://www.w3.org/Graphics/SVG/1.1/DTD/svg11.dtd\">\n<!-- Created with matplotlib (https://matplotlib.org/) -->\n<svg height=\"262.19625pt\" version=\"1.1\" viewBox=\"0 0 384.828125 262.19625\" width=\"384.828125pt\" xmlns=\"http://www.w3.org/2000/svg\" xmlns:xlink=\"http://www.w3.org/1999/xlink\">\n <defs>\n  <style type=\"text/css\">\n*{stroke-linecap:butt;stroke-linejoin:round;}\n  </style>\n </defs>\n <g id=\"figure_1\">\n  <g id=\"patch_1\">\n   <path d=\"M 0 262.19625 \nL 384.828125 262.19625 \nL 384.828125 0 \nL 0 0 \nz\n\" style=\"fill:none;\"/>\n  </g>\n  <g id=\"axes_1\">\n   <g id=\"patch_2\">\n    <path d=\"M 42.828125 224.64 \nL 377.628125 224.64 \nL 377.628125 7.2 \nL 42.828125 7.2 \nz\n\" style=\"fill:#ffffff;\"/>\n   </g>\n   <g id=\"patch_3\">\n    <path clip-path=\"url(#p28260a5515)\" d=\"M 94.489155 224.64 \nL 108.956527 224.64 \nL 108.956527 206.572119 \nL 94.489155 206.572119 \nz\n\" style=\"fill:#1f77b4;opacity:0.4;\"/>\n   </g>\n   <g id=\"patch_4\">\n    <path clip-path=\"url(#p28260a5515)\" d=\"M 108.956527 224.64 \nL 123.423898 224.64 \nL 123.423898 213.521304 \nL 108.956527 213.521304 \nz\n\" style=\"fill:#1f77b4;opacity:0.4;\"/>\n   </g>\n   <g id=\"patch_5\">\n    <path clip-path=\"url(#p28260a5515)\" d=\"M 123.423898 224.64 \nL 137.891269 224.64 \nL 137.891269 213.521304 \nL 123.423898 213.521304 \nz\n\" style=\"fill:#1f77b4;opacity:0.4;\"/>\n   </g>\n   <g id=\"patch_6\">\n    <path clip-path=\"url(#p28260a5515)\" d=\"M 137.891269 224.64 \nL 152.35864 224.64 \nL 152.35864 181.555053 \nL 137.891269 181.555053 \nz\n\" style=\"fill:#1f77b4;opacity:0.4;\"/>\n   </g>\n   <g id=\"patch_7\">\n    <path clip-path=\"url(#p28260a5515)\" d=\"M 152.35864 224.64 \nL 166.826011 224.64 \nL 166.826011 114.842876 \nL 152.35864 114.842876 \nz\n\" style=\"fill:#1f77b4;opacity:0.4;\"/>\n   </g>\n   <g id=\"patch_8\">\n    <path clip-path=\"url(#p28260a5515)\" d=\"M 166.826011 224.64 \nL 181.293383 224.64 \nL 181.293383 92.605484 \nL 166.826011 92.605484 \nz\n\" style=\"fill:#1f77b4;opacity:0.4;\"/>\n   </g>\n   <g id=\"patch_9\">\n    <path clip-path=\"url(#p28260a5515)\" d=\"M 181.293383 224.64 \nL 195.760754 224.64 \nL 195.760754 119.012387 \nL 181.293383 119.012387 \nz\n\" style=\"fill:#1f77b4;opacity:0.4;\"/>\n   </g>\n   <g id=\"patch_10\">\n    <path clip-path=\"url(#p28260a5515)\" d=\"M 195.760754 224.64 \nL 210.228125 224.64 \nL 210.228125 113.453039 \nL 195.760754 113.453039 \nz\n\" style=\"fill:#1f77b4;opacity:0.4;\"/>\n   </g>\n   <g id=\"patch_11\">\n    <path clip-path=\"url(#p28260a5515)\" d=\"M 210.228125 224.64 \nL 224.695496 224.64 \nL 224.695496 137.080268 \nL 210.228125 137.080268 \nz\n\" style=\"fill:#1f77b4;opacity:0.4;\"/>\n   </g>\n   <g id=\"patch_12\">\n    <path clip-path=\"url(#p28260a5515)\" d=\"M 224.695496 224.64 \nL 239.162867 224.64 \nL 239.162867 17.554286 \nL 224.695496 17.554286 \nz\n\" style=\"fill:#1f77b4;opacity:0.4;\"/>\n   </g>\n   <g id=\"patch_13\">\n    <path clip-path=\"url(#p28260a5515)\" d=\"M 239.162867 224.64 \nL 253.630239 224.64 \nL 253.630239 91.215647 \nL 239.162867 91.215647 \nz\n\" style=\"fill:#1f77b4;opacity:0.4;\"/>\n   </g>\n   <g id=\"patch_14\">\n    <path clip-path=\"url(#p28260a5515)\" d=\"M 253.630239 224.64 \nL 268.09761 224.64 \nL 268.09761 156.537987 \nL 253.630239 156.537987 \nz\n\" style=\"fill:#1f77b4;opacity:0.4;\"/>\n   </g>\n   <g id=\"patch_15\">\n    <path clip-path=\"url(#p28260a5515)\" d=\"M 268.09761 224.64 \nL 282.564981 224.64 \nL 282.564981 150.978639 \nL 268.09761 150.978639 \nz\n\" style=\"fill:#1f77b4;opacity:0.4;\"/>\n   </g>\n   <g id=\"patch_16\">\n    <path clip-path=\"url(#p28260a5515)\" d=\"M 282.564981 224.64 \nL 297.032352 224.64 \nL 297.032352 198.233097 \nL 282.564981 198.233097 \nz\n\" style=\"fill:#1f77b4;opacity:0.4;\"/>\n   </g>\n   <g id=\"patch_17\">\n    <path clip-path=\"url(#p28260a5515)\" d=\"M 297.032352 224.64 \nL 311.499723 224.64 \nL 311.499723 194.063586 \nL 297.032352 194.063586 \nz\n\" style=\"fill:#1f77b4;opacity:0.4;\"/>\n   </g>\n   <g id=\"patch_18\">\n    <path clip-path=\"url(#p28260a5515)\" d=\"M 311.499723 224.64 \nL 325.967095 224.64 \nL 325.967095 221.860326 \nL 311.499723 221.860326 \nz\n\" style=\"fill:#1f77b4;opacity:0.4;\"/>\n   </g>\n   <g id=\"matplotlib.axis_1\">\n    <g id=\"xtick_1\">\n     <g id=\"line2d_1\">\n      <defs>\n       <path d=\"M 0 0 \nL 0 3.5 \n\" id=\"md4403a5985\" style=\"stroke:#000000;stroke-width:0.8;\"/>\n      </defs>\n      <g>\n       <use style=\"stroke:#000000;stroke-width:0.8;\" x=\"45.534291\" xlink:href=\"#md4403a5985\" y=\"224.64\"/>\n      </g>\n     </g>\n     <g id=\"text_1\">\n      <!-- −20 -->\n      <defs>\n       <path d=\"M 10.59375 35.5 \nL 73.1875 35.5 \nL 73.1875 27.203125 \nL 10.59375 27.203125 \nz\n\" id=\"DejaVuSans-8722\"/>\n       <path d=\"M 19.1875 8.296875 \nL 53.609375 8.296875 \nL 53.609375 0 \nL 7.328125 0 \nL 7.328125 8.296875 \nQ 12.9375 14.109375 22.625 23.890625 \nQ 32.328125 33.6875 34.8125 36.53125 \nQ 39.546875 41.84375 41.421875 45.53125 \nQ 43.3125 49.21875 43.3125 52.78125 \nQ 43.3125 58.59375 39.234375 62.25 \nQ 35.15625 65.921875 28.609375 65.921875 \nQ 23.96875 65.921875 18.8125 64.3125 \nQ 13.671875 62.703125 7.8125 59.421875 \nL 7.8125 69.390625 \nQ 13.765625 71.78125 18.9375 73 \nQ 24.125 74.21875 28.421875 74.21875 \nQ 39.75 74.21875 46.484375 68.546875 \nQ 53.21875 62.890625 53.21875 53.421875 \nQ 53.21875 48.921875 51.53125 44.890625 \nQ 49.859375 40.875 45.40625 35.40625 \nQ 44.1875 33.984375 37.640625 27.21875 \nQ 31.109375 20.453125 19.1875 8.296875 \nz\n\" id=\"DejaVuSans-50\"/>\n       <path d=\"M 31.78125 66.40625 \nQ 24.171875 66.40625 20.328125 58.90625 \nQ 16.5 51.421875 16.5 36.375 \nQ 16.5 21.390625 20.328125 13.890625 \nQ 24.171875 6.390625 31.78125 6.390625 \nQ 39.453125 6.390625 43.28125 13.890625 \nQ 47.125 21.390625 47.125 36.375 \nQ 47.125 51.421875 43.28125 58.90625 \nQ 39.453125 66.40625 31.78125 66.40625 \nz\nM 31.78125 74.21875 \nQ 44.046875 74.21875 50.515625 64.515625 \nQ 56.984375 54.828125 56.984375 36.375 \nQ 56.984375 17.96875 50.515625 8.265625 \nQ 44.046875 -1.421875 31.78125 -1.421875 \nQ 19.53125 -1.421875 13.0625 8.265625 \nQ 6.59375 17.96875 6.59375 36.375 \nQ 6.59375 54.828125 13.0625 64.515625 \nQ 19.53125 74.21875 31.78125 74.21875 \nz\n\" id=\"DejaVuSans-48\"/>\n      </defs>\n      <g transform=\"translate(34.981947 239.238437)scale(0.1 -0.1)\">\n       <use xlink:href=\"#DejaVuSans-8722\"/>\n       <use x=\"83.789062\" xlink:href=\"#DejaVuSans-50\"/>\n       <use x=\"147.412109\" xlink:href=\"#DejaVuSans-48\"/>\n      </g>\n     </g>\n    </g>\n    <g id=\"xtick_2\">\n     <g id=\"line2d_2\">\n      <g>\n       <use style=\"stroke:#000000;stroke-width:0.8;\" x=\"93.884774\" xlink:href=\"#md4403a5985\" y=\"224.64\"/>\n      </g>\n     </g>\n     <g id=\"text_2\">\n      <!-- 0 -->\n      <g transform=\"translate(90.703524 239.238437)scale(0.1 -0.1)\">\n       <use xlink:href=\"#DejaVuSans-48\"/>\n      </g>\n     </g>\n    </g>\n    <g id=\"xtick_3\">\n     <g id=\"line2d_3\">\n      <g>\n       <use style=\"stroke:#000000;stroke-width:0.8;\" x=\"142.235258\" xlink:href=\"#md4403a5985\" y=\"224.64\"/>\n      </g>\n     </g>\n     <g id=\"text_3\">\n      <!-- 20 -->\n      <g transform=\"translate(135.872758 239.238437)scale(0.1 -0.1)\">\n       <use xlink:href=\"#DejaVuSans-50\"/>\n       <use x=\"63.623047\" xlink:href=\"#DejaVuSans-48\"/>\n      </g>\n     </g>\n    </g>\n    <g id=\"xtick_4\">\n     <g id=\"line2d_4\">\n      <g>\n       <use style=\"stroke:#000000;stroke-width:0.8;\" x=\"190.585741\" xlink:href=\"#md4403a5985\" y=\"224.64\"/>\n      </g>\n     </g>\n     <g id=\"text_4\">\n      <!-- 40 -->\n      <defs>\n       <path d=\"M 37.796875 64.3125 \nL 12.890625 25.390625 \nL 37.796875 25.390625 \nz\nM 35.203125 72.90625 \nL 47.609375 72.90625 \nL 47.609375 25.390625 \nL 58.015625 25.390625 \nL 58.015625 17.1875 \nL 47.609375 17.1875 \nL 47.609375 0 \nL 37.796875 0 \nL 37.796875 17.1875 \nL 4.890625 17.1875 \nL 4.890625 26.703125 \nz\n\" id=\"DejaVuSans-52\"/>\n      </defs>\n      <g transform=\"translate(184.223241 239.238437)scale(0.1 -0.1)\">\n       <use xlink:href=\"#DejaVuSans-52\"/>\n       <use x=\"63.623047\" xlink:href=\"#DejaVuSans-48\"/>\n      </g>\n     </g>\n    </g>\n    <g id=\"xtick_5\">\n     <g id=\"line2d_5\">\n      <g>\n       <use style=\"stroke:#000000;stroke-width:0.8;\" x=\"238.936225\" xlink:href=\"#md4403a5985\" y=\"224.64\"/>\n      </g>\n     </g>\n     <g id=\"text_5\">\n      <!-- 60 -->\n      <defs>\n       <path d=\"M 33.015625 40.375 \nQ 26.375 40.375 22.484375 35.828125 \nQ 18.609375 31.296875 18.609375 23.390625 \nQ 18.609375 15.53125 22.484375 10.953125 \nQ 26.375 6.390625 33.015625 6.390625 \nQ 39.65625 6.390625 43.53125 10.953125 \nQ 47.40625 15.53125 47.40625 23.390625 \nQ 47.40625 31.296875 43.53125 35.828125 \nQ 39.65625 40.375 33.015625 40.375 \nz\nM 52.59375 71.296875 \nL 52.59375 62.3125 \nQ 48.875 64.0625 45.09375 64.984375 \nQ 41.3125 65.921875 37.59375 65.921875 \nQ 27.828125 65.921875 22.671875 59.328125 \nQ 17.53125 52.734375 16.796875 39.40625 \nQ 19.671875 43.65625 24.015625 45.921875 \nQ 28.375 48.1875 33.59375 48.1875 \nQ 44.578125 48.1875 50.953125 41.515625 \nQ 57.328125 34.859375 57.328125 23.390625 \nQ 57.328125 12.15625 50.6875 5.359375 \nQ 44.046875 -1.421875 33.015625 -1.421875 \nQ 20.359375 -1.421875 13.671875 8.265625 \nQ 6.984375 17.96875 6.984375 36.375 \nQ 6.984375 53.65625 15.1875 63.9375 \nQ 23.390625 74.21875 37.203125 74.21875 \nQ 40.921875 74.21875 44.703125 73.484375 \nQ 48.484375 72.75 52.59375 71.296875 \nz\n\" id=\"DejaVuSans-54\"/>\n      </defs>\n      <g transform=\"translate(232.573725 239.238437)scale(0.1 -0.1)\">\n       <use xlink:href=\"#DejaVuSans-54\"/>\n       <use x=\"63.623047\" xlink:href=\"#DejaVuSans-48\"/>\n      </g>\n     </g>\n    </g>\n    <g id=\"xtick_6\">\n     <g id=\"line2d_6\">\n      <g>\n       <use style=\"stroke:#000000;stroke-width:0.8;\" x=\"287.286708\" xlink:href=\"#md4403a5985\" y=\"224.64\"/>\n      </g>\n     </g>\n     <g id=\"text_6\">\n      <!-- 80 -->\n      <defs>\n       <path d=\"M 31.78125 34.625 \nQ 24.75 34.625 20.71875 30.859375 \nQ 16.703125 27.09375 16.703125 20.515625 \nQ 16.703125 13.921875 20.71875 10.15625 \nQ 24.75 6.390625 31.78125 6.390625 \nQ 38.8125 6.390625 42.859375 10.171875 \nQ 46.921875 13.96875 46.921875 20.515625 \nQ 46.921875 27.09375 42.890625 30.859375 \nQ 38.875 34.625 31.78125 34.625 \nz\nM 21.921875 38.8125 \nQ 15.578125 40.375 12.03125 44.71875 \nQ 8.5 49.078125 8.5 55.328125 \nQ 8.5 64.0625 14.71875 69.140625 \nQ 20.953125 74.21875 31.78125 74.21875 \nQ 42.671875 74.21875 48.875 69.140625 \nQ 55.078125 64.0625 55.078125 55.328125 \nQ 55.078125 49.078125 51.53125 44.71875 \nQ 48 40.375 41.703125 38.8125 \nQ 48.828125 37.15625 52.796875 32.3125 \nQ 56.78125 27.484375 56.78125 20.515625 \nQ 56.78125 9.90625 50.3125 4.234375 \nQ 43.84375 -1.421875 31.78125 -1.421875 \nQ 19.734375 -1.421875 13.25 4.234375 \nQ 6.78125 9.90625 6.78125 20.515625 \nQ 6.78125 27.484375 10.78125 32.3125 \nQ 14.796875 37.15625 21.921875 38.8125 \nz\nM 18.3125 54.390625 \nQ 18.3125 48.734375 21.84375 45.5625 \nQ 25.390625 42.390625 31.78125 42.390625 \nQ 38.140625 42.390625 41.71875 45.5625 \nQ 45.3125 48.734375 45.3125 54.390625 \nQ 45.3125 60.0625 41.71875 63.234375 \nQ 38.140625 66.40625 31.78125 66.40625 \nQ 25.390625 66.40625 21.84375 63.234375 \nQ 18.3125 60.0625 18.3125 54.390625 \nz\n\" id=\"DejaVuSans-56\"/>\n      </defs>\n      <g transform=\"translate(280.924208 239.238437)scale(0.1 -0.1)\">\n       <use xlink:href=\"#DejaVuSans-56\"/>\n       <use x=\"63.623047\" xlink:href=\"#DejaVuSans-48\"/>\n      </g>\n     </g>\n    </g>\n    <g id=\"xtick_7\">\n     <g id=\"line2d_7\">\n      <g>\n       <use style=\"stroke:#000000;stroke-width:0.8;\" x=\"335.637191\" xlink:href=\"#md4403a5985\" y=\"224.64\"/>\n      </g>\n     </g>\n     <g id=\"text_7\">\n      <!-- 100 -->\n      <defs>\n       <path d=\"M 12.40625 8.296875 \nL 28.515625 8.296875 \nL 28.515625 63.921875 \nL 10.984375 60.40625 \nL 10.984375 69.390625 \nL 28.421875 72.90625 \nL 38.28125 72.90625 \nL 38.28125 8.296875 \nL 54.390625 8.296875 \nL 54.390625 0 \nL 12.40625 0 \nz\n\" id=\"DejaVuSans-49\"/>\n      </defs>\n      <g transform=\"translate(326.093441 239.238437)scale(0.1 -0.1)\">\n       <use xlink:href=\"#DejaVuSans-49\"/>\n       <use x=\"63.623047\" xlink:href=\"#DejaVuSans-48\"/>\n       <use x=\"127.246094\" xlink:href=\"#DejaVuSans-48\"/>\n      </g>\n     </g>\n    </g>\n    <g id=\"text_8\">\n     <!-- age -->\n     <defs>\n      <path d=\"M 34.28125 27.484375 \nQ 23.390625 27.484375 19.1875 25 \nQ 14.984375 22.515625 14.984375 16.5 \nQ 14.984375 11.71875 18.140625 8.90625 \nQ 21.296875 6.109375 26.703125 6.109375 \nQ 34.1875 6.109375 38.703125 11.40625 \nQ 43.21875 16.703125 43.21875 25.484375 \nL 43.21875 27.484375 \nz\nM 52.203125 31.203125 \nL 52.203125 0 \nL 43.21875 0 \nL 43.21875 8.296875 \nQ 40.140625 3.328125 35.546875 0.953125 \nQ 30.953125 -1.421875 24.3125 -1.421875 \nQ 15.921875 -1.421875 10.953125 3.296875 \nQ 6 8.015625 6 15.921875 \nQ 6 25.140625 12.171875 29.828125 \nQ 18.359375 34.515625 30.609375 34.515625 \nL 43.21875 34.515625 \nL 43.21875 35.40625 \nQ 43.21875 41.609375 39.140625 45 \nQ 35.0625 48.390625 27.6875 48.390625 \nQ 23 48.390625 18.546875 47.265625 \nQ 14.109375 46.140625 10.015625 43.890625 \nL 10.015625 52.203125 \nQ 14.9375 54.109375 19.578125 55.046875 \nQ 24.21875 56 28.609375 56 \nQ 40.484375 56 46.34375 49.84375 \nQ 52.203125 43.703125 52.203125 31.203125 \nz\n\" id=\"DejaVuSans-97\"/>\n      <path d=\"M 45.40625 27.984375 \nQ 45.40625 37.75 41.375 43.109375 \nQ 37.359375 48.484375 30.078125 48.484375 \nQ 22.859375 48.484375 18.828125 43.109375 \nQ 14.796875 37.75 14.796875 27.984375 \nQ 14.796875 18.265625 18.828125 12.890625 \nQ 22.859375 7.515625 30.078125 7.515625 \nQ 37.359375 7.515625 41.375 12.890625 \nQ 45.40625 18.265625 45.40625 27.984375 \nz\nM 54.390625 6.78125 \nQ 54.390625 -7.171875 48.1875 -13.984375 \nQ 42 -20.796875 29.203125 -20.796875 \nQ 24.46875 -20.796875 20.265625 -20.09375 \nQ 16.0625 -19.390625 12.109375 -17.921875 \nL 12.109375 -9.1875 \nQ 16.0625 -11.328125 19.921875 -12.34375 \nQ 23.78125 -13.375 27.78125 -13.375 \nQ 36.625 -13.375 41.015625 -8.765625 \nQ 45.40625 -4.15625 45.40625 5.171875 \nL 45.40625 9.625 \nQ 42.625 4.78125 38.28125 2.390625 \nQ 33.9375 0 27.875 0 \nQ 17.828125 0 11.671875 7.65625 \nQ 5.515625 15.328125 5.515625 27.984375 \nQ 5.515625 40.671875 11.671875 48.328125 \nQ 17.828125 56 27.875 56 \nQ 33.9375 56 38.28125 53.609375 \nQ 42.625 51.21875 45.40625 46.390625 \nL 45.40625 54.6875 \nL 54.390625 54.6875 \nz\n\" id=\"DejaVuSans-103\"/>\n      <path d=\"M 56.203125 29.59375 \nL 56.203125 25.203125 \nL 14.890625 25.203125 \nQ 15.484375 15.921875 20.484375 11.0625 \nQ 25.484375 6.203125 34.421875 6.203125 \nQ 39.59375 6.203125 44.453125 7.46875 \nQ 49.3125 8.734375 54.109375 11.28125 \nL 54.109375 2.78125 \nQ 49.265625 0.734375 44.1875 -0.34375 \nQ 39.109375 -1.421875 33.890625 -1.421875 \nQ 20.796875 -1.421875 13.15625 6.1875 \nQ 5.515625 13.8125 5.515625 26.8125 \nQ 5.515625 40.234375 12.765625 48.109375 \nQ 20.015625 56 32.328125 56 \nQ 43.359375 56 49.78125 48.890625 \nQ 56.203125 41.796875 56.203125 29.59375 \nz\nM 47.21875 32.234375 \nQ 47.125 39.59375 43.09375 43.984375 \nQ 39.0625 48.390625 32.421875 48.390625 \nQ 24.90625 48.390625 20.390625 44.140625 \nQ 15.875 39.890625 15.1875 32.171875 \nz\n\" id=\"DejaVuSans-101\"/>\n     </defs>\n     <g transform=\"translate(200.913281 252.916562)scale(0.1 -0.1)\">\n      <use xlink:href=\"#DejaVuSans-97\"/>\n      <use x=\"61.279297\" xlink:href=\"#DejaVuSans-103\"/>\n      <use x=\"124.755859\" xlink:href=\"#DejaVuSans-101\"/>\n     </g>\n    </g>\n   </g>\n   <g id=\"matplotlib.axis_2\">\n    <g id=\"ytick_1\">\n     <g id=\"line2d_8\">\n      <defs>\n       <path d=\"M 0 0 \nL -3.5 0 \n\" id=\"m0bd2e9eb12\" style=\"stroke:#000000;stroke-width:0.8;\"/>\n      </defs>\n      <g>\n       <use style=\"stroke:#000000;stroke-width:0.8;\" x=\"42.828125\" xlink:href=\"#m0bd2e9eb12\" y=\"224.64\"/>\n      </g>\n     </g>\n     <g id=\"text_9\">\n      <!-- 0.000 -->\n      <defs>\n       <path d=\"M 10.6875 12.40625 \nL 21 12.40625 \nL 21 0 \nL 10.6875 0 \nz\n\" id=\"DejaVuSans-46\"/>\n      </defs>\n      <g transform=\"translate(7.2 228.439219)scale(0.1 -0.1)\">\n       <use xlink:href=\"#DejaVuSans-48\"/>\n       <use x=\"63.623047\" xlink:href=\"#DejaVuSans-46\"/>\n       <use x=\"95.410156\" xlink:href=\"#DejaVuSans-48\"/>\n       <use x=\"159.033203\" xlink:href=\"#DejaVuSans-48\"/>\n       <use x=\"222.65625\" xlink:href=\"#DejaVuSans-48\"/>\n      </g>\n     </g>\n    </g>\n    <g id=\"ytick_2\">\n     <g id=\"line2d_9\">\n      <g>\n       <use style=\"stroke:#000000;stroke-width:0.8;\" x=\"42.828125\" xlink:href=\"#m0bd2e9eb12\" y=\"189.582556\"/>\n      </g>\n     </g>\n     <g id=\"text_10\">\n      <!-- 0.005 -->\n      <defs>\n       <path d=\"M 10.796875 72.90625 \nL 49.515625 72.90625 \nL 49.515625 64.59375 \nL 19.828125 64.59375 \nL 19.828125 46.734375 \nQ 21.96875 47.46875 24.109375 47.828125 \nQ 26.265625 48.1875 28.421875 48.1875 \nQ 40.625 48.1875 47.75 41.5 \nQ 54.890625 34.8125 54.890625 23.390625 \nQ 54.890625 11.625 47.5625 5.09375 \nQ 40.234375 -1.421875 26.90625 -1.421875 \nQ 22.3125 -1.421875 17.546875 -0.640625 \nQ 12.796875 0.140625 7.71875 1.703125 \nL 7.71875 11.625 \nQ 12.109375 9.234375 16.796875 8.0625 \nQ 21.484375 6.890625 26.703125 6.890625 \nQ 35.15625 6.890625 40.078125 11.328125 \nQ 45.015625 15.765625 45.015625 23.390625 \nQ 45.015625 31 40.078125 35.4375 \nQ 35.15625 39.890625 26.703125 39.890625 \nQ 22.75 39.890625 18.8125 39.015625 \nQ 14.890625 38.140625 10.796875 36.28125 \nz\n\" id=\"DejaVuSans-53\"/>\n      </defs>\n      <g transform=\"translate(7.2 193.381775)scale(0.1 -0.1)\">\n       <use xlink:href=\"#DejaVuSans-48\"/>\n       <use x=\"63.623047\" xlink:href=\"#DejaVuSans-46\"/>\n       <use x=\"95.410156\" xlink:href=\"#DejaVuSans-48\"/>\n       <use x=\"159.033203\" xlink:href=\"#DejaVuSans-48\"/>\n       <use x=\"222.65625\" xlink:href=\"#DejaVuSans-53\"/>\n      </g>\n     </g>\n    </g>\n    <g id=\"ytick_3\">\n     <g id=\"line2d_10\">\n      <g>\n       <use style=\"stroke:#000000;stroke-width:0.8;\" x=\"42.828125\" xlink:href=\"#m0bd2e9eb12\" y=\"154.525112\"/>\n      </g>\n     </g>\n     <g id=\"text_11\">\n      <!-- 0.010 -->\n      <g transform=\"translate(7.2 158.32433)scale(0.1 -0.1)\">\n       <use xlink:href=\"#DejaVuSans-48\"/>\n       <use x=\"63.623047\" xlink:href=\"#DejaVuSans-46\"/>\n       <use x=\"95.410156\" xlink:href=\"#DejaVuSans-48\"/>\n       <use x=\"159.033203\" xlink:href=\"#DejaVuSans-49\"/>\n       <use x=\"222.65625\" xlink:href=\"#DejaVuSans-48\"/>\n      </g>\n     </g>\n    </g>\n    <g id=\"ytick_4\">\n     <g id=\"line2d_11\">\n      <g>\n       <use style=\"stroke:#000000;stroke-width:0.8;\" x=\"42.828125\" xlink:href=\"#m0bd2e9eb12\" y=\"119.467668\"/>\n      </g>\n     </g>\n     <g id=\"text_12\">\n      <!-- 0.015 -->\n      <g transform=\"translate(7.2 123.266886)scale(0.1 -0.1)\">\n       <use xlink:href=\"#DejaVuSans-48\"/>\n       <use x=\"63.623047\" xlink:href=\"#DejaVuSans-46\"/>\n       <use x=\"95.410156\" xlink:href=\"#DejaVuSans-48\"/>\n       <use x=\"159.033203\" xlink:href=\"#DejaVuSans-49\"/>\n       <use x=\"222.65625\" xlink:href=\"#DejaVuSans-53\"/>\n      </g>\n     </g>\n    </g>\n    <g id=\"ytick_5\">\n     <g id=\"line2d_12\">\n      <g>\n       <use style=\"stroke:#000000;stroke-width:0.8;\" x=\"42.828125\" xlink:href=\"#m0bd2e9eb12\" y=\"84.410223\"/>\n      </g>\n     </g>\n     <g id=\"text_13\">\n      <!-- 0.020 -->\n      <g transform=\"translate(7.2 88.209442)scale(0.1 -0.1)\">\n       <use xlink:href=\"#DejaVuSans-48\"/>\n       <use x=\"63.623047\" xlink:href=\"#DejaVuSans-46\"/>\n       <use x=\"95.410156\" xlink:href=\"#DejaVuSans-48\"/>\n       <use x=\"159.033203\" xlink:href=\"#DejaVuSans-50\"/>\n       <use x=\"222.65625\" xlink:href=\"#DejaVuSans-48\"/>\n      </g>\n     </g>\n    </g>\n    <g id=\"ytick_6\">\n     <g id=\"line2d_13\">\n      <g>\n       <use style=\"stroke:#000000;stroke-width:0.8;\" x=\"42.828125\" xlink:href=\"#m0bd2e9eb12\" y=\"49.352779\"/>\n      </g>\n     </g>\n     <g id=\"text_14\">\n      <!-- 0.025 -->\n      <g transform=\"translate(7.2 53.151998)scale(0.1 -0.1)\">\n       <use xlink:href=\"#DejaVuSans-48\"/>\n       <use x=\"63.623047\" xlink:href=\"#DejaVuSans-46\"/>\n       <use x=\"95.410156\" xlink:href=\"#DejaVuSans-48\"/>\n       <use x=\"159.033203\" xlink:href=\"#DejaVuSans-50\"/>\n       <use x=\"222.65625\" xlink:href=\"#DejaVuSans-53\"/>\n      </g>\n     </g>\n    </g>\n    <g id=\"ytick_7\">\n     <g id=\"line2d_14\">\n      <g>\n       <use style=\"stroke:#000000;stroke-width:0.8;\" x=\"42.828125\" xlink:href=\"#m0bd2e9eb12\" y=\"14.295335\"/>\n      </g>\n     </g>\n     <g id=\"text_15\">\n      <!-- 0.030 -->\n      <defs>\n       <path d=\"M 40.578125 39.3125 \nQ 47.65625 37.796875 51.625 33 \nQ 55.609375 28.21875 55.609375 21.1875 \nQ 55.609375 10.40625 48.1875 4.484375 \nQ 40.765625 -1.421875 27.09375 -1.421875 \nQ 22.515625 -1.421875 17.65625 -0.515625 \nQ 12.796875 0.390625 7.625 2.203125 \nL 7.625 11.71875 \nQ 11.71875 9.328125 16.59375 8.109375 \nQ 21.484375 6.890625 26.8125 6.890625 \nQ 36.078125 6.890625 40.9375 10.546875 \nQ 45.796875 14.203125 45.796875 21.1875 \nQ 45.796875 27.640625 41.28125 31.265625 \nQ 36.765625 34.90625 28.71875 34.90625 \nL 20.21875 34.90625 \nL 20.21875 43.015625 \nL 29.109375 43.015625 \nQ 36.375 43.015625 40.234375 45.921875 \nQ 44.09375 48.828125 44.09375 54.296875 \nQ 44.09375 59.90625 40.109375 62.90625 \nQ 36.140625 65.921875 28.71875 65.921875 \nQ 24.65625 65.921875 20.015625 65.03125 \nQ 15.375 64.15625 9.8125 62.3125 \nL 9.8125 71.09375 \nQ 15.4375 72.65625 20.34375 73.4375 \nQ 25.25 74.21875 29.59375 74.21875 \nQ 40.828125 74.21875 47.359375 69.109375 \nQ 53.90625 64.015625 53.90625 55.328125 \nQ 53.90625 49.265625 50.4375 45.09375 \nQ 46.96875 40.921875 40.578125 39.3125 \nz\n\" id=\"DejaVuSans-51\"/>\n      </defs>\n      <g transform=\"translate(7.2 18.094554)scale(0.1 -0.1)\">\n       <use xlink:href=\"#DejaVuSans-48\"/>\n       <use x=\"63.623047\" xlink:href=\"#DejaVuSans-46\"/>\n       <use x=\"95.410156\" xlink:href=\"#DejaVuSans-48\"/>\n       <use x=\"159.033203\" xlink:href=\"#DejaVuSans-51\"/>\n       <use x=\"222.65625\" xlink:href=\"#DejaVuSans-48\"/>\n      </g>\n     </g>\n    </g>\n   </g>\n   <g id=\"line2d_15\">\n    <path clip-path=\"url(#p28260a5515)\" d=\"M 58.046307 224.605712 \nL 65.235999 224.474094 \nL 70.029127 224.204987 \nL 74.822255 223.641407 \nL 77.218819 223.200281 \nL 79.615383 222.630437 \nL 82.011947 221.922693 \nL 84.408512 221.077952 \nL 89.20164 219.044986 \nL 96.391332 215.713405 \nL 98.787896 214.731533 \nL 101.18446 213.894053 \nL 103.581024 213.231212 \nL 105.977588 212.7537 \nL 108.374152 212.44917 \nL 113.16728 212.186876 \nL 117.960408 211.870986 \nL 120.356973 211.430577 \nL 122.753537 210.638786 \nL 125.150101 209.369763 \nL 127.546665 207.504119 \nL 129.943229 204.938286 \nL 132.339793 201.59525 \nL 134.736357 197.436026 \nL 137.132921 192.470287 \nL 139.529485 186.763762 \nL 141.926049 180.439524 \nL 146.719177 166.665107 \nL 151.512305 152.795435 \nL 153.908869 146.292193 \nL 156.305434 140.23374 \nL 158.701998 134.665689 \nL 161.098562 129.587414 \nL 163.495126 124.974543 \nL 165.89169 120.805219 \nL 168.288254 117.081896 \nL 170.684818 113.841517 \nL 173.081382 111.150454 \nL 175.477946 109.085386 \nL 177.87451 107.705872 \nL 180.271074 107.027219 \nL 182.667638 107.00225 \nL 185.064202 107.51778 \nL 187.460766 108.406801 \nL 192.253895 110.514925 \nL 194.650459 111.356391 \nL 197.047023 111.851934 \nL 199.443587 111.89099 \nL 201.840151 111.389478 \nL 204.236715 110.281185 \nL 206.633279 108.516113 \nL 209.029843 106.070659 \nL 211.426407 102.968863 \nL 213.822971 99.307842 \nL 221.012663 87.295786 \nL 223.409227 84.066811 \nL 225.805791 81.79891 \nL 228.202355 80.721853 \nL 230.59892 80.92433 \nL 232.995484 82.344173 \nL 235.392048 84.792863 \nL 237.788612 88.007126 \nL 240.185176 91.71226 \nL 244.978304 99.758654 \nL 252.167996 112.36927 \nL 256.961124 121.371016 \nL 264.150816 135.65443 \nL 273.737073 154.557971 \nL 280.926765 168.255582 \nL 285.719893 176.687529 \nL 288.116457 180.540044 \nL 290.513021 184.128321 \nL 295.306149 190.645209 \nL 302.495842 199.662875 \nL 309.685534 208.380991 \nL 312.082098 211.056581 \nL 314.478662 213.512017 \nL 316.875226 215.696903 \nL 319.27179 217.581623 \nL 321.668354 219.159569 \nL 324.064918 220.444776 \nL 326.461482 221.466511 \nL 328.858046 222.262687 \nL 331.25461 222.873687 \nL 333.651174 223.337655 \nL 338.444303 223.950523 \nL 343.237431 224.293242 \nL 350.427123 224.533532 \nL 362.409943 224.616073 \nL 362.409943 224.616073 \n\" style=\"fill:none;stroke:#1f77b4;stroke-linecap:square;stroke-width:1.5;\"/>\n   </g>\n   <g id=\"patch_19\">\n    <path d=\"M 42.828125 224.64 \nL 42.828125 7.2 \n\" style=\"fill:none;stroke:#000000;stroke-linecap:square;stroke-linejoin:miter;stroke-width:0.8;\"/>\n   </g>\n   <g id=\"patch_20\">\n    <path d=\"M 377.628125 224.64 \nL 377.628125 7.2 \n\" style=\"fill:none;stroke:#000000;stroke-linecap:square;stroke-linejoin:miter;stroke-width:0.8;\"/>\n   </g>\n   <g id=\"patch_21\">\n    <path d=\"M 42.828125 224.64 \nL 377.628125 224.64 \n\" style=\"fill:none;stroke:#000000;stroke-linecap:square;stroke-linejoin:miter;stroke-width:0.8;\"/>\n   </g>\n   <g id=\"patch_22\">\n    <path d=\"M 42.828125 7.2 \nL 377.628125 7.2 \n\" style=\"fill:none;stroke:#000000;stroke-linecap:square;stroke-linejoin:miter;stroke-width:0.8;\"/>\n   </g>\n  </g>\n </g>\n <defs>\n  <clipPath id=\"p28260a5515\">\n   <rect height=\"217.44\" width=\"334.8\" x=\"42.828125\" y=\"7.2\"/>\n  </clipPath>\n </defs>\n</svg>\n"
          },
          "metadata": {
            "tags": [],
            "needs_background": "light"
          }
        }
      ]
    },
    {
      "cell_type": "markdown",
      "metadata": {
        "id": "bMXNgJby2or-",
        "colab_type": "text"
      },
      "source": [
        "# Previsões de mortes por COVID-19"
      ]
    },
    {
      "cell_type": "markdown",
      "metadata": {
        "id": "poQ0tLoBGTRQ",
        "colab_type": "text"
      },
      "source": [
        "## Preparação da base de dados"
      ]
    },
    {
      "cell_type": "code",
      "metadata": {
        "id": "PKP1nazrK83B",
        "colab_type": "code",
        "colab": {}
      },
      "source": [
        "df3 =  'https://raw.githubusercontent.com/jvataidee/kangle_COVID19_previsao-de-casos/master/datasets_494724_1194097_time_series_covid_19_deaths.csv'\n",
        "deaths_df = pd.read_csv(df3)"
      ],
      "execution_count": null,
      "outputs": []
    },
    {
      "cell_type": "code",
      "metadata": {
        "id": "xQUczFQaL20K",
        "colab_type": "code",
        "colab": {
          "base_uri": "https://localhost:8080/",
          "height": 34
        },
        "outputId": "7ba3c285-68f3-4163-c447-1f2d8199e335"
      },
      "source": [
        "deaths_df.shape"
      ],
      "execution_count": null,
      "outputs": [
        {
          "output_type": "execute_result",
          "data": {
            "text/plain": [
              "(266, 131)"
            ]
          },
          "metadata": {
            "tags": []
          },
          "execution_count": 18
        }
      ]
    },
    {
      "cell_type": "code",
      "metadata": {
        "id": "dY1hkqVWL782",
        "colab_type": "code",
        "colab": {
          "base_uri": "https://localhost:8080/",
          "height": 244
        },
        "outputId": "669455c7-2348-4e77-c29c-ae2e60f93622"
      },
      "source": [
        "deaths_df.head()"
      ],
      "execution_count": null,
      "outputs": [
        {
          "output_type": "execute_result",
          "data": {
            "text/html": [
              "<div>\n",
              "<style scoped>\n",
              "    .dataframe tbody tr th:only-of-type {\n",
              "        vertical-align: middle;\n",
              "    }\n",
              "\n",
              "    .dataframe tbody tr th {\n",
              "        vertical-align: top;\n",
              "    }\n",
              "\n",
              "    .dataframe thead th {\n",
              "        text-align: right;\n",
              "    }\n",
              "</style>\n",
              "<table border=\"1\" class=\"dataframe\">\n",
              "  <thead>\n",
              "    <tr style=\"text-align: right;\">\n",
              "      <th></th>\n",
              "      <th>Province/State</th>\n",
              "      <th>Country/Region</th>\n",
              "      <th>Lat</th>\n",
              "      <th>Long</th>\n",
              "      <th>1/22/20</th>\n",
              "      <th>1/23/20</th>\n",
              "      <th>1/24/20</th>\n",
              "      <th>1/25/20</th>\n",
              "      <th>1/26/20</th>\n",
              "      <th>1/27/20</th>\n",
              "      <th>1/28/20</th>\n",
              "      <th>1/29/20</th>\n",
              "      <th>1/30/20</th>\n",
              "      <th>1/31/20</th>\n",
              "      <th>2/1/20</th>\n",
              "      <th>2/2/20</th>\n",
              "      <th>2/3/20</th>\n",
              "      <th>2/4/20</th>\n",
              "      <th>2/5/20</th>\n",
              "      <th>2/6/20</th>\n",
              "      <th>2/7/20</th>\n",
              "      <th>2/8/20</th>\n",
              "      <th>2/9/20</th>\n",
              "      <th>2/10/20</th>\n",
              "      <th>2/11/20</th>\n",
              "      <th>2/12/20</th>\n",
              "      <th>2/13/20</th>\n",
              "      <th>2/14/20</th>\n",
              "      <th>2/15/20</th>\n",
              "      <th>2/16/20</th>\n",
              "      <th>2/17/20</th>\n",
              "      <th>2/18/20</th>\n",
              "      <th>2/19/20</th>\n",
              "      <th>2/20/20</th>\n",
              "      <th>2/21/20</th>\n",
              "      <th>2/22/20</th>\n",
              "      <th>2/23/20</th>\n",
              "      <th>2/24/20</th>\n",
              "      <th>2/25/20</th>\n",
              "      <th>2/26/20</th>\n",
              "      <th>...</th>\n",
              "      <th>4/18/20</th>\n",
              "      <th>4/19/20</th>\n",
              "      <th>4/20/20</th>\n",
              "      <th>4/21/20</th>\n",
              "      <th>4/22/20</th>\n",
              "      <th>4/23/20</th>\n",
              "      <th>4/24/20</th>\n",
              "      <th>4/25/20</th>\n",
              "      <th>4/26/20</th>\n",
              "      <th>4/27/20</th>\n",
              "      <th>4/28/20</th>\n",
              "      <th>4/29/20</th>\n",
              "      <th>4/30/20</th>\n",
              "      <th>5/1/20</th>\n",
              "      <th>5/2/20</th>\n",
              "      <th>5/3/20</th>\n",
              "      <th>5/4/20</th>\n",
              "      <th>5/5/20</th>\n",
              "      <th>5/6/20</th>\n",
              "      <th>5/7/20</th>\n",
              "      <th>5/8/20</th>\n",
              "      <th>5/9/20</th>\n",
              "      <th>5/10/20</th>\n",
              "      <th>5/11/20</th>\n",
              "      <th>5/12/20</th>\n",
              "      <th>5/13/20</th>\n",
              "      <th>5/14/20</th>\n",
              "      <th>5/15/20</th>\n",
              "      <th>5/16/20</th>\n",
              "      <th>5/17/20</th>\n",
              "      <th>5/18/20</th>\n",
              "      <th>5/19/20</th>\n",
              "      <th>5/20/20</th>\n",
              "      <th>5/21/20</th>\n",
              "      <th>5/22/20</th>\n",
              "      <th>5/23/20</th>\n",
              "      <th>5/24/20</th>\n",
              "      <th>5/25/20</th>\n",
              "      <th>5/26/20</th>\n",
              "      <th>5/27/20</th>\n",
              "    </tr>\n",
              "  </thead>\n",
              "  <tbody>\n",
              "    <tr>\n",
              "      <th>0</th>\n",
              "      <td>NaN</td>\n",
              "      <td>Afghanistan</td>\n",
              "      <td>33.0000</td>\n",
              "      <td>65.0000</td>\n",
              "      <td>0</td>\n",
              "      <td>0</td>\n",
              "      <td>0</td>\n",
              "      <td>0</td>\n",
              "      <td>0</td>\n",
              "      <td>0</td>\n",
              "      <td>0</td>\n",
              "      <td>0</td>\n",
              "      <td>0</td>\n",
              "      <td>0</td>\n",
              "      <td>0</td>\n",
              "      <td>0</td>\n",
              "      <td>0</td>\n",
              "      <td>0</td>\n",
              "      <td>0</td>\n",
              "      <td>0</td>\n",
              "      <td>0</td>\n",
              "      <td>0</td>\n",
              "      <td>0</td>\n",
              "      <td>0</td>\n",
              "      <td>0</td>\n",
              "      <td>0</td>\n",
              "      <td>0</td>\n",
              "      <td>0</td>\n",
              "      <td>0</td>\n",
              "      <td>0</td>\n",
              "      <td>0</td>\n",
              "      <td>0</td>\n",
              "      <td>0</td>\n",
              "      <td>0</td>\n",
              "      <td>0</td>\n",
              "      <td>0</td>\n",
              "      <td>0</td>\n",
              "      <td>0</td>\n",
              "      <td>0</td>\n",
              "      <td>0</td>\n",
              "      <td>...</td>\n",
              "      <td>30</td>\n",
              "      <td>33</td>\n",
              "      <td>36</td>\n",
              "      <td>36</td>\n",
              "      <td>40</td>\n",
              "      <td>42</td>\n",
              "      <td>43</td>\n",
              "      <td>47</td>\n",
              "      <td>50</td>\n",
              "      <td>57</td>\n",
              "      <td>58</td>\n",
              "      <td>60</td>\n",
              "      <td>64</td>\n",
              "      <td>68</td>\n",
              "      <td>72</td>\n",
              "      <td>85</td>\n",
              "      <td>90</td>\n",
              "      <td>95</td>\n",
              "      <td>104</td>\n",
              "      <td>106</td>\n",
              "      <td>109</td>\n",
              "      <td>115</td>\n",
              "      <td>120</td>\n",
              "      <td>122</td>\n",
              "      <td>127</td>\n",
              "      <td>132</td>\n",
              "      <td>136</td>\n",
              "      <td>153</td>\n",
              "      <td>168</td>\n",
              "      <td>169</td>\n",
              "      <td>173</td>\n",
              "      <td>178</td>\n",
              "      <td>187</td>\n",
              "      <td>193</td>\n",
              "      <td>205</td>\n",
              "      <td>216</td>\n",
              "      <td>218</td>\n",
              "      <td>219</td>\n",
              "      <td>220</td>\n",
              "      <td>227</td>\n",
              "    </tr>\n",
              "    <tr>\n",
              "      <th>1</th>\n",
              "      <td>NaN</td>\n",
              "      <td>Albania</td>\n",
              "      <td>41.1533</td>\n",
              "      <td>20.1683</td>\n",
              "      <td>0</td>\n",
              "      <td>0</td>\n",
              "      <td>0</td>\n",
              "      <td>0</td>\n",
              "      <td>0</td>\n",
              "      <td>0</td>\n",
              "      <td>0</td>\n",
              "      <td>0</td>\n",
              "      <td>0</td>\n",
              "      <td>0</td>\n",
              "      <td>0</td>\n",
              "      <td>0</td>\n",
              "      <td>0</td>\n",
              "      <td>0</td>\n",
              "      <td>0</td>\n",
              "      <td>0</td>\n",
              "      <td>0</td>\n",
              "      <td>0</td>\n",
              "      <td>0</td>\n",
              "      <td>0</td>\n",
              "      <td>0</td>\n",
              "      <td>0</td>\n",
              "      <td>0</td>\n",
              "      <td>0</td>\n",
              "      <td>0</td>\n",
              "      <td>0</td>\n",
              "      <td>0</td>\n",
              "      <td>0</td>\n",
              "      <td>0</td>\n",
              "      <td>0</td>\n",
              "      <td>0</td>\n",
              "      <td>0</td>\n",
              "      <td>0</td>\n",
              "      <td>0</td>\n",
              "      <td>0</td>\n",
              "      <td>0</td>\n",
              "      <td>...</td>\n",
              "      <td>26</td>\n",
              "      <td>26</td>\n",
              "      <td>26</td>\n",
              "      <td>26</td>\n",
              "      <td>27</td>\n",
              "      <td>27</td>\n",
              "      <td>27</td>\n",
              "      <td>27</td>\n",
              "      <td>28</td>\n",
              "      <td>28</td>\n",
              "      <td>30</td>\n",
              "      <td>30</td>\n",
              "      <td>31</td>\n",
              "      <td>31</td>\n",
              "      <td>31</td>\n",
              "      <td>31</td>\n",
              "      <td>31</td>\n",
              "      <td>31</td>\n",
              "      <td>31</td>\n",
              "      <td>31</td>\n",
              "      <td>31</td>\n",
              "      <td>31</td>\n",
              "      <td>31</td>\n",
              "      <td>31</td>\n",
              "      <td>31</td>\n",
              "      <td>31</td>\n",
              "      <td>31</td>\n",
              "      <td>31</td>\n",
              "      <td>31</td>\n",
              "      <td>31</td>\n",
              "      <td>31</td>\n",
              "      <td>31</td>\n",
              "      <td>31</td>\n",
              "      <td>31</td>\n",
              "      <td>31</td>\n",
              "      <td>31</td>\n",
              "      <td>32</td>\n",
              "      <td>32</td>\n",
              "      <td>33</td>\n",
              "      <td>33</td>\n",
              "    </tr>\n",
              "    <tr>\n",
              "      <th>2</th>\n",
              "      <td>NaN</td>\n",
              "      <td>Algeria</td>\n",
              "      <td>28.0339</td>\n",
              "      <td>1.6596</td>\n",
              "      <td>0</td>\n",
              "      <td>0</td>\n",
              "      <td>0</td>\n",
              "      <td>0</td>\n",
              "      <td>0</td>\n",
              "      <td>0</td>\n",
              "      <td>0</td>\n",
              "      <td>0</td>\n",
              "      <td>0</td>\n",
              "      <td>0</td>\n",
              "      <td>0</td>\n",
              "      <td>0</td>\n",
              "      <td>0</td>\n",
              "      <td>0</td>\n",
              "      <td>0</td>\n",
              "      <td>0</td>\n",
              "      <td>0</td>\n",
              "      <td>0</td>\n",
              "      <td>0</td>\n",
              "      <td>0</td>\n",
              "      <td>0</td>\n",
              "      <td>0</td>\n",
              "      <td>0</td>\n",
              "      <td>0</td>\n",
              "      <td>0</td>\n",
              "      <td>0</td>\n",
              "      <td>0</td>\n",
              "      <td>0</td>\n",
              "      <td>0</td>\n",
              "      <td>0</td>\n",
              "      <td>0</td>\n",
              "      <td>0</td>\n",
              "      <td>0</td>\n",
              "      <td>0</td>\n",
              "      <td>0</td>\n",
              "      <td>0</td>\n",
              "      <td>...</td>\n",
              "      <td>367</td>\n",
              "      <td>375</td>\n",
              "      <td>384</td>\n",
              "      <td>392</td>\n",
              "      <td>402</td>\n",
              "      <td>407</td>\n",
              "      <td>415</td>\n",
              "      <td>419</td>\n",
              "      <td>425</td>\n",
              "      <td>432</td>\n",
              "      <td>437</td>\n",
              "      <td>444</td>\n",
              "      <td>450</td>\n",
              "      <td>453</td>\n",
              "      <td>459</td>\n",
              "      <td>463</td>\n",
              "      <td>465</td>\n",
              "      <td>470</td>\n",
              "      <td>476</td>\n",
              "      <td>483</td>\n",
              "      <td>488</td>\n",
              "      <td>494</td>\n",
              "      <td>502</td>\n",
              "      <td>507</td>\n",
              "      <td>515</td>\n",
              "      <td>522</td>\n",
              "      <td>529</td>\n",
              "      <td>536</td>\n",
              "      <td>542</td>\n",
              "      <td>548</td>\n",
              "      <td>555</td>\n",
              "      <td>561</td>\n",
              "      <td>568</td>\n",
              "      <td>575</td>\n",
              "      <td>582</td>\n",
              "      <td>592</td>\n",
              "      <td>600</td>\n",
              "      <td>609</td>\n",
              "      <td>617</td>\n",
              "      <td>623</td>\n",
              "    </tr>\n",
              "    <tr>\n",
              "      <th>3</th>\n",
              "      <td>NaN</td>\n",
              "      <td>Andorra</td>\n",
              "      <td>42.5063</td>\n",
              "      <td>1.5218</td>\n",
              "      <td>0</td>\n",
              "      <td>0</td>\n",
              "      <td>0</td>\n",
              "      <td>0</td>\n",
              "      <td>0</td>\n",
              "      <td>0</td>\n",
              "      <td>0</td>\n",
              "      <td>0</td>\n",
              "      <td>0</td>\n",
              "      <td>0</td>\n",
              "      <td>0</td>\n",
              "      <td>0</td>\n",
              "      <td>0</td>\n",
              "      <td>0</td>\n",
              "      <td>0</td>\n",
              "      <td>0</td>\n",
              "      <td>0</td>\n",
              "      <td>0</td>\n",
              "      <td>0</td>\n",
              "      <td>0</td>\n",
              "      <td>0</td>\n",
              "      <td>0</td>\n",
              "      <td>0</td>\n",
              "      <td>0</td>\n",
              "      <td>0</td>\n",
              "      <td>0</td>\n",
              "      <td>0</td>\n",
              "      <td>0</td>\n",
              "      <td>0</td>\n",
              "      <td>0</td>\n",
              "      <td>0</td>\n",
              "      <td>0</td>\n",
              "      <td>0</td>\n",
              "      <td>0</td>\n",
              "      <td>0</td>\n",
              "      <td>0</td>\n",
              "      <td>...</td>\n",
              "      <td>35</td>\n",
              "      <td>36</td>\n",
              "      <td>37</td>\n",
              "      <td>37</td>\n",
              "      <td>37</td>\n",
              "      <td>37</td>\n",
              "      <td>40</td>\n",
              "      <td>40</td>\n",
              "      <td>40</td>\n",
              "      <td>40</td>\n",
              "      <td>41</td>\n",
              "      <td>42</td>\n",
              "      <td>42</td>\n",
              "      <td>43</td>\n",
              "      <td>44</td>\n",
              "      <td>45</td>\n",
              "      <td>45</td>\n",
              "      <td>46</td>\n",
              "      <td>46</td>\n",
              "      <td>47</td>\n",
              "      <td>47</td>\n",
              "      <td>48</td>\n",
              "      <td>48</td>\n",
              "      <td>48</td>\n",
              "      <td>48</td>\n",
              "      <td>49</td>\n",
              "      <td>49</td>\n",
              "      <td>49</td>\n",
              "      <td>51</td>\n",
              "      <td>51</td>\n",
              "      <td>51</td>\n",
              "      <td>51</td>\n",
              "      <td>51</td>\n",
              "      <td>51</td>\n",
              "      <td>51</td>\n",
              "      <td>51</td>\n",
              "      <td>51</td>\n",
              "      <td>51</td>\n",
              "      <td>51</td>\n",
              "      <td>51</td>\n",
              "    </tr>\n",
              "    <tr>\n",
              "      <th>4</th>\n",
              "      <td>NaN</td>\n",
              "      <td>Angola</td>\n",
              "      <td>-11.2027</td>\n",
              "      <td>17.8739</td>\n",
              "      <td>0</td>\n",
              "      <td>0</td>\n",
              "      <td>0</td>\n",
              "      <td>0</td>\n",
              "      <td>0</td>\n",
              "      <td>0</td>\n",
              "      <td>0</td>\n",
              "      <td>0</td>\n",
              "      <td>0</td>\n",
              "      <td>0</td>\n",
              "      <td>0</td>\n",
              "      <td>0</td>\n",
              "      <td>0</td>\n",
              "      <td>0</td>\n",
              "      <td>0</td>\n",
              "      <td>0</td>\n",
              "      <td>0</td>\n",
              "      <td>0</td>\n",
              "      <td>0</td>\n",
              "      <td>0</td>\n",
              "      <td>0</td>\n",
              "      <td>0</td>\n",
              "      <td>0</td>\n",
              "      <td>0</td>\n",
              "      <td>0</td>\n",
              "      <td>0</td>\n",
              "      <td>0</td>\n",
              "      <td>0</td>\n",
              "      <td>0</td>\n",
              "      <td>0</td>\n",
              "      <td>0</td>\n",
              "      <td>0</td>\n",
              "      <td>0</td>\n",
              "      <td>0</td>\n",
              "      <td>0</td>\n",
              "      <td>0</td>\n",
              "      <td>...</td>\n",
              "      <td>2</td>\n",
              "      <td>2</td>\n",
              "      <td>2</td>\n",
              "      <td>2</td>\n",
              "      <td>2</td>\n",
              "      <td>2</td>\n",
              "      <td>2</td>\n",
              "      <td>2</td>\n",
              "      <td>2</td>\n",
              "      <td>2</td>\n",
              "      <td>2</td>\n",
              "      <td>2</td>\n",
              "      <td>2</td>\n",
              "      <td>2</td>\n",
              "      <td>2</td>\n",
              "      <td>2</td>\n",
              "      <td>2</td>\n",
              "      <td>2</td>\n",
              "      <td>2</td>\n",
              "      <td>2</td>\n",
              "      <td>2</td>\n",
              "      <td>2</td>\n",
              "      <td>2</td>\n",
              "      <td>2</td>\n",
              "      <td>2</td>\n",
              "      <td>2</td>\n",
              "      <td>2</td>\n",
              "      <td>2</td>\n",
              "      <td>2</td>\n",
              "      <td>2</td>\n",
              "      <td>3</td>\n",
              "      <td>3</td>\n",
              "      <td>3</td>\n",
              "      <td>3</td>\n",
              "      <td>3</td>\n",
              "      <td>4</td>\n",
              "      <td>4</td>\n",
              "      <td>4</td>\n",
              "      <td>4</td>\n",
              "      <td>4</td>\n",
              "    </tr>\n",
              "  </tbody>\n",
              "</table>\n",
              "<p>5 rows × 131 columns</p>\n",
              "</div>"
            ],
            "text/plain": [
              "  Province/State Country/Region      Lat  ...  5/25/20  5/26/20  5/27/20\n",
              "0            NaN    Afghanistan  33.0000  ...      219      220      227\n",
              "1            NaN        Albania  41.1533  ...       32       33       33\n",
              "2            NaN        Algeria  28.0339  ...      609      617      623\n",
              "3            NaN        Andorra  42.5063  ...       51       51       51\n",
              "4            NaN         Angola -11.2027  ...        4        4        4\n",
              "\n",
              "[5 rows x 131 columns]"
            ]
          },
          "metadata": {
            "tags": []
          },
          "execution_count": 19
        }
      ]
    },
    {
      "cell_type": "code",
      "metadata": {
        "id": "qhOCTT1fMYBE",
        "colab_type": "code",
        "colab": {
          "base_uri": "https://localhost:8080/",
          "height": 261
        },
        "outputId": "30419849-4e84-4128-a68b-38b0289074d4"
      },
      "source": [
        "deaths_df.tail()"
      ],
      "execution_count": null,
      "outputs": [
        {
          "output_type": "execute_result",
          "data": {
            "text/html": [
              "<div>\n",
              "<style scoped>\n",
              "    .dataframe tbody tr th:only-of-type {\n",
              "        vertical-align: middle;\n",
              "    }\n",
              "\n",
              "    .dataframe tbody tr th {\n",
              "        vertical-align: top;\n",
              "    }\n",
              "\n",
              "    .dataframe thead th {\n",
              "        text-align: right;\n",
              "    }\n",
              "</style>\n",
              "<table border=\"1\" class=\"dataframe\">\n",
              "  <thead>\n",
              "    <tr style=\"text-align: right;\">\n",
              "      <th></th>\n",
              "      <th>Province/State</th>\n",
              "      <th>Country/Region</th>\n",
              "      <th>Lat</th>\n",
              "      <th>Long</th>\n",
              "      <th>1/22/20</th>\n",
              "      <th>1/23/20</th>\n",
              "      <th>1/24/20</th>\n",
              "      <th>1/25/20</th>\n",
              "      <th>1/26/20</th>\n",
              "      <th>1/27/20</th>\n",
              "      <th>1/28/20</th>\n",
              "      <th>1/29/20</th>\n",
              "      <th>1/30/20</th>\n",
              "      <th>1/31/20</th>\n",
              "      <th>2/1/20</th>\n",
              "      <th>2/2/20</th>\n",
              "      <th>2/3/20</th>\n",
              "      <th>2/4/20</th>\n",
              "      <th>2/5/20</th>\n",
              "      <th>2/6/20</th>\n",
              "      <th>2/7/20</th>\n",
              "      <th>2/8/20</th>\n",
              "      <th>2/9/20</th>\n",
              "      <th>2/10/20</th>\n",
              "      <th>2/11/20</th>\n",
              "      <th>2/12/20</th>\n",
              "      <th>2/13/20</th>\n",
              "      <th>2/14/20</th>\n",
              "      <th>2/15/20</th>\n",
              "      <th>2/16/20</th>\n",
              "      <th>2/17/20</th>\n",
              "      <th>2/18/20</th>\n",
              "      <th>2/19/20</th>\n",
              "      <th>2/20/20</th>\n",
              "      <th>2/21/20</th>\n",
              "      <th>2/22/20</th>\n",
              "      <th>2/23/20</th>\n",
              "      <th>2/24/20</th>\n",
              "      <th>2/25/20</th>\n",
              "      <th>2/26/20</th>\n",
              "      <th>...</th>\n",
              "      <th>4/18/20</th>\n",
              "      <th>4/19/20</th>\n",
              "      <th>4/20/20</th>\n",
              "      <th>4/21/20</th>\n",
              "      <th>4/22/20</th>\n",
              "      <th>4/23/20</th>\n",
              "      <th>4/24/20</th>\n",
              "      <th>4/25/20</th>\n",
              "      <th>4/26/20</th>\n",
              "      <th>4/27/20</th>\n",
              "      <th>4/28/20</th>\n",
              "      <th>4/29/20</th>\n",
              "      <th>4/30/20</th>\n",
              "      <th>5/1/20</th>\n",
              "      <th>5/2/20</th>\n",
              "      <th>5/3/20</th>\n",
              "      <th>5/4/20</th>\n",
              "      <th>5/5/20</th>\n",
              "      <th>5/6/20</th>\n",
              "      <th>5/7/20</th>\n",
              "      <th>5/8/20</th>\n",
              "      <th>5/9/20</th>\n",
              "      <th>5/10/20</th>\n",
              "      <th>5/11/20</th>\n",
              "      <th>5/12/20</th>\n",
              "      <th>5/13/20</th>\n",
              "      <th>5/14/20</th>\n",
              "      <th>5/15/20</th>\n",
              "      <th>5/16/20</th>\n",
              "      <th>5/17/20</th>\n",
              "      <th>5/18/20</th>\n",
              "      <th>5/19/20</th>\n",
              "      <th>5/20/20</th>\n",
              "      <th>5/21/20</th>\n",
              "      <th>5/22/20</th>\n",
              "      <th>5/23/20</th>\n",
              "      <th>5/24/20</th>\n",
              "      <th>5/25/20</th>\n",
              "      <th>5/26/20</th>\n",
              "      <th>5/27/20</th>\n",
              "    </tr>\n",
              "  </thead>\n",
              "  <tbody>\n",
              "    <tr>\n",
              "      <th>261</th>\n",
              "      <td>NaN</td>\n",
              "      <td>Sao Tome and Principe</td>\n",
              "      <td>0.186360</td>\n",
              "      <td>6.613081</td>\n",
              "      <td>0</td>\n",
              "      <td>0</td>\n",
              "      <td>0</td>\n",
              "      <td>0</td>\n",
              "      <td>0</td>\n",
              "      <td>0</td>\n",
              "      <td>0</td>\n",
              "      <td>0</td>\n",
              "      <td>0</td>\n",
              "      <td>0</td>\n",
              "      <td>0</td>\n",
              "      <td>0</td>\n",
              "      <td>0</td>\n",
              "      <td>0</td>\n",
              "      <td>0</td>\n",
              "      <td>0</td>\n",
              "      <td>0</td>\n",
              "      <td>0</td>\n",
              "      <td>0</td>\n",
              "      <td>0</td>\n",
              "      <td>0</td>\n",
              "      <td>0</td>\n",
              "      <td>0</td>\n",
              "      <td>0</td>\n",
              "      <td>0</td>\n",
              "      <td>0</td>\n",
              "      <td>0</td>\n",
              "      <td>0</td>\n",
              "      <td>0</td>\n",
              "      <td>0</td>\n",
              "      <td>0</td>\n",
              "      <td>0</td>\n",
              "      <td>0</td>\n",
              "      <td>0</td>\n",
              "      <td>0</td>\n",
              "      <td>0</td>\n",
              "      <td>...</td>\n",
              "      <td>0</td>\n",
              "      <td>0</td>\n",
              "      <td>0</td>\n",
              "      <td>0</td>\n",
              "      <td>0</td>\n",
              "      <td>0</td>\n",
              "      <td>0</td>\n",
              "      <td>0</td>\n",
              "      <td>0</td>\n",
              "      <td>0</td>\n",
              "      <td>0</td>\n",
              "      <td>0</td>\n",
              "      <td>0</td>\n",
              "      <td>1</td>\n",
              "      <td>1</td>\n",
              "      <td>1</td>\n",
              "      <td>3</td>\n",
              "      <td>3</td>\n",
              "      <td>3</td>\n",
              "      <td>4</td>\n",
              "      <td>5</td>\n",
              "      <td>5</td>\n",
              "      <td>5</td>\n",
              "      <td>5</td>\n",
              "      <td>5</td>\n",
              "      <td>6</td>\n",
              "      <td>7</td>\n",
              "      <td>7</td>\n",
              "      <td>7</td>\n",
              "      <td>7</td>\n",
              "      <td>7</td>\n",
              "      <td>8</td>\n",
              "      <td>8</td>\n",
              "      <td>8</td>\n",
              "      <td>8</td>\n",
              "      <td>8</td>\n",
              "      <td>8</td>\n",
              "      <td>11</td>\n",
              "      <td>12</td>\n",
              "      <td>12</td>\n",
              "    </tr>\n",
              "    <tr>\n",
              "      <th>262</th>\n",
              "      <td>NaN</td>\n",
              "      <td>Yemen</td>\n",
              "      <td>15.552727</td>\n",
              "      <td>48.516388</td>\n",
              "      <td>0</td>\n",
              "      <td>0</td>\n",
              "      <td>0</td>\n",
              "      <td>0</td>\n",
              "      <td>0</td>\n",
              "      <td>0</td>\n",
              "      <td>0</td>\n",
              "      <td>0</td>\n",
              "      <td>0</td>\n",
              "      <td>0</td>\n",
              "      <td>0</td>\n",
              "      <td>0</td>\n",
              "      <td>0</td>\n",
              "      <td>0</td>\n",
              "      <td>0</td>\n",
              "      <td>0</td>\n",
              "      <td>0</td>\n",
              "      <td>0</td>\n",
              "      <td>0</td>\n",
              "      <td>0</td>\n",
              "      <td>0</td>\n",
              "      <td>0</td>\n",
              "      <td>0</td>\n",
              "      <td>0</td>\n",
              "      <td>0</td>\n",
              "      <td>0</td>\n",
              "      <td>0</td>\n",
              "      <td>0</td>\n",
              "      <td>0</td>\n",
              "      <td>0</td>\n",
              "      <td>0</td>\n",
              "      <td>0</td>\n",
              "      <td>0</td>\n",
              "      <td>0</td>\n",
              "      <td>0</td>\n",
              "      <td>0</td>\n",
              "      <td>...</td>\n",
              "      <td>0</td>\n",
              "      <td>0</td>\n",
              "      <td>0</td>\n",
              "      <td>0</td>\n",
              "      <td>0</td>\n",
              "      <td>0</td>\n",
              "      <td>0</td>\n",
              "      <td>0</td>\n",
              "      <td>0</td>\n",
              "      <td>0</td>\n",
              "      <td>0</td>\n",
              "      <td>0</td>\n",
              "      <td>2</td>\n",
              "      <td>2</td>\n",
              "      <td>2</td>\n",
              "      <td>2</td>\n",
              "      <td>2</td>\n",
              "      <td>4</td>\n",
              "      <td>5</td>\n",
              "      <td>5</td>\n",
              "      <td>7</td>\n",
              "      <td>7</td>\n",
              "      <td>8</td>\n",
              "      <td>9</td>\n",
              "      <td>10</td>\n",
              "      <td>12</td>\n",
              "      <td>12</td>\n",
              "      <td>15</td>\n",
              "      <td>18</td>\n",
              "      <td>20</td>\n",
              "      <td>20</td>\n",
              "      <td>28</td>\n",
              "      <td>30</td>\n",
              "      <td>33</td>\n",
              "      <td>33</td>\n",
              "      <td>39</td>\n",
              "      <td>42</td>\n",
              "      <td>44</td>\n",
              "      <td>49</td>\n",
              "      <td>53</td>\n",
              "    </tr>\n",
              "    <tr>\n",
              "      <th>263</th>\n",
              "      <td>NaN</td>\n",
              "      <td>Comoros</td>\n",
              "      <td>-11.645500</td>\n",
              "      <td>43.333300</td>\n",
              "      <td>0</td>\n",
              "      <td>0</td>\n",
              "      <td>0</td>\n",
              "      <td>0</td>\n",
              "      <td>0</td>\n",
              "      <td>0</td>\n",
              "      <td>0</td>\n",
              "      <td>0</td>\n",
              "      <td>0</td>\n",
              "      <td>0</td>\n",
              "      <td>0</td>\n",
              "      <td>0</td>\n",
              "      <td>0</td>\n",
              "      <td>0</td>\n",
              "      <td>0</td>\n",
              "      <td>0</td>\n",
              "      <td>0</td>\n",
              "      <td>0</td>\n",
              "      <td>0</td>\n",
              "      <td>0</td>\n",
              "      <td>0</td>\n",
              "      <td>0</td>\n",
              "      <td>0</td>\n",
              "      <td>0</td>\n",
              "      <td>0</td>\n",
              "      <td>0</td>\n",
              "      <td>0</td>\n",
              "      <td>0</td>\n",
              "      <td>0</td>\n",
              "      <td>0</td>\n",
              "      <td>0</td>\n",
              "      <td>0</td>\n",
              "      <td>0</td>\n",
              "      <td>0</td>\n",
              "      <td>0</td>\n",
              "      <td>0</td>\n",
              "      <td>...</td>\n",
              "      <td>0</td>\n",
              "      <td>0</td>\n",
              "      <td>0</td>\n",
              "      <td>0</td>\n",
              "      <td>0</td>\n",
              "      <td>0</td>\n",
              "      <td>0</td>\n",
              "      <td>0</td>\n",
              "      <td>0</td>\n",
              "      <td>0</td>\n",
              "      <td>0</td>\n",
              "      <td>0</td>\n",
              "      <td>0</td>\n",
              "      <td>0</td>\n",
              "      <td>0</td>\n",
              "      <td>0</td>\n",
              "      <td>0</td>\n",
              "      <td>0</td>\n",
              "      <td>1</td>\n",
              "      <td>1</td>\n",
              "      <td>1</td>\n",
              "      <td>1</td>\n",
              "      <td>1</td>\n",
              "      <td>1</td>\n",
              "      <td>1</td>\n",
              "      <td>1</td>\n",
              "      <td>1</td>\n",
              "      <td>1</td>\n",
              "      <td>1</td>\n",
              "      <td>1</td>\n",
              "      <td>1</td>\n",
              "      <td>1</td>\n",
              "      <td>1</td>\n",
              "      <td>1</td>\n",
              "      <td>1</td>\n",
              "      <td>1</td>\n",
              "      <td>1</td>\n",
              "      <td>1</td>\n",
              "      <td>1</td>\n",
              "      <td>2</td>\n",
              "    </tr>\n",
              "    <tr>\n",
              "      <th>264</th>\n",
              "      <td>NaN</td>\n",
              "      <td>Tajikistan</td>\n",
              "      <td>38.861034</td>\n",
              "      <td>71.276093</td>\n",
              "      <td>0</td>\n",
              "      <td>0</td>\n",
              "      <td>0</td>\n",
              "      <td>0</td>\n",
              "      <td>0</td>\n",
              "      <td>0</td>\n",
              "      <td>0</td>\n",
              "      <td>0</td>\n",
              "      <td>0</td>\n",
              "      <td>0</td>\n",
              "      <td>0</td>\n",
              "      <td>0</td>\n",
              "      <td>0</td>\n",
              "      <td>0</td>\n",
              "      <td>0</td>\n",
              "      <td>0</td>\n",
              "      <td>0</td>\n",
              "      <td>0</td>\n",
              "      <td>0</td>\n",
              "      <td>0</td>\n",
              "      <td>0</td>\n",
              "      <td>0</td>\n",
              "      <td>0</td>\n",
              "      <td>0</td>\n",
              "      <td>0</td>\n",
              "      <td>0</td>\n",
              "      <td>0</td>\n",
              "      <td>0</td>\n",
              "      <td>0</td>\n",
              "      <td>0</td>\n",
              "      <td>0</td>\n",
              "      <td>0</td>\n",
              "      <td>0</td>\n",
              "      <td>0</td>\n",
              "      <td>0</td>\n",
              "      <td>0</td>\n",
              "      <td>...</td>\n",
              "      <td>0</td>\n",
              "      <td>0</td>\n",
              "      <td>0</td>\n",
              "      <td>0</td>\n",
              "      <td>0</td>\n",
              "      <td>0</td>\n",
              "      <td>0</td>\n",
              "      <td>0</td>\n",
              "      <td>0</td>\n",
              "      <td>0</td>\n",
              "      <td>0</td>\n",
              "      <td>0</td>\n",
              "      <td>0</td>\n",
              "      <td>0</td>\n",
              "      <td>2</td>\n",
              "      <td>2</td>\n",
              "      <td>3</td>\n",
              "      <td>5</td>\n",
              "      <td>8</td>\n",
              "      <td>12</td>\n",
              "      <td>12</td>\n",
              "      <td>20</td>\n",
              "      <td>20</td>\n",
              "      <td>21</td>\n",
              "      <td>21</td>\n",
              "      <td>23</td>\n",
              "      <td>29</td>\n",
              "      <td>33</td>\n",
              "      <td>36</td>\n",
              "      <td>39</td>\n",
              "      <td>41</td>\n",
              "      <td>41</td>\n",
              "      <td>41</td>\n",
              "      <td>44</td>\n",
              "      <td>44</td>\n",
              "      <td>44</td>\n",
              "      <td>46</td>\n",
              "      <td>46</td>\n",
              "      <td>47</td>\n",
              "      <td>47</td>\n",
              "    </tr>\n",
              "    <tr>\n",
              "      <th>265</th>\n",
              "      <td>NaN</td>\n",
              "      <td>Lesotho</td>\n",
              "      <td>-29.609988</td>\n",
              "      <td>28.233608</td>\n",
              "      <td>0</td>\n",
              "      <td>0</td>\n",
              "      <td>0</td>\n",
              "      <td>0</td>\n",
              "      <td>0</td>\n",
              "      <td>0</td>\n",
              "      <td>0</td>\n",
              "      <td>0</td>\n",
              "      <td>0</td>\n",
              "      <td>0</td>\n",
              "      <td>0</td>\n",
              "      <td>0</td>\n",
              "      <td>0</td>\n",
              "      <td>0</td>\n",
              "      <td>0</td>\n",
              "      <td>0</td>\n",
              "      <td>0</td>\n",
              "      <td>0</td>\n",
              "      <td>0</td>\n",
              "      <td>0</td>\n",
              "      <td>0</td>\n",
              "      <td>0</td>\n",
              "      <td>0</td>\n",
              "      <td>0</td>\n",
              "      <td>0</td>\n",
              "      <td>0</td>\n",
              "      <td>0</td>\n",
              "      <td>0</td>\n",
              "      <td>0</td>\n",
              "      <td>0</td>\n",
              "      <td>0</td>\n",
              "      <td>0</td>\n",
              "      <td>0</td>\n",
              "      <td>0</td>\n",
              "      <td>0</td>\n",
              "      <td>0</td>\n",
              "      <td>...</td>\n",
              "      <td>0</td>\n",
              "      <td>0</td>\n",
              "      <td>0</td>\n",
              "      <td>0</td>\n",
              "      <td>0</td>\n",
              "      <td>0</td>\n",
              "      <td>0</td>\n",
              "      <td>0</td>\n",
              "      <td>0</td>\n",
              "      <td>0</td>\n",
              "      <td>0</td>\n",
              "      <td>0</td>\n",
              "      <td>0</td>\n",
              "      <td>0</td>\n",
              "      <td>0</td>\n",
              "      <td>0</td>\n",
              "      <td>0</td>\n",
              "      <td>0</td>\n",
              "      <td>0</td>\n",
              "      <td>0</td>\n",
              "      <td>0</td>\n",
              "      <td>0</td>\n",
              "      <td>0</td>\n",
              "      <td>0</td>\n",
              "      <td>0</td>\n",
              "      <td>0</td>\n",
              "      <td>0</td>\n",
              "      <td>0</td>\n",
              "      <td>0</td>\n",
              "      <td>0</td>\n",
              "      <td>0</td>\n",
              "      <td>0</td>\n",
              "      <td>0</td>\n",
              "      <td>0</td>\n",
              "      <td>0</td>\n",
              "      <td>0</td>\n",
              "      <td>0</td>\n",
              "      <td>0</td>\n",
              "      <td>0</td>\n",
              "      <td>0</td>\n",
              "    </tr>\n",
              "  </tbody>\n",
              "</table>\n",
              "<p>5 rows × 131 columns</p>\n",
              "</div>"
            ],
            "text/plain": [
              "    Province/State         Country/Region        Lat  ...  5/25/20  5/26/20  5/27/20\n",
              "261            NaN  Sao Tome and Principe   0.186360  ...       11       12       12\n",
              "262            NaN                  Yemen  15.552727  ...       44       49       53\n",
              "263            NaN                Comoros -11.645500  ...        1        1        2\n",
              "264            NaN             Tajikistan  38.861034  ...       46       47       47\n",
              "265            NaN                Lesotho -29.609988  ...        0        0        0\n",
              "\n",
              "[5 rows x 131 columns]"
            ]
          },
          "metadata": {
            "tags": []
          },
          "execution_count": 20
        }
      ]
    },
    {
      "cell_type": "code",
      "metadata": {
        "id": "JEs7z04NMke-",
        "colab_type": "code",
        "colab": {
          "base_uri": "https://localhost:8080/",
          "height": 126
        },
        "outputId": "d7323054-7f86-4962-d390-b9823656b1fa"
      },
      "source": [
        "deaths_df[deaths_df['Country/Region'] == 'Brazil']"
      ],
      "execution_count": null,
      "outputs": [
        {
          "output_type": "execute_result",
          "data": {
            "text/html": [
              "<div>\n",
              "<style scoped>\n",
              "    .dataframe tbody tr th:only-of-type {\n",
              "        vertical-align: middle;\n",
              "    }\n",
              "\n",
              "    .dataframe tbody tr th {\n",
              "        vertical-align: top;\n",
              "    }\n",
              "\n",
              "    .dataframe thead th {\n",
              "        text-align: right;\n",
              "    }\n",
              "</style>\n",
              "<table border=\"1\" class=\"dataframe\">\n",
              "  <thead>\n",
              "    <tr style=\"text-align: right;\">\n",
              "      <th></th>\n",
              "      <th>Province/State</th>\n",
              "      <th>Country/Region</th>\n",
              "      <th>Lat</th>\n",
              "      <th>Long</th>\n",
              "      <th>1/22/20</th>\n",
              "      <th>1/23/20</th>\n",
              "      <th>1/24/20</th>\n",
              "      <th>1/25/20</th>\n",
              "      <th>1/26/20</th>\n",
              "      <th>1/27/20</th>\n",
              "      <th>1/28/20</th>\n",
              "      <th>1/29/20</th>\n",
              "      <th>1/30/20</th>\n",
              "      <th>1/31/20</th>\n",
              "      <th>2/1/20</th>\n",
              "      <th>2/2/20</th>\n",
              "      <th>2/3/20</th>\n",
              "      <th>2/4/20</th>\n",
              "      <th>2/5/20</th>\n",
              "      <th>2/6/20</th>\n",
              "      <th>2/7/20</th>\n",
              "      <th>2/8/20</th>\n",
              "      <th>2/9/20</th>\n",
              "      <th>2/10/20</th>\n",
              "      <th>2/11/20</th>\n",
              "      <th>2/12/20</th>\n",
              "      <th>2/13/20</th>\n",
              "      <th>2/14/20</th>\n",
              "      <th>2/15/20</th>\n",
              "      <th>2/16/20</th>\n",
              "      <th>2/17/20</th>\n",
              "      <th>2/18/20</th>\n",
              "      <th>2/19/20</th>\n",
              "      <th>2/20/20</th>\n",
              "      <th>2/21/20</th>\n",
              "      <th>2/22/20</th>\n",
              "      <th>2/23/20</th>\n",
              "      <th>2/24/20</th>\n",
              "      <th>2/25/20</th>\n",
              "      <th>2/26/20</th>\n",
              "      <th>...</th>\n",
              "      <th>4/18/20</th>\n",
              "      <th>4/19/20</th>\n",
              "      <th>4/20/20</th>\n",
              "      <th>4/21/20</th>\n",
              "      <th>4/22/20</th>\n",
              "      <th>4/23/20</th>\n",
              "      <th>4/24/20</th>\n",
              "      <th>4/25/20</th>\n",
              "      <th>4/26/20</th>\n",
              "      <th>4/27/20</th>\n",
              "      <th>4/28/20</th>\n",
              "      <th>4/29/20</th>\n",
              "      <th>4/30/20</th>\n",
              "      <th>5/1/20</th>\n",
              "      <th>5/2/20</th>\n",
              "      <th>5/3/20</th>\n",
              "      <th>5/4/20</th>\n",
              "      <th>5/5/20</th>\n",
              "      <th>5/6/20</th>\n",
              "      <th>5/7/20</th>\n",
              "      <th>5/8/20</th>\n",
              "      <th>5/9/20</th>\n",
              "      <th>5/10/20</th>\n",
              "      <th>5/11/20</th>\n",
              "      <th>5/12/20</th>\n",
              "      <th>5/13/20</th>\n",
              "      <th>5/14/20</th>\n",
              "      <th>5/15/20</th>\n",
              "      <th>5/16/20</th>\n",
              "      <th>5/17/20</th>\n",
              "      <th>5/18/20</th>\n",
              "      <th>5/19/20</th>\n",
              "      <th>5/20/20</th>\n",
              "      <th>5/21/20</th>\n",
              "      <th>5/22/20</th>\n",
              "      <th>5/23/20</th>\n",
              "      <th>5/24/20</th>\n",
              "      <th>5/25/20</th>\n",
              "      <th>5/26/20</th>\n",
              "      <th>5/27/20</th>\n",
              "    </tr>\n",
              "  </thead>\n",
              "  <tbody>\n",
              "    <tr>\n",
              "      <th>28</th>\n",
              "      <td>NaN</td>\n",
              "      <td>Brazil</td>\n",
              "      <td>-14.235</td>\n",
              "      <td>-51.9253</td>\n",
              "      <td>0</td>\n",
              "      <td>0</td>\n",
              "      <td>0</td>\n",
              "      <td>0</td>\n",
              "      <td>0</td>\n",
              "      <td>0</td>\n",
              "      <td>0</td>\n",
              "      <td>0</td>\n",
              "      <td>0</td>\n",
              "      <td>0</td>\n",
              "      <td>0</td>\n",
              "      <td>0</td>\n",
              "      <td>0</td>\n",
              "      <td>0</td>\n",
              "      <td>0</td>\n",
              "      <td>0</td>\n",
              "      <td>0</td>\n",
              "      <td>0</td>\n",
              "      <td>0</td>\n",
              "      <td>0</td>\n",
              "      <td>0</td>\n",
              "      <td>0</td>\n",
              "      <td>0</td>\n",
              "      <td>0</td>\n",
              "      <td>0</td>\n",
              "      <td>0</td>\n",
              "      <td>0</td>\n",
              "      <td>0</td>\n",
              "      <td>0</td>\n",
              "      <td>0</td>\n",
              "      <td>0</td>\n",
              "      <td>0</td>\n",
              "      <td>0</td>\n",
              "      <td>0</td>\n",
              "      <td>0</td>\n",
              "      <td>0</td>\n",
              "      <td>...</td>\n",
              "      <td>2354</td>\n",
              "      <td>2462</td>\n",
              "      <td>2587</td>\n",
              "      <td>2741</td>\n",
              "      <td>2906</td>\n",
              "      <td>3331</td>\n",
              "      <td>3704</td>\n",
              "      <td>4057</td>\n",
              "      <td>4286</td>\n",
              "      <td>4603</td>\n",
              "      <td>5083</td>\n",
              "      <td>5513</td>\n",
              "      <td>6006</td>\n",
              "      <td>6412</td>\n",
              "      <td>6761</td>\n",
              "      <td>7051</td>\n",
              "      <td>7367</td>\n",
              "      <td>7938</td>\n",
              "      <td>8588</td>\n",
              "      <td>9190</td>\n",
              "      <td>10017</td>\n",
              "      <td>10656</td>\n",
              "      <td>11123</td>\n",
              "      <td>11653</td>\n",
              "      <td>12461</td>\n",
              "      <td>13240</td>\n",
              "      <td>13999</td>\n",
              "      <td>14962</td>\n",
              "      <td>15662</td>\n",
              "      <td>16118</td>\n",
              "      <td>16853</td>\n",
              "      <td>17983</td>\n",
              "      <td>18859</td>\n",
              "      <td>20047</td>\n",
              "      <td>21048</td>\n",
              "      <td>22013</td>\n",
              "      <td>22666</td>\n",
              "      <td>23473</td>\n",
              "      <td>24512</td>\n",
              "      <td>25598</td>\n",
              "    </tr>\n",
              "  </tbody>\n",
              "</table>\n",
              "<p>1 rows × 131 columns</p>\n",
              "</div>"
            ],
            "text/plain": [
              "   Province/State Country/Region     Lat  ...  5/25/20  5/26/20  5/27/20\n",
              "28            NaN         Brazil -14.235  ...    23473    24512    25598\n",
              "\n",
              "[1 rows x 131 columns]"
            ]
          },
          "metadata": {
            "tags": []
          },
          "execution_count": 21
        }
      ]
    },
    {
      "cell_type": "code",
      "metadata": {
        "id": "iKQuGjecM0ss",
        "colab_type": "code",
        "colab": {
          "base_uri": "https://localhost:8080/",
          "height": 122
        },
        "outputId": "c8be47f0-ea8f-46fb-91a7-b6ff2e29b8bf"
      },
      "source": [
        "columns = deaths_df.keys()\n",
        "columns"
      ],
      "execution_count": null,
      "outputs": [
        {
          "output_type": "execute_result",
          "data": {
            "text/plain": [
              "Index(['Province/State', 'Country/Region', 'Lat', 'Long', '1/22/20', '1/23/20',\n",
              "       '1/24/20', '1/25/20', '1/26/20', '1/27/20',\n",
              "       ...\n",
              "       '5/18/20', '5/19/20', '5/20/20', '5/21/20', '5/22/20', '5/23/20',\n",
              "       '5/24/20', '5/25/20', '5/26/20', '5/27/20'],\n",
              "      dtype='object', length=131)"
            ]
          },
          "metadata": {
            "tags": []
          },
          "execution_count": 22
        }
      ]
    },
    {
      "cell_type": "code",
      "metadata": {
        "id": "zzg1uDcgNAWH",
        "colab_type": "code",
        "colab": {}
      },
      "source": [
        "deaths_df = deaths_df.loc[:, columns[4]:columns[-1]]"
      ],
      "execution_count": null,
      "outputs": []
    },
    {
      "cell_type": "code",
      "metadata": {
        "id": "s7PtKLtwNXMt",
        "colab_type": "code",
        "colab": {
          "base_uri": "https://localhost:8080/",
          "height": 244
        },
        "outputId": "a0b8b163-e177-4139-e0f2-8a81cc5affc6"
      },
      "source": [
        "deaths_df.head()"
      ],
      "execution_count": null,
      "outputs": [
        {
          "output_type": "execute_result",
          "data": {
            "text/html": [
              "<div>\n",
              "<style scoped>\n",
              "    .dataframe tbody tr th:only-of-type {\n",
              "        vertical-align: middle;\n",
              "    }\n",
              "\n",
              "    .dataframe tbody tr th {\n",
              "        vertical-align: top;\n",
              "    }\n",
              "\n",
              "    .dataframe thead th {\n",
              "        text-align: right;\n",
              "    }\n",
              "</style>\n",
              "<table border=\"1\" class=\"dataframe\">\n",
              "  <thead>\n",
              "    <tr style=\"text-align: right;\">\n",
              "      <th></th>\n",
              "      <th>1/22/20</th>\n",
              "      <th>1/23/20</th>\n",
              "      <th>1/24/20</th>\n",
              "      <th>1/25/20</th>\n",
              "      <th>1/26/20</th>\n",
              "      <th>1/27/20</th>\n",
              "      <th>1/28/20</th>\n",
              "      <th>1/29/20</th>\n",
              "      <th>1/30/20</th>\n",
              "      <th>1/31/20</th>\n",
              "      <th>2/1/20</th>\n",
              "      <th>2/2/20</th>\n",
              "      <th>2/3/20</th>\n",
              "      <th>2/4/20</th>\n",
              "      <th>2/5/20</th>\n",
              "      <th>2/6/20</th>\n",
              "      <th>2/7/20</th>\n",
              "      <th>2/8/20</th>\n",
              "      <th>2/9/20</th>\n",
              "      <th>2/10/20</th>\n",
              "      <th>2/11/20</th>\n",
              "      <th>2/12/20</th>\n",
              "      <th>2/13/20</th>\n",
              "      <th>2/14/20</th>\n",
              "      <th>2/15/20</th>\n",
              "      <th>2/16/20</th>\n",
              "      <th>2/17/20</th>\n",
              "      <th>2/18/20</th>\n",
              "      <th>2/19/20</th>\n",
              "      <th>2/20/20</th>\n",
              "      <th>2/21/20</th>\n",
              "      <th>2/22/20</th>\n",
              "      <th>2/23/20</th>\n",
              "      <th>2/24/20</th>\n",
              "      <th>2/25/20</th>\n",
              "      <th>2/26/20</th>\n",
              "      <th>2/27/20</th>\n",
              "      <th>2/28/20</th>\n",
              "      <th>2/29/20</th>\n",
              "      <th>3/1/20</th>\n",
              "      <th>...</th>\n",
              "      <th>4/18/20</th>\n",
              "      <th>4/19/20</th>\n",
              "      <th>4/20/20</th>\n",
              "      <th>4/21/20</th>\n",
              "      <th>4/22/20</th>\n",
              "      <th>4/23/20</th>\n",
              "      <th>4/24/20</th>\n",
              "      <th>4/25/20</th>\n",
              "      <th>4/26/20</th>\n",
              "      <th>4/27/20</th>\n",
              "      <th>4/28/20</th>\n",
              "      <th>4/29/20</th>\n",
              "      <th>4/30/20</th>\n",
              "      <th>5/1/20</th>\n",
              "      <th>5/2/20</th>\n",
              "      <th>5/3/20</th>\n",
              "      <th>5/4/20</th>\n",
              "      <th>5/5/20</th>\n",
              "      <th>5/6/20</th>\n",
              "      <th>5/7/20</th>\n",
              "      <th>5/8/20</th>\n",
              "      <th>5/9/20</th>\n",
              "      <th>5/10/20</th>\n",
              "      <th>5/11/20</th>\n",
              "      <th>5/12/20</th>\n",
              "      <th>5/13/20</th>\n",
              "      <th>5/14/20</th>\n",
              "      <th>5/15/20</th>\n",
              "      <th>5/16/20</th>\n",
              "      <th>5/17/20</th>\n",
              "      <th>5/18/20</th>\n",
              "      <th>5/19/20</th>\n",
              "      <th>5/20/20</th>\n",
              "      <th>5/21/20</th>\n",
              "      <th>5/22/20</th>\n",
              "      <th>5/23/20</th>\n",
              "      <th>5/24/20</th>\n",
              "      <th>5/25/20</th>\n",
              "      <th>5/26/20</th>\n",
              "      <th>5/27/20</th>\n",
              "    </tr>\n",
              "  </thead>\n",
              "  <tbody>\n",
              "    <tr>\n",
              "      <th>0</th>\n",
              "      <td>0</td>\n",
              "      <td>0</td>\n",
              "      <td>0</td>\n",
              "      <td>0</td>\n",
              "      <td>0</td>\n",
              "      <td>0</td>\n",
              "      <td>0</td>\n",
              "      <td>0</td>\n",
              "      <td>0</td>\n",
              "      <td>0</td>\n",
              "      <td>0</td>\n",
              "      <td>0</td>\n",
              "      <td>0</td>\n",
              "      <td>0</td>\n",
              "      <td>0</td>\n",
              "      <td>0</td>\n",
              "      <td>0</td>\n",
              "      <td>0</td>\n",
              "      <td>0</td>\n",
              "      <td>0</td>\n",
              "      <td>0</td>\n",
              "      <td>0</td>\n",
              "      <td>0</td>\n",
              "      <td>0</td>\n",
              "      <td>0</td>\n",
              "      <td>0</td>\n",
              "      <td>0</td>\n",
              "      <td>0</td>\n",
              "      <td>0</td>\n",
              "      <td>0</td>\n",
              "      <td>0</td>\n",
              "      <td>0</td>\n",
              "      <td>0</td>\n",
              "      <td>0</td>\n",
              "      <td>0</td>\n",
              "      <td>0</td>\n",
              "      <td>0</td>\n",
              "      <td>0</td>\n",
              "      <td>0</td>\n",
              "      <td>0</td>\n",
              "      <td>...</td>\n",
              "      <td>30</td>\n",
              "      <td>33</td>\n",
              "      <td>36</td>\n",
              "      <td>36</td>\n",
              "      <td>40</td>\n",
              "      <td>42</td>\n",
              "      <td>43</td>\n",
              "      <td>47</td>\n",
              "      <td>50</td>\n",
              "      <td>57</td>\n",
              "      <td>58</td>\n",
              "      <td>60</td>\n",
              "      <td>64</td>\n",
              "      <td>68</td>\n",
              "      <td>72</td>\n",
              "      <td>85</td>\n",
              "      <td>90</td>\n",
              "      <td>95</td>\n",
              "      <td>104</td>\n",
              "      <td>106</td>\n",
              "      <td>109</td>\n",
              "      <td>115</td>\n",
              "      <td>120</td>\n",
              "      <td>122</td>\n",
              "      <td>127</td>\n",
              "      <td>132</td>\n",
              "      <td>136</td>\n",
              "      <td>153</td>\n",
              "      <td>168</td>\n",
              "      <td>169</td>\n",
              "      <td>173</td>\n",
              "      <td>178</td>\n",
              "      <td>187</td>\n",
              "      <td>193</td>\n",
              "      <td>205</td>\n",
              "      <td>216</td>\n",
              "      <td>218</td>\n",
              "      <td>219</td>\n",
              "      <td>220</td>\n",
              "      <td>227</td>\n",
              "    </tr>\n",
              "    <tr>\n",
              "      <th>1</th>\n",
              "      <td>0</td>\n",
              "      <td>0</td>\n",
              "      <td>0</td>\n",
              "      <td>0</td>\n",
              "      <td>0</td>\n",
              "      <td>0</td>\n",
              "      <td>0</td>\n",
              "      <td>0</td>\n",
              "      <td>0</td>\n",
              "      <td>0</td>\n",
              "      <td>0</td>\n",
              "      <td>0</td>\n",
              "      <td>0</td>\n",
              "      <td>0</td>\n",
              "      <td>0</td>\n",
              "      <td>0</td>\n",
              "      <td>0</td>\n",
              "      <td>0</td>\n",
              "      <td>0</td>\n",
              "      <td>0</td>\n",
              "      <td>0</td>\n",
              "      <td>0</td>\n",
              "      <td>0</td>\n",
              "      <td>0</td>\n",
              "      <td>0</td>\n",
              "      <td>0</td>\n",
              "      <td>0</td>\n",
              "      <td>0</td>\n",
              "      <td>0</td>\n",
              "      <td>0</td>\n",
              "      <td>0</td>\n",
              "      <td>0</td>\n",
              "      <td>0</td>\n",
              "      <td>0</td>\n",
              "      <td>0</td>\n",
              "      <td>0</td>\n",
              "      <td>0</td>\n",
              "      <td>0</td>\n",
              "      <td>0</td>\n",
              "      <td>0</td>\n",
              "      <td>...</td>\n",
              "      <td>26</td>\n",
              "      <td>26</td>\n",
              "      <td>26</td>\n",
              "      <td>26</td>\n",
              "      <td>27</td>\n",
              "      <td>27</td>\n",
              "      <td>27</td>\n",
              "      <td>27</td>\n",
              "      <td>28</td>\n",
              "      <td>28</td>\n",
              "      <td>30</td>\n",
              "      <td>30</td>\n",
              "      <td>31</td>\n",
              "      <td>31</td>\n",
              "      <td>31</td>\n",
              "      <td>31</td>\n",
              "      <td>31</td>\n",
              "      <td>31</td>\n",
              "      <td>31</td>\n",
              "      <td>31</td>\n",
              "      <td>31</td>\n",
              "      <td>31</td>\n",
              "      <td>31</td>\n",
              "      <td>31</td>\n",
              "      <td>31</td>\n",
              "      <td>31</td>\n",
              "      <td>31</td>\n",
              "      <td>31</td>\n",
              "      <td>31</td>\n",
              "      <td>31</td>\n",
              "      <td>31</td>\n",
              "      <td>31</td>\n",
              "      <td>31</td>\n",
              "      <td>31</td>\n",
              "      <td>31</td>\n",
              "      <td>31</td>\n",
              "      <td>32</td>\n",
              "      <td>32</td>\n",
              "      <td>33</td>\n",
              "      <td>33</td>\n",
              "    </tr>\n",
              "    <tr>\n",
              "      <th>2</th>\n",
              "      <td>0</td>\n",
              "      <td>0</td>\n",
              "      <td>0</td>\n",
              "      <td>0</td>\n",
              "      <td>0</td>\n",
              "      <td>0</td>\n",
              "      <td>0</td>\n",
              "      <td>0</td>\n",
              "      <td>0</td>\n",
              "      <td>0</td>\n",
              "      <td>0</td>\n",
              "      <td>0</td>\n",
              "      <td>0</td>\n",
              "      <td>0</td>\n",
              "      <td>0</td>\n",
              "      <td>0</td>\n",
              "      <td>0</td>\n",
              "      <td>0</td>\n",
              "      <td>0</td>\n",
              "      <td>0</td>\n",
              "      <td>0</td>\n",
              "      <td>0</td>\n",
              "      <td>0</td>\n",
              "      <td>0</td>\n",
              "      <td>0</td>\n",
              "      <td>0</td>\n",
              "      <td>0</td>\n",
              "      <td>0</td>\n",
              "      <td>0</td>\n",
              "      <td>0</td>\n",
              "      <td>0</td>\n",
              "      <td>0</td>\n",
              "      <td>0</td>\n",
              "      <td>0</td>\n",
              "      <td>0</td>\n",
              "      <td>0</td>\n",
              "      <td>0</td>\n",
              "      <td>0</td>\n",
              "      <td>0</td>\n",
              "      <td>0</td>\n",
              "      <td>...</td>\n",
              "      <td>367</td>\n",
              "      <td>375</td>\n",
              "      <td>384</td>\n",
              "      <td>392</td>\n",
              "      <td>402</td>\n",
              "      <td>407</td>\n",
              "      <td>415</td>\n",
              "      <td>419</td>\n",
              "      <td>425</td>\n",
              "      <td>432</td>\n",
              "      <td>437</td>\n",
              "      <td>444</td>\n",
              "      <td>450</td>\n",
              "      <td>453</td>\n",
              "      <td>459</td>\n",
              "      <td>463</td>\n",
              "      <td>465</td>\n",
              "      <td>470</td>\n",
              "      <td>476</td>\n",
              "      <td>483</td>\n",
              "      <td>488</td>\n",
              "      <td>494</td>\n",
              "      <td>502</td>\n",
              "      <td>507</td>\n",
              "      <td>515</td>\n",
              "      <td>522</td>\n",
              "      <td>529</td>\n",
              "      <td>536</td>\n",
              "      <td>542</td>\n",
              "      <td>548</td>\n",
              "      <td>555</td>\n",
              "      <td>561</td>\n",
              "      <td>568</td>\n",
              "      <td>575</td>\n",
              "      <td>582</td>\n",
              "      <td>592</td>\n",
              "      <td>600</td>\n",
              "      <td>609</td>\n",
              "      <td>617</td>\n",
              "      <td>623</td>\n",
              "    </tr>\n",
              "    <tr>\n",
              "      <th>3</th>\n",
              "      <td>0</td>\n",
              "      <td>0</td>\n",
              "      <td>0</td>\n",
              "      <td>0</td>\n",
              "      <td>0</td>\n",
              "      <td>0</td>\n",
              "      <td>0</td>\n",
              "      <td>0</td>\n",
              "      <td>0</td>\n",
              "      <td>0</td>\n",
              "      <td>0</td>\n",
              "      <td>0</td>\n",
              "      <td>0</td>\n",
              "      <td>0</td>\n",
              "      <td>0</td>\n",
              "      <td>0</td>\n",
              "      <td>0</td>\n",
              "      <td>0</td>\n",
              "      <td>0</td>\n",
              "      <td>0</td>\n",
              "      <td>0</td>\n",
              "      <td>0</td>\n",
              "      <td>0</td>\n",
              "      <td>0</td>\n",
              "      <td>0</td>\n",
              "      <td>0</td>\n",
              "      <td>0</td>\n",
              "      <td>0</td>\n",
              "      <td>0</td>\n",
              "      <td>0</td>\n",
              "      <td>0</td>\n",
              "      <td>0</td>\n",
              "      <td>0</td>\n",
              "      <td>0</td>\n",
              "      <td>0</td>\n",
              "      <td>0</td>\n",
              "      <td>0</td>\n",
              "      <td>0</td>\n",
              "      <td>0</td>\n",
              "      <td>0</td>\n",
              "      <td>...</td>\n",
              "      <td>35</td>\n",
              "      <td>36</td>\n",
              "      <td>37</td>\n",
              "      <td>37</td>\n",
              "      <td>37</td>\n",
              "      <td>37</td>\n",
              "      <td>40</td>\n",
              "      <td>40</td>\n",
              "      <td>40</td>\n",
              "      <td>40</td>\n",
              "      <td>41</td>\n",
              "      <td>42</td>\n",
              "      <td>42</td>\n",
              "      <td>43</td>\n",
              "      <td>44</td>\n",
              "      <td>45</td>\n",
              "      <td>45</td>\n",
              "      <td>46</td>\n",
              "      <td>46</td>\n",
              "      <td>47</td>\n",
              "      <td>47</td>\n",
              "      <td>48</td>\n",
              "      <td>48</td>\n",
              "      <td>48</td>\n",
              "      <td>48</td>\n",
              "      <td>49</td>\n",
              "      <td>49</td>\n",
              "      <td>49</td>\n",
              "      <td>51</td>\n",
              "      <td>51</td>\n",
              "      <td>51</td>\n",
              "      <td>51</td>\n",
              "      <td>51</td>\n",
              "      <td>51</td>\n",
              "      <td>51</td>\n",
              "      <td>51</td>\n",
              "      <td>51</td>\n",
              "      <td>51</td>\n",
              "      <td>51</td>\n",
              "      <td>51</td>\n",
              "    </tr>\n",
              "    <tr>\n",
              "      <th>4</th>\n",
              "      <td>0</td>\n",
              "      <td>0</td>\n",
              "      <td>0</td>\n",
              "      <td>0</td>\n",
              "      <td>0</td>\n",
              "      <td>0</td>\n",
              "      <td>0</td>\n",
              "      <td>0</td>\n",
              "      <td>0</td>\n",
              "      <td>0</td>\n",
              "      <td>0</td>\n",
              "      <td>0</td>\n",
              "      <td>0</td>\n",
              "      <td>0</td>\n",
              "      <td>0</td>\n",
              "      <td>0</td>\n",
              "      <td>0</td>\n",
              "      <td>0</td>\n",
              "      <td>0</td>\n",
              "      <td>0</td>\n",
              "      <td>0</td>\n",
              "      <td>0</td>\n",
              "      <td>0</td>\n",
              "      <td>0</td>\n",
              "      <td>0</td>\n",
              "      <td>0</td>\n",
              "      <td>0</td>\n",
              "      <td>0</td>\n",
              "      <td>0</td>\n",
              "      <td>0</td>\n",
              "      <td>0</td>\n",
              "      <td>0</td>\n",
              "      <td>0</td>\n",
              "      <td>0</td>\n",
              "      <td>0</td>\n",
              "      <td>0</td>\n",
              "      <td>0</td>\n",
              "      <td>0</td>\n",
              "      <td>0</td>\n",
              "      <td>0</td>\n",
              "      <td>...</td>\n",
              "      <td>2</td>\n",
              "      <td>2</td>\n",
              "      <td>2</td>\n",
              "      <td>2</td>\n",
              "      <td>2</td>\n",
              "      <td>2</td>\n",
              "      <td>2</td>\n",
              "      <td>2</td>\n",
              "      <td>2</td>\n",
              "      <td>2</td>\n",
              "      <td>2</td>\n",
              "      <td>2</td>\n",
              "      <td>2</td>\n",
              "      <td>2</td>\n",
              "      <td>2</td>\n",
              "      <td>2</td>\n",
              "      <td>2</td>\n",
              "      <td>2</td>\n",
              "      <td>2</td>\n",
              "      <td>2</td>\n",
              "      <td>2</td>\n",
              "      <td>2</td>\n",
              "      <td>2</td>\n",
              "      <td>2</td>\n",
              "      <td>2</td>\n",
              "      <td>2</td>\n",
              "      <td>2</td>\n",
              "      <td>2</td>\n",
              "      <td>2</td>\n",
              "      <td>2</td>\n",
              "      <td>3</td>\n",
              "      <td>3</td>\n",
              "      <td>3</td>\n",
              "      <td>3</td>\n",
              "      <td>3</td>\n",
              "      <td>4</td>\n",
              "      <td>4</td>\n",
              "      <td>4</td>\n",
              "      <td>4</td>\n",
              "      <td>4</td>\n",
              "    </tr>\n",
              "  </tbody>\n",
              "</table>\n",
              "<p>5 rows × 127 columns</p>\n",
              "</div>"
            ],
            "text/plain": [
              "   1/22/20  1/23/20  1/24/20  1/25/20  ...  5/24/20  5/25/20  5/26/20  5/27/20\n",
              "0        0        0        0        0  ...      218      219      220      227\n",
              "1        0        0        0        0  ...       32       32       33       33\n",
              "2        0        0        0        0  ...      600      609      617      623\n",
              "3        0        0        0        0  ...       51       51       51       51\n",
              "4        0        0        0        0  ...        4        4        4        4\n",
              "\n",
              "[5 rows x 127 columns]"
            ]
          },
          "metadata": {
            "tags": []
          },
          "execution_count": 24
        }
      ]
    },
    {
      "cell_type": "code",
      "metadata": {
        "id": "8SYtVan8Nc-h",
        "colab_type": "code",
        "colab": {
          "base_uri": "https://localhost:8080/",
          "height": 122
        },
        "outputId": "9db2170b-226b-46f7-ddc1-c6e15fa56758"
      },
      "source": [
        "deaths_df.keys()"
      ],
      "execution_count": null,
      "outputs": [
        {
          "output_type": "execute_result",
          "data": {
            "text/plain": [
              "Index(['1/22/20', '1/23/20', '1/24/20', '1/25/20', '1/26/20', '1/27/20',\n",
              "       '1/28/20', '1/29/20', '1/30/20', '1/31/20',\n",
              "       ...\n",
              "       '5/18/20', '5/19/20', '5/20/20', '5/21/20', '5/22/20', '5/23/20',\n",
              "       '5/24/20', '5/25/20', '5/26/20', '5/27/20'],\n",
              "      dtype='object', length=127)"
            ]
          },
          "metadata": {
            "tags": []
          },
          "execution_count": 25
        }
      ]
    },
    {
      "cell_type": "code",
      "metadata": {
        "id": "lZFfg4euNnMX",
        "colab_type": "code",
        "colab": {
          "base_uri": "https://localhost:8080/",
          "height": 34
        },
        "outputId": "23762d82-07cf-438c-f85a-580aaaa7684d"
      },
      "source": [
        "len(deaths_df.keys())"
      ],
      "execution_count": null,
      "outputs": [
        {
          "output_type": "execute_result",
          "data": {
            "text/plain": [
              "127"
            ]
          },
          "metadata": {
            "tags": []
          },
          "execution_count": 26
        }
      ]
    },
    {
      "cell_type": "code",
      "metadata": {
        "id": "snwhy7FlN2I_",
        "colab_type": "code",
        "colab": {
          "base_uri": "https://localhost:8080/",
          "height": 34
        },
        "outputId": "79f09709-968c-4e68-d6c6-bbad7ad0d36e"
      },
      "source": [
        "deaths_df['1/22/20'].sum()"
      ],
      "execution_count": null,
      "outputs": [
        {
          "output_type": "execute_result",
          "data": {
            "text/plain": [
              "17"
            ]
          },
          "metadata": {
            "tags": []
          },
          "execution_count": 27
        }
      ]
    },
    {
      "cell_type": "code",
      "metadata": {
        "id": "NRoqFBPnOC_0",
        "colab_type": "code",
        "colab": {
          "base_uri": "https://localhost:8080/",
          "height": 34
        },
        "outputId": "2a4f2675-caf7-4c3c-dd3c-401117f472df"
      },
      "source": [
        "deaths_df['3/26/20'].sum()"
      ],
      "execution_count": null,
      "outputs": [
        {
          "output_type": "execute_result",
          "data": {
            "text/plain": [
              "24788"
            ]
          },
          "metadata": {
            "tags": []
          },
          "execution_count": 28
        }
      ]
    },
    {
      "cell_type": "code",
      "metadata": {
        "id": "O5Fb1ZKDPEpW",
        "colab_type": "code",
        "colab": {}
      },
      "source": [
        "dates = deaths_df.keys()\n",
        "y = []\n",
        "for i in dates:\n",
        "  #print(i)\n",
        "  y.append(deaths_df[i].sum())"
      ],
      "execution_count": null,
      "outputs": []
    },
    {
      "cell_type": "code",
      "metadata": {
        "id": "v3QsU_D5PuRP",
        "colab_type": "code",
        "colab": {
          "base_uri": "https://localhost:8080/",
          "height": 34
        },
        "outputId": "5c4afb31-d362-4dc0-bdf1-31b4d3d48bca"
      },
      "source": [
        "len(y)"
      ],
      "execution_count": null,
      "outputs": [
        {
          "output_type": "execute_result",
          "data": {
            "text/plain": [
              "127"
            ]
          },
          "metadata": {
            "tags": []
          },
          "execution_count": 31
        }
      ]
    },
    {
      "cell_type": "code",
      "metadata": {
        "id": "n3tvsBtdP1S5",
        "colab_type": "code",
        "colab": {
          "base_uri": "https://localhost:8080/",
          "height": 34
        },
        "outputId": "7d235048-c6af-4706-e499-ebfce6a7806d"
      },
      "source": [
        "type(y)"
      ],
      "execution_count": null,
      "outputs": [
        {
          "output_type": "execute_result",
          "data": {
            "text/plain": [
              "list"
            ]
          },
          "metadata": {
            "tags": []
          },
          "execution_count": 32
        }
      ]
    },
    {
      "cell_type": "code",
      "metadata": {
        "id": "ERB4-wNOP4JX",
        "colab_type": "code",
        "colab": {}
      },
      "source": [
        "y = np.array(y).reshape(-1,1)"
      ],
      "execution_count": null,
      "outputs": []
    },
    {
      "cell_type": "code",
      "metadata": {
        "id": "GB2SGX25P_xm",
        "colab_type": "code",
        "colab": {
          "base_uri": "https://localhost:8080/",
          "height": 34
        },
        "outputId": "f799ee33-2fd9-43f7-820f-c5a3e4fde25f"
      },
      "source": [
        "y.shape"
      ],
      "execution_count": null,
      "outputs": [
        {
          "output_type": "execute_result",
          "data": {
            "text/plain": [
              "(127, 1)"
            ]
          },
          "metadata": {
            "tags": []
          },
          "execution_count": 34
        }
      ]
    },
    {
      "cell_type": "code",
      "metadata": {
        "id": "h4p6AP5OQMDP",
        "colab_type": "code",
        "colab": {}
      },
      "source": [
        "X = np.arange(len(dates)).reshape(-1,1)"
      ],
      "execution_count": null,
      "outputs": []
    },
    {
      "cell_type": "code",
      "metadata": {
        "id": "iOj-wZ0wQyh-",
        "colab_type": "code",
        "colab": {
          "base_uri": "https://localhost:8080/",
          "height": 34
        },
        "outputId": "b03ed527-ed80-45f4-f900-751f5f6f85cf"
      },
      "source": [
        "X.shape"
      ],
      "execution_count": null,
      "outputs": [
        {
          "output_type": "execute_result",
          "data": {
            "text/plain": [
              "(127, 1)"
            ]
          },
          "metadata": {
            "tags": []
          },
          "execution_count": 37
        }
      ]
    },
    {
      "cell_type": "code",
      "metadata": {
        "id": "2Sa00I48RN1w",
        "colab_type": "code",
        "colab": {}
      },
      "source": [
        "forecast = np.arange(len(dates) + 10).reshape(-1,1)"
      ],
      "execution_count": null,
      "outputs": []
    },
    {
      "cell_type": "code",
      "metadata": {
        "id": "2hhfKKt3RiTF",
        "colab_type": "code",
        "colab": {
          "base_uri": "https://localhost:8080/",
          "height": 34
        },
        "outputId": "a1fc37e8-8cb7-4923-90b8-af41e4ab674c"
      },
      "source": [
        "forecast.shape"
      ],
      "execution_count": null,
      "outputs": [
        {
          "output_type": "execute_result",
          "data": {
            "text/plain": [
              "(137, 1)"
            ]
          },
          "metadata": {
            "tags": []
          },
          "execution_count": 40
        }
      ]
    },
    {
      "cell_type": "code",
      "metadata": {
        "id": "-hQDnxnpRyGY",
        "colab_type": "code",
        "colab": {}
      },
      "source": [
        "X_train, X_test, y_train, y_test = train_test_split(X, y, test_size = 0.15, shuffle = False)"
      ],
      "execution_count": null,
      "outputs": []
    },
    {
      "cell_type": "code",
      "metadata": {
        "id": "vTpxWpKMSTBG",
        "colab_type": "code",
        "colab": {
          "base_uri": "https://localhost:8080/",
          "height": 34
        },
        "outputId": "e3212702-56d6-470d-f654-ee04d27b0be4"
      },
      "source": [
        "X_train.shape"
      ],
      "execution_count": null,
      "outputs": [
        {
          "output_type": "execute_result",
          "data": {
            "text/plain": [
              "(107, 1)"
            ]
          },
          "metadata": {
            "tags": []
          },
          "execution_count": 45
        }
      ]
    },
    {
      "cell_type": "code",
      "metadata": {
        "id": "RlIgw_C6SW56",
        "colab_type": "code",
        "colab": {
          "base_uri": "https://localhost:8080/",
          "height": 34
        },
        "outputId": "7fd1e042-a158-4a05-b9e8-8878d0259cf4"
      },
      "source": [
        "y_train.shape"
      ],
      "execution_count": null,
      "outputs": [
        {
          "output_type": "execute_result",
          "data": {
            "text/plain": [
              "(107, 1)"
            ]
          },
          "metadata": {
            "tags": []
          },
          "execution_count": 46
        }
      ]
    },
    {
      "cell_type": "code",
      "metadata": {
        "id": "jWpLjNihSbnj",
        "colab_type": "code",
        "colab": {
          "base_uri": "https://localhost:8080/",
          "height": 34
        },
        "outputId": "f08e9e3a-98bd-4efc-a6f2-5a84e407a2d5"
      },
      "source": [
        "X_test.shape"
      ],
      "execution_count": null,
      "outputs": [
        {
          "output_type": "execute_result",
          "data": {
            "text/plain": [
              "(20, 1)"
            ]
          },
          "metadata": {
            "tags": []
          },
          "execution_count": 47
        }
      ]
    },
    {
      "cell_type": "code",
      "metadata": {
        "id": "0D16KV7AShLf",
        "colab_type": "code",
        "colab": {
          "base_uri": "https://localhost:8080/",
          "height": 34
        },
        "outputId": "59ccedab-1f8a-4b08-9da5-930f5f42e625"
      },
      "source": [
        "y_test.shape"
      ],
      "execution_count": null,
      "outputs": [
        {
          "output_type": "execute_result",
          "data": {
            "text/plain": [
              "(20, 1)"
            ]
          },
          "metadata": {
            "tags": []
          },
          "execution_count": 48
        }
      ]
    },
    {
      "cell_type": "markdown",
      "metadata": {
        "id": "sAew9X3uPIfX",
        "colab_type": "text"
      },
      "source": [
        "## Regressão polinomial"
      ]
    },
    {
      "cell_type": "markdown",
      "metadata": {
        "id": "hEq0xD_HpNTO",
        "colab_type": "text"
      },
      "source": [
        "### Construção do modelo"
      ]
    },
    {
      "cell_type": "code",
      "metadata": {
        "id": "dB1daYmWTgml",
        "colab_type": "code",
        "colab": {}
      },
      "source": [
        "from sklearn.preprocessing import PolynomialFeatures"
      ],
      "execution_count": null,
      "outputs": []
    },
    {
      "cell_type": "code",
      "metadata": {
        "id": "RltZE787TpGd",
        "colab_type": "code",
        "colab": {}
      },
      "source": [
        "poly = PolynomialFeatures(degree=4)\n",
        "X_train_poly = poly.fit_transform(X_train)\n",
        "X_test_poly = poly.transform(X_test)"
      ],
      "execution_count": null,
      "outputs": []
    },
    {
      "cell_type": "code",
      "metadata": {
        "id": "cyYXTn0kUbie",
        "colab_type": "code",
        "colab": {
          "base_uri": "https://localhost:8080/",
          "height": 34
        },
        "outputId": "be26fa5a-7967-4389-877a-edcfbd332ba7"
      },
      "source": [
        "X_train_poly.shape"
      ],
      "execution_count": null,
      "outputs": [
        {
          "output_type": "execute_result",
          "data": {
            "text/plain": [
              "(107, 5)"
            ]
          },
          "metadata": {
            "tags": []
          },
          "execution_count": 51
        }
      ]
    },
    {
      "cell_type": "code",
      "metadata": {
        "id": "gxD4OJDfUiqX",
        "colab_type": "code",
        "colab": {
          "base_uri": "https://localhost:8080/",
          "height": 34
        },
        "outputId": "6cbbdc43-e05d-4c8b-d546-0970b7517985"
      },
      "source": [
        "X_test_poly.shape"
      ],
      "execution_count": null,
      "outputs": [
        {
          "output_type": "execute_result",
          "data": {
            "text/plain": [
              "(20, 5)"
            ]
          },
          "metadata": {
            "tags": []
          },
          "execution_count": 52
        }
      ]
    },
    {
      "cell_type": "code",
      "metadata": {
        "id": "sUcRZFBAUni3",
        "colab_type": "code",
        "colab": {
          "base_uri": "https://localhost:8080/",
          "height": 721
        },
        "outputId": "7d448dd9-5635-4643-bfb4-62dff52c48d1"
      },
      "source": [
        "X_test_poly"
      ],
      "execution_count": null,
      "outputs": [
        {
          "output_type": "execute_result",
          "data": {
            "text/plain": [
              "array([[1.00000000e+00, 1.07000000e+02, 1.14490000e+04, 1.22504300e+06,\n",
              "        1.31079601e+08],\n",
              "       [1.00000000e+00, 1.08000000e+02, 1.16640000e+04, 1.25971200e+06,\n",
              "        1.36048896e+08],\n",
              "       [1.00000000e+00, 1.09000000e+02, 1.18810000e+04, 1.29502900e+06,\n",
              "        1.41158161e+08],\n",
              "       [1.00000000e+00, 1.10000000e+02, 1.21000000e+04, 1.33100000e+06,\n",
              "        1.46410000e+08],\n",
              "       [1.00000000e+00, 1.11000000e+02, 1.23210000e+04, 1.36763100e+06,\n",
              "        1.51807041e+08],\n",
              "       [1.00000000e+00, 1.12000000e+02, 1.25440000e+04, 1.40492800e+06,\n",
              "        1.57351936e+08],\n",
              "       [1.00000000e+00, 1.13000000e+02, 1.27690000e+04, 1.44289700e+06,\n",
              "        1.63047361e+08],\n",
              "       [1.00000000e+00, 1.14000000e+02, 1.29960000e+04, 1.48154400e+06,\n",
              "        1.68896016e+08],\n",
              "       [1.00000000e+00, 1.15000000e+02, 1.32250000e+04, 1.52087500e+06,\n",
              "        1.74900625e+08],\n",
              "       [1.00000000e+00, 1.16000000e+02, 1.34560000e+04, 1.56089600e+06,\n",
              "        1.81063936e+08],\n",
              "       [1.00000000e+00, 1.17000000e+02, 1.36890000e+04, 1.60161300e+06,\n",
              "        1.87388721e+08],\n",
              "       [1.00000000e+00, 1.18000000e+02, 1.39240000e+04, 1.64303200e+06,\n",
              "        1.93877776e+08],\n",
              "       [1.00000000e+00, 1.19000000e+02, 1.41610000e+04, 1.68515900e+06,\n",
              "        2.00533921e+08],\n",
              "       [1.00000000e+00, 1.20000000e+02, 1.44000000e+04, 1.72800000e+06,\n",
              "        2.07360000e+08],\n",
              "       [1.00000000e+00, 1.21000000e+02, 1.46410000e+04, 1.77156100e+06,\n",
              "        2.14358881e+08],\n",
              "       [1.00000000e+00, 1.22000000e+02, 1.48840000e+04, 1.81584800e+06,\n",
              "        2.21533456e+08],\n",
              "       [1.00000000e+00, 1.23000000e+02, 1.51290000e+04, 1.86086700e+06,\n",
              "        2.28886641e+08],\n",
              "       [1.00000000e+00, 1.24000000e+02, 1.53760000e+04, 1.90662400e+06,\n",
              "        2.36421376e+08],\n",
              "       [1.00000000e+00, 1.25000000e+02, 1.56250000e+04, 1.95312500e+06,\n",
              "        2.44140625e+08],\n",
              "       [1.00000000e+00, 1.26000000e+02, 1.58760000e+04, 2.00037600e+06,\n",
              "        2.52047376e+08]])"
            ]
          },
          "metadata": {
            "tags": []
          },
          "execution_count": 53
        }
      ]
    },
    {
      "cell_type": "code",
      "metadata": {
        "id": "McTunJklUwZb",
        "colab_type": "code",
        "colab": {
          "base_uri": "https://localhost:8080/",
          "height": 34
        },
        "outputId": "3f2136aa-6e53-435d-aa52-07a0a50fa511"
      },
      "source": [
        "from sklearn.linear_model import LinearRegression\n",
        "regressor = LinearRegression()\n",
        "regressor.fit(X_train_poly, y_train)"
      ],
      "execution_count": null,
      "outputs": [
        {
          "output_type": "execute_result",
          "data": {
            "text/plain": [
              "LinearRegression(copy_X=True, fit_intercept=True, n_jobs=None, normalize=False)"
            ]
          },
          "metadata": {
            "tags": []
          },
          "execution_count": 54
        }
      ]
    },
    {
      "cell_type": "markdown",
      "metadata": {
        "id": "Stdh2HzlpnmO",
        "colab_type": "text"
      },
      "source": [
        "### Previsões"
      ]
    },
    {
      "cell_type": "code",
      "metadata": {
        "id": "qVevGr-lV2bm",
        "colab_type": "code",
        "colab": {
          "base_uri": "https://localhost:8080/",
          "height": 369
        },
        "outputId": "7a524e25-a57c-4285-c327-a7e75f29d67d"
      },
      "source": [
        "poly_test_pred = regressor.predict(X_test_poly)\n",
        "poly_test_pred"
      ],
      "execution_count": null,
      "outputs": [
        {
          "output_type": "execute_result",
          "data": {
            "text/plain": [
              "array([[281886.59844666],\n",
              "       [287494.84147562],\n",
              "       [292937.4881555 ],\n",
              "       [298200.59868009],\n",
              "       [303269.94484538],\n",
              "       [308131.01004952],\n",
              "       [312768.98929291],\n",
              "       [317168.78917809],\n",
              "       [321315.02790985],\n",
              "       [325192.03529514],\n",
              "       [328783.85274312],\n",
              "       [332074.23326514],\n",
              "       [335046.64147476],\n",
              "       [337684.25358771],\n",
              "       [339969.95742194],\n",
              "       [341886.35239759],\n",
              "       [343415.74953699],\n",
              "       [344540.17146468],\n",
              "       [345241.35240738],\n",
              "       [345500.73819401]])"
            ]
          },
          "metadata": {
            "tags": []
          },
          "execution_count": 55
        }
      ]
    },
    {
      "cell_type": "code",
      "metadata": {
        "id": "cKHq_ag6WKZX",
        "colab_type": "code",
        "colab": {
          "base_uri": "https://localhost:8080/",
          "height": 369
        },
        "outputId": "aac25ec7-21d0-4f37-ab5b-359454a66cb1"
      },
      "source": [
        "y_test"
      ],
      "execution_count": null,
      "outputs": [
        {
          "output_type": "execute_result",
          "data": {
            "text/plain": [
              "array([[274898],\n",
              "       [279311],\n",
              "       [282709],\n",
              "       [286330],\n",
              "       [291942],\n",
              "       [297197],\n",
              "       [302418],\n",
              "       [307666],\n",
              "       [311781],\n",
              "       [315185],\n",
              "       [318481],\n",
              "       [323285],\n",
              "       [328115],\n",
              "       [332924],\n",
              "       [338234],\n",
              "       [342214],\n",
              "       [345059],\n",
              "       [346232],\n",
              "       [350453],\n",
              "       [355629]])"
            ]
          },
          "metadata": {
            "tags": []
          },
          "execution_count": 56
        }
      ]
    },
    {
      "cell_type": "code",
      "metadata": {
        "id": "eYiBtZf3WeRx",
        "colab_type": "code",
        "colab": {
          "base_uri": "https://localhost:8080/",
          "height": 351
        },
        "outputId": "fe8c5114-5e32-46a3-9b1f-3b779304b6cb"
      },
      "source": [
        "plt.plot(poly_test_pred, linestyle = 'dashed')\n",
        "plt.plot(y_test);"
      ],
      "execution_count": null,
      "outputs": [
        {
          "output_type": "display_data",
          "data": {
            "text/plain": [
              "<Figure size 432x288 with 1 Axes>"
            ],
            "image/svg+xml": "<?xml version=\"1.0\" encoding=\"utf-8\" standalone=\"no\"?>\n<!DOCTYPE svg PUBLIC \"-//W3C//DTD SVG 1.1//EN\"\n  \"http://www.w3.org/Graphics/SVG/1.1/DTD/svg11.dtd\">\n<!-- Created with matplotlib (https://matplotlib.org/) -->\n<svg height=\"248.518125pt\" version=\"1.1\" viewBox=\"0 0 394.375 248.518125\" width=\"394.375pt\" xmlns=\"http://www.w3.org/2000/svg\" xmlns:xlink=\"http://www.w3.org/1999/xlink\">\n <defs>\n  <style type=\"text/css\">\n*{stroke-linecap:butt;stroke-linejoin:round;}\n  </style>\n </defs>\n <g id=\"figure_1\">\n  <g id=\"patch_1\">\n   <path d=\"M 0 248.518125 \nL 394.375 248.518125 \nL 394.375 0 \nL 0 0 \nz\n\" style=\"fill:none;\"/>\n  </g>\n  <g id=\"axes_1\">\n   <g id=\"patch_2\">\n    <path d=\"M 52.375 224.64 \nL 387.175 224.64 \nL 387.175 7.2 \nL 52.375 7.2 \nz\n\" style=\"fill:#ffffff;\"/>\n   </g>\n   <g id=\"matplotlib.axis_1\">\n    <g id=\"xtick_1\">\n     <g id=\"line2d_1\">\n      <defs>\n       <path d=\"M 0 0 \nL 0 3.5 \n\" id=\"m883f3126f8\" style=\"stroke:#000000;stroke-width:0.8;\"/>\n      </defs>\n      <g>\n       <use style=\"stroke:#000000;stroke-width:0.8;\" x=\"67.593182\" xlink:href=\"#m883f3126f8\" y=\"224.64\"/>\n      </g>\n     </g>\n     <g id=\"text_1\">\n      <!-- 0.0 -->\n      <defs>\n       <path d=\"M 31.78125 66.40625 \nQ 24.171875 66.40625 20.328125 58.90625 \nQ 16.5 51.421875 16.5 36.375 \nQ 16.5 21.390625 20.328125 13.890625 \nQ 24.171875 6.390625 31.78125 6.390625 \nQ 39.453125 6.390625 43.28125 13.890625 \nQ 47.125 21.390625 47.125 36.375 \nQ 47.125 51.421875 43.28125 58.90625 \nQ 39.453125 66.40625 31.78125 66.40625 \nz\nM 31.78125 74.21875 \nQ 44.046875 74.21875 50.515625 64.515625 \nQ 56.984375 54.828125 56.984375 36.375 \nQ 56.984375 17.96875 50.515625 8.265625 \nQ 44.046875 -1.421875 31.78125 -1.421875 \nQ 19.53125 -1.421875 13.0625 8.265625 \nQ 6.59375 17.96875 6.59375 36.375 \nQ 6.59375 54.828125 13.0625 64.515625 \nQ 19.53125 74.21875 31.78125 74.21875 \nz\n\" id=\"DejaVuSans-48\"/>\n       <path d=\"M 10.6875 12.40625 \nL 21 12.40625 \nL 21 0 \nL 10.6875 0 \nz\n\" id=\"DejaVuSans-46\"/>\n      </defs>\n      <g transform=\"translate(59.641619 239.238437)scale(0.1 -0.1)\">\n       <use xlink:href=\"#DejaVuSans-48\"/>\n       <use x=\"63.623047\" xlink:href=\"#DejaVuSans-46\"/>\n       <use x=\"95.410156\" xlink:href=\"#DejaVuSans-48\"/>\n      </g>\n     </g>\n    </g>\n    <g id=\"xtick_2\">\n     <g id=\"line2d_2\">\n      <g>\n       <use style=\"stroke:#000000;stroke-width:0.8;\" x=\"107.641029\" xlink:href=\"#m883f3126f8\" y=\"224.64\"/>\n      </g>\n     </g>\n     <g id=\"text_2\">\n      <!-- 2.5 -->\n      <defs>\n       <path d=\"M 19.1875 8.296875 \nL 53.609375 8.296875 \nL 53.609375 0 \nL 7.328125 0 \nL 7.328125 8.296875 \nQ 12.9375 14.109375 22.625 23.890625 \nQ 32.328125 33.6875 34.8125 36.53125 \nQ 39.546875 41.84375 41.421875 45.53125 \nQ 43.3125 49.21875 43.3125 52.78125 \nQ 43.3125 58.59375 39.234375 62.25 \nQ 35.15625 65.921875 28.609375 65.921875 \nQ 23.96875 65.921875 18.8125 64.3125 \nQ 13.671875 62.703125 7.8125 59.421875 \nL 7.8125 69.390625 \nQ 13.765625 71.78125 18.9375 73 \nQ 24.125 74.21875 28.421875 74.21875 \nQ 39.75 74.21875 46.484375 68.546875 \nQ 53.21875 62.890625 53.21875 53.421875 \nQ 53.21875 48.921875 51.53125 44.890625 \nQ 49.859375 40.875 45.40625 35.40625 \nQ 44.1875 33.984375 37.640625 27.21875 \nQ 31.109375 20.453125 19.1875 8.296875 \nz\n\" id=\"DejaVuSans-50\"/>\n       <path d=\"M 10.796875 72.90625 \nL 49.515625 72.90625 \nL 49.515625 64.59375 \nL 19.828125 64.59375 \nL 19.828125 46.734375 \nQ 21.96875 47.46875 24.109375 47.828125 \nQ 26.265625 48.1875 28.421875 48.1875 \nQ 40.625 48.1875 47.75 41.5 \nQ 54.890625 34.8125 54.890625 23.390625 \nQ 54.890625 11.625 47.5625 5.09375 \nQ 40.234375 -1.421875 26.90625 -1.421875 \nQ 22.3125 -1.421875 17.546875 -0.640625 \nQ 12.796875 0.140625 7.71875 1.703125 \nL 7.71875 11.625 \nQ 12.109375 9.234375 16.796875 8.0625 \nQ 21.484375 6.890625 26.703125 6.890625 \nQ 35.15625 6.890625 40.078125 11.328125 \nQ 45.015625 15.765625 45.015625 23.390625 \nQ 45.015625 31 40.078125 35.4375 \nQ 35.15625 39.890625 26.703125 39.890625 \nQ 22.75 39.890625 18.8125 39.015625 \nQ 14.890625 38.140625 10.796875 36.28125 \nz\n\" id=\"DejaVuSans-53\"/>\n      </defs>\n      <g transform=\"translate(99.689466 239.238437)scale(0.1 -0.1)\">\n       <use xlink:href=\"#DejaVuSans-50\"/>\n       <use x=\"63.623047\" xlink:href=\"#DejaVuSans-46\"/>\n       <use x=\"95.410156\" xlink:href=\"#DejaVuSans-53\"/>\n      </g>\n     </g>\n    </g>\n    <g id=\"xtick_3\">\n     <g id=\"line2d_3\">\n      <g>\n       <use style=\"stroke:#000000;stroke-width:0.8;\" x=\"147.688876\" xlink:href=\"#m883f3126f8\" y=\"224.64\"/>\n      </g>\n     </g>\n     <g id=\"text_3\">\n      <!-- 5.0 -->\n      <g transform=\"translate(139.737313 239.238437)scale(0.1 -0.1)\">\n       <use xlink:href=\"#DejaVuSans-53\"/>\n       <use x=\"63.623047\" xlink:href=\"#DejaVuSans-46\"/>\n       <use x=\"95.410156\" xlink:href=\"#DejaVuSans-48\"/>\n      </g>\n     </g>\n    </g>\n    <g id=\"xtick_4\">\n     <g id=\"line2d_4\">\n      <g>\n       <use style=\"stroke:#000000;stroke-width:0.8;\" x=\"187.736722\" xlink:href=\"#m883f3126f8\" y=\"224.64\"/>\n      </g>\n     </g>\n     <g id=\"text_4\">\n      <!-- 7.5 -->\n      <defs>\n       <path d=\"M 8.203125 72.90625 \nL 55.078125 72.90625 \nL 55.078125 68.703125 \nL 28.609375 0 \nL 18.3125 0 \nL 43.21875 64.59375 \nL 8.203125 64.59375 \nz\n\" id=\"DejaVuSans-55\"/>\n      </defs>\n      <g transform=\"translate(179.78516 239.238437)scale(0.1 -0.1)\">\n       <use xlink:href=\"#DejaVuSans-55\"/>\n       <use x=\"63.623047\" xlink:href=\"#DejaVuSans-46\"/>\n       <use x=\"95.410156\" xlink:href=\"#DejaVuSans-53\"/>\n      </g>\n     </g>\n    </g>\n    <g id=\"xtick_5\">\n     <g id=\"line2d_5\">\n      <g>\n       <use style=\"stroke:#000000;stroke-width:0.8;\" x=\"227.784569\" xlink:href=\"#m883f3126f8\" y=\"224.64\"/>\n      </g>\n     </g>\n     <g id=\"text_5\">\n      <!-- 10.0 -->\n      <defs>\n       <path d=\"M 12.40625 8.296875 \nL 28.515625 8.296875 \nL 28.515625 63.921875 \nL 10.984375 60.40625 \nL 10.984375 69.390625 \nL 28.421875 72.90625 \nL 38.28125 72.90625 \nL 38.28125 8.296875 \nL 54.390625 8.296875 \nL 54.390625 0 \nL 12.40625 0 \nz\n\" id=\"DejaVuSans-49\"/>\n      </defs>\n      <g transform=\"translate(216.651757 239.238437)scale(0.1 -0.1)\">\n       <use xlink:href=\"#DejaVuSans-49\"/>\n       <use x=\"63.623047\" xlink:href=\"#DejaVuSans-48\"/>\n       <use x=\"127.246094\" xlink:href=\"#DejaVuSans-46\"/>\n       <use x=\"159.033203\" xlink:href=\"#DejaVuSans-48\"/>\n      </g>\n     </g>\n    </g>\n    <g id=\"xtick_6\">\n     <g id=\"line2d_6\">\n      <g>\n       <use style=\"stroke:#000000;stroke-width:0.8;\" x=\"267.832416\" xlink:href=\"#m883f3126f8\" y=\"224.64\"/>\n      </g>\n     </g>\n     <g id=\"text_6\">\n      <!-- 12.5 -->\n      <g transform=\"translate(256.699604 239.238437)scale(0.1 -0.1)\">\n       <use xlink:href=\"#DejaVuSans-49\"/>\n       <use x=\"63.623047\" xlink:href=\"#DejaVuSans-50\"/>\n       <use x=\"127.246094\" xlink:href=\"#DejaVuSans-46\"/>\n       <use x=\"159.033203\" xlink:href=\"#DejaVuSans-53\"/>\n      </g>\n     </g>\n    </g>\n    <g id=\"xtick_7\">\n     <g id=\"line2d_7\">\n      <g>\n       <use style=\"stroke:#000000;stroke-width:0.8;\" x=\"307.880263\" xlink:href=\"#m883f3126f8\" y=\"224.64\"/>\n      </g>\n     </g>\n     <g id=\"text_7\">\n      <!-- 15.0 -->\n      <g transform=\"translate(296.747451 239.238437)scale(0.1 -0.1)\">\n       <use xlink:href=\"#DejaVuSans-49\"/>\n       <use x=\"63.623047\" xlink:href=\"#DejaVuSans-53\"/>\n       <use x=\"127.246094\" xlink:href=\"#DejaVuSans-46\"/>\n       <use x=\"159.033203\" xlink:href=\"#DejaVuSans-48\"/>\n      </g>\n     </g>\n    </g>\n    <g id=\"xtick_8\">\n     <g id=\"line2d_8\">\n      <g>\n       <use style=\"stroke:#000000;stroke-width:0.8;\" x=\"347.92811\" xlink:href=\"#m883f3126f8\" y=\"224.64\"/>\n      </g>\n     </g>\n     <g id=\"text_8\">\n      <!-- 17.5 -->\n      <g transform=\"translate(336.795298 239.238437)scale(0.1 -0.1)\">\n       <use xlink:href=\"#DejaVuSans-49\"/>\n       <use x=\"63.623047\" xlink:href=\"#DejaVuSans-55\"/>\n       <use x=\"127.246094\" xlink:href=\"#DejaVuSans-46\"/>\n       <use x=\"159.033203\" xlink:href=\"#DejaVuSans-53\"/>\n      </g>\n     </g>\n    </g>\n   </g>\n   <g id=\"matplotlib.axis_2\">\n    <g id=\"ytick_1\">\n     <g id=\"line2d_9\">\n      <defs>\n       <path d=\"M 0 0 \nL -3.5 0 \n\" id=\"m6c8f2ae4f3\" style=\"stroke:#000000;stroke-width:0.8;\"/>\n      </defs>\n      <g>\n       <use style=\"stroke:#000000;stroke-width:0.8;\" x=\"52.375\" xlink:href=\"#m6c8f2ae4f3\" y=\"202.263935\"/>\n      </g>\n     </g>\n     <g id=\"text_9\">\n      <!-- 280000 -->\n      <defs>\n       <path d=\"M 31.78125 34.625 \nQ 24.75 34.625 20.71875 30.859375 \nQ 16.703125 27.09375 16.703125 20.515625 \nQ 16.703125 13.921875 20.71875 10.15625 \nQ 24.75 6.390625 31.78125 6.390625 \nQ 38.8125 6.390625 42.859375 10.171875 \nQ 46.921875 13.96875 46.921875 20.515625 \nQ 46.921875 27.09375 42.890625 30.859375 \nQ 38.875 34.625 31.78125 34.625 \nz\nM 21.921875 38.8125 \nQ 15.578125 40.375 12.03125 44.71875 \nQ 8.5 49.078125 8.5 55.328125 \nQ 8.5 64.0625 14.71875 69.140625 \nQ 20.953125 74.21875 31.78125 74.21875 \nQ 42.671875 74.21875 48.875 69.140625 \nQ 55.078125 64.0625 55.078125 55.328125 \nQ 55.078125 49.078125 51.53125 44.71875 \nQ 48 40.375 41.703125 38.8125 \nQ 48.828125 37.15625 52.796875 32.3125 \nQ 56.78125 27.484375 56.78125 20.515625 \nQ 56.78125 9.90625 50.3125 4.234375 \nQ 43.84375 -1.421875 31.78125 -1.421875 \nQ 19.734375 -1.421875 13.25 4.234375 \nQ 6.78125 9.90625 6.78125 20.515625 \nQ 6.78125 27.484375 10.78125 32.3125 \nQ 14.796875 37.15625 21.921875 38.8125 \nz\nM 18.3125 54.390625 \nQ 18.3125 48.734375 21.84375 45.5625 \nQ 25.390625 42.390625 31.78125 42.390625 \nQ 38.140625 42.390625 41.71875 45.5625 \nQ 45.3125 48.734375 45.3125 54.390625 \nQ 45.3125 60.0625 41.71875 63.234375 \nQ 38.140625 66.40625 31.78125 66.40625 \nQ 25.390625 66.40625 21.84375 63.234375 \nQ 18.3125 60.0625 18.3125 54.390625 \nz\n\" id=\"DejaVuSans-56\"/>\n      </defs>\n      <g transform=\"translate(7.2 206.063154)scale(0.1 -0.1)\">\n       <use xlink:href=\"#DejaVuSans-50\"/>\n       <use x=\"63.623047\" xlink:href=\"#DejaVuSans-56\"/>\n       <use x=\"127.246094\" xlink:href=\"#DejaVuSans-48\"/>\n       <use x=\"190.869141\" xlink:href=\"#DejaVuSans-48\"/>\n       <use x=\"254.492188\" xlink:href=\"#DejaVuSans-48\"/>\n       <use x=\"318.115234\" xlink:href=\"#DejaVuSans-48\"/>\n      </g>\n     </g>\n    </g>\n    <g id=\"ytick_2\">\n     <g id=\"line2d_10\">\n      <g>\n       <use style=\"stroke:#000000;stroke-width:0.8;\" x=\"52.375\" xlink:href=\"#m6c8f2ae4f3\" y=\"177.778579\"/>\n      </g>\n     </g>\n     <g id=\"text_10\">\n      <!-- 290000 -->\n      <defs>\n       <path d=\"M 10.984375 1.515625 \nL 10.984375 10.5 \nQ 14.703125 8.734375 18.5 7.8125 \nQ 22.3125 6.890625 25.984375 6.890625 \nQ 35.75 6.890625 40.890625 13.453125 \nQ 46.046875 20.015625 46.78125 33.40625 \nQ 43.953125 29.203125 39.59375 26.953125 \nQ 35.25 24.703125 29.984375 24.703125 \nQ 19.046875 24.703125 12.671875 31.3125 \nQ 6.296875 37.9375 6.296875 49.421875 \nQ 6.296875 60.640625 12.9375 67.421875 \nQ 19.578125 74.21875 30.609375 74.21875 \nQ 43.265625 74.21875 49.921875 64.515625 \nQ 56.59375 54.828125 56.59375 36.375 \nQ 56.59375 19.140625 48.40625 8.859375 \nQ 40.234375 -1.421875 26.421875 -1.421875 \nQ 22.703125 -1.421875 18.890625 -0.6875 \nQ 15.09375 0.046875 10.984375 1.515625 \nz\nM 30.609375 32.421875 \nQ 37.25 32.421875 41.125 36.953125 \nQ 45.015625 41.5 45.015625 49.421875 \nQ 45.015625 57.28125 41.125 61.84375 \nQ 37.25 66.40625 30.609375 66.40625 \nQ 23.96875 66.40625 20.09375 61.84375 \nQ 16.21875 57.28125 16.21875 49.421875 \nQ 16.21875 41.5 20.09375 36.953125 \nQ 23.96875 32.421875 30.609375 32.421875 \nz\n\" id=\"DejaVuSans-57\"/>\n      </defs>\n      <g transform=\"translate(7.2 181.577798)scale(0.1 -0.1)\">\n       <use xlink:href=\"#DejaVuSans-50\"/>\n       <use x=\"63.623047\" xlink:href=\"#DejaVuSans-57\"/>\n       <use x=\"127.246094\" xlink:href=\"#DejaVuSans-48\"/>\n       <use x=\"190.869141\" xlink:href=\"#DejaVuSans-48\"/>\n       <use x=\"254.492188\" xlink:href=\"#DejaVuSans-48\"/>\n       <use x=\"318.115234\" xlink:href=\"#DejaVuSans-48\"/>\n      </g>\n     </g>\n    </g>\n    <g id=\"ytick_3\">\n     <g id=\"line2d_11\">\n      <g>\n       <use style=\"stroke:#000000;stroke-width:0.8;\" x=\"52.375\" xlink:href=\"#m6c8f2ae4f3\" y=\"153.293223\"/>\n      </g>\n     </g>\n     <g id=\"text_11\">\n      <!-- 300000 -->\n      <defs>\n       <path d=\"M 40.578125 39.3125 \nQ 47.65625 37.796875 51.625 33 \nQ 55.609375 28.21875 55.609375 21.1875 \nQ 55.609375 10.40625 48.1875 4.484375 \nQ 40.765625 -1.421875 27.09375 -1.421875 \nQ 22.515625 -1.421875 17.65625 -0.515625 \nQ 12.796875 0.390625 7.625 2.203125 \nL 7.625 11.71875 \nQ 11.71875 9.328125 16.59375 8.109375 \nQ 21.484375 6.890625 26.8125 6.890625 \nQ 36.078125 6.890625 40.9375 10.546875 \nQ 45.796875 14.203125 45.796875 21.1875 \nQ 45.796875 27.640625 41.28125 31.265625 \nQ 36.765625 34.90625 28.71875 34.90625 \nL 20.21875 34.90625 \nL 20.21875 43.015625 \nL 29.109375 43.015625 \nQ 36.375 43.015625 40.234375 45.921875 \nQ 44.09375 48.828125 44.09375 54.296875 \nQ 44.09375 59.90625 40.109375 62.90625 \nQ 36.140625 65.921875 28.71875 65.921875 \nQ 24.65625 65.921875 20.015625 65.03125 \nQ 15.375 64.15625 9.8125 62.3125 \nL 9.8125 71.09375 \nQ 15.4375 72.65625 20.34375 73.4375 \nQ 25.25 74.21875 29.59375 74.21875 \nQ 40.828125 74.21875 47.359375 69.109375 \nQ 53.90625 64.015625 53.90625 55.328125 \nQ 53.90625 49.265625 50.4375 45.09375 \nQ 46.96875 40.921875 40.578125 39.3125 \nz\n\" id=\"DejaVuSans-51\"/>\n      </defs>\n      <g transform=\"translate(7.2 157.092442)scale(0.1 -0.1)\">\n       <use xlink:href=\"#DejaVuSans-51\"/>\n       <use x=\"63.623047\" xlink:href=\"#DejaVuSans-48\"/>\n       <use x=\"127.246094\" xlink:href=\"#DejaVuSans-48\"/>\n       <use x=\"190.869141\" xlink:href=\"#DejaVuSans-48\"/>\n       <use x=\"254.492188\" xlink:href=\"#DejaVuSans-48\"/>\n       <use x=\"318.115234\" xlink:href=\"#DejaVuSans-48\"/>\n      </g>\n     </g>\n    </g>\n    <g id=\"ytick_4\">\n     <g id=\"line2d_12\">\n      <g>\n       <use style=\"stroke:#000000;stroke-width:0.8;\" x=\"52.375\" xlink:href=\"#m6c8f2ae4f3\" y=\"128.807867\"/>\n      </g>\n     </g>\n     <g id=\"text_12\">\n      <!-- 310000 -->\n      <g transform=\"translate(7.2 132.607086)scale(0.1 -0.1)\">\n       <use xlink:href=\"#DejaVuSans-51\"/>\n       <use x=\"63.623047\" xlink:href=\"#DejaVuSans-49\"/>\n       <use x=\"127.246094\" xlink:href=\"#DejaVuSans-48\"/>\n       <use x=\"190.869141\" xlink:href=\"#DejaVuSans-48\"/>\n       <use x=\"254.492188\" xlink:href=\"#DejaVuSans-48\"/>\n       <use x=\"318.115234\" xlink:href=\"#DejaVuSans-48\"/>\n      </g>\n     </g>\n    </g>\n    <g id=\"ytick_5\">\n     <g id=\"line2d_13\">\n      <g>\n       <use style=\"stroke:#000000;stroke-width:0.8;\" x=\"52.375\" xlink:href=\"#m6c8f2ae4f3\" y=\"104.322511\"/>\n      </g>\n     </g>\n     <g id=\"text_13\">\n      <!-- 320000 -->\n      <g transform=\"translate(7.2 108.12173)scale(0.1 -0.1)\">\n       <use xlink:href=\"#DejaVuSans-51\"/>\n       <use x=\"63.623047\" xlink:href=\"#DejaVuSans-50\"/>\n       <use x=\"127.246094\" xlink:href=\"#DejaVuSans-48\"/>\n       <use x=\"190.869141\" xlink:href=\"#DejaVuSans-48\"/>\n       <use x=\"254.492188\" xlink:href=\"#DejaVuSans-48\"/>\n       <use x=\"318.115234\" xlink:href=\"#DejaVuSans-48\"/>\n      </g>\n     </g>\n    </g>\n    <g id=\"ytick_6\">\n     <g id=\"line2d_14\">\n      <g>\n       <use style=\"stroke:#000000;stroke-width:0.8;\" x=\"52.375\" xlink:href=\"#m6c8f2ae4f3\" y=\"79.837155\"/>\n      </g>\n     </g>\n     <g id=\"text_14\">\n      <!-- 330000 -->\n      <g transform=\"translate(7.2 83.636374)scale(0.1 -0.1)\">\n       <use xlink:href=\"#DejaVuSans-51\"/>\n       <use x=\"63.623047\" xlink:href=\"#DejaVuSans-51\"/>\n       <use x=\"127.246094\" xlink:href=\"#DejaVuSans-48\"/>\n       <use x=\"190.869141\" xlink:href=\"#DejaVuSans-48\"/>\n       <use x=\"254.492188\" xlink:href=\"#DejaVuSans-48\"/>\n       <use x=\"318.115234\" xlink:href=\"#DejaVuSans-48\"/>\n      </g>\n     </g>\n    </g>\n    <g id=\"ytick_7\">\n     <g id=\"line2d_15\">\n      <g>\n       <use style=\"stroke:#000000;stroke-width:0.8;\" x=\"52.375\" xlink:href=\"#m6c8f2ae4f3\" y=\"55.351799\"/>\n      </g>\n     </g>\n     <g id=\"text_15\">\n      <!-- 340000 -->\n      <defs>\n       <path d=\"M 37.796875 64.3125 \nL 12.890625 25.390625 \nL 37.796875 25.390625 \nz\nM 35.203125 72.90625 \nL 47.609375 72.90625 \nL 47.609375 25.390625 \nL 58.015625 25.390625 \nL 58.015625 17.1875 \nL 47.609375 17.1875 \nL 47.609375 0 \nL 37.796875 0 \nL 37.796875 17.1875 \nL 4.890625 17.1875 \nL 4.890625 26.703125 \nz\n\" id=\"DejaVuSans-52\"/>\n      </defs>\n      <g transform=\"translate(7.2 59.151018)scale(0.1 -0.1)\">\n       <use xlink:href=\"#DejaVuSans-51\"/>\n       <use x=\"63.623047\" xlink:href=\"#DejaVuSans-52\"/>\n       <use x=\"127.246094\" xlink:href=\"#DejaVuSans-48\"/>\n       <use x=\"190.869141\" xlink:href=\"#DejaVuSans-48\"/>\n       <use x=\"254.492188\" xlink:href=\"#DejaVuSans-48\"/>\n       <use x=\"318.115234\" xlink:href=\"#DejaVuSans-48\"/>\n      </g>\n     </g>\n    </g>\n    <g id=\"ytick_8\">\n     <g id=\"line2d_16\">\n      <g>\n       <use style=\"stroke:#000000;stroke-width:0.8;\" x=\"52.375\" xlink:href=\"#m6c8f2ae4f3\" y=\"30.866443\"/>\n      </g>\n     </g>\n     <g id=\"text_16\">\n      <!-- 350000 -->\n      <g transform=\"translate(7.2 34.665662)scale(0.1 -0.1)\">\n       <use xlink:href=\"#DejaVuSans-51\"/>\n       <use x=\"63.623047\" xlink:href=\"#DejaVuSans-53\"/>\n       <use x=\"127.246094\" xlink:href=\"#DejaVuSans-48\"/>\n       <use x=\"190.869141\" xlink:href=\"#DejaVuSans-48\"/>\n       <use x=\"254.492188\" xlink:href=\"#DejaVuSans-48\"/>\n       <use x=\"318.115234\" xlink:href=\"#DejaVuSans-48\"/>\n      </g>\n     </g>\n    </g>\n   </g>\n   <g id=\"line2d_17\">\n    <path clip-path=\"url(#pc9b056057b)\" d=\"M 67.593182 197.644532 \nL 83.612321 183.912549 \nL 99.631459 170.586035 \nL 115.650598 157.699121 \nL 131.669737 145.286647 \nL 147.688876 133.384156 \nL 163.708014 122.027898 \nL 179.727153 111.254832 \nL 195.746292 101.102618 \nL 211.765431 91.609628 \nL 227.784569 82.814935 \nL 243.803708 74.758321 \nL 259.822847 67.480274 \nL 275.841986 61.021987 \nL 291.861124 55.42536 \nL 307.880263 50.732998 \nL 323.899402 46.988215 \nL 339.918541 44.235028 \nL 355.937679 42.518161 \nL 371.956818 41.883046 \n\" style=\"fill:none;stroke:#1f77b4;stroke-dasharray:5.55,2.4;stroke-dashoffset:0;stroke-width:1.5;\"/>\n   </g>\n   <g id=\"line2d_18\">\n    <path clip-path=\"url(#pc9b056057b)\" d=\"M 67.593182 214.756364 \nL 83.612321 203.950976 \nL 99.631459 195.630852 \nL 115.650598 186.764705 \nL 131.669737 173.023523 \nL 147.688876 160.156468 \nL 163.708014 147.372664 \nL 179.727153 134.522749 \nL 195.746292 124.447025 \nL 211.765431 116.11221 \nL 227.784569 108.041837 \nL 243.803708 96.279072 \nL 259.822847 84.452645 \nL 275.841986 72.677637 \nL 291.861124 59.675913 \nL 307.880263 49.930741 \nL 323.899402 42.964658 \nL 339.918541 40.092525 \nL 355.937679 29.757257 \nL 371.956818 17.083636 \n\" style=\"fill:none;stroke:#ff7f0e;stroke-linecap:square;stroke-width:1.5;\"/>\n   </g>\n   <g id=\"patch_3\">\n    <path d=\"M 52.375 224.64 \nL 52.375 7.2 \n\" style=\"fill:none;stroke:#000000;stroke-linecap:square;stroke-linejoin:miter;stroke-width:0.8;\"/>\n   </g>\n   <g id=\"patch_4\">\n    <path d=\"M 387.175 224.64 \nL 387.175 7.2 \n\" style=\"fill:none;stroke:#000000;stroke-linecap:square;stroke-linejoin:miter;stroke-width:0.8;\"/>\n   </g>\n   <g id=\"patch_5\">\n    <path d=\"M 52.375 224.64 \nL 387.175 224.64 \n\" style=\"fill:none;stroke:#000000;stroke-linecap:square;stroke-linejoin:miter;stroke-width:0.8;\"/>\n   </g>\n   <g id=\"patch_6\">\n    <path d=\"M 52.375 7.2 \nL 387.175 7.2 \n\" style=\"fill:none;stroke:#000000;stroke-linecap:square;stroke-linejoin:miter;stroke-width:0.8;\"/>\n   </g>\n  </g>\n </g>\n <defs>\n  <clipPath id=\"pc9b056057b\">\n   <rect height=\"217.44\" width=\"334.8\" x=\"52.375\" y=\"7.2\"/>\n  </clipPath>\n </defs>\n</svg>\n"
          },
          "metadata": {
            "tags": [],
            "needs_background": "light"
          }
        }
      ]
    },
    {
      "cell_type": "code",
      "metadata": {
        "id": "Jh4GSLGLWrdf",
        "colab_type": "code",
        "colab": {
          "base_uri": "https://localhost:8080/",
          "height": 70
        },
        "outputId": "aeda84a9-85c2-46bb-a796-ab6711e8a747"
      },
      "source": [
        "print('MAE:', mean_absolute_error(poly_test_pred, y_test))\n",
        "print('MSE:', mean_squared_error(poly_test_pred, y_test))\n",
        "print('RMSE:', np.sqrt(mean_absolute_error(poly_test_pred, y_test)))"
      ],
      "execution_count": null,
      "outputs": [
        {
          "output_type": "stream",
          "text": [
            "MAE: 7522.544891039166\n",
            "MSE: 69512083.32094584\n",
            "RMSE: 86.73260569727607\n"
          ],
          "name": "stdout"
        }
      ]
    },
    {
      "cell_type": "code",
      "metadata": {
        "id": "Yf24Kas8XRld",
        "colab_type": "code",
        "colab": {
          "base_uri": "https://localhost:8080/",
          "height": 34
        },
        "outputId": "dc4a0ba6-6db6-465d-8961-b662b9d78017"
      },
      "source": [
        "forecast.shape"
      ],
      "execution_count": null,
      "outputs": [
        {
          "output_type": "execute_result",
          "data": {
            "text/plain": [
              "(137, 1)"
            ]
          },
          "metadata": {
            "tags": []
          },
          "execution_count": 59
        }
      ]
    },
    {
      "cell_type": "code",
      "metadata": {
        "id": "rSkLKbUCXWRp",
        "colab_type": "code",
        "colab": {
          "base_uri": "https://localhost:8080/",
          "height": 34
        },
        "outputId": "b18e957b-8fae-4749-aef8-575cd69c6eea"
      },
      "source": [
        "X_train_all = poly.transform(forecast)\n",
        "X_train_all.shape"
      ],
      "execution_count": null,
      "outputs": [
        {
          "output_type": "execute_result",
          "data": {
            "text/plain": [
              "(137, 5)"
            ]
          },
          "metadata": {
            "tags": []
          },
          "execution_count": 60
        }
      ]
    },
    {
      "cell_type": "code",
      "metadata": {
        "id": "jyeg5b1mXjqH",
        "colab_type": "code",
        "colab": {
          "base_uri": "https://localhost:8080/",
          "height": 34
        },
        "outputId": "f22500b4-391f-4d67-88ff-d4a07a774313"
      },
      "source": [
        "poly_pred_all = regressor.predict(X_train_all)\n",
        "len(poly_pred_all)"
      ],
      "execution_count": null,
      "outputs": [
        {
          "output_type": "execute_result",
          "data": {
            "text/plain": [
              "137"
            ]
          },
          "metadata": {
            "tags": []
          },
          "execution_count": 61
        }
      ]
    },
    {
      "cell_type": "code",
      "metadata": {
        "id": "tfbuBdQTXxsG",
        "colab_type": "code",
        "colab": {
          "base_uri": "https://localhost:8080/",
          "height": 390
        },
        "outputId": "fa5699b6-7019-4967-8880-5847a3fe7a03"
      },
      "source": [
        "plt.plot(forecast[:-10], y, color='red')\n",
        "plt.plot(forecast, poly_pred_all, linestyle='dashed')\n",
        "plt.title('Deaths of COVID-19')\n",
        "plt.xlabel('Days since 1/22/2020')\n",
        "plt.ylabel('Number of deaths')\n",
        "plt.legend(['Death cases', 'Predictions']);"
      ],
      "execution_count": null,
      "outputs": [
        {
          "output_type": "display_data",
          "data": {
            "text/plain": [
              "<Figure size 432x288 with 1 Axes>"
            ],
            "image/svg+xml": "<?xml version=\"1.0\" encoding=\"utf-8\" standalone=\"no\"?>\n<!DOCTYPE svg PUBLIC \"-//W3C//DTD SVG 1.1//EN\"\n  \"http://www.w3.org/Graphics/SVG/1.1/DTD/svg11.dtd\">\n<!-- Created with matplotlib (https://matplotlib.org/) -->\n<svg height=\"277.314375pt\" version=\"1.1\" viewBox=\"0 0 411.330565 277.314375\" width=\"411.330565pt\" xmlns=\"http://www.w3.org/2000/svg\" xmlns:xlink=\"http://www.w3.org/1999/xlink\">\n <defs>\n  <style type=\"text/css\">\n*{stroke-linecap:butt;stroke-linejoin:round;}\n  </style>\n </defs>\n <g id=\"figure_1\">\n  <g id=\"patch_1\">\n   <path d=\"M 0 277.314375 \nL 411.330565 277.314375 \nL 411.330565 0 \nL 0 0 \nz\n\" style=\"fill:none;\"/>\n  </g>\n  <g id=\"axes_1\">\n   <g id=\"patch_2\">\n    <path d=\"M 66.053125 239.758125 \nL 400.853125 239.758125 \nL 400.853125 22.318125 \nL 66.053125 22.318125 \nz\n\" style=\"fill:#ffffff;\"/>\n   </g>\n   <g id=\"matplotlib.axis_1\">\n    <g id=\"xtick_1\">\n     <g id=\"line2d_1\">\n      <defs>\n       <path d=\"M 0 0 \nL 0 3.5 \n\" id=\"m0f771c5306\" style=\"stroke:#000000;stroke-width:0.8;\"/>\n      </defs>\n      <g>\n       <use style=\"stroke:#000000;stroke-width:0.8;\" x=\"81.271307\" xlink:href=\"#m0f771c5306\" y=\"239.758125\"/>\n      </g>\n     </g>\n     <g id=\"text_1\">\n      <!-- 0 -->\n      <defs>\n       <path d=\"M 31.78125 66.40625 \nQ 24.171875 66.40625 20.328125 58.90625 \nQ 16.5 51.421875 16.5 36.375 \nQ 16.5 21.390625 20.328125 13.890625 \nQ 24.171875 6.390625 31.78125 6.390625 \nQ 39.453125 6.390625 43.28125 13.890625 \nQ 47.125 21.390625 47.125 36.375 \nQ 47.125 51.421875 43.28125 58.90625 \nQ 39.453125 66.40625 31.78125 66.40625 \nz\nM 31.78125 74.21875 \nQ 44.046875 74.21875 50.515625 64.515625 \nQ 56.984375 54.828125 56.984375 36.375 \nQ 56.984375 17.96875 50.515625 8.265625 \nQ 44.046875 -1.421875 31.78125 -1.421875 \nQ 19.53125 -1.421875 13.0625 8.265625 \nQ 6.59375 17.96875 6.59375 36.375 \nQ 6.59375 54.828125 13.0625 64.515625 \nQ 19.53125 74.21875 31.78125 74.21875 \nz\n\" id=\"DejaVuSans-48\"/>\n      </defs>\n      <g transform=\"translate(78.090057 254.356562)scale(0.1 -0.1)\">\n       <use xlink:href=\"#DejaVuSans-48\"/>\n      </g>\n     </g>\n    </g>\n    <g id=\"xtick_2\">\n     <g id=\"line2d_2\">\n      <g>\n       <use style=\"stroke:#000000;stroke-width:0.8;\" x=\"126.030665\" xlink:href=\"#m0f771c5306\" y=\"239.758125\"/>\n      </g>\n     </g>\n     <g id=\"text_2\">\n      <!-- 20 -->\n      <defs>\n       <path d=\"M 19.1875 8.296875 \nL 53.609375 8.296875 \nL 53.609375 0 \nL 7.328125 0 \nL 7.328125 8.296875 \nQ 12.9375 14.109375 22.625 23.890625 \nQ 32.328125 33.6875 34.8125 36.53125 \nQ 39.546875 41.84375 41.421875 45.53125 \nQ 43.3125 49.21875 43.3125 52.78125 \nQ 43.3125 58.59375 39.234375 62.25 \nQ 35.15625 65.921875 28.609375 65.921875 \nQ 23.96875 65.921875 18.8125 64.3125 \nQ 13.671875 62.703125 7.8125 59.421875 \nL 7.8125 69.390625 \nQ 13.765625 71.78125 18.9375 73 \nQ 24.125 74.21875 28.421875 74.21875 \nQ 39.75 74.21875 46.484375 68.546875 \nQ 53.21875 62.890625 53.21875 53.421875 \nQ 53.21875 48.921875 51.53125 44.890625 \nQ 49.859375 40.875 45.40625 35.40625 \nQ 44.1875 33.984375 37.640625 27.21875 \nQ 31.109375 20.453125 19.1875 8.296875 \nz\n\" id=\"DejaVuSans-50\"/>\n      </defs>\n      <g transform=\"translate(119.668165 254.356562)scale(0.1 -0.1)\">\n       <use xlink:href=\"#DejaVuSans-50\"/>\n       <use x=\"63.623047\" xlink:href=\"#DejaVuSans-48\"/>\n      </g>\n     </g>\n    </g>\n    <g id=\"xtick_3\">\n     <g id=\"line2d_3\">\n      <g>\n       <use style=\"stroke:#000000;stroke-width:0.8;\" x=\"170.790023\" xlink:href=\"#m0f771c5306\" y=\"239.758125\"/>\n      </g>\n     </g>\n     <g id=\"text_3\">\n      <!-- 40 -->\n      <defs>\n       <path d=\"M 37.796875 64.3125 \nL 12.890625 25.390625 \nL 37.796875 25.390625 \nz\nM 35.203125 72.90625 \nL 47.609375 72.90625 \nL 47.609375 25.390625 \nL 58.015625 25.390625 \nL 58.015625 17.1875 \nL 47.609375 17.1875 \nL 47.609375 0 \nL 37.796875 0 \nL 37.796875 17.1875 \nL 4.890625 17.1875 \nL 4.890625 26.703125 \nz\n\" id=\"DejaVuSans-52\"/>\n      </defs>\n      <g transform=\"translate(164.427523 254.356562)scale(0.1 -0.1)\">\n       <use xlink:href=\"#DejaVuSans-52\"/>\n       <use x=\"63.623047\" xlink:href=\"#DejaVuSans-48\"/>\n      </g>\n     </g>\n    </g>\n    <g id=\"xtick_4\">\n     <g id=\"line2d_4\">\n      <g>\n       <use style=\"stroke:#000000;stroke-width:0.8;\" x=\"215.549382\" xlink:href=\"#m0f771c5306\" y=\"239.758125\"/>\n      </g>\n     </g>\n     <g id=\"text_4\">\n      <!-- 60 -->\n      <defs>\n       <path d=\"M 33.015625 40.375 \nQ 26.375 40.375 22.484375 35.828125 \nQ 18.609375 31.296875 18.609375 23.390625 \nQ 18.609375 15.53125 22.484375 10.953125 \nQ 26.375 6.390625 33.015625 6.390625 \nQ 39.65625 6.390625 43.53125 10.953125 \nQ 47.40625 15.53125 47.40625 23.390625 \nQ 47.40625 31.296875 43.53125 35.828125 \nQ 39.65625 40.375 33.015625 40.375 \nz\nM 52.59375 71.296875 \nL 52.59375 62.3125 \nQ 48.875 64.0625 45.09375 64.984375 \nQ 41.3125 65.921875 37.59375 65.921875 \nQ 27.828125 65.921875 22.671875 59.328125 \nQ 17.53125 52.734375 16.796875 39.40625 \nQ 19.671875 43.65625 24.015625 45.921875 \nQ 28.375 48.1875 33.59375 48.1875 \nQ 44.578125 48.1875 50.953125 41.515625 \nQ 57.328125 34.859375 57.328125 23.390625 \nQ 57.328125 12.15625 50.6875 5.359375 \nQ 44.046875 -1.421875 33.015625 -1.421875 \nQ 20.359375 -1.421875 13.671875 8.265625 \nQ 6.984375 17.96875 6.984375 36.375 \nQ 6.984375 53.65625 15.1875 63.9375 \nQ 23.390625 74.21875 37.203125 74.21875 \nQ 40.921875 74.21875 44.703125 73.484375 \nQ 48.484375 72.75 52.59375 71.296875 \nz\n\" id=\"DejaVuSans-54\"/>\n      </defs>\n      <g transform=\"translate(209.186882 254.356562)scale(0.1 -0.1)\">\n       <use xlink:href=\"#DejaVuSans-54\"/>\n       <use x=\"63.623047\" xlink:href=\"#DejaVuSans-48\"/>\n      </g>\n     </g>\n    </g>\n    <g id=\"xtick_5\">\n     <g id=\"line2d_5\">\n      <g>\n       <use style=\"stroke:#000000;stroke-width:0.8;\" x=\"260.30874\" xlink:href=\"#m0f771c5306\" y=\"239.758125\"/>\n      </g>\n     </g>\n     <g id=\"text_5\">\n      <!-- 80 -->\n      <defs>\n       <path d=\"M 31.78125 34.625 \nQ 24.75 34.625 20.71875 30.859375 \nQ 16.703125 27.09375 16.703125 20.515625 \nQ 16.703125 13.921875 20.71875 10.15625 \nQ 24.75 6.390625 31.78125 6.390625 \nQ 38.8125 6.390625 42.859375 10.171875 \nQ 46.921875 13.96875 46.921875 20.515625 \nQ 46.921875 27.09375 42.890625 30.859375 \nQ 38.875 34.625 31.78125 34.625 \nz\nM 21.921875 38.8125 \nQ 15.578125 40.375 12.03125 44.71875 \nQ 8.5 49.078125 8.5 55.328125 \nQ 8.5 64.0625 14.71875 69.140625 \nQ 20.953125 74.21875 31.78125 74.21875 \nQ 42.671875 74.21875 48.875 69.140625 \nQ 55.078125 64.0625 55.078125 55.328125 \nQ 55.078125 49.078125 51.53125 44.71875 \nQ 48 40.375 41.703125 38.8125 \nQ 48.828125 37.15625 52.796875 32.3125 \nQ 56.78125 27.484375 56.78125 20.515625 \nQ 56.78125 9.90625 50.3125 4.234375 \nQ 43.84375 -1.421875 31.78125 -1.421875 \nQ 19.734375 -1.421875 13.25 4.234375 \nQ 6.78125 9.90625 6.78125 20.515625 \nQ 6.78125 27.484375 10.78125 32.3125 \nQ 14.796875 37.15625 21.921875 38.8125 \nz\nM 18.3125 54.390625 \nQ 18.3125 48.734375 21.84375 45.5625 \nQ 25.390625 42.390625 31.78125 42.390625 \nQ 38.140625 42.390625 41.71875 45.5625 \nQ 45.3125 48.734375 45.3125 54.390625 \nQ 45.3125 60.0625 41.71875 63.234375 \nQ 38.140625 66.40625 31.78125 66.40625 \nQ 25.390625 66.40625 21.84375 63.234375 \nQ 18.3125 60.0625 18.3125 54.390625 \nz\n\" id=\"DejaVuSans-56\"/>\n      </defs>\n      <g transform=\"translate(253.94624 254.356562)scale(0.1 -0.1)\">\n       <use xlink:href=\"#DejaVuSans-56\"/>\n       <use x=\"63.623047\" xlink:href=\"#DejaVuSans-48\"/>\n      </g>\n     </g>\n    </g>\n    <g id=\"xtick_6\">\n     <g id=\"line2d_6\">\n      <g>\n       <use style=\"stroke:#000000;stroke-width:0.8;\" x=\"305.068098\" xlink:href=\"#m0f771c5306\" y=\"239.758125\"/>\n      </g>\n     </g>\n     <g id=\"text_6\">\n      <!-- 100 -->\n      <defs>\n       <path d=\"M 12.40625 8.296875 \nL 28.515625 8.296875 \nL 28.515625 63.921875 \nL 10.984375 60.40625 \nL 10.984375 69.390625 \nL 28.421875 72.90625 \nL 38.28125 72.90625 \nL 38.28125 8.296875 \nL 54.390625 8.296875 \nL 54.390625 0 \nL 12.40625 0 \nz\n\" id=\"DejaVuSans-49\"/>\n      </defs>\n      <g transform=\"translate(295.524348 254.356562)scale(0.1 -0.1)\">\n       <use xlink:href=\"#DejaVuSans-49\"/>\n       <use x=\"63.623047\" xlink:href=\"#DejaVuSans-48\"/>\n       <use x=\"127.246094\" xlink:href=\"#DejaVuSans-48\"/>\n      </g>\n     </g>\n    </g>\n    <g id=\"xtick_7\">\n     <g id=\"line2d_7\">\n      <g>\n       <use style=\"stroke:#000000;stroke-width:0.8;\" x=\"349.827457\" xlink:href=\"#m0f771c5306\" y=\"239.758125\"/>\n      </g>\n     </g>\n     <g id=\"text_7\">\n      <!-- 120 -->\n      <g transform=\"translate(340.283707 254.356562)scale(0.1 -0.1)\">\n       <use xlink:href=\"#DejaVuSans-49\"/>\n       <use x=\"63.623047\" xlink:href=\"#DejaVuSans-50\"/>\n       <use x=\"127.246094\" xlink:href=\"#DejaVuSans-48\"/>\n      </g>\n     </g>\n    </g>\n    <g id=\"xtick_8\">\n     <g id=\"line2d_8\">\n      <g>\n       <use style=\"stroke:#000000;stroke-width:0.8;\" x=\"394.586815\" xlink:href=\"#m0f771c5306\" y=\"239.758125\"/>\n      </g>\n     </g>\n     <g id=\"text_8\">\n      <!-- 140 -->\n      <g transform=\"translate(385.043065 254.356562)scale(0.1 -0.1)\">\n       <use xlink:href=\"#DejaVuSans-49\"/>\n       <use x=\"63.623047\" xlink:href=\"#DejaVuSans-52\"/>\n       <use x=\"127.246094\" xlink:href=\"#DejaVuSans-48\"/>\n      </g>\n     </g>\n    </g>\n    <g id=\"text_9\">\n     <!-- Days since 1/22/2020 -->\n     <defs>\n      <path d=\"M 19.671875 64.796875 \nL 19.671875 8.109375 \nL 31.59375 8.109375 \nQ 46.6875 8.109375 53.6875 14.9375 \nQ 60.6875 21.78125 60.6875 36.53125 \nQ 60.6875 51.171875 53.6875 57.984375 \nQ 46.6875 64.796875 31.59375 64.796875 \nz\nM 9.8125 72.90625 \nL 30.078125 72.90625 \nQ 51.265625 72.90625 61.171875 64.09375 \nQ 71.09375 55.28125 71.09375 36.53125 \nQ 71.09375 17.671875 61.125 8.828125 \nQ 51.171875 0 30.078125 0 \nL 9.8125 0 \nz\n\" id=\"DejaVuSans-68\"/>\n      <path d=\"M 34.28125 27.484375 \nQ 23.390625 27.484375 19.1875 25 \nQ 14.984375 22.515625 14.984375 16.5 \nQ 14.984375 11.71875 18.140625 8.90625 \nQ 21.296875 6.109375 26.703125 6.109375 \nQ 34.1875 6.109375 38.703125 11.40625 \nQ 43.21875 16.703125 43.21875 25.484375 \nL 43.21875 27.484375 \nz\nM 52.203125 31.203125 \nL 52.203125 0 \nL 43.21875 0 \nL 43.21875 8.296875 \nQ 40.140625 3.328125 35.546875 0.953125 \nQ 30.953125 -1.421875 24.3125 -1.421875 \nQ 15.921875 -1.421875 10.953125 3.296875 \nQ 6 8.015625 6 15.921875 \nQ 6 25.140625 12.171875 29.828125 \nQ 18.359375 34.515625 30.609375 34.515625 \nL 43.21875 34.515625 \nL 43.21875 35.40625 \nQ 43.21875 41.609375 39.140625 45 \nQ 35.0625 48.390625 27.6875 48.390625 \nQ 23 48.390625 18.546875 47.265625 \nQ 14.109375 46.140625 10.015625 43.890625 \nL 10.015625 52.203125 \nQ 14.9375 54.109375 19.578125 55.046875 \nQ 24.21875 56 28.609375 56 \nQ 40.484375 56 46.34375 49.84375 \nQ 52.203125 43.703125 52.203125 31.203125 \nz\n\" id=\"DejaVuSans-97\"/>\n      <path d=\"M 32.171875 -5.078125 \nQ 28.375 -14.84375 24.75 -17.8125 \nQ 21.140625 -20.796875 15.09375 -20.796875 \nL 7.90625 -20.796875 \nL 7.90625 -13.28125 \nL 13.1875 -13.28125 \nQ 16.890625 -13.28125 18.9375 -11.515625 \nQ 21 -9.765625 23.484375 -3.21875 \nL 25.09375 0.875 \nL 2.984375 54.6875 \nL 12.5 54.6875 \nL 29.59375 11.921875 \nL 46.6875 54.6875 \nL 56.203125 54.6875 \nz\n\" id=\"DejaVuSans-121\"/>\n      <path d=\"M 44.28125 53.078125 \nL 44.28125 44.578125 \nQ 40.484375 46.53125 36.375 47.5 \nQ 32.28125 48.484375 27.875 48.484375 \nQ 21.1875 48.484375 17.84375 46.4375 \nQ 14.5 44.390625 14.5 40.28125 \nQ 14.5 37.15625 16.890625 35.375 \nQ 19.28125 33.59375 26.515625 31.984375 \nL 29.59375 31.296875 \nQ 39.15625 29.25 43.1875 25.515625 \nQ 47.21875 21.78125 47.21875 15.09375 \nQ 47.21875 7.46875 41.1875 3.015625 \nQ 35.15625 -1.421875 24.609375 -1.421875 \nQ 20.21875 -1.421875 15.453125 -0.5625 \nQ 10.6875 0.296875 5.421875 2 \nL 5.421875 11.28125 \nQ 10.40625 8.6875 15.234375 7.390625 \nQ 20.0625 6.109375 24.8125 6.109375 \nQ 31.15625 6.109375 34.5625 8.28125 \nQ 37.984375 10.453125 37.984375 14.40625 \nQ 37.984375 18.0625 35.515625 20.015625 \nQ 33.0625 21.96875 24.703125 23.78125 \nL 21.578125 24.515625 \nQ 13.234375 26.265625 9.515625 29.90625 \nQ 5.8125 33.546875 5.8125 39.890625 \nQ 5.8125 47.609375 11.28125 51.796875 \nQ 16.75 56 26.8125 56 \nQ 31.78125 56 36.171875 55.265625 \nQ 40.578125 54.546875 44.28125 53.078125 \nz\n\" id=\"DejaVuSans-115\"/>\n      <path id=\"DejaVuSans-32\"/>\n      <path d=\"M 9.421875 54.6875 \nL 18.40625 54.6875 \nL 18.40625 0 \nL 9.421875 0 \nz\nM 9.421875 75.984375 \nL 18.40625 75.984375 \nL 18.40625 64.59375 \nL 9.421875 64.59375 \nz\n\" id=\"DejaVuSans-105\"/>\n      <path d=\"M 54.890625 33.015625 \nL 54.890625 0 \nL 45.90625 0 \nL 45.90625 32.71875 \nQ 45.90625 40.484375 42.875 44.328125 \nQ 39.84375 48.1875 33.796875 48.1875 \nQ 26.515625 48.1875 22.3125 43.546875 \nQ 18.109375 38.921875 18.109375 30.90625 \nL 18.109375 0 \nL 9.078125 0 \nL 9.078125 54.6875 \nL 18.109375 54.6875 \nL 18.109375 46.1875 \nQ 21.34375 51.125 25.703125 53.5625 \nQ 30.078125 56 35.796875 56 \nQ 45.21875 56 50.046875 50.171875 \nQ 54.890625 44.34375 54.890625 33.015625 \nz\n\" id=\"DejaVuSans-110\"/>\n      <path d=\"M 48.78125 52.59375 \nL 48.78125 44.1875 \nQ 44.96875 46.296875 41.140625 47.34375 \nQ 37.3125 48.390625 33.40625 48.390625 \nQ 24.65625 48.390625 19.8125 42.84375 \nQ 14.984375 37.3125 14.984375 27.296875 \nQ 14.984375 17.28125 19.8125 11.734375 \nQ 24.65625 6.203125 33.40625 6.203125 \nQ 37.3125 6.203125 41.140625 7.25 \nQ 44.96875 8.296875 48.78125 10.40625 \nL 48.78125 2.09375 \nQ 45.015625 0.34375 40.984375 -0.53125 \nQ 36.96875 -1.421875 32.421875 -1.421875 \nQ 20.0625 -1.421875 12.78125 6.34375 \nQ 5.515625 14.109375 5.515625 27.296875 \nQ 5.515625 40.671875 12.859375 48.328125 \nQ 20.21875 56 33.015625 56 \nQ 37.15625 56 41.109375 55.140625 \nQ 45.0625 54.296875 48.78125 52.59375 \nz\n\" id=\"DejaVuSans-99\"/>\n      <path d=\"M 56.203125 29.59375 \nL 56.203125 25.203125 \nL 14.890625 25.203125 \nQ 15.484375 15.921875 20.484375 11.0625 \nQ 25.484375 6.203125 34.421875 6.203125 \nQ 39.59375 6.203125 44.453125 7.46875 \nQ 49.3125 8.734375 54.109375 11.28125 \nL 54.109375 2.78125 \nQ 49.265625 0.734375 44.1875 -0.34375 \nQ 39.109375 -1.421875 33.890625 -1.421875 \nQ 20.796875 -1.421875 13.15625 6.1875 \nQ 5.515625 13.8125 5.515625 26.8125 \nQ 5.515625 40.234375 12.765625 48.109375 \nQ 20.015625 56 32.328125 56 \nQ 43.359375 56 49.78125 48.890625 \nQ 56.203125 41.796875 56.203125 29.59375 \nz\nM 47.21875 32.234375 \nQ 47.125 39.59375 43.09375 43.984375 \nQ 39.0625 48.390625 32.421875 48.390625 \nQ 24.90625 48.390625 20.390625 44.140625 \nQ 15.875 39.890625 15.1875 32.171875 \nz\n\" id=\"DejaVuSans-101\"/>\n      <path d=\"M 25.390625 72.90625 \nL 33.6875 72.90625 \nL 8.296875 -9.28125 \nL 0 -9.28125 \nz\n\" id=\"DejaVuSans-47\"/>\n     </defs>\n     <g transform=\"translate(179.171094 268.034687)scale(0.1 -0.1)\">\n      <use xlink:href=\"#DejaVuSans-68\"/>\n      <use x=\"77.001953\" xlink:href=\"#DejaVuSans-97\"/>\n      <use x=\"138.28125\" xlink:href=\"#DejaVuSans-121\"/>\n      <use x=\"197.460938\" xlink:href=\"#DejaVuSans-115\"/>\n      <use x=\"249.560547\" xlink:href=\"#DejaVuSans-32\"/>\n      <use x=\"281.347656\" xlink:href=\"#DejaVuSans-115\"/>\n      <use x=\"333.447266\" xlink:href=\"#DejaVuSans-105\"/>\n      <use x=\"361.230469\" xlink:href=\"#DejaVuSans-110\"/>\n      <use x=\"424.609375\" xlink:href=\"#DejaVuSans-99\"/>\n      <use x=\"479.589844\" xlink:href=\"#DejaVuSans-101\"/>\n      <use x=\"541.113281\" xlink:href=\"#DejaVuSans-32\"/>\n      <use x=\"572.900391\" xlink:href=\"#DejaVuSans-49\"/>\n      <use x=\"636.523438\" xlink:href=\"#DejaVuSans-47\"/>\n      <use x=\"670.214844\" xlink:href=\"#DejaVuSans-50\"/>\n      <use x=\"733.837891\" xlink:href=\"#DejaVuSans-50\"/>\n      <use x=\"797.460938\" xlink:href=\"#DejaVuSans-47\"/>\n      <use x=\"831.152344\" xlink:href=\"#DejaVuSans-50\"/>\n      <use x=\"894.775391\" xlink:href=\"#DejaVuSans-48\"/>\n      <use x=\"958.398438\" xlink:href=\"#DejaVuSans-50\"/>\n      <use x=\"1022.021484\" xlink:href=\"#DejaVuSans-48\"/>\n     </g>\n    </g>\n   </g>\n   <g id=\"matplotlib.axis_2\">\n    <g id=\"ytick_1\">\n     <g id=\"line2d_9\">\n      <defs>\n       <path d=\"M 0 0 \nL -3.5 0 \n\" id=\"ma297e19ecb\" style=\"stroke:#000000;stroke-width:0.8;\"/>\n      </defs>\n      <g>\n       <use style=\"stroke:#000000;stroke-width:0.8;\" x=\"66.053125\" xlink:href=\"#ma297e19ecb\" y=\"222.621508\"/>\n      </g>\n     </g>\n     <g id=\"text_10\">\n      <!-- 0 -->\n      <g transform=\"translate(52.690625 226.420727)scale(0.1 -0.1)\">\n       <use xlink:href=\"#DejaVuSans-48\"/>\n      </g>\n     </g>\n    </g>\n    <g id=\"ytick_2\">\n     <g id=\"line2d_10\">\n      <g>\n       <use style=\"stroke:#000000;stroke-width:0.8;\" x=\"66.053125\" xlink:href=\"#ma297e19ecb\" y=\"195.849262\"/>\n      </g>\n     </g>\n     <g id=\"text_11\">\n      <!-- 50000 -->\n      <defs>\n       <path d=\"M 10.796875 72.90625 \nL 49.515625 72.90625 \nL 49.515625 64.59375 \nL 19.828125 64.59375 \nL 19.828125 46.734375 \nQ 21.96875 47.46875 24.109375 47.828125 \nQ 26.265625 48.1875 28.421875 48.1875 \nQ 40.625 48.1875 47.75 41.5 \nQ 54.890625 34.8125 54.890625 23.390625 \nQ 54.890625 11.625 47.5625 5.09375 \nQ 40.234375 -1.421875 26.90625 -1.421875 \nQ 22.3125 -1.421875 17.546875 -0.640625 \nQ 12.796875 0.140625 7.71875 1.703125 \nL 7.71875 11.625 \nQ 12.109375 9.234375 16.796875 8.0625 \nQ 21.484375 6.890625 26.703125 6.890625 \nQ 35.15625 6.890625 40.078125 11.328125 \nQ 45.015625 15.765625 45.015625 23.390625 \nQ 45.015625 31 40.078125 35.4375 \nQ 35.15625 39.890625 26.703125 39.890625 \nQ 22.75 39.890625 18.8125 39.015625 \nQ 14.890625 38.140625 10.796875 36.28125 \nz\n\" id=\"DejaVuSans-53\"/>\n      </defs>\n      <g transform=\"translate(27.240625 199.64848)scale(0.1 -0.1)\">\n       <use xlink:href=\"#DejaVuSans-53\"/>\n       <use x=\"63.623047\" xlink:href=\"#DejaVuSans-48\"/>\n       <use x=\"127.246094\" xlink:href=\"#DejaVuSans-48\"/>\n       <use x=\"190.869141\" xlink:href=\"#DejaVuSans-48\"/>\n       <use x=\"254.492188\" xlink:href=\"#DejaVuSans-48\"/>\n      </g>\n     </g>\n    </g>\n    <g id=\"ytick_3\">\n     <g id=\"line2d_11\">\n      <g>\n       <use style=\"stroke:#000000;stroke-width:0.8;\" x=\"66.053125\" xlink:href=\"#ma297e19ecb\" y=\"169.077015\"/>\n      </g>\n     </g>\n     <g id=\"text_12\">\n      <!-- 100000 -->\n      <g transform=\"translate(20.878125 172.876234)scale(0.1 -0.1)\">\n       <use xlink:href=\"#DejaVuSans-49\"/>\n       <use x=\"63.623047\" xlink:href=\"#DejaVuSans-48\"/>\n       <use x=\"127.246094\" xlink:href=\"#DejaVuSans-48\"/>\n       <use x=\"190.869141\" xlink:href=\"#DejaVuSans-48\"/>\n       <use x=\"254.492188\" xlink:href=\"#DejaVuSans-48\"/>\n       <use x=\"318.115234\" xlink:href=\"#DejaVuSans-48\"/>\n      </g>\n     </g>\n    </g>\n    <g id=\"ytick_4\">\n     <g id=\"line2d_12\">\n      <g>\n       <use style=\"stroke:#000000;stroke-width:0.8;\" x=\"66.053125\" xlink:href=\"#ma297e19ecb\" y=\"142.304768\"/>\n      </g>\n     </g>\n     <g id=\"text_13\">\n      <!-- 150000 -->\n      <g transform=\"translate(20.878125 146.103987)scale(0.1 -0.1)\">\n       <use xlink:href=\"#DejaVuSans-49\"/>\n       <use x=\"63.623047\" xlink:href=\"#DejaVuSans-53\"/>\n       <use x=\"127.246094\" xlink:href=\"#DejaVuSans-48\"/>\n       <use x=\"190.869141\" xlink:href=\"#DejaVuSans-48\"/>\n       <use x=\"254.492188\" xlink:href=\"#DejaVuSans-48\"/>\n       <use x=\"318.115234\" xlink:href=\"#DejaVuSans-48\"/>\n      </g>\n     </g>\n    </g>\n    <g id=\"ytick_5\">\n     <g id=\"line2d_13\">\n      <g>\n       <use style=\"stroke:#000000;stroke-width:0.8;\" x=\"66.053125\" xlink:href=\"#ma297e19ecb\" y=\"115.532521\"/>\n      </g>\n     </g>\n     <g id=\"text_14\">\n      <!-- 200000 -->\n      <g transform=\"translate(20.878125 119.33174)scale(0.1 -0.1)\">\n       <use xlink:href=\"#DejaVuSans-50\"/>\n       <use x=\"63.623047\" xlink:href=\"#DejaVuSans-48\"/>\n       <use x=\"127.246094\" xlink:href=\"#DejaVuSans-48\"/>\n       <use x=\"190.869141\" xlink:href=\"#DejaVuSans-48\"/>\n       <use x=\"254.492188\" xlink:href=\"#DejaVuSans-48\"/>\n       <use x=\"318.115234\" xlink:href=\"#DejaVuSans-48\"/>\n      </g>\n     </g>\n    </g>\n    <g id=\"ytick_6\">\n     <g id=\"line2d_14\">\n      <g>\n       <use style=\"stroke:#000000;stroke-width:0.8;\" x=\"66.053125\" xlink:href=\"#ma297e19ecb\" y=\"88.760274\"/>\n      </g>\n     </g>\n     <g id=\"text_15\">\n      <!-- 250000 -->\n      <g transform=\"translate(20.878125 92.559493)scale(0.1 -0.1)\">\n       <use xlink:href=\"#DejaVuSans-50\"/>\n       <use x=\"63.623047\" xlink:href=\"#DejaVuSans-53\"/>\n       <use x=\"127.246094\" xlink:href=\"#DejaVuSans-48\"/>\n       <use x=\"190.869141\" xlink:href=\"#DejaVuSans-48\"/>\n       <use x=\"254.492188\" xlink:href=\"#DejaVuSans-48\"/>\n       <use x=\"318.115234\" xlink:href=\"#DejaVuSans-48\"/>\n      </g>\n     </g>\n    </g>\n    <g id=\"ytick_7\">\n     <g id=\"line2d_15\">\n      <g>\n       <use style=\"stroke:#000000;stroke-width:0.8;\" x=\"66.053125\" xlink:href=\"#ma297e19ecb\" y=\"61.988028\"/>\n      </g>\n     </g>\n     <g id=\"text_16\">\n      <!-- 300000 -->\n      <defs>\n       <path d=\"M 40.578125 39.3125 \nQ 47.65625 37.796875 51.625 33 \nQ 55.609375 28.21875 55.609375 21.1875 \nQ 55.609375 10.40625 48.1875 4.484375 \nQ 40.765625 -1.421875 27.09375 -1.421875 \nQ 22.515625 -1.421875 17.65625 -0.515625 \nQ 12.796875 0.390625 7.625 2.203125 \nL 7.625 11.71875 \nQ 11.71875 9.328125 16.59375 8.109375 \nQ 21.484375 6.890625 26.8125 6.890625 \nQ 36.078125 6.890625 40.9375 10.546875 \nQ 45.796875 14.203125 45.796875 21.1875 \nQ 45.796875 27.640625 41.28125 31.265625 \nQ 36.765625 34.90625 28.71875 34.90625 \nL 20.21875 34.90625 \nL 20.21875 43.015625 \nL 29.109375 43.015625 \nQ 36.375 43.015625 40.234375 45.921875 \nQ 44.09375 48.828125 44.09375 54.296875 \nQ 44.09375 59.90625 40.109375 62.90625 \nQ 36.140625 65.921875 28.71875 65.921875 \nQ 24.65625 65.921875 20.015625 65.03125 \nQ 15.375 64.15625 9.8125 62.3125 \nL 9.8125 71.09375 \nQ 15.4375 72.65625 20.34375 73.4375 \nQ 25.25 74.21875 29.59375 74.21875 \nQ 40.828125 74.21875 47.359375 69.109375 \nQ 53.90625 64.015625 53.90625 55.328125 \nQ 53.90625 49.265625 50.4375 45.09375 \nQ 46.96875 40.921875 40.578125 39.3125 \nz\n\" id=\"DejaVuSans-51\"/>\n      </defs>\n      <g transform=\"translate(20.878125 65.787246)scale(0.1 -0.1)\">\n       <use xlink:href=\"#DejaVuSans-51\"/>\n       <use x=\"63.623047\" xlink:href=\"#DejaVuSans-48\"/>\n       <use x=\"127.246094\" xlink:href=\"#DejaVuSans-48\"/>\n       <use x=\"190.869141\" xlink:href=\"#DejaVuSans-48\"/>\n       <use x=\"254.492188\" xlink:href=\"#DejaVuSans-48\"/>\n       <use x=\"318.115234\" xlink:href=\"#DejaVuSans-48\"/>\n      </g>\n     </g>\n    </g>\n    <g id=\"ytick_8\">\n     <g id=\"line2d_16\">\n      <g>\n       <use style=\"stroke:#000000;stroke-width:0.8;\" x=\"66.053125\" xlink:href=\"#ma297e19ecb\" y=\"35.215781\"/>\n      </g>\n     </g>\n     <g id=\"text_17\">\n      <!-- 350000 -->\n      <g transform=\"translate(20.878125 39.015)scale(0.1 -0.1)\">\n       <use xlink:href=\"#DejaVuSans-51\"/>\n       <use x=\"63.623047\" xlink:href=\"#DejaVuSans-53\"/>\n       <use x=\"127.246094\" xlink:href=\"#DejaVuSans-48\"/>\n       <use x=\"190.869141\" xlink:href=\"#DejaVuSans-48\"/>\n       <use x=\"254.492188\" xlink:href=\"#DejaVuSans-48\"/>\n       <use x=\"318.115234\" xlink:href=\"#DejaVuSans-48\"/>\n      </g>\n     </g>\n    </g>\n    <g id=\"text_18\">\n     <!-- Number of deaths -->\n     <defs>\n      <path d=\"M 9.8125 72.90625 \nL 23.09375 72.90625 \nL 55.421875 11.921875 \nL 55.421875 72.90625 \nL 64.984375 72.90625 \nL 64.984375 0 \nL 51.703125 0 \nL 19.390625 60.984375 \nL 19.390625 0 \nL 9.8125 0 \nz\n\" id=\"DejaVuSans-78\"/>\n      <path d=\"M 8.5 21.578125 \nL 8.5 54.6875 \nL 17.484375 54.6875 \nL 17.484375 21.921875 \nQ 17.484375 14.15625 20.5 10.265625 \nQ 23.53125 6.390625 29.59375 6.390625 \nQ 36.859375 6.390625 41.078125 11.03125 \nQ 45.3125 15.671875 45.3125 23.6875 \nL 45.3125 54.6875 \nL 54.296875 54.6875 \nL 54.296875 0 \nL 45.3125 0 \nL 45.3125 8.40625 \nQ 42.046875 3.421875 37.71875 1 \nQ 33.40625 -1.421875 27.6875 -1.421875 \nQ 18.265625 -1.421875 13.375 4.4375 \nQ 8.5 10.296875 8.5 21.578125 \nz\nM 31.109375 56 \nz\n\" id=\"DejaVuSans-117\"/>\n      <path d=\"M 52 44.1875 \nQ 55.375 50.25 60.0625 53.125 \nQ 64.75 56 71.09375 56 \nQ 79.640625 56 84.28125 50.015625 \nQ 88.921875 44.046875 88.921875 33.015625 \nL 88.921875 0 \nL 79.890625 0 \nL 79.890625 32.71875 \nQ 79.890625 40.578125 77.09375 44.375 \nQ 74.3125 48.1875 68.609375 48.1875 \nQ 61.625 48.1875 57.5625 43.546875 \nQ 53.515625 38.921875 53.515625 30.90625 \nL 53.515625 0 \nL 44.484375 0 \nL 44.484375 32.71875 \nQ 44.484375 40.625 41.703125 44.40625 \nQ 38.921875 48.1875 33.109375 48.1875 \nQ 26.21875 48.1875 22.15625 43.53125 \nQ 18.109375 38.875 18.109375 30.90625 \nL 18.109375 0 \nL 9.078125 0 \nL 9.078125 54.6875 \nL 18.109375 54.6875 \nL 18.109375 46.1875 \nQ 21.1875 51.21875 25.484375 53.609375 \nQ 29.78125 56 35.6875 56 \nQ 41.65625 56 45.828125 52.96875 \nQ 50 49.953125 52 44.1875 \nz\n\" id=\"DejaVuSans-109\"/>\n      <path d=\"M 48.6875 27.296875 \nQ 48.6875 37.203125 44.609375 42.84375 \nQ 40.53125 48.484375 33.40625 48.484375 \nQ 26.265625 48.484375 22.1875 42.84375 \nQ 18.109375 37.203125 18.109375 27.296875 \nQ 18.109375 17.390625 22.1875 11.75 \nQ 26.265625 6.109375 33.40625 6.109375 \nQ 40.53125 6.109375 44.609375 11.75 \nQ 48.6875 17.390625 48.6875 27.296875 \nz\nM 18.109375 46.390625 \nQ 20.953125 51.265625 25.265625 53.625 \nQ 29.59375 56 35.59375 56 \nQ 45.5625 56 51.78125 48.09375 \nQ 58.015625 40.1875 58.015625 27.296875 \nQ 58.015625 14.40625 51.78125 6.484375 \nQ 45.5625 -1.421875 35.59375 -1.421875 \nQ 29.59375 -1.421875 25.265625 0.953125 \nQ 20.953125 3.328125 18.109375 8.203125 \nL 18.109375 0 \nL 9.078125 0 \nL 9.078125 75.984375 \nL 18.109375 75.984375 \nz\n\" id=\"DejaVuSans-98\"/>\n      <path d=\"M 41.109375 46.296875 \nQ 39.59375 47.171875 37.8125 47.578125 \nQ 36.03125 48 33.890625 48 \nQ 26.265625 48 22.1875 43.046875 \nQ 18.109375 38.09375 18.109375 28.8125 \nL 18.109375 0 \nL 9.078125 0 \nL 9.078125 54.6875 \nL 18.109375 54.6875 \nL 18.109375 46.1875 \nQ 20.953125 51.171875 25.484375 53.578125 \nQ 30.03125 56 36.53125 56 \nQ 37.453125 56 38.578125 55.875 \nQ 39.703125 55.765625 41.0625 55.515625 \nz\n\" id=\"DejaVuSans-114\"/>\n      <path d=\"M 30.609375 48.390625 \nQ 23.390625 48.390625 19.1875 42.75 \nQ 14.984375 37.109375 14.984375 27.296875 \nQ 14.984375 17.484375 19.15625 11.84375 \nQ 23.34375 6.203125 30.609375 6.203125 \nQ 37.796875 6.203125 41.984375 11.859375 \nQ 46.1875 17.53125 46.1875 27.296875 \nQ 46.1875 37.015625 41.984375 42.703125 \nQ 37.796875 48.390625 30.609375 48.390625 \nz\nM 30.609375 56 \nQ 42.328125 56 49.015625 48.375 \nQ 55.71875 40.765625 55.71875 27.296875 \nQ 55.71875 13.875 49.015625 6.21875 \nQ 42.328125 -1.421875 30.609375 -1.421875 \nQ 18.84375 -1.421875 12.171875 6.21875 \nQ 5.515625 13.875 5.515625 27.296875 \nQ 5.515625 40.765625 12.171875 48.375 \nQ 18.84375 56 30.609375 56 \nz\n\" id=\"DejaVuSans-111\"/>\n      <path d=\"M 37.109375 75.984375 \nL 37.109375 68.5 \nL 28.515625 68.5 \nQ 23.6875 68.5 21.796875 66.546875 \nQ 19.921875 64.59375 19.921875 59.515625 \nL 19.921875 54.6875 \nL 34.71875 54.6875 \nL 34.71875 47.703125 \nL 19.921875 47.703125 \nL 19.921875 0 \nL 10.890625 0 \nL 10.890625 47.703125 \nL 2.296875 47.703125 \nL 2.296875 54.6875 \nL 10.890625 54.6875 \nL 10.890625 58.5 \nQ 10.890625 67.625 15.140625 71.796875 \nQ 19.390625 75.984375 28.609375 75.984375 \nz\n\" id=\"DejaVuSans-102\"/>\n      <path d=\"M 45.40625 46.390625 \nL 45.40625 75.984375 \nL 54.390625 75.984375 \nL 54.390625 0 \nL 45.40625 0 \nL 45.40625 8.203125 \nQ 42.578125 3.328125 38.25 0.953125 \nQ 33.9375 -1.421875 27.875 -1.421875 \nQ 17.96875 -1.421875 11.734375 6.484375 \nQ 5.515625 14.40625 5.515625 27.296875 \nQ 5.515625 40.1875 11.734375 48.09375 \nQ 17.96875 56 27.875 56 \nQ 33.9375 56 38.25 53.625 \nQ 42.578125 51.265625 45.40625 46.390625 \nz\nM 14.796875 27.296875 \nQ 14.796875 17.390625 18.875 11.75 \nQ 22.953125 6.109375 30.078125 6.109375 \nQ 37.203125 6.109375 41.296875 11.75 \nQ 45.40625 17.390625 45.40625 27.296875 \nQ 45.40625 37.203125 41.296875 42.84375 \nQ 37.203125 48.484375 30.078125 48.484375 \nQ 22.953125 48.484375 18.875 42.84375 \nQ 14.796875 37.203125 14.796875 27.296875 \nz\n\" id=\"DejaVuSans-100\"/>\n      <path d=\"M 18.3125 70.21875 \nL 18.3125 54.6875 \nL 36.8125 54.6875 \nL 36.8125 47.703125 \nL 18.3125 47.703125 \nL 18.3125 18.015625 \nQ 18.3125 11.328125 20.140625 9.421875 \nQ 21.96875 7.515625 27.59375 7.515625 \nL 36.8125 7.515625 \nL 36.8125 0 \nL 27.59375 0 \nQ 17.1875 0 13.234375 3.875 \nQ 9.28125 7.765625 9.28125 18.015625 \nL 9.28125 47.703125 \nL 2.6875 47.703125 \nL 2.6875 54.6875 \nL 9.28125 54.6875 \nL 9.28125 70.21875 \nz\n\" id=\"DejaVuSans-116\"/>\n      <path d=\"M 54.890625 33.015625 \nL 54.890625 0 \nL 45.90625 0 \nL 45.90625 32.71875 \nQ 45.90625 40.484375 42.875 44.328125 \nQ 39.84375 48.1875 33.796875 48.1875 \nQ 26.515625 48.1875 22.3125 43.546875 \nQ 18.109375 38.921875 18.109375 30.90625 \nL 18.109375 0 \nL 9.078125 0 \nL 9.078125 75.984375 \nL 18.109375 75.984375 \nL 18.109375 46.1875 \nQ 21.34375 51.125 25.703125 53.5625 \nQ 30.078125 56 35.796875 56 \nQ 45.21875 56 50.046875 50.171875 \nQ 54.890625 44.34375 54.890625 33.015625 \nz\n\" id=\"DejaVuSans-104\"/>\n     </defs>\n     <g transform=\"translate(14.798438 176.170156)rotate(-90)scale(0.1 -0.1)\">\n      <use xlink:href=\"#DejaVuSans-78\"/>\n      <use x=\"74.804688\" xlink:href=\"#DejaVuSans-117\"/>\n      <use x=\"138.183594\" xlink:href=\"#DejaVuSans-109\"/>\n      <use x=\"235.595703\" xlink:href=\"#DejaVuSans-98\"/>\n      <use x=\"299.072266\" xlink:href=\"#DejaVuSans-101\"/>\n      <use x=\"360.595703\" xlink:href=\"#DejaVuSans-114\"/>\n      <use x=\"401.708984\" xlink:href=\"#DejaVuSans-32\"/>\n      <use x=\"433.496094\" xlink:href=\"#DejaVuSans-111\"/>\n      <use x=\"494.677734\" xlink:href=\"#DejaVuSans-102\"/>\n      <use x=\"529.882812\" xlink:href=\"#DejaVuSans-32\"/>\n      <use x=\"561.669922\" xlink:href=\"#DejaVuSans-100\"/>\n      <use x=\"625.146484\" xlink:href=\"#DejaVuSans-101\"/>\n      <use x=\"686.669922\" xlink:href=\"#DejaVuSans-97\"/>\n      <use x=\"747.949219\" xlink:href=\"#DejaVuSans-116\"/>\n      <use x=\"787.158203\" xlink:href=\"#DejaVuSans-104\"/>\n      <use x=\"850.537109\" xlink:href=\"#DejaVuSans-115\"/>\n     </g>\n    </g>\n   </g>\n   <g id=\"line2d_17\">\n    <path clip-path=\"url(#pcb53f22cdc)\" d=\"M 81.271307 222.612406 \nL 83.509275 222.61187 \nL 85.747243 222.607587 \nL 87.985211 222.59902 \nL 90.223178 222.591523 \nL 92.461146 222.577602 \nL 94.699114 222.551365 \nL 96.937082 222.550294 \nL 99.17505 222.529947 \nL 101.413018 222.507459 \nL 103.650986 222.482828 \nL 105.888954 222.427677 \nL 108.126922 222.393409 \nL 110.36489 222.35807 \nL 112.602858 222.319517 \nL 114.840826 222.282036 \nL 117.078793 222.236524 \nL 119.316761 222.18994 \nL 121.554729 222.136395 \nL 123.792697 222.079103 \nL 126.030665 222.025558 \nL 128.268633 222.022881 \nL 130.506601 221.887413 \nL 132.744569 221.806026 \nL 134.982537 221.729457 \nL 137.220505 221.673771 \nL 139.458473 221.621297 \nL 141.696441 221.54687 \nL 143.934408 221.485294 \nL 146.172376 221.418364 \nL 148.410344 221.416222 \nL 150.648312 221.305385 \nL 152.88628 221.299495 \nL 155.124248 221.213824 \nL 157.362216 221.171524 \nL 159.600184 221.138326 \nL 161.838152 221.114766 \nL 164.07612 221.083711 \nL 166.314088 221.046765 \nL 168.552055 221.017315 \nL 170.790023 220.969661 \nL 173.027991 220.929502 \nL 175.265959 220.879171 \nL 177.503927 220.829374 \nL 179.741895 220.769404 \nL 181.979863 220.716395 \nL 184.217831 220.586282 \nL 186.455799 220.486689 \nL 188.693767 220.338907 \nL 190.931735 220.150965 \nL 193.169703 219.991403 \nL 195.40767 219.725287 \nL 197.645638 219.498794 \nL 199.883606 219.155573 \nL 202.121574 218.792542 \nL 204.359542 218.360973 \nL 206.59751 217.896742 \nL 208.835478 217.295438 \nL 211.073446 216.505121 \nL 213.311414 215.593794 \nL 215.549382 214.683002 \nL 217.78735 213.647987 \nL 220.025318 212.438952 \nL 222.263285 210.954699 \nL 224.501253 209.348899 \nL 226.739221 207.4727 \nL 228.977189 205.58847 \nL 231.215157 203.707987 \nL 233.453125 201.501954 \nL 235.691093 198.934495 \nL 237.929061 196.017927 \nL 240.167029 192.725476 \nL 242.404997 189.51709 \nL 244.642965 186.213395 \nL 246.880932 183.492799 \nL 249.1189 180.446117 \nL 251.356868 176.218779 \nL 253.594836 172.635582 \nL 255.832804 168.587083 \nL 258.070772 164.720099 \nL 260.30874 161.48976 \nL 262.546708 158.446827 \nL 264.784676 155.390507 \nL 267.022644 151.707717 \nL 269.260612 147.292438 \nL 271.49858 143.395469 \nL 273.736547 138.652498 \nL 275.974515 135.217619 \nL 278.212483 132.788841 \nL 280.450451 129.923139 \nL 282.688419 126.115055 \nL 284.926387 122.540425 \nL 287.164355 118.924565 \nL 289.402323 115.534128 \nL 291.640291 112.219723 \nL 293.878259 110.231616 \nL 296.116227 107.798555 \nL 298.354195 104.394731 \nL 300.592162 100.719437 \nL 302.83013 97.670078 \nL 305.068098 94.854173 \nL 307.306066 92.073072 \nL 309.544034 90.11495 \nL 311.782002 87.937296 \nL 314.01997 84.884189 \nL 316.257938 81.341685 \nL 318.495906 78.283223 \nL 320.733874 75.428766 \nL 322.971842 73.065848 \nL 325.209809 71.246406 \nL 327.447777 69.30756 \nL 329.685745 66.302643 \nL 331.923713 63.48888 \nL 334.161681 60.693322 \nL 336.399649 57.883307 \nL 338.637617 55.679951 \nL 340.875585 53.857296 \nL 343.113553 52.09247 \nL 345.351521 49.520192 \nL 347.589489 46.933993 \nL 349.827457 44.359039 \nL 352.065424 41.515826 \nL 354.303392 39.384755 \nL 356.54136 37.861414 \nL 358.779328 37.233337 \nL 361.017296 34.973224 \nL 363.255264 32.201761 \n\" style=\"fill:none;stroke:#ff0000;stroke-linecap:square;stroke-width:1.5;\"/>\n   </g>\n   <g id=\"line2d_18\">\n    <path clip-path=\"url(#pcb53f22cdc)\" d=\"M 81.271307 229.874489 \nL 83.509275 228.092872 \nL 85.747243 226.493521 \nL 87.985211 225.067377 \nL 90.223178 223.805533 \nL 92.461146 222.699241 \nL 94.699114 221.739905 \nL 96.937082 220.919082 \nL 99.17505 220.228487 \nL 103.650986 219.205603 \nL 108.126922 218.608044 \nL 112.602858 218.375074 \nL 117.078793 218.448428 \nL 121.554729 218.772311 \nL 126.030665 219.293397 \nL 132.744569 220.334218 \nL 155.124248 224.20986 \nL 161.838152 224.977867 \nL 166.314088 225.28187 \nL 170.790023 225.385724 \nL 175.265959 225.263284 \nL 179.741895 224.890875 \nL 184.217831 224.247291 \nL 188.693767 223.313799 \nL 193.169703 222.074135 \nL 197.645638 220.514507 \nL 202.121574 218.623593 \nL 206.59751 216.392543 \nL 211.073446 213.814975 \nL 215.549382 210.886981 \nL 220.025318 207.607122 \nL 224.501253 203.976429 \nL 228.977189 199.998405 \nL 233.453125 195.679024 \nL 237.929061 191.02673 \nL 242.404997 186.052438 \nL 246.880932 180.769534 \nL 251.356868 175.193873 \nL 255.832804 169.343783 \nL 262.546708 160.100264 \nL 269.260612 150.367271 \nL 275.974515 140.237927 \nL 284.926387 126.299966 \nL 307.306066 91.167684 \nL 314.01997 81.155155 \nL 318.495906 74.77102 \nL 322.971842 68.683851 \nL 327.447777 62.951508 \nL 331.923713 57.63432 \nL 336.399649 52.795086 \nL 340.875585 48.49908 \nL 343.113553 46.57586 \nL 345.351521 44.814042 \nL 347.589489 43.222481 \nL 349.827457 41.810185 \nL 352.065424 40.586316 \nL 354.303392 39.560192 \nL 356.54136 38.741284 \nL 358.779328 38.139218 \nL 361.017296 37.763775 \nL 363.255264 37.624888 \nL 365.493232 37.732647 \nL 367.7312 38.097296 \nL 369.969168 38.729233 \nL 372.207136 39.63901 \nL 374.445104 40.837334 \nL 376.683072 42.335066 \nL 378.921039 44.143222 \nL 381.159007 46.272972 \nL 383.396975 48.735641 \nL 385.634943 51.542707 \nL 385.634943 51.542707 \n\" style=\"fill:none;stroke:#1f77b4;stroke-dasharray:5.55,2.4;stroke-dashoffset:0;stroke-width:1.5;\"/>\n   </g>\n   <g id=\"patch_3\">\n    <path d=\"M 66.053125 239.758125 \nL 66.053125 22.318125 \n\" style=\"fill:none;stroke:#000000;stroke-linecap:square;stroke-linejoin:miter;stroke-width:0.8;\"/>\n   </g>\n   <g id=\"patch_4\">\n    <path d=\"M 400.853125 239.758125 \nL 400.853125 22.318125 \n\" style=\"fill:none;stroke:#000000;stroke-linecap:square;stroke-linejoin:miter;stroke-width:0.8;\"/>\n   </g>\n   <g id=\"patch_5\">\n    <path d=\"M 66.053125 239.758125 \nL 400.853125 239.758125 \n\" style=\"fill:none;stroke:#000000;stroke-linecap:square;stroke-linejoin:miter;stroke-width:0.8;\"/>\n   </g>\n   <g id=\"patch_6\">\n    <path d=\"M 66.053125 22.318125 \nL 400.853125 22.318125 \n\" style=\"fill:none;stroke:#000000;stroke-linecap:square;stroke-linejoin:miter;stroke-width:0.8;\"/>\n   </g>\n   <g id=\"text_19\">\n    <!-- Deaths of COVID-19 -->\n    <defs>\n     <path d=\"M 64.40625 67.28125 \nL 64.40625 56.890625 \nQ 59.421875 61.53125 53.78125 63.8125 \nQ 48.140625 66.109375 41.796875 66.109375 \nQ 29.296875 66.109375 22.65625 58.46875 \nQ 16.015625 50.828125 16.015625 36.375 \nQ 16.015625 21.96875 22.65625 14.328125 \nQ 29.296875 6.6875 41.796875 6.6875 \nQ 48.140625 6.6875 53.78125 8.984375 \nQ 59.421875 11.28125 64.40625 15.921875 \nL 64.40625 5.609375 \nQ 59.234375 2.09375 53.4375 0.328125 \nQ 47.65625 -1.421875 41.21875 -1.421875 \nQ 24.65625 -1.421875 15.125 8.703125 \nQ 5.609375 18.84375 5.609375 36.375 \nQ 5.609375 53.953125 15.125 64.078125 \nQ 24.65625 74.21875 41.21875 74.21875 \nQ 47.75 74.21875 53.53125 72.484375 \nQ 59.328125 70.75 64.40625 67.28125 \nz\n\" id=\"DejaVuSans-67\"/>\n     <path d=\"M 39.40625 66.21875 \nQ 28.65625 66.21875 22.328125 58.203125 \nQ 16.015625 50.203125 16.015625 36.375 \nQ 16.015625 22.609375 22.328125 14.59375 \nQ 28.65625 6.59375 39.40625 6.59375 \nQ 50.140625 6.59375 56.421875 14.59375 \nQ 62.703125 22.609375 62.703125 36.375 \nQ 62.703125 50.203125 56.421875 58.203125 \nQ 50.140625 66.21875 39.40625 66.21875 \nz\nM 39.40625 74.21875 \nQ 54.734375 74.21875 63.90625 63.9375 \nQ 73.09375 53.65625 73.09375 36.375 \nQ 73.09375 19.140625 63.90625 8.859375 \nQ 54.734375 -1.421875 39.40625 -1.421875 \nQ 24.03125 -1.421875 14.8125 8.828125 \nQ 5.609375 19.09375 5.609375 36.375 \nQ 5.609375 53.65625 14.8125 63.9375 \nQ 24.03125 74.21875 39.40625 74.21875 \nz\n\" id=\"DejaVuSans-79\"/>\n     <path d=\"M 28.609375 0 \nL 0.78125 72.90625 \nL 11.078125 72.90625 \nL 34.1875 11.53125 \nL 57.328125 72.90625 \nL 67.578125 72.90625 \nL 39.796875 0 \nz\n\" id=\"DejaVuSans-86\"/>\n     <path d=\"M 9.8125 72.90625 \nL 19.671875 72.90625 \nL 19.671875 0 \nL 9.8125 0 \nz\n\" id=\"DejaVuSans-73\"/>\n     <path d=\"M 4.890625 31.390625 \nL 31.203125 31.390625 \nL 31.203125 23.390625 \nL 4.890625 23.390625 \nz\n\" id=\"DejaVuSans-45\"/>\n     <path d=\"M 10.984375 1.515625 \nL 10.984375 10.5 \nQ 14.703125 8.734375 18.5 7.8125 \nQ 22.3125 6.890625 25.984375 6.890625 \nQ 35.75 6.890625 40.890625 13.453125 \nQ 46.046875 20.015625 46.78125 33.40625 \nQ 43.953125 29.203125 39.59375 26.953125 \nQ 35.25 24.703125 29.984375 24.703125 \nQ 19.046875 24.703125 12.671875 31.3125 \nQ 6.296875 37.9375 6.296875 49.421875 \nQ 6.296875 60.640625 12.9375 67.421875 \nQ 19.578125 74.21875 30.609375 74.21875 \nQ 43.265625 74.21875 49.921875 64.515625 \nQ 56.59375 54.828125 56.59375 36.375 \nQ 56.59375 19.140625 48.40625 8.859375 \nQ 40.234375 -1.421875 26.421875 -1.421875 \nQ 22.703125 -1.421875 18.890625 -0.6875 \nQ 15.09375 0.046875 10.984375 1.515625 \nz\nM 30.609375 32.421875 \nQ 37.25 32.421875 41.125 36.953125 \nQ 45.015625 41.5 45.015625 49.421875 \nQ 45.015625 57.28125 41.125 61.84375 \nQ 37.25 66.40625 30.609375 66.40625 \nQ 23.96875 66.40625 20.09375 61.84375 \nQ 16.21875 57.28125 16.21875 49.421875 \nQ 16.21875 41.5 20.09375 36.953125 \nQ 23.96875 32.421875 30.609375 32.421875 \nz\n\" id=\"DejaVuSans-57\"/>\n    </defs>\n    <g transform=\"translate(173.485 16.318125)scale(0.12 -0.12)\">\n     <use xlink:href=\"#DejaVuSans-68\"/>\n     <use x=\"77.001953\" xlink:href=\"#DejaVuSans-101\"/>\n     <use x=\"138.525391\" xlink:href=\"#DejaVuSans-97\"/>\n     <use x=\"199.804688\" xlink:href=\"#DejaVuSans-116\"/>\n     <use x=\"239.013672\" xlink:href=\"#DejaVuSans-104\"/>\n     <use x=\"302.392578\" xlink:href=\"#DejaVuSans-115\"/>\n     <use x=\"354.492188\" xlink:href=\"#DejaVuSans-32\"/>\n     <use x=\"386.279297\" xlink:href=\"#DejaVuSans-111\"/>\n     <use x=\"447.460938\" xlink:href=\"#DejaVuSans-102\"/>\n     <use x=\"482.666016\" xlink:href=\"#DejaVuSans-32\"/>\n     <use x=\"514.453125\" xlink:href=\"#DejaVuSans-67\"/>\n     <use x=\"584.277344\" xlink:href=\"#DejaVuSans-79\"/>\n     <use x=\"661.238281\" xlink:href=\"#DejaVuSans-86\"/>\n     <use x=\"729.646484\" xlink:href=\"#DejaVuSans-73\"/>\n     <use x=\"759.138672\" xlink:href=\"#DejaVuSans-68\"/>\n     <use x=\"836.140625\" xlink:href=\"#DejaVuSans-45\"/>\n     <use x=\"872.224609\" xlink:href=\"#DejaVuSans-49\"/>\n     <use x=\"935.847656\" xlink:href=\"#DejaVuSans-57\"/>\n    </g>\n   </g>\n   <g id=\"legend_1\">\n    <g id=\"patch_7\">\n     <path d=\"M 73.053125 59.674375 \nL 166.66875 59.674375 \nQ 168.66875 59.674375 168.66875 57.674375 \nL 168.66875 29.318125 \nQ 168.66875 27.318125 166.66875 27.318125 \nL 73.053125 27.318125 \nQ 71.053125 27.318125 71.053125 29.318125 \nL 71.053125 57.674375 \nQ 71.053125 59.674375 73.053125 59.674375 \nz\n\" style=\"fill:#ffffff;opacity:0.8;stroke:#cccccc;stroke-linejoin:miter;\"/>\n    </g>\n    <g id=\"line2d_19\">\n     <path d=\"M 75.053125 35.416562 \nL 95.053125 35.416562 \n\" style=\"fill:none;stroke:#ff0000;stroke-linecap:square;stroke-width:1.5;\"/>\n    </g>\n    <g id=\"line2d_20\"/>\n    <g id=\"text_20\">\n     <!-- Death cases -->\n     <g transform=\"translate(103.053125 38.916562)scale(0.1 -0.1)\">\n      <use xlink:href=\"#DejaVuSans-68\"/>\n      <use x=\"77.001953\" xlink:href=\"#DejaVuSans-101\"/>\n      <use x=\"138.525391\" xlink:href=\"#DejaVuSans-97\"/>\n      <use x=\"199.804688\" xlink:href=\"#DejaVuSans-116\"/>\n      <use x=\"239.013672\" xlink:href=\"#DejaVuSans-104\"/>\n      <use x=\"302.392578\" xlink:href=\"#DejaVuSans-32\"/>\n      <use x=\"334.179688\" xlink:href=\"#DejaVuSans-99\"/>\n      <use x=\"389.160156\" xlink:href=\"#DejaVuSans-97\"/>\n      <use x=\"450.439453\" xlink:href=\"#DejaVuSans-115\"/>\n      <use x=\"502.539062\" xlink:href=\"#DejaVuSans-101\"/>\n      <use x=\"564.0625\" xlink:href=\"#DejaVuSans-115\"/>\n     </g>\n    </g>\n    <g id=\"line2d_21\">\n     <path d=\"M 75.053125 50.094687 \nL 95.053125 50.094687 \n\" style=\"fill:none;stroke:#1f77b4;stroke-dasharray:5.55,2.4;stroke-dashoffset:0;stroke-width:1.5;\"/>\n    </g>\n    <g id=\"line2d_22\"/>\n    <g id=\"text_21\">\n     <!-- Predictions -->\n     <defs>\n      <path d=\"M 19.671875 64.796875 \nL 19.671875 37.40625 \nL 32.078125 37.40625 \nQ 38.96875 37.40625 42.71875 40.96875 \nQ 46.484375 44.53125 46.484375 51.125 \nQ 46.484375 57.671875 42.71875 61.234375 \nQ 38.96875 64.796875 32.078125 64.796875 \nz\nM 9.8125 72.90625 \nL 32.078125 72.90625 \nQ 44.34375 72.90625 50.609375 67.359375 \nQ 56.890625 61.8125 56.890625 51.125 \nQ 56.890625 40.328125 50.609375 34.8125 \nQ 44.34375 29.296875 32.078125 29.296875 \nL 19.671875 29.296875 \nL 19.671875 0 \nL 9.8125 0 \nz\n\" id=\"DejaVuSans-80\"/>\n     </defs>\n     <g transform=\"translate(103.053125 53.594687)scale(0.1 -0.1)\">\n      <use xlink:href=\"#DejaVuSans-80\"/>\n      <use x=\"58.552734\" xlink:href=\"#DejaVuSans-114\"/>\n      <use x=\"97.416016\" xlink:href=\"#DejaVuSans-101\"/>\n      <use x=\"158.939453\" xlink:href=\"#DejaVuSans-100\"/>\n      <use x=\"222.416016\" xlink:href=\"#DejaVuSans-105\"/>\n      <use x=\"250.199219\" xlink:href=\"#DejaVuSans-99\"/>\n      <use x=\"305.179688\" xlink:href=\"#DejaVuSans-116\"/>\n      <use x=\"344.388672\" xlink:href=\"#DejaVuSans-105\"/>\n      <use x=\"372.171875\" xlink:href=\"#DejaVuSans-111\"/>\n      <use x=\"433.353516\" xlink:href=\"#DejaVuSans-110\"/>\n      <use x=\"496.732422\" xlink:href=\"#DejaVuSans-115\"/>\n     </g>\n    </g>\n   </g>\n  </g>\n </g>\n <defs>\n  <clipPath id=\"pcb53f22cdc\">\n   <rect height=\"217.44\" width=\"334.8\" x=\"66.053125\" y=\"22.318125\"/>\n  </clipPath>\n </defs>\n</svg>\n"
          },
          "metadata": {
            "tags": [],
            "needs_background": "light"
          }
        }
      ]
    }
  ]
}